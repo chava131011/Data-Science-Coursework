{
 "cells": [
  {
   "cell_type": "markdown",
   "metadata": {},
   "source": [
    "<!--Información del curso-->\n",
    "<img align=\"left\" style=\"padding-right:10px;\" src=\"figuras/logo_ciencia_datos.png\">"
   ]
  },
  {
   "cell_type": "markdown",
   "metadata": {},
   "source": [
    " \n",
    "<center><h2 style=\"font-size:2em;color:#840700\">   Caso de estudio: Ventas </h4></center>\n",
    "\n",
    "<br>\n",
    "<table>\n",
    "<col width=\"550\">\n",
    "<col width=\"450\">\n",
    "<tr>\n",
    "<td><img src=\"figuras/ventas.jpg\" align=\"left\" style=\"width:400px\"/></td>\n",
    "<td>\n",
    "\n",
    "* **Wes McKinney**, empezó a desarrollar Pandas en el año 2008 mientras trabajaba en *AQR Capital* [https://www.aqr.com/] por la necesidad que tenía de una herramienta flexible de alto rendimiento para realizar análisis cuantitativos en datos financieros. \n",
    "* Antes de dejar AQR convenció a la administración de la empresa de distribuir esta biblioteca bajo licencia de código abierto.\n",
    "* **Pandas** es un acrónimo de **PANel DAta analysiS**\n",
    "   \n",
    "    \n",
    "<br>\n",
    "</td>\n",
    "</tr>\n",
    "</table>"
   ]
  },
  {
   "cell_type": "markdown",
   "metadata": {},
   "source": [
    "## Integrantes\n",
    "\n",
    "Nombre 1:\n",
    "\n",
    "Nombre 2:\n",
    "\n",
    "Nombre 3:\n",
    "\n",
    "Nombre 4:\n",
    "\n"
   ]
  },
  {
   "cell_type": "code",
   "execution_count": 269,
   "metadata": {},
   "outputs": [],
   "source": [
    "import pandas as pd\n",
    "import numpy as np\n",
    "import matplotlib.pyplot as plt\n",
    "import glob\n"
   ]
  },
  {
   "cell_type": "code",
   "execution_count": 270,
   "metadata": {},
   "outputs": [
    {
     "data": {
      "application/vnd.microsoft.datawrangler.viewer.v0+json": {
       "columns": [
        {
         "name": "index",
         "rawType": "int64",
         "type": "integer"
        },
        {
         "name": "Order ID",
         "rawType": "object",
         "type": "string"
        },
        {
         "name": "Product",
         "rawType": "object",
         "type": "string"
        },
        {
         "name": "Quantity Ordered",
         "rawType": "object",
         "type": "string"
        },
        {
         "name": "Price Each",
         "rawType": "object",
         "type": "string"
        },
        {
         "name": "Order Date",
         "rawType": "object",
         "type": "string"
        },
        {
         "name": "Purchase Address",
         "rawType": "object",
         "type": "string"
        }
       ],
       "ref": "884f3a1c-5db9-46fe-a9e0-edba9f9ad352",
       "rows": [
        [
         "0",
         "176558",
         "USB-C Charging Cable",
         "2",
         "11.95",
         "04/19/19 08:46",
         "917 1st St, Dallas, TX 75001"
        ],
        [
         "1",
         "176559",
         "Bose SoundSport Headphones",
         "1",
         "99.99",
         "04/07/19 22:30",
         "682 Chestnut St, Boston, MA 02215"
        ],
        [
         "2",
         "176560",
         "Google Phone",
         "1",
         "600",
         "04/12/19 14:38",
         "669 Spruce St, Los Angeles, CA 90001"
        ],
        [
         "3",
         "176560",
         "Wired Headphones",
         "1",
         "11.99",
         "04/12/19 14:38",
         "669 Spruce St, Los Angeles, CA 90001"
        ],
        [
         "4",
         "176561",
         "Wired Headphones",
         "1",
         "11.99",
         "04/30/19 09:27",
         "333 8th St, Los Angeles, CA 90001"
        ],
        [
         "5",
         "176562",
         "USB-C Charging Cable",
         "1",
         "11.95",
         "04/29/19 13:03",
         "381 Wilson St, San Francisco, CA 94016"
        ],
        [
         "6",
         "176563",
         "Bose SoundSport Headphones",
         "1",
         "99.99",
         "04/02/19 07:46",
         "668 Center St, Seattle, WA 98101"
        ],
        [
         "7",
         "176564",
         "USB-C Charging Cable",
         "1",
         "11.95",
         "04/12/19 10:58",
         "790 Ridge St, Atlanta, GA 30301"
        ],
        [
         "8",
         "176565",
         "Macbook Pro Laptop",
         "1",
         "1700",
         "04/24/19 10:38",
         "915 Willow St, San Francisco, CA 94016"
        ],
        [
         "9",
         "176566",
         "Wired Headphones",
         "1",
         "11.99",
         "04/08/19 14:05",
         "83 7th St, Boston, MA 02215"
        ],
        [
         "10",
         "176567",
         "Google Phone",
         "1",
         "600",
         "04/18/19 17:18",
         "444 7th St, Los Angeles, CA 90001"
        ],
        [
         "11",
         "176568",
         "Lightning Charging Cable",
         "1",
         "14.95",
         "04/15/19 12:18",
         "438 Elm St, Seattle, WA 98101"
        ],
        [
         "12",
         "176569",
         "27in 4K Gaming Monitor",
         "1",
         "389.99",
         "04/16/19 19:23",
         "657 Hill St, Dallas, TX 75001"
        ],
        [
         "13",
         "176570",
         "AA Batteries (4-pack)",
         "1",
         "3.84",
         "04/22/19 15:09",
         "186 12th St, Dallas, TX 75001"
        ],
        [
         "14",
         "176571",
         "Lightning Charging Cable",
         "1",
         "14.95",
         "04/19/19 14:29",
         "253 Johnson St, Atlanta, GA 30301"
        ],
        [
         "15",
         "176572",
         "Apple Airpods Headphones",
         "1",
         "150",
         "04/04/19 20:30",
         "149 Dogwood St, New York City, NY 10001"
        ],
        [
         "16",
         "176573",
         "USB-C Charging Cable",
         "1",
         "11.95",
         "04/27/19 18:41",
         "214 Chestnut St, San Francisco, CA 94016"
        ],
        [
         "17",
         "176574",
         "Google Phone",
         "1",
         "600",
         "04/03/19 19:42",
         "20 Hill St, Los Angeles, CA 90001"
        ],
        [
         "18",
         "176574",
         "USB-C Charging Cable",
         "1",
         "11.95",
         "04/03/19 19:42",
         "20 Hill St, Los Angeles, CA 90001"
        ],
        [
         "19",
         "176575",
         "AAA Batteries (4-pack)",
         "1",
         "2.99",
         "04/27/19 00:30",
         "433 Hill St, New York City, NY 10001"
        ],
        [
         "20",
         "176576",
         "Apple Airpods Headphones",
         "1",
         "150",
         "04/28/19 11:42",
         "771 Ridge St, Los Angeles, CA 90001"
        ],
        [
         "21",
         "176577",
         "Apple Airpods Headphones",
         "1",
         "150",
         "04/04/19 19:25",
         "260 Spruce St, Dallas, TX 75001"
        ],
        [
         "22",
         "176578",
         "Apple Airpods Headphones",
         "1",
         "150",
         "04/09/19 23:35",
         "513 Church St, Boston, MA 02215"
        ],
        [
         "23",
         "176579",
         "AA Batteries (4-pack)",
         "1",
         "3.84",
         "04/11/19 10:23",
         "886 Jefferson St, New York City, NY 10001"
        ],
        [
         "24",
         "176580",
         "USB-C Charging Cable",
         "1",
         "11.95",
         "04/05/19 00:35",
         "886 Willow St, Los Angeles, CA 90001"
        ],
        [
         "25",
         "176581",
         "iPhone",
         "1",
         "700",
         "04/09/19 21:38",
         "84 Jackson St, Boston, MA 02215"
        ],
        [
         "26",
         "176582",
         "Bose SoundSport Headphones",
         "1",
         "99.99",
         "04/27/19 12:20",
         "178 Lincoln St, Atlanta, GA 30301"
        ],
        [
         "27",
         "176583",
         "AAA Batteries (4-pack)",
         "2",
         "2.99",
         "04/20/19 12:00",
         "146 Jackson St, Portland, OR 97035"
        ],
        [
         "28",
         "176584",
         "Flatscreen TV",
         "1",
         "300",
         "04/24/19 20:39",
         "936 Church St, San Francisco, CA 94016"
        ],
        [
         "29",
         "176585",
         "Bose SoundSport Headphones",
         "1",
         "99.99",
         "04/07/19 11:31",
         "823 Highland St, Boston, MA 02215"
        ],
        [
         "30",
         "176585",
         "Bose SoundSport Headphones",
         "1",
         "99.99",
         "04/07/19 11:31",
         "823 Highland St, Boston, MA 02215"
        ],
        [
         "31",
         "176586",
         "AAA Batteries (4-pack)",
         "2",
         "2.99",
         "04/10/19 17:00",
         "365 Center St, San Francisco, CA 94016"
        ],
        [
         "32",
         "176586",
         "Google Phone",
         "1",
         "600",
         "04/10/19 17:00",
         "365 Center St, San Francisco, CA 94016"
        ],
        [
         "33",
         "176587",
         "27in FHD Monitor",
         "1",
         "149.99",
         "04/29/19 19:38",
         "557 5th St, Los Angeles, CA 90001"
        ],
        [
         "34",
         "176588",
         "20in Monitor",
         "1",
         "109.99",
         "04/02/19 04:00",
         "765 Cherry St, Seattle, WA 98101"
        ],
        [
         "35",
         "176589",
         "Lightning Charging Cable",
         "1",
         "14.95",
         "04/04/19 12:23",
         "846 Highland St, Atlanta, GA 30301"
        ],
        [
         "36",
         "176590",
         "Google Phone",
         "1",
         "600",
         "04/11/19 11:46",
         "873 6th St, New York City, NY 10001"
        ],
        [
         "37",
         "176591",
         "Apple Airpods Headphones",
         "1",
         "150",
         "04/21/19 07:21",
         "600 Maple St, Austin, TX 73301"
        ],
        [
         "38",
         "176592",
         "USB-C Charging Cable",
         "1",
         "11.95",
         "04/27/19 13:04",
         "352 4th St, Los Angeles, CA 90001"
        ],
        [
         "39",
         "176593",
         "Lightning Charging Cable",
         "2",
         "14.95",
         "04/15/19 13:45",
         "906 7th St, Portland, OR 97035"
        ],
        [
         "40",
         "176594",
         "Wired Headphones",
         "1",
         "11.99",
         "04/17/19 23:04",
         "63 Maple St, San Francisco, CA 94016"
        ],
        [
         "41",
         "176595",
         "Wired Headphones",
         "3",
         "11.99",
         "04/02/19 09:11",
         "383 6th St, Los Angeles, CA 90001"
        ],
        [
         "42",
         "176596",
         "Apple Airpods Headphones",
         "1",
         "150",
         "04/27/19 20:11",
         "572 Meadow St, Dallas, TX 75001"
        ],
        [
         "43",
         "176597",
         "USB-C Charging Cable",
         "1",
         "11.95",
         "04/19/19 13:39",
         "681 11th St, San Francisco, CA 94016"
        ],
        [
         "44",
         "176598",
         "AAA Batteries (4-pack)",
         "2",
         "2.99",
         "04/21/19 20:33",
         "294 Park St, San Francisco, CA 94016"
        ],
        [
         "45",
         "176599",
         "Lightning Charging Cable",
         "1",
         "14.95",
         "04/11/19 15:25",
         "279 Maple St, New York City, NY 10001"
        ],
        [
         "46",
         "176600",
         "27in 4K Gaming Monitor",
         "1",
         "389.99",
         "04/30/19 15:54",
         "87 West St, Boston, MA 02215"
        ],
        [
         "47",
         "176601",
         "USB-C Charging Cable",
         "1",
         "11.95",
         "04/02/19 22:32",
         "754 10th St, Los Angeles, CA 90001"
        ],
        [
         "48",
         "176602",
         "Lightning Charging Cable",
         "1",
         "14.95",
         "04/30/19 09:39",
         "9 Jefferson St, Dallas, TX 75001"
        ],
        [
         "49",
         "176603",
         "USB-C Charging Cable",
         "1",
         "11.95",
         "04/01/19 07:46",
         "858 6th St, San Francisco, CA 94016"
        ]
       ],
       "shape": {
        "columns": 6,
        "rows": 185950
       }
      },
      "text/html": [
       "<div>\n",
       "<style scoped>\n",
       "    .dataframe tbody tr th:only-of-type {\n",
       "        vertical-align: middle;\n",
       "    }\n",
       "\n",
       "    .dataframe tbody tr th {\n",
       "        vertical-align: top;\n",
       "    }\n",
       "\n",
       "    .dataframe thead th {\n",
       "        text-align: right;\n",
       "    }\n",
       "</style>\n",
       "<table border=\"1\" class=\"dataframe\">\n",
       "  <thead>\n",
       "    <tr style=\"text-align: right;\">\n",
       "      <th></th>\n",
       "      <th>Order ID</th>\n",
       "      <th>Product</th>\n",
       "      <th>Quantity Ordered</th>\n",
       "      <th>Price Each</th>\n",
       "      <th>Order Date</th>\n",
       "      <th>Purchase Address</th>\n",
       "    </tr>\n",
       "  </thead>\n",
       "  <tbody>\n",
       "    <tr>\n",
       "      <th>0</th>\n",
       "      <td>176558</td>\n",
       "      <td>USB-C Charging Cable</td>\n",
       "      <td>2</td>\n",
       "      <td>11.95</td>\n",
       "      <td>04/19/19 08:46</td>\n",
       "      <td>917 1st St, Dallas, TX 75001</td>\n",
       "    </tr>\n",
       "    <tr>\n",
       "      <th>1</th>\n",
       "      <td>176559</td>\n",
       "      <td>Bose SoundSport Headphones</td>\n",
       "      <td>1</td>\n",
       "      <td>99.99</td>\n",
       "      <td>04/07/19 22:30</td>\n",
       "      <td>682 Chestnut St, Boston, MA 02215</td>\n",
       "    </tr>\n",
       "    <tr>\n",
       "      <th>2</th>\n",
       "      <td>176560</td>\n",
       "      <td>Google Phone</td>\n",
       "      <td>1</td>\n",
       "      <td>600</td>\n",
       "      <td>04/12/19 14:38</td>\n",
       "      <td>669 Spruce St, Los Angeles, CA 90001</td>\n",
       "    </tr>\n",
       "    <tr>\n",
       "      <th>3</th>\n",
       "      <td>176560</td>\n",
       "      <td>Wired Headphones</td>\n",
       "      <td>1</td>\n",
       "      <td>11.99</td>\n",
       "      <td>04/12/19 14:38</td>\n",
       "      <td>669 Spruce St, Los Angeles, CA 90001</td>\n",
       "    </tr>\n",
       "    <tr>\n",
       "      <th>4</th>\n",
       "      <td>176561</td>\n",
       "      <td>Wired Headphones</td>\n",
       "      <td>1</td>\n",
       "      <td>11.99</td>\n",
       "      <td>04/30/19 09:27</td>\n",
       "      <td>333 8th St, Los Angeles, CA 90001</td>\n",
       "    </tr>\n",
       "    <tr>\n",
       "      <th>...</th>\n",
       "      <td>...</td>\n",
       "      <td>...</td>\n",
       "      <td>...</td>\n",
       "      <td>...</td>\n",
       "      <td>...</td>\n",
       "      <td>...</td>\n",
       "    </tr>\n",
       "    <tr>\n",
       "      <th>185945</th>\n",
       "      <td>259353</td>\n",
       "      <td>AAA Batteries (4-pack)</td>\n",
       "      <td>3</td>\n",
       "      <td>2.99</td>\n",
       "      <td>09/17/19 20:56</td>\n",
       "      <td>840 Highland St, Los Angeles, CA 90001</td>\n",
       "    </tr>\n",
       "    <tr>\n",
       "      <th>185946</th>\n",
       "      <td>259354</td>\n",
       "      <td>iPhone</td>\n",
       "      <td>1</td>\n",
       "      <td>700</td>\n",
       "      <td>09/01/19 16:00</td>\n",
       "      <td>216 Dogwood St, San Francisco, CA 94016</td>\n",
       "    </tr>\n",
       "    <tr>\n",
       "      <th>185947</th>\n",
       "      <td>259355</td>\n",
       "      <td>iPhone</td>\n",
       "      <td>1</td>\n",
       "      <td>700</td>\n",
       "      <td>09/23/19 07:39</td>\n",
       "      <td>220 12th St, San Francisco, CA 94016</td>\n",
       "    </tr>\n",
       "    <tr>\n",
       "      <th>185948</th>\n",
       "      <td>259356</td>\n",
       "      <td>34in Ultrawide Monitor</td>\n",
       "      <td>1</td>\n",
       "      <td>379.99</td>\n",
       "      <td>09/19/19 17:30</td>\n",
       "      <td>511 Forest St, San Francisco, CA 94016</td>\n",
       "    </tr>\n",
       "    <tr>\n",
       "      <th>185949</th>\n",
       "      <td>259357</td>\n",
       "      <td>USB-C Charging Cable</td>\n",
       "      <td>1</td>\n",
       "      <td>11.95</td>\n",
       "      <td>09/30/19 00:18</td>\n",
       "      <td>250 Meadow St, San Francisco, CA 94016</td>\n",
       "    </tr>\n",
       "  </tbody>\n",
       "</table>\n",
       "<p>185950 rows × 6 columns</p>\n",
       "</div>"
      ],
      "text/plain": [
       "       Order ID                     Product Quantity Ordered Price Each  \\\n",
       "0        176558        USB-C Charging Cable                2      11.95   \n",
       "1        176559  Bose SoundSport Headphones                1      99.99   \n",
       "2        176560                Google Phone                1        600   \n",
       "3        176560            Wired Headphones                1      11.99   \n",
       "4        176561            Wired Headphones                1      11.99   \n",
       "...         ...                         ...              ...        ...   \n",
       "185945   259353      AAA Batteries (4-pack)                3       2.99   \n",
       "185946   259354                      iPhone                1        700   \n",
       "185947   259355                      iPhone                1        700   \n",
       "185948   259356      34in Ultrawide Monitor                1     379.99   \n",
       "185949   259357        USB-C Charging Cable                1      11.95   \n",
       "\n",
       "            Order Date                         Purchase Address  \n",
       "0       04/19/19 08:46             917 1st St, Dallas, TX 75001  \n",
       "1       04/07/19 22:30        682 Chestnut St, Boston, MA 02215  \n",
       "2       04/12/19 14:38     669 Spruce St, Los Angeles, CA 90001  \n",
       "3       04/12/19 14:38     669 Spruce St, Los Angeles, CA 90001  \n",
       "4       04/30/19 09:27        333 8th St, Los Angeles, CA 90001  \n",
       "...                ...                                      ...  \n",
       "185945  09/17/19 20:56   840 Highland St, Los Angeles, CA 90001  \n",
       "185946  09/01/19 16:00  216 Dogwood St, San Francisco, CA 94016  \n",
       "185947  09/23/19 07:39     220 12th St, San Francisco, CA 94016  \n",
       "185948  09/19/19 17:30   511 Forest St, San Francisco, CA 94016  \n",
       "185949  09/30/19 00:18   250 Meadow St, San Francisco, CA 94016  \n",
       "\n",
       "[185950 rows x 6 columns]"
      ]
     },
     "execution_count": 270,
     "metadata": {},
     "output_type": "execute_result"
    }
   ],
   "source": [
    "files = glob.glob('datos/Ventas/*.txt')\n",
    "df =  pd.concat((pd.read_csv(file) for file in files))\n",
    "df = df[pd.to_numeric(df['Order ID'], errors='coerce').notna()]\n",
    "df = df.reset_index(drop=True)\n",
    "df"
   ]
  },
  {
   "cell_type": "markdown",
   "metadata": {},
   "source": [
    "### Ejercicio\n",
    "\n",
    "Utilzar los archivos \"datos/ventas/*.txt\" para contestar las siguientes preguntas. A continuación propuestas para obtener el dataframe:\n",
    "\n",
    "1.\n",
    "```python\n",
    "files = glob.glob('datos/Ventas/*.txt')\n",
    "df =  pd.concat((pd.read_csv(file) for file in files))\n",
    "df=df.dropna(axis='rows',how='any')\n",
    "df=df[df['Quantity Ordered']!='Quantity Ordered'] \n",
    "df = df.reset_index(drop=True)\n",
    "```\n",
    "\n",
    "2.\n",
    "```python\n",
    "files = glob.glob('datos/Ventas/*.txt')\n",
    "df =  pd.concat((pd.read_csv(file) for file in files))\n",
    "df = df[pd.to_numeric(df['Order ID'], errors='coerce').notna()]\n",
    "df = df.reset_index(drop=True)\n",
    "```\n",
    "\n",
    "\n"
   ]
  },
  {
   "cell_type": "markdown",
   "metadata": {},
   "source": [
    "<div class=\"alert alert-success\">\n",
    "    \n",
    "0. Explicar que hace el código de arriba\n",
    "    \n",
    "</div> "
   ]
  },
  {
   "cell_type": "code",
   "execution_count": null,
   "metadata": {},
   "outputs": [],
   "source": []
  },
  {
   "cell_type": "markdown",
   "metadata": {},
   "source": [
    "<div class=\"alert alert-success\">\n",
    "    \n",
    "1. Encuentre el número de productos que se adquirieron en Los Angeles, CA\n",
    "    \n",
    "</div> "
   ]
  },
  {
   "cell_type": "code",
   "execution_count": 271,
   "metadata": {},
   "outputs": [
    {
     "data": {
      "text/plain": [
       "np.int64(33289)"
      ]
     },
     "execution_count": 271,
     "metadata": {},
     "output_type": "execute_result"
    }
   ],
   "source": [
    "df_losangeles = df[df['Purchase Address'].str.contains('Los Angeles')]\n",
    "\n",
    "df_losangeles['Quantity Ordered'].astype(int).sum()"
   ]
  },
  {
   "cell_type": "markdown",
   "metadata": {},
   "source": [
    "<div class=\"alert alert-success\">\n",
    "    \n",
    "2. ¿Cuántos iPhone se vendieron?\n",
    "\n",
    "    \n",
    "</div> "
   ]
  },
  {
   "cell_type": "code",
   "execution_count": 272,
   "metadata": {},
   "outputs": [
    {
     "data": {
      "text/plain": [
       "np.int64(6849)"
      ]
     },
     "execution_count": 272,
     "metadata": {},
     "output_type": "execute_result"
    }
   ],
   "source": [
    "df[df['Product'].str.contains('iPhone')]['Quantity Ordered'].astype(int).sum()"
   ]
  },
  {
   "cell_type": "markdown",
   "metadata": {},
   "source": [
    "<div class=\"alert alert-success\">\n",
    "    \n",
    "3. ¿Cuánto fue su ganancia por venta de baterías? \n",
    "    \n",
    "</div> "
   ]
  },
  {
   "cell_type": "code",
   "execution_count": 273,
   "metadata": {},
   "outputs": [
    {
     "data": {
      "text/plain": [
       "np.float64(198859.23)"
      ]
     },
     "execution_count": 273,
     "metadata": {},
     "output_type": "execute_result"
    }
   ],
   "source": [
    "batteries_sell = df[df['Product'].str.contains('Batteries')]\n",
    "\n",
    "(batteries_sell['Quantity Ordered'].astype(int) * batteries_sell['Price Each'].astype(float)).sum()"
   ]
  },
  {
   "cell_type": "markdown",
   "metadata": {},
   "source": [
    "<div class=\"alert alert-success\">\n",
    "    \n",
    "4. ¿Cuál fue el código postal que más ordenes realizó?\n",
    "\n",
    "    \n",
    "</div> "
   ]
  },
  {
   "cell_type": "code",
   "execution_count": 274,
   "metadata": {},
   "outputs": [
    {
     "data": {
      "text/plain": [
       "'94016'"
      ]
     },
     "execution_count": 274,
     "metadata": {},
     "output_type": "execute_result"
    }
   ],
   "source": [
    "df['CP'] = df['Purchase Address'].str.split(' ').str[-1]\n",
    "df['CP'].value_counts().idxmax()"
   ]
  },
  {
   "cell_type": "markdown",
   "metadata": {},
   "source": [
    "<div class=\"alert alert-success\">\n",
    "    \n",
    "5.  a) ¿Cuál fue el producto con más ganancias?\n",
    "    \n",
    "    b) ¿Cuál fue el producto con más unidades vendidas?\n",
    "\n",
    "    \n",
    "</div> "
   ]
  },
  {
   "cell_type": "code",
   "execution_count": 275,
   "metadata": {},
   "outputs": [
    {
     "data": {
      "text/plain": [
       "'Macbook Pro Laptop'"
      ]
     },
     "execution_count": 275,
     "metadata": {},
     "output_type": "execute_result"
    }
   ],
   "source": [
    "df['Ganancia'] = df['Quantity Ordered'].astype(int) * df['Price Each'].astype(float)\n",
    "df.groupby('Product')['Ganancia'].sum().idxmax()"
   ]
  },
  {
   "cell_type": "code",
   "execution_count": 276,
   "metadata": {},
   "outputs": [
    {
     "data": {
      "text/plain": [
       "'AAA Batteries (4-pack)'"
      ]
     },
     "execution_count": 276,
     "metadata": {},
     "output_type": "execute_result"
    }
   ],
   "source": [
    "df['Quantity Ordered'] = df['Quantity Ordered'].astype(int)\n",
    "\n",
    "df.groupby('Product')['Quantity Ordered'].sum().idxmax()"
   ]
  },
  {
   "cell_type": "markdown",
   "metadata": {},
   "source": [
    "<div class=\"alert alert-success\">\n",
    "    \n",
    "6. ¿Cuales son los 5 productos más vendidos?     \n",
    "</div> "
   ]
  },
  {
   "cell_type": "code",
   "execution_count": 277,
   "metadata": {},
   "outputs": [
    {
     "data": {
      "application/vnd.microsoft.datawrangler.viewer.v0+json": {
       "columns": [
        {
         "name": "Product",
         "rawType": "object",
         "type": "string"
        },
        {
         "name": "Quantity Ordered",
         "rawType": "int64",
         "type": "integer"
        }
       ],
       "ref": "9e5fd532-7b14-4292-9ced-4d932e5fe86f",
       "rows": [
        [
         "AAA Batteries (4-pack)",
         "31017"
        ],
        [
         "AA Batteries (4-pack)",
         "27635"
        ],
        [
         "USB-C Charging Cable",
         "23975"
        ],
        [
         "Lightning Charging Cable",
         "23217"
        ],
        [
         "Wired Headphones",
         "20557"
        ],
        [
         "Apple Airpods Headphones",
         "15661"
        ]
       ],
       "shape": {
        "columns": 1,
        "rows": 6
       }
      },
      "text/plain": [
       "Product\n",
       "AAA Batteries (4-pack)      31017\n",
       "AA Batteries (4-pack)       27635\n",
       "USB-C Charging Cable        23975\n",
       "Lightning Charging Cable    23217\n",
       "Wired Headphones            20557\n",
       "Apple Airpods Headphones    15661\n",
       "Name: Quantity Ordered, dtype: int64"
      ]
     },
     "execution_count": 277,
     "metadata": {},
     "output_type": "execute_result"
    }
   ],
   "source": [
    "df.groupby('Product')['Quantity Ordered'].sum().sort_values(ascending=False)[:6]"
   ]
  },
  {
   "cell_type": "markdown",
   "metadata": {},
   "source": [
    "<div class=\"alert alert-success\">\n",
    "    \n",
    "7.  ¿Cuales son los 5 productos con las ganancias más altas?\n",
    "\n",
    "    \n",
    "</div> "
   ]
  },
  {
   "cell_type": "code",
   "execution_count": 278,
   "metadata": {},
   "outputs": [
    {
     "data": {
      "application/vnd.microsoft.datawrangler.viewer.v0+json": {
       "columns": [
        {
         "name": "Product",
         "rawType": "object",
         "type": "string"
        },
        {
         "name": "Ganancia",
         "rawType": "float64",
         "type": "float"
        }
       ],
       "ref": "89aec855-055d-4051-ac66-9b9be0f06e74",
       "rows": [
        [
         "Macbook Pro Laptop",
         "8037600.0"
        ],
        [
         "iPhone",
         "4794300.0"
        ],
        [
         "ThinkPad Laptop",
         "4129958.7"
        ],
        [
         "Google Phone",
         "3319200.0"
        ],
        [
         "27in 4K Gaming Monitor",
         "2435097.56"
        ]
       ],
       "shape": {
        "columns": 1,
        "rows": 5
       }
      },
      "text/plain": [
       "Product\n",
       "Macbook Pro Laptop        8037600.00\n",
       "iPhone                    4794300.00\n",
       "ThinkPad Laptop           4129958.70\n",
       "Google Phone              3319200.00\n",
       "27in 4K Gaming Monitor    2435097.56\n",
       "Name: Ganancia, dtype: float64"
      ]
     },
     "execution_count": 278,
     "metadata": {},
     "output_type": "execute_result"
    }
   ],
   "source": [
    "df.groupby('Product')['Ganancia'].sum().sort_values(ascending=False)[:5]"
   ]
  },
  {
   "cell_type": "markdown",
   "metadata": {},
   "source": [
    "<div class=\"alert alert-success\">\n",
    "    \n",
    "8. ¿A qué hora recomendaría mostrar anuncios para maximizar la probabilidad de que el cliente compre un producto?     \n",
    "</div> "
   ]
  },
  {
   "cell_type": "code",
   "execution_count": 279,
   "metadata": {},
   "outputs": [
    {
     "name": "stderr",
     "output_type": "stream",
     "text": [
      "C:\\Users\\Carlos Chavarria\\AppData\\Local\\Temp\\ipykernel_13188\\2471227142.py:1: UserWarning: Could not infer format, so each element will be parsed individually, falling back to `dateutil`. To ensure parsing is consistent and as-expected, please specify a format.\n",
      "  df['Order Date'] = pd.to_datetime(df['Order Date'])\n"
     ]
    },
    {
     "data": {
      "application/vnd.microsoft.datawrangler.viewer.v0+json": {
       "columns": [
        {
         "name": "Order Date",
         "rawType": "datetime64[ns]",
         "type": "datetime"
        },
        {
         "name": "Order ID",
         "rawType": "object",
         "type": "string"
        },
        {
         "name": "Product",
         "rawType": "object",
         "type": "string"
        },
        {
         "name": "Quantity Ordered",
         "rawType": "int64",
         "type": "integer"
        },
        {
         "name": "Price Each",
         "rawType": "object",
         "type": "string"
        },
        {
         "name": "Order Date",
         "rawType": "datetime64[ns]",
         "type": "datetime"
        },
        {
         "name": "Purchase Address",
         "rawType": "object",
         "type": "string"
        },
        {
         "name": "CP",
         "rawType": "object",
         "type": "string"
        },
        {
         "name": "Ganancia",
         "rawType": "float64",
         "type": "float"
        }
       ],
       "ref": "55aa92e4-17b0-4b17-86ac-8689c40b233a",
       "rows": [
        [
         "2019-04-19 08:46:00",
         "176558",
         "USB-C Charging Cable",
         "2",
         "11.95",
         "2019-04-19 08:46:00",
         "917 1st St, Dallas, TX 75001",
         "75001",
         "23.9"
        ],
        [
         "2019-04-07 22:30:00",
         "176559",
         "Bose SoundSport Headphones",
         "1",
         "99.99",
         "2019-04-07 22:30:00",
         "682 Chestnut St, Boston, MA 02215",
         "02215",
         "99.99"
        ],
        [
         "2019-04-12 14:38:00",
         "176560",
         "Google Phone",
         "1",
         "600",
         "2019-04-12 14:38:00",
         "669 Spruce St, Los Angeles, CA 90001",
         "90001",
         "600.0"
        ],
        [
         "2019-04-12 14:38:00",
         "176560",
         "Wired Headphones",
         "1",
         "11.99",
         "2019-04-12 14:38:00",
         "669 Spruce St, Los Angeles, CA 90001",
         "90001",
         "11.99"
        ],
        [
         "2019-04-30 09:27:00",
         "176561",
         "Wired Headphones",
         "1",
         "11.99",
         "2019-04-30 09:27:00",
         "333 8th St, Los Angeles, CA 90001",
         "90001",
         "11.99"
        ],
        [
         "2019-04-29 13:03:00",
         "176562",
         "USB-C Charging Cable",
         "1",
         "11.95",
         "2019-04-29 13:03:00",
         "381 Wilson St, San Francisco, CA 94016",
         "94016",
         "11.95"
        ],
        [
         "2019-04-02 07:46:00",
         "176563",
         "Bose SoundSport Headphones",
         "1",
         "99.99",
         "2019-04-02 07:46:00",
         "668 Center St, Seattle, WA 98101",
         "98101",
         "99.99"
        ],
        [
         "2019-04-12 10:58:00",
         "176564",
         "USB-C Charging Cable",
         "1",
         "11.95",
         "2019-04-12 10:58:00",
         "790 Ridge St, Atlanta, GA 30301",
         "30301",
         "11.95"
        ],
        [
         "2019-04-24 10:38:00",
         "176565",
         "Macbook Pro Laptop",
         "1",
         "1700",
         "2019-04-24 10:38:00",
         "915 Willow St, San Francisco, CA 94016",
         "94016",
         "1700.0"
        ],
        [
         "2019-04-08 14:05:00",
         "176566",
         "Wired Headphones",
         "1",
         "11.99",
         "2019-04-08 14:05:00",
         "83 7th St, Boston, MA 02215",
         "02215",
         "11.99"
        ],
        [
         "2019-04-18 17:18:00",
         "176567",
         "Google Phone",
         "1",
         "600",
         "2019-04-18 17:18:00",
         "444 7th St, Los Angeles, CA 90001",
         "90001",
         "600.0"
        ],
        [
         "2019-04-15 12:18:00",
         "176568",
         "Lightning Charging Cable",
         "1",
         "14.95",
         "2019-04-15 12:18:00",
         "438 Elm St, Seattle, WA 98101",
         "98101",
         "14.95"
        ],
        [
         "2019-04-16 19:23:00",
         "176569",
         "27in 4K Gaming Monitor",
         "1",
         "389.99",
         "2019-04-16 19:23:00",
         "657 Hill St, Dallas, TX 75001",
         "75001",
         "389.99"
        ],
        [
         "2019-04-22 15:09:00",
         "176570",
         "AA Batteries (4-pack)",
         "1",
         "3.84",
         "2019-04-22 15:09:00",
         "186 12th St, Dallas, TX 75001",
         "75001",
         "3.84"
        ],
        [
         "2019-04-19 14:29:00",
         "176571",
         "Lightning Charging Cable",
         "1",
         "14.95",
         "2019-04-19 14:29:00",
         "253 Johnson St, Atlanta, GA 30301",
         "30301",
         "14.95"
        ],
        [
         "2019-04-04 20:30:00",
         "176572",
         "Apple Airpods Headphones",
         "1",
         "150",
         "2019-04-04 20:30:00",
         "149 Dogwood St, New York City, NY 10001",
         "10001",
         "150.0"
        ],
        [
         "2019-04-27 18:41:00",
         "176573",
         "USB-C Charging Cable",
         "1",
         "11.95",
         "2019-04-27 18:41:00",
         "214 Chestnut St, San Francisco, CA 94016",
         "94016",
         "11.95"
        ],
        [
         "2019-04-03 19:42:00",
         "176574",
         "Google Phone",
         "1",
         "600",
         "2019-04-03 19:42:00",
         "20 Hill St, Los Angeles, CA 90001",
         "90001",
         "600.0"
        ],
        [
         "2019-04-03 19:42:00",
         "176574",
         "USB-C Charging Cable",
         "1",
         "11.95",
         "2019-04-03 19:42:00",
         "20 Hill St, Los Angeles, CA 90001",
         "90001",
         "11.95"
        ],
        [
         "2019-04-27 00:30:00",
         "176575",
         "AAA Batteries (4-pack)",
         "1",
         "2.99",
         "2019-04-27 00:30:00",
         "433 Hill St, New York City, NY 10001",
         "10001",
         "2.99"
        ],
        [
         "2019-04-28 11:42:00",
         "176576",
         "Apple Airpods Headphones",
         "1",
         "150",
         "2019-04-28 11:42:00",
         "771 Ridge St, Los Angeles, CA 90001",
         "90001",
         "150.0"
        ],
        [
         "2019-04-04 19:25:00",
         "176577",
         "Apple Airpods Headphones",
         "1",
         "150",
         "2019-04-04 19:25:00",
         "260 Spruce St, Dallas, TX 75001",
         "75001",
         "150.0"
        ],
        [
         "2019-04-09 23:35:00",
         "176578",
         "Apple Airpods Headphones",
         "1",
         "150",
         "2019-04-09 23:35:00",
         "513 Church St, Boston, MA 02215",
         "02215",
         "150.0"
        ],
        [
         "2019-04-11 10:23:00",
         "176579",
         "AA Batteries (4-pack)",
         "1",
         "3.84",
         "2019-04-11 10:23:00",
         "886 Jefferson St, New York City, NY 10001",
         "10001",
         "3.84"
        ],
        [
         "2019-04-05 00:35:00",
         "176580",
         "USB-C Charging Cable",
         "1",
         "11.95",
         "2019-04-05 00:35:00",
         "886 Willow St, Los Angeles, CA 90001",
         "90001",
         "11.95"
        ],
        [
         "2019-04-09 21:38:00",
         "176581",
         "iPhone",
         "1",
         "700",
         "2019-04-09 21:38:00",
         "84 Jackson St, Boston, MA 02215",
         "02215",
         "700.0"
        ],
        [
         "2019-04-27 12:20:00",
         "176582",
         "Bose SoundSport Headphones",
         "1",
         "99.99",
         "2019-04-27 12:20:00",
         "178 Lincoln St, Atlanta, GA 30301",
         "30301",
         "99.99"
        ],
        [
         "2019-04-20 12:00:00",
         "176583",
         "AAA Batteries (4-pack)",
         "2",
         "2.99",
         "2019-04-20 12:00:00",
         "146 Jackson St, Portland, OR 97035",
         "97035",
         "5.98"
        ],
        [
         "2019-04-24 20:39:00",
         "176584",
         "Flatscreen TV",
         "1",
         "300",
         "2019-04-24 20:39:00",
         "936 Church St, San Francisco, CA 94016",
         "94016",
         "300.0"
        ],
        [
         "2019-04-07 11:31:00",
         "176585",
         "Bose SoundSport Headphones",
         "1",
         "99.99",
         "2019-04-07 11:31:00",
         "823 Highland St, Boston, MA 02215",
         "02215",
         "99.99"
        ],
        [
         "2019-04-07 11:31:00",
         "176585",
         "Bose SoundSport Headphones",
         "1",
         "99.99",
         "2019-04-07 11:31:00",
         "823 Highland St, Boston, MA 02215",
         "02215",
         "99.99"
        ],
        [
         "2019-04-10 17:00:00",
         "176586",
         "AAA Batteries (4-pack)",
         "2",
         "2.99",
         "2019-04-10 17:00:00",
         "365 Center St, San Francisco, CA 94016",
         "94016",
         "5.98"
        ],
        [
         "2019-04-10 17:00:00",
         "176586",
         "Google Phone",
         "1",
         "600",
         "2019-04-10 17:00:00",
         "365 Center St, San Francisco, CA 94016",
         "94016",
         "600.0"
        ],
        [
         "2019-04-29 19:38:00",
         "176587",
         "27in FHD Monitor",
         "1",
         "149.99",
         "2019-04-29 19:38:00",
         "557 5th St, Los Angeles, CA 90001",
         "90001",
         "149.99"
        ],
        [
         "2019-04-02 04:00:00",
         "176588",
         "20in Monitor",
         "1",
         "109.99",
         "2019-04-02 04:00:00",
         "765 Cherry St, Seattle, WA 98101",
         "98101",
         "109.99"
        ],
        [
         "2019-04-04 12:23:00",
         "176589",
         "Lightning Charging Cable",
         "1",
         "14.95",
         "2019-04-04 12:23:00",
         "846 Highland St, Atlanta, GA 30301",
         "30301",
         "14.95"
        ],
        [
         "2019-04-11 11:46:00",
         "176590",
         "Google Phone",
         "1",
         "600",
         "2019-04-11 11:46:00",
         "873 6th St, New York City, NY 10001",
         "10001",
         "600.0"
        ],
        [
         "2019-04-21 07:21:00",
         "176591",
         "Apple Airpods Headphones",
         "1",
         "150",
         "2019-04-21 07:21:00",
         "600 Maple St, Austin, TX 73301",
         "73301",
         "150.0"
        ],
        [
         "2019-04-27 13:04:00",
         "176592",
         "USB-C Charging Cable",
         "1",
         "11.95",
         "2019-04-27 13:04:00",
         "352 4th St, Los Angeles, CA 90001",
         "90001",
         "11.95"
        ],
        [
         "2019-04-15 13:45:00",
         "176593",
         "Lightning Charging Cable",
         "2",
         "14.95",
         "2019-04-15 13:45:00",
         "906 7th St, Portland, OR 97035",
         "97035",
         "29.9"
        ],
        [
         "2019-04-17 23:04:00",
         "176594",
         "Wired Headphones",
         "1",
         "11.99",
         "2019-04-17 23:04:00",
         "63 Maple St, San Francisco, CA 94016",
         "94016",
         "11.99"
        ],
        [
         "2019-04-02 09:11:00",
         "176595",
         "Wired Headphones",
         "3",
         "11.99",
         "2019-04-02 09:11:00",
         "383 6th St, Los Angeles, CA 90001",
         "90001",
         "35.97"
        ],
        [
         "2019-04-27 20:11:00",
         "176596",
         "Apple Airpods Headphones",
         "1",
         "150",
         "2019-04-27 20:11:00",
         "572 Meadow St, Dallas, TX 75001",
         "75001",
         "150.0"
        ],
        [
         "2019-04-19 13:39:00",
         "176597",
         "USB-C Charging Cable",
         "1",
         "11.95",
         "2019-04-19 13:39:00",
         "681 11th St, San Francisco, CA 94016",
         "94016",
         "11.95"
        ],
        [
         "2019-04-21 20:33:00",
         "176598",
         "AAA Batteries (4-pack)",
         "2",
         "2.99",
         "2019-04-21 20:33:00",
         "294 Park St, San Francisco, CA 94016",
         "94016",
         "5.98"
        ],
        [
         "2019-04-11 15:25:00",
         "176599",
         "Lightning Charging Cable",
         "1",
         "14.95",
         "2019-04-11 15:25:00",
         "279 Maple St, New York City, NY 10001",
         "10001",
         "14.95"
        ],
        [
         "2019-04-30 15:54:00",
         "176600",
         "27in 4K Gaming Monitor",
         "1",
         "389.99",
         "2019-04-30 15:54:00",
         "87 West St, Boston, MA 02215",
         "02215",
         "389.99"
        ],
        [
         "2019-04-02 22:32:00",
         "176601",
         "USB-C Charging Cable",
         "1",
         "11.95",
         "2019-04-02 22:32:00",
         "754 10th St, Los Angeles, CA 90001",
         "90001",
         "11.95"
        ],
        [
         "2019-04-30 09:39:00",
         "176602",
         "Lightning Charging Cable",
         "1",
         "14.95",
         "2019-04-30 09:39:00",
         "9 Jefferson St, Dallas, TX 75001",
         "75001",
         "14.95"
        ],
        [
         "2019-04-01 07:46:00",
         "176603",
         "USB-C Charging Cable",
         "1",
         "11.95",
         "2019-04-01 07:46:00",
         "858 6th St, San Francisco, CA 94016",
         "94016",
         "11.95"
        ]
       ],
       "shape": {
        "columns": 8,
        "rows": 185950
       }
      },
      "text/html": [
       "<div>\n",
       "<style scoped>\n",
       "    .dataframe tbody tr th:only-of-type {\n",
       "        vertical-align: middle;\n",
       "    }\n",
       "\n",
       "    .dataframe tbody tr th {\n",
       "        vertical-align: top;\n",
       "    }\n",
       "\n",
       "    .dataframe thead th {\n",
       "        text-align: right;\n",
       "    }\n",
       "</style>\n",
       "<table border=\"1\" class=\"dataframe\">\n",
       "  <thead>\n",
       "    <tr style=\"text-align: right;\">\n",
       "      <th></th>\n",
       "      <th>Order ID</th>\n",
       "      <th>Product</th>\n",
       "      <th>Quantity Ordered</th>\n",
       "      <th>Price Each</th>\n",
       "      <th>Order Date</th>\n",
       "      <th>Purchase Address</th>\n",
       "      <th>CP</th>\n",
       "      <th>Ganancia</th>\n",
       "    </tr>\n",
       "    <tr>\n",
       "      <th>Order Date</th>\n",
       "      <th></th>\n",
       "      <th></th>\n",
       "      <th></th>\n",
       "      <th></th>\n",
       "      <th></th>\n",
       "      <th></th>\n",
       "      <th></th>\n",
       "      <th></th>\n",
       "    </tr>\n",
       "  </thead>\n",
       "  <tbody>\n",
       "    <tr>\n",
       "      <th>2019-04-19 08:46:00</th>\n",
       "      <td>176558</td>\n",
       "      <td>USB-C Charging Cable</td>\n",
       "      <td>2</td>\n",
       "      <td>11.95</td>\n",
       "      <td>2019-04-19 08:46:00</td>\n",
       "      <td>917 1st St, Dallas, TX 75001</td>\n",
       "      <td>75001</td>\n",
       "      <td>23.90</td>\n",
       "    </tr>\n",
       "    <tr>\n",
       "      <th>2019-04-07 22:30:00</th>\n",
       "      <td>176559</td>\n",
       "      <td>Bose SoundSport Headphones</td>\n",
       "      <td>1</td>\n",
       "      <td>99.99</td>\n",
       "      <td>2019-04-07 22:30:00</td>\n",
       "      <td>682 Chestnut St, Boston, MA 02215</td>\n",
       "      <td>02215</td>\n",
       "      <td>99.99</td>\n",
       "    </tr>\n",
       "    <tr>\n",
       "      <th>2019-04-12 14:38:00</th>\n",
       "      <td>176560</td>\n",
       "      <td>Google Phone</td>\n",
       "      <td>1</td>\n",
       "      <td>600</td>\n",
       "      <td>2019-04-12 14:38:00</td>\n",
       "      <td>669 Spruce St, Los Angeles, CA 90001</td>\n",
       "      <td>90001</td>\n",
       "      <td>600.00</td>\n",
       "    </tr>\n",
       "    <tr>\n",
       "      <th>2019-04-12 14:38:00</th>\n",
       "      <td>176560</td>\n",
       "      <td>Wired Headphones</td>\n",
       "      <td>1</td>\n",
       "      <td>11.99</td>\n",
       "      <td>2019-04-12 14:38:00</td>\n",
       "      <td>669 Spruce St, Los Angeles, CA 90001</td>\n",
       "      <td>90001</td>\n",
       "      <td>11.99</td>\n",
       "    </tr>\n",
       "    <tr>\n",
       "      <th>2019-04-30 09:27:00</th>\n",
       "      <td>176561</td>\n",
       "      <td>Wired Headphones</td>\n",
       "      <td>1</td>\n",
       "      <td>11.99</td>\n",
       "      <td>2019-04-30 09:27:00</td>\n",
       "      <td>333 8th St, Los Angeles, CA 90001</td>\n",
       "      <td>90001</td>\n",
       "      <td>11.99</td>\n",
       "    </tr>\n",
       "    <tr>\n",
       "      <th>...</th>\n",
       "      <td>...</td>\n",
       "      <td>...</td>\n",
       "      <td>...</td>\n",
       "      <td>...</td>\n",
       "      <td>...</td>\n",
       "      <td>...</td>\n",
       "      <td>...</td>\n",
       "      <td>...</td>\n",
       "    </tr>\n",
       "    <tr>\n",
       "      <th>2019-09-17 20:56:00</th>\n",
       "      <td>259353</td>\n",
       "      <td>AAA Batteries (4-pack)</td>\n",
       "      <td>3</td>\n",
       "      <td>2.99</td>\n",
       "      <td>2019-09-17 20:56:00</td>\n",
       "      <td>840 Highland St, Los Angeles, CA 90001</td>\n",
       "      <td>90001</td>\n",
       "      <td>8.97</td>\n",
       "    </tr>\n",
       "    <tr>\n",
       "      <th>2019-09-01 16:00:00</th>\n",
       "      <td>259354</td>\n",
       "      <td>iPhone</td>\n",
       "      <td>1</td>\n",
       "      <td>700</td>\n",
       "      <td>2019-09-01 16:00:00</td>\n",
       "      <td>216 Dogwood St, San Francisco, CA 94016</td>\n",
       "      <td>94016</td>\n",
       "      <td>700.00</td>\n",
       "    </tr>\n",
       "    <tr>\n",
       "      <th>2019-09-23 07:39:00</th>\n",
       "      <td>259355</td>\n",
       "      <td>iPhone</td>\n",
       "      <td>1</td>\n",
       "      <td>700</td>\n",
       "      <td>2019-09-23 07:39:00</td>\n",
       "      <td>220 12th St, San Francisco, CA 94016</td>\n",
       "      <td>94016</td>\n",
       "      <td>700.00</td>\n",
       "    </tr>\n",
       "    <tr>\n",
       "      <th>2019-09-19 17:30:00</th>\n",
       "      <td>259356</td>\n",
       "      <td>34in Ultrawide Monitor</td>\n",
       "      <td>1</td>\n",
       "      <td>379.99</td>\n",
       "      <td>2019-09-19 17:30:00</td>\n",
       "      <td>511 Forest St, San Francisco, CA 94016</td>\n",
       "      <td>94016</td>\n",
       "      <td>379.99</td>\n",
       "    </tr>\n",
       "    <tr>\n",
       "      <th>2019-09-30 00:18:00</th>\n",
       "      <td>259357</td>\n",
       "      <td>USB-C Charging Cable</td>\n",
       "      <td>1</td>\n",
       "      <td>11.95</td>\n",
       "      <td>2019-09-30 00:18:00</td>\n",
       "      <td>250 Meadow St, San Francisco, CA 94016</td>\n",
       "      <td>94016</td>\n",
       "      <td>11.95</td>\n",
       "    </tr>\n",
       "  </tbody>\n",
       "</table>\n",
       "<p>185950 rows × 8 columns</p>\n",
       "</div>"
      ],
      "text/plain": [
       "                    Order ID                     Product  Quantity Ordered  \\\n",
       "Order Date                                                                   \n",
       "2019-04-19 08:46:00   176558        USB-C Charging Cable                 2   \n",
       "2019-04-07 22:30:00   176559  Bose SoundSport Headphones                 1   \n",
       "2019-04-12 14:38:00   176560                Google Phone                 1   \n",
       "2019-04-12 14:38:00   176560            Wired Headphones                 1   \n",
       "2019-04-30 09:27:00   176561            Wired Headphones                 1   \n",
       "...                      ...                         ...               ...   \n",
       "2019-09-17 20:56:00   259353      AAA Batteries (4-pack)                 3   \n",
       "2019-09-01 16:00:00   259354                      iPhone                 1   \n",
       "2019-09-23 07:39:00   259355                      iPhone                 1   \n",
       "2019-09-19 17:30:00   259356      34in Ultrawide Monitor                 1   \n",
       "2019-09-30 00:18:00   259357        USB-C Charging Cable                 1   \n",
       "\n",
       "                    Price Each          Order Date  \\\n",
       "Order Date                                           \n",
       "2019-04-19 08:46:00      11.95 2019-04-19 08:46:00   \n",
       "2019-04-07 22:30:00      99.99 2019-04-07 22:30:00   \n",
       "2019-04-12 14:38:00        600 2019-04-12 14:38:00   \n",
       "2019-04-12 14:38:00      11.99 2019-04-12 14:38:00   \n",
       "2019-04-30 09:27:00      11.99 2019-04-30 09:27:00   \n",
       "...                        ...                 ...   \n",
       "2019-09-17 20:56:00       2.99 2019-09-17 20:56:00   \n",
       "2019-09-01 16:00:00        700 2019-09-01 16:00:00   \n",
       "2019-09-23 07:39:00        700 2019-09-23 07:39:00   \n",
       "2019-09-19 17:30:00     379.99 2019-09-19 17:30:00   \n",
       "2019-09-30 00:18:00      11.95 2019-09-30 00:18:00   \n",
       "\n",
       "                                            Purchase Address     CP  Ganancia  \n",
       "Order Date                                                                     \n",
       "2019-04-19 08:46:00             917 1st St, Dallas, TX 75001  75001     23.90  \n",
       "2019-04-07 22:30:00        682 Chestnut St, Boston, MA 02215  02215     99.99  \n",
       "2019-04-12 14:38:00     669 Spruce St, Los Angeles, CA 90001  90001    600.00  \n",
       "2019-04-12 14:38:00     669 Spruce St, Los Angeles, CA 90001  90001     11.99  \n",
       "2019-04-30 09:27:00        333 8th St, Los Angeles, CA 90001  90001     11.99  \n",
       "...                                                      ...    ...       ...  \n",
       "2019-09-17 20:56:00   840 Highland St, Los Angeles, CA 90001  90001      8.97  \n",
       "2019-09-01 16:00:00  216 Dogwood St, San Francisco, CA 94016  94016    700.00  \n",
       "2019-09-23 07:39:00     220 12th St, San Francisco, CA 94016  94016    700.00  \n",
       "2019-09-19 17:30:00   511 Forest St, San Francisco, CA 94016  94016    379.99  \n",
       "2019-09-30 00:18:00   250 Meadow St, San Francisco, CA 94016  94016     11.95  \n",
       "\n",
       "[185950 rows x 8 columns]"
      ]
     },
     "execution_count": 279,
     "metadata": {},
     "output_type": "execute_result"
    }
   ],
   "source": [
    "df['Order Date'] = pd.to_datetime(df['Order Date'])\n",
    "df.set_index(df['Order Date'])"
   ]
  },
  {
   "cell_type": "code",
   "execution_count": null,
   "metadata": {},
   "outputs": [],
   "source": []
  },
  {
   "cell_type": "markdown",
   "metadata": {},
   "source": [
    "<div class=\"alert alert-success\">\n",
    "     9.   a) ¿Cuál es el día de más ganancias por cada mes?     b) ¿Cuál es el mes con más ganancias y el de menos ganancias?\n",
    "    \n",
    "</div> "
   ]
  },
  {
   "cell_type": "code",
   "execution_count": null,
   "metadata": {},
   "outputs": [],
   "source": []
  },
  {
   "cell_type": "markdown",
   "metadata": {},
   "source": [
    "<div class=\"alert alert-success\">\n",
    "    \n",
    "10. ¿Cuál fue el producto más comprado en San Francisco, CA?\n",
    "    \n",
    "</div> "
   ]
  },
  {
   "cell_type": "code",
   "execution_count": null,
   "metadata": {},
   "outputs": [],
   "source": []
  },
  {
   "cell_type": "markdown",
   "metadata": {},
   "source": [
    "<div class=\"alert alert-success\">\n",
    "    \n",
    "11. Escribir una conclusión del ejercicio (ventajas de usar pandas, herramientas mas utilizadas en este ejercicio, etc). \n",
    "    \n",
    "</div> "
   ]
  },
  {
   "cell_type": "code",
   "execution_count": null,
   "metadata": {},
   "outputs": [],
   "source": []
  },
  {
   "cell_type": "code",
   "execution_count": null,
   "metadata": {},
   "outputs": [],
   "source": []
  }
 ],
 "metadata": {
  "kernelspec": {
   "display_name": "data-science-coursework (3.13.7)",
   "language": "python",
   "name": "python3"
  },
  "language_info": {
   "codemirror_mode": {
    "name": "ipython",
    "version": 3
   },
   "file_extension": ".py",
   "mimetype": "text/x-python",
   "name": "python",
   "nbconvert_exporter": "python",
   "pygments_lexer": "ipython3",
   "version": "3.13.7"
  }
 },
 "nbformat": 4,
 "nbformat_minor": 4
}
