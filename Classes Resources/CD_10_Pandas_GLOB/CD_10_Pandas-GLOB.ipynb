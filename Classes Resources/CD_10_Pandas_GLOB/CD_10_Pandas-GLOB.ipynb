{
 "cells": [
  {
   "cell_type": "markdown",
   "metadata": {},
   "source": [
    "<!--Información del curso-->\n",
    "<img align=\"left\" style=\"padding-right:10px;\" src=\"figuras/logo_ciencia_datos.png\">"
   ]
  },
  {
   "cell_type": "markdown",
   "metadata": {},
   "source": [
    "<center><h1 style=\"font-size:2em;color:#2467C0\"> Pandas y GLOB  </h1></center>\n",
    "\n",
    "<center><h2 style=\"font-size:2em;color:#840700\">   Manipulación de archivos con GLOB </h4></center>\n",
    "\n",
    "<br>\n",
    "<table>\n",
    "<col width=\"250\">\n",
    "<col width=\"750\">\n",
    "<tr>\n",
    "<td><img src=\"figuras/glob.png\" align=\"left\" style=\"width:150px\"/></td>\n",
    "<td>\n",
    "\n",
    "La función **glob.glob()** devuelve una lista con las entradas que coincidan con el patrón especificado en *pathname*.\n",
    "\n",
    "**glob.glob( *pathname* , recursive=False)** \n",
    "    \n",
    "<br>\n",
    "</td>\n",
    "</tr>\n",
    "</table>"
   ]
  },
  {
   "cell_type": "markdown",
   "metadata": {},
   "source": [
    "# Librerías\n",
    "\n",
    "Cargando las bibliotecas que necesitamos \n"
   ]
  },
  {
   "cell_type": "code",
   "execution_count": 1,
   "metadata": {},
   "outputs": [],
   "source": [
    "import pandas as pd\n",
    "import numpy as np\n",
    "import matplotlib.pyplot as plt\n",
    "import glob"
   ]
  },
  {
   "cell_type": "markdown",
   "metadata": {},
   "source": [
    "## Mostrando todos los archivos de \"/datos\"\n",
    "\n",
    "La salida serán los archivos en forma de lista"
   ]
  },
  {
   "cell_type": "code",
   "execution_count": 2,
   "metadata": {},
   "outputs": [
    {
     "data": {
      "text/plain": [
       "['datos\\\\informacion.txt',\n",
       " 'datos\\\\semestre1a.csv',\n",
       " 'datos\\\\semestre1b.csv',\n",
       " 'datos\\\\semestre1c.csv',\n",
       " 'datos\\\\semestre2a.csv',\n",
       " 'datos\\\\semestre2b.csv',\n",
       " 'datos\\\\semestre2c.csv',\n",
       " 'datos\\\\semestre3a.csv',\n",
       " 'datos\\\\semestre3b.csv',\n",
       " 'datos\\\\semestre3c.csv',\n",
       " 'datos\\\\semestres.txt',\n",
       " 'datos\\\\Ventas']"
      ]
     },
     "execution_count": 2,
     "metadata": {},
     "output_type": "execute_result"
    }
   ],
   "source": [
    "# establecer ruta de búsqueda  \n",
    "path = 'datos'\n",
    "files = glob.glob(path + '/*')\n",
    "files"
   ]
  },
  {
   "cell_type": "markdown",
   "metadata": {},
   "source": [
    "## Mostrando  los archivos  **.txt** de \"/datos\"\n",
    "\n",
    "La salida serán los archivos .txt en forma de lista"
   ]
  },
  {
   "cell_type": "code",
   "execution_count": 3,
   "metadata": {},
   "outputs": [
    {
     "data": {
      "text/plain": [
       "['datos\\\\informacion.txt', 'datos\\\\semestres.txt']"
      ]
     },
     "execution_count": 3,
     "metadata": {},
     "output_type": "execute_result"
    }
   ],
   "source": [
    "# establecer ruta de búsqueda  \n",
    "# aquí queremos buscar archivos txt  \n",
    "path = 'datos'\n",
    "files = glob.glob(path + '/*.txt')\n",
    "files"
   ]
  },
  {
   "cell_type": "markdown",
   "metadata": {},
   "source": [
    "## Mostrando  los archivos .csv de \"/datos\"\n",
    "\n",
    "La salida serán los archivos .csv en forma de lista"
   ]
  },
  {
   "cell_type": "code",
   "execution_count": 4,
   "metadata": {},
   "outputs": [
    {
     "data": {
      "text/plain": [
       "['datos\\\\semestre1a.csv',\n",
       " 'datos\\\\semestre1b.csv',\n",
       " 'datos\\\\semestre1c.csv',\n",
       " 'datos\\\\semestre2a.csv',\n",
       " 'datos\\\\semestre2b.csv',\n",
       " 'datos\\\\semestre2c.csv',\n",
       " 'datos\\\\semestre3a.csv',\n",
       " 'datos\\\\semestre3b.csv',\n",
       " 'datos\\\\semestre3c.csv']"
      ]
     },
     "execution_count": 4,
     "metadata": {},
     "output_type": "execute_result"
    }
   ],
   "source": [
    "# establecer ruta de búsqueda  \n",
    "# aquí queremos buscar archivos csv  \n",
    "path = 'datos'\n",
    "files = glob.glob(path + '/*.csv')\n",
    "files"
   ]
  },
  {
   "cell_type": "markdown",
   "metadata": {},
   "source": [
    "## Concatenando todos los archivos .csv para formar un dataframe\n"
   ]
  },
  {
   "cell_type": "code",
   "execution_count": 5,
   "metadata": {},
   "outputs": [
    {
     "name": "stdout",
     "output_type": "stream",
     "text": [
      "['datos\\\\semestre1a.csv', 'datos\\\\semestre1b.csv', 'datos\\\\semestre1c.csv', 'datos\\\\semestre2a.csv', 'datos\\\\semestre2b.csv', 'datos\\\\semestre2c.csv', 'datos\\\\semestre3a.csv', 'datos\\\\semestre3b.csv', 'datos\\\\semestre3c.csv']\n",
      "(10, 5)\n",
      "(11, 5)\n",
      "(11, 5)\n",
      "(7, 5)\n",
      "(7, 5)\n",
      "(7, 5)\n",
      "(5, 5)\n",
      "(6, 5)\n",
      "(5, 5)\n",
      "final= (69, 5)\n"
     ]
    }
   ],
   "source": [
    "# establecer ruta de búsqueda  \n",
    "# aquí queremos buscar archivos csv  \n",
    "path = 'datos'\n",
    "files = glob.glob(path + '/*.csv')\n",
    "print(files)\n",
    "# crear una lista vacía para almacenar  los dataframes\n",
    "lista_dfs=[]\n",
    "# recorrer la lista de archivos para crear la lista de archivos \n",
    "for file in files:\n",
    "    temp_df = pd.read_csv(file)\n",
    "    print(temp_df.shape)\n",
    "    lista_dfs.append(temp_df)\n",
    "\n",
    "df = pd.concat(  lista_dfs, axis=0  )\n",
    "df.head()\n",
    "print('final=', df.shape)\n",
    "# concatenación\n"
   ]
  },
  {
   "cell_type": "markdown",
   "metadata": {},
   "source": [
    "## Concatenando los archivos .csv del primer semestre \n",
    "\n",
    "El comodín * representa desde nada, hasta cualquier cantidad de caracteres y dígitos"
   ]
  },
  {
   "cell_type": "code",
   "execution_count": 6,
   "metadata": {},
   "outputs": [
    {
     "name": "stdout",
     "output_type": "stream",
     "text": [
      "['datos\\\\semestre1a.csv', 'datos\\\\semestre1b.csv', 'datos\\\\semestre1c.csv']\n",
      "(10, 5)\n",
      "(11, 5)\n",
      "(11, 5)\n",
      "final= (32, 5)\n"
     ]
    }
   ],
   "source": [
    "# establecer ruta de búsqueda  \n",
    "# aquí queremos buscar archivos csv  \n",
    "path = 'datos'\n",
    "files = glob.glob(path + '/semestre1?.csv')\n",
    "print(files)\n",
    "lista_dfs=[]\n",
    "# recorrer la lista de archivos para crear la lista de archivos \n",
    "for file in files:\n",
    "    temp_df = pd.read_csv(file)\n",
    "    print(temp_df.shape)\n",
    "    lista_dfs.append(temp_df)\n",
    "\n",
    "df = pd.concat(  lista_dfs, axis=0  )\n",
    "df.head()\n",
    "print('final=', df.shape)\n",
    "# concatenación\n",
    "\n"
   ]
  },
  {
   "cell_type": "markdown",
   "metadata": {},
   "source": [
    "## Concatenando los archivos .csv del primer y segundo semestre \n",
    "\n",
    "El comodín **[ ]**  representa un rango,  ya sea de caracteres o de números. "
   ]
  },
  {
   "cell_type": "code",
   "execution_count": 7,
   "metadata": {},
   "outputs": [
    {
     "name": "stdout",
     "output_type": "stream",
     "text": [
      "['datos\\\\semestre1a.csv', 'datos\\\\semestre1b.csv', 'datos\\\\semestre1c.csv', 'datos\\\\semestre2a.csv', 'datos\\\\semestre2b.csv', 'datos\\\\semestre2c.csv']\n",
      "(10, 5)\n",
      "(11, 5)\n",
      "(11, 5)\n",
      "(7, 5)\n",
      "(7, 5)\n",
      "(7, 5)\n",
      "final= (53, 5)\n"
     ]
    }
   ],
   "source": [
    "# establecer ruta de búsqueda  \n",
    "# aquí queremos buscar archivos csv  \n",
    "path = 'datos'\n",
    "files = glob.glob(path + '/semestre[1-2]*.csv')\n",
    "print(files)\n",
    "lista_dfs=[]\n",
    "# recorrer la lista de archivos para crear la lista de archivos \n",
    "for file in files:\n",
    "    temp_df = pd.read_csv(file)\n",
    "    print(temp_df.shape)\n",
    "    lista_dfs.append(temp_df)\n",
    "\n",
    "df = pd.concat(  lista_dfs, axis=0  )\n",
    "df.head()\n",
    "print('final=', df.shape)\n",
    "# concatenación\n"
   ]
  },
  {
   "cell_type": "markdown",
   "metadata": {},
   "source": [
    "## Concatenando los archivos .csv de los grupos \"a\"\n",
    "El comodín **?** Representa un único carácter."
   ]
  },
  {
   "cell_type": "code",
   "execution_count": 8,
   "metadata": {},
   "outputs": [
    {
     "name": "stdout",
     "output_type": "stream",
     "text": [
      "['datos\\\\semestre1a.csv', 'datos\\\\semestre2a.csv', 'datos\\\\semestre3a.csv']\n",
      "(10, 5)\n",
      "(7, 5)\n",
      "(5, 5)\n",
      "final= (22, 5)\n"
     ]
    }
   ],
   "source": [
    "# establecer ruta de búsqueda  \n",
    "# aquí queremos buscar archivos csv  \n",
    "path = 'datos'\n",
    "files = glob.glob(path + '/semestre?a.csv')\n",
    "print(files)\n",
    "lista_dfs=[]\n",
    "# recorrer la lista de archivos para crear la lista de archivos \n",
    "for file in files:\n",
    "    temp_df = pd.read_csv(file)\n",
    "    print(temp_df.shape)\n",
    "    lista_dfs.append(temp_df)\n",
    "\n",
    "df = pd.concat(  lista_dfs, axis=0  )\n",
    "df.head()\n",
    "print('final=', df.shape)\n",
    "# concatenación\n"
   ]
  },
  {
   "cell_type": "markdown",
   "metadata": {},
   "source": [
    "## Concatenando los archivos .csv de los grupos \"a\" y \"b\"\n",
    "\n",
    "El comodín **[ ]**  representa un rango,  ya sea de caracteres o de números. "
   ]
  },
  {
   "cell_type": "code",
   "execution_count": null,
   "metadata": {},
   "outputs": [],
   "source": [
    "# establecer ruta de búsqueda  \n",
    "# aquí queremos buscar archivos csv  \n",
    "path = 'datos'\n",
    "files = glob.glob(path + '/semestre?[a-b].csv')\n",
    "print(files)\n",
    "lista_dfs=[]\n",
    "# recorrer la lista de archivos para crear la lista de archivos \n",
    "for file in files:\n",
    "    temp_df = pd.read_csv(file)\n",
    "    print(temp_df.shape)\n",
    "    lista_dfs.append(temp_df)\n",
    "\n",
    "df = pd.concat(  lista_dfs, axis=0  )\n",
    "df.head()\n",
    "print('final=', df.shape)\n",
    "# concatenación\n"
   ]
  },
  {
   "cell_type": "markdown",
   "metadata": {},
   "source": [
    "## Uso de `pathlib` (alternativa moderna a `glob`)\n",
    "\n",
    "En Python existe una forma más moderna y poderosa de trabajar con rutas y archivos: el módulo **`pathlib`**.  \n",
    "Mientras que `glob` devuelve **cadenas de texto** con las rutas, `pathlib` trabaja con **objetos `Path`**, lo que facilita manipular carpetas, archivos y extensiones.\n",
    "\n",
    "### Ventajas principales\n",
    "- Sintaxis más clara y legible.\n",
    "- Manipulación directa de rutas (nombre, extensión, carpeta).\n",
    "- Permite **crear, mover, renombrar** archivos y directorios fácilmente.\n",
    "- Incluye su propio método `.glob()` para buscar archivos, igual que el módulo `glob`.\n",
    "\n",
    "---\n",
    "\n",
    "### Ejemplos de uso\n",
    "\n"
   ]
  },
  {
   "cell_type": "code",
   "execution_count": 9,
   "metadata": {},
   "outputs": [
    {
     "name": "stdout",
     "output_type": "stream",
     "text": [
      "[WindowsPath('datos/semestre1a.csv'), WindowsPath('datos/semestre1b.csv'), WindowsPath('datos/semestre1c.csv'), WindowsPath('datos/semestre2a.csv'), WindowsPath('datos/semestre2b.csv'), WindowsPath('datos/semestre2c.csv'), WindowsPath('datos/semestre3a.csv'), WindowsPath('datos/semestre3b.csv'), WindowsPath('datos/semestre3c.csv')]\n",
      "(10, 5)\n",
      "(11, 5)\n",
      "(11, 5)\n",
      "(7, 5)\n",
      "(7, 5)\n",
      "(7, 5)\n",
      "(5, 5)\n",
      "(6, 5)\n",
      "(5, 5)\n",
      "    NOMBRE   APELLIDO  CALIFICACION      CARRERA  CIUDAD\n",
      "0  ENRIQUE     MORENO            40   RENOVABLES  MERIDA\n",
      "1   AMPARO  CABALLERO            63   RENOVABLES  MERIDA\n",
      "2    MARTA      BALAM            94  MECATRONICA  MERIDA\n",
      "3    JULIA      ORTIZ            86   RENOVABLES    UMAN\n",
      "4  PASCUAL        MAY            58       FISICA  MERIDA\n",
      "final = (69, 5)\n"
     ]
    }
   ],
   "source": [
    "from pathlib import Path\n",
    "import pandas as pd\n",
    "\n",
    "# establecer ruta de búsqueda\n",
    "path = Path(\"datos\")\n",
    "\n",
    "# aquí queremos buscar archivos csv\n",
    "files = list(path.glob(\"*.csv\"))\n",
    "print(files)\n",
    "\n",
    "# crear una lista vacía para almacenar los dataframes\n",
    "lista_dfs = []\n",
    "\n",
    "# recorrer la lista de archivos para crear la lista de dataframes\n",
    "for file in files:\n",
    "    temp_df = pd.read_csv(file)\n",
    "    print(temp_df.shape)\n",
    "    lista_dfs.append(temp_df)\n",
    "\n",
    "# concatenar todos los dataframes\n",
    "df = pd.concat(lista_dfs, axis=0)\n",
    "\n",
    "print(df.head())\n",
    "print(\"final =\", df.shape)"
   ]
  },
  {
   "cell_type": "code",
   "execution_count": null,
   "metadata": {},
   "outputs": [],
   "source": [
    "from pathlib import Path\n",
    "import pandas as pd\n",
    "\n",
    "# concatenar todos los CSV de la carpeta 'datos'\n",
    "df = pd.concat(\n",
    "    [pd.read_csv(file) for file in Path(\"datos\").glob(\"*.csv\")],\n",
    "    axis=0,\n",
    "    ignore_index=True\n",
    ")\n",
    "\n",
    "print(df.head())\n",
    "print(\"final =\", df.shape)"
   ]
  },
  {
   "cell_type": "markdown",
   "metadata": {},
   "source": [
    "# TAREA"
   ]
  },
  {
   "cell_type": "markdown",
   "metadata": {},
   "source": [
    "<div class=\"alert alert-success\">\n",
    "<b>EJERCICIO 1: Concatenar todos los archivos  .csv  </b>:\n",
    "\n",
    " <ul>\n",
    "  <li> a) Encontrar el promedio y   desviación estándar  </li>\n",
    "  <li> b) Datos del estudiante(s) con la calificación más alta </li>   \n",
    "  <li> c) Datos del estudiante(s) con la calificación más baja </li>  \n",
    "  <li> d) El nombre que más se repite </li>  \n",
    "  <li> e) El apellido que más se repite </li>       \n",
    "     \n",
    "</ul>\n",
    "</div>"
   ]
  },
  {
   "cell_type": "code",
   "execution_count": null,
   "metadata": {},
   "outputs": [],
   "source": []
  },
  {
   "cell_type": "markdown",
   "metadata": {},
   "source": [
    "<div class=\"alert alert-success\">\n",
    "<b>EJERCICIO 2: Concatenar todos los archivos  .csv del primer semestre </b>:\n",
    "\n",
    " <ul>\n",
    "  <li> a) Encontrar el promedio y   desviación estándar  </li>\n",
    "  <li> b) Datos del estudiante(s) con la calificación más alta </li>   \n",
    "  <li> c) Datos del estudiante(s) con la calificación más baja </li>   \n",
    "</ul>\n",
    "</div>"
   ]
  },
  {
   "cell_type": "code",
   "execution_count": null,
   "metadata": {},
   "outputs": [],
   "source": []
  },
  {
   "cell_type": "markdown",
   "metadata": {},
   "source": [
    "<div class=\"alert alert-success\">\n",
    "<b>EJERCICIO 3: Concatenar todos los archivos .csv de los grupos \"c\", es decir semestre1c, semestre2c y semestre3c </b>:\n",
    "\n",
    " <ul>\n",
    "  <li> a) Encontrar el promedio y   desviación estándar  </li>\n",
    "  <li> b) Datos del estudiante(s) con la calificación más alta </li>   \n",
    "  <li> c) Datos del estudiante(s) con la calificación más baja </li>   \n",
    "</ul>\n",
    "</div>"
   ]
  },
  {
   "cell_type": "code",
   "execution_count": null,
   "metadata": {},
   "outputs": [],
   "source": []
  },
  {
   "cell_type": "code",
   "execution_count": null,
   "metadata": {},
   "outputs": [],
   "source": []
  },
  {
   "cell_type": "markdown",
   "metadata": {},
   "source": [
    "<div class=\"alert alert-success\">\n",
    "<b>EJERCICIO 4: Concatenar todos los archivos .csv de los semestres 2 y 3  </b>:\n",
    "\n",
    " <ul>\n",
    "  <li> a) Encontrar el promedio y   desviación estándar  </li>\n",
    "  <li> b) Datos del estudiante(s) con la calificación más alta </li>   \n",
    "  <li> c) Datos del estudiante(s) con la calificación más baja </li>   \n",
    "</ul>\n",
    "</div>"
   ]
  },
  {
   "cell_type": "code",
   "execution_count": null,
   "metadata": {},
   "outputs": [],
   "source": []
  },
  {
   "cell_type": "code",
   "execution_count": null,
   "metadata": {},
   "outputs": [],
   "source": []
  }
 ],
 "metadata": {
  "kernelspec": {
   "display_name": "data-science-coursework (3.13.7)",
   "language": "python",
   "name": "python3"
  },
  "language_info": {
   "codemirror_mode": {
    "name": "ipython",
    "version": 3
   },
   "file_extension": ".py",
   "mimetype": "text/x-python",
   "name": "python",
   "nbconvert_exporter": "python",
   "pygments_lexer": "ipython3",
   "version": "3.13.7"
  }
 },
 "nbformat": 4,
 "nbformat_minor": 4
}
