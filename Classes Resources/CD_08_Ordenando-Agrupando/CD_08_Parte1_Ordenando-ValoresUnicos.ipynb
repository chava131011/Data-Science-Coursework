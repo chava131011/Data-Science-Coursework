{
 "cells": [
  {
   "cell_type": "markdown",
   "metadata": {},
   "source": [
    "<!--Información del curso-->\n",
    "<img align=\"left\" style=\"padding-right:10px;\" src=\"figuras/logo_ciencia_datos.png\">"
   ]
  },
  {
   "cell_type": "markdown",
   "metadata": {},
   "source": [
    "\n",
    "<center><h2 style=\"font-size:2em;color:#840700\">  Ordenando  y obteniendo valores únicos de datos  </h4></center>\n",
    "\n",
    "<br>\n",
    "<table>\n",
    "<col width=\"550\">\n",
    "<col width=\"450\">\n",
    "<tr>\n",
    "<td><img src=\"figuras/agrupando.png\" align=\"left\" style=\"width:500px\"/></td>\n",
    "<td>\n",
    "\n",
    "* **Wes McKinney**, empezó a desarrollar Pandas en el año 2008 mientras trabajaba en *AQR Capital* [https://www.aqr.com/] por la necesidad que tenía de una herramienta flexible de alto rendimiento para realizar análisis cuantitativos en datos financieros. \n",
    "* Antes de dejar AQR convenció a la administración de la empresa de distribuir esta biblioteca bajo licencia de código abierto.\n",
    "* **Pandas** es un acrónimo de **PANel DAta analysiS**\n",
    "   \n",
    "    \n",
    "<br>\n",
    "</td>\n",
    "</tr>\n",
    "</table>"
   ]
  },
  {
   "cell_type": "markdown",
   "metadata": {},
   "source": [
    "# Librerías\n",
    "\n",
    "Cargando las bibliotecas que necesitamos \n"
   ]
  },
  {
   "cell_type": "code",
   "execution_count": 1,
   "metadata": {},
   "outputs": [],
   "source": [
    "import pandas as pd\n",
    "import numpy as np\n",
    "import matplotlib.pyplot as plt"
   ]
  },
  {
   "cell_type": "markdown",
   "metadata": {},
   "source": [
    "# Datos utilizados en esta Notebook"
   ]
  },
  {
   "cell_type": "markdown",
   "metadata": {},
   "source": [
    "El archivo *planetas.csv* contiene datos sobre planetas que se han descubierto orbitando estrellas fuera de nuestro sistema solar. En este archivo, cada fila corresponde a un exoplaneta descubierto. Los atributos de cada exoplaneta (y por lo tanto las columnas del archivo) son:\n",
    "\n",
    "* **método**  el método utilizado para descubrir el planeta.\n",
    "* **número** el número total de planetas descubiertos orbitando la estrella anfitriona de este exoplaneta.\n",
    "* **orbital_period** el período del planeta, su \"año\".\n",
    "* **masa** la masa del exoplaneta.\n",
    "* **distancia** la distancia de la estrella anfitriona del exoplaneta a la Tierra en años luz.\n",
    "* **año** el año en que se descubrió el planeta."
   ]
  },
  {
   "cell_type": "code",
   "execution_count": 4,
   "metadata": {},
   "outputs": [
    {
     "data": {
      "application/vnd.microsoft.datawrangler.viewer.v0+json": {
       "columns": [
        {
         "name": "index",
         "rawType": "int64",
         "type": "integer"
        },
        {
         "name": "method",
         "rawType": "object",
         "type": "string"
        },
        {
         "name": "number",
         "rawType": "int64",
         "type": "integer"
        },
        {
         "name": "orbital_period",
         "rawType": "float64",
         "type": "float"
        },
        {
         "name": "mass",
         "rawType": "float64",
         "type": "float"
        },
        {
         "name": "distance",
         "rawType": "float64",
         "type": "float"
        },
        {
         "name": "year",
         "rawType": "int64",
         "type": "integer"
        }
       ],
       "ref": "f743042e-23bd-4bf9-8ece-593e5ad0d26e",
       "rows": [
        [
         "0",
         "Radial Velocity",
         "1",
         "269.3",
         "7.1",
         "77.4",
         "2006"
        ],
        [
         "1",
         "Radial Velocity",
         "1",
         "874.774",
         "2.21",
         "56.95",
         "2008"
        ]
       ],
       "shape": {
        "columns": 6,
        "rows": 2
       }
      },
      "text/html": [
       "<div>\n",
       "<style scoped>\n",
       "    .dataframe tbody tr th:only-of-type {\n",
       "        vertical-align: middle;\n",
       "    }\n",
       "\n",
       "    .dataframe tbody tr th {\n",
       "        vertical-align: top;\n",
       "    }\n",
       "\n",
       "    .dataframe thead th {\n",
       "        text-align: right;\n",
       "    }\n",
       "</style>\n",
       "<table border=\"1\" class=\"dataframe\">\n",
       "  <thead>\n",
       "    <tr style=\"text-align: right;\">\n",
       "      <th></th>\n",
       "      <th>method</th>\n",
       "      <th>number</th>\n",
       "      <th>orbital_period</th>\n",
       "      <th>mass</th>\n",
       "      <th>distance</th>\n",
       "      <th>year</th>\n",
       "    </tr>\n",
       "  </thead>\n",
       "  <tbody>\n",
       "    <tr>\n",
       "      <th>0</th>\n",
       "      <td>Radial Velocity</td>\n",
       "      <td>1</td>\n",
       "      <td>269.300</td>\n",
       "      <td>7.10</td>\n",
       "      <td>77.40</td>\n",
       "      <td>2006</td>\n",
       "    </tr>\n",
       "    <tr>\n",
       "      <th>1</th>\n",
       "      <td>Radial Velocity</td>\n",
       "      <td>1</td>\n",
       "      <td>874.774</td>\n",
       "      <td>2.21</td>\n",
       "      <td>56.95</td>\n",
       "      <td>2008</td>\n",
       "    </tr>\n",
       "  </tbody>\n",
       "</table>\n",
       "</div>"
      ],
      "text/plain": [
       "            method  number  orbital_period  mass  distance  year\n",
       "0  Radial Velocity       1         269.300  7.10     77.40  2006\n",
       "1  Radial Velocity       1         874.774  2.21     56.95  2008"
      ]
     },
     "execution_count": 4,
     "metadata": {},
     "output_type": "execute_result"
    }
   ],
   "source": [
    "#Mostrar las primeras 5 filas\n",
    "df_planetas = pd.read_csv(\"datos/planets.csv\")\n",
    "df_planetas.head(2)"
   ]
  },
  {
   "cell_type": "code",
   "execution_count": 6,
   "metadata": {},
   "outputs": [
    {
     "data": {
      "text/plain": [
       "(1035, 6)"
      ]
     },
     "execution_count": 6,
     "metadata": {},
     "output_type": "execute_result"
    }
   ],
   "source": [
    "#Numero total de filas y columnas\n",
    "df_planetas.shape"
   ]
  },
  {
   "cell_type": "code",
   "execution_count": 7,
   "metadata": {},
   "outputs": [
    {
     "data": {
      "application/vnd.microsoft.datawrangler.viewer.v0+json": {
       "columns": [
        {
         "name": "index",
         "rawType": "object",
         "type": "string"
        },
        {
         "name": "number",
         "rawType": "float64",
         "type": "float"
        },
        {
         "name": "orbital_period",
         "rawType": "float64",
         "type": "float"
        },
        {
         "name": "mass",
         "rawType": "float64",
         "type": "float"
        },
        {
         "name": "distance",
         "rawType": "float64",
         "type": "float"
        },
        {
         "name": "year",
         "rawType": "float64",
         "type": "float"
        }
       ],
       "ref": "772a210a-a3f0-46ca-b055-ba3cfc84f177",
       "rows": [
        [
         "count",
         "1035.0",
         "992.0",
         "513.0",
         "808.0",
         "1035.0"
        ],
        [
         "mean",
         "1.7855072463768116",
         "2002.9175960947582",
         "2.6381605847953216",
         "264.06928217821786",
         "2009.0705314009663"
        ],
        [
         "std",
         "1.2409761743386776",
         "26014.728304062508",
         "3.8186166509616046",
         "733.1164929404421",
         "3.972566857202212"
        ],
        [
         "min",
         "1.0",
         "0.09070629",
         "0.0036",
         "1.35",
         "1989.0"
        ],
        [
         "25%",
         "1.0",
         "5.4425405",
         "0.229",
         "32.56",
         "2007.0"
        ],
        [
         "50%",
         "1.0",
         "39.9795",
         "1.26",
         "55.25",
         "2010.0"
        ],
        [
         "75%",
         "2.0",
         "526.005",
         "3.04",
         "178.5",
         "2012.0"
        ],
        [
         "max",
         "7.0",
         "730000.0",
         "25.0",
         "8500.0",
         "2014.0"
        ]
       ],
       "shape": {
        "columns": 5,
        "rows": 8
       }
      },
      "text/html": [
       "<div>\n",
       "<style scoped>\n",
       "    .dataframe tbody tr th:only-of-type {\n",
       "        vertical-align: middle;\n",
       "    }\n",
       "\n",
       "    .dataframe tbody tr th {\n",
       "        vertical-align: top;\n",
       "    }\n",
       "\n",
       "    .dataframe thead th {\n",
       "        text-align: right;\n",
       "    }\n",
       "</style>\n",
       "<table border=\"1\" class=\"dataframe\">\n",
       "  <thead>\n",
       "    <tr style=\"text-align: right;\">\n",
       "      <th></th>\n",
       "      <th>number</th>\n",
       "      <th>orbital_period</th>\n",
       "      <th>mass</th>\n",
       "      <th>distance</th>\n",
       "      <th>year</th>\n",
       "    </tr>\n",
       "  </thead>\n",
       "  <tbody>\n",
       "    <tr>\n",
       "      <th>count</th>\n",
       "      <td>1035.000000</td>\n",
       "      <td>992.000000</td>\n",
       "      <td>513.000000</td>\n",
       "      <td>808.000000</td>\n",
       "      <td>1035.000000</td>\n",
       "    </tr>\n",
       "    <tr>\n",
       "      <th>mean</th>\n",
       "      <td>1.785507</td>\n",
       "      <td>2002.917596</td>\n",
       "      <td>2.638161</td>\n",
       "      <td>264.069282</td>\n",
       "      <td>2009.070531</td>\n",
       "    </tr>\n",
       "    <tr>\n",
       "      <th>std</th>\n",
       "      <td>1.240976</td>\n",
       "      <td>26014.728304</td>\n",
       "      <td>3.818617</td>\n",
       "      <td>733.116493</td>\n",
       "      <td>3.972567</td>\n",
       "    </tr>\n",
       "    <tr>\n",
       "      <th>min</th>\n",
       "      <td>1.000000</td>\n",
       "      <td>0.090706</td>\n",
       "      <td>0.003600</td>\n",
       "      <td>1.350000</td>\n",
       "      <td>1989.000000</td>\n",
       "    </tr>\n",
       "    <tr>\n",
       "      <th>25%</th>\n",
       "      <td>1.000000</td>\n",
       "      <td>5.442540</td>\n",
       "      <td>0.229000</td>\n",
       "      <td>32.560000</td>\n",
       "      <td>2007.000000</td>\n",
       "    </tr>\n",
       "    <tr>\n",
       "      <th>50%</th>\n",
       "      <td>1.000000</td>\n",
       "      <td>39.979500</td>\n",
       "      <td>1.260000</td>\n",
       "      <td>55.250000</td>\n",
       "      <td>2010.000000</td>\n",
       "    </tr>\n",
       "    <tr>\n",
       "      <th>75%</th>\n",
       "      <td>2.000000</td>\n",
       "      <td>526.005000</td>\n",
       "      <td>3.040000</td>\n",
       "      <td>178.500000</td>\n",
       "      <td>2012.000000</td>\n",
       "    </tr>\n",
       "    <tr>\n",
       "      <th>max</th>\n",
       "      <td>7.000000</td>\n",
       "      <td>730000.000000</td>\n",
       "      <td>25.000000</td>\n",
       "      <td>8500.000000</td>\n",
       "      <td>2014.000000</td>\n",
       "    </tr>\n",
       "  </tbody>\n",
       "</table>\n",
       "</div>"
      ],
      "text/plain": [
       "            number  orbital_period        mass     distance         year\n",
       "count  1035.000000      992.000000  513.000000   808.000000  1035.000000\n",
       "mean      1.785507     2002.917596    2.638161   264.069282  2009.070531\n",
       "std       1.240976    26014.728304    3.818617   733.116493     3.972567\n",
       "min       1.000000        0.090706    0.003600     1.350000  1989.000000\n",
       "25%       1.000000        5.442540    0.229000    32.560000  2007.000000\n",
       "50%       1.000000       39.979500    1.260000    55.250000  2010.000000\n",
       "75%       2.000000      526.005000    3.040000   178.500000  2012.000000\n",
       "max       7.000000   730000.000000   25.000000  8500.000000  2014.000000"
      ]
     },
     "execution_count": 7,
     "metadata": {},
     "output_type": "execute_result"
    }
   ],
   "source": [
    "#Caracteristicas de cada columna\n",
    "df_planetas.describe()"
   ]
  },
  {
   "cell_type": "markdown",
   "metadata": {},
   "source": [
    "Como se puede observar existen columnas que no tienen todos los datos (ver el parametro **count** que es diferente, solo cuenta cuando existe el dato)"
   ]
  },
  {
   "cell_type": "markdown",
   "metadata": {},
   "source": [
    "#  Introducción"
   ]
  },
  {
   "cell_type": "markdown",
   "metadata": {},
   "source": [
    "Una vez importado un conjunto de datos en pandas puede ser interesante ordenar el contenido de estos. Lo más habitual es ordenarlo en base a los valores de una o varias columnas. Para ordenar dataframes en pandas se pueden utilizar los métodos nativos de estos objetos. Lo que permite hacer esta tarea de un forma sencilla y eficiente."
   ]
  },
  {
   "cell_type": "markdown",
   "metadata": {},
   "source": [
    "# Ordenando datos"
   ]
  },
  {
   "cell_type": "markdown",
   "metadata": {},
   "source": [
    "## Ordenar en base al valor de una columna\n",
    "\n",
    "La primera tarea siempre es ordenar los conjuntos de datos en base a los valores de una columna. Por ejemplo, se puede ordenar los planetas en base al año de descubrimiento. Lo que se puede conseguir con la función ``sort()``  que se le ha de indicar el nombre de la columna por la que ordenar. Esto se puede ver en el siguiente ejemplo.\n"
   ]
  },
  {
   "cell_type": "code",
   "execution_count": 13,
   "metadata": {},
   "outputs": [
    {
     "data": {
      "application/vnd.microsoft.datawrangler.viewer.v0+json": {
       "columns": [
        {
         "name": "index",
         "rawType": "int64",
         "type": "integer"
        },
        {
         "name": "method",
         "rawType": "object",
         "type": "string"
        },
        {
         "name": "number",
         "rawType": "int64",
         "type": "integer"
        },
        {
         "name": "orbital_period",
         "rawType": "float64",
         "type": "float"
        },
        {
         "name": "mass",
         "rawType": "float64",
         "type": "float"
        },
        {
         "name": "distance",
         "rawType": "float64",
         "type": "float"
        },
        {
         "name": "year",
         "rawType": "int64",
         "type": "integer"
        }
       ],
       "ref": "a6174513-d924-4d69-ae79-68a49a1a19a3",
       "rows": [
        [
         "441",
         "Radial Velocity",
         "1",
         "83.888",
         "11.68",
         "40.57",
         "1989"
        ],
        [
         "942",
         "Pulsar Timing",
         "3",
         "66.5419",
         null,
         null,
         "1992"
        ],
        [
         "941",
         "Pulsar Timing",
         "3",
         "25.262",
         null,
         null,
         "1992"
        ],
        [
         "943",
         "Pulsar Timing",
         "3",
         "98.2114",
         null,
         null,
         "1994"
        ],
        [
         "16",
         "Radial Velocity",
         "1",
         "4.230785",
         "0.472",
         "15.36",
         "1995"
        ],
        [
         "64",
         "Radial Velocity",
         "4",
         "4.617033",
         "0.6876",
         "13.47",
         "1996"
        ],
        [
         "25",
         "Radial Velocity",
         "1",
         "116.6884",
         null,
         "18.11",
         "1996"
        ],
        [
         "62",
         "Radial Velocity",
         "1",
         "3.3135",
         "3.9",
         "15.6",
         "1996"
        ],
        [
         "7",
         "Radial Velocity",
         "1",
         "798.5",
         null,
         "21.41",
         "1996"
        ],
        [
         "17",
         "Radial Velocity",
         "5",
         "14.651",
         "0.8",
         "12.53",
         "1996"
        ],
        [
         "13",
         "Radial Velocity",
         "3",
         "1078.0",
         "2.53",
         "14.08",
         "1996"
        ],
        [
         "61",
         "Radial Velocity",
         "1",
         "39.845",
         "1.04",
         "17.43",
         "1997"
        ],
        [
         "589",
         "Radial Velocity",
         "1",
         "442.1",
         "1.23",
         "21.29",
         "1998"
        ],
        [
         "554",
         "Radial Velocity",
         "2",
         "3.097",
         "0.52",
         "47.92",
         "1998"
        ],
        [
         "526",
         "Radial Velocity",
         "2",
         "58.11289",
         "8.02",
         "37.88",
         "1998"
        ],
        [
         "603",
         "Radial Velocity",
         "2",
         "7.126816",
         "1.39",
         "19.72",
         "1998"
        ],
        [
         "142",
         "Radial Velocity",
         "4",
         "61.1166",
         "2.2756",
         "4.7",
         "1998"
        ],
        [
         "467",
         "Radial Velocity",
         "2",
         "258.19",
         "1.59",
         "25.65",
         "1999"
        ],
        [
         "460",
         "Radial Velocity",
         "1",
         "10.7085",
         "1.04",
         "29.76",
         "1999"
        ],
        [
         "114",
         "Radial Velocity",
         "1",
         "15.76491",
         "3.91",
         "10.91",
         "1999"
        ],
        [
         "568",
         "Radial Velocity",
         "1",
         "18.20163",
         "3.7",
         "37.35",
         "1999"
        ],
        [
         "615",
         "Radial Velocity",
         "1",
         "572.38",
         "7.75",
         "41.95",
         "1999"
        ],
        [
         "564",
         "Radial Velocity",
         "1",
         "24.348",
         "0.72",
         "19.89",
         "1999"
        ],
        [
         "66",
         "Radial Velocity",
         "4",
         "1276.46",
         "4.132",
         "13.47",
         "1999"
        ],
        [
         "538",
         "Radial Velocity",
         "2",
         "406.6",
         "1.49",
         "59.03",
         "1999"
        ],
        [
         "237",
         "Radial Velocity",
         "1",
         "1075.2",
         "6.21",
         "32.56",
         "1999"
        ],
        [
         "366",
         "Radial Velocity",
         "1",
         "3.51",
         "0.42",
         "28.94",
         "1999"
        ],
        [
         "386",
         "Radial Velocity",
         "1",
         "256.78",
         "8.44",
         "38.99",
         "1999"
        ],
        [
         "555",
         "Radial Velocity",
         "2",
         "3810.0",
         "1.99",
         "47.92",
         "1999"
        ],
        [
         "642",
         "Radial Velocity",
         "1",
         "311.288",
         "1.94",
         "17.24",
         "1999"
        ],
        [
         "588",
         "Radial Velocity",
         "1",
         "3.52474859",
         null,
         "47.08",
         "1999"
        ],
        [
         "65",
         "Radial Velocity",
         "4",
         "241.258",
         "1.981",
         "13.47",
         "1999"
        ],
        [
         "329",
         "Radial Velocity",
         "1",
         "3.024",
         "0.249",
         "33.41",
         "2000"
        ],
        [
         "306",
         "Radial Velocity",
         "2",
         "2140.2",
         "13.38",
         "42.43",
         "2000"
        ],
        [
         "277",
         "Radial Velocity",
         "1",
         "423.841",
         "1.28",
         "18.24",
         "2000"
        ],
        [
         "340",
         "Radial Velocity",
         "1",
         "118.96",
         "1.13",
         "28.07",
         "2000"
        ],
        [
         "147",
         "Radial Velocity",
         "1",
         "133.71",
         "3.37",
         "17.62",
         "2000"
        ],
        [
         "243",
         "Radial Velocity",
         "2",
         "262.709",
         "2.3",
         "37.16",
         "2000"
        ],
        [
         "251",
         "Radial Velocity",
         "1",
         "75.523",
         "0.26",
         "35.91",
         "2000"
        ],
        [
         "305",
         "Radial Velocity",
         "2",
         "14.3098",
         "0.839",
         "42.43",
         "2000"
        ],
        [
         "388",
         "Radial Velocity",
         "1",
         "325.81",
         "3.86",
         "32.32",
         "2000"
        ],
        [
         "48",
         "Radial Velocity",
         "1",
         "2502.0",
         "1.55",
         "3.22",
         "2000"
        ],
        [
         "78",
         "Radial Velocity",
         "1",
         "3.48777",
         null,
         "80.0",
         "2000"
        ],
        [
         "514",
         "Radial Velocity",
         "4",
         "643.25",
         null,
         "15.28",
         "2000"
        ],
        [
         "143",
         "Radial Velocity",
         "4",
         "30.0881",
         "0.7142",
         "4.7",
         "2000"
        ],
        [
         "542",
         "Radial Velocity",
         "1",
         "3.0925",
         "0.95",
         "27.05",
         "2000"
        ],
        [
         "529",
         "Radial Velocity",
         "2",
         "225.62",
         "2.88",
         "36.32",
         "2000"
        ],
        [
         "527",
         "Radial Velocity",
         "2",
         "1749.5",
         "18.1",
         "37.88",
         "2000"
        ],
        [
         "540",
         "Radial Velocity",
         "1",
         "71.484",
         "7.03",
         "46.73",
         "2001"
        ],
        [
         "442",
         "Radial Velocity",
         "1",
         "493.7",
         "1.1",
         "20.43",
         "2001"
        ]
       ],
       "shape": {
        "columns": 6,
        "rows": 1035
       }
      },
      "text/html": [
       "<div>\n",
       "<style scoped>\n",
       "    .dataframe tbody tr th:only-of-type {\n",
       "        vertical-align: middle;\n",
       "    }\n",
       "\n",
       "    .dataframe tbody tr th {\n",
       "        vertical-align: top;\n",
       "    }\n",
       "\n",
       "    .dataframe thead th {\n",
       "        text-align: right;\n",
       "    }\n",
       "</style>\n",
       "<table border=\"1\" class=\"dataframe\">\n",
       "  <thead>\n",
       "    <tr style=\"text-align: right;\">\n",
       "      <th></th>\n",
       "      <th>method</th>\n",
       "      <th>number</th>\n",
       "      <th>orbital_period</th>\n",
       "      <th>mass</th>\n",
       "      <th>distance</th>\n",
       "      <th>year</th>\n",
       "    </tr>\n",
       "  </thead>\n",
       "  <tbody>\n",
       "    <tr>\n",
       "      <th>441</th>\n",
       "      <td>Radial Velocity</td>\n",
       "      <td>1</td>\n",
       "      <td>83.888000</td>\n",
       "      <td>11.680</td>\n",
       "      <td>40.57</td>\n",
       "      <td>1989</td>\n",
       "    </tr>\n",
       "    <tr>\n",
       "      <th>942</th>\n",
       "      <td>Pulsar Timing</td>\n",
       "      <td>3</td>\n",
       "      <td>66.541900</td>\n",
       "      <td>NaN</td>\n",
       "      <td>NaN</td>\n",
       "      <td>1992</td>\n",
       "    </tr>\n",
       "    <tr>\n",
       "      <th>941</th>\n",
       "      <td>Pulsar Timing</td>\n",
       "      <td>3</td>\n",
       "      <td>25.262000</td>\n",
       "      <td>NaN</td>\n",
       "      <td>NaN</td>\n",
       "      <td>1992</td>\n",
       "    </tr>\n",
       "    <tr>\n",
       "      <th>943</th>\n",
       "      <td>Pulsar Timing</td>\n",
       "      <td>3</td>\n",
       "      <td>98.211400</td>\n",
       "      <td>NaN</td>\n",
       "      <td>NaN</td>\n",
       "      <td>1994</td>\n",
       "    </tr>\n",
       "    <tr>\n",
       "      <th>16</th>\n",
       "      <td>Radial Velocity</td>\n",
       "      <td>1</td>\n",
       "      <td>4.230785</td>\n",
       "      <td>0.472</td>\n",
       "      <td>15.36</td>\n",
       "      <td>1995</td>\n",
       "    </tr>\n",
       "    <tr>\n",
       "      <th>...</th>\n",
       "      <td>...</td>\n",
       "      <td>...</td>\n",
       "      <td>...</td>\n",
       "      <td>...</td>\n",
       "      <td>...</td>\n",
       "      <td>...</td>\n",
       "    </tr>\n",
       "    <tr>\n",
       "      <th>650</th>\n",
       "      <td>Transit</td>\n",
       "      <td>1</td>\n",
       "      <td>7.845700</td>\n",
       "      <td>NaN</td>\n",
       "      <td>222.00</td>\n",
       "      <td>2014</td>\n",
       "    </tr>\n",
       "    <tr>\n",
       "      <th>112</th>\n",
       "      <td>Transit</td>\n",
       "      <td>1</td>\n",
       "      <td>3.575320</td>\n",
       "      <td>NaN</td>\n",
       "      <td>NaN</td>\n",
       "      <td>2014</td>\n",
       "    </tr>\n",
       "    <tr>\n",
       "      <th>501</th>\n",
       "      <td>Radial Velocity</td>\n",
       "      <td>2</td>\n",
       "      <td>3452.000000</td>\n",
       "      <td>2.580</td>\n",
       "      <td>68.54</td>\n",
       "      <td>2014</td>\n",
       "    </tr>\n",
       "    <tr>\n",
       "      <th>194</th>\n",
       "      <td>Transit</td>\n",
       "      <td>1</td>\n",
       "      <td>2.691548</td>\n",
       "      <td>NaN</td>\n",
       "      <td>322.00</td>\n",
       "      <td>2014</td>\n",
       "    </tr>\n",
       "    <tr>\n",
       "      <th>1026</th>\n",
       "      <td>Transit</td>\n",
       "      <td>1</td>\n",
       "      <td>0.925542</td>\n",
       "      <td>NaN</td>\n",
       "      <td>470.00</td>\n",
       "      <td>2014</td>\n",
       "    </tr>\n",
       "  </tbody>\n",
       "</table>\n",
       "<p>1035 rows × 6 columns</p>\n",
       "</div>"
      ],
      "text/plain": [
       "               method  number  orbital_period    mass  distance  year\n",
       "441   Radial Velocity       1       83.888000  11.680     40.57  1989\n",
       "942     Pulsar Timing       3       66.541900     NaN       NaN  1992\n",
       "941     Pulsar Timing       3       25.262000     NaN       NaN  1992\n",
       "943     Pulsar Timing       3       98.211400     NaN       NaN  1994\n",
       "16    Radial Velocity       1        4.230785   0.472     15.36  1995\n",
       "...               ...     ...             ...     ...       ...   ...\n",
       "650           Transit       1        7.845700     NaN    222.00  2014\n",
       "112           Transit       1        3.575320     NaN       NaN  2014\n",
       "501   Radial Velocity       2     3452.000000   2.580     68.54  2014\n",
       "194           Transit       1        2.691548     NaN    322.00  2014\n",
       "1026          Transit       1        0.925542     NaN    470.00  2014\n",
       "\n",
       "[1035 rows x 6 columns]"
      ]
     },
     "execution_count": 13,
     "metadata": {},
     "output_type": "execute_result"
    }
   ],
   "source": [
    "#Ordenar por año \n",
    "df_planetas.sort_values(\"year\")"
   ]
  },
  {
   "cell_type": "markdown",
   "metadata": {},
   "source": [
    "Lo primero que se puede observar es el hecho de que los registros se ordenan de forma ascendente. Por lo que los planetas descubiertos recientemente aparecerán al final del nuevo conjunto de datos."
   ]
  },
  {
   "cell_type": "code",
   "execution_count": 15,
   "metadata": {},
   "outputs": [
    {
     "data": {
      "application/vnd.microsoft.datawrangler.viewer.v0+json": {
       "columns": [
        {
         "name": "index",
         "rawType": "int64",
         "type": "integer"
        },
        {
         "name": "method",
         "rawType": "object",
         "type": "string"
        },
        {
         "name": "number",
         "rawType": "int64",
         "type": "integer"
        },
        {
         "name": "orbital_period",
         "rawType": "float64",
         "type": "float"
        },
        {
         "name": "mass",
         "rawType": "float64",
         "type": "float"
        },
        {
         "name": "distance",
         "rawType": "float64",
         "type": "float"
        },
        {
         "name": "year",
         "rawType": "int64",
         "type": "integer"
        }
       ],
       "ref": "a0e2c583-0e1c-4518-a26d-a8b44ce43cd4",
       "rows": [
        [
         "501",
         "Radial Velocity",
         "2",
         "3452.0",
         "2.58",
         "68.54",
         "2014"
        ],
        [
         "916",
         "Radial Velocity",
         "1",
         "121.71",
         "1.54",
         null,
         "2014"
        ],
        [
         "914",
         "Radial Velocity",
         "1",
         "6.958",
         "0.34",
         null,
         "2014"
        ],
        [
         "741",
         "Transit",
         "4",
         "42.8961",
         null,
         null,
         "2014"
        ],
        [
         "915",
         "Radial Velocity",
         "1",
         "5.118",
         "0.4",
         null,
         "2014"
        ]
       ],
       "shape": {
        "columns": 6,
        "rows": 5
       }
      },
      "text/html": [
       "<div>\n",
       "<style scoped>\n",
       "    .dataframe tbody tr th:only-of-type {\n",
       "        vertical-align: middle;\n",
       "    }\n",
       "\n",
       "    .dataframe tbody tr th {\n",
       "        vertical-align: top;\n",
       "    }\n",
       "\n",
       "    .dataframe thead th {\n",
       "        text-align: right;\n",
       "    }\n",
       "</style>\n",
       "<table border=\"1\" class=\"dataframe\">\n",
       "  <thead>\n",
       "    <tr style=\"text-align: right;\">\n",
       "      <th></th>\n",
       "      <th>method</th>\n",
       "      <th>number</th>\n",
       "      <th>orbital_period</th>\n",
       "      <th>mass</th>\n",
       "      <th>distance</th>\n",
       "      <th>year</th>\n",
       "    </tr>\n",
       "  </thead>\n",
       "  <tbody>\n",
       "    <tr>\n",
       "      <th>501</th>\n",
       "      <td>Radial Velocity</td>\n",
       "      <td>2</td>\n",
       "      <td>3452.0000</td>\n",
       "      <td>2.58</td>\n",
       "      <td>68.54</td>\n",
       "      <td>2014</td>\n",
       "    </tr>\n",
       "    <tr>\n",
       "      <th>916</th>\n",
       "      <td>Radial Velocity</td>\n",
       "      <td>1</td>\n",
       "      <td>121.7100</td>\n",
       "      <td>1.54</td>\n",
       "      <td>NaN</td>\n",
       "      <td>2014</td>\n",
       "    </tr>\n",
       "    <tr>\n",
       "      <th>914</th>\n",
       "      <td>Radial Velocity</td>\n",
       "      <td>1</td>\n",
       "      <td>6.9580</td>\n",
       "      <td>0.34</td>\n",
       "      <td>NaN</td>\n",
       "      <td>2014</td>\n",
       "    </tr>\n",
       "    <tr>\n",
       "      <th>741</th>\n",
       "      <td>Transit</td>\n",
       "      <td>4</td>\n",
       "      <td>42.8961</td>\n",
       "      <td>NaN</td>\n",
       "      <td>NaN</td>\n",
       "      <td>2014</td>\n",
       "    </tr>\n",
       "    <tr>\n",
       "      <th>915</th>\n",
       "      <td>Radial Velocity</td>\n",
       "      <td>1</td>\n",
       "      <td>5.1180</td>\n",
       "      <td>0.40</td>\n",
       "      <td>NaN</td>\n",
       "      <td>2014</td>\n",
       "    </tr>\n",
       "  </tbody>\n",
       "</table>\n",
       "</div>"
      ],
      "text/plain": [
       "              method  number  orbital_period  mass  distance  year\n",
       "501  Radial Velocity       2       3452.0000  2.58     68.54  2014\n",
       "916  Radial Velocity       1        121.7100  1.54       NaN  2014\n",
       "914  Radial Velocity       1          6.9580  0.34       NaN  2014\n",
       "741          Transit       4         42.8961   NaN       NaN  2014\n",
       "915  Radial Velocity       1          5.1180  0.40       NaN  2014"
      ]
     },
     "execution_count": 15,
     "metadata": {},
     "output_type": "execute_result"
    }
   ],
   "source": [
    "#Encontrar los 5 registros más recientes\n",
    "df_planetas.sort_values('year', ascending=False).head(5)"
   ]
  },
  {
   "cell_type": "markdown",
   "metadata": {},
   "source": [
    "## Ordenar en base al valor de una columna en orden descendente\n",
    "\n",
    "En el ejemplo anterior, si se quiere tener al principio del conjunto de datos ordenado es necesario cambiar el método de ordenación. Para ello existe la propiedad ascending que indica si se ordena de forma ascendente. El valor por defecto de esta propiedad es verdadero, por lo que solamente es necesario indicar el valor cuando se desea ordenar en orden descendente. Así para ordenar los planetas por año en orden descendente se puede es necesario escribir.\n"
   ]
  },
  {
   "cell_type": "code",
   "execution_count": 7,
   "metadata": {},
   "outputs": [
    {
     "data": {
      "text/html": [
       "<div>\n",
       "<style scoped>\n",
       "    .dataframe tbody tr th:only-of-type {\n",
       "        vertical-align: middle;\n",
       "    }\n",
       "\n",
       "    .dataframe tbody tr th {\n",
       "        vertical-align: top;\n",
       "    }\n",
       "\n",
       "    .dataframe thead th {\n",
       "        text-align: right;\n",
       "    }\n",
       "</style>\n",
       "<table border=\"1\" class=\"dataframe\">\n",
       "  <thead>\n",
       "    <tr style=\"text-align: right;\">\n",
       "      <th></th>\n",
       "      <th>method</th>\n",
       "      <th>number</th>\n",
       "      <th>orbital_period</th>\n",
       "      <th>mass</th>\n",
       "      <th>distance</th>\n",
       "      <th>year</th>\n",
       "    </tr>\n",
       "  </thead>\n",
       "  <tbody>\n",
       "    <tr>\n",
       "      <th>852</th>\n",
       "      <td>Transit</td>\n",
       "      <td>4</td>\n",
       "      <td>43.844500</td>\n",
       "      <td>NaN</td>\n",
       "      <td>NaN</td>\n",
       "      <td>2014</td>\n",
       "    </tr>\n",
       "    <tr>\n",
       "      <th>890</th>\n",
       "      <td>Transit</td>\n",
       "      <td>2</td>\n",
       "      <td>2.426290</td>\n",
       "      <td>NaN</td>\n",
       "      <td>NaN</td>\n",
       "      <td>2014</td>\n",
       "    </tr>\n",
       "    <tr>\n",
       "      <th>440</th>\n",
       "      <td>Radial Velocity</td>\n",
       "      <td>1</td>\n",
       "      <td>3827.000000</td>\n",
       "      <td>0.480</td>\n",
       "      <td>20.48</td>\n",
       "      <td>2014</td>\n",
       "    </tr>\n",
       "    <tr>\n",
       "      <th>895</th>\n",
       "      <td>Transit</td>\n",
       "      <td>1</td>\n",
       "      <td>68.958400</td>\n",
       "      <td>NaN</td>\n",
       "      <td>NaN</td>\n",
       "      <td>2014</td>\n",
       "    </tr>\n",
       "    <tr>\n",
       "      <th>894</th>\n",
       "      <td>Transit</td>\n",
       "      <td>1</td>\n",
       "      <td>2.465020</td>\n",
       "      <td>NaN</td>\n",
       "      <td>NaN</td>\n",
       "      <td>2014</td>\n",
       "    </tr>\n",
       "    <tr>\n",
       "      <th>...</th>\n",
       "      <td>...</td>\n",
       "      <td>...</td>\n",
       "      <td>...</td>\n",
       "      <td>...</td>\n",
       "      <td>...</td>\n",
       "      <td>...</td>\n",
       "    </tr>\n",
       "    <tr>\n",
       "      <th>16</th>\n",
       "      <td>Radial Velocity</td>\n",
       "      <td>1</td>\n",
       "      <td>4.230785</td>\n",
       "      <td>0.472</td>\n",
       "      <td>15.36</td>\n",
       "      <td>1995</td>\n",
       "    </tr>\n",
       "    <tr>\n",
       "      <th>943</th>\n",
       "      <td>Pulsar Timing</td>\n",
       "      <td>3</td>\n",
       "      <td>98.211400</td>\n",
       "      <td>NaN</td>\n",
       "      <td>NaN</td>\n",
       "      <td>1994</td>\n",
       "    </tr>\n",
       "    <tr>\n",
       "      <th>941</th>\n",
       "      <td>Pulsar Timing</td>\n",
       "      <td>3</td>\n",
       "      <td>25.262000</td>\n",
       "      <td>NaN</td>\n",
       "      <td>NaN</td>\n",
       "      <td>1992</td>\n",
       "    </tr>\n",
       "    <tr>\n",
       "      <th>942</th>\n",
       "      <td>Pulsar Timing</td>\n",
       "      <td>3</td>\n",
       "      <td>66.541900</td>\n",
       "      <td>NaN</td>\n",
       "      <td>NaN</td>\n",
       "      <td>1992</td>\n",
       "    </tr>\n",
       "    <tr>\n",
       "      <th>441</th>\n",
       "      <td>Radial Velocity</td>\n",
       "      <td>1</td>\n",
       "      <td>83.888000</td>\n",
       "      <td>11.680</td>\n",
       "      <td>40.57</td>\n",
       "      <td>1989</td>\n",
       "    </tr>\n",
       "  </tbody>\n",
       "</table>\n",
       "<p>1035 rows × 6 columns</p>\n",
       "</div>"
      ],
      "text/plain": [
       "              method  number  orbital_period    mass  distance  year\n",
       "852          Transit       4       43.844500     NaN       NaN  2014\n",
       "890          Transit       2        2.426290     NaN       NaN  2014\n",
       "440  Radial Velocity       1     3827.000000   0.480     20.48  2014\n",
       "895          Transit       1       68.958400     NaN       NaN  2014\n",
       "894          Transit       1        2.465020     NaN       NaN  2014\n",
       "..               ...     ...             ...     ...       ...   ...\n",
       "16   Radial Velocity       1        4.230785   0.472     15.36  1995\n",
       "943    Pulsar Timing       3       98.211400     NaN       NaN  1994\n",
       "941    Pulsar Timing       3       25.262000     NaN       NaN  1992\n",
       "942    Pulsar Timing       3       66.541900     NaN       NaN  1992\n",
       "441  Radial Velocity       1       83.888000  11.680     40.57  1989\n",
       "\n",
       "[1035 rows x 6 columns]"
      ]
     },
     "execution_count": 7,
     "metadata": {},
     "output_type": "execute_result"
    }
   ],
   "source": [
    "# Ordenar comenzando con los registros más recientes\n"
   ]
  },
  {
   "cell_type": "markdown",
   "metadata": {},
   "source": [
    "### Tener en cuenta los nulos a la hora de ordenar\n",
    "\n",
    "Si en la columna del conjunto de datos que se esté ordenando existe valores nulos, por defecto estos serán puestos al final. La columna periodo orbital contiene valores nulos, al ordenar por ésta se obtiene."
   ]
  },
  {
   "cell_type": "code",
   "execution_count": 16,
   "metadata": {},
   "outputs": [
    {
     "data": {
      "application/vnd.microsoft.datawrangler.viewer.v0+json": {
       "columns": [
        {
         "name": "index",
         "rawType": "int64",
         "type": "integer"
        },
        {
         "name": "method",
         "rawType": "object",
         "type": "string"
        },
        {
         "name": "number",
         "rawType": "int64",
         "type": "integer"
        },
        {
         "name": "orbital_period",
         "rawType": "float64",
         "type": "float"
        },
        {
         "name": "mass",
         "rawType": "float64",
         "type": "float"
        },
        {
         "name": "distance",
         "rawType": "float64",
         "type": "float"
        },
        {
         "name": "year",
         "rawType": "int64",
         "type": "integer"
        }
       ],
       "ref": "e1eaf09f-7855-422e-adc7-8c635fde650b",
       "rows": [
        [
         "945",
         "Pulsar Timing",
         "1",
         "0.09070629",
         null,
         "1200.0",
         "2011"
        ],
        [
         "787",
         "Orbital Brightness Modulation",
         "2",
         "0.240104",
         null,
         "1180.0",
         "2011"
        ],
        [
         "788",
         "Orbital Brightness Modulation",
         "2",
         "0.342887",
         null,
         "1180.0",
         "2011"
        ],
        [
         "794",
         "Transit",
         "1",
         "0.355",
         null,
         null,
         "2013"
        ],
        [
         "730",
         "Transit",
         "3",
         "0.45328509",
         null,
         "38.7",
         "2011"
        ],
        [
         "892",
         "Transit",
         "2",
         "0.66931",
         null,
         null,
         "2014"
        ],
        [
         "20",
         "Radial Velocity",
         "5",
         "0.73654",
         null,
         "12.53",
         "2011"
        ],
        [
         "712",
         "Transit",
         "5",
         "0.74296",
         null,
         "303.0",
         "2012"
        ],
        [
         "976",
         "Transit",
         "1",
         "0.78884",
         null,
         "250.0",
         "2009"
        ],
        [
         "996",
         "Transit",
         "1",
         "0.813475",
         null,
         "80.0",
         "2011"
        ],
        [
         "662",
         "Transit",
         "2",
         "0.837495",
         null,
         "173.0",
         "2011"
        ],
        [
         "97",
         "Transit",
         "2",
         "0.853585",
         null,
         "150.0",
         "2009"
        ],
        [
         "1026",
         "Transit",
         "1",
         "0.925542",
         null,
         "470.0",
         "2014"
        ],
        [
         "975",
         "Transit",
         "1",
         "0.94145299",
         null,
         "105.49",
         "2009"
        ],
        [
         "969",
         "Transit",
         "1",
         "1.091423",
         null,
         null,
         "2008"
        ],
        [
         "931",
         "Transit",
         "1",
         "1.2119189",
         null,
         null,
         "2002"
        ],
        [
         "172",
         "Transit",
         "1",
         "1.212884",
         null,
         "393.0",
         "2010"
        ],
        [
         "729",
         "Transit",
         "3",
         "1.2137672",
         null,
         "38.7",
         "2011"
        ],
        [
         "647",
         "Transit",
         "1",
         "1.217514",
         null,
         "262.0",
         "2012"
        ],
        [
         "987",
         "Transit",
         "1",
         "1.2198669",
         null,
         "116.14",
         "2010"
        ],
        [
         "954",
         "Transit",
         "1",
         "1.30618581",
         null,
         "228.0",
         "2007"
        ],
        [
         "186",
         "Transit",
         "1",
         "1.327347",
         null,
         "317.0",
         "2011"
        ],
        [
         "317",
         "Radial Velocity",
         "1",
         "1.3283",
         "18.37",
         "43.03",
         "2003"
        ],
        [
         "947",
         "Transit",
         "1",
         "1.3371182",
         null,
         null,
         "2011"
        ],
        [
         "962",
         "Transit",
         "1",
         "1.33823187",
         null,
         "300.0",
         "2007"
        ],
        [
         "196",
         "Transit",
         "1",
         "1.354133",
         null,
         "360.0",
         "2013"
        ],
        [
         "1022",
         "Transit",
         "1",
         "1.3600309",
         null,
         "93.0",
         "2012"
        ],
        [
         "946",
         "Transit",
         "1",
         "1.420033",
         null,
         null,
         "2010"
        ],
        [
         "999",
         "Transit",
         "1",
         "1.43037",
         null,
         null,
         "2011"
        ],
        [
         "933",
         "Transit",
         "1",
         "1.4324752",
         null,
         "600.0",
         "2004"
        ],
        [
         "956",
         "Transit",
         "1",
         "1.4822446",
         null,
         "360.0",
         "2011"
        ],
        [
         "675",
         "Transit",
         "1",
         "1.4857108",
         null,
         "800.0",
         "2011"
        ],
        [
         "91",
         "Transit",
         "1",
         "1.5089557",
         null,
         null,
         "2008"
        ],
        [
         "105",
         "Transit",
         "1",
         "1.51214",
         null,
         "1340.0",
         "2010"
        ],
        [
         "990",
         "Transit",
         "1",
         "1.5373653",
         null,
         "450.0",
         "2011"
        ],
        [
         "836",
         "Transit",
         "1",
         "1.54168",
         null,
         null,
         "2014"
        ],
        [
         "792",
         "Orbital Brightness Modulation",
         "1",
         "1.54492875",
         null,
         null,
         "2013"
        ],
        [
         "1015",
         "Transit",
         "1",
         "1.5732918",
         null,
         "350.0",
         "2012"
        ],
        [
         "146",
         "Transit",
         "1",
         "1.58040482",
         null,
         null,
         "2009"
        ],
        [
         "661",
         "Transit",
         "3",
         "1.592851",
         null,
         "650.0",
         "2010"
        ],
        [
         "963",
         "Transit",
         "1",
         "1.62843142",
         null,
         "300.0",
         "2008"
        ],
        [
         "934",
         "Transit",
         "1",
         "1.689868",
         null,
         "2500.0",
         "2004"
        ],
        [
         "898",
         "Transit",
         "1",
         "1.72086123",
         null,
         "1056.0",
         "2014"
        ],
        [
         "92",
         "Transit",
         "1",
         "1.7429935",
         null,
         "200.0",
         "2008"
        ],
        [
         "1004",
         "Transit",
         "1",
         "1.7497798",
         null,
         "140.0",
         "2012"
        ],
        [
         "671",
         "Transit",
         "1",
         "1.7635892",
         null,
         null,
         "2011"
        ],
        [
         "952",
         "Transit",
         "1",
         "1.796",
         null,
         "8500.0",
         "2006"
        ],
        [
         "961",
         "Transit",
         "1",
         "1.846835",
         null,
         "220.0",
         "2007"
        ],
        [
         "728",
         "Transit",
         "1",
         "1.855558",
         null,
         "770.0",
         "2011"
        ],
        [
         "731",
         "Transit",
         "3",
         "1.865169",
         null,
         "38.7",
         "2011"
        ]
       ],
       "shape": {
        "columns": 6,
        "rows": 1035
       }
      },
      "text/html": [
       "<div>\n",
       "<style scoped>\n",
       "    .dataframe tbody tr th:only-of-type {\n",
       "        vertical-align: middle;\n",
       "    }\n",
       "\n",
       "    .dataframe tbody tr th {\n",
       "        vertical-align: top;\n",
       "    }\n",
       "\n",
       "    .dataframe thead th {\n",
       "        text-align: right;\n",
       "    }\n",
       "</style>\n",
       "<table border=\"1\" class=\"dataframe\">\n",
       "  <thead>\n",
       "    <tr style=\"text-align: right;\">\n",
       "      <th></th>\n",
       "      <th>method</th>\n",
       "      <th>number</th>\n",
       "      <th>orbital_period</th>\n",
       "      <th>mass</th>\n",
       "      <th>distance</th>\n",
       "      <th>year</th>\n",
       "    </tr>\n",
       "  </thead>\n",
       "  <tbody>\n",
       "    <tr>\n",
       "      <th>945</th>\n",
       "      <td>Pulsar Timing</td>\n",
       "      <td>1</td>\n",
       "      <td>0.090706</td>\n",
       "      <td>NaN</td>\n",
       "      <td>1200.0</td>\n",
       "      <td>2011</td>\n",
       "    </tr>\n",
       "    <tr>\n",
       "      <th>787</th>\n",
       "      <td>Orbital Brightness Modulation</td>\n",
       "      <td>2</td>\n",
       "      <td>0.240104</td>\n",
       "      <td>NaN</td>\n",
       "      <td>1180.0</td>\n",
       "      <td>2011</td>\n",
       "    </tr>\n",
       "    <tr>\n",
       "      <th>788</th>\n",
       "      <td>Orbital Brightness Modulation</td>\n",
       "      <td>2</td>\n",
       "      <td>0.342887</td>\n",
       "      <td>NaN</td>\n",
       "      <td>1180.0</td>\n",
       "      <td>2011</td>\n",
       "    </tr>\n",
       "    <tr>\n",
       "      <th>794</th>\n",
       "      <td>Transit</td>\n",
       "      <td>1</td>\n",
       "      <td>0.355000</td>\n",
       "      <td>NaN</td>\n",
       "      <td>NaN</td>\n",
       "      <td>2013</td>\n",
       "    </tr>\n",
       "    <tr>\n",
       "      <th>730</th>\n",
       "      <td>Transit</td>\n",
       "      <td>3</td>\n",
       "      <td>0.453285</td>\n",
       "      <td>NaN</td>\n",
       "      <td>38.7</td>\n",
       "      <td>2011</td>\n",
       "    </tr>\n",
       "    <tr>\n",
       "      <th>...</th>\n",
       "      <td>...</td>\n",
       "      <td>...</td>\n",
       "      <td>...</td>\n",
       "      <td>...</td>\n",
       "      <td>...</td>\n",
       "      <td>...</td>\n",
       "    </tr>\n",
       "    <tr>\n",
       "      <th>949</th>\n",
       "      <td>Imaging</td>\n",
       "      <td>1</td>\n",
       "      <td>NaN</td>\n",
       "      <td>NaN</td>\n",
       "      <td>120.0</td>\n",
       "      <td>2013</td>\n",
       "    </tr>\n",
       "    <tr>\n",
       "      <th>950</th>\n",
       "      <td>Imaging</td>\n",
       "      <td>1</td>\n",
       "      <td>NaN</td>\n",
       "      <td>NaN</td>\n",
       "      <td>NaN</td>\n",
       "      <td>2010</td>\n",
       "    </tr>\n",
       "    <tr>\n",
       "      <th>957</th>\n",
       "      <td>Imaging</td>\n",
       "      <td>1</td>\n",
       "      <td>NaN</td>\n",
       "      <td>NaN</td>\n",
       "      <td>NaN</td>\n",
       "      <td>2008</td>\n",
       "    </tr>\n",
       "    <tr>\n",
       "      <th>1027</th>\n",
       "      <td>Imaging</td>\n",
       "      <td>1</td>\n",
       "      <td>NaN</td>\n",
       "      <td>NaN</td>\n",
       "      <td>19.2</td>\n",
       "      <td>2011</td>\n",
       "    </tr>\n",
       "    <tr>\n",
       "      <th>1029</th>\n",
       "      <td>Imaging</td>\n",
       "      <td>1</td>\n",
       "      <td>NaN</td>\n",
       "      <td>NaN</td>\n",
       "      <td>10.1</td>\n",
       "      <td>2012</td>\n",
       "    </tr>\n",
       "  </tbody>\n",
       "</table>\n",
       "<p>1035 rows × 6 columns</p>\n",
       "</div>"
      ],
      "text/plain": [
       "                             method  number  orbital_period  mass  distance  \\\n",
       "945                   Pulsar Timing       1        0.090706   NaN    1200.0   \n",
       "787   Orbital Brightness Modulation       2        0.240104   NaN    1180.0   \n",
       "788   Orbital Brightness Modulation       2        0.342887   NaN    1180.0   \n",
       "794                         Transit       1        0.355000   NaN       NaN   \n",
       "730                         Transit       3        0.453285   NaN      38.7   \n",
       "...                             ...     ...             ...   ...       ...   \n",
       "949                         Imaging       1             NaN   NaN     120.0   \n",
       "950                         Imaging       1             NaN   NaN       NaN   \n",
       "957                         Imaging       1             NaN   NaN       NaN   \n",
       "1027                        Imaging       1             NaN   NaN      19.2   \n",
       "1029                        Imaging       1             NaN   NaN      10.1   \n",
       "\n",
       "      year  \n",
       "945   2011  \n",
       "787   2011  \n",
       "788   2011  \n",
       "794   2013  \n",
       "730   2011  \n",
       "...    ...  \n",
       "949   2013  \n",
       "950   2010  \n",
       "957   2008  \n",
       "1027  2011  \n",
       "1029  2012  \n",
       "\n",
       "[1035 rows x 6 columns]"
      ]
     },
     "execution_count": 16,
     "metadata": {},
     "output_type": "execute_result"
    }
   ],
   "source": [
    "# Ordenar considerando el campo 'orbital_period' \n",
    "df_planetas.sort_values('orbital_period')"
   ]
  },
  {
   "cell_type": "markdown",
   "metadata": {},
   "source": [
    "Para modificar el orden existe la propiedad ``na_position`` en la que se puede indicar si estos han de estar la principio. Así, para que los nulos sean los primero simplemente se ha de ejecutar la siguiente línea."
   ]
  },
  {
   "cell_type": "code",
   "execution_count": 17,
   "metadata": {},
   "outputs": [
    {
     "data": {
      "application/vnd.microsoft.datawrangler.viewer.v0+json": {
       "columns": [
        {
         "name": "index",
         "rawType": "int64",
         "type": "integer"
        },
        {
         "name": "method",
         "rawType": "object",
         "type": "string"
        },
        {
         "name": "number",
         "rawType": "int64",
         "type": "integer"
        },
        {
         "name": "orbital_period",
         "rawType": "float64",
         "type": "float"
        },
        {
         "name": "mass",
         "rawType": "float64",
         "type": "float"
        },
        {
         "name": "distance",
         "rawType": "float64",
         "type": "float"
        },
        {
         "name": "year",
         "rawType": "int64",
         "type": "integer"
        }
       ],
       "ref": "50b363b2-6e45-4bd4-86d3-1c8d64c6aaf1",
       "rows": [
        [
         "29",
         "Imaging",
         "1",
         null,
         null,
         "45.52",
         "2005"
        ],
        [
         "30",
         "Imaging",
         "1",
         null,
         null,
         "165.0",
         "2007"
        ],
        [
         "31",
         "Imaging",
         "1",
         null,
         null,
         "140.0",
         "2004"
        ],
        [
         "33",
         "Imaging",
         "1",
         null,
         null,
         null,
         "2008"
        ],
        [
         "34",
         "Imaging",
         "1",
         null,
         null,
         "145.0",
         "2013"
        ],
        [
         "35",
         "Imaging",
         "1",
         null,
         null,
         "139.0",
         "2004"
        ],
        [
         "36",
         "Imaging",
         "1",
         null,
         null,
         "18.39",
         "2006"
        ],
        [
         "54",
         "Imaging",
         "1",
         null,
         null,
         "52.03",
         "2012"
        ],
        [
         "69",
         "Imaging",
         "1",
         null,
         null,
         "145.0",
         "2008"
        ],
        [
         "70",
         "Imaging",
         "1",
         null,
         null,
         "36.0",
         "2013"
        ],
        [
         "71",
         "Imaging",
         "1",
         null,
         null,
         "140.0",
         "2010"
        ],
        [
         "73",
         "Imaging",
         "1",
         null,
         null,
         "52.4",
         "2004"
        ],
        [
         "90",
         "Imaging",
         "1",
         null,
         null,
         null,
         "2006"
        ],
        [
         "124",
         "Imaging",
         "1",
         null,
         null,
         "17.95",
         "2013"
        ],
        [
         "150",
         "Imaging",
         "1",
         null,
         null,
         "145.0",
         "2010"
        ],
        [
         "392",
         "Imaging",
         "1",
         null,
         null,
         "91.57",
         "2013"
        ],
        [
         "423",
         "Imaging",
         "1",
         null,
         null,
         "91.83",
         "2013"
        ],
        [
         "577",
         "Imaging",
         "1",
         null,
         null,
         "40.85",
         "2006"
        ],
        [
         "635",
         "Imaging",
         "1",
         null,
         null,
         "11.43",
         "2010"
        ],
        [
         "639",
         "Imaging",
         "1",
         null,
         null,
         "131.93",
         "2010"
        ],
        [
         "749",
         "Transit Timing Variations",
         "3",
         null,
         null,
         null,
         "2014"
        ],
        [
         "902",
         "Microlensing",
         "1",
         null,
         null,
         null,
         "2008"
        ],
        [
         "903",
         "Microlensing",
         "1",
         null,
         null,
         null,
         "2008"
        ],
        [
         "904",
         "Microlensing",
         "1",
         null,
         null,
         null,
         "2009"
        ],
        [
         "905",
         "Microlensing",
         "1",
         null,
         null,
         "3600.0",
         "2013"
        ],
        [
         "907",
         "Microlensing",
         "1",
         null,
         null,
         null,
         "2010"
        ],
        [
         "909",
         "Microlensing",
         "1",
         null,
         null,
         "2300.0",
         "2012"
        ],
        [
         "910",
         "Microlensing",
         "1",
         null,
         null,
         "2800.0",
         "2012"
        ],
        [
         "911",
         "Microlensing",
         "1",
         null,
         null,
         "7720.0",
         "2012"
        ],
        [
         "912",
         "Microlensing",
         "1",
         null,
         null,
         "7560.0",
         "2013"
        ],
        [
         "917",
         "Microlensing",
         "1",
         null,
         null,
         null,
         "2004"
        ],
        [
         "923",
         "Microlensing",
         "1",
         null,
         null,
         null,
         "2009"
        ],
        [
         "924",
         "Microlensing",
         "1",
         null,
         null,
         "2570.0",
         "2012"
        ],
        [
         "925",
         "Microlensing",
         "2",
         null,
         null,
         "4080.0",
         "2012"
        ],
        [
         "926",
         "Microlensing",
         "2",
         null,
         null,
         "4080.0",
         "2012"
        ],
        [
         "927",
         "Microlensing",
         "1",
         null,
         null,
         "1760.0",
         "2013"
        ],
        [
         "928",
         "Microlensing",
         "1",
         null,
         null,
         "4970.0",
         "2013"
        ],
        [
         "948",
         "Imaging",
         "1",
         null,
         null,
         "135.0",
         "2013"
        ],
        [
         "949",
         "Imaging",
         "1",
         null,
         null,
         "120.0",
         "2013"
        ],
        [
         "950",
         "Imaging",
         "1",
         null,
         null,
         null,
         "2010"
        ],
        [
         "957",
         "Imaging",
         "1",
         null,
         null,
         null,
         "2008"
        ],
        [
         "1027",
         "Imaging",
         "1",
         null,
         null,
         "19.2",
         "2011"
        ],
        [
         "1029",
         "Imaging",
         "1",
         null,
         null,
         "10.1",
         "2012"
        ],
        [
         "945",
         "Pulsar Timing",
         "1",
         "0.09070629",
         null,
         "1200.0",
         "2011"
        ],
        [
         "787",
         "Orbital Brightness Modulation",
         "2",
         "0.240104",
         null,
         "1180.0",
         "2011"
        ],
        [
         "788",
         "Orbital Brightness Modulation",
         "2",
         "0.342887",
         null,
         "1180.0",
         "2011"
        ],
        [
         "794",
         "Transit",
         "1",
         "0.355",
         null,
         null,
         "2013"
        ],
        [
         "730",
         "Transit",
         "3",
         "0.45328509",
         null,
         "38.7",
         "2011"
        ],
        [
         "892",
         "Transit",
         "2",
         "0.66931",
         null,
         null,
         "2014"
        ],
        [
         "20",
         "Radial Velocity",
         "5",
         "0.73654",
         null,
         "12.53",
         "2011"
        ]
       ],
       "shape": {
        "columns": 6,
        "rows": 1035
       }
      },
      "text/html": [
       "<div>\n",
       "<style scoped>\n",
       "    .dataframe tbody tr th:only-of-type {\n",
       "        vertical-align: middle;\n",
       "    }\n",
       "\n",
       "    .dataframe tbody tr th {\n",
       "        vertical-align: top;\n",
       "    }\n",
       "\n",
       "    .dataframe thead th {\n",
       "        text-align: right;\n",
       "    }\n",
       "</style>\n",
       "<table border=\"1\" class=\"dataframe\">\n",
       "  <thead>\n",
       "    <tr style=\"text-align: right;\">\n",
       "      <th></th>\n",
       "      <th>method</th>\n",
       "      <th>number</th>\n",
       "      <th>orbital_period</th>\n",
       "      <th>mass</th>\n",
       "      <th>distance</th>\n",
       "      <th>year</th>\n",
       "    </tr>\n",
       "  </thead>\n",
       "  <tbody>\n",
       "    <tr>\n",
       "      <th>29</th>\n",
       "      <td>Imaging</td>\n",
       "      <td>1</td>\n",
       "      <td>NaN</td>\n",
       "      <td>NaN</td>\n",
       "      <td>45.52</td>\n",
       "      <td>2005</td>\n",
       "    </tr>\n",
       "    <tr>\n",
       "      <th>30</th>\n",
       "      <td>Imaging</td>\n",
       "      <td>1</td>\n",
       "      <td>NaN</td>\n",
       "      <td>NaN</td>\n",
       "      <td>165.00</td>\n",
       "      <td>2007</td>\n",
       "    </tr>\n",
       "    <tr>\n",
       "      <th>31</th>\n",
       "      <td>Imaging</td>\n",
       "      <td>1</td>\n",
       "      <td>NaN</td>\n",
       "      <td>NaN</td>\n",
       "      <td>140.00</td>\n",
       "      <td>2004</td>\n",
       "    </tr>\n",
       "    <tr>\n",
       "      <th>33</th>\n",
       "      <td>Imaging</td>\n",
       "      <td>1</td>\n",
       "      <td>NaN</td>\n",
       "      <td>NaN</td>\n",
       "      <td>NaN</td>\n",
       "      <td>2008</td>\n",
       "    </tr>\n",
       "    <tr>\n",
       "      <th>34</th>\n",
       "      <td>Imaging</td>\n",
       "      <td>1</td>\n",
       "      <td>NaN</td>\n",
       "      <td>NaN</td>\n",
       "      <td>145.00</td>\n",
       "      <td>2013</td>\n",
       "    </tr>\n",
       "    <tr>\n",
       "      <th>...</th>\n",
       "      <td>...</td>\n",
       "      <td>...</td>\n",
       "      <td>...</td>\n",
       "      <td>...</td>\n",
       "      <td>...</td>\n",
       "      <td>...</td>\n",
       "    </tr>\n",
       "    <tr>\n",
       "      <th>900</th>\n",
       "      <td>Imaging</td>\n",
       "      <td>1</td>\n",
       "      <td>40000.0</td>\n",
       "      <td>NaN</td>\n",
       "      <td>NaN</td>\n",
       "      <td>2011</td>\n",
       "    </tr>\n",
       "    <tr>\n",
       "      <th>644</th>\n",
       "      <td>Imaging</td>\n",
       "      <td>4</td>\n",
       "      <td>69000.0</td>\n",
       "      <td>NaN</td>\n",
       "      <td>39.94</td>\n",
       "      <td>2008</td>\n",
       "    </tr>\n",
       "    <tr>\n",
       "      <th>643</th>\n",
       "      <td>Imaging</td>\n",
       "      <td>4</td>\n",
       "      <td>170000.0</td>\n",
       "      <td>NaN</td>\n",
       "      <td>39.94</td>\n",
       "      <td>2008</td>\n",
       "    </tr>\n",
       "    <tr>\n",
       "      <th>68</th>\n",
       "      <td>Imaging</td>\n",
       "      <td>1</td>\n",
       "      <td>318280.0</td>\n",
       "      <td>NaN</td>\n",
       "      <td>7.69</td>\n",
       "      <td>2008</td>\n",
       "    </tr>\n",
       "    <tr>\n",
       "      <th>937</th>\n",
       "      <td>Imaging</td>\n",
       "      <td>1</td>\n",
       "      <td>730000.0</td>\n",
       "      <td>NaN</td>\n",
       "      <td>NaN</td>\n",
       "      <td>2006</td>\n",
       "    </tr>\n",
       "  </tbody>\n",
       "</table>\n",
       "<p>1035 rows × 6 columns</p>\n",
       "</div>"
      ],
      "text/plain": [
       "      method  number  orbital_period  mass  distance  year\n",
       "29   Imaging       1             NaN   NaN     45.52  2005\n",
       "30   Imaging       1             NaN   NaN    165.00  2007\n",
       "31   Imaging       1             NaN   NaN    140.00  2004\n",
       "33   Imaging       1             NaN   NaN       NaN  2008\n",
       "34   Imaging       1             NaN   NaN    145.00  2013\n",
       "..       ...     ...             ...   ...       ...   ...\n",
       "900  Imaging       1         40000.0   NaN       NaN  2011\n",
       "644  Imaging       4         69000.0   NaN     39.94  2008\n",
       "643  Imaging       4        170000.0   NaN     39.94  2008\n",
       "68   Imaging       1        318280.0   NaN      7.69  2008\n",
       "937  Imaging       1        730000.0   NaN       NaN  2006\n",
       "\n",
       "[1035 rows x 6 columns]"
      ]
     },
     "execution_count": 17,
     "metadata": {},
     "output_type": "execute_result"
    }
   ],
   "source": [
    "# Ordenar y comenzar con los datos NAN en el campo de 'orbital_period'\n",
    "df_planetas.sort_values('orbital_period', na_position='first')"
   ]
  },
  {
   "cell_type": "code",
   "execution_count": 18,
   "metadata": {},
   "outputs": [
    {
     "data": {
      "application/vnd.microsoft.datawrangler.viewer.v0+json": {
       "columns": [
        {
         "name": "index",
         "rawType": "int64",
         "type": "integer"
        },
        {
         "name": "method",
         "rawType": "object",
         "type": "string"
        },
        {
         "name": "number",
         "rawType": "int64",
         "type": "integer"
        },
        {
         "name": "orbital_period",
         "rawType": "float64",
         "type": "float"
        },
        {
         "name": "mass",
         "rawType": "float64",
         "type": "float"
        },
        {
         "name": "distance",
         "rawType": "float64",
         "type": "float"
        },
        {
         "name": "year",
         "rawType": "int64",
         "type": "integer"
        }
       ],
       "ref": "291e3a26-0606-494a-a977-1b0544e20827",
       "rows": [
        [
         "0",
         "Radial Velocity",
         "1",
         "269.3",
         "7.1",
         "77.4",
         "2006"
        ],
        [
         "1",
         "Radial Velocity",
         "1",
         "874.774",
         "2.21",
         "56.95",
         "2008"
        ],
        [
         "2",
         "Radial Velocity",
         "1",
         "763.0",
         "2.6",
         "19.84",
         "2011"
        ],
        [
         "3",
         "Radial Velocity",
         "1",
         "326.03",
         "19.4",
         "110.62",
         "2007"
        ],
        [
         "4",
         "Radial Velocity",
         "1",
         "516.22",
         "10.5",
         "119.47",
         "2009"
        ],
        [
         "5",
         "Radial Velocity",
         "1",
         "185.84",
         "4.8",
         "76.39",
         "2008"
        ],
        [
         "6",
         "Radial Velocity",
         "1",
         "1773.4",
         "4.64",
         "18.15",
         "2002"
        ],
        [
         "7",
         "Radial Velocity",
         "1",
         "798.5",
         null,
         "21.41",
         "1996"
        ],
        [
         "8",
         "Radial Velocity",
         "1",
         "993.3",
         "10.3",
         "73.1",
         "2008"
        ],
        [
         "9",
         "Radial Velocity",
         "2",
         "452.8",
         "1.99",
         "74.79",
         "2010"
        ],
        [
         "10",
         "Radial Velocity",
         "2",
         "883.0",
         "0.86",
         "74.79",
         "2010"
        ],
        [
         "11",
         "Radial Velocity",
         "1",
         "335.1",
         "9.88",
         "39.43",
         "2009"
        ],
        [
         "12",
         "Radial Velocity",
         "1",
         "479.1",
         "3.88",
         "97.28",
         "2008"
        ],
        [
         "13",
         "Radial Velocity",
         "3",
         "1078.0",
         "2.53",
         "14.08",
         "1996"
        ],
        [
         "14",
         "Radial Velocity",
         "3",
         "2391.0",
         "0.54",
         "14.08",
         "2001"
        ],
        [
         "15",
         "Radial Velocity",
         "3",
         "14002.0",
         "1.64",
         "14.08",
         "2009"
        ],
        [
         "16",
         "Radial Velocity",
         "1",
         "4.230785",
         "0.472",
         "15.36",
         "1995"
        ],
        [
         "17",
         "Radial Velocity",
         "5",
         "14.651",
         "0.8",
         "12.53",
         "1996"
        ],
        [
         "18",
         "Radial Velocity",
         "5",
         "44.38",
         "0.165",
         "12.53",
         "2004"
        ],
        [
         "19",
         "Radial Velocity",
         "5",
         "4909.0",
         "3.53",
         "12.53",
         "2002"
        ],
        [
         "20",
         "Radial Velocity",
         "5",
         "0.73654",
         null,
         "12.53",
         "2011"
        ],
        [
         "21",
         "Radial Velocity",
         "5",
         "261.2",
         "0.172",
         "12.53",
         "2007"
        ],
        [
         "22",
         "Radial Velocity",
         "3",
         "4.215",
         "0.016",
         "8.52",
         "2009"
        ],
        [
         "23",
         "Radial Velocity",
         "3",
         "38.021",
         "0.057",
         "8.52",
         "2009"
        ],
        [
         "24",
         "Radial Velocity",
         "3",
         "123.01",
         "0.072",
         "8.52",
         "2009"
        ],
        [
         "25",
         "Radial Velocity",
         "1",
         "116.6884",
         null,
         "18.11",
         "1996"
        ],
        [
         "26",
         "Radial Velocity",
         "1",
         "691.9",
         null,
         "81.5",
         "2012"
        ],
        [
         "27",
         "Radial Velocity",
         "1",
         "952.7",
         "5.3",
         "97.18",
         "2008"
        ],
        [
         "28",
         "Radial Velocity",
         "1",
         "181.4",
         "3.2",
         "45.52",
         "2013"
        ],
        [
         "29",
         "Imaging",
         "1",
         null,
         null,
         "45.52",
         "2005"
        ],
        [
         "30",
         "Imaging",
         "1",
         null,
         null,
         "165.0",
         "2007"
        ],
        [
         "31",
         "Imaging",
         "1",
         null,
         null,
         "140.0",
         "2004"
        ],
        [
         "32",
         "Eclipse Timing Variations",
         "1",
         "10220.0",
         "6.05",
         null,
         "2009"
        ],
        [
         "33",
         "Imaging",
         "1",
         null,
         null,
         null,
         "2008"
        ],
        [
         "34",
         "Imaging",
         "1",
         null,
         null,
         "145.0",
         "2013"
        ],
        [
         "35",
         "Imaging",
         "1",
         null,
         null,
         "139.0",
         "2004"
        ],
        [
         "36",
         "Imaging",
         "1",
         null,
         null,
         "18.39",
         "2006"
        ],
        [
         "37",
         "Eclipse Timing Variations",
         "2",
         "5767.0",
         null,
         "130.72",
         "2008"
        ],
        [
         "38",
         "Eclipse Timing Variations",
         "2",
         "3321.0",
         null,
         "130.72",
         "2008"
        ],
        [
         "39",
         "Eclipse Timing Variations",
         "2",
         "5573.55",
         null,
         "500.0",
         "2010"
        ],
        [
         "40",
         "Eclipse Timing Variations",
         "2",
         "2883.5",
         null,
         "500.0",
         "2010"
        ],
        [
         "41",
         "Eclipse Timing Variations",
         "1",
         "2900.0",
         null,
         null,
         "2011"
        ],
        [
         "42",
         "Eclipse Timing Variations",
         "1",
         "4343.5",
         "4.2",
         null,
         "2012"
        ],
        [
         "43",
         "Eclipse Timing Variations",
         "2",
         "5840.0",
         null,
         null,
         "2011"
        ],
        [
         "44",
         "Eclipse Timing Variations",
         "2",
         "1916.25",
         null,
         null,
         "2011"
        ],
        [
         "45",
         "Radial Velocity",
         "1",
         "380.8",
         "1.8",
         "20.21",
         "2010"
        ],
        [
         "46",
         "Radial Velocity",
         "1",
         "3.2357",
         "0.0036",
         "1.35",
         "2012"
        ],
        [
         "47",
         "Imaging",
         "1",
         "6000.0",
         null,
         "19.28",
         "2008"
        ],
        [
         "48",
         "Radial Velocity",
         "1",
         "2502.0",
         "1.55",
         "3.22",
         "2000"
        ],
        [
         "49",
         "Radial Velocity",
         "1",
         "417.9",
         null,
         "70.42",
         "2012"
        ]
       ],
       "shape": {
        "columns": 6,
        "rows": 1035
       }
      },
      "text/html": [
       "<div>\n",
       "<style scoped>\n",
       "    .dataframe tbody tr th:only-of-type {\n",
       "        vertical-align: middle;\n",
       "    }\n",
       "\n",
       "    .dataframe tbody tr th {\n",
       "        vertical-align: top;\n",
       "    }\n",
       "\n",
       "    .dataframe thead th {\n",
       "        text-align: right;\n",
       "    }\n",
       "</style>\n",
       "<table border=\"1\" class=\"dataframe\">\n",
       "  <thead>\n",
       "    <tr style=\"text-align: right;\">\n",
       "      <th></th>\n",
       "      <th>method</th>\n",
       "      <th>number</th>\n",
       "      <th>orbital_period</th>\n",
       "      <th>mass</th>\n",
       "      <th>distance</th>\n",
       "      <th>year</th>\n",
       "    </tr>\n",
       "  </thead>\n",
       "  <tbody>\n",
       "    <tr>\n",
       "      <th>0</th>\n",
       "      <td>Radial Velocity</td>\n",
       "      <td>1</td>\n",
       "      <td>269.300000</td>\n",
       "      <td>7.10</td>\n",
       "      <td>77.40</td>\n",
       "      <td>2006</td>\n",
       "    </tr>\n",
       "    <tr>\n",
       "      <th>1</th>\n",
       "      <td>Radial Velocity</td>\n",
       "      <td>1</td>\n",
       "      <td>874.774000</td>\n",
       "      <td>2.21</td>\n",
       "      <td>56.95</td>\n",
       "      <td>2008</td>\n",
       "    </tr>\n",
       "    <tr>\n",
       "      <th>2</th>\n",
       "      <td>Radial Velocity</td>\n",
       "      <td>1</td>\n",
       "      <td>763.000000</td>\n",
       "      <td>2.60</td>\n",
       "      <td>19.84</td>\n",
       "      <td>2011</td>\n",
       "    </tr>\n",
       "    <tr>\n",
       "      <th>3</th>\n",
       "      <td>Radial Velocity</td>\n",
       "      <td>1</td>\n",
       "      <td>326.030000</td>\n",
       "      <td>19.40</td>\n",
       "      <td>110.62</td>\n",
       "      <td>2007</td>\n",
       "    </tr>\n",
       "    <tr>\n",
       "      <th>4</th>\n",
       "      <td>Radial Velocity</td>\n",
       "      <td>1</td>\n",
       "      <td>516.220000</td>\n",
       "      <td>10.50</td>\n",
       "      <td>119.47</td>\n",
       "      <td>2009</td>\n",
       "    </tr>\n",
       "    <tr>\n",
       "      <th>...</th>\n",
       "      <td>...</td>\n",
       "      <td>...</td>\n",
       "      <td>...</td>\n",
       "      <td>...</td>\n",
       "      <td>...</td>\n",
       "      <td>...</td>\n",
       "    </tr>\n",
       "    <tr>\n",
       "      <th>1030</th>\n",
       "      <td>Transit</td>\n",
       "      <td>1</td>\n",
       "      <td>3.941507</td>\n",
       "      <td>NaN</td>\n",
       "      <td>172.00</td>\n",
       "      <td>2006</td>\n",
       "    </tr>\n",
       "    <tr>\n",
       "      <th>1031</th>\n",
       "      <td>Transit</td>\n",
       "      <td>1</td>\n",
       "      <td>2.615864</td>\n",
       "      <td>NaN</td>\n",
       "      <td>148.00</td>\n",
       "      <td>2007</td>\n",
       "    </tr>\n",
       "    <tr>\n",
       "      <th>1032</th>\n",
       "      <td>Transit</td>\n",
       "      <td>1</td>\n",
       "      <td>3.191524</td>\n",
       "      <td>NaN</td>\n",
       "      <td>174.00</td>\n",
       "      <td>2007</td>\n",
       "    </tr>\n",
       "    <tr>\n",
       "      <th>1033</th>\n",
       "      <td>Transit</td>\n",
       "      <td>1</td>\n",
       "      <td>4.125083</td>\n",
       "      <td>NaN</td>\n",
       "      <td>293.00</td>\n",
       "      <td>2008</td>\n",
       "    </tr>\n",
       "    <tr>\n",
       "      <th>1034</th>\n",
       "      <td>Transit</td>\n",
       "      <td>1</td>\n",
       "      <td>4.187757</td>\n",
       "      <td>NaN</td>\n",
       "      <td>260.00</td>\n",
       "      <td>2008</td>\n",
       "    </tr>\n",
       "  </tbody>\n",
       "</table>\n",
       "<p>1035 rows × 6 columns</p>\n",
       "</div>"
      ],
      "text/plain": [
       "               method  number  orbital_period   mass  distance  year\n",
       "0     Radial Velocity       1      269.300000   7.10     77.40  2006\n",
       "1     Radial Velocity       1      874.774000   2.21     56.95  2008\n",
       "2     Radial Velocity       1      763.000000   2.60     19.84  2011\n",
       "3     Radial Velocity       1      326.030000  19.40    110.62  2007\n",
       "4     Radial Velocity       1      516.220000  10.50    119.47  2009\n",
       "...               ...     ...             ...    ...       ...   ...\n",
       "1030          Transit       1        3.941507    NaN    172.00  2006\n",
       "1031          Transit       1        2.615864    NaN    148.00  2007\n",
       "1032          Transit       1        3.191524    NaN    174.00  2007\n",
       "1033          Transit       1        4.125083    NaN    293.00  2008\n",
       "1034          Transit       1        4.187757    NaN    260.00  2008\n",
       "\n",
       "[1035 rows x 6 columns]"
      ]
     },
     "execution_count": 18,
     "metadata": {},
     "output_type": "execute_result"
    }
   ],
   "source": [
    "df_planetas"
   ]
  },
  {
   "cell_type": "markdown",
   "metadata": {},
   "source": [
    "## Ordenar el propio dataframe\n",
    "\n",
    "En los ejemplos anteriores se puede ver que al ordenarse los datos se ha creado en todo momento un objeto nuevo. En caso de que no se desee este comportamiento se puede indicar mediante la opción inplace que se ordene el propio objeto. Con lo que se evita aumentar la memoria consumida por el programa. Así para ordenar por año en el propio objeto se puede emplear."
   ]
  },
  {
   "cell_type": "code",
   "execution_count": 21,
   "metadata": {},
   "outputs": [],
   "source": [
    "# Ordenar por año y actulizar el dataframe\n",
    "df_planetas.sort_values('year', inplace=True)"
   ]
  },
  {
   "cell_type": "code",
   "execution_count": 22,
   "metadata": {},
   "outputs": [
    {
     "data": {
      "application/vnd.microsoft.datawrangler.viewer.v0+json": {
       "columns": [
        {
         "name": "index",
         "rawType": "int64",
         "type": "integer"
        },
        {
         "name": "method",
         "rawType": "object",
         "type": "string"
        },
        {
         "name": "number",
         "rawType": "int64",
         "type": "integer"
        },
        {
         "name": "orbital_period",
         "rawType": "float64",
         "type": "float"
        },
        {
         "name": "mass",
         "rawType": "float64",
         "type": "float"
        },
        {
         "name": "distance",
         "rawType": "float64",
         "type": "float"
        },
        {
         "name": "year",
         "rawType": "int64",
         "type": "integer"
        }
       ],
       "ref": "1bf3fc35-0144-4767-be4f-bbfa484ecbf3",
       "rows": [
        [
         "441",
         "Radial Velocity",
         "1",
         "83.888",
         "11.68",
         "40.57",
         "1989"
        ],
        [
         "942",
         "Pulsar Timing",
         "3",
         "66.5419",
         null,
         null,
         "1992"
        ],
        [
         "941",
         "Pulsar Timing",
         "3",
         "25.262",
         null,
         null,
         "1992"
        ],
        [
         "943",
         "Pulsar Timing",
         "3",
         "98.2114",
         null,
         null,
         "1994"
        ],
        [
         "16",
         "Radial Velocity",
         "1",
         "4.230785",
         "0.472",
         "15.36",
         "1995"
        ],
        [
         "64",
         "Radial Velocity",
         "4",
         "4.617033",
         "0.6876",
         "13.47",
         "1996"
        ],
        [
         "25",
         "Radial Velocity",
         "1",
         "116.6884",
         null,
         "18.11",
         "1996"
        ],
        [
         "62",
         "Radial Velocity",
         "1",
         "3.3135",
         "3.9",
         "15.6",
         "1996"
        ],
        [
         "7",
         "Radial Velocity",
         "1",
         "798.5",
         null,
         "21.41",
         "1996"
        ],
        [
         "17",
         "Radial Velocity",
         "5",
         "14.651",
         "0.8",
         "12.53",
         "1996"
        ],
        [
         "13",
         "Radial Velocity",
         "3",
         "1078.0",
         "2.53",
         "14.08",
         "1996"
        ],
        [
         "61",
         "Radial Velocity",
         "1",
         "39.845",
         "1.04",
         "17.43",
         "1997"
        ],
        [
         "589",
         "Radial Velocity",
         "1",
         "442.1",
         "1.23",
         "21.29",
         "1998"
        ],
        [
         "554",
         "Radial Velocity",
         "2",
         "3.097",
         "0.52",
         "47.92",
         "1998"
        ],
        [
         "526",
         "Radial Velocity",
         "2",
         "58.11289",
         "8.02",
         "37.88",
         "1998"
        ],
        [
         "603",
         "Radial Velocity",
         "2",
         "7.126816",
         "1.39",
         "19.72",
         "1998"
        ],
        [
         "142",
         "Radial Velocity",
         "4",
         "61.1166",
         "2.2756",
         "4.7",
         "1998"
        ],
        [
         "467",
         "Radial Velocity",
         "2",
         "258.19",
         "1.59",
         "25.65",
         "1999"
        ],
        [
         "460",
         "Radial Velocity",
         "1",
         "10.7085",
         "1.04",
         "29.76",
         "1999"
        ],
        [
         "114",
         "Radial Velocity",
         "1",
         "15.76491",
         "3.91",
         "10.91",
         "1999"
        ],
        [
         "568",
         "Radial Velocity",
         "1",
         "18.20163",
         "3.7",
         "37.35",
         "1999"
        ],
        [
         "615",
         "Radial Velocity",
         "1",
         "572.38",
         "7.75",
         "41.95",
         "1999"
        ],
        [
         "564",
         "Radial Velocity",
         "1",
         "24.348",
         "0.72",
         "19.89",
         "1999"
        ],
        [
         "66",
         "Radial Velocity",
         "4",
         "1276.46",
         "4.132",
         "13.47",
         "1999"
        ],
        [
         "538",
         "Radial Velocity",
         "2",
         "406.6",
         "1.49",
         "59.03",
         "1999"
        ],
        [
         "237",
         "Radial Velocity",
         "1",
         "1075.2",
         "6.21",
         "32.56",
         "1999"
        ],
        [
         "366",
         "Radial Velocity",
         "1",
         "3.51",
         "0.42",
         "28.94",
         "1999"
        ],
        [
         "386",
         "Radial Velocity",
         "1",
         "256.78",
         "8.44",
         "38.99",
         "1999"
        ],
        [
         "555",
         "Radial Velocity",
         "2",
         "3810.0",
         "1.99",
         "47.92",
         "1999"
        ],
        [
         "642",
         "Radial Velocity",
         "1",
         "311.288",
         "1.94",
         "17.24",
         "1999"
        ],
        [
         "588",
         "Radial Velocity",
         "1",
         "3.52474859",
         null,
         "47.08",
         "1999"
        ],
        [
         "65",
         "Radial Velocity",
         "4",
         "241.258",
         "1.981",
         "13.47",
         "1999"
        ],
        [
         "329",
         "Radial Velocity",
         "1",
         "3.024",
         "0.249",
         "33.41",
         "2000"
        ],
        [
         "306",
         "Radial Velocity",
         "2",
         "2140.2",
         "13.38",
         "42.43",
         "2000"
        ],
        [
         "277",
         "Radial Velocity",
         "1",
         "423.841",
         "1.28",
         "18.24",
         "2000"
        ],
        [
         "340",
         "Radial Velocity",
         "1",
         "118.96",
         "1.13",
         "28.07",
         "2000"
        ],
        [
         "147",
         "Radial Velocity",
         "1",
         "133.71",
         "3.37",
         "17.62",
         "2000"
        ],
        [
         "243",
         "Radial Velocity",
         "2",
         "262.709",
         "2.3",
         "37.16",
         "2000"
        ],
        [
         "251",
         "Radial Velocity",
         "1",
         "75.523",
         "0.26",
         "35.91",
         "2000"
        ],
        [
         "305",
         "Radial Velocity",
         "2",
         "14.3098",
         "0.839",
         "42.43",
         "2000"
        ],
        [
         "388",
         "Radial Velocity",
         "1",
         "325.81",
         "3.86",
         "32.32",
         "2000"
        ],
        [
         "48",
         "Radial Velocity",
         "1",
         "2502.0",
         "1.55",
         "3.22",
         "2000"
        ],
        [
         "78",
         "Radial Velocity",
         "1",
         "3.48777",
         null,
         "80.0",
         "2000"
        ],
        [
         "514",
         "Radial Velocity",
         "4",
         "643.25",
         null,
         "15.28",
         "2000"
        ],
        [
         "143",
         "Radial Velocity",
         "4",
         "30.0881",
         "0.7142",
         "4.7",
         "2000"
        ],
        [
         "542",
         "Radial Velocity",
         "1",
         "3.0925",
         "0.95",
         "27.05",
         "2000"
        ],
        [
         "529",
         "Radial Velocity",
         "2",
         "225.62",
         "2.88",
         "36.32",
         "2000"
        ],
        [
         "527",
         "Radial Velocity",
         "2",
         "1749.5",
         "18.1",
         "37.88",
         "2000"
        ],
        [
         "540",
         "Radial Velocity",
         "1",
         "71.484",
         "7.03",
         "46.73",
         "2001"
        ],
        [
         "442",
         "Radial Velocity",
         "1",
         "493.7",
         "1.1",
         "20.43",
         "2001"
        ]
       ],
       "shape": {
        "columns": 6,
        "rows": 1035
       }
      },
      "text/html": [
       "<div>\n",
       "<style scoped>\n",
       "    .dataframe tbody tr th:only-of-type {\n",
       "        vertical-align: middle;\n",
       "    }\n",
       "\n",
       "    .dataframe tbody tr th {\n",
       "        vertical-align: top;\n",
       "    }\n",
       "\n",
       "    .dataframe thead th {\n",
       "        text-align: right;\n",
       "    }\n",
       "</style>\n",
       "<table border=\"1\" class=\"dataframe\">\n",
       "  <thead>\n",
       "    <tr style=\"text-align: right;\">\n",
       "      <th></th>\n",
       "      <th>method</th>\n",
       "      <th>number</th>\n",
       "      <th>orbital_period</th>\n",
       "      <th>mass</th>\n",
       "      <th>distance</th>\n",
       "      <th>year</th>\n",
       "    </tr>\n",
       "  </thead>\n",
       "  <tbody>\n",
       "    <tr>\n",
       "      <th>441</th>\n",
       "      <td>Radial Velocity</td>\n",
       "      <td>1</td>\n",
       "      <td>83.888000</td>\n",
       "      <td>11.680</td>\n",
       "      <td>40.57</td>\n",
       "      <td>1989</td>\n",
       "    </tr>\n",
       "    <tr>\n",
       "      <th>942</th>\n",
       "      <td>Pulsar Timing</td>\n",
       "      <td>3</td>\n",
       "      <td>66.541900</td>\n",
       "      <td>NaN</td>\n",
       "      <td>NaN</td>\n",
       "      <td>1992</td>\n",
       "    </tr>\n",
       "    <tr>\n",
       "      <th>941</th>\n",
       "      <td>Pulsar Timing</td>\n",
       "      <td>3</td>\n",
       "      <td>25.262000</td>\n",
       "      <td>NaN</td>\n",
       "      <td>NaN</td>\n",
       "      <td>1992</td>\n",
       "    </tr>\n",
       "    <tr>\n",
       "      <th>943</th>\n",
       "      <td>Pulsar Timing</td>\n",
       "      <td>3</td>\n",
       "      <td>98.211400</td>\n",
       "      <td>NaN</td>\n",
       "      <td>NaN</td>\n",
       "      <td>1994</td>\n",
       "    </tr>\n",
       "    <tr>\n",
       "      <th>16</th>\n",
       "      <td>Radial Velocity</td>\n",
       "      <td>1</td>\n",
       "      <td>4.230785</td>\n",
       "      <td>0.472</td>\n",
       "      <td>15.36</td>\n",
       "      <td>1995</td>\n",
       "    </tr>\n",
       "    <tr>\n",
       "      <th>...</th>\n",
       "      <td>...</td>\n",
       "      <td>...</td>\n",
       "      <td>...</td>\n",
       "      <td>...</td>\n",
       "      <td>...</td>\n",
       "      <td>...</td>\n",
       "    </tr>\n",
       "    <tr>\n",
       "      <th>650</th>\n",
       "      <td>Transit</td>\n",
       "      <td>1</td>\n",
       "      <td>7.845700</td>\n",
       "      <td>NaN</td>\n",
       "      <td>222.00</td>\n",
       "      <td>2014</td>\n",
       "    </tr>\n",
       "    <tr>\n",
       "      <th>112</th>\n",
       "      <td>Transit</td>\n",
       "      <td>1</td>\n",
       "      <td>3.575320</td>\n",
       "      <td>NaN</td>\n",
       "      <td>NaN</td>\n",
       "      <td>2014</td>\n",
       "    </tr>\n",
       "    <tr>\n",
       "      <th>501</th>\n",
       "      <td>Radial Velocity</td>\n",
       "      <td>2</td>\n",
       "      <td>3452.000000</td>\n",
       "      <td>2.580</td>\n",
       "      <td>68.54</td>\n",
       "      <td>2014</td>\n",
       "    </tr>\n",
       "    <tr>\n",
       "      <th>194</th>\n",
       "      <td>Transit</td>\n",
       "      <td>1</td>\n",
       "      <td>2.691548</td>\n",
       "      <td>NaN</td>\n",
       "      <td>322.00</td>\n",
       "      <td>2014</td>\n",
       "    </tr>\n",
       "    <tr>\n",
       "      <th>1026</th>\n",
       "      <td>Transit</td>\n",
       "      <td>1</td>\n",
       "      <td>0.925542</td>\n",
       "      <td>NaN</td>\n",
       "      <td>470.00</td>\n",
       "      <td>2014</td>\n",
       "    </tr>\n",
       "  </tbody>\n",
       "</table>\n",
       "<p>1035 rows × 6 columns</p>\n",
       "</div>"
      ],
      "text/plain": [
       "               method  number  orbital_period    mass  distance  year\n",
       "441   Radial Velocity       1       83.888000  11.680     40.57  1989\n",
       "942     Pulsar Timing       3       66.541900     NaN       NaN  1992\n",
       "941     Pulsar Timing       3       25.262000     NaN       NaN  1992\n",
       "943     Pulsar Timing       3       98.211400     NaN       NaN  1994\n",
       "16    Radial Velocity       1        4.230785   0.472     15.36  1995\n",
       "...               ...     ...             ...     ...       ...   ...\n",
       "650           Transit       1        7.845700     NaN    222.00  2014\n",
       "112           Transit       1        3.575320     NaN       NaN  2014\n",
       "501   Radial Velocity       2     3452.000000   2.580     68.54  2014\n",
       "194           Transit       1        2.691548     NaN    322.00  2014\n",
       "1026          Transit       1        0.925542     NaN    470.00  2014\n",
       "\n",
       "[1035 rows x 6 columns]"
      ]
     },
     "execution_count": 22,
     "metadata": {},
     "output_type": "execute_result"
    }
   ],
   "source": [
    "#Mostramos el DataFrame\n",
    "df_planetas"
   ]
  },
  {
   "cell_type": "markdown",
   "metadata": {},
   "source": [
    "## Ordenar el dataframe en base al índice\n",
    "\n",
    "En el caso de querer volver a la situación original se puede ordenar el conjunto de datos en base al índice. Lo que requiere utilizar la propiedad ``sort_index()``, al que por defecto no hay que pasarle ningún parámetro."
   ]
  },
  {
   "cell_type": "code",
   "execution_count": 27,
   "metadata": {},
   "outputs": [
    {
     "data": {
      "application/vnd.microsoft.datawrangler.viewer.v0+json": {
       "columns": [
        {
         "name": "index",
         "rawType": "int64",
         "type": "integer"
        },
        {
         "name": "method",
         "rawType": "object",
         "type": "string"
        },
        {
         "name": "number",
         "rawType": "int64",
         "type": "integer"
        },
        {
         "name": "orbital_period",
         "rawType": "float64",
         "type": "float"
        },
        {
         "name": "mass",
         "rawType": "float64",
         "type": "float"
        },
        {
         "name": "distance",
         "rawType": "float64",
         "type": "float"
        },
        {
         "name": "year",
         "rawType": "int64",
         "type": "integer"
        }
       ],
       "ref": "d8545abe-5fa9-47eb-b902-d54a73ff98d1",
       "rows": [
        [
         "0",
         "Radial Velocity",
         "1",
         "269.3",
         "7.1",
         "77.4",
         "2006"
        ],
        [
         "1",
         "Radial Velocity",
         "1",
         "874.774",
         "2.21",
         "56.95",
         "2008"
        ],
        [
         "2",
         "Radial Velocity",
         "1",
         "763.0",
         "2.6",
         "19.84",
         "2011"
        ],
        [
         "3",
         "Radial Velocity",
         "1",
         "326.03",
         "19.4",
         "110.62",
         "2007"
        ],
        [
         "4",
         "Radial Velocity",
         "1",
         "516.22",
         "10.5",
         "119.47",
         "2009"
        ],
        [
         "5",
         "Radial Velocity",
         "1",
         "185.84",
         "4.8",
         "76.39",
         "2008"
        ],
        [
         "6",
         "Radial Velocity",
         "1",
         "1773.4",
         "4.64",
         "18.15",
         "2002"
        ],
        [
         "7",
         "Radial Velocity",
         "1",
         "798.5",
         null,
         "21.41",
         "1996"
        ],
        [
         "8",
         "Radial Velocity",
         "1",
         "993.3",
         "10.3",
         "73.1",
         "2008"
        ],
        [
         "9",
         "Radial Velocity",
         "2",
         "452.8",
         "1.99",
         "74.79",
         "2010"
        ],
        [
         "10",
         "Radial Velocity",
         "2",
         "883.0",
         "0.86",
         "74.79",
         "2010"
        ],
        [
         "11",
         "Radial Velocity",
         "1",
         "335.1",
         "9.88",
         "39.43",
         "2009"
        ],
        [
         "12",
         "Radial Velocity",
         "1",
         "479.1",
         "3.88",
         "97.28",
         "2008"
        ],
        [
         "13",
         "Radial Velocity",
         "3",
         "1078.0",
         "2.53",
         "14.08",
         "1996"
        ],
        [
         "14",
         "Radial Velocity",
         "3",
         "2391.0",
         "0.54",
         "14.08",
         "2001"
        ],
        [
         "15",
         "Radial Velocity",
         "3",
         "14002.0",
         "1.64",
         "14.08",
         "2009"
        ],
        [
         "16",
         "Radial Velocity",
         "1",
         "4.230785",
         "0.472",
         "15.36",
         "1995"
        ],
        [
         "17",
         "Radial Velocity",
         "5",
         "14.651",
         "0.8",
         "12.53",
         "1996"
        ],
        [
         "18",
         "Radial Velocity",
         "5",
         "44.38",
         "0.165",
         "12.53",
         "2004"
        ],
        [
         "19",
         "Radial Velocity",
         "5",
         "4909.0",
         "3.53",
         "12.53",
         "2002"
        ],
        [
         "20",
         "Radial Velocity",
         "5",
         "0.73654",
         null,
         "12.53",
         "2011"
        ],
        [
         "21",
         "Radial Velocity",
         "5",
         "261.2",
         "0.172",
         "12.53",
         "2007"
        ],
        [
         "22",
         "Radial Velocity",
         "3",
         "4.215",
         "0.016",
         "8.52",
         "2009"
        ],
        [
         "23",
         "Radial Velocity",
         "3",
         "38.021",
         "0.057",
         "8.52",
         "2009"
        ],
        [
         "24",
         "Radial Velocity",
         "3",
         "123.01",
         "0.072",
         "8.52",
         "2009"
        ],
        [
         "25",
         "Radial Velocity",
         "1",
         "116.6884",
         null,
         "18.11",
         "1996"
        ],
        [
         "26",
         "Radial Velocity",
         "1",
         "691.9",
         null,
         "81.5",
         "2012"
        ],
        [
         "27",
         "Radial Velocity",
         "1",
         "952.7",
         "5.3",
         "97.18",
         "2008"
        ],
        [
         "28",
         "Radial Velocity",
         "1",
         "181.4",
         "3.2",
         "45.52",
         "2013"
        ],
        [
         "29",
         "Imaging",
         "1",
         null,
         null,
         "45.52",
         "2005"
        ],
        [
         "30",
         "Imaging",
         "1",
         null,
         null,
         "165.0",
         "2007"
        ],
        [
         "31",
         "Imaging",
         "1",
         null,
         null,
         "140.0",
         "2004"
        ],
        [
         "32",
         "Eclipse Timing Variations",
         "1",
         "10220.0",
         "6.05",
         null,
         "2009"
        ],
        [
         "33",
         "Imaging",
         "1",
         null,
         null,
         null,
         "2008"
        ],
        [
         "34",
         "Imaging",
         "1",
         null,
         null,
         "145.0",
         "2013"
        ],
        [
         "35",
         "Imaging",
         "1",
         null,
         null,
         "139.0",
         "2004"
        ],
        [
         "36",
         "Imaging",
         "1",
         null,
         null,
         "18.39",
         "2006"
        ],
        [
         "37",
         "Eclipse Timing Variations",
         "2",
         "5767.0",
         null,
         "130.72",
         "2008"
        ],
        [
         "38",
         "Eclipse Timing Variations",
         "2",
         "3321.0",
         null,
         "130.72",
         "2008"
        ],
        [
         "39",
         "Eclipse Timing Variations",
         "2",
         "5573.55",
         null,
         "500.0",
         "2010"
        ],
        [
         "40",
         "Eclipse Timing Variations",
         "2",
         "2883.5",
         null,
         "500.0",
         "2010"
        ],
        [
         "41",
         "Eclipse Timing Variations",
         "1",
         "2900.0",
         null,
         null,
         "2011"
        ],
        [
         "42",
         "Eclipse Timing Variations",
         "1",
         "4343.5",
         "4.2",
         null,
         "2012"
        ],
        [
         "43",
         "Eclipse Timing Variations",
         "2",
         "5840.0",
         null,
         null,
         "2011"
        ],
        [
         "44",
         "Eclipse Timing Variations",
         "2",
         "1916.25",
         null,
         null,
         "2011"
        ],
        [
         "45",
         "Radial Velocity",
         "1",
         "380.8",
         "1.8",
         "20.21",
         "2010"
        ],
        [
         "46",
         "Radial Velocity",
         "1",
         "3.2357",
         "0.0036",
         "1.35",
         "2012"
        ],
        [
         "47",
         "Imaging",
         "1",
         "6000.0",
         null,
         "19.28",
         "2008"
        ],
        [
         "48",
         "Radial Velocity",
         "1",
         "2502.0",
         "1.55",
         "3.22",
         "2000"
        ],
        [
         "49",
         "Radial Velocity",
         "1",
         "417.9",
         null,
         "70.42",
         "2012"
        ]
       ],
       "shape": {
        "columns": 6,
        "rows": 1035
       }
      },
      "text/html": [
       "<div>\n",
       "<style scoped>\n",
       "    .dataframe tbody tr th:only-of-type {\n",
       "        vertical-align: middle;\n",
       "    }\n",
       "\n",
       "    .dataframe tbody tr th {\n",
       "        vertical-align: top;\n",
       "    }\n",
       "\n",
       "    .dataframe thead th {\n",
       "        text-align: right;\n",
       "    }\n",
       "</style>\n",
       "<table border=\"1\" class=\"dataframe\">\n",
       "  <thead>\n",
       "    <tr style=\"text-align: right;\">\n",
       "      <th></th>\n",
       "      <th>method</th>\n",
       "      <th>number</th>\n",
       "      <th>orbital_period</th>\n",
       "      <th>mass</th>\n",
       "      <th>distance</th>\n",
       "      <th>year</th>\n",
       "    </tr>\n",
       "  </thead>\n",
       "  <tbody>\n",
       "    <tr>\n",
       "      <th>0</th>\n",
       "      <td>Radial Velocity</td>\n",
       "      <td>1</td>\n",
       "      <td>269.300000</td>\n",
       "      <td>7.10</td>\n",
       "      <td>77.40</td>\n",
       "      <td>2006</td>\n",
       "    </tr>\n",
       "    <tr>\n",
       "      <th>1</th>\n",
       "      <td>Radial Velocity</td>\n",
       "      <td>1</td>\n",
       "      <td>874.774000</td>\n",
       "      <td>2.21</td>\n",
       "      <td>56.95</td>\n",
       "      <td>2008</td>\n",
       "    </tr>\n",
       "    <tr>\n",
       "      <th>2</th>\n",
       "      <td>Radial Velocity</td>\n",
       "      <td>1</td>\n",
       "      <td>763.000000</td>\n",
       "      <td>2.60</td>\n",
       "      <td>19.84</td>\n",
       "      <td>2011</td>\n",
       "    </tr>\n",
       "    <tr>\n",
       "      <th>3</th>\n",
       "      <td>Radial Velocity</td>\n",
       "      <td>1</td>\n",
       "      <td>326.030000</td>\n",
       "      <td>19.40</td>\n",
       "      <td>110.62</td>\n",
       "      <td>2007</td>\n",
       "    </tr>\n",
       "    <tr>\n",
       "      <th>4</th>\n",
       "      <td>Radial Velocity</td>\n",
       "      <td>1</td>\n",
       "      <td>516.220000</td>\n",
       "      <td>10.50</td>\n",
       "      <td>119.47</td>\n",
       "      <td>2009</td>\n",
       "    </tr>\n",
       "    <tr>\n",
       "      <th>...</th>\n",
       "      <td>...</td>\n",
       "      <td>...</td>\n",
       "      <td>...</td>\n",
       "      <td>...</td>\n",
       "      <td>...</td>\n",
       "      <td>...</td>\n",
       "    </tr>\n",
       "    <tr>\n",
       "      <th>1030</th>\n",
       "      <td>Transit</td>\n",
       "      <td>1</td>\n",
       "      <td>3.941507</td>\n",
       "      <td>NaN</td>\n",
       "      <td>172.00</td>\n",
       "      <td>2006</td>\n",
       "    </tr>\n",
       "    <tr>\n",
       "      <th>1031</th>\n",
       "      <td>Transit</td>\n",
       "      <td>1</td>\n",
       "      <td>2.615864</td>\n",
       "      <td>NaN</td>\n",
       "      <td>148.00</td>\n",
       "      <td>2007</td>\n",
       "    </tr>\n",
       "    <tr>\n",
       "      <th>1032</th>\n",
       "      <td>Transit</td>\n",
       "      <td>1</td>\n",
       "      <td>3.191524</td>\n",
       "      <td>NaN</td>\n",
       "      <td>174.00</td>\n",
       "      <td>2007</td>\n",
       "    </tr>\n",
       "    <tr>\n",
       "      <th>1033</th>\n",
       "      <td>Transit</td>\n",
       "      <td>1</td>\n",
       "      <td>4.125083</td>\n",
       "      <td>NaN</td>\n",
       "      <td>293.00</td>\n",
       "      <td>2008</td>\n",
       "    </tr>\n",
       "    <tr>\n",
       "      <th>1034</th>\n",
       "      <td>Transit</td>\n",
       "      <td>1</td>\n",
       "      <td>4.187757</td>\n",
       "      <td>NaN</td>\n",
       "      <td>260.00</td>\n",
       "      <td>2008</td>\n",
       "    </tr>\n",
       "  </tbody>\n",
       "</table>\n",
       "<p>1035 rows × 6 columns</p>\n",
       "</div>"
      ],
      "text/plain": [
       "               method  number  orbital_period   mass  distance  year\n",
       "0     Radial Velocity       1      269.300000   7.10     77.40  2006\n",
       "1     Radial Velocity       1      874.774000   2.21     56.95  2008\n",
       "2     Radial Velocity       1      763.000000   2.60     19.84  2011\n",
       "3     Radial Velocity       1      326.030000  19.40    110.62  2007\n",
       "4     Radial Velocity       1      516.220000  10.50    119.47  2009\n",
       "...               ...     ...             ...    ...       ...   ...\n",
       "1030          Transit       1        3.941507    NaN    172.00  2006\n",
       "1031          Transit       1        2.615864    NaN    148.00  2007\n",
       "1032          Transit       1        3.191524    NaN    174.00  2007\n",
       "1033          Transit       1        4.125083    NaN    293.00  2008\n",
       "1034          Transit       1        4.187757    NaN    260.00  2008\n",
       "\n",
       "[1035 rows x 6 columns]"
      ]
     },
     "execution_count": 27,
     "metadata": {},
     "output_type": "execute_result"
    }
   ],
   "source": [
    "#Ordenar basado en el indice\n",
    "df_planetas.sort_index(inplace=True)\n",
    "df_planetas"
   ]
  },
  {
   "cell_type": "markdown",
   "metadata": {},
   "source": [
    "## Ordenar por los valores de más de una columna\n",
    "\n",
    "Finalmente puede ser necesario ordenar los valores por más de una columna. Primero por una y luego por otra. Esto se puede hacer indicando al método sort_values() un vector de columnas en lugar de una cadena de texto. Por ejemplo, se pueden ordenar los planetas por año y periodo orbital el siguiente resultado. (En este se puede ver que los planetas descubiertos en el 1992 hay dos que están ordenados por su periodo.)"
   ]
  },
  {
   "cell_type": "code",
   "execution_count": 36,
   "metadata": {},
   "outputs": [
    {
     "data": {
      "application/vnd.microsoft.datawrangler.viewer.v0+json": {
       "columns": [
        {
         "name": "index",
         "rawType": "int64",
         "type": "integer"
        },
        {
         "name": "method",
         "rawType": "object",
         "type": "string"
        },
        {
         "name": "number",
         "rawType": "int64",
         "type": "integer"
        },
        {
         "name": "orbital_period",
         "rawType": "float64",
         "type": "float"
        },
        {
         "name": "mass",
         "rawType": "float64",
         "type": "float"
        },
        {
         "name": "distance",
         "rawType": "float64",
         "type": "float"
        },
        {
         "name": "year",
         "rawType": "int64",
         "type": "integer"
        }
       ],
       "ref": "1018f8c7-299e-4d6d-ae23-39083684e67b",
       "rows": [
        [
         "537",
         "Astrometry",
         "1",
         "1016.0",
         null,
         "14.98",
         "2010"
        ],
        [
         "113",
         "Astrometry",
         "1",
         "246.36",
         null,
         "20.77",
         "2013"
        ],
        [
         "32",
         "Eclipse Timing Variations",
         "1",
         "10220.0",
         "6.05",
         null,
         "2009"
        ],
        [
         "43",
         "Eclipse Timing Variations",
         "2",
         "5840.0",
         null,
         null,
         "2011"
        ],
        [
         "37",
         "Eclipse Timing Variations",
         "2",
         "5767.0",
         null,
         "130.72",
         "2008"
        ],
        [
         "39",
         "Eclipse Timing Variations",
         "2",
         "5573.55",
         null,
         "500.0",
         "2010"
        ],
        [
         "42",
         "Eclipse Timing Variations",
         "1",
         "4343.5",
         "4.2",
         null,
         "2012"
        ],
        [
         "38",
         "Eclipse Timing Variations",
         "2",
         "3321.0",
         null,
         "130.72",
         "2008"
        ],
        [
         "41",
         "Eclipse Timing Variations",
         "1",
         "2900.0",
         null,
         null,
         "2011"
        ],
        [
         "40",
         "Eclipse Timing Variations",
         "2",
         "2883.5",
         null,
         "500.0",
         "2010"
        ],
        [
         "44",
         "Eclipse Timing Variations",
         "2",
         "1916.25",
         null,
         null,
         "2011"
        ],
        [
         "937",
         "Imaging",
         "1",
         "730000.0",
         null,
         null,
         "2006"
        ],
        [
         "68",
         "Imaging",
         "1",
         "318280.0",
         null,
         "7.69",
         "2008"
        ],
        [
         "643",
         "Imaging",
         "4",
         "170000.0",
         null,
         "39.94",
         "2008"
        ],
        [
         "644",
         "Imaging",
         "4",
         "69000.0",
         null,
         "39.94",
         "2008"
        ]
       ],
       "shape": {
        "columns": 6,
        "rows": 15
       }
      },
      "text/html": [
       "<div>\n",
       "<style scoped>\n",
       "    .dataframe tbody tr th:only-of-type {\n",
       "        vertical-align: middle;\n",
       "    }\n",
       "\n",
       "    .dataframe tbody tr th {\n",
       "        vertical-align: top;\n",
       "    }\n",
       "\n",
       "    .dataframe thead th {\n",
       "        text-align: right;\n",
       "    }\n",
       "</style>\n",
       "<table border=\"1\" class=\"dataframe\">\n",
       "  <thead>\n",
       "    <tr style=\"text-align: right;\">\n",
       "      <th></th>\n",
       "      <th>method</th>\n",
       "      <th>number</th>\n",
       "      <th>orbital_period</th>\n",
       "      <th>mass</th>\n",
       "      <th>distance</th>\n",
       "      <th>year</th>\n",
       "    </tr>\n",
       "  </thead>\n",
       "  <tbody>\n",
       "    <tr>\n",
       "      <th>537</th>\n",
       "      <td>Astrometry</td>\n",
       "      <td>1</td>\n",
       "      <td>1016.00</td>\n",
       "      <td>NaN</td>\n",
       "      <td>14.98</td>\n",
       "      <td>2010</td>\n",
       "    </tr>\n",
       "    <tr>\n",
       "      <th>113</th>\n",
       "      <td>Astrometry</td>\n",
       "      <td>1</td>\n",
       "      <td>246.36</td>\n",
       "      <td>NaN</td>\n",
       "      <td>20.77</td>\n",
       "      <td>2013</td>\n",
       "    </tr>\n",
       "    <tr>\n",
       "      <th>32</th>\n",
       "      <td>Eclipse Timing Variations</td>\n",
       "      <td>1</td>\n",
       "      <td>10220.00</td>\n",
       "      <td>6.05</td>\n",
       "      <td>NaN</td>\n",
       "      <td>2009</td>\n",
       "    </tr>\n",
       "    <tr>\n",
       "      <th>43</th>\n",
       "      <td>Eclipse Timing Variations</td>\n",
       "      <td>2</td>\n",
       "      <td>5840.00</td>\n",
       "      <td>NaN</td>\n",
       "      <td>NaN</td>\n",
       "      <td>2011</td>\n",
       "    </tr>\n",
       "    <tr>\n",
       "      <th>37</th>\n",
       "      <td>Eclipse Timing Variations</td>\n",
       "      <td>2</td>\n",
       "      <td>5767.00</td>\n",
       "      <td>NaN</td>\n",
       "      <td>130.72</td>\n",
       "      <td>2008</td>\n",
       "    </tr>\n",
       "    <tr>\n",
       "      <th>39</th>\n",
       "      <td>Eclipse Timing Variations</td>\n",
       "      <td>2</td>\n",
       "      <td>5573.55</td>\n",
       "      <td>NaN</td>\n",
       "      <td>500.00</td>\n",
       "      <td>2010</td>\n",
       "    </tr>\n",
       "    <tr>\n",
       "      <th>42</th>\n",
       "      <td>Eclipse Timing Variations</td>\n",
       "      <td>1</td>\n",
       "      <td>4343.50</td>\n",
       "      <td>4.20</td>\n",
       "      <td>NaN</td>\n",
       "      <td>2012</td>\n",
       "    </tr>\n",
       "    <tr>\n",
       "      <th>38</th>\n",
       "      <td>Eclipse Timing Variations</td>\n",
       "      <td>2</td>\n",
       "      <td>3321.00</td>\n",
       "      <td>NaN</td>\n",
       "      <td>130.72</td>\n",
       "      <td>2008</td>\n",
       "    </tr>\n",
       "    <tr>\n",
       "      <th>41</th>\n",
       "      <td>Eclipse Timing Variations</td>\n",
       "      <td>1</td>\n",
       "      <td>2900.00</td>\n",
       "      <td>NaN</td>\n",
       "      <td>NaN</td>\n",
       "      <td>2011</td>\n",
       "    </tr>\n",
       "    <tr>\n",
       "      <th>40</th>\n",
       "      <td>Eclipse Timing Variations</td>\n",
       "      <td>2</td>\n",
       "      <td>2883.50</td>\n",
       "      <td>NaN</td>\n",
       "      <td>500.00</td>\n",
       "      <td>2010</td>\n",
       "    </tr>\n",
       "    <tr>\n",
       "      <th>44</th>\n",
       "      <td>Eclipse Timing Variations</td>\n",
       "      <td>2</td>\n",
       "      <td>1916.25</td>\n",
       "      <td>NaN</td>\n",
       "      <td>NaN</td>\n",
       "      <td>2011</td>\n",
       "    </tr>\n",
       "    <tr>\n",
       "      <th>937</th>\n",
       "      <td>Imaging</td>\n",
       "      <td>1</td>\n",
       "      <td>730000.00</td>\n",
       "      <td>NaN</td>\n",
       "      <td>NaN</td>\n",
       "      <td>2006</td>\n",
       "    </tr>\n",
       "    <tr>\n",
       "      <th>68</th>\n",
       "      <td>Imaging</td>\n",
       "      <td>1</td>\n",
       "      <td>318280.00</td>\n",
       "      <td>NaN</td>\n",
       "      <td>7.69</td>\n",
       "      <td>2008</td>\n",
       "    </tr>\n",
       "    <tr>\n",
       "      <th>643</th>\n",
       "      <td>Imaging</td>\n",
       "      <td>4</td>\n",
       "      <td>170000.00</td>\n",
       "      <td>NaN</td>\n",
       "      <td>39.94</td>\n",
       "      <td>2008</td>\n",
       "    </tr>\n",
       "    <tr>\n",
       "      <th>644</th>\n",
       "      <td>Imaging</td>\n",
       "      <td>4</td>\n",
       "      <td>69000.00</td>\n",
       "      <td>NaN</td>\n",
       "      <td>39.94</td>\n",
       "      <td>2008</td>\n",
       "    </tr>\n",
       "  </tbody>\n",
       "</table>\n",
       "</div>"
      ],
      "text/plain": [
       "                        method  number  orbital_period  mass  distance  year\n",
       "537                 Astrometry       1         1016.00   NaN     14.98  2010\n",
       "113                 Astrometry       1          246.36   NaN     20.77  2013\n",
       "32   Eclipse Timing Variations       1        10220.00  6.05       NaN  2009\n",
       "43   Eclipse Timing Variations       2         5840.00   NaN       NaN  2011\n",
       "37   Eclipse Timing Variations       2         5767.00   NaN    130.72  2008\n",
       "39   Eclipse Timing Variations       2         5573.55   NaN    500.00  2010\n",
       "42   Eclipse Timing Variations       1         4343.50  4.20       NaN  2012\n",
       "38   Eclipse Timing Variations       2         3321.00   NaN    130.72  2008\n",
       "41   Eclipse Timing Variations       1         2900.00   NaN       NaN  2011\n",
       "40   Eclipse Timing Variations       2         2883.50   NaN    500.00  2010\n",
       "44   Eclipse Timing Variations       2         1916.25   NaN       NaN  2011\n",
       "937                    Imaging       1       730000.00   NaN       NaN  2006\n",
       "68                     Imaging       1       318280.00   NaN      7.69  2008\n",
       "643                    Imaging       4       170000.00   NaN     39.94  2008\n",
       "644                    Imaging       4        69000.00   NaN     39.94  2008"
      ]
     },
     "execution_count": 36,
     "metadata": {},
     "output_type": "execute_result"
    }
   ],
   "source": [
    "#Ordenar el dataframe basado en 'year' y despues en 'orbital_period'\n",
    "df_planetas.sort_values(['method', 'orbital_period'], ascending=[True, False]).head(15)"
   ]
  },
  {
   "cell_type": "markdown",
   "metadata": {},
   "source": [
    "Ahora agrupando el método y el periodo orbital"
   ]
  },
  {
   "cell_type": "code",
   "execution_count": 14,
   "metadata": {},
   "outputs": [
    {
     "data": {
      "text/html": [
       "<div>\n",
       "<style scoped>\n",
       "    .dataframe tbody tr th:only-of-type {\n",
       "        vertical-align: middle;\n",
       "    }\n",
       "\n",
       "    .dataframe tbody tr th {\n",
       "        vertical-align: top;\n",
       "    }\n",
       "\n",
       "    .dataframe thead th {\n",
       "        text-align: right;\n",
       "    }\n",
       "</style>\n",
       "<table border=\"1\" class=\"dataframe\">\n",
       "  <thead>\n",
       "    <tr style=\"text-align: right;\">\n",
       "      <th></th>\n",
       "      <th>method</th>\n",
       "      <th>number</th>\n",
       "      <th>orbital_period</th>\n",
       "      <th>mass</th>\n",
       "      <th>distance</th>\n",
       "      <th>year</th>\n",
       "    </tr>\n",
       "  </thead>\n",
       "  <tbody>\n",
       "    <tr>\n",
       "      <th>113</th>\n",
       "      <td>Astrometry</td>\n",
       "      <td>1</td>\n",
       "      <td>246.36000</td>\n",
       "      <td>NaN</td>\n",
       "      <td>20.77</td>\n",
       "      <td>2013</td>\n",
       "    </tr>\n",
       "    <tr>\n",
       "      <th>537</th>\n",
       "      <td>Astrometry</td>\n",
       "      <td>1</td>\n",
       "      <td>1016.00000</td>\n",
       "      <td>NaN</td>\n",
       "      <td>14.98</td>\n",
       "      <td>2010</td>\n",
       "    </tr>\n",
       "    <tr>\n",
       "      <th>44</th>\n",
       "      <td>Eclipse Timing Variations</td>\n",
       "      <td>2</td>\n",
       "      <td>1916.25000</td>\n",
       "      <td>NaN</td>\n",
       "      <td>NaN</td>\n",
       "      <td>2011</td>\n",
       "    </tr>\n",
       "    <tr>\n",
       "      <th>40</th>\n",
       "      <td>Eclipse Timing Variations</td>\n",
       "      <td>2</td>\n",
       "      <td>2883.50000</td>\n",
       "      <td>NaN</td>\n",
       "      <td>500.00</td>\n",
       "      <td>2010</td>\n",
       "    </tr>\n",
       "    <tr>\n",
       "      <th>41</th>\n",
       "      <td>Eclipse Timing Variations</td>\n",
       "      <td>1</td>\n",
       "      <td>2900.00000</td>\n",
       "      <td>NaN</td>\n",
       "      <td>NaN</td>\n",
       "      <td>2011</td>\n",
       "    </tr>\n",
       "    <tr>\n",
       "      <th>...</th>\n",
       "      <td>...</td>\n",
       "      <td>...</td>\n",
       "      <td>...</td>\n",
       "      <td>...</td>\n",
       "      <td>...</td>\n",
       "      <td>...</td>\n",
       "    </tr>\n",
       "    <tr>\n",
       "      <th>824</th>\n",
       "      <td>Transit</td>\n",
       "      <td>7</td>\n",
       "      <td>331.60059</td>\n",
       "      <td>NaN</td>\n",
       "      <td>780.00</td>\n",
       "      <td>2013</td>\n",
       "    </tr>\n",
       "    <tr>\n",
       "      <th>813</th>\n",
       "      <td>Transit Timing Variations</td>\n",
       "      <td>2</td>\n",
       "      <td>22.33950</td>\n",
       "      <td>NaN</td>\n",
       "      <td>339.00</td>\n",
       "      <td>2013</td>\n",
       "    </tr>\n",
       "    <tr>\n",
       "      <th>736</th>\n",
       "      <td>Transit Timing Variations</td>\n",
       "      <td>2</td>\n",
       "      <td>57.01100</td>\n",
       "      <td>NaN</td>\n",
       "      <td>855.00</td>\n",
       "      <td>2012</td>\n",
       "    </tr>\n",
       "    <tr>\n",
       "      <th>680</th>\n",
       "      <td>Transit Timing Variations</td>\n",
       "      <td>2</td>\n",
       "      <td>160.00000</td>\n",
       "      <td>NaN</td>\n",
       "      <td>2119.00</td>\n",
       "      <td>2011</td>\n",
       "    </tr>\n",
       "    <tr>\n",
       "      <th>749</th>\n",
       "      <td>Transit Timing Variations</td>\n",
       "      <td>3</td>\n",
       "      <td>NaN</td>\n",
       "      <td>NaN</td>\n",
       "      <td>NaN</td>\n",
       "      <td>2014</td>\n",
       "    </tr>\n",
       "  </tbody>\n",
       "</table>\n",
       "<p>1035 rows × 6 columns</p>\n",
       "</div>"
      ],
      "text/plain": [
       "                        method  number  orbital_period  mass  distance  year\n",
       "113                 Astrometry       1       246.36000   NaN     20.77  2013\n",
       "537                 Astrometry       1      1016.00000   NaN     14.98  2010\n",
       "44   Eclipse Timing Variations       2      1916.25000   NaN       NaN  2011\n",
       "40   Eclipse Timing Variations       2      2883.50000   NaN    500.00  2010\n",
       "41   Eclipse Timing Variations       1      2900.00000   NaN       NaN  2011\n",
       "..                         ...     ...             ...   ...       ...   ...\n",
       "824                    Transit       7       331.60059   NaN    780.00  2013\n",
       "813  Transit Timing Variations       2        22.33950   NaN    339.00  2013\n",
       "736  Transit Timing Variations       2        57.01100   NaN    855.00  2012\n",
       "680  Transit Timing Variations       2       160.00000   NaN   2119.00  2011\n",
       "749  Transit Timing Variations       3             NaN   NaN       NaN  2014\n",
       "\n",
       "[1035 rows x 6 columns]"
      ]
     },
     "execution_count": 14,
     "metadata": {},
     "output_type": "execute_result"
    }
   ],
   "source": [
    "#Ordenar el dataframe basado en 'method' y despues en 'orbital_period'\n",
    "\n",
    " "
   ]
  },
  {
   "cell_type": "markdown",
   "metadata": {},
   "source": [
    "Ordenando el periodo orbital de manera descendente "
   ]
  },
  {
   "cell_type": "code",
   "execution_count": 15,
   "metadata": {},
   "outputs": [
    {
     "data": {
      "text/html": [
       "<div>\n",
       "<style scoped>\n",
       "    .dataframe tbody tr th:only-of-type {\n",
       "        vertical-align: middle;\n",
       "    }\n",
       "\n",
       "    .dataframe tbody tr th {\n",
       "        vertical-align: top;\n",
       "    }\n",
       "\n",
       "    .dataframe thead th {\n",
       "        text-align: right;\n",
       "    }\n",
       "</style>\n",
       "<table border=\"1\" class=\"dataframe\">\n",
       "  <thead>\n",
       "    <tr style=\"text-align: right;\">\n",
       "      <th></th>\n",
       "      <th>method</th>\n",
       "      <th>number</th>\n",
       "      <th>orbital_period</th>\n",
       "      <th>mass</th>\n",
       "      <th>distance</th>\n",
       "      <th>year</th>\n",
       "    </tr>\n",
       "  </thead>\n",
       "  <tbody>\n",
       "    <tr>\n",
       "      <th>537</th>\n",
       "      <td>Astrometry</td>\n",
       "      <td>1</td>\n",
       "      <td>1016.0000</td>\n",
       "      <td>NaN</td>\n",
       "      <td>14.98</td>\n",
       "      <td>2010</td>\n",
       "    </tr>\n",
       "    <tr>\n",
       "      <th>113</th>\n",
       "      <td>Astrometry</td>\n",
       "      <td>1</td>\n",
       "      <td>246.3600</td>\n",
       "      <td>NaN</td>\n",
       "      <td>20.77</td>\n",
       "      <td>2013</td>\n",
       "    </tr>\n",
       "    <tr>\n",
       "      <th>32</th>\n",
       "      <td>Eclipse Timing Variations</td>\n",
       "      <td>1</td>\n",
       "      <td>10220.0000</td>\n",
       "      <td>6.05</td>\n",
       "      <td>NaN</td>\n",
       "      <td>2009</td>\n",
       "    </tr>\n",
       "    <tr>\n",
       "      <th>43</th>\n",
       "      <td>Eclipse Timing Variations</td>\n",
       "      <td>2</td>\n",
       "      <td>5840.0000</td>\n",
       "      <td>NaN</td>\n",
       "      <td>NaN</td>\n",
       "      <td>2011</td>\n",
       "    </tr>\n",
       "    <tr>\n",
       "      <th>37</th>\n",
       "      <td>Eclipse Timing Variations</td>\n",
       "      <td>2</td>\n",
       "      <td>5767.0000</td>\n",
       "      <td>NaN</td>\n",
       "      <td>130.72</td>\n",
       "      <td>2008</td>\n",
       "    </tr>\n",
       "    <tr>\n",
       "      <th>...</th>\n",
       "      <td>...</td>\n",
       "      <td>...</td>\n",
       "      <td>...</td>\n",
       "      <td>...</td>\n",
       "      <td>...</td>\n",
       "      <td>...</td>\n",
       "    </tr>\n",
       "    <tr>\n",
       "      <th>794</th>\n",
       "      <td>Transit</td>\n",
       "      <td>1</td>\n",
       "      <td>0.3550</td>\n",
       "      <td>NaN</td>\n",
       "      <td>NaN</td>\n",
       "      <td>2013</td>\n",
       "    </tr>\n",
       "    <tr>\n",
       "      <th>680</th>\n",
       "      <td>Transit Timing Variations</td>\n",
       "      <td>2</td>\n",
       "      <td>160.0000</td>\n",
       "      <td>NaN</td>\n",
       "      <td>2119.00</td>\n",
       "      <td>2011</td>\n",
       "    </tr>\n",
       "    <tr>\n",
       "      <th>736</th>\n",
       "      <td>Transit Timing Variations</td>\n",
       "      <td>2</td>\n",
       "      <td>57.0110</td>\n",
       "      <td>NaN</td>\n",
       "      <td>855.00</td>\n",
       "      <td>2012</td>\n",
       "    </tr>\n",
       "    <tr>\n",
       "      <th>813</th>\n",
       "      <td>Transit Timing Variations</td>\n",
       "      <td>2</td>\n",
       "      <td>22.3395</td>\n",
       "      <td>NaN</td>\n",
       "      <td>339.00</td>\n",
       "      <td>2013</td>\n",
       "    </tr>\n",
       "    <tr>\n",
       "      <th>749</th>\n",
       "      <td>Transit Timing Variations</td>\n",
       "      <td>3</td>\n",
       "      <td>NaN</td>\n",
       "      <td>NaN</td>\n",
       "      <td>NaN</td>\n",
       "      <td>2014</td>\n",
       "    </tr>\n",
       "  </tbody>\n",
       "</table>\n",
       "<p>1035 rows × 6 columns</p>\n",
       "</div>"
      ],
      "text/plain": [
       "                        method  number  orbital_period  mass  distance  year\n",
       "537                 Astrometry       1       1016.0000   NaN     14.98  2010\n",
       "113                 Astrometry       1        246.3600   NaN     20.77  2013\n",
       "32   Eclipse Timing Variations       1      10220.0000  6.05       NaN  2009\n",
       "43   Eclipse Timing Variations       2       5840.0000   NaN       NaN  2011\n",
       "37   Eclipse Timing Variations       2       5767.0000   NaN    130.72  2008\n",
       "..                         ...     ...             ...   ...       ...   ...\n",
       "794                    Transit       1          0.3550   NaN       NaN  2013\n",
       "680  Transit Timing Variations       2        160.0000   NaN   2119.00  2011\n",
       "736  Transit Timing Variations       2         57.0110   NaN    855.00  2012\n",
       "813  Transit Timing Variations       2         22.3395   NaN    339.00  2013\n",
       "749  Transit Timing Variations       3             NaN   NaN       NaN  2014\n",
       "\n",
       "[1035 rows x 6 columns]"
      ]
     },
     "execution_count": 15,
     "metadata": {},
     "output_type": "execute_result"
    }
   ],
   "source": [
    "#Utilizar la opcion ascending=[True,False]\n"
   ]
  },
  {
   "cell_type": "markdown",
   "metadata": {},
   "source": [
    "# Valores únicos"
   ]
  },
  {
   "cell_type": "markdown",
   "metadata": {},
   "source": [
    "En el conjunto de datos de exoplanetas existe una columna con el método utilizado para su descubrimiento. Por lo que puede ser interesante obtener el listado de método únicos utilizados. El método de las columnas de Pandas que permite obtener estos valores es ``unique()``. Así el listado de métodos de descubrimiento de planetas se puede obtener aplicando este método a la columna \"method\"."
   ]
  },
  {
   "cell_type": "code",
   "execution_count": 41,
   "metadata": {},
   "outputs": [
    {
     "data": {
      "text/plain": [
       "array(['Radial Velocity', 'Imaging', 'Eclipse Timing Variations',\n",
       "       'Transit', 'Astrometry', 'Transit Timing Variations',\n",
       "       'Orbital Brightness Modulation', 'Microlensing', 'Pulsar Timing',\n",
       "       'Pulsation Timing Variations'], dtype=object)"
      ]
     },
     "execution_count": 41,
     "metadata": {},
     "output_type": "execute_result"
    }
   ],
   "source": [
    "#Utilizar  unique() en el campo de 'method'\n",
    "df_planetas['method'].unique()"
   ]
  },
  {
   "cell_type": "markdown",
   "metadata": {},
   "source": [
    "En este caso se puede ver que el resultado es un array. En el caso de que desee que el listado de valores sea una lista se puede utilizar el método tolist() para transformarla."
   ]
  },
  {
   "cell_type": "code",
   "execution_count": 47,
   "metadata": {},
   "outputs": [
    {
     "data": {
      "text/plain": [
       "['Astrometry',\n",
       " 'Eclipse Timing Variations',\n",
       " 'Imaging',\n",
       " 'Microlensing',\n",
       " 'Orbital Brightness Modulation',\n",
       " 'Pulsar Timing',\n",
       " 'Pulsation Timing Variations',\n",
       " 'Radial Velocity',\n",
       " 'Transit',\n",
       " 'Transit Timing Variations']"
      ]
     },
     "execution_count": 47,
     "metadata": {},
     "output_type": "execute_result"
    }
   ],
   "source": [
    "#Utilizar  unique() en el campo de 'method' y pasarlo a lista \n",
    "sorted(df_planetas['method'].unique().tolist())"
   ]
  },
  {
   "cell_type": "markdown",
   "metadata": {},
   "source": [
    "Si requerimos la lista ordenada alfabéticamente usamos ``sort_values``"
   ]
  },
  {
   "cell_type": "code",
   "execution_count": 18,
   "metadata": {},
   "outputs": [
    {
     "data": {
      "text/plain": [
       "['Astrometry',\n",
       " 'Eclipse Timing Variations',\n",
       " 'Imaging',\n",
       " 'Microlensing',\n",
       " 'Orbital Brightness Modulation',\n",
       " 'Pulsar Timing',\n",
       " 'Pulsation Timing Variations',\n",
       " 'Radial Velocity',\n",
       " 'Transit',\n",
       " 'Transit Timing Variations']"
      ]
     },
     "execution_count": 18,
     "metadata": {},
     "output_type": "execute_result"
    }
   ],
   "source": [
    "# sort_values('method')\n",
    " "
   ]
  },
  {
   "cell_type": "markdown",
   "metadata": {},
   "source": [
    "Si requerimos la lista ordenada por frecuencia usamos ``value_counts()``"
   ]
  },
  {
   "cell_type": "code",
   "execution_count": 49,
   "metadata": {},
   "outputs": [
    {
     "data": {
      "application/vnd.microsoft.datawrangler.viewer.v0+json": {
       "columns": [
        {
         "name": "method",
         "rawType": "object",
         "type": "string"
        },
        {
         "name": "count",
         "rawType": "int64",
         "type": "integer"
        }
       ],
       "ref": "c4e21bda-8c3a-4b60-b90e-d14f4dc7488e",
       "rows": [
        [
         "Radial Velocity",
         "553"
        ],
        [
         "Transit",
         "397"
        ],
        [
         "Imaging",
         "38"
        ],
        [
         "Microlensing",
         "23"
        ],
        [
         "Eclipse Timing Variations",
         "9"
        ],
        [
         "Pulsar Timing",
         "5"
        ],
        [
         "Transit Timing Variations",
         "4"
        ],
        [
         "Orbital Brightness Modulation",
         "3"
        ],
        [
         "Astrometry",
         "2"
        ],
        [
         "Pulsation Timing Variations",
         "1"
        ]
       ],
       "shape": {
        "columns": 1,
        "rows": 10
       }
      },
      "text/plain": [
       "method\n",
       "Radial Velocity                  553\n",
       "Transit                          397\n",
       "Imaging                           38\n",
       "Microlensing                      23\n",
       "Eclipse Timing Variations          9\n",
       "Pulsar Timing                      5\n",
       "Transit Timing Variations          4\n",
       "Orbital Brightness Modulation      3\n",
       "Astrometry                         2\n",
       "Pulsation Timing Variations        1\n",
       "Name: count, dtype: int64"
      ]
     },
     "execution_count": 49,
     "metadata": {},
     "output_type": "execute_result"
    }
   ],
   "source": [
    "# value_counts()\n",
    "df_planetas['method'].value_counts()"
   ]
  },
  {
   "cell_type": "markdown",
   "metadata": {},
   "source": [
    "Si requerimos la lista ordenada alfabéticamente y ademas su frecuencia usamos ``value_counts()`` y  ``sort_index``"
   ]
  },
  {
   "cell_type": "code",
   "execution_count": 48,
   "metadata": {},
   "outputs": [
    {
     "data": {
      "application/vnd.microsoft.datawrangler.viewer.v0+json": {
       "columns": [
        {
         "name": "method",
         "rawType": "object",
         "type": "string"
        },
        {
         "name": "count",
         "rawType": "int64",
         "type": "integer"
        }
       ],
       "ref": "6c35665b-f76b-45d1-9265-efa4962fd693",
       "rows": [
        [
         "Astrometry",
         "2"
        ],
        [
         "Eclipse Timing Variations",
         "9"
        ],
        [
         "Imaging",
         "38"
        ],
        [
         "Microlensing",
         "23"
        ],
        [
         "Orbital Brightness Modulation",
         "3"
        ],
        [
         "Pulsar Timing",
         "5"
        ],
        [
         "Pulsation Timing Variations",
         "1"
        ],
        [
         "Radial Velocity",
         "553"
        ],
        [
         "Transit",
         "397"
        ],
        [
         "Transit Timing Variations",
         "4"
        ]
       ],
       "shape": {
        "columns": 1,
        "rows": 10
       }
      },
      "text/plain": [
       "method\n",
       "Astrometry                         2\n",
       "Eclipse Timing Variations          9\n",
       "Imaging                           38\n",
       "Microlensing                      23\n",
       "Orbital Brightness Modulation      3\n",
       "Pulsar Timing                      5\n",
       "Pulsation Timing Variations        1\n",
       "Radial Velocity                  553\n",
       "Transit                          397\n",
       "Transit Timing Variations          4\n",
       "Name: count, dtype: int64"
      ]
     },
     "execution_count": 48,
     "metadata": {},
     "output_type": "execute_result"
    }
   ],
   "source": [
    "# value_counts() y sort_index()\n",
    "df_planetas['method'].value_counts().sort_index()"
   ]
  },
  {
   "cell_type": "markdown",
   "metadata": {},
   "source": [
    "El método unique() se puede aplicar también en columnas cuyo contenido sea numérico. Por ejemplo, en la columna \"year\"."
   ]
  },
  {
   "cell_type": "code",
   "execution_count": 57,
   "metadata": {},
   "outputs": [
    {
     "data": {
      "application/vnd.microsoft.datawrangler.viewer.v0+json": {
       "columns": [
        {
         "name": "year",
         "rawType": "int64",
         "type": "integer"
        },
        {
         "name": "count",
         "rawType": "int64",
         "type": "integer"
        }
       ],
       "ref": "fb36bf3f-a9d1-4b47-b652-e27f3e116c3c",
       "rows": [
        [
         "1989",
         "1"
        ],
        [
         "1992",
         "2"
        ],
        [
         "1994",
         "1"
        ],
        [
         "1995",
         "1"
        ],
        [
         "1996",
         "6"
        ],
        [
         "1997",
         "1"
        ],
        [
         "1998",
         "5"
        ],
        [
         "1999",
         "15"
        ],
        [
         "2000",
         "16"
        ],
        [
         "2001",
         "12"
        ],
        [
         "2002",
         "32"
        ],
        [
         "2003",
         "25"
        ],
        [
         "2004",
         "26"
        ],
        [
         "2005",
         "39"
        ],
        [
         "2006",
         "31"
        ],
        [
         "2007",
         "53"
        ],
        [
         "2008",
         "74"
        ],
        [
         "2009",
         "98"
        ],
        [
         "2010",
         "102"
        ],
        [
         "2011",
         "185"
        ],
        [
         "2012",
         "140"
        ],
        [
         "2013",
         "118"
        ],
        [
         "2014",
         "52"
        ]
       ],
       "shape": {
        "columns": 1,
        "rows": 23
       }
      },
      "text/plain": [
       "year\n",
       "1989      1\n",
       "1992      2\n",
       "1994      1\n",
       "1995      1\n",
       "1996      6\n",
       "1997      1\n",
       "1998      5\n",
       "1999     15\n",
       "2000     16\n",
       "2001     12\n",
       "2002     32\n",
       "2003     25\n",
       "2004     26\n",
       "2005     39\n",
       "2006     31\n",
       "2007     53\n",
       "2008     74\n",
       "2009     98\n",
       "2010    102\n",
       "2011    185\n",
       "2012    140\n",
       "2013    118\n",
       "2014     52\n",
       "Name: count, dtype: int64"
      ]
     },
     "execution_count": 57,
     "metadata": {},
     "output_type": "execute_result"
    }
   ],
   "source": [
    "# unique()\n",
    "df_planetas['year'].value_counts().sort_index()"
   ]
  },
  {
   "cell_type": "markdown",
   "metadata": {},
   "source": [
    "# Tarea\n",
    "##  Parte 1\n",
    "Utilizar el siguiente dataframe para resolver los ejercicios 1 al 4"
   ]
  },
  {
   "cell_type": "code",
   "execution_count": 60,
   "metadata": {},
   "outputs": [
    {
     "data": {
      "application/vnd.microsoft.datawrangler.viewer.v0+json": {
       "columns": [
        {
         "name": "index",
         "rawType": "int64",
         "type": "integer"
        },
        {
         "name": "Country",
         "rawType": "object",
         "type": "string"
        },
        {
         "name": "Year",
         "rawType": "int64",
         "type": "integer"
        },
        {
         "name": "Population",
         "rawType": "float64",
         "type": "float"
        },
        {
         "name": "Continent",
         "rawType": "object",
         "type": "string"
        }
       ],
       "ref": "c4d744ff-f1ac-43f9-8057-052bcc8dd3d7",
       "rows": [
        [
         "0",
         "Afghanistan",
         "1952",
         "8425333.0",
         "Asia"
        ],
        [
         "1",
         "France",
         "1957",
         "44310863.0",
         "Europe"
        ],
        [
         "2",
         "Australia",
         "1957",
         "9712569.0",
         "Oceania"
        ],
        [
         "3",
         "India",
         "1952",
         "372000000.0",
         "Asia"
        ],
        [
         "4",
         "Brazil",
         "1962",
         "76039390.0",
         "Americas"
        ],
        [
         "5",
         "China",
         "1957",
         "637408000.0",
         "Asia"
        ],
        [
         "6",
         "United States",
         "1957",
         "171984000.0",
         "Americas"
        ],
        [
         "7",
         "Croatia",
         "1960",
         null,
         "Europe"
        ]
       ],
       "shape": {
        "columns": 4,
        "rows": 8
       }
      },
      "text/html": [
       "<div>\n",
       "<style scoped>\n",
       "    .dataframe tbody tr th:only-of-type {\n",
       "        vertical-align: middle;\n",
       "    }\n",
       "\n",
       "    .dataframe tbody tr th {\n",
       "        vertical-align: top;\n",
       "    }\n",
       "\n",
       "    .dataframe thead th {\n",
       "        text-align: right;\n",
       "    }\n",
       "</style>\n",
       "<table border=\"1\" class=\"dataframe\">\n",
       "  <thead>\n",
       "    <tr style=\"text-align: right;\">\n",
       "      <th></th>\n",
       "      <th>Country</th>\n",
       "      <th>Year</th>\n",
       "      <th>Population</th>\n",
       "      <th>Continent</th>\n",
       "    </tr>\n",
       "  </thead>\n",
       "  <tbody>\n",
       "    <tr>\n",
       "      <th>0</th>\n",
       "      <td>Afghanistan</td>\n",
       "      <td>1952</td>\n",
       "      <td>8425333.0</td>\n",
       "      <td>Asia</td>\n",
       "    </tr>\n",
       "    <tr>\n",
       "      <th>1</th>\n",
       "      <td>France</td>\n",
       "      <td>1957</td>\n",
       "      <td>44310863.0</td>\n",
       "      <td>Europe</td>\n",
       "    </tr>\n",
       "    <tr>\n",
       "      <th>2</th>\n",
       "      <td>Australia</td>\n",
       "      <td>1957</td>\n",
       "      <td>9712569.0</td>\n",
       "      <td>Oceania</td>\n",
       "    </tr>\n",
       "    <tr>\n",
       "      <th>3</th>\n",
       "      <td>India</td>\n",
       "      <td>1952</td>\n",
       "      <td>372000000.0</td>\n",
       "      <td>Asia</td>\n",
       "    </tr>\n",
       "    <tr>\n",
       "      <th>4</th>\n",
       "      <td>Brazil</td>\n",
       "      <td>1962</td>\n",
       "      <td>76039390.0</td>\n",
       "      <td>Americas</td>\n",
       "    </tr>\n",
       "    <tr>\n",
       "      <th>5</th>\n",
       "      <td>China</td>\n",
       "      <td>1957</td>\n",
       "      <td>637408000.0</td>\n",
       "      <td>Asia</td>\n",
       "    </tr>\n",
       "    <tr>\n",
       "      <th>6</th>\n",
       "      <td>United States</td>\n",
       "      <td>1957</td>\n",
       "      <td>171984000.0</td>\n",
       "      <td>Americas</td>\n",
       "    </tr>\n",
       "    <tr>\n",
       "      <th>7</th>\n",
       "      <td>Croatia</td>\n",
       "      <td>1960</td>\n",
       "      <td>NaN</td>\n",
       "      <td>Europe</td>\n",
       "    </tr>\n",
       "  </tbody>\n",
       "</table>\n",
       "</div>"
      ],
      "text/plain": [
       "         Country  Year   Population Continent\n",
       "0    Afghanistan  1952    8425333.0      Asia\n",
       "1         France  1957   44310863.0    Europe\n",
       "2      Australia  1957    9712569.0   Oceania\n",
       "3          India  1952  372000000.0      Asia\n",
       "4         Brazil  1962   76039390.0  Americas\n",
       "5          China  1957  637408000.0      Asia\n",
       "6  United States  1957  171984000.0  Americas\n",
       "7        Croatia  1960          NaN    Europe"
      ]
     },
     "execution_count": 60,
     "metadata": {},
     "output_type": "execute_result"
    }
   ],
   "source": [
    "# lista de paises\n",
    "list = [['Afghanistan', 1952, 8425333, 'Asia'],\n",
    "          ['France', 1957, 44310863, 'Europe'],\n",
    "          ['Australia', 1957, 9712569, 'Oceania'],\n",
    "          ['India', 1952, 3.72e+08, 'Asia'],\n",
    "          ['Brazil', 1962, 76039390, 'Americas'],\n",
    "          ['China', 1957, 637408000, 'Asia'],\n",
    "          ['United States', 1957, 171984000, 'Americas'],\n",
    "          ['Croatia', 1960, None ,'Europe']\n",
    "     ]\n",
    "\n",
    "# Dataframe\n",
    "df = pd.DataFrame(list, columns=['Country', 'Year','Population', 'Continent'])\n",
    "\n",
    "df"
   ]
  },
  {
   "cell_type": "markdown",
   "metadata": {},
   "source": [
    "<div class=\"alert alert-info\">\n",
    "\n",
    "<b>EJERCICIO 1</b>: \n",
    "Obtener la misma salida    \n",
    "</div>\n",
    "\n",
    "<img align=\"left\" width=\"300\"  float= \"none\" align=\"middle\" src=\"figuras/ejercicio1.png\">"
   ]
  },
  {
   "cell_type": "code",
   "execution_count": 64,
   "metadata": {},
   "outputs": [
    {
     "data": {
      "application/vnd.microsoft.datawrangler.viewer.v0+json": {
       "columns": [
        {
         "name": "index",
         "rawType": "int64",
         "type": "integer"
        },
        {
         "name": "Country",
         "rawType": "object",
         "type": "string"
        },
        {
         "name": "Year",
         "rawType": "int64",
         "type": "integer"
        },
        {
         "name": "Population",
         "rawType": "float64",
         "type": "float"
        },
        {
         "name": "Continent",
         "rawType": "object",
         "type": "string"
        }
       ],
       "ref": "f04925a7-9f6b-4102-a471-e0055c73a855",
       "rows": [
        [
         "0",
         "Afghanistan",
         "1952",
         "8425333.0",
         "Asia"
        ],
        [
         "2",
         "Australia",
         "1957",
         "9712569.0",
         "Oceania"
        ],
        [
         "4",
         "Brazil",
         "1962",
         "76039390.0",
         "Americas"
        ],
        [
         "5",
         "China",
         "1957",
         "637408000.0",
         "Asia"
        ],
        [
         "7",
         "Croatia",
         "1960",
         null,
         "Europe"
        ],
        [
         "1",
         "France",
         "1957",
         "44310863.0",
         "Europe"
        ],
        [
         "3",
         "India",
         "1952",
         "372000000.0",
         "Asia"
        ],
        [
         "6",
         "United States",
         "1957",
         "171984000.0",
         "Americas"
        ]
       ],
       "shape": {
        "columns": 4,
        "rows": 8
       }
      },
      "text/html": [
       "<div>\n",
       "<style scoped>\n",
       "    .dataframe tbody tr th:only-of-type {\n",
       "        vertical-align: middle;\n",
       "    }\n",
       "\n",
       "    .dataframe tbody tr th {\n",
       "        vertical-align: top;\n",
       "    }\n",
       "\n",
       "    .dataframe thead th {\n",
       "        text-align: right;\n",
       "    }\n",
       "</style>\n",
       "<table border=\"1\" class=\"dataframe\">\n",
       "  <thead>\n",
       "    <tr style=\"text-align: right;\">\n",
       "      <th></th>\n",
       "      <th>Country</th>\n",
       "      <th>Year</th>\n",
       "      <th>Population</th>\n",
       "      <th>Continent</th>\n",
       "    </tr>\n",
       "  </thead>\n",
       "  <tbody>\n",
       "    <tr>\n",
       "      <th>0</th>\n",
       "      <td>Afghanistan</td>\n",
       "      <td>1952</td>\n",
       "      <td>8425333.0</td>\n",
       "      <td>Asia</td>\n",
       "    </tr>\n",
       "    <tr>\n",
       "      <th>2</th>\n",
       "      <td>Australia</td>\n",
       "      <td>1957</td>\n",
       "      <td>9712569.0</td>\n",
       "      <td>Oceania</td>\n",
       "    </tr>\n",
       "    <tr>\n",
       "      <th>4</th>\n",
       "      <td>Brazil</td>\n",
       "      <td>1962</td>\n",
       "      <td>76039390.0</td>\n",
       "      <td>Americas</td>\n",
       "    </tr>\n",
       "    <tr>\n",
       "      <th>5</th>\n",
       "      <td>China</td>\n",
       "      <td>1957</td>\n",
       "      <td>637408000.0</td>\n",
       "      <td>Asia</td>\n",
       "    </tr>\n",
       "    <tr>\n",
       "      <th>7</th>\n",
       "      <td>Croatia</td>\n",
       "      <td>1960</td>\n",
       "      <td>NaN</td>\n",
       "      <td>Europe</td>\n",
       "    </tr>\n",
       "    <tr>\n",
       "      <th>1</th>\n",
       "      <td>France</td>\n",
       "      <td>1957</td>\n",
       "      <td>44310863.0</td>\n",
       "      <td>Europe</td>\n",
       "    </tr>\n",
       "    <tr>\n",
       "      <th>3</th>\n",
       "      <td>India</td>\n",
       "      <td>1952</td>\n",
       "      <td>372000000.0</td>\n",
       "      <td>Asia</td>\n",
       "    </tr>\n",
       "    <tr>\n",
       "      <th>6</th>\n",
       "      <td>United States</td>\n",
       "      <td>1957</td>\n",
       "      <td>171984000.0</td>\n",
       "      <td>Americas</td>\n",
       "    </tr>\n",
       "  </tbody>\n",
       "</table>\n",
       "</div>"
      ],
      "text/plain": [
       "         Country  Year   Population Continent\n",
       "0    Afghanistan  1952    8425333.0      Asia\n",
       "2      Australia  1957    9712569.0   Oceania\n",
       "4         Brazil  1962   76039390.0  Americas\n",
       "5          China  1957  637408000.0      Asia\n",
       "7        Croatia  1960          NaN    Europe\n",
       "1         France  1957   44310863.0    Europe\n",
       "3          India  1952  372000000.0      Asia\n",
       "6  United States  1957  171984000.0  Americas"
      ]
     },
     "execution_count": 64,
     "metadata": {},
     "output_type": "execute_result"
    }
   ],
   "source": [
    "df.sort_values('Country')"
   ]
  },
  {
   "cell_type": "markdown",
   "metadata": {},
   "source": [
    "<div class=\"alert alert-info\">\n",
    "\n",
    "<b>EJERCICIO 2</b>: \n",
    "Obtener la misma salida    \n",
    "</div>\n",
    "\n",
    "<img align=\"left\" width=\"300\"  float= \"none\" align=\"middle\" src=\"figuras/ejercicio2.png\">"
   ]
  },
  {
   "cell_type": "code",
   "execution_count": 65,
   "metadata": {},
   "outputs": [
    {
     "data": {
      "application/vnd.microsoft.datawrangler.viewer.v0+json": {
       "columns": [
        {
         "name": "index",
         "rawType": "int64",
         "type": "integer"
        },
        {
         "name": "Country",
         "rawType": "object",
         "type": "string"
        },
        {
         "name": "Year",
         "rawType": "int64",
         "type": "integer"
        },
        {
         "name": "Population",
         "rawType": "float64",
         "type": "float"
        },
        {
         "name": "Continent",
         "rawType": "object",
         "type": "string"
        }
       ],
       "ref": "93e8996c-3908-4afb-8d20-0e8cc036911f",
       "rows": [
        [
         "5",
         "China",
         "1957",
         "637408000.0",
         "Asia"
        ],
        [
         "3",
         "India",
         "1952",
         "372000000.0",
         "Asia"
        ],
        [
         "6",
         "United States",
         "1957",
         "171984000.0",
         "Americas"
        ],
        [
         "4",
         "Brazil",
         "1962",
         "76039390.0",
         "Americas"
        ],
        [
         "1",
         "France",
         "1957",
         "44310863.0",
         "Europe"
        ],
        [
         "2",
         "Australia",
         "1957",
         "9712569.0",
         "Oceania"
        ],
        [
         "0",
         "Afghanistan",
         "1952",
         "8425333.0",
         "Asia"
        ],
        [
         "7",
         "Croatia",
         "1960",
         null,
         "Europe"
        ]
       ],
       "shape": {
        "columns": 4,
        "rows": 8
       }
      },
      "text/html": [
       "<div>\n",
       "<style scoped>\n",
       "    .dataframe tbody tr th:only-of-type {\n",
       "        vertical-align: middle;\n",
       "    }\n",
       "\n",
       "    .dataframe tbody tr th {\n",
       "        vertical-align: top;\n",
       "    }\n",
       "\n",
       "    .dataframe thead th {\n",
       "        text-align: right;\n",
       "    }\n",
       "</style>\n",
       "<table border=\"1\" class=\"dataframe\">\n",
       "  <thead>\n",
       "    <tr style=\"text-align: right;\">\n",
       "      <th></th>\n",
       "      <th>Country</th>\n",
       "      <th>Year</th>\n",
       "      <th>Population</th>\n",
       "      <th>Continent</th>\n",
       "    </tr>\n",
       "  </thead>\n",
       "  <tbody>\n",
       "    <tr>\n",
       "      <th>5</th>\n",
       "      <td>China</td>\n",
       "      <td>1957</td>\n",
       "      <td>637408000.0</td>\n",
       "      <td>Asia</td>\n",
       "    </tr>\n",
       "    <tr>\n",
       "      <th>3</th>\n",
       "      <td>India</td>\n",
       "      <td>1952</td>\n",
       "      <td>372000000.0</td>\n",
       "      <td>Asia</td>\n",
       "    </tr>\n",
       "    <tr>\n",
       "      <th>6</th>\n",
       "      <td>United States</td>\n",
       "      <td>1957</td>\n",
       "      <td>171984000.0</td>\n",
       "      <td>Americas</td>\n",
       "    </tr>\n",
       "    <tr>\n",
       "      <th>4</th>\n",
       "      <td>Brazil</td>\n",
       "      <td>1962</td>\n",
       "      <td>76039390.0</td>\n",
       "      <td>Americas</td>\n",
       "    </tr>\n",
       "    <tr>\n",
       "      <th>1</th>\n",
       "      <td>France</td>\n",
       "      <td>1957</td>\n",
       "      <td>44310863.0</td>\n",
       "      <td>Europe</td>\n",
       "    </tr>\n",
       "    <tr>\n",
       "      <th>2</th>\n",
       "      <td>Australia</td>\n",
       "      <td>1957</td>\n",
       "      <td>9712569.0</td>\n",
       "      <td>Oceania</td>\n",
       "    </tr>\n",
       "    <tr>\n",
       "      <th>0</th>\n",
       "      <td>Afghanistan</td>\n",
       "      <td>1952</td>\n",
       "      <td>8425333.0</td>\n",
       "      <td>Asia</td>\n",
       "    </tr>\n",
       "    <tr>\n",
       "      <th>7</th>\n",
       "      <td>Croatia</td>\n",
       "      <td>1960</td>\n",
       "      <td>NaN</td>\n",
       "      <td>Europe</td>\n",
       "    </tr>\n",
       "  </tbody>\n",
       "</table>\n",
       "</div>"
      ],
      "text/plain": [
       "         Country  Year   Population Continent\n",
       "5          China  1957  637408000.0      Asia\n",
       "3          India  1952  372000000.0      Asia\n",
       "6  United States  1957  171984000.0  Americas\n",
       "4         Brazil  1962   76039390.0  Americas\n",
       "1         France  1957   44310863.0    Europe\n",
       "2      Australia  1957    9712569.0   Oceania\n",
       "0    Afghanistan  1952    8425333.0      Asia\n",
       "7        Croatia  1960          NaN    Europe"
      ]
     },
     "execution_count": 65,
     "metadata": {},
     "output_type": "execute_result"
    }
   ],
   "source": [
    "df.sort_values('Population', ascending=False)"
   ]
  },
  {
   "cell_type": "markdown",
   "metadata": {},
   "source": [
    "<div class=\"alert alert-info\">\n",
    "\n",
    "<b>EJERCICIO 3</b>: \n",
    "Obtener la misma salida    \n",
    "</div>\n",
    "\n",
    "<img align=\"left\" width=\"300\"  float= \"none\" align=\"middle\" src=\"figuras/ejercicio3.png\">"
   ]
  },
  {
   "cell_type": "code",
   "execution_count": 68,
   "metadata": {},
   "outputs": [
    {
     "data": {
      "application/vnd.microsoft.datawrangler.viewer.v0+json": {
       "columns": [
        {
         "name": "index",
         "rawType": "int64",
         "type": "integer"
        },
        {
         "name": "Country",
         "rawType": "object",
         "type": "string"
        },
        {
         "name": "Year",
         "rawType": "int64",
         "type": "integer"
        },
        {
         "name": "Population",
         "rawType": "float64",
         "type": "float"
        },
        {
         "name": "Continent",
         "rawType": "object",
         "type": "string"
        }
       ],
       "ref": "f8dbb54f-a539-4e24-ae8e-2fccd9bca480",
       "rows": [
        [
         "7",
         "Croatia",
         "1960",
         null,
         "Europe"
        ],
        [
         "0",
         "Afghanistan",
         "1952",
         "8425333.0",
         "Asia"
        ],
        [
         "2",
         "Australia",
         "1957",
         "9712569.0",
         "Oceania"
        ],
        [
         "1",
         "France",
         "1957",
         "44310863.0",
         "Europe"
        ],
        [
         "4",
         "Brazil",
         "1962",
         "76039390.0",
         "Americas"
        ],
        [
         "6",
         "United States",
         "1957",
         "171984000.0",
         "Americas"
        ],
        [
         "3",
         "India",
         "1952",
         "372000000.0",
         "Asia"
        ],
        [
         "5",
         "China",
         "1957",
         "637408000.0",
         "Asia"
        ]
       ],
       "shape": {
        "columns": 4,
        "rows": 8
       }
      },
      "text/html": [
       "<div>\n",
       "<style scoped>\n",
       "    .dataframe tbody tr th:only-of-type {\n",
       "        vertical-align: middle;\n",
       "    }\n",
       "\n",
       "    .dataframe tbody tr th {\n",
       "        vertical-align: top;\n",
       "    }\n",
       "\n",
       "    .dataframe thead th {\n",
       "        text-align: right;\n",
       "    }\n",
       "</style>\n",
       "<table border=\"1\" class=\"dataframe\">\n",
       "  <thead>\n",
       "    <tr style=\"text-align: right;\">\n",
       "      <th></th>\n",
       "      <th>Country</th>\n",
       "      <th>Year</th>\n",
       "      <th>Population</th>\n",
       "      <th>Continent</th>\n",
       "    </tr>\n",
       "  </thead>\n",
       "  <tbody>\n",
       "    <tr>\n",
       "      <th>7</th>\n",
       "      <td>Croatia</td>\n",
       "      <td>1960</td>\n",
       "      <td>NaN</td>\n",
       "      <td>Europe</td>\n",
       "    </tr>\n",
       "    <tr>\n",
       "      <th>0</th>\n",
       "      <td>Afghanistan</td>\n",
       "      <td>1952</td>\n",
       "      <td>8425333.0</td>\n",
       "      <td>Asia</td>\n",
       "    </tr>\n",
       "    <tr>\n",
       "      <th>2</th>\n",
       "      <td>Australia</td>\n",
       "      <td>1957</td>\n",
       "      <td>9712569.0</td>\n",
       "      <td>Oceania</td>\n",
       "    </tr>\n",
       "    <tr>\n",
       "      <th>1</th>\n",
       "      <td>France</td>\n",
       "      <td>1957</td>\n",
       "      <td>44310863.0</td>\n",
       "      <td>Europe</td>\n",
       "    </tr>\n",
       "    <tr>\n",
       "      <th>4</th>\n",
       "      <td>Brazil</td>\n",
       "      <td>1962</td>\n",
       "      <td>76039390.0</td>\n",
       "      <td>Americas</td>\n",
       "    </tr>\n",
       "    <tr>\n",
       "      <th>6</th>\n",
       "      <td>United States</td>\n",
       "      <td>1957</td>\n",
       "      <td>171984000.0</td>\n",
       "      <td>Americas</td>\n",
       "    </tr>\n",
       "    <tr>\n",
       "      <th>3</th>\n",
       "      <td>India</td>\n",
       "      <td>1952</td>\n",
       "      <td>372000000.0</td>\n",
       "      <td>Asia</td>\n",
       "    </tr>\n",
       "    <tr>\n",
       "      <th>5</th>\n",
       "      <td>China</td>\n",
       "      <td>1957</td>\n",
       "      <td>637408000.0</td>\n",
       "      <td>Asia</td>\n",
       "    </tr>\n",
       "  </tbody>\n",
       "</table>\n",
       "</div>"
      ],
      "text/plain": [
       "         Country  Year   Population Continent\n",
       "7        Croatia  1960          NaN    Europe\n",
       "0    Afghanistan  1952    8425333.0      Asia\n",
       "2      Australia  1957    9712569.0   Oceania\n",
       "1         France  1957   44310863.0    Europe\n",
       "4         Brazil  1962   76039390.0  Americas\n",
       "6  United States  1957  171984000.0  Americas\n",
       "3          India  1952  372000000.0      Asia\n",
       "5          China  1957  637408000.0      Asia"
      ]
     },
     "execution_count": 68,
     "metadata": {},
     "output_type": "execute_result"
    }
   ],
   "source": [
    "df.sort_values('Population',na_position='first')"
   ]
  },
  {
   "cell_type": "markdown",
   "metadata": {},
   "source": [
    "<div class=\"alert alert-info\">\n",
    "\n",
    "<b>EJERCICIO 4</b>: \n",
    "Obtener la misma salida    \n",
    "</div>\n",
    "\n",
    "<img align=\"left\" width=\"300\"  float= \"none\" align=\"middle\" src=\"figuras/ejercicio4.png\">"
   ]
  },
  {
   "cell_type": "code",
   "execution_count": 81,
   "metadata": {},
   "outputs": [
    {
     "data": {
      "application/vnd.microsoft.datawrangler.viewer.v0+json": {
       "columns": [
        {
         "name": "index",
         "rawType": "int64",
         "type": "integer"
        },
        {
         "name": "Country",
         "rawType": "object",
         "type": "string"
        },
        {
         "name": "Year",
         "rawType": "int64",
         "type": "integer"
        },
        {
         "name": "Population",
         "rawType": "float64",
         "type": "float"
        },
        {
         "name": "Continent",
         "rawType": "object",
         "type": "string"
        }
       ],
       "ref": "cae9de40-8893-4749-89fe-41823ec26e5b",
       "rows": [
        [
         "2",
         "Australia",
         "1957",
         "9712569.0",
         "Oceania"
        ],
        [
         "7",
         "Croatia",
         "1960",
         null,
         "Europe"
        ],
        [
         "1",
         "France",
         "1957",
         "44310863.0",
         "Europe"
        ],
        [
         "0",
         "Afghanistan",
         "1952",
         "8425333.0",
         "Asia"
        ],
        [
         "5",
         "China",
         "1957",
         "637408000.0",
         "Asia"
        ],
        [
         "3",
         "India",
         "1952",
         "372000000.0",
         "Asia"
        ],
        [
         "4",
         "Brazil",
         "1962",
         "76039390.0",
         "Americas"
        ],
        [
         "6",
         "United States",
         "1957",
         "171984000.0",
         "Americas"
        ]
       ],
       "shape": {
        "columns": 4,
        "rows": 8
       }
      },
      "text/html": [
       "<div>\n",
       "<style scoped>\n",
       "    .dataframe tbody tr th:only-of-type {\n",
       "        vertical-align: middle;\n",
       "    }\n",
       "\n",
       "    .dataframe tbody tr th {\n",
       "        vertical-align: top;\n",
       "    }\n",
       "\n",
       "    .dataframe thead th {\n",
       "        text-align: right;\n",
       "    }\n",
       "</style>\n",
       "<table border=\"1\" class=\"dataframe\">\n",
       "  <thead>\n",
       "    <tr style=\"text-align: right;\">\n",
       "      <th></th>\n",
       "      <th>Country</th>\n",
       "      <th>Year</th>\n",
       "      <th>Population</th>\n",
       "      <th>Continent</th>\n",
       "    </tr>\n",
       "  </thead>\n",
       "  <tbody>\n",
       "    <tr>\n",
       "      <th>2</th>\n",
       "      <td>Australia</td>\n",
       "      <td>1957</td>\n",
       "      <td>9712569.0</td>\n",
       "      <td>Oceania</td>\n",
       "    </tr>\n",
       "    <tr>\n",
       "      <th>7</th>\n",
       "      <td>Croatia</td>\n",
       "      <td>1960</td>\n",
       "      <td>NaN</td>\n",
       "      <td>Europe</td>\n",
       "    </tr>\n",
       "    <tr>\n",
       "      <th>1</th>\n",
       "      <td>France</td>\n",
       "      <td>1957</td>\n",
       "      <td>44310863.0</td>\n",
       "      <td>Europe</td>\n",
       "    </tr>\n",
       "    <tr>\n",
       "      <th>0</th>\n",
       "      <td>Afghanistan</td>\n",
       "      <td>1952</td>\n",
       "      <td>8425333.0</td>\n",
       "      <td>Asia</td>\n",
       "    </tr>\n",
       "    <tr>\n",
       "      <th>5</th>\n",
       "      <td>China</td>\n",
       "      <td>1957</td>\n",
       "      <td>637408000.0</td>\n",
       "      <td>Asia</td>\n",
       "    </tr>\n",
       "    <tr>\n",
       "      <th>3</th>\n",
       "      <td>India</td>\n",
       "      <td>1952</td>\n",
       "      <td>372000000.0</td>\n",
       "      <td>Asia</td>\n",
       "    </tr>\n",
       "    <tr>\n",
       "      <th>4</th>\n",
       "      <td>Brazil</td>\n",
       "      <td>1962</td>\n",
       "      <td>76039390.0</td>\n",
       "      <td>Americas</td>\n",
       "    </tr>\n",
       "    <tr>\n",
       "      <th>6</th>\n",
       "      <td>United States</td>\n",
       "      <td>1957</td>\n",
       "      <td>171984000.0</td>\n",
       "      <td>Americas</td>\n",
       "    </tr>\n",
       "  </tbody>\n",
       "</table>\n",
       "</div>"
      ],
      "text/plain": [
       "         Country  Year   Population Continent\n",
       "2      Australia  1957    9712569.0   Oceania\n",
       "7        Croatia  1960          NaN    Europe\n",
       "1         France  1957   44310863.0    Europe\n",
       "0    Afghanistan  1952    8425333.0      Asia\n",
       "5          China  1957  637408000.0      Asia\n",
       "3          India  1952  372000000.0      Asia\n",
       "4         Brazil  1962   76039390.0  Americas\n",
       "6  United States  1957  171984000.0  Americas"
      ]
     },
     "execution_count": 81,
     "metadata": {},
     "output_type": "execute_result"
    }
   ],
   "source": [
    "df.sort_values(['Continent','Country'], ascending=[False, True])"
   ]
  },
  {
   "cell_type": "code",
   "execution_count": null,
   "metadata": {},
   "outputs": [],
   "source": []
  },
  {
   "cell_type": "code",
   "execution_count": null,
   "metadata": {},
   "outputs": [],
   "source": []
  }
 ],
 "metadata": {
  "kernelspec": {
   "display_name": "data-science-coursework (3.13.7)",
   "language": "python",
   "name": "python3"
  },
  "language_info": {
   "codemirror_mode": {
    "name": "ipython",
    "version": 3
   },
   "file_extension": ".py",
   "mimetype": "text/x-python",
   "name": "python",
   "nbconvert_exporter": "python",
   "pygments_lexer": "ipython3",
   "version": "3.13.7"
  }
 },
 "nbformat": 4,
 "nbformat_minor": 4
}
