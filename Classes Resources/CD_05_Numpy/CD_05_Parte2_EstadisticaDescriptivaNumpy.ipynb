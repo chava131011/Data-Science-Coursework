{
 "cells": [
  {
   "cell_type": "markdown",
   "metadata": {},
   "source": [
    "<!--Información del curso-->\n",
    "<img align=\"left\" style=\"padding-right:10px;\" src=\"figuras/banner_cd.png\">"
   ]
  },
  {
   "cell_type": "markdown",
   "metadata": {},
   "source": [
    "<center><h1 style=\"font-size:2em;color:#2467C0\"> Numpy - Parte 2 </h1></center>\n",
    "\n",
    "<center><h4 style=\"font-size:2em;color:#840700\"> Estadística Descriptiva </h4></center>\n",
    "\n",
    "<br>\n",
    "<table>\n",
    "<col width=\"550\">\n",
    "<col width=\"450\">\n",
    "<tr>\n",
    "<td><img src=\"figuras/arreglos_numpy.png\" align=\"middle\" style=\"width:500px\"/></td>\n",
    "<td align=\"left-align\">\n",
    "\n",
    "Numpy es un paquete que provee a Python con arreglos multidimensionales de alta eficiencia y diseñados para cálculo científico, los cuales son variables tipo array, como los que se muestran a continuación:\n",
    "\n",
    "Un arreglo o array puede contener:\n",
    "\n",
    "* tiempos discretos de un experimento o simulación.\n",
    "    \n",
    "* señales grabadas por un instrumento de medida.\n",
    "   \n",
    "* pixeles de una imagen, etc.\n",
    "\n",
    "**Importante** Numpy solo permite un tipo de objeto para los elementos del arreglo \n",
    "\n",
    "Para mayor información  http://www.numpy.org/ \n",
    "    \n",
    "<br>\n",
    "</td>\n",
    "</tr>\n",
    "</table>"
   ]
  },
  {
   "cell_type": "markdown",
   "metadata": {},
   "source": [
    "# Librerias"
   ]
  },
  {
   "cell_type": "code",
   "execution_count": 1,
   "metadata": {},
   "outputs": [],
   "source": [
    "import numpy as np\n",
    "import matplotlib.pyplot as plt"
   ]
  },
  {
   "cell_type": "markdown",
   "metadata": {},
   "source": [
    "##  Funciones de  Estadística Descriptiva"
   ]
  },
  {
   "cell_type": "markdown",
   "metadata": {},
   "source": [
    "A menudo, cuando se tienen una gran cantidad de datos, un primer paso es calcular parámetros estadísticos para entender los datos en cuestión. Quizás los parámetros más comunes son la media y la desviación estándar, que permiten resumir los valores \"típicos\" en un conjunto de datos, pero también son útiles otros (suma, producto, mediana, mínimo y máximo, cuantiles, etc. )"
   ]
  },
  {
   "cell_type": "markdown",
   "metadata": {},
   "source": [
    "#### Ejemplo de la función *sum()*\n"
   ]
  },
  {
   "cell_type": "markdown",
   "metadata": {},
   "source": [
    "La función *sum()* puede actuar de diferentes formas, como se puede ver en la siguiente imagen"
   ]
  },
  {
   "cell_type": "markdown",
   "metadata": {},
   "source": [
    "<img align=\"left\" width=\"300\"  float= \"none\" align=\"middle\" src=\"figuras/arreglo5.png\">"
   ]
  },
  {
   "cell_type": "code",
   "execution_count": 2,
   "metadata": {},
   "outputs": [
    {
     "name": "stdout",
     "output_type": "stream",
     "text": [
      "[[1 2 3]\n",
      " [4 5 6]]\n"
     ]
    }
   ],
   "source": [
    "# Definimos el arreglo \"a\"\n",
    "a = np.array([[1,2,3], [4,5,6]])\n",
    "print(a)"
   ]
  },
  {
   "cell_type": "code",
   "execution_count": 3,
   "metadata": {},
   "outputs": [
    {
     "data": {
      "text/plain": [
       "np.int64(21)"
      ]
     },
     "execution_count": 3,
     "metadata": {},
     "output_type": "execute_result"
    }
   ],
   "source": [
    "# Aplicando la función suma sin restricción\n",
    "np.sum(a)"
   ]
  },
  {
   "cell_type": "code",
   "execution_count": 4,
   "metadata": {},
   "outputs": [
    {
     "data": {
      "text/plain": [
       "array([5, 7, 9])"
      ]
     },
     "execution_count": 4,
     "metadata": {},
     "output_type": "execute_result"
    }
   ],
   "source": [
    "# Aplicando la función suma a lo largo del eje = 0 (axis=0 o -2)\n",
    "np.sum(a, axis=0)"
   ]
  },
  {
   "cell_type": "code",
   "execution_count": 5,
   "metadata": {},
   "outputs": [
    {
     "data": {
      "text/plain": [
       "array([ 6, 15])"
      ]
     },
     "execution_count": 5,
     "metadata": {},
     "output_type": "execute_result"
    }
   ],
   "source": [
    "# Aplicando la función suma a lo largo del eje = 1 (axis=1 o -1 )\n",
    "np.sum(a, axis = 1)"
   ]
  },
  {
   "cell_type": "markdown",
   "metadata": {},
   "source": [
    "Existen varias funciones de Estadística Descriptiva proporcionadas por Numpy. Además, la mayoría de ellas tienen una contraparte segura para *NaN* (not a number) que calcula el resultado mientras ignora los valores faltantes, que están marcados por el valor especial de *NaN*. Algunas de estas funciones seguras para NaN no se agregaron hasta NumPy 1.8.\n",
    "\n",
    "La siguiente tabla proporciona una lista de funciones disponibles en Numpy:"
   ]
  },
  {
   "cell_type": "markdown",
   "metadata": {},
   "source": [
    "| Nombre de la función | Versión segura para NaN | Descripción |\n",
    "| ------------------- | --------------------- | ----------------------------------------------- |\n",
    "| ``np.sum`` | ``np.nansum`` | Calcular suma de elementos |\n",
    "| ``np.prod`` | ``np.nanprod`` | Calcular producto de elementos |\n",
    "| ``np.mean`` | ``np.nanmean`` | Calcular media de elementos |\n",
    "| ``np.std`` | ``np.nanstd`` | Calcular desviación estándar |\n",
    "| ``np.var`` | ``np.nanvar`` | Calcular varianza |\n",
    "| ``np.min`` | ``np.nanmin`` | Encuentra el valor mínimo |\n",
    "| ``np.max`` | ``np.nanmax`` | Encuentra el valor máximo |\n",
    "| ``np.argmin`` | ``np.nanargmin`` | Encontrar índice de valor mínimo |\n",
    "| ``np.argmax`` | ``np.nanargmax`` | Encontrar índice de valor máximo |\n",
    "| ``np.median`` | ``np.nanmedian`` | Calcular la mediana de los elementos |\n",
    "| ``np.percentile`` | ``np.nanpercentile`` | Calcular estadísticas basadas en rangos de elementos |\n",
    "| ``np.any`` | N / A    | Evaluar si algún elemento es verdadero |\n",
    "| ``np.all`` | N / A    |Evaluar si todos los elementos son verdaderos |"
   ]
  },
  {
   "cell_type": "markdown",
   "metadata": {},
   "source": [
    "#### Ejercicio de ejemplo\n"
   ]
  },
  {
   "cell_type": "markdown",
   "metadata": {},
   "source": [
    "Utilice el siguiente arreglo para encontrar lo que se pide en cada pregunta\n",
    "\n",
    "arreglo = np.arange(-15, 15).reshape(5, 6) ** 2\n",
    "\n",
    "<img align=\"left\" width=\"300\"  float= \"none\" align=\"middle\" src=\"figuras/arreglo6.png\">"
   ]
  },
  {
   "cell_type": "code",
   "execution_count": 6,
   "metadata": {},
   "outputs": [
    {
     "name": "stdout",
     "output_type": "stream",
     "text": [
      "[[225 196 169 144 121 100]\n",
      " [ 81  64  49  36  25  16]\n",
      " [  9   4   1   0   1   4]\n",
      " [  9  16  25  36  49  64]\n",
      " [ 81 100 121 144 169 196]]\n"
     ]
    }
   ],
   "source": [
    "arreglo = np.arange(-15, 15).reshape(5, 6) ** 2\n",
    "print(arreglo)"
   ]
  },
  {
   "cell_type": "markdown",
   "metadata": {},
   "source": [
    "<font color='Green'> 1. El valor máximo de cada columna (uno por columna)  </font > "
   ]
  },
  {
   "cell_type": "code",
   "execution_count": 7,
   "metadata": {},
   "outputs": [
    {
     "name": "stdout",
     "output_type": "stream",
     "text": [
      "[225 196 169 144 169 196]\n"
     ]
    }
   ],
   "source": [
    "print(np.max(arreglo, axis=0))"
   ]
  },
  {
   "cell_type": "markdown",
   "metadata": {},
   "source": [
    "<font color='Green'> 2. El valor promedio de cada columna (uno por columna)  </font > "
   ]
  },
  {
   "cell_type": "code",
   "execution_count": 8,
   "metadata": {},
   "outputs": [
    {
     "name": "stdout",
     "output_type": "stream",
     "text": [
      "[81. 76. 73. 72. 73. 76.]\n"
     ]
    }
   ],
   "source": [
    "print(np.mean(arreglo, axis=0))"
   ]
  },
  {
   "cell_type": "markdown",
   "metadata": {},
   "source": [
    "<font color='Green'> 3. La posición del elemento más pequeño  </font > "
   ]
  },
  {
   "cell_type": "code",
   "execution_count": 9,
   "metadata": {},
   "outputs": [
    {
     "name": "stdout",
     "output_type": "stream",
     "text": [
      "2\n",
      "3\n"
     ]
    }
   ],
   "source": [
    "#Para el caso del arreglo el elemento más pequeño es 0\n",
    "#Nos devuelve la posición general en el arreglo\n",
    "print(np.min(arreglo, axis=1).argmin())\n",
    "print(np.min(arreglo, axis=0).argmin())\n"
   ]
  },
  {
   "cell_type": "code",
   "execution_count": 10,
   "metadata": {},
   "outputs": [],
   "source": [
    "#Nos devuelve los índices de la posición en coordenadas (fila, columna)\n",
    "#Primero encontramos el elemento más pequeño en cada fila\n",
    "#Seguimos con encontrar el elemento más pequeño en cada columna\n",
    "\n"
   ]
  },
  {
   "cell_type": "markdown",
   "metadata": {},
   "source": [
    "# Ejercicios"
   ]
  },
  {
   "cell_type": "markdown",
   "metadata": {},
   "source": [
    "### 1. considere ahora el siguiente arreglo:\n"
   ]
  },
  {
   "cell_type": "code",
   "execution_count": 11,
   "metadata": {},
   "outputs": [
    {
     "name": "stdout",
     "output_type": "stream",
     "text": [
      "[[256 196 144 100]\n",
      " [ 64  36  16   4]\n",
      " [  0   4  16  36]\n",
      " [ 64 100 144 196]]\n"
     ]
    }
   ],
   "source": [
    "arreglo = np.arange(-16, 16,2).reshape(4,4 ) **2\n",
    "print(arreglo)"
   ]
  },
  {
   "cell_type": "markdown",
   "metadata": {},
   "source": [
    "<div class=\"alert alert-success\">\n",
    "       \n",
    "a) El valor máximo de cada fila (uno por fila)\n",
    "\n",
    "</div> "
   ]
  },
  {
   "cell_type": "code",
   "execution_count": null,
   "metadata": {},
   "outputs": [],
   "source": []
  },
  {
   "cell_type": "markdown",
   "metadata": {},
   "source": [
    "<div class=\"alert alert-success\">\n",
    "       \n",
    " b) El valor promedio de cada columna (uno por columna) \n",
    "</div> "
   ]
  },
  {
   "cell_type": "code",
   "execution_count": null,
   "metadata": {},
   "outputs": [],
   "source": []
  },
  {
   "cell_type": "markdown",
   "metadata": {},
   "source": [
    "<div class=\"alert alert-success\">      \n",
    "c) La posición del elemento más pequeño \n",
    "</div> "
   ]
  },
  {
   "cell_type": "code",
   "execution_count": null,
   "metadata": {},
   "outputs": [],
   "source": []
  },
  {
   "cell_type": "markdown",
   "metadata": {},
   "source": [
    "<div class=\"alert alert-success\">\n",
    "       \n",
    " d) La suma de cada columna\n",
    "</div> "
   ]
  },
  {
   "cell_type": "code",
   "execution_count": null,
   "metadata": {},
   "outputs": [],
   "source": []
  },
  {
   "cell_type": "markdown",
   "metadata": {},
   "source": [
    "<div class=\"alert alert-success\">\n",
    "       \n",
    " e) El valor de la mediana de cada fila \n",
    "</div> "
   ]
  },
  {
   "cell_type": "code",
   "execution_count": null,
   "metadata": {},
   "outputs": [],
   "source": []
  },
  {
   "cell_type": "markdown",
   "metadata": {},
   "source": [
    "<div class=\"alert alert-success\">   \n",
    "    \n",
    "f) ¿Cuantos elementos en total tiene el arreglo, asi como número de filas y columnas ?. \n",
    "    \n",
    "</div> "
   ]
  },
  {
   "cell_type": "code",
   "execution_count": null,
   "metadata": {},
   "outputs": [],
   "source": []
  },
  {
   "cell_type": "code",
   "execution_count": null,
   "metadata": {},
   "outputs": [],
   "source": []
  }
 ],
 "metadata": {
  "kernelspec": {
   "display_name": "data-science-coursework (3.13.7)",
   "language": "python",
   "name": "python3"
  },
  "language_info": {
   "codemirror_mode": {
    "name": "ipython",
    "version": 3
   },
   "file_extension": ".py",
   "mimetype": "text/x-python",
   "name": "python",
   "nbconvert_exporter": "python",
   "pygments_lexer": "ipython3",
   "version": "3.13.7"
  }
 },
 "nbformat": 4,
 "nbformat_minor": 4
}
