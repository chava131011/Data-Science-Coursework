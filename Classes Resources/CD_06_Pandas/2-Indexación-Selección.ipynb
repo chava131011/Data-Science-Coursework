{
 "cells": [
  {
   "cell_type": "markdown",
   "metadata": {},
   "source": [
    "<!--Información del curso-->\n",
    "<img align=\"left\" style=\"padding-right:10px;\" src=\"figuras/banner_cd.png\">"
   ]
  },
  {
   "cell_type": "markdown",
   "metadata": {},
   "source": [
    "\n",
    "<center><h4 style=\"font-size:2em;color:#840700\">  Pandas -  Indexación y selección de datos    </h4></center>\n",
    "\n",
    "<br>\n",
    "<table>\n",
    "<col width=\"550\">\n",
    "<col width=\"450\">\n",
    "<tr>\n",
    "<td><img src=\"figuras/pandas1.png\" align=\"left\" style=\"width:500px\"/></td>\n",
    "<td>\n",
    "\n",
    "* **Wes McKinney**, empezó a desarrollar Pandas en el año 2008 mientras trabajaba en *AQR Capital* por la necesidad que tenía de una herramienta flexible de alto rendimiento para realizar análisis cuantitativo en datos financieros. \n",
    "* Antes de dejar AQR convenció a la administración de la empresa de distribuir esta biblioteca bajo licencia de código abierto.\n",
    "* **Pandas** es un acrónimo de **PANel DAta analysiS**\n",
    "   \n",
    "    \n",
    "<br>\n",
    "</td>\n",
    "</tr>\n",
    "</table>"
   ]
  },
  {
   "cell_type": "markdown",
   "metadata": {},
   "source": [
    "# Librerías\n",
    "\n",
    "Cargando las bibliotecas que necesitamos \n"
   ]
  },
  {
   "cell_type": "code",
   "execution_count": 86,
   "metadata": {},
   "outputs": [],
   "source": [
    "import pandas as pd\n",
    "import numpy as np\n",
    "import matplotlib.pyplot as plt"
   ]
  },
  {
   "cell_type": "markdown",
   "metadata": {},
   "source": [
    "Previamente analizamos en detalle los métodos y herramientas para acceder a los arreglos de _**NumPy**_. Estos incluyeron indexación (por ejemplo, ``arr[2, 1]``), segmentación (por ejemplo, ``arr[:, 1:5]``), indexación elegante (por ejemplo, ``arr[0, [1, 5]]``) y combinaciones de los mismos (por ejemplo,arr[:, [1, 5]]). \n",
    "Aquí veremos medios similares para acceder a las **Series** y **DataFrames** de _**Pandas**_, los cuales le resultarán muy familiares, aunque hay algunas peculiaridades que debe tener en cuenta.\n"
   ]
  },
  {
   "cell_type": "markdown",
   "metadata": {},
   "source": [
    "# Selección de datos en Series\n",
    "\n",
    "Como vimos en la lección anterior, una **Serie** es muy similar a un arreglo unidimensional  de NumPy y en muchas formas, como un diccionario estándar de Python.\n",
    "Si tenemos en cuenta estas dos analogías superpuestas, nos ayudará a comprender los patrones de indexación y selección de datos en las **Series**."
   ]
  },
  {
   "cell_type": "markdown",
   "metadata": {},
   "source": [
    "## Series como diccionario\n",
    "\n",
    "Como en un diccionario, una **Serie** proporciona un mapeo de una colección de etiquetas a una colección de valores:"
   ]
  },
  {
   "cell_type": "code",
   "execution_count": 87,
   "metadata": {},
   "outputs": [
    {
     "data": {
      "application/vnd.microsoft.datawrangler.viewer.v0+json": {
       "columns": [
        {
         "name": "index",
         "rawType": "object",
         "type": "string"
        },
        {
         "name": "0",
         "rawType": "float64",
         "type": "float"
        }
       ],
       "ref": "28d5e654-cc67-49fe-ab69-7970a536833e",
       "rows": [
        [
         "enero",
         "0.25"
        ],
        [
         "febrero",
         "2.5"
        ],
        [
         "marzo",
         "1.75"
        ],
        [
         "abril",
         "1.1"
        ],
        [
         "mayo",
         "1.8"
        ],
        [
         "junio",
         "2.1"
        ]
       ],
       "shape": {
        "columns": 1,
        "rows": 6
       }
      },
      "text/plain": [
       "enero      0.25\n",
       "febrero    2.50\n",
       "marzo      1.75\n",
       "abril      1.10\n",
       "mayo       1.80\n",
       "junio      2.10\n",
       "dtype: float64"
      ]
     },
     "execution_count": 87,
     "metadata": {},
     "output_type": "execute_result"
    }
   ],
   "source": [
    "#data representará las ganancias en millones de dólares de una empresa\n",
    "import pandas as pd\n",
    "data = pd.Series([0.25, 2.5, 1.75, 1.1, 1.8, 2.1],\n",
    "                 index=['enero', 'febrero', 'marzo', 'abril', 'mayo', 'junio'])\n",
    "data"
   ]
  },
  {
   "cell_type": "code",
   "execution_count": 88,
   "metadata": {},
   "outputs": [
    {
     "data": {
      "text/plain": [
       "np.float64(2.5)"
      ]
     },
     "execution_count": 88,
     "metadata": {},
     "output_type": "execute_result"
    }
   ],
   "source": [
    "data['febrero']"
   ]
  },
  {
   "cell_type": "markdown",
   "metadata": {},
   "source": [
    "## Indexadores  ``loc`` y ``iloc``\n",
    "\n",
    "Las convenciones previas de segmentación e indexación pueden ser una fuente de confusión. Por ejemplo:\n",
    "\n",
    "<img align=\"left\" width=60% src=\"figuras/indices3.png\">"
   ]
  },
  {
   "cell_type": "code",
   "execution_count": 89,
   "metadata": {},
   "outputs": [
    {
     "data": {
      "application/vnd.microsoft.datawrangler.viewer.v0+json": {
       "columns": [
        {
         "name": "index",
         "rawType": "int64",
         "type": "integer"
        },
        {
         "name": "0",
         "rawType": "object",
         "type": "string"
        }
       ],
       "ref": "08268f23-8586-4b4a-9dbc-b839c858ebf8",
       "rows": [
        [
         "1",
         "febrero"
        ],
        [
         "3",
         "abril"
        ],
        [
         "5",
         "junio"
        ]
       ],
       "shape": {
        "columns": 1,
        "rows": 3
       }
      },
      "text/plain": [
       "1    febrero\n",
       "3      abril\n",
       "5      junio\n",
       "dtype: object"
      ]
     },
     "execution_count": 89,
     "metadata": {},
     "output_type": "execute_result"
    }
   ],
   "source": [
    "data = pd.Series(['febrero', 'abril', 'junio'], index=[1, 3, 5])\n",
    "data"
   ]
  },
  {
   "cell_type": "code",
   "execution_count": 90,
   "metadata": {},
   "outputs": [
    {
     "data": {
      "text/plain": [
       "'febrero'"
      ]
     },
     "execution_count": 90,
     "metadata": {},
     "output_type": "execute_result"
    }
   ],
   "source": [
    "# índice explícito  \n",
    "data[1]"
   ]
  },
  {
   "cell_type": "code",
   "execution_count": 91,
   "metadata": {},
   "outputs": [
    {
     "data": {
      "application/vnd.microsoft.datawrangler.viewer.v0+json": {
       "columns": [
        {
         "name": "index",
         "rawType": "int64",
         "type": "integer"
        },
        {
         "name": "0",
         "rawType": "object",
         "type": "string"
        }
       ],
       "ref": "c4d5453d-4e4c-4604-96e2-b549418a89d6",
       "rows": [
        [
         "3",
         "abril"
        ],
        [
         "5",
         "junio"
        ]
       ],
       "shape": {
        "columns": 1,
        "rows": 2
       }
      },
      "text/plain": [
       "3    abril\n",
       "5    junio\n",
       "dtype: object"
      ]
     },
     "execution_count": 91,
     "metadata": {},
     "output_type": "execute_result"
    }
   ],
   "source": [
    "# índices implícitos  \n",
    "data[1:3]"
   ]
  },
  {
   "cell_type": "markdown",
   "metadata": {},
   "source": [
    "Debido a esta posible confusión en el caso de índices enteros, Pandas proporciona algunos atributos *indexadores* especiales que exponen explícitamente ciertos esquemas de indexación. \n"
   ]
  },
  {
   "cell_type": "markdown",
   "metadata": {},
   "source": [
    "### Indexador: loc"
   ]
  },
  {
   "cell_type": "markdown",
   "metadata": {},
   "source": [
    "Primero, el atributo ``loc`` permite indexar y segmentar que siempre hace referencia al índice explícito (el índice que se muestra):"
   ]
  },
  {
   "cell_type": "code",
   "execution_count": 92,
   "metadata": {},
   "outputs": [
    {
     "data": {
      "text/plain": [
       "'febrero'"
      ]
     },
     "execution_count": 92,
     "metadata": {},
     "output_type": "execute_result"
    }
   ],
   "source": [
    "data.loc[1]"
   ]
  },
  {
   "cell_type": "code",
   "execution_count": 93,
   "metadata": {},
   "outputs": [
    {
     "data": {
      "application/vnd.microsoft.datawrangler.viewer.v0+json": {
       "columns": [
        {
         "name": "index",
         "rawType": "int64",
         "type": "integer"
        },
        {
         "name": "0",
         "rawType": "object",
         "type": "string"
        }
       ],
       "ref": "b4fa74fb-ec47-497a-920d-ebc8976dc6c3",
       "rows": [
        [
         "1",
         "febrero"
        ],
        [
         "3",
         "abril"
        ]
       ],
       "shape": {
        "columns": 1,
        "rows": 2
       }
      },
      "text/plain": [
       "1    febrero\n",
       "3      abril\n",
       "dtype: object"
      ]
     },
     "execution_count": 93,
     "metadata": {},
     "output_type": "execute_result"
    }
   ],
   "source": [
    "data.loc[1:3]"
   ]
  },
  {
   "cell_type": "markdown",
   "metadata": {},
   "source": [
    "### Indexador: iloc"
   ]
  },
  {
   "cell_type": "markdown",
   "metadata": {},
   "source": [
    "El atributo ``iloc`` permite indexar y segmentar haciendo referencia al índice implícito (el índice que es debido a su posición 0,1,2,3... ) de estilo Python:"
   ]
  },
  {
   "cell_type": "code",
   "execution_count": 94,
   "metadata": {},
   "outputs": [
    {
     "data": {
      "text/plain": [
       "'abril'"
      ]
     },
     "execution_count": 94,
     "metadata": {},
     "output_type": "execute_result"
    }
   ],
   "source": [
    "data.iloc[1]"
   ]
  },
  {
   "cell_type": "code",
   "execution_count": 95,
   "metadata": {},
   "outputs": [
    {
     "data": {
      "application/vnd.microsoft.datawrangler.viewer.v0+json": {
       "columns": [
        {
         "name": "index",
         "rawType": "int64",
         "type": "integer"
        },
        {
         "name": "0",
         "rawType": "object",
         "type": "string"
        }
       ],
       "ref": "eabe296b-b2ff-4ffd-a587-85ca4a0d89b2",
       "rows": [
        [
         "3",
         "abril"
        ],
        [
         "5",
         "junio"
        ]
       ],
       "shape": {
        "columns": 1,
        "rows": 2
       }
      },
      "text/plain": [
       "3    abril\n",
       "5    junio\n",
       "dtype: object"
      ]
     },
     "execution_count": 95,
     "metadata": {},
     "output_type": "execute_result"
    }
   ],
   "source": [
    "data.iloc[1:3]"
   ]
  },
  {
   "cell_type": "markdown",
   "metadata": {},
   "source": [
    "La naturaleza explícita de ``loc`` y ``iloc`` los hace muy útiles para mantener un código limpio y legible; especialmente en el caso de índices enteros, recomiendo usarlos tanto para hacer el código más fácil de leer y entender, como para prevenir errores sutiles debido a la convención mixta de indexación/segmentación."
   ]
  },
  {
   "cell_type": "markdown",
   "metadata": {},
   "source": [
    "# Selección de datos en DataFrames\n",
    "\n",
    "Recuerde que un **DataFrame** actúa de muchas formas como un arreglo bidimensional, y de otras formas como un diccionario de estructuras de **Series**  que comparten el mismo índice.\n",
    "Puede ser útil tener en cuenta estas analogías a medida que exploramos la selección de datos dentro de esta estructura."
   ]
  },
  {
   "cell_type": "markdown",
   "metadata": {},
   "source": [
    "## DataFrame como un diccionario\n",
    "\n",
    "La primera analogía que consideraremos es el **DataFrame** como diccionario. Utilizaremos el siguiente DataFrame el cual tiene información de diferentes países "
   ]
  },
  {
   "cell_type": "code",
   "execution_count": 96,
   "metadata": {},
   "outputs": [
    {
     "data": {
      "application/vnd.microsoft.datawrangler.viewer.v0+json": {
       "columns": [
        {
         "name": "index",
         "rawType": "object",
         "type": "string"
        },
        {
         "name": "Poblacion",
         "rawType": "float64",
         "type": "float"
        },
        {
         "name": "Area",
         "rawType": "int64",
         "type": "integer"
        },
        {
         "name": "Capital",
         "rawType": "object",
         "type": "string"
        }
       ],
       "ref": "d9b59fcb-8116-4b7a-bd91-667a68368864",
       "rows": [
        [
         "Belgica",
         "11.3",
         "30510",
         "Bruselas"
        ],
        [
         "Francia",
         "64.3",
         "671308",
         "Paris"
        ],
        [
         "Alemania",
         "81.3",
         "357050",
         "Berlin"
        ],
        [
         "Holanda",
         "16.9",
         "41526",
         "Amsterdam"
        ],
        [
         "Inglaterra",
         "64.9",
         "244820",
         "Londres"
        ],
        [
         "Argentina",
         "12.1",
         "300163",
         "Buenos Aires"
        ],
        [
         "Mexico",
         "103.2",
         "1960573",
         "Ciudad de Mexico"
        ]
       ],
       "shape": {
        "columns": 3,
        "rows": 7
       }
      },
      "text/html": [
       "<div>\n",
       "<style scoped>\n",
       "    .dataframe tbody tr th:only-of-type {\n",
       "        vertical-align: middle;\n",
       "    }\n",
       "\n",
       "    .dataframe tbody tr th {\n",
       "        vertical-align: top;\n",
       "    }\n",
       "\n",
       "    .dataframe thead th {\n",
       "        text-align: right;\n",
       "    }\n",
       "</style>\n",
       "<table border=\"1\" class=\"dataframe\">\n",
       "  <thead>\n",
       "    <tr style=\"text-align: right;\">\n",
       "      <th></th>\n",
       "      <th>Poblacion</th>\n",
       "      <th>Area</th>\n",
       "      <th>Capital</th>\n",
       "    </tr>\n",
       "  </thead>\n",
       "  <tbody>\n",
       "    <tr>\n",
       "      <th>Belgica</th>\n",
       "      <td>11.3</td>\n",
       "      <td>30510</td>\n",
       "      <td>Bruselas</td>\n",
       "    </tr>\n",
       "    <tr>\n",
       "      <th>Francia</th>\n",
       "      <td>64.3</td>\n",
       "      <td>671308</td>\n",
       "      <td>Paris</td>\n",
       "    </tr>\n",
       "    <tr>\n",
       "      <th>Alemania</th>\n",
       "      <td>81.3</td>\n",
       "      <td>357050</td>\n",
       "      <td>Berlin</td>\n",
       "    </tr>\n",
       "    <tr>\n",
       "      <th>Holanda</th>\n",
       "      <td>16.9</td>\n",
       "      <td>41526</td>\n",
       "      <td>Amsterdam</td>\n",
       "    </tr>\n",
       "    <tr>\n",
       "      <th>Inglaterra</th>\n",
       "      <td>64.9</td>\n",
       "      <td>244820</td>\n",
       "      <td>Londres</td>\n",
       "    </tr>\n",
       "    <tr>\n",
       "      <th>Argentina</th>\n",
       "      <td>12.1</td>\n",
       "      <td>300163</td>\n",
       "      <td>Buenos Aires</td>\n",
       "    </tr>\n",
       "    <tr>\n",
       "      <th>Mexico</th>\n",
       "      <td>103.2</td>\n",
       "      <td>1960573</td>\n",
       "      <td>Ciudad de Mexico</td>\n",
       "    </tr>\n",
       "  </tbody>\n",
       "</table>\n",
       "</div>"
      ],
      "text/plain": [
       "            Poblacion     Area           Capital\n",
       "Belgica          11.3    30510          Bruselas\n",
       "Francia          64.3   671308             Paris\n",
       "Alemania         81.3   357050            Berlin\n",
       "Holanda          16.9    41526         Amsterdam\n",
       "Inglaterra       64.9   244820           Londres\n",
       "Argentina        12.1   300163      Buenos Aires\n",
       "Mexico          103.2  1960573  Ciudad de Mexico"
      ]
     },
     "execution_count": 96,
     "metadata": {},
     "output_type": "execute_result"
    }
   ],
   "source": [
    "poblacion  = pd.Series({'Belgica': 11.3, 'Francia': 64.3,\n",
    "                  'Alemania': 81.3, 'Holanda': 16.9,\n",
    "                  'Inglaterra': 64.9, 'Argentina': 12.1,\n",
    "                  'Mexico': 103.2,\n",
    "                 })\n",
    "\n",
    "area  = pd.Series({'Belgica': 30510, 'Francia': 671308,\n",
    "                  'Alemania': 357050, 'Holanda': 41526,\n",
    "                  'Inglaterra': 244820, 'Argentina':300163 ,\n",
    "                  'Mexico': 1960573,\n",
    "                 })\n",
    "\n",
    "\n",
    "capital = pd.Series({'Belgica': 'Bruselas', 'Francia': 'Paris',\n",
    "                  'Alemania': 'Berlin', 'Holanda': 'Amsterdam',\n",
    "                  'Inglaterra': 'Londres', 'Argentina': 'Buenos Aires' ,\n",
    "                  'Mexico': 'Ciudad de Mexico',\n",
    "                 })\n",
    "paises = pd.DataFrame({'Poblacion':poblacion, 'Area':area, 'Capital':capital})\n",
    "paises"
   ]
  },
  {
   "cell_type": "markdown",
   "metadata": {},
   "source": [
    "Se puede acceder a las **Series** individuales que componen las columnas del  **Datafrma** mediante la indexación del nombre de la columna al estilo de diccionario:"
   ]
  },
  {
   "cell_type": "code",
   "execution_count": 97,
   "metadata": {},
   "outputs": [
    {
     "data": {
      "application/vnd.microsoft.datawrangler.viewer.v0+json": {
       "columns": [
        {
         "name": "index",
         "rawType": "object",
         "type": "string"
        },
        {
         "name": "Poblacion",
         "rawType": "float64",
         "type": "float"
        }
       ],
       "ref": "3d4b7418-6937-401d-8ffe-82382597e3e6",
       "rows": [
        [
         "Belgica",
         "11.3"
        ],
        [
         "Francia",
         "64.3"
        ],
        [
         "Alemania",
         "81.3"
        ],
        [
         "Holanda",
         "16.9"
        ],
        [
         "Inglaterra",
         "64.9"
        ],
        [
         "Argentina",
         "12.1"
        ],
        [
         "Mexico",
         "103.2"
        ]
       ],
       "shape": {
        "columns": 1,
        "rows": 7
       }
      },
      "text/plain": [
       "Belgica        11.3\n",
       "Francia        64.3\n",
       "Alemania       81.3\n",
       "Holanda        16.9\n",
       "Inglaterra     64.9\n",
       "Argentina      12.1\n",
       "Mexico        103.2\n",
       "Name: Poblacion, dtype: float64"
      ]
     },
     "execution_count": 97,
     "metadata": {},
     "output_type": "execute_result"
    }
   ],
   "source": [
    "paises['Poblacion']"
   ]
  },
  {
   "cell_type": "markdown",
   "metadata": {},
   "source": [
    "Esta sintaxis estilo diccionario también se puede usar para modificar el **DataFrame**, en este caso agregando una nueva columna:"
   ]
  },
  {
   "cell_type": "code",
   "execution_count": 98,
   "metadata": {},
   "outputs": [
    {
     "data": {
      "application/vnd.microsoft.datawrangler.viewer.v0+json": {
       "columns": [
        {
         "name": "index",
         "rawType": "object",
         "type": "string"
        },
        {
         "name": "Poblacion",
         "rawType": "float64",
         "type": "float"
        },
        {
         "name": "Area",
         "rawType": "int64",
         "type": "integer"
        },
        {
         "name": "Capital",
         "rawType": "object",
         "type": "string"
        },
        {
         "name": "Densidad",
         "rawType": "float64",
         "type": "float"
        }
       ],
       "ref": "ef6f6467-db62-4054-a3c0-ff5aa5f473de",
       "rows": [
        [
         "Belgica",
         "11.3",
         "30510",
         "Bruselas",
         "0.0003703703703703704"
        ],
        [
         "Francia",
         "64.3",
         "671308",
         "Paris",
         "9.578315765639617e-05"
        ],
        [
         "Alemania",
         "81.3",
         "357050",
         "Berlin",
         "0.00022769920179246603"
        ],
        [
         "Holanda",
         "16.9",
         "41526",
         "Amsterdam",
         "0.00040697394403506234"
        ],
        [
         "Inglaterra",
         "64.9",
         "244820",
         "Londres",
         "0.0002650927211829099"
        ],
        [
         "Argentina",
         "12.1",
         "300163",
         "Buenos Aires",
         "4.031143078927116e-05"
        ],
        [
         "Mexico",
         "103.2",
         "1960573",
         "Ciudad de Mexico",
         "5.263767276199356e-05"
        ]
       ],
       "shape": {
        "columns": 4,
        "rows": 7
       }
      },
      "text/html": [
       "<div>\n",
       "<style scoped>\n",
       "    .dataframe tbody tr th:only-of-type {\n",
       "        vertical-align: middle;\n",
       "    }\n",
       "\n",
       "    .dataframe tbody tr th {\n",
       "        vertical-align: top;\n",
       "    }\n",
       "\n",
       "    .dataframe thead th {\n",
       "        text-align: right;\n",
       "    }\n",
       "</style>\n",
       "<table border=\"1\" class=\"dataframe\">\n",
       "  <thead>\n",
       "    <tr style=\"text-align: right;\">\n",
       "      <th></th>\n",
       "      <th>Poblacion</th>\n",
       "      <th>Area</th>\n",
       "      <th>Capital</th>\n",
       "      <th>Densidad</th>\n",
       "    </tr>\n",
       "  </thead>\n",
       "  <tbody>\n",
       "    <tr>\n",
       "      <th>Belgica</th>\n",
       "      <td>11.3</td>\n",
       "      <td>30510</td>\n",
       "      <td>Bruselas</td>\n",
       "      <td>0.000370</td>\n",
       "    </tr>\n",
       "    <tr>\n",
       "      <th>Francia</th>\n",
       "      <td>64.3</td>\n",
       "      <td>671308</td>\n",
       "      <td>Paris</td>\n",
       "      <td>0.000096</td>\n",
       "    </tr>\n",
       "    <tr>\n",
       "      <th>Alemania</th>\n",
       "      <td>81.3</td>\n",
       "      <td>357050</td>\n",
       "      <td>Berlin</td>\n",
       "      <td>0.000228</td>\n",
       "    </tr>\n",
       "    <tr>\n",
       "      <th>Holanda</th>\n",
       "      <td>16.9</td>\n",
       "      <td>41526</td>\n",
       "      <td>Amsterdam</td>\n",
       "      <td>0.000407</td>\n",
       "    </tr>\n",
       "    <tr>\n",
       "      <th>Inglaterra</th>\n",
       "      <td>64.9</td>\n",
       "      <td>244820</td>\n",
       "      <td>Londres</td>\n",
       "      <td>0.000265</td>\n",
       "    </tr>\n",
       "    <tr>\n",
       "      <th>Argentina</th>\n",
       "      <td>12.1</td>\n",
       "      <td>300163</td>\n",
       "      <td>Buenos Aires</td>\n",
       "      <td>0.000040</td>\n",
       "    </tr>\n",
       "    <tr>\n",
       "      <th>Mexico</th>\n",
       "      <td>103.2</td>\n",
       "      <td>1960573</td>\n",
       "      <td>Ciudad de Mexico</td>\n",
       "      <td>0.000053</td>\n",
       "    </tr>\n",
       "  </tbody>\n",
       "</table>\n",
       "</div>"
      ],
      "text/plain": [
       "            Poblacion     Area           Capital  Densidad\n",
       "Belgica          11.3    30510          Bruselas  0.000370\n",
       "Francia          64.3   671308             Paris  0.000096\n",
       "Alemania         81.3   357050            Berlin  0.000228\n",
       "Holanda          16.9    41526         Amsterdam  0.000407\n",
       "Inglaterra       64.9   244820           Londres  0.000265\n",
       "Argentina        12.1   300163      Buenos Aires  0.000040\n",
       "Mexico          103.2  1960573  Ciudad de Mexico  0.000053"
      ]
     },
     "execution_count": 98,
     "metadata": {},
     "output_type": "execute_result"
    }
   ],
   "source": [
    "paises['Densidad'] = paises['Poblacion'] / paises['Area']\n",
    "paises"
   ]
  },
  {
   "cell_type": "markdown",
   "metadata": {
    "collapsed": true,
    "jupyter": {
     "outputs_hidden": true
    }
   },
   "source": [
    "Usando el indexador ``iloc``, podemos indexar al arreglo subyacente como si fuera un arreglo simple de _**NumPy**_ (usando el índice implícito de estilo Python), pero el índice de **DataFrame** y las etiquetas de columna se mantienen en el resultado:\n",
    "\n",
    "<img align=\"left\" width=60% src=\"figuras/indices5.png\">"
   ]
  },
  {
   "cell_type": "code",
   "execution_count": 99,
   "metadata": {},
   "outputs": [
    {
     "data": {
      "application/vnd.microsoft.datawrangler.viewer.v0+json": {
       "columns": [
        {
         "name": "index",
         "rawType": "object",
         "type": "string"
        },
        {
         "name": "Poblacion",
         "rawType": "float64",
         "type": "float"
        },
        {
         "name": "Area",
         "rawType": "int64",
         "type": "integer"
        }
       ],
       "ref": "b6660547-ef9f-44ec-93d9-b189ed21f5a0",
       "rows": [
        [
         "Belgica",
         "11.3",
         "30510"
        ],
        [
         "Francia",
         "64.3",
         "671308"
        ],
        [
         "Alemania",
         "81.3",
         "357050"
        ],
        [
         "Holanda",
         "16.9",
         "41526"
        ]
       ],
       "shape": {
        "columns": 2,
        "rows": 4
       }
      },
      "text/html": [
       "<div>\n",
       "<style scoped>\n",
       "    .dataframe tbody tr th:only-of-type {\n",
       "        vertical-align: middle;\n",
       "    }\n",
       "\n",
       "    .dataframe tbody tr th {\n",
       "        vertical-align: top;\n",
       "    }\n",
       "\n",
       "    .dataframe thead th {\n",
       "        text-align: right;\n",
       "    }\n",
       "</style>\n",
       "<table border=\"1\" class=\"dataframe\">\n",
       "  <thead>\n",
       "    <tr style=\"text-align: right;\">\n",
       "      <th></th>\n",
       "      <th>Poblacion</th>\n",
       "      <th>Area</th>\n",
       "    </tr>\n",
       "  </thead>\n",
       "  <tbody>\n",
       "    <tr>\n",
       "      <th>Belgica</th>\n",
       "      <td>11.3</td>\n",
       "      <td>30510</td>\n",
       "    </tr>\n",
       "    <tr>\n",
       "      <th>Francia</th>\n",
       "      <td>64.3</td>\n",
       "      <td>671308</td>\n",
       "    </tr>\n",
       "    <tr>\n",
       "      <th>Alemania</th>\n",
       "      <td>81.3</td>\n",
       "      <td>357050</td>\n",
       "    </tr>\n",
       "    <tr>\n",
       "      <th>Holanda</th>\n",
       "      <td>16.9</td>\n",
       "      <td>41526</td>\n",
       "    </tr>\n",
       "  </tbody>\n",
       "</table>\n",
       "</div>"
      ],
      "text/plain": [
       "          Poblacion    Area\n",
       "Belgica        11.3   30510\n",
       "Francia        64.3  671308\n",
       "Alemania       81.3  357050\n",
       "Holanda        16.9   41526"
      ]
     },
     "execution_count": 99,
     "metadata": {},
     "output_type": "execute_result"
    }
   ],
   "source": [
    "paises.iloc[:4, :2]"
   ]
  },
  {
   "cell_type": "markdown",
   "metadata": {},
   "source": [
    "De manera similar, usando el indexador ``loc`` podemos indexar los datos subyacentes usando el índice explícito y los nombres de columna:"
   ]
  },
  {
   "cell_type": "code",
   "execution_count": 100,
   "metadata": {},
   "outputs": [
    {
     "data": {
      "application/vnd.microsoft.datawrangler.viewer.v0+json": {
       "columns": [
        {
         "name": "index",
         "rawType": "object",
         "type": "string"
        },
        {
         "name": "Poblacion",
         "rawType": "float64",
         "type": "float"
        },
        {
         "name": "Area",
         "rawType": "int64",
         "type": "integer"
        }
       ],
       "ref": "38a1275f-b6c5-406c-b0a5-2f4ddb414fd7",
       "rows": [
        [
         "Belgica",
         "11.3",
         "30510"
        ],
        [
         "Francia",
         "64.3",
         "671308"
        ],
        [
         "Alemania",
         "81.3",
         "357050"
        ],
        [
         "Holanda",
         "16.9",
         "41526"
        ]
       ],
       "shape": {
        "columns": 2,
        "rows": 4
       }
      },
      "text/html": [
       "<div>\n",
       "<style scoped>\n",
       "    .dataframe tbody tr th:only-of-type {\n",
       "        vertical-align: middle;\n",
       "    }\n",
       "\n",
       "    .dataframe tbody tr th {\n",
       "        vertical-align: top;\n",
       "    }\n",
       "\n",
       "    .dataframe thead th {\n",
       "        text-align: right;\n",
       "    }\n",
       "</style>\n",
       "<table border=\"1\" class=\"dataframe\">\n",
       "  <thead>\n",
       "    <tr style=\"text-align: right;\">\n",
       "      <th></th>\n",
       "      <th>Poblacion</th>\n",
       "      <th>Area</th>\n",
       "    </tr>\n",
       "  </thead>\n",
       "  <tbody>\n",
       "    <tr>\n",
       "      <th>Belgica</th>\n",
       "      <td>11.3</td>\n",
       "      <td>30510</td>\n",
       "    </tr>\n",
       "    <tr>\n",
       "      <th>Francia</th>\n",
       "      <td>64.3</td>\n",
       "      <td>671308</td>\n",
       "    </tr>\n",
       "    <tr>\n",
       "      <th>Alemania</th>\n",
       "      <td>81.3</td>\n",
       "      <td>357050</td>\n",
       "    </tr>\n",
       "    <tr>\n",
       "      <th>Holanda</th>\n",
       "      <td>16.9</td>\n",
       "      <td>41526</td>\n",
       "    </tr>\n",
       "  </tbody>\n",
       "</table>\n",
       "</div>"
      ],
      "text/plain": [
       "          Poblacion    Area\n",
       "Belgica        11.3   30510\n",
       "Francia        64.3  671308\n",
       "Alemania       81.3  357050\n",
       "Holanda        16.9   41526"
      ]
     },
     "execution_count": 100,
     "metadata": {},
     "output_type": "execute_result"
    }
   ],
   "source": [
    "paises.loc[:'Holanda', :'Area']"
   ]
  },
  {
   "cell_type": "markdown",
   "metadata": {},
   "source": [
    "Cualquiera de estas convenciones de indexación también se puede utilizar para establecer o modificar valores; esto se hace de la forma estándar a la que podría estar acostumbrado al trabajar con _**NumPy**_:"
   ]
  },
  {
   "cell_type": "code",
   "execution_count": 101,
   "metadata": {},
   "outputs": [
    {
     "data": {
      "application/vnd.microsoft.datawrangler.viewer.v0+json": {
       "columns": [
        {
         "name": "index",
         "rawType": "object",
         "type": "string"
        },
        {
         "name": "Poblacion",
         "rawType": "float64",
         "type": "float"
        },
        {
         "name": "Area",
         "rawType": "int64",
         "type": "integer"
        },
        {
         "name": "Capital",
         "rawType": "object",
         "type": "string"
        },
        {
         "name": "Densidad",
         "rawType": "float64",
         "type": "float"
        }
       ],
       "ref": "17c37e9f-072b-4205-b9f0-f4e556103725",
       "rows": [
        [
         "Belgica",
         "11.3",
         "30510",
         "Bruselas",
         "0.0003703703703703704"
        ],
        [
         "Francia",
         "64.3",
         "671308",
         "Paris",
         "9.578315765639617e-05"
        ],
        [
         "Alemania",
         "81.3",
         "357050",
         "Berlin",
         "0.00022769920179246603"
        ],
        [
         "Holanda",
         "16.9",
         "41526",
         "Amsterdam",
         "0.00040697394403506234"
        ],
        [
         "Inglaterra",
         "64.9",
         "244820",
         "Londres",
         "0.0002650927211829099"
        ],
        [
         "Argentina",
         "12.1",
         "300163",
         "Buenos Aires",
         "4.031143078927116e-05"
        ],
        [
         "Mexico",
         "120.0",
         "1960573",
         "Ciudad de Mexico",
         "5.263767276199356e-05"
        ]
       ],
       "shape": {
        "columns": 4,
        "rows": 7
       }
      },
      "text/html": [
       "<div>\n",
       "<style scoped>\n",
       "    .dataframe tbody tr th:only-of-type {\n",
       "        vertical-align: middle;\n",
       "    }\n",
       "\n",
       "    .dataframe tbody tr th {\n",
       "        vertical-align: top;\n",
       "    }\n",
       "\n",
       "    .dataframe thead th {\n",
       "        text-align: right;\n",
       "    }\n",
       "</style>\n",
       "<table border=\"1\" class=\"dataframe\">\n",
       "  <thead>\n",
       "    <tr style=\"text-align: right;\">\n",
       "      <th></th>\n",
       "      <th>Poblacion</th>\n",
       "      <th>Area</th>\n",
       "      <th>Capital</th>\n",
       "      <th>Densidad</th>\n",
       "    </tr>\n",
       "  </thead>\n",
       "  <tbody>\n",
       "    <tr>\n",
       "      <th>Belgica</th>\n",
       "      <td>11.3</td>\n",
       "      <td>30510</td>\n",
       "      <td>Bruselas</td>\n",
       "      <td>0.000370</td>\n",
       "    </tr>\n",
       "    <tr>\n",
       "      <th>Francia</th>\n",
       "      <td>64.3</td>\n",
       "      <td>671308</td>\n",
       "      <td>Paris</td>\n",
       "      <td>0.000096</td>\n",
       "    </tr>\n",
       "    <tr>\n",
       "      <th>Alemania</th>\n",
       "      <td>81.3</td>\n",
       "      <td>357050</td>\n",
       "      <td>Berlin</td>\n",
       "      <td>0.000228</td>\n",
       "    </tr>\n",
       "    <tr>\n",
       "      <th>Holanda</th>\n",
       "      <td>16.9</td>\n",
       "      <td>41526</td>\n",
       "      <td>Amsterdam</td>\n",
       "      <td>0.000407</td>\n",
       "    </tr>\n",
       "    <tr>\n",
       "      <th>Inglaterra</th>\n",
       "      <td>64.9</td>\n",
       "      <td>244820</td>\n",
       "      <td>Londres</td>\n",
       "      <td>0.000265</td>\n",
       "    </tr>\n",
       "    <tr>\n",
       "      <th>Argentina</th>\n",
       "      <td>12.1</td>\n",
       "      <td>300163</td>\n",
       "      <td>Buenos Aires</td>\n",
       "      <td>0.000040</td>\n",
       "    </tr>\n",
       "    <tr>\n",
       "      <th>Mexico</th>\n",
       "      <td>120.0</td>\n",
       "      <td>1960573</td>\n",
       "      <td>Ciudad de Mexico</td>\n",
       "      <td>0.000053</td>\n",
       "    </tr>\n",
       "  </tbody>\n",
       "</table>\n",
       "</div>"
      ],
      "text/plain": [
       "            Poblacion     Area           Capital  Densidad\n",
       "Belgica          11.3    30510          Bruselas  0.000370\n",
       "Francia          64.3   671308             Paris  0.000096\n",
       "Alemania         81.3   357050            Berlin  0.000228\n",
       "Holanda          16.9    41526         Amsterdam  0.000407\n",
       "Inglaterra       64.9   244820           Londres  0.000265\n",
       "Argentina        12.1   300163      Buenos Aires  0.000040\n",
       "Mexico          120.0  1960573  Ciudad de Mexico  0.000053"
      ]
     },
     "execution_count": 101,
     "metadata": {},
     "output_type": "execute_result"
    }
   ],
   "source": [
    "#Cambiando la población de Mexico de 103.2 a 120.0\n",
    "paises.iloc[6, 0] = 120\n",
    "paises"
   ]
  },
  {
   "cell_type": "markdown",
   "metadata": {},
   "source": [
    "También podemos seleccionar columnas múltiples pasando una lista de nombres de columnas:"
   ]
  },
  {
   "cell_type": "code",
   "execution_count": 102,
   "metadata": {
    "run_control": {
     "frozen": false,
     "read_only": false
    }
   },
   "outputs": [
    {
     "data": {
      "application/vnd.microsoft.datawrangler.viewer.v0+json": {
       "columns": [
        {
         "name": "index",
         "rawType": "object",
         "type": "string"
        },
        {
         "name": "Area",
         "rawType": "int64",
         "type": "integer"
        },
        {
         "name": "Poblacion",
         "rawType": "float64",
         "type": "float"
        }
       ],
       "ref": "c77e19e6-a5ce-4cc2-9fed-376d593b41c3",
       "rows": [
        [
         "Belgica",
         "30510",
         "11.3"
        ],
        [
         "Francia",
         "671308",
         "64.3"
        ],
        [
         "Alemania",
         "357050",
         "81.3"
        ],
        [
         "Holanda",
         "41526",
         "16.9"
        ],
        [
         "Inglaterra",
         "244820",
         "64.9"
        ],
        [
         "Argentina",
         "300163",
         "12.1"
        ],
        [
         "Mexico",
         "1960573",
         "120.0"
        ]
       ],
       "shape": {
        "columns": 2,
        "rows": 7
       }
      },
      "text/html": [
       "<div>\n",
       "<style scoped>\n",
       "    .dataframe tbody tr th:only-of-type {\n",
       "        vertical-align: middle;\n",
       "    }\n",
       "\n",
       "    .dataframe tbody tr th {\n",
       "        vertical-align: top;\n",
       "    }\n",
       "\n",
       "    .dataframe thead th {\n",
       "        text-align: right;\n",
       "    }\n",
       "</style>\n",
       "<table border=\"1\" class=\"dataframe\">\n",
       "  <thead>\n",
       "    <tr style=\"text-align: right;\">\n",
       "      <th></th>\n",
       "      <th>Area</th>\n",
       "      <th>Poblacion</th>\n",
       "    </tr>\n",
       "  </thead>\n",
       "  <tbody>\n",
       "    <tr>\n",
       "      <th>Belgica</th>\n",
       "      <td>30510</td>\n",
       "      <td>11.3</td>\n",
       "    </tr>\n",
       "    <tr>\n",
       "      <th>Francia</th>\n",
       "      <td>671308</td>\n",
       "      <td>64.3</td>\n",
       "    </tr>\n",
       "    <tr>\n",
       "      <th>Alemania</th>\n",
       "      <td>357050</td>\n",
       "      <td>81.3</td>\n",
       "    </tr>\n",
       "    <tr>\n",
       "      <th>Holanda</th>\n",
       "      <td>41526</td>\n",
       "      <td>16.9</td>\n",
       "    </tr>\n",
       "    <tr>\n",
       "      <th>Inglaterra</th>\n",
       "      <td>244820</td>\n",
       "      <td>64.9</td>\n",
       "    </tr>\n",
       "    <tr>\n",
       "      <th>Argentina</th>\n",
       "      <td>300163</td>\n",
       "      <td>12.1</td>\n",
       "    </tr>\n",
       "    <tr>\n",
       "      <th>Mexico</th>\n",
       "      <td>1960573</td>\n",
       "      <td>120.0</td>\n",
       "    </tr>\n",
       "  </tbody>\n",
       "</table>\n",
       "</div>"
      ],
      "text/plain": [
       "               Area  Poblacion\n",
       "Belgica       30510       11.3\n",
       "Francia      671308       64.3\n",
       "Alemania     357050       81.3\n",
       "Holanda       41526       16.9\n",
       "Inglaterra   244820       64.9\n",
       "Argentina    300163       12.1\n",
       "Mexico      1960573      120.0"
      ]
     },
     "execution_count": 102,
     "metadata": {},
     "output_type": "execute_result"
    }
   ],
   "source": [
    "#Seleccionar la columna Area y Poblacion\n",
    "paises[['Area', 'Poblacion']] "
   ]
  },
  {
   "cell_type": "markdown",
   "metadata": {},
   "source": [
    "### Selección por medio de filtrado booleano "
   ]
  },
  {
   "cell_type": "markdown",
   "metadata": {},
   "source": [
    "Frecuentemente es necesario filtrar elementos que cumplan algún criterio, es posible utilizar máscaras con condiciones booleanas "
   ]
  },
  {
   "cell_type": "code",
   "execution_count": 103,
   "metadata": {
    "run_control": {
     "frozen": false,
     "read_only": false
    }
   },
   "outputs": [
    {
     "data": {
      "application/vnd.microsoft.datawrangler.viewer.v0+json": {
       "columns": [
        {
         "name": "index",
         "rawType": "object",
         "type": "string"
        },
        {
         "name": "Area",
         "rawType": "bool",
         "type": "boolean"
        }
       ],
       "ref": "4bb9e392-1ed4-4071-bee3-86e107a04704",
       "rows": [
        [
         "Belgica",
         "False"
        ],
        [
         "Francia",
         "True"
        ],
        [
         "Alemania",
         "True"
        ],
        [
         "Holanda",
         "False"
        ],
        [
         "Inglaterra",
         "True"
        ],
        [
         "Argentina",
         "True"
        ],
        [
         "Mexico",
         "True"
        ]
       ],
       "shape": {
        "columns": 1,
        "rows": 7
       }
      },
      "text/plain": [
       "Belgica       False\n",
       "Francia        True\n",
       "Alemania       True\n",
       "Holanda       False\n",
       "Inglaterra     True\n",
       "Argentina      True\n",
       "Mexico         True\n",
       "Name: Area, dtype: bool"
      ]
     },
     "execution_count": 103,
     "metadata": {},
     "output_type": "execute_result"
    }
   ],
   "source": [
    "# Escribir la máscara\n",
    "paises['Area'] > 100000"
   ]
  },
  {
   "cell_type": "code",
   "execution_count": 104,
   "metadata": {
    "run_control": {
     "frozen": false,
     "read_only": false
    }
   },
   "outputs": [
    {
     "data": {
      "application/vnd.microsoft.datawrangler.viewer.v0+json": {
       "columns": [
        {
         "name": "index",
         "rawType": "object",
         "type": "string"
        },
        {
         "name": "Poblacion",
         "rawType": "float64",
         "type": "float"
        },
        {
         "name": "Area",
         "rawType": "int64",
         "type": "integer"
        },
        {
         "name": "Capital",
         "rawType": "object",
         "type": "string"
        },
        {
         "name": "Densidad",
         "rawType": "float64",
         "type": "float"
        }
       ],
       "ref": "cfb5f784-b37b-4117-a7e8-ed877d0e7b0d",
       "rows": [
        [
         "Francia",
         "64.3",
         "671308",
         "Paris",
         "9.578315765639617e-05"
        ],
        [
         "Alemania",
         "81.3",
         "357050",
         "Berlin",
         "0.00022769920179246603"
        ],
        [
         "Inglaterra",
         "64.9",
         "244820",
         "Londres",
         "0.0002650927211829099"
        ],
        [
         "Argentina",
         "12.1",
         "300163",
         "Buenos Aires",
         "4.031143078927116e-05"
        ],
        [
         "Mexico",
         "120.0",
         "1960573",
         "Ciudad de Mexico",
         "5.263767276199356e-05"
        ]
       ],
       "shape": {
        "columns": 4,
        "rows": 5
       }
      },
      "text/html": [
       "<div>\n",
       "<style scoped>\n",
       "    .dataframe tbody tr th:only-of-type {\n",
       "        vertical-align: middle;\n",
       "    }\n",
       "\n",
       "    .dataframe tbody tr th {\n",
       "        vertical-align: top;\n",
       "    }\n",
       "\n",
       "    .dataframe thead th {\n",
       "        text-align: right;\n",
       "    }\n",
       "</style>\n",
       "<table border=\"1\" class=\"dataframe\">\n",
       "  <thead>\n",
       "    <tr style=\"text-align: right;\">\n",
       "      <th></th>\n",
       "      <th>Poblacion</th>\n",
       "      <th>Area</th>\n",
       "      <th>Capital</th>\n",
       "      <th>Densidad</th>\n",
       "    </tr>\n",
       "  </thead>\n",
       "  <tbody>\n",
       "    <tr>\n",
       "      <th>Francia</th>\n",
       "      <td>64.3</td>\n",
       "      <td>671308</td>\n",
       "      <td>Paris</td>\n",
       "      <td>0.000096</td>\n",
       "    </tr>\n",
       "    <tr>\n",
       "      <th>Alemania</th>\n",
       "      <td>81.3</td>\n",
       "      <td>357050</td>\n",
       "      <td>Berlin</td>\n",
       "      <td>0.000228</td>\n",
       "    </tr>\n",
       "    <tr>\n",
       "      <th>Inglaterra</th>\n",
       "      <td>64.9</td>\n",
       "      <td>244820</td>\n",
       "      <td>Londres</td>\n",
       "      <td>0.000265</td>\n",
       "    </tr>\n",
       "    <tr>\n",
       "      <th>Argentina</th>\n",
       "      <td>12.1</td>\n",
       "      <td>300163</td>\n",
       "      <td>Buenos Aires</td>\n",
       "      <td>0.000040</td>\n",
       "    </tr>\n",
       "    <tr>\n",
       "      <th>Mexico</th>\n",
       "      <td>120.0</td>\n",
       "      <td>1960573</td>\n",
       "      <td>Ciudad de Mexico</td>\n",
       "      <td>0.000053</td>\n",
       "    </tr>\n",
       "  </tbody>\n",
       "</table>\n",
       "</div>"
      ],
      "text/plain": [
       "            Poblacion     Area           Capital  Densidad\n",
       "Francia          64.3   671308             Paris  0.000096\n",
       "Alemania         81.3   357050            Berlin  0.000228\n",
       "Inglaterra       64.9   244820           Londres  0.000265\n",
       "Argentina        12.1   300163      Buenos Aires  0.000040\n",
       "Mexico          120.0  1960573  Ciudad de Mexico  0.000053"
      ]
     },
     "execution_count": 104,
     "metadata": {},
     "output_type": "execute_result"
    }
   ],
   "source": [
    "# Paises con area mayor a 100000 km2\n",
    "paises[ paises['Area'] > 100000 ]"
   ]
  },
  {
   "cell_type": "code",
   "execution_count": 105,
   "metadata": {},
   "outputs": [
    {
     "data": {
      "application/vnd.microsoft.datawrangler.viewer.v0+json": {
       "columns": [
        {
         "name": "index",
         "rawType": "object",
         "type": "string"
        },
        {
         "name": "Poblacion",
         "rawType": "float64",
         "type": "float"
        },
        {
         "name": "Area",
         "rawType": "int64",
         "type": "integer"
        },
        {
         "name": "Capital",
         "rawType": "object",
         "type": "string"
        },
        {
         "name": "Densidad",
         "rawType": "float64",
         "type": "float"
        }
       ],
       "ref": "1a49fd1a-5e47-44c0-ac59-98006c681222",
       "rows": [
        [
         "Francia",
         "64.3",
         "671308",
         "Paris",
         "9.578315765639617e-05"
        ],
        [
         "Alemania",
         "81.3",
         "357050",
         "Berlin",
         "0.00022769920179246603"
        ],
        [
         "Inglaterra",
         "64.9",
         "244820",
         "Londres",
         "0.0002650927211829099"
        ],
        [
         "Mexico",
         "120.0",
         "1960573",
         "Ciudad de Mexico",
         "5.263767276199356e-05"
        ]
       ],
       "shape": {
        "columns": 4,
        "rows": 4
       }
      },
      "text/html": [
       "<div>\n",
       "<style scoped>\n",
       "    .dataframe tbody tr th:only-of-type {\n",
       "        vertical-align: middle;\n",
       "    }\n",
       "\n",
       "    .dataframe tbody tr th {\n",
       "        vertical-align: top;\n",
       "    }\n",
       "\n",
       "    .dataframe thead th {\n",
       "        text-align: right;\n",
       "    }\n",
       "</style>\n",
       "<table border=\"1\" class=\"dataframe\">\n",
       "  <thead>\n",
       "    <tr style=\"text-align: right;\">\n",
       "      <th></th>\n",
       "      <th>Poblacion</th>\n",
       "      <th>Area</th>\n",
       "      <th>Capital</th>\n",
       "      <th>Densidad</th>\n",
       "    </tr>\n",
       "  </thead>\n",
       "  <tbody>\n",
       "    <tr>\n",
       "      <th>Francia</th>\n",
       "      <td>64.3</td>\n",
       "      <td>671308</td>\n",
       "      <td>Paris</td>\n",
       "      <td>0.000096</td>\n",
       "    </tr>\n",
       "    <tr>\n",
       "      <th>Alemania</th>\n",
       "      <td>81.3</td>\n",
       "      <td>357050</td>\n",
       "      <td>Berlin</td>\n",
       "      <td>0.000228</td>\n",
       "    </tr>\n",
       "    <tr>\n",
       "      <th>Inglaterra</th>\n",
       "      <td>64.9</td>\n",
       "      <td>244820</td>\n",
       "      <td>Londres</td>\n",
       "      <td>0.000265</td>\n",
       "    </tr>\n",
       "    <tr>\n",
       "      <th>Mexico</th>\n",
       "      <td>120.0</td>\n",
       "      <td>1960573</td>\n",
       "      <td>Ciudad de Mexico</td>\n",
       "      <td>0.000053</td>\n",
       "    </tr>\n",
       "  </tbody>\n",
       "</table>\n",
       "</div>"
      ],
      "text/plain": [
       "            Poblacion     Area           Capital  Densidad\n",
       "Francia          64.3   671308             Paris  0.000096\n",
       "Alemania         81.3   357050            Berlin  0.000228\n",
       "Inglaterra       64.9   244820           Londres  0.000265\n",
       "Mexico          120.0  1960573  Ciudad de Mexico  0.000053"
      ]
     },
     "execution_count": 105,
     "metadata": {},
     "output_type": "execute_result"
    }
   ],
   "source": [
    "# Paises con población mayor a los 50 millones\n",
    "paises[paises['Poblacion'] > 50]"
   ]
  },
  {
   "cell_type": "code",
   "execution_count": 106,
   "metadata": {},
   "outputs": [
    {
     "data": {
      "application/vnd.microsoft.datawrangler.viewer.v0+json": {
       "columns": [
        {
         "name": "index",
         "rawType": "object",
         "type": "string"
        },
        {
         "name": "Densidad",
         "rawType": "float64",
         "type": "float"
        }
       ],
       "ref": "952f1b78-a702-44f6-8337-aff2c7fa6c0c",
       "rows": [
        [
         "Francia",
         "9.578315765639617e-05"
        ],
        [
         "Alemania",
         "0.00022769920179246603"
        ],
        [
         "Inglaterra",
         "0.0002650927211829099"
        ],
        [
         "Mexico",
         "5.263767276199356e-05"
        ]
       ],
       "shape": {
        "columns": 1,
        "rows": 4
       }
      },
      "text/plain": [
       "Francia       0.000096\n",
       "Alemania      0.000228\n",
       "Inglaterra    0.000265\n",
       "Mexico        0.000053\n",
       "Name: Densidad, dtype: float64"
      ]
     },
     "execution_count": 106,
     "metadata": {},
     "output_type": "execute_result"
    }
   ],
   "source": [
    "# Paises con población mayor a los 50 millones y mostrando solamente su densidad\n",
    "paises[paises['Poblacion'] > 50]['Densidad']"
   ]
  },
  {
   "cell_type": "code",
   "execution_count": 107,
   "metadata": {},
   "outputs": [
    {
     "data": {
      "application/vnd.microsoft.datawrangler.viewer.v0+json": {
       "columns": [
        {
         "name": "index",
         "rawType": "object",
         "type": "string"
        },
        {
         "name": "Poblacion",
         "rawType": "float64",
         "type": "float"
        },
        {
         "name": "Area",
         "rawType": "int64",
         "type": "integer"
        },
        {
         "name": "Capital",
         "rawType": "object",
         "type": "string"
        },
        {
         "name": "Densidad",
         "rawType": "float64",
         "type": "float"
        }
       ],
       "ref": "64115963-0341-444d-9338-6d7efa7520f1",
       "rows": [
        [
         "Francia",
         "64.3",
         "671308",
         "Paris",
         "9.578315765639617e-05"
        ],
        [
         "Alemania",
         "81.3",
         "357050",
         "Berlin",
         "0.00022769920179246603"
        ],
        [
         "Inglaterra",
         "64.9",
         "244820",
         "Londres",
         "0.0002650927211829099"
        ]
       ],
       "shape": {
        "columns": 4,
        "rows": 3
       }
      },
      "text/html": [
       "<div>\n",
       "<style scoped>\n",
       "    .dataframe tbody tr th:only-of-type {\n",
       "        vertical-align: middle;\n",
       "    }\n",
       "\n",
       "    .dataframe tbody tr th {\n",
       "        vertical-align: top;\n",
       "    }\n",
       "\n",
       "    .dataframe thead th {\n",
       "        text-align: right;\n",
       "    }\n",
       "</style>\n",
       "<table border=\"1\" class=\"dataframe\">\n",
       "  <thead>\n",
       "    <tr style=\"text-align: right;\">\n",
       "      <th></th>\n",
       "      <th>Poblacion</th>\n",
       "      <th>Area</th>\n",
       "      <th>Capital</th>\n",
       "      <th>Densidad</th>\n",
       "    </tr>\n",
       "  </thead>\n",
       "  <tbody>\n",
       "    <tr>\n",
       "      <th>Francia</th>\n",
       "      <td>64.3</td>\n",
       "      <td>671308</td>\n",
       "      <td>Paris</td>\n",
       "      <td>0.000096</td>\n",
       "    </tr>\n",
       "    <tr>\n",
       "      <th>Alemania</th>\n",
       "      <td>81.3</td>\n",
       "      <td>357050</td>\n",
       "      <td>Berlin</td>\n",
       "      <td>0.000228</td>\n",
       "    </tr>\n",
       "    <tr>\n",
       "      <th>Inglaterra</th>\n",
       "      <td>64.9</td>\n",
       "      <td>244820</td>\n",
       "      <td>Londres</td>\n",
       "      <td>0.000265</td>\n",
       "    </tr>\n",
       "  </tbody>\n",
       "</table>\n",
       "</div>"
      ],
      "text/plain": [
       "            Poblacion    Area  Capital  Densidad\n",
       "Francia          64.3  671308    Paris  0.000096\n",
       "Alemania         81.3  357050   Berlin  0.000228\n",
       "Inglaterra       64.9  244820  Londres  0.000265"
      ]
     },
     "execution_count": 107,
     "metadata": {},
     "output_type": "execute_result"
    }
   ],
   "source": [
    "# Paises con población mayor a los 50 millones y menor o igual a los 100 millones\n",
    "paises[(paises['Poblacion'] > 50) & (paises['Poblacion'] <= 100)]"
   ]
  },
  {
   "cell_type": "code",
   "execution_count": 108,
   "metadata": {},
   "outputs": [
    {
     "data": {
      "application/vnd.microsoft.datawrangler.viewer.v0+json": {
       "columns": [
        {
         "name": "index",
         "rawType": "object",
         "type": "string"
        },
        {
         "name": "Area",
         "rawType": "int64",
         "type": "integer"
        }
       ],
       "ref": "66f9faf3-ed80-49ad-a460-001963752b7b",
       "rows": [
        [
         "Francia",
         "671308"
        ],
        [
         "Alemania",
         "357050"
        ],
        [
         "Inglaterra",
         "244820"
        ]
       ],
       "shape": {
        "columns": 1,
        "rows": 3
       }
      },
      "text/plain": [
       "Francia       671308\n",
       "Alemania      357050\n",
       "Inglaterra    244820\n",
       "Name: Area, dtype: int64"
      ]
     },
     "execution_count": 108,
     "metadata": {},
     "output_type": "execute_result"
    }
   ],
   "source": [
    "# Paises con población mayor a los 50 millones y menor o igual a los 100 millones y mostrando solo su área  \n",
    "paises[  (paises['Poblacion'] > 50) & (paises['Poblacion'] <= 100) ]['Area']"
   ]
  },
  {
   "cell_type": "markdown",
   "metadata": {},
   "source": [
    "Una descripción general de las posibles operaciones de comparación:\n",
    "\n",
    "Operador   |  Descripción\n",
    "------ | --------\n",
    "==     | Equal\n",
    "!=     | Not equal\n",
    "\\>      | Greater than\n",
    "\\>=     | Greater than or equal\n",
    "<      | Lesser than\n",
    "!=     | Lesser than or equal\n",
    "\n",
    "y para combinar múltiples condiciones:\n",
    "\n",
    "Operador   |  Descripción\n",
    "------ | --------\n",
    "&      | And (`cond1 & cond2`)\n",
    "\\|     | Or (`cond1 \\| cond2`)"
   ]
  },
  {
   "cell_type": "markdown",
   "metadata": {},
   "source": [
    "# Ejercicio"
   ]
  },
  {
   "cell_type": "markdown",
   "metadata": {},
   "source": [
    "Los siguientes datos contienen nombres, direcciones, empresas y números de teléfono ficticios del Reino Unido."
   ]
  },
  {
   "cell_type": "code",
   "execution_count": 109,
   "metadata": {},
   "outputs": [],
   "source": [
    "#Cargamos los datos en un DataFrame\n",
    "data = pd.read_csv('datos/uk-500.csv')"
   ]
  },
  {
   "cell_type": "code",
   "execution_count": 110,
   "metadata": {},
   "outputs": [
    {
     "data": {
      "application/vnd.microsoft.datawrangler.viewer.v0+json": {
       "columns": [
        {
         "name": "index",
         "rawType": "int64",
         "type": "integer"
        },
        {
         "name": "first_name",
         "rawType": "object",
         "type": "string"
        },
        {
         "name": "last_name",
         "rawType": "object",
         "type": "string"
        },
        {
         "name": "company_name",
         "rawType": "object",
         "type": "string"
        },
        {
         "name": "address",
         "rawType": "object",
         "type": "string"
        },
        {
         "name": "city",
         "rawType": "object",
         "type": "string"
        },
        {
         "name": "county",
         "rawType": "object",
         "type": "string"
        },
        {
         "name": "postal",
         "rawType": "object",
         "type": "string"
        },
        {
         "name": "phone1",
         "rawType": "object",
         "type": "string"
        },
        {
         "name": "phone2",
         "rawType": "object",
         "type": "string"
        },
        {
         "name": "email",
         "rawType": "object",
         "type": "string"
        },
        {
         "name": "web",
         "rawType": "object",
         "type": "string"
        }
       ],
       "ref": "e1dcee75-8d9d-453b-9959-cc41271e255a",
       "rows": [
        [
         "0",
         "Aleshia",
         "Tomkiewicz",
         "Alan D Rosenburg Cpa Pc",
         "14 Taylor St",
         "St. Stephens Ward",
         "Kent",
         "CT2 7PP",
         "01835-703597",
         "01944-369967",
         "atomkiewicz@hotmail.com",
         "http://www.alandrosenburgcpapc.co.uk"
        ],
        [
         "1",
         "Evan",
         "Zigomalas",
         "Cap Gemini America",
         "5 Binney St",
         "Abbey Ward",
         "Buckinghamshire",
         "HP11 2AX",
         "01937-864715",
         "01714-737668",
         "evan.zigomalas@gmail.com",
         "http://www.capgeminiamerica.co.uk"
        ],
        [
         "2",
         "France",
         "Andrade",
         "Elliott, John W Esq",
         "8 Moor Place",
         "East Southbourne and Tuckton W",
         "Bournemouth",
         "BH6 3BE",
         "01347-368222",
         "01935-821636",
         "france.andrade@hotmail.com",
         "http://www.elliottjohnwesq.co.uk"
        ],
        [
         "3",
         "Ulysses",
         "Mcwalters",
         "Mcmahan, Ben L",
         "505 Exeter Rd",
         "Hawerby cum Beesby",
         "Lincolnshire",
         "DN36 5RP",
         "01912-771311",
         "01302-601380",
         "ulysses@hotmail.com",
         "http://www.mcmahanbenl.co.uk"
        ],
        [
         "4",
         "Tyisha",
         "Veness",
         "Champagne Room",
         "5396 Forth Street",
         "Greets Green and Lyng Ward",
         "West Midlands",
         "B70 9DT",
         "01547-429341",
         "01290-367248",
         "tyisha.veness@hotmail.com",
         "http://www.champagneroom.co.uk"
        ]
       ],
       "shape": {
        "columns": 11,
        "rows": 5
       }
      },
      "text/html": [
       "<div>\n",
       "<style scoped>\n",
       "    .dataframe tbody tr th:only-of-type {\n",
       "        vertical-align: middle;\n",
       "    }\n",
       "\n",
       "    .dataframe tbody tr th {\n",
       "        vertical-align: top;\n",
       "    }\n",
       "\n",
       "    .dataframe thead th {\n",
       "        text-align: right;\n",
       "    }\n",
       "</style>\n",
       "<table border=\"1\" class=\"dataframe\">\n",
       "  <thead>\n",
       "    <tr style=\"text-align: right;\">\n",
       "      <th></th>\n",
       "      <th>first_name</th>\n",
       "      <th>last_name</th>\n",
       "      <th>company_name</th>\n",
       "      <th>address</th>\n",
       "      <th>city</th>\n",
       "      <th>county</th>\n",
       "      <th>postal</th>\n",
       "      <th>phone1</th>\n",
       "      <th>phone2</th>\n",
       "      <th>email</th>\n",
       "      <th>web</th>\n",
       "    </tr>\n",
       "  </thead>\n",
       "  <tbody>\n",
       "    <tr>\n",
       "      <th>0</th>\n",
       "      <td>Aleshia</td>\n",
       "      <td>Tomkiewicz</td>\n",
       "      <td>Alan D Rosenburg Cpa Pc</td>\n",
       "      <td>14 Taylor St</td>\n",
       "      <td>St. Stephens Ward</td>\n",
       "      <td>Kent</td>\n",
       "      <td>CT2 7PP</td>\n",
       "      <td>01835-703597</td>\n",
       "      <td>01944-369967</td>\n",
       "      <td>atomkiewicz@hotmail.com</td>\n",
       "      <td>http://www.alandrosenburgcpapc.co.uk</td>\n",
       "    </tr>\n",
       "    <tr>\n",
       "      <th>1</th>\n",
       "      <td>Evan</td>\n",
       "      <td>Zigomalas</td>\n",
       "      <td>Cap Gemini America</td>\n",
       "      <td>5 Binney St</td>\n",
       "      <td>Abbey Ward</td>\n",
       "      <td>Buckinghamshire</td>\n",
       "      <td>HP11 2AX</td>\n",
       "      <td>01937-864715</td>\n",
       "      <td>01714-737668</td>\n",
       "      <td>evan.zigomalas@gmail.com</td>\n",
       "      <td>http://www.capgeminiamerica.co.uk</td>\n",
       "    </tr>\n",
       "    <tr>\n",
       "      <th>2</th>\n",
       "      <td>France</td>\n",
       "      <td>Andrade</td>\n",
       "      <td>Elliott, John W Esq</td>\n",
       "      <td>8 Moor Place</td>\n",
       "      <td>East Southbourne and Tuckton W</td>\n",
       "      <td>Bournemouth</td>\n",
       "      <td>BH6 3BE</td>\n",
       "      <td>01347-368222</td>\n",
       "      <td>01935-821636</td>\n",
       "      <td>france.andrade@hotmail.com</td>\n",
       "      <td>http://www.elliottjohnwesq.co.uk</td>\n",
       "    </tr>\n",
       "    <tr>\n",
       "      <th>3</th>\n",
       "      <td>Ulysses</td>\n",
       "      <td>Mcwalters</td>\n",
       "      <td>Mcmahan, Ben L</td>\n",
       "      <td>505 Exeter Rd</td>\n",
       "      <td>Hawerby cum Beesby</td>\n",
       "      <td>Lincolnshire</td>\n",
       "      <td>DN36 5RP</td>\n",
       "      <td>01912-771311</td>\n",
       "      <td>01302-601380</td>\n",
       "      <td>ulysses@hotmail.com</td>\n",
       "      <td>http://www.mcmahanbenl.co.uk</td>\n",
       "    </tr>\n",
       "    <tr>\n",
       "      <th>4</th>\n",
       "      <td>Tyisha</td>\n",
       "      <td>Veness</td>\n",
       "      <td>Champagne Room</td>\n",
       "      <td>5396 Forth Street</td>\n",
       "      <td>Greets Green and Lyng Ward</td>\n",
       "      <td>West Midlands</td>\n",
       "      <td>B70 9DT</td>\n",
       "      <td>01547-429341</td>\n",
       "      <td>01290-367248</td>\n",
       "      <td>tyisha.veness@hotmail.com</td>\n",
       "      <td>http://www.champagneroom.co.uk</td>\n",
       "    </tr>\n",
       "  </tbody>\n",
       "</table>\n",
       "</div>"
      ],
      "text/plain": [
       "  first_name   last_name             company_name            address  \\\n",
       "0    Aleshia  Tomkiewicz  Alan D Rosenburg Cpa Pc       14 Taylor St   \n",
       "1       Evan   Zigomalas       Cap Gemini America        5 Binney St   \n",
       "2     France     Andrade      Elliott, John W Esq       8 Moor Place   \n",
       "3    Ulysses   Mcwalters           Mcmahan, Ben L      505 Exeter Rd   \n",
       "4     Tyisha      Veness           Champagne Room  5396 Forth Street   \n",
       "\n",
       "                             city           county    postal        phone1  \\\n",
       "0               St. Stephens Ward             Kent   CT2 7PP  01835-703597   \n",
       "1                      Abbey Ward  Buckinghamshire  HP11 2AX  01937-864715   \n",
       "2  East Southbourne and Tuckton W      Bournemouth   BH6 3BE  01347-368222   \n",
       "3              Hawerby cum Beesby     Lincolnshire  DN36 5RP  01912-771311   \n",
       "4      Greets Green and Lyng Ward    West Midlands   B70 9DT  01547-429341   \n",
       "\n",
       "         phone2                       email  \\\n",
       "0  01944-369967     atomkiewicz@hotmail.com   \n",
       "1  01714-737668    evan.zigomalas@gmail.com   \n",
       "2  01935-821636  france.andrade@hotmail.com   \n",
       "3  01302-601380         ulysses@hotmail.com   \n",
       "4  01290-367248   tyisha.veness@hotmail.com   \n",
       "\n",
       "                                    web  \n",
       "0  http://www.alandrosenburgcpapc.co.uk  \n",
       "1     http://www.capgeminiamerica.co.uk  \n",
       "2      http://www.elliottjohnwesq.co.uk  \n",
       "3          http://www.mcmahanbenl.co.uk  \n",
       "4        http://www.champagneroom.co.uk  "
      ]
     },
     "execution_count": 110,
     "metadata": {},
     "output_type": "execute_result"
    }
   ],
   "source": [
    "#Mostramos las primeros  5 filas\n",
    "data.head()"
   ]
  },
  {
   "cell_type": "markdown",
   "metadata": {},
   "source": [
    "<div class=\"alert alert-info\">\n",
    "    \n",
    "1. Selección simple: Utilizando **iloc** encuentre las siguientes filas y columnas\n",
    "    \n",
    "**Filas**:\n",
    "    \n",
    "a) primera fila (datos de Aleshia Tomkiewicz)\n",
    "    \n",
    "b) segunda fila (datos de Evan Zigomalas)\n",
    "    \n",
    "c) última fila (datos de Mi Richan)\n",
    "    \n",
    "**Columnas**:\n",
    "    \n",
    "d) primera columna (first_name)\n",
    "    \n",
    "e) tercera columna (company_name)\n",
    "    \n",
    "f) última columna (web)\n",
    "</div>"
   ]
  },
  {
   "cell_type": "code",
   "execution_count": 111,
   "metadata": {},
   "outputs": [
    {
     "data": {
      "application/vnd.microsoft.datawrangler.viewer.v0+json": {
       "columns": [
        {
         "name": "index",
         "rawType": "object",
         "type": "string"
        },
        {
         "name": "0",
         "rawType": "object",
         "type": "string"
        }
       ],
       "ref": "a7954cee-7659-4b78-a31c-bffaeed6342c",
       "rows": [
        [
         "first_name",
         "Aleshia"
        ],
        [
         "last_name",
         "Tomkiewicz"
        ],
        [
         "company_name",
         "Alan D Rosenburg Cpa Pc"
        ],
        [
         "address",
         "14 Taylor St"
        ],
        [
         "city",
         "St. Stephens Ward"
        ],
        [
         "county",
         "Kent"
        ],
        [
         "postal",
         "CT2 7PP"
        ],
        [
         "phone1",
         "01835-703597"
        ],
        [
         "phone2",
         "01944-369967"
        ],
        [
         "email",
         "atomkiewicz@hotmail.com"
        ],
        [
         "web",
         "http://www.alandrosenburgcpapc.co.uk"
        ]
       ],
       "shape": {
        "columns": 1,
        "rows": 11
       }
      },
      "text/plain": [
       "first_name                                   Aleshia\n",
       "last_name                                 Tomkiewicz\n",
       "company_name                 Alan D Rosenburg Cpa Pc\n",
       "address                                 14 Taylor St\n",
       "city                               St. Stephens Ward\n",
       "county                                          Kent\n",
       "postal                                       CT2 7PP\n",
       "phone1                                  01835-703597\n",
       "phone2                                  01944-369967\n",
       "email                        atomkiewicz@hotmail.com\n",
       "web             http://www.alandrosenburgcpapc.co.uk\n",
       "Name: 0, dtype: object"
      ]
     },
     "execution_count": 111,
     "metadata": {},
     "output_type": "execute_result"
    }
   ],
   "source": [
    "# a) primera fila (datos de Aleshia Tomkiewicz)\n",
    "data.iloc[0,:]"
   ]
  },
  {
   "cell_type": "code",
   "execution_count": 114,
   "metadata": {},
   "outputs": [
    {
     "data": {
      "application/vnd.microsoft.datawrangler.viewer.v0+json": {
       "columns": [
        {
         "name": "index",
         "rawType": "object",
         "type": "string"
        },
        {
         "name": "1",
         "rawType": "object",
         "type": "string"
        }
       ],
       "ref": "716f7296-16ad-40ca-9d07-b1b7bfcf3e9c",
       "rows": [
        [
         "first_name",
         "Evan"
        ],
        [
         "last_name",
         "Zigomalas"
        ],
        [
         "company_name",
         "Cap Gemini America"
        ],
        [
         "address",
         "5 Binney St"
        ],
        [
         "city",
         "Abbey Ward"
        ],
        [
         "county",
         "Buckinghamshire"
        ],
        [
         "postal",
         "HP11 2AX"
        ],
        [
         "phone1",
         "01937-864715"
        ],
        [
         "phone2",
         "01714-737668"
        ],
        [
         "email",
         "evan.zigomalas@gmail.com"
        ],
        [
         "web",
         "http://www.capgeminiamerica.co.uk"
        ]
       ],
       "shape": {
        "columns": 1,
        "rows": 11
       }
      },
      "text/plain": [
       "first_name                                   Evan\n",
       "last_name                               Zigomalas\n",
       "company_name                   Cap Gemini America\n",
       "address                               5 Binney St\n",
       "city                                   Abbey Ward\n",
       "county                            Buckinghamshire\n",
       "postal                                   HP11 2AX\n",
       "phone1                               01937-864715\n",
       "phone2                               01714-737668\n",
       "email                    evan.zigomalas@gmail.com\n",
       "web             http://www.capgeminiamerica.co.uk\n",
       "Name: 1, dtype: object"
      ]
     },
     "execution_count": 114,
     "metadata": {},
     "output_type": "execute_result"
    }
   ],
   "source": [
    "# b) segunda fila (datos de Evan Zigomalas)\n",
    "data.iloc[1,:]"
   ]
  },
  {
   "cell_type": "code",
   "execution_count": 115,
   "metadata": {},
   "outputs": [
    {
     "data": {
      "application/vnd.microsoft.datawrangler.viewer.v0+json": {
       "columns": [
        {
         "name": "index",
         "rawType": "object",
         "type": "string"
        },
        {
         "name": "499",
         "rawType": "object",
         "type": "string"
        }
       ],
       "ref": "52a317ea-6b0c-46c0-8f15-b4c6cd813680",
       "rows": [
        [
         "first_name",
         "Mi"
        ],
        [
         "last_name",
         "Richan"
        ],
        [
         "company_name",
         "Nelson Wright Haworth Golf Crs"
        ],
        [
         "address",
         "6 Norwood Grove"
        ],
        [
         "city",
         "Tanworth-in-Arden"
        ],
        [
         "county",
         "Warwickshire"
        ],
        [
         "postal",
         "B94 5RZ"
        ],
        [
         "phone1",
         "01451-785624"
        ],
        [
         "phone2",
         "01202-738406"
        ],
        [
         "email",
         "mi@hotmail.com"
        ],
        [
         "web",
         "http://www.nelsonwrighthaworthgolfcrs.co.uk"
        ]
       ],
       "shape": {
        "columns": 1,
        "rows": 11
       }
      },
      "text/plain": [
       "first_name                                               Mi\n",
       "last_name                                            Richan\n",
       "company_name                 Nelson Wright Haworth Golf Crs\n",
       "address                                     6 Norwood Grove\n",
       "city                                      Tanworth-in-Arden\n",
       "county                                         Warwickshire\n",
       "postal                                              B94 5RZ\n",
       "phone1                                         01451-785624\n",
       "phone2                                         01202-738406\n",
       "email                                        mi@hotmail.com\n",
       "web             http://www.nelsonwrighthaworthgolfcrs.co.uk\n",
       "Name: 499, dtype: object"
      ]
     },
     "execution_count": 115,
     "metadata": {},
     "output_type": "execute_result"
    }
   ],
   "source": [
    "# c) última fila (datos de Mi Richan)\n",
    "data.iloc[-1]"
   ]
  },
  {
   "cell_type": "code",
   "execution_count": 119,
   "metadata": {},
   "outputs": [
    {
     "data": {
      "application/vnd.microsoft.datawrangler.viewer.v0+json": {
       "columns": [
        {
         "name": "index",
         "rawType": "int64",
         "type": "integer"
        },
        {
         "name": "first_name",
         "rawType": "object",
         "type": "string"
        }
       ],
       "ref": "85769fa3-1731-45d4-841d-f68734ce406b",
       "rows": [
        [
         "0",
         "Aleshia"
        ],
        [
         "1",
         "Evan"
        ],
        [
         "2",
         "France"
        ],
        [
         "3",
         "Ulysses"
        ],
        [
         "4",
         "Tyisha"
        ],
        [
         "5",
         "Eric"
        ],
        [
         "6",
         "Marg"
        ],
        [
         "7",
         "Laquita"
        ],
        [
         "8",
         "Lura"
        ],
        [
         "9",
         "Yuette"
        ],
        [
         "10",
         "Fernanda"
        ],
        [
         "11",
         "Charlesetta"
        ],
        [
         "12",
         "Corrinne"
        ],
        [
         "13",
         "Niesha"
        ],
        [
         "14",
         "Rueben"
        ],
        [
         "15",
         "Michell"
        ],
        [
         "16",
         "Edgar"
        ],
        [
         "17",
         "Dewitt"
        ],
        [
         "18",
         "Charisse"
        ],
        [
         "19",
         "Mee"
        ],
        [
         "20",
         "Peter"
        ],
        [
         "21",
         "Octavio"
        ],
        [
         "22",
         "Martha"
        ],
        [
         "23",
         "Tamesha"
        ],
        [
         "24",
         "Tess"
        ],
        [
         "25",
         "Leonard"
        ],
        [
         "26",
         "Svetlana"
        ],
        [
         "27",
         "Pok"
        ],
        [
         "28",
         "Augustine"
        ],
        [
         "29",
         "Karma"
        ],
        [
         "30",
         "Reed"
        ],
        [
         "31",
         "German"
        ],
        [
         "32",
         "Milly"
        ],
        [
         "33",
         "Luis"
        ],
        [
         "34",
         "Ciara"
        ],
        [
         "35",
         "Alethea"
        ],
        [
         "36",
         "Margurite"
        ],
        [
         "37",
         "Vernice"
        ],
        [
         "38",
         "Vicente"
        ],
        [
         "39",
         "Craig"
        ],
        [
         "40",
         "Jenise"
        ],
        [
         "41",
         "Marylin"
        ],
        [
         "42",
         "Marget"
        ],
        [
         "43",
         "Annett"
        ],
        [
         "44",
         "Kip"
        ],
        [
         "45",
         "Melina"
        ],
        [
         "46",
         "Tina"
        ],
        [
         "47",
         "Luisa"
        ],
        [
         "48",
         "Pedro"
        ],
        [
         "49",
         "Carrol"
        ]
       ],
       "shape": {
        "columns": 1,
        "rows": 500
       }
      },
      "text/plain": [
       "0        Aleshia\n",
       "1           Evan\n",
       "2         France\n",
       "3        Ulysses\n",
       "4         Tyisha\n",
       "         ...    \n",
       "495        Avery\n",
       "496         Reid\n",
       "497    Charlette\n",
       "498    Celestina\n",
       "499           Mi\n",
       "Name: first_name, Length: 500, dtype: object"
      ]
     },
     "execution_count": 119,
     "metadata": {},
     "output_type": "execute_result"
    }
   ],
   "source": [
    "# d) primera columna (first_name)\n",
    "data.iloc[:, 0]"
   ]
  },
  {
   "cell_type": "code",
   "execution_count": 122,
   "metadata": {},
   "outputs": [
    {
     "data": {
      "application/vnd.microsoft.datawrangler.viewer.v0+json": {
       "columns": [
        {
         "name": "index",
         "rawType": "int64",
         "type": "integer"
        },
        {
         "name": "company_name",
         "rawType": "object",
         "type": "string"
        }
       ],
       "ref": "2e41d7f9-973b-4f44-8035-8d644570bfbe",
       "rows": [
        [
         "0",
         "Alan D Rosenburg Cpa Pc"
        ],
        [
         "1",
         "Cap Gemini America"
        ],
        [
         "2",
         "Elliott, John W Esq"
        ],
        [
         "3",
         "Mcmahan, Ben L"
        ],
        [
         "4",
         "Champagne Room"
        ],
        [
         "5",
         "Thompson, Michael C Esq"
        ],
        [
         "6",
         "Wrangle Hill Auto Auct & Slvg"
        ],
        [
         "7",
         "In Communications Inc"
        ],
        [
         "8",
         "Bizerba Usa Inc"
        ],
        [
         "9",
         "Max Video"
        ],
        [
         "10",
         "K & R Associates Inc"
        ],
        [
         "11",
         "Cain, John M Esq"
        ],
        [
         "12",
         "Sound Vision Corp"
        ],
        [
         "13",
         "Rowley/hansell Petetin"
        ],
        [
         "14",
         "Industrial Engineering Assocs"
        ],
        [
         "15",
         "Weiss Spirt & Guyer"
        ],
        [
         "16",
         "Crowan, Kenneth W Esq"
        ],
        [
         "17",
         "Rittenhouse Motor Co"
        ],
        [
         "18",
         "Modern Plastics Corp"
        ],
        [
         "19",
         "Galloway Electric Co Inc"
        ],
        [
         "20",
         "Niagara Custombuilt Mfg Co"
        ],
        [
         "21",
         "Practical Periphrals"
        ],
        [
         "22",
         "Curtin, Patricia M Esq"
        ],
        [
         "23",
         "Wilhelm, James E Jr"
        ],
        [
         "24",
         "Smart Signs"
        ],
        [
         "25",
         "Arctic Star Distributing Inc"
        ],
        [
         "26",
         "Lensbower, Gregory L Esq"
        ],
        [
         "27",
         "Portal Metal Products"
        ],
        [
         "28",
         "Lynema, Cliff Cpa"
        ],
        [
         "29",
         "J C S Machinery"
        ],
        [
         "30",
         "Berick, Joseph G Esq"
        ],
        [
         "31",
         "Jackson & Heit Machine Co Inc"
        ],
        [
         "32",
         "Bridgeway Plan For Health"
        ],
        [
         "33",
         "Wa Inst For Plcy Studies"
        ],
        [
         "34",
         "Wmgl 101.7 Fm"
        ],
        [
         "35",
         "Hughlett, Henry T Jr"
        ],
        [
         "36",
         "Penrose Place Pharmacy Inc"
        ],
        [
         "37",
         "Novak, Alan Paul Esq"
        ],
        [
         "38",
         "B & S Tool And Cutter Svc Inc"
        ],
        [
         "39",
         "Berry, John M Esq"
        ],
        [
         "40",
         "Alden, Michael H Esq"
        ],
        [
         "41",
         "Ernest E Heuer & Company Pc"
        ],
        [
         "42",
         "Frankel, Stephen"
        ],
        [
         "43",
         "Guynes Design Inc"
        ],
        [
         "44",
         "General Appraisal Co"
        ],
        [
         "45",
         "Sheraton Inn Ocean Front"
        ],
        [
         "46",
         "Cooper Myers Y Co"
        ],
        [
         "47",
         "Cash 4 Checks"
        ],
        [
         "48",
         "Charlotte Chamber"
        ],
        [
         "49",
         "Kisc 98 Kiss Fm"
        ]
       ],
       "shape": {
        "columns": 1,
        "rows": 500
       }
      },
      "text/plain": [
       "0             Alan D Rosenburg Cpa Pc\n",
       "1                  Cap Gemini America\n",
       "2                 Elliott, John W Esq\n",
       "3                      Mcmahan, Ben L\n",
       "4                      Champagne Room\n",
       "                    ...              \n",
       "495        Plaza Gourmet Delicatessen\n",
       "496              Fitzgerald, Edward J\n",
       "497                Furey & Associates\n",
       "498          Bfg Federal Credit Union\n",
       "499    Nelson Wright Haworth Golf Crs\n",
       "Name: company_name, Length: 500, dtype: object"
      ]
     },
     "execution_count": 122,
     "metadata": {},
     "output_type": "execute_result"
    }
   ],
   "source": [
    "# e) tercera columna (company_name) \n",
    "data.iloc[:,2]"
   ]
  },
  {
   "cell_type": "code",
   "execution_count": 124,
   "metadata": {},
   "outputs": [
    {
     "data": {
      "application/vnd.microsoft.datawrangler.viewer.v0+json": {
       "columns": [
        {
         "name": "index",
         "rawType": "int64",
         "type": "integer"
        },
        {
         "name": "web",
         "rawType": "object",
         "type": "string"
        }
       ],
       "ref": "1863242a-b537-4e99-8e51-ca26fad0ce75",
       "rows": [
        [
         "0",
         "http://www.alandrosenburgcpapc.co.uk"
        ],
        [
         "1",
         "http://www.capgeminiamerica.co.uk"
        ],
        [
         "2",
         "http://www.elliottjohnwesq.co.uk"
        ],
        [
         "3",
         "http://www.mcmahanbenl.co.uk"
        ],
        [
         "4",
         "http://www.champagneroom.co.uk"
        ],
        [
         "5",
         "http://www.thompsonmichaelcesq.co.uk"
        ],
        [
         "6",
         "http://www.wranglehillautoauctslvg.co.uk"
        ],
        [
         "7",
         "http://www.incommunicationsinc.co.uk"
        ],
        [
         "8",
         "http://www.bizerbausainc.co.uk"
        ],
        [
         "9",
         "http://www.maxvideo.co.uk"
        ],
        [
         "10",
         "http://www.krassociatesinc.co.uk"
        ],
        [
         "11",
         "http://www.cainjohnmesq.co.uk"
        ],
        [
         "12",
         "http://www.soundvisioncorp.co.uk"
        ],
        [
         "13",
         "http://www.rowleyhansellpetetin.co.uk"
        ],
        [
         "14",
         "http://www.industrialengineeringassocs.co.uk"
        ],
        [
         "15",
         "http://www.weissspirtguyer.co.uk"
        ],
        [
         "16",
         "http://www.crowankennethwesq.co.uk"
        ],
        [
         "17",
         "http://www.rittenhousemotorco.co.uk"
        ],
        [
         "18",
         "http://www.modernplasticscorp.co.uk"
        ],
        [
         "19",
         "http://www.gallowayelectriccoinc.co.uk"
        ],
        [
         "20",
         "http://www.niagaracustombuiltmfgco.co.uk"
        ],
        [
         "21",
         "http://www.practicalperiphrals.co.uk"
        ],
        [
         "22",
         "http://www.curtinpatriciamesq.co.uk"
        ],
        [
         "23",
         "http://www.wilhelmjamesejr.co.uk"
        ],
        [
         "24",
         "http://www.smartsigns.co.uk"
        ],
        [
         "25",
         "http://www.arcticstardistributinginc.co.uk"
        ],
        [
         "26",
         "http://www.lensbowergregorylesq.co.uk"
        ],
        [
         "27",
         "http://www.portalmetalproducts.co.uk"
        ],
        [
         "28",
         "http://www.lynemacliffcpa.co.uk"
        ],
        [
         "29",
         "http://www.jcsmachinery.co.uk"
        ],
        [
         "30",
         "http://www.berickjosephgesq.co.uk"
        ],
        [
         "31",
         "http://www.jacksonheitmachinecoinc.co.uk"
        ],
        [
         "32",
         "http://www.bridgewayplanforhealth.co.uk"
        ],
        [
         "33",
         "http://www.wainstforplcystudies.co.uk"
        ],
        [
         "34",
         "http://www.wmglfm.co.uk"
        ],
        [
         "35",
         "http://www.hughletthenrytjr.co.uk"
        ],
        [
         "36",
         "http://www.penroseplacepharmacyinc.co.uk"
        ],
        [
         "37",
         "http://www.novakalanpaulesq.co.uk"
        ],
        [
         "38",
         "http://www.bstoolandcuttersvcinc.co.uk"
        ],
        [
         "39",
         "http://www.berryjohnmesq.co.uk"
        ],
        [
         "40",
         "http://www.aldenmichaelhesq.co.uk"
        ],
        [
         "41",
         "http://www.ernesteheuercompanypc.co.uk"
        ],
        [
         "42",
         "http://www.frankelstephen.co.uk"
        ],
        [
         "43",
         "http://www.guynesdesigninc.co.uk"
        ],
        [
         "44",
         "http://www.generalappraisalco.co.uk"
        ],
        [
         "45",
         "http://www.sheratoninnoceanfront.co.uk"
        ],
        [
         "46",
         "http://www.coopermyersyco.co.uk"
        ],
        [
         "47",
         "http://www.cashchecks.co.uk"
        ],
        [
         "48",
         "http://www.charlottechamber.co.uk"
        ],
        [
         "49",
         "http://www.kisckissfm.co.uk"
        ]
       ],
       "shape": {
        "columns": 1,
        "rows": 500
       }
      },
      "text/plain": [
       "0             http://www.alandrosenburgcpapc.co.uk\n",
       "1                http://www.capgeminiamerica.co.uk\n",
       "2                 http://www.elliottjohnwesq.co.uk\n",
       "3                     http://www.mcmahanbenl.co.uk\n",
       "4                   http://www.champagneroom.co.uk\n",
       "                          ...                     \n",
       "495      http://www.plazagourmetdelicatessen.co.uk\n",
       "496             http://www.fitzgeraldedwardj.co.uk\n",
       "497               http://www.fureyassociates.co.uk\n",
       "498         http://www.bfgfederalcreditunion.co.uk\n",
       "499    http://www.nelsonwrighthaworthgolfcrs.co.uk\n",
       "Name: web, Length: 500, dtype: object"
      ]
     },
     "execution_count": 124,
     "metadata": {},
     "output_type": "execute_result"
    }
   ],
   "source": [
    "# f) última columna (web)\n",
    "data.iloc[:,-1]"
   ]
  },
  {
   "cell_type": "markdown",
   "metadata": {},
   "source": [
    "<div class=\"alert alert-info\">\n",
    "    \n",
    "2. Seleccionar varias columnas y filas usando el indexador **iloc**\n",
    "\n",
    "a) primeras cinco filas del DataFrame \n",
    "    \n",
    "b) primeras dos columnas del DataFrame con todas las filas\n",
    "        \n",
    "c) primeras 5 filas y (5ª, 6ª, 7ª) columnas  \n",
    "    \n",
    "</div>"
   ]
  },
  {
   "cell_type": "code",
   "execution_count": 125,
   "metadata": {},
   "outputs": [
    {
     "data": {
      "application/vnd.microsoft.datawrangler.viewer.v0+json": {
       "columns": [
        {
         "name": "index",
         "rawType": "int64",
         "type": "integer"
        },
        {
         "name": "first_name",
         "rawType": "object",
         "type": "string"
        },
        {
         "name": "last_name",
         "rawType": "object",
         "type": "string"
        },
        {
         "name": "company_name",
         "rawType": "object",
         "type": "string"
        },
        {
         "name": "address",
         "rawType": "object",
         "type": "string"
        },
        {
         "name": "city",
         "rawType": "object",
         "type": "string"
        },
        {
         "name": "county",
         "rawType": "object",
         "type": "string"
        },
        {
         "name": "postal",
         "rawType": "object",
         "type": "string"
        },
        {
         "name": "phone1",
         "rawType": "object",
         "type": "string"
        },
        {
         "name": "phone2",
         "rawType": "object",
         "type": "string"
        },
        {
         "name": "email",
         "rawType": "object",
         "type": "string"
        },
        {
         "name": "web",
         "rawType": "object",
         "type": "string"
        }
       ],
       "ref": "4afc5988-0e63-40b7-bfa8-742f2aa02a48",
       "rows": [
        [
         "0",
         "Aleshia",
         "Tomkiewicz",
         "Alan D Rosenburg Cpa Pc",
         "14 Taylor St",
         "St. Stephens Ward",
         "Kent",
         "CT2 7PP",
         "01835-703597",
         "01944-369967",
         "atomkiewicz@hotmail.com",
         "http://www.alandrosenburgcpapc.co.uk"
        ],
        [
         "1",
         "Evan",
         "Zigomalas",
         "Cap Gemini America",
         "5 Binney St",
         "Abbey Ward",
         "Buckinghamshire",
         "HP11 2AX",
         "01937-864715",
         "01714-737668",
         "evan.zigomalas@gmail.com",
         "http://www.capgeminiamerica.co.uk"
        ],
        [
         "2",
         "France",
         "Andrade",
         "Elliott, John W Esq",
         "8 Moor Place",
         "East Southbourne and Tuckton W",
         "Bournemouth",
         "BH6 3BE",
         "01347-368222",
         "01935-821636",
         "france.andrade@hotmail.com",
         "http://www.elliottjohnwesq.co.uk"
        ],
        [
         "3",
         "Ulysses",
         "Mcwalters",
         "Mcmahan, Ben L",
         "505 Exeter Rd",
         "Hawerby cum Beesby",
         "Lincolnshire",
         "DN36 5RP",
         "01912-771311",
         "01302-601380",
         "ulysses@hotmail.com",
         "http://www.mcmahanbenl.co.uk"
        ],
        [
         "4",
         "Tyisha",
         "Veness",
         "Champagne Room",
         "5396 Forth Street",
         "Greets Green and Lyng Ward",
         "West Midlands",
         "B70 9DT",
         "01547-429341",
         "01290-367248",
         "tyisha.veness@hotmail.com",
         "http://www.champagneroom.co.uk"
        ]
       ],
       "shape": {
        "columns": 11,
        "rows": 5
       }
      },
      "text/html": [
       "<div>\n",
       "<style scoped>\n",
       "    .dataframe tbody tr th:only-of-type {\n",
       "        vertical-align: middle;\n",
       "    }\n",
       "\n",
       "    .dataframe tbody tr th {\n",
       "        vertical-align: top;\n",
       "    }\n",
       "\n",
       "    .dataframe thead th {\n",
       "        text-align: right;\n",
       "    }\n",
       "</style>\n",
       "<table border=\"1\" class=\"dataframe\">\n",
       "  <thead>\n",
       "    <tr style=\"text-align: right;\">\n",
       "      <th></th>\n",
       "      <th>first_name</th>\n",
       "      <th>last_name</th>\n",
       "      <th>company_name</th>\n",
       "      <th>address</th>\n",
       "      <th>city</th>\n",
       "      <th>county</th>\n",
       "      <th>postal</th>\n",
       "      <th>phone1</th>\n",
       "      <th>phone2</th>\n",
       "      <th>email</th>\n",
       "      <th>web</th>\n",
       "    </tr>\n",
       "  </thead>\n",
       "  <tbody>\n",
       "    <tr>\n",
       "      <th>0</th>\n",
       "      <td>Aleshia</td>\n",
       "      <td>Tomkiewicz</td>\n",
       "      <td>Alan D Rosenburg Cpa Pc</td>\n",
       "      <td>14 Taylor St</td>\n",
       "      <td>St. Stephens Ward</td>\n",
       "      <td>Kent</td>\n",
       "      <td>CT2 7PP</td>\n",
       "      <td>01835-703597</td>\n",
       "      <td>01944-369967</td>\n",
       "      <td>atomkiewicz@hotmail.com</td>\n",
       "      <td>http://www.alandrosenburgcpapc.co.uk</td>\n",
       "    </tr>\n",
       "    <tr>\n",
       "      <th>1</th>\n",
       "      <td>Evan</td>\n",
       "      <td>Zigomalas</td>\n",
       "      <td>Cap Gemini America</td>\n",
       "      <td>5 Binney St</td>\n",
       "      <td>Abbey Ward</td>\n",
       "      <td>Buckinghamshire</td>\n",
       "      <td>HP11 2AX</td>\n",
       "      <td>01937-864715</td>\n",
       "      <td>01714-737668</td>\n",
       "      <td>evan.zigomalas@gmail.com</td>\n",
       "      <td>http://www.capgeminiamerica.co.uk</td>\n",
       "    </tr>\n",
       "    <tr>\n",
       "      <th>2</th>\n",
       "      <td>France</td>\n",
       "      <td>Andrade</td>\n",
       "      <td>Elliott, John W Esq</td>\n",
       "      <td>8 Moor Place</td>\n",
       "      <td>East Southbourne and Tuckton W</td>\n",
       "      <td>Bournemouth</td>\n",
       "      <td>BH6 3BE</td>\n",
       "      <td>01347-368222</td>\n",
       "      <td>01935-821636</td>\n",
       "      <td>france.andrade@hotmail.com</td>\n",
       "      <td>http://www.elliottjohnwesq.co.uk</td>\n",
       "    </tr>\n",
       "    <tr>\n",
       "      <th>3</th>\n",
       "      <td>Ulysses</td>\n",
       "      <td>Mcwalters</td>\n",
       "      <td>Mcmahan, Ben L</td>\n",
       "      <td>505 Exeter Rd</td>\n",
       "      <td>Hawerby cum Beesby</td>\n",
       "      <td>Lincolnshire</td>\n",
       "      <td>DN36 5RP</td>\n",
       "      <td>01912-771311</td>\n",
       "      <td>01302-601380</td>\n",
       "      <td>ulysses@hotmail.com</td>\n",
       "      <td>http://www.mcmahanbenl.co.uk</td>\n",
       "    </tr>\n",
       "    <tr>\n",
       "      <th>4</th>\n",
       "      <td>Tyisha</td>\n",
       "      <td>Veness</td>\n",
       "      <td>Champagne Room</td>\n",
       "      <td>5396 Forth Street</td>\n",
       "      <td>Greets Green and Lyng Ward</td>\n",
       "      <td>West Midlands</td>\n",
       "      <td>B70 9DT</td>\n",
       "      <td>01547-429341</td>\n",
       "      <td>01290-367248</td>\n",
       "      <td>tyisha.veness@hotmail.com</td>\n",
       "      <td>http://www.champagneroom.co.uk</td>\n",
       "    </tr>\n",
       "  </tbody>\n",
       "</table>\n",
       "</div>"
      ],
      "text/plain": [
       "  first_name   last_name             company_name            address  \\\n",
       "0    Aleshia  Tomkiewicz  Alan D Rosenburg Cpa Pc       14 Taylor St   \n",
       "1       Evan   Zigomalas       Cap Gemini America        5 Binney St   \n",
       "2     France     Andrade      Elliott, John W Esq       8 Moor Place   \n",
       "3    Ulysses   Mcwalters           Mcmahan, Ben L      505 Exeter Rd   \n",
       "4     Tyisha      Veness           Champagne Room  5396 Forth Street   \n",
       "\n",
       "                             city           county    postal        phone1  \\\n",
       "0               St. Stephens Ward             Kent   CT2 7PP  01835-703597   \n",
       "1                      Abbey Ward  Buckinghamshire  HP11 2AX  01937-864715   \n",
       "2  East Southbourne and Tuckton W      Bournemouth   BH6 3BE  01347-368222   \n",
       "3              Hawerby cum Beesby     Lincolnshire  DN36 5RP  01912-771311   \n",
       "4      Greets Green and Lyng Ward    West Midlands   B70 9DT  01547-429341   \n",
       "\n",
       "         phone2                       email  \\\n",
       "0  01944-369967     atomkiewicz@hotmail.com   \n",
       "1  01714-737668    evan.zigomalas@gmail.com   \n",
       "2  01935-821636  france.andrade@hotmail.com   \n",
       "3  01302-601380         ulysses@hotmail.com   \n",
       "4  01290-367248   tyisha.veness@hotmail.com   \n",
       "\n",
       "                                    web  \n",
       "0  http://www.alandrosenburgcpapc.co.uk  \n",
       "1     http://www.capgeminiamerica.co.uk  \n",
       "2      http://www.elliottjohnwesq.co.uk  \n",
       "3          http://www.mcmahanbenl.co.uk  \n",
       "4        http://www.champagneroom.co.uk  "
      ]
     },
     "execution_count": 125,
     "metadata": {},
     "output_type": "execute_result"
    }
   ],
   "source": [
    "# a) primeras cinco filas del DataFrame \n",
    "data.iloc[:5,:]"
   ]
  },
  {
   "cell_type": "code",
   "execution_count": 126,
   "metadata": {},
   "outputs": [
    {
     "data": {
      "application/vnd.microsoft.datawrangler.viewer.v0+json": {
       "columns": [
        {
         "name": "index",
         "rawType": "int64",
         "type": "integer"
        },
        {
         "name": "first_name",
         "rawType": "object",
         "type": "string"
        },
        {
         "name": "last_name",
         "rawType": "object",
         "type": "string"
        }
       ],
       "ref": "061081d3-8c62-49aa-8a73-87c797aeb385",
       "rows": [
        [
         "0",
         "Aleshia",
         "Tomkiewicz"
        ],
        [
         "1",
         "Evan",
         "Zigomalas"
        ],
        [
         "2",
         "France",
         "Andrade"
        ],
        [
         "3",
         "Ulysses",
         "Mcwalters"
        ],
        [
         "4",
         "Tyisha",
         "Veness"
        ],
        [
         "5",
         "Eric",
         "Rampy"
        ],
        [
         "6",
         "Marg",
         "Grasmick"
        ],
        [
         "7",
         "Laquita",
         "Hisaw"
        ],
        [
         "8",
         "Lura",
         "Manzella"
        ],
        [
         "9",
         "Yuette",
         "Klapec"
        ],
        [
         "10",
         "Fernanda",
         "Writer"
        ],
        [
         "11",
         "Charlesetta",
         "Erm"
        ],
        [
         "12",
         "Corrinne",
         "Jaret"
        ],
        [
         "13",
         "Niesha",
         "Bruch"
        ],
        [
         "14",
         "Rueben",
         "Gastellum"
        ],
        [
         "15",
         "Michell",
         "Throssell"
        ],
        [
         "16",
         "Edgar",
         "Kanne"
        ],
        [
         "17",
         "Dewitt",
         "Julio"
        ],
        [
         "18",
         "Charisse",
         "Spinello"
        ],
        [
         "19",
         "Mee",
         "Lapinski"
        ],
        [
         "20",
         "Peter",
         "Gutierres"
        ],
        [
         "21",
         "Octavio",
         "Salvadore"
        ],
        [
         "22",
         "Martha",
         "Teplica"
        ],
        [
         "23",
         "Tamesha",
         "Veigel"
        ],
        [
         "24",
         "Tess",
         "Sitra"
        ],
        [
         "25",
         "Leonard",
         "Kufner"
        ],
        [
         "26",
         "Svetlana",
         "Tauras"
        ],
        [
         "27",
         "Pok",
         "Molaison"
        ],
        [
         "28",
         "Augustine",
         "Growcock"
        ],
        [
         "29",
         "Karma",
         "Quarto"
        ],
        [
         "30",
         "Reed",
         "Weisinger"
        ],
        [
         "31",
         "German",
         "Zelaya"
        ],
        [
         "32",
         "Milly",
         "Savidge"
        ],
        [
         "33",
         "Luis",
         "Ear"
        ],
        [
         "34",
         "Ciara",
         "Cobbley"
        ],
        [
         "35",
         "Alethea",
         "Mould"
        ],
        [
         "36",
         "Margurite",
         "Loperfido"
        ],
        [
         "37",
         "Vernice",
         "Sperazza"
        ],
        [
         "38",
         "Vicente",
         "Rawicki"
        ],
        [
         "39",
         "Craig",
         "Cua"
        ],
        [
         "40",
         "Jenise",
         "Dulle"
        ],
        [
         "41",
         "Marylin",
         "Cornelison"
        ],
        [
         "42",
         "Marget",
         "Gunst"
        ],
        [
         "43",
         "Annett",
         "Bunselmeyer"
        ],
        [
         "44",
         "Kip",
         "Turziano"
        ],
        [
         "45",
         "Melina",
         "Orizabal"
        ],
        [
         "46",
         "Tina",
         "Clapham"
        ],
        [
         "47",
         "Luisa",
         "Devereux"
        ],
        [
         "48",
         "Pedro",
         "Aschoff"
        ],
        [
         "49",
         "Carrol",
         "Kunimitsu"
        ]
       ],
       "shape": {
        "columns": 2,
        "rows": 500
       }
      },
      "text/html": [
       "<div>\n",
       "<style scoped>\n",
       "    .dataframe tbody tr th:only-of-type {\n",
       "        vertical-align: middle;\n",
       "    }\n",
       "\n",
       "    .dataframe tbody tr th {\n",
       "        vertical-align: top;\n",
       "    }\n",
       "\n",
       "    .dataframe thead th {\n",
       "        text-align: right;\n",
       "    }\n",
       "</style>\n",
       "<table border=\"1\" class=\"dataframe\">\n",
       "  <thead>\n",
       "    <tr style=\"text-align: right;\">\n",
       "      <th></th>\n",
       "      <th>first_name</th>\n",
       "      <th>last_name</th>\n",
       "    </tr>\n",
       "  </thead>\n",
       "  <tbody>\n",
       "    <tr>\n",
       "      <th>0</th>\n",
       "      <td>Aleshia</td>\n",
       "      <td>Tomkiewicz</td>\n",
       "    </tr>\n",
       "    <tr>\n",
       "      <th>1</th>\n",
       "      <td>Evan</td>\n",
       "      <td>Zigomalas</td>\n",
       "    </tr>\n",
       "    <tr>\n",
       "      <th>2</th>\n",
       "      <td>France</td>\n",
       "      <td>Andrade</td>\n",
       "    </tr>\n",
       "    <tr>\n",
       "      <th>3</th>\n",
       "      <td>Ulysses</td>\n",
       "      <td>Mcwalters</td>\n",
       "    </tr>\n",
       "    <tr>\n",
       "      <th>4</th>\n",
       "      <td>Tyisha</td>\n",
       "      <td>Veness</td>\n",
       "    </tr>\n",
       "    <tr>\n",
       "      <th>...</th>\n",
       "      <td>...</td>\n",
       "      <td>...</td>\n",
       "    </tr>\n",
       "    <tr>\n",
       "      <th>495</th>\n",
       "      <td>Avery</td>\n",
       "      <td>Veit</td>\n",
       "    </tr>\n",
       "    <tr>\n",
       "      <th>496</th>\n",
       "      <td>Reid</td>\n",
       "      <td>Euresti</td>\n",
       "    </tr>\n",
       "    <tr>\n",
       "      <th>497</th>\n",
       "      <td>Charlette</td>\n",
       "      <td>Brenning</td>\n",
       "    </tr>\n",
       "    <tr>\n",
       "      <th>498</th>\n",
       "      <td>Celestina</td>\n",
       "      <td>Keeny</td>\n",
       "    </tr>\n",
       "    <tr>\n",
       "      <th>499</th>\n",
       "      <td>Mi</td>\n",
       "      <td>Richan</td>\n",
       "    </tr>\n",
       "  </tbody>\n",
       "</table>\n",
       "<p>500 rows × 2 columns</p>\n",
       "</div>"
      ],
      "text/plain": [
       "    first_name   last_name\n",
       "0      Aleshia  Tomkiewicz\n",
       "1         Evan   Zigomalas\n",
       "2       France     Andrade\n",
       "3      Ulysses   Mcwalters\n",
       "4       Tyisha      Veness\n",
       "..         ...         ...\n",
       "495      Avery        Veit\n",
       "496       Reid     Euresti\n",
       "497  Charlette    Brenning\n",
       "498  Celestina       Keeny\n",
       "499         Mi      Richan\n",
       "\n",
       "[500 rows x 2 columns]"
      ]
     },
     "execution_count": 126,
     "metadata": {},
     "output_type": "execute_result"
    }
   ],
   "source": [
    "# b) primeras dos columnas del DataFrame con todas las filas\n",
    "data.iloc[:,:2]"
   ]
  },
  {
   "cell_type": "code",
   "execution_count": 130,
   "metadata": {},
   "outputs": [
    {
     "data": {
      "application/vnd.microsoft.datawrangler.viewer.v0+json": {
       "columns": [
        {
         "name": "index",
         "rawType": "int64",
         "type": "integer"
        },
        {
         "name": "city",
         "rawType": "object",
         "type": "string"
        },
        {
         "name": "county",
         "rawType": "object",
         "type": "string"
        },
        {
         "name": "postal",
         "rawType": "object",
         "type": "string"
        }
       ],
       "ref": "b57a50db-033d-4a7d-b714-aa20d079fb06",
       "rows": [
        [
         "0",
         "St. Stephens Ward",
         "Kent",
         "CT2 7PP"
        ],
        [
         "1",
         "Abbey Ward",
         "Buckinghamshire",
         "HP11 2AX"
        ],
        [
         "2",
         "East Southbourne and Tuckton W",
         "Bournemouth",
         "BH6 3BE"
        ],
        [
         "3",
         "Hawerby cum Beesby",
         "Lincolnshire",
         "DN36 5RP"
        ],
        [
         "4",
         "Greets Green and Lyng Ward",
         "West Midlands",
         "B70 9DT"
        ]
       ],
       "shape": {
        "columns": 3,
        "rows": 5
       }
      },
      "text/html": [
       "<div>\n",
       "<style scoped>\n",
       "    .dataframe tbody tr th:only-of-type {\n",
       "        vertical-align: middle;\n",
       "    }\n",
       "\n",
       "    .dataframe tbody tr th {\n",
       "        vertical-align: top;\n",
       "    }\n",
       "\n",
       "    .dataframe thead th {\n",
       "        text-align: right;\n",
       "    }\n",
       "</style>\n",
       "<table border=\"1\" class=\"dataframe\">\n",
       "  <thead>\n",
       "    <tr style=\"text-align: right;\">\n",
       "      <th></th>\n",
       "      <th>city</th>\n",
       "      <th>county</th>\n",
       "      <th>postal</th>\n",
       "    </tr>\n",
       "  </thead>\n",
       "  <tbody>\n",
       "    <tr>\n",
       "      <th>0</th>\n",
       "      <td>St. Stephens Ward</td>\n",
       "      <td>Kent</td>\n",
       "      <td>CT2 7PP</td>\n",
       "    </tr>\n",
       "    <tr>\n",
       "      <th>1</th>\n",
       "      <td>Abbey Ward</td>\n",
       "      <td>Buckinghamshire</td>\n",
       "      <td>HP11 2AX</td>\n",
       "    </tr>\n",
       "    <tr>\n",
       "      <th>2</th>\n",
       "      <td>East Southbourne and Tuckton W</td>\n",
       "      <td>Bournemouth</td>\n",
       "      <td>BH6 3BE</td>\n",
       "    </tr>\n",
       "    <tr>\n",
       "      <th>3</th>\n",
       "      <td>Hawerby cum Beesby</td>\n",
       "      <td>Lincolnshire</td>\n",
       "      <td>DN36 5RP</td>\n",
       "    </tr>\n",
       "    <tr>\n",
       "      <th>4</th>\n",
       "      <td>Greets Green and Lyng Ward</td>\n",
       "      <td>West Midlands</td>\n",
       "      <td>B70 9DT</td>\n",
       "    </tr>\n",
       "  </tbody>\n",
       "</table>\n",
       "</div>"
      ],
      "text/plain": [
       "                             city           county    postal\n",
       "0               St. Stephens Ward             Kent   CT2 7PP\n",
       "1                      Abbey Ward  Buckinghamshire  HP11 2AX\n",
       "2  East Southbourne and Tuckton W      Bournemouth   BH6 3BE\n",
       "3              Hawerby cum Beesby     Lincolnshire  DN36 5RP\n",
       "4      Greets Green and Lyng Ward    West Midlands   B70 9DT"
      ]
     },
     "execution_count": 130,
     "metadata": {},
     "output_type": "execute_result"
    }
   ],
   "source": [
    "# c) primeras 5 filas y (5ª, 6ª, 7ª) columnas\n",
    "data.iloc[:5,4:7]"
   ]
  },
  {
   "cell_type": "markdown",
   "metadata": {},
   "source": [
    "Ahora estableciendo el índice de nuestro DataFrame con el \"last_name\":"
   ]
  },
  {
   "cell_type": "code",
   "execution_count": 131,
   "metadata": {},
   "outputs": [
    {
     "data": {
      "application/vnd.microsoft.datawrangler.viewer.v0+json": {
       "columns": [
        {
         "name": "last_name",
         "rawType": "object",
         "type": "string"
        },
        {
         "name": "first_name",
         "rawType": "object",
         "type": "string"
        },
        {
         "name": "company_name",
         "rawType": "object",
         "type": "string"
        },
        {
         "name": "address",
         "rawType": "object",
         "type": "string"
        },
        {
         "name": "city",
         "rawType": "object",
         "type": "string"
        },
        {
         "name": "county",
         "rawType": "object",
         "type": "string"
        },
        {
         "name": "postal",
         "rawType": "object",
         "type": "string"
        },
        {
         "name": "phone1",
         "rawType": "object",
         "type": "string"
        },
        {
         "name": "phone2",
         "rawType": "object",
         "type": "string"
        },
        {
         "name": "email",
         "rawType": "object",
         "type": "string"
        },
        {
         "name": "web",
         "rawType": "object",
         "type": "string"
        }
       ],
       "ref": "98ba42b5-bbae-4f39-8b31-939f870be249",
       "rows": [
        [
         "Tomkiewicz",
         "Aleshia",
         "Alan D Rosenburg Cpa Pc",
         "14 Taylor St",
         "St. Stephens Ward",
         "Kent",
         "CT2 7PP",
         "01835-703597",
         "01944-369967",
         "atomkiewicz@hotmail.com",
         "http://www.alandrosenburgcpapc.co.uk"
        ],
        [
         "Zigomalas",
         "Evan",
         "Cap Gemini America",
         "5 Binney St",
         "Abbey Ward",
         "Buckinghamshire",
         "HP11 2AX",
         "01937-864715",
         "01714-737668",
         "evan.zigomalas@gmail.com",
         "http://www.capgeminiamerica.co.uk"
        ],
        [
         "Andrade",
         "France",
         "Elliott, John W Esq",
         "8 Moor Place",
         "East Southbourne and Tuckton W",
         "Bournemouth",
         "BH6 3BE",
         "01347-368222",
         "01935-821636",
         "france.andrade@hotmail.com",
         "http://www.elliottjohnwesq.co.uk"
        ],
        [
         "Mcwalters",
         "Ulysses",
         "Mcmahan, Ben L",
         "505 Exeter Rd",
         "Hawerby cum Beesby",
         "Lincolnshire",
         "DN36 5RP",
         "01912-771311",
         "01302-601380",
         "ulysses@hotmail.com",
         "http://www.mcmahanbenl.co.uk"
        ],
        [
         "Veness",
         "Tyisha",
         "Champagne Room",
         "5396 Forth Street",
         "Greets Green and Lyng Ward",
         "West Midlands",
         "B70 9DT",
         "01547-429341",
         "01290-367248",
         "tyisha.veness@hotmail.com",
         "http://www.champagneroom.co.uk"
        ]
       ],
       "shape": {
        "columns": 10,
        "rows": 5
       }
      },
      "text/html": [
       "<div>\n",
       "<style scoped>\n",
       "    .dataframe tbody tr th:only-of-type {\n",
       "        vertical-align: middle;\n",
       "    }\n",
       "\n",
       "    .dataframe tbody tr th {\n",
       "        vertical-align: top;\n",
       "    }\n",
       "\n",
       "    .dataframe thead th {\n",
       "        text-align: right;\n",
       "    }\n",
       "</style>\n",
       "<table border=\"1\" class=\"dataframe\">\n",
       "  <thead>\n",
       "    <tr style=\"text-align: right;\">\n",
       "      <th></th>\n",
       "      <th>first_name</th>\n",
       "      <th>company_name</th>\n",
       "      <th>address</th>\n",
       "      <th>city</th>\n",
       "      <th>county</th>\n",
       "      <th>postal</th>\n",
       "      <th>phone1</th>\n",
       "      <th>phone2</th>\n",
       "      <th>email</th>\n",
       "      <th>web</th>\n",
       "    </tr>\n",
       "    <tr>\n",
       "      <th>last_name</th>\n",
       "      <th></th>\n",
       "      <th></th>\n",
       "      <th></th>\n",
       "      <th></th>\n",
       "      <th></th>\n",
       "      <th></th>\n",
       "      <th></th>\n",
       "      <th></th>\n",
       "      <th></th>\n",
       "      <th></th>\n",
       "    </tr>\n",
       "  </thead>\n",
       "  <tbody>\n",
       "    <tr>\n",
       "      <th>Tomkiewicz</th>\n",
       "      <td>Aleshia</td>\n",
       "      <td>Alan D Rosenburg Cpa Pc</td>\n",
       "      <td>14 Taylor St</td>\n",
       "      <td>St. Stephens Ward</td>\n",
       "      <td>Kent</td>\n",
       "      <td>CT2 7PP</td>\n",
       "      <td>01835-703597</td>\n",
       "      <td>01944-369967</td>\n",
       "      <td>atomkiewicz@hotmail.com</td>\n",
       "      <td>http://www.alandrosenburgcpapc.co.uk</td>\n",
       "    </tr>\n",
       "    <tr>\n",
       "      <th>Zigomalas</th>\n",
       "      <td>Evan</td>\n",
       "      <td>Cap Gemini America</td>\n",
       "      <td>5 Binney St</td>\n",
       "      <td>Abbey Ward</td>\n",
       "      <td>Buckinghamshire</td>\n",
       "      <td>HP11 2AX</td>\n",
       "      <td>01937-864715</td>\n",
       "      <td>01714-737668</td>\n",
       "      <td>evan.zigomalas@gmail.com</td>\n",
       "      <td>http://www.capgeminiamerica.co.uk</td>\n",
       "    </tr>\n",
       "    <tr>\n",
       "      <th>Andrade</th>\n",
       "      <td>France</td>\n",
       "      <td>Elliott, John W Esq</td>\n",
       "      <td>8 Moor Place</td>\n",
       "      <td>East Southbourne and Tuckton W</td>\n",
       "      <td>Bournemouth</td>\n",
       "      <td>BH6 3BE</td>\n",
       "      <td>01347-368222</td>\n",
       "      <td>01935-821636</td>\n",
       "      <td>france.andrade@hotmail.com</td>\n",
       "      <td>http://www.elliottjohnwesq.co.uk</td>\n",
       "    </tr>\n",
       "    <tr>\n",
       "      <th>Mcwalters</th>\n",
       "      <td>Ulysses</td>\n",
       "      <td>Mcmahan, Ben L</td>\n",
       "      <td>505 Exeter Rd</td>\n",
       "      <td>Hawerby cum Beesby</td>\n",
       "      <td>Lincolnshire</td>\n",
       "      <td>DN36 5RP</td>\n",
       "      <td>01912-771311</td>\n",
       "      <td>01302-601380</td>\n",
       "      <td>ulysses@hotmail.com</td>\n",
       "      <td>http://www.mcmahanbenl.co.uk</td>\n",
       "    </tr>\n",
       "    <tr>\n",
       "      <th>Veness</th>\n",
       "      <td>Tyisha</td>\n",
       "      <td>Champagne Room</td>\n",
       "      <td>5396 Forth Street</td>\n",
       "      <td>Greets Green and Lyng Ward</td>\n",
       "      <td>West Midlands</td>\n",
       "      <td>B70 9DT</td>\n",
       "      <td>01547-429341</td>\n",
       "      <td>01290-367248</td>\n",
       "      <td>tyisha.veness@hotmail.com</td>\n",
       "      <td>http://www.champagneroom.co.uk</td>\n",
       "    </tr>\n",
       "  </tbody>\n",
       "</table>\n",
       "</div>"
      ],
      "text/plain": [
       "           first_name             company_name            address  \\\n",
       "last_name                                                           \n",
       "Tomkiewicz    Aleshia  Alan D Rosenburg Cpa Pc       14 Taylor St   \n",
       "Zigomalas        Evan       Cap Gemini America        5 Binney St   \n",
       "Andrade        France      Elliott, John W Esq       8 Moor Place   \n",
       "Mcwalters     Ulysses           Mcmahan, Ben L      505 Exeter Rd   \n",
       "Veness         Tyisha           Champagne Room  5396 Forth Street   \n",
       "\n",
       "                                      city           county    postal  \\\n",
       "last_name                                                               \n",
       "Tomkiewicz               St. Stephens Ward             Kent   CT2 7PP   \n",
       "Zigomalas                       Abbey Ward  Buckinghamshire  HP11 2AX   \n",
       "Andrade     East Southbourne and Tuckton W      Bournemouth   BH6 3BE   \n",
       "Mcwalters               Hawerby cum Beesby     Lincolnshire  DN36 5RP   \n",
       "Veness          Greets Green and Lyng Ward    West Midlands   B70 9DT   \n",
       "\n",
       "                  phone1        phone2                       email  \\\n",
       "last_name                                                            \n",
       "Tomkiewicz  01835-703597  01944-369967     atomkiewicz@hotmail.com   \n",
       "Zigomalas   01937-864715  01714-737668    evan.zigomalas@gmail.com   \n",
       "Andrade     01347-368222  01935-821636  france.andrade@hotmail.com   \n",
       "Mcwalters   01912-771311  01302-601380         ulysses@hotmail.com   \n",
       "Veness      01547-429341  01290-367248   tyisha.veness@hotmail.com   \n",
       "\n",
       "                                             web  \n",
       "last_name                                         \n",
       "Tomkiewicz  http://www.alandrosenburgcpapc.co.uk  \n",
       "Zigomalas      http://www.capgeminiamerica.co.uk  \n",
       "Andrade         http://www.elliottjohnwesq.co.uk  \n",
       "Mcwalters           http://www.mcmahanbenl.co.uk  \n",
       "Veness            http://www.champagneroom.co.uk  "
      ]
     },
     "execution_count": 131,
     "metadata": {},
     "output_type": "execute_result"
    }
   ],
   "source": [
    "data.set_index(\"last_name\", inplace=True)\n",
    "data.head()"
   ]
  },
  {
   "cell_type": "markdown",
   "metadata": {},
   "source": [
    "<div class=\"alert alert-info\">\n",
    "\n",
    "3. Utilizar el indexador **loc** y encuentre lo siguiente:\n",
    "\n",
    "\n",
    "a)  Seleccione filas con valores de índice 'Andrade' y 'Veness', con  las columnas entre 'city' y 'email'\n",
    "\n",
    "b)  Seleccione las mismas filas de a), con solo las columnas 'first_name', 'address' y 'city'\n",
    " \n",
    "\n",
    "\n",
    "</div>"
   ]
  },
  {
   "cell_type": "code",
   "execution_count": 132,
   "metadata": {},
   "outputs": [
    {
     "data": {
      "application/vnd.microsoft.datawrangler.viewer.v0+json": {
       "columns": [
        {
         "name": "last_name",
         "rawType": "object",
         "type": "string"
        },
        {
         "name": "city",
         "rawType": "object",
         "type": "string"
        },
        {
         "name": "county",
         "rawType": "object",
         "type": "string"
        },
        {
         "name": "postal",
         "rawType": "object",
         "type": "string"
        },
        {
         "name": "phone1",
         "rawType": "object",
         "type": "string"
        },
        {
         "name": "phone2",
         "rawType": "object",
         "type": "string"
        },
        {
         "name": "email",
         "rawType": "object",
         "type": "string"
        }
       ],
       "ref": "21e2ba8e-acf1-4f72-9239-c6cc2586c790",
       "rows": [
        [
         "Andrade",
         "East Southbourne and Tuckton W",
         "Bournemouth",
         "BH6 3BE",
         "01347-368222",
         "01935-821636",
         "france.andrade@hotmail.com"
        ],
        [
         "Veness",
         "Greets Green and Lyng Ward",
         "West Midlands",
         "B70 9DT",
         "01547-429341",
         "01290-367248",
         "tyisha.veness@hotmail.com"
        ]
       ],
       "shape": {
        "columns": 6,
        "rows": 2
       }
      },
      "text/html": [
       "<div>\n",
       "<style scoped>\n",
       "    .dataframe tbody tr th:only-of-type {\n",
       "        vertical-align: middle;\n",
       "    }\n",
       "\n",
       "    .dataframe tbody tr th {\n",
       "        vertical-align: top;\n",
       "    }\n",
       "\n",
       "    .dataframe thead th {\n",
       "        text-align: right;\n",
       "    }\n",
       "</style>\n",
       "<table border=\"1\" class=\"dataframe\">\n",
       "  <thead>\n",
       "    <tr style=\"text-align: right;\">\n",
       "      <th></th>\n",
       "      <th>city</th>\n",
       "      <th>county</th>\n",
       "      <th>postal</th>\n",
       "      <th>phone1</th>\n",
       "      <th>phone2</th>\n",
       "      <th>email</th>\n",
       "    </tr>\n",
       "    <tr>\n",
       "      <th>last_name</th>\n",
       "      <th></th>\n",
       "      <th></th>\n",
       "      <th></th>\n",
       "      <th></th>\n",
       "      <th></th>\n",
       "      <th></th>\n",
       "    </tr>\n",
       "  </thead>\n",
       "  <tbody>\n",
       "    <tr>\n",
       "      <th>Andrade</th>\n",
       "      <td>East Southbourne and Tuckton W</td>\n",
       "      <td>Bournemouth</td>\n",
       "      <td>BH6 3BE</td>\n",
       "      <td>01347-368222</td>\n",
       "      <td>01935-821636</td>\n",
       "      <td>france.andrade@hotmail.com</td>\n",
       "    </tr>\n",
       "    <tr>\n",
       "      <th>Veness</th>\n",
       "      <td>Greets Green and Lyng Ward</td>\n",
       "      <td>West Midlands</td>\n",
       "      <td>B70 9DT</td>\n",
       "      <td>01547-429341</td>\n",
       "      <td>01290-367248</td>\n",
       "      <td>tyisha.veness@hotmail.com</td>\n",
       "    </tr>\n",
       "  </tbody>\n",
       "</table>\n",
       "</div>"
      ],
      "text/plain": [
       "                                     city         county   postal  \\\n",
       "last_name                                                           \n",
       "Andrade    East Southbourne and Tuckton W    Bournemouth  BH6 3BE   \n",
       "Veness         Greets Green and Lyng Ward  West Midlands  B70 9DT   \n",
       "\n",
       "                 phone1        phone2                       email  \n",
       "last_name                                                          \n",
       "Andrade    01347-368222  01935-821636  france.andrade@hotmail.com  \n",
       "Veness     01547-429341  01290-367248   tyisha.veness@hotmail.com  "
      ]
     },
     "execution_count": 132,
     "metadata": {},
     "output_type": "execute_result"
    }
   ],
   "source": [
    "# a)  Seleccione filas con valores de índice 'Andrade' y 'Veness', con  las columnas entre 'city' y 'email'\n",
    "data.loc[['Andrade', 'Veness'],'city':'email']"
   ]
  },
  {
   "cell_type": "code",
   "execution_count": 144,
   "metadata": {},
   "outputs": [
    {
     "data": {
      "application/vnd.microsoft.datawrangler.viewer.v0+json": {
       "columns": [
        {
         "name": "last_name",
         "rawType": "object",
         "type": "string"
        },
        {
         "name": "first_name",
         "rawType": "object",
         "type": "string"
        },
        {
         "name": "address",
         "rawType": "object",
         "type": "string"
        },
        {
         "name": "city",
         "rawType": "object",
         "type": "string"
        }
       ],
       "ref": "1cda9480-14a6-4678-b091-1ca7a888a182",
       "rows": [
        [
         "Andrade",
         "France",
         "8 Moor Place",
         "East Southbourne and Tuckton W"
        ],
        [
         "Veness",
         "Tyisha",
         "5396 Forth Street",
         "Greets Green and Lyng Ward"
        ]
       ],
       "shape": {
        "columns": 3,
        "rows": 2
       }
      },
      "text/html": [
       "<div>\n",
       "<style scoped>\n",
       "    .dataframe tbody tr th:only-of-type {\n",
       "        vertical-align: middle;\n",
       "    }\n",
       "\n",
       "    .dataframe tbody tr th {\n",
       "        vertical-align: top;\n",
       "    }\n",
       "\n",
       "    .dataframe thead th {\n",
       "        text-align: right;\n",
       "    }\n",
       "</style>\n",
       "<table border=\"1\" class=\"dataframe\">\n",
       "  <thead>\n",
       "    <tr style=\"text-align: right;\">\n",
       "      <th></th>\n",
       "      <th>first_name</th>\n",
       "      <th>address</th>\n",
       "      <th>city</th>\n",
       "    </tr>\n",
       "    <tr>\n",
       "      <th>last_name</th>\n",
       "      <th></th>\n",
       "      <th></th>\n",
       "      <th></th>\n",
       "    </tr>\n",
       "  </thead>\n",
       "  <tbody>\n",
       "    <tr>\n",
       "      <th>Andrade</th>\n",
       "      <td>France</td>\n",
       "      <td>8 Moor Place</td>\n",
       "      <td>East Southbourne and Tuckton W</td>\n",
       "    </tr>\n",
       "    <tr>\n",
       "      <th>Veness</th>\n",
       "      <td>Tyisha</td>\n",
       "      <td>5396 Forth Street</td>\n",
       "      <td>Greets Green and Lyng Ward</td>\n",
       "    </tr>\n",
       "  </tbody>\n",
       "</table>\n",
       "</div>"
      ],
      "text/plain": [
       "          first_name            address                            city\n",
       "last_name                                                              \n",
       "Andrade       France       8 Moor Place  East Southbourne and Tuckton W\n",
       "Veness        Tyisha  5396 Forth Street      Greets Green and Lyng Ward"
      ]
     },
     "execution_count": 144,
     "metadata": {},
     "output_type": "execute_result"
    }
   ],
   "source": [
    "# b)  Seleccione las mismas filas de a), con solo las columnas 'first_name', 'address' y 'city'\n",
    "data.loc[['Andrade', 'Veness'],['first_name', 'address', 'city']]"
   ]
  },
  {
   "cell_type": "markdown",
   "metadata": {},
   "source": [
    "<div class=\"alert alert-info\">\n",
    "\n",
    "4. Utilizar la selección boolena y encuentre lo siguiente:\n",
    "\n",
    "\n",
    "a)  Seleccionar todas las filas con el nombre de \"Antonio\".\n",
    "\n",
    "b)  Seleccione las mismas filas de a), con solo las columnas 'first_name', 'address' y 'city'\n",
    " \n",
    "\n",
    "\n",
    "</div>"
   ]
  },
  {
   "cell_type": "code",
   "execution_count": 135,
   "metadata": {},
   "outputs": [
    {
     "data": {
      "application/vnd.microsoft.datawrangler.viewer.v0+json": {
       "columns": [
        {
         "name": "last_name",
         "rawType": "object",
         "type": "string"
        },
        {
         "name": "first_name",
         "rawType": "object",
         "type": "string"
        },
        {
         "name": "company_name",
         "rawType": "object",
         "type": "string"
        },
        {
         "name": "address",
         "rawType": "object",
         "type": "string"
        },
        {
         "name": "city",
         "rawType": "object",
         "type": "string"
        },
        {
         "name": "county",
         "rawType": "object",
         "type": "string"
        },
        {
         "name": "postal",
         "rawType": "object",
         "type": "string"
        },
        {
         "name": "phone1",
         "rawType": "object",
         "type": "string"
        },
        {
         "name": "phone2",
         "rawType": "object",
         "type": "string"
        },
        {
         "name": "email",
         "rawType": "object",
         "type": "string"
        },
        {
         "name": "web",
         "rawType": "object",
         "type": "string"
        }
       ],
       "ref": "c2e8fcc4-59d1-46cb-b786-973953659fa5",
       "rows": [
        [
         "Villamarin",
         "Antonio",
         "Combs Sheetmetal",
         "353 Standish St #8264",
         "Little Parndon and Hare Street",
         "Hertfordshire",
         "CM20 2HT",
         "01559-403415",
         "01388-777812",
         "antonio.villamarin@gmail.com",
         "http://www.combssheetmetal.co.uk"
        ],
        [
         "Glasford",
         "Antonio",
         "Saint Thomas Creations",
         "425 Howley St",
         "Gaer Community",
         "Newport",
         "NP20 3DE",
         "01463-409090",
         "01242-318420",
         "antonio_glasford@glasford.co.uk",
         "http://www.saintthomascreations.co.uk"
        ],
        [
         "Heilig",
         "Antonio",
         "Radisson Suite Hotel",
         "35 Elton St #3",
         "Ipplepen",
         "Devon",
         "TQ12 5LL",
         "01324-171614",
         "01442-946357",
         "antonio.heilig@gmail.com",
         "http://www.radissonsuitehotel.co.uk"
        ]
       ],
       "shape": {
        "columns": 10,
        "rows": 3
       }
      },
      "text/html": [
       "<div>\n",
       "<style scoped>\n",
       "    .dataframe tbody tr th:only-of-type {\n",
       "        vertical-align: middle;\n",
       "    }\n",
       "\n",
       "    .dataframe tbody tr th {\n",
       "        vertical-align: top;\n",
       "    }\n",
       "\n",
       "    .dataframe thead th {\n",
       "        text-align: right;\n",
       "    }\n",
       "</style>\n",
       "<table border=\"1\" class=\"dataframe\">\n",
       "  <thead>\n",
       "    <tr style=\"text-align: right;\">\n",
       "      <th></th>\n",
       "      <th>first_name</th>\n",
       "      <th>company_name</th>\n",
       "      <th>address</th>\n",
       "      <th>city</th>\n",
       "      <th>county</th>\n",
       "      <th>postal</th>\n",
       "      <th>phone1</th>\n",
       "      <th>phone2</th>\n",
       "      <th>email</th>\n",
       "      <th>web</th>\n",
       "    </tr>\n",
       "    <tr>\n",
       "      <th>last_name</th>\n",
       "      <th></th>\n",
       "      <th></th>\n",
       "      <th></th>\n",
       "      <th></th>\n",
       "      <th></th>\n",
       "      <th></th>\n",
       "      <th></th>\n",
       "      <th></th>\n",
       "      <th></th>\n",
       "      <th></th>\n",
       "    </tr>\n",
       "  </thead>\n",
       "  <tbody>\n",
       "    <tr>\n",
       "      <th>Villamarin</th>\n",
       "      <td>Antonio</td>\n",
       "      <td>Combs Sheetmetal</td>\n",
       "      <td>353 Standish St #8264</td>\n",
       "      <td>Little Parndon and Hare Street</td>\n",
       "      <td>Hertfordshire</td>\n",
       "      <td>CM20 2HT</td>\n",
       "      <td>01559-403415</td>\n",
       "      <td>01388-777812</td>\n",
       "      <td>antonio.villamarin@gmail.com</td>\n",
       "      <td>http://www.combssheetmetal.co.uk</td>\n",
       "    </tr>\n",
       "    <tr>\n",
       "      <th>Glasford</th>\n",
       "      <td>Antonio</td>\n",
       "      <td>Saint Thomas Creations</td>\n",
       "      <td>425 Howley St</td>\n",
       "      <td>Gaer Community</td>\n",
       "      <td>Newport</td>\n",
       "      <td>NP20 3DE</td>\n",
       "      <td>01463-409090</td>\n",
       "      <td>01242-318420</td>\n",
       "      <td>antonio_glasford@glasford.co.uk</td>\n",
       "      <td>http://www.saintthomascreations.co.uk</td>\n",
       "    </tr>\n",
       "    <tr>\n",
       "      <th>Heilig</th>\n",
       "      <td>Antonio</td>\n",
       "      <td>Radisson Suite Hotel</td>\n",
       "      <td>35 Elton St #3</td>\n",
       "      <td>Ipplepen</td>\n",
       "      <td>Devon</td>\n",
       "      <td>TQ12 5LL</td>\n",
       "      <td>01324-171614</td>\n",
       "      <td>01442-946357</td>\n",
       "      <td>antonio.heilig@gmail.com</td>\n",
       "      <td>http://www.radissonsuitehotel.co.uk</td>\n",
       "    </tr>\n",
       "  </tbody>\n",
       "</table>\n",
       "</div>"
      ],
      "text/plain": [
       "           first_name            company_name                address  \\\n",
       "last_name                                                              \n",
       "Villamarin    Antonio        Combs Sheetmetal  353 Standish St #8264   \n",
       "Glasford      Antonio  Saint Thomas Creations          425 Howley St   \n",
       "Heilig        Antonio    Radisson Suite Hotel         35 Elton St #3   \n",
       "\n",
       "                                      city         county    postal  \\\n",
       "last_name                                                             \n",
       "Villamarin  Little Parndon and Hare Street  Hertfordshire  CM20 2HT   \n",
       "Glasford                    Gaer Community        Newport  NP20 3DE   \n",
       "Heilig                            Ipplepen          Devon  TQ12 5LL   \n",
       "\n",
       "                  phone1        phone2                            email  \\\n",
       "last_name                                                                 \n",
       "Villamarin  01559-403415  01388-777812     antonio.villamarin@gmail.com   \n",
       "Glasford    01463-409090  01242-318420  antonio_glasford@glasford.co.uk   \n",
       "Heilig      01324-171614  01442-946357         antonio.heilig@gmail.com   \n",
       "\n",
       "                                              web  \n",
       "last_name                                          \n",
       "Villamarin       http://www.combssheetmetal.co.uk  \n",
       "Glasford    http://www.saintthomascreations.co.uk  \n",
       "Heilig        http://www.radissonsuitehotel.co.uk  "
      ]
     },
     "execution_count": 135,
     "metadata": {},
     "output_type": "execute_result"
    }
   ],
   "source": [
    "# a)  Seleccionar todas las filas con el nombre de \"Antonio\".\n",
    "data[data['first_name'] ==  'Antonio']"
   ]
  },
  {
   "cell_type": "code",
   "execution_count": 141,
   "metadata": {},
   "outputs": [
    {
     "data": {
      "application/vnd.microsoft.datawrangler.viewer.v0+json": {
       "columns": [
        {
         "name": "last_name",
         "rawType": "object",
         "type": "string"
        },
        {
         "name": "first_name",
         "rawType": "object",
         "type": "string"
        },
        {
         "name": "address",
         "rawType": "object",
         "type": "string"
        },
        {
         "name": "city",
         "rawType": "object",
         "type": "string"
        }
       ],
       "ref": "b6099e60-0c11-4b27-9fd0-c570ed9e2aa8",
       "rows": [
        [
         "Villamarin",
         "Antonio",
         "353 Standish St #8264",
         "Little Parndon and Hare Street"
        ],
        [
         "Glasford",
         "Antonio",
         "425 Howley St",
         "Gaer Community"
        ],
        [
         "Heilig",
         "Antonio",
         "35 Elton St #3",
         "Ipplepen"
        ]
       ],
       "shape": {
        "columns": 3,
        "rows": 3
       }
      },
      "text/html": [
       "<div>\n",
       "<style scoped>\n",
       "    .dataframe tbody tr th:only-of-type {\n",
       "        vertical-align: middle;\n",
       "    }\n",
       "\n",
       "    .dataframe tbody tr th {\n",
       "        vertical-align: top;\n",
       "    }\n",
       "\n",
       "    .dataframe thead th {\n",
       "        text-align: right;\n",
       "    }\n",
       "</style>\n",
       "<table border=\"1\" class=\"dataframe\">\n",
       "  <thead>\n",
       "    <tr style=\"text-align: right;\">\n",
       "      <th></th>\n",
       "      <th>first_name</th>\n",
       "      <th>address</th>\n",
       "      <th>city</th>\n",
       "    </tr>\n",
       "    <tr>\n",
       "      <th>last_name</th>\n",
       "      <th></th>\n",
       "      <th></th>\n",
       "      <th></th>\n",
       "    </tr>\n",
       "  </thead>\n",
       "  <tbody>\n",
       "    <tr>\n",
       "      <th>Villamarin</th>\n",
       "      <td>Antonio</td>\n",
       "      <td>353 Standish St #8264</td>\n",
       "      <td>Little Parndon and Hare Street</td>\n",
       "    </tr>\n",
       "    <tr>\n",
       "      <th>Glasford</th>\n",
       "      <td>Antonio</td>\n",
       "      <td>425 Howley St</td>\n",
       "      <td>Gaer Community</td>\n",
       "    </tr>\n",
       "    <tr>\n",
       "      <th>Heilig</th>\n",
       "      <td>Antonio</td>\n",
       "      <td>35 Elton St #3</td>\n",
       "      <td>Ipplepen</td>\n",
       "    </tr>\n",
       "  </tbody>\n",
       "</table>\n",
       "</div>"
      ],
      "text/plain": [
       "           first_name                address                            city\n",
       "last_name                                                                   \n",
       "Villamarin    Antonio  353 Standish St #8264  Little Parndon and Hare Street\n",
       "Glasford      Antonio          425 Howley St                  Gaer Community\n",
       "Heilig        Antonio         35 Elton St #3                        Ipplepen"
      ]
     },
     "execution_count": 141,
     "metadata": {},
     "output_type": "execute_result"
    }
   ],
   "source": [
    "# b)  Seleccione las mismas filas de a), con solo las columnas 'first_name', 'address' y 'city'\n",
    "data[data['first_name'] ==  'Antonio'][['first_name','address','city']]"
   ]
  },
  {
   "cell_type": "code",
   "execution_count": null,
   "metadata": {},
   "outputs": [],
   "source": []
  }
 ],
 "metadata": {
  "kernelspec": {
   "display_name": "data-science-coursework (3.13.7)",
   "language": "python",
   "name": "python3"
  },
  "language_info": {
   "codemirror_mode": {
    "name": "ipython",
    "version": 3
   },
   "file_extension": ".py",
   "mimetype": "text/x-python",
   "name": "python",
   "nbconvert_exporter": "python",
   "pygments_lexer": "ipython3",
   "version": "3.13.7"
  }
 },
 "nbformat": 4,
 "nbformat_minor": 4
}
