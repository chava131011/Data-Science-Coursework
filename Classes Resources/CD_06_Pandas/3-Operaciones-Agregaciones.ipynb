{
 "cells": [
  {
   "cell_type": "markdown",
   "metadata": {},
   "source": [
    "<!--Información del curso-->\n",
    "<img align=\"left\" style=\"padding-right:10px;\" src=\"figuras/banner_cd.png\">"
   ]
  },
  {
   "cell_type": "markdown",
   "metadata": {},
   "source": [
    "<center><h2 style=\"font-size:2em;color:#840700\">  Pandas - Operaciones y agregaciones  </h4></center>\n",
    "\n",
    "<br>\n",
    "<table>\n",
    "<col width=\"550\">\n",
    "<col width=\"450\">\n",
    "<tr>\n",
    "<td><img src=\"figuras/pandas3.png\" align=\"left\" style=\"width:500px\"/></td>\n",
    "<td>\n",
    "\n",
    "* **Wes McKinney**, empezó a desarrollar Pandas en el año 2008 mientras trabajaba en *AQR Capital* [https://www.aqr.com/] por la necesidad que tenía de una herramienta flexible de alto rendimiento para realizar análisis cuantitativos en datos financieros. \n",
    "* Antes de dejar AQR convenció a la administración de la empresa de distribuir esta biblioteca bajo licencia de código abierto.\n",
    "* **Pandas** es un acrónimo de **PANel DAta analysiS**\n",
    "   \n",
    "    \n",
    "<br>\n",
    "</td>\n",
    "</tr>\n",
    "</table>"
   ]
  },
  {
   "cell_type": "markdown",
   "metadata": {},
   "source": [
    "# Librerías\n",
    "\n",
    "Cargando las bibliotecas que necesitamos \n"
   ]
  },
  {
   "cell_type": "code",
   "execution_count": 1,
   "metadata": {},
   "outputs": [],
   "source": [
    "import pandas as pd\n",
    "import numpy as np\n",
    "import matplotlib.pyplot as plt"
   ]
  },
  {
   "cell_type": "markdown",
   "metadata": {},
   "source": [
    "# Operaciones de datos en Pandas "
   ]
  },
  {
   "cell_type": "markdown",
   "metadata": {},
   "source": [
    "Parte de las características esenciales de **NumPy** es la capacidad de realizar operaciones rápidas de elementos, tanto con aritmética básica (suma, resta, multiplicación, etc.) como con operaciones más sofisticadas (funciones trigonométricas, funciones exponenciales y logarítmicas, etc.).\n",
    "Pandas hereda gran parte de esta funcionalidad de **NumPy** y las _**ufuncs**_ que fueron presentadas en lecciones pasadas son clave para esto.\n",
    "\n",
    "Sin embargo, **Pandas** incluye un par de características  extras que serán  útiles: para operaciones de negación y trigonométricas, estas _**ufuncs**_  preservarán las etiquetas de índice y columna en la salida, y para operaciones como la suma y la multiplicación, **Pandas** automáticamente *alineará índices*.\n",
    "Esto significa que mantener el contexto de los datos y combinar datos de diferentes fuentes, ambas tareas potencialmente propensas a errores con arreglos de **NumPy** sin procesar, se vuelven esencialmente infalibles con **Pandas**.\n"
   ]
  },
  {
   "cell_type": "code",
   "execution_count": 2,
   "metadata": {},
   "outputs": [],
   "source": [
    "poblacion = pd.Series({'Belgica':11.3, 'Francia':64.3, 'Alemania':81.3,\n",
    "                       'Holanda':16.9, 'Inglaterra':64.9,'Argentina':12.1,'Mexico':103.2})"
   ]
  },
  {
   "cell_type": "code",
   "execution_count": 3,
   "metadata": {},
   "outputs": [],
   "source": [
    "data = {'pais': ['Belgica', 'Francia', 'Alemania', 'Holanda', 'Inglaterra','Argentina','Mexico'],\n",
    "        'poblacion': [11.3, 64.3, 81.3, 16.9, 64.9, 12.1,103.2],\n",
    "        'area': [30510, 671308, 357050, 41526, 244820,300163,1960573],\n",
    "        'capital': ['Bruselas', 'Paris', 'Berlin', 'Amsterdam', 'Londres','Buenos Aires','Ciudad de Mexico']}\n",
    "paises = pd.DataFrame(data)\n"
   ]
  },
  {
   "cell_type": "code",
   "execution_count": 4,
   "metadata": {},
   "outputs": [
    {
     "data": {
      "application/vnd.microsoft.datawrangler.viewer.v0+json": {
       "columns": [
        {
         "name": "index",
         "rawType": "int64",
         "type": "integer"
        },
        {
         "name": "pais",
         "rawType": "object",
         "type": "string"
        },
        {
         "name": "poblacion",
         "rawType": "float64",
         "type": "float"
        },
        {
         "name": "area",
         "rawType": "int64",
         "type": "integer"
        },
        {
         "name": "capital",
         "rawType": "object",
         "type": "string"
        }
       ],
       "ref": "f73c41bb-e989-46eb-ba28-48f1eda61039",
       "rows": [
        [
         "0",
         "Belgica",
         "11.3",
         "30510",
         "Bruselas"
        ],
        [
         "1",
         "Francia",
         "64.3",
         "671308",
         "Paris"
        ],
        [
         "2",
         "Alemania",
         "81.3",
         "357050",
         "Berlin"
        ],
        [
         "3",
         "Holanda",
         "16.9",
         "41526",
         "Amsterdam"
        ],
        [
         "4",
         "Inglaterra",
         "64.9",
         "244820",
         "Londres"
        ]
       ],
       "shape": {
        "columns": 4,
        "rows": 5
       }
      },
      "text/html": [
       "<div>\n",
       "<style scoped>\n",
       "    .dataframe tbody tr th:only-of-type {\n",
       "        vertical-align: middle;\n",
       "    }\n",
       "\n",
       "    .dataframe tbody tr th {\n",
       "        vertical-align: top;\n",
       "    }\n",
       "\n",
       "    .dataframe thead th {\n",
       "        text-align: right;\n",
       "    }\n",
       "</style>\n",
       "<table border=\"1\" class=\"dataframe\">\n",
       "  <thead>\n",
       "    <tr style=\"text-align: right;\">\n",
       "      <th></th>\n",
       "      <th>pais</th>\n",
       "      <th>poblacion</th>\n",
       "      <th>area</th>\n",
       "      <th>capital</th>\n",
       "    </tr>\n",
       "  </thead>\n",
       "  <tbody>\n",
       "    <tr>\n",
       "      <th>0</th>\n",
       "      <td>Belgica</td>\n",
       "      <td>11.3</td>\n",
       "      <td>30510</td>\n",
       "      <td>Bruselas</td>\n",
       "    </tr>\n",
       "    <tr>\n",
       "      <th>1</th>\n",
       "      <td>Francia</td>\n",
       "      <td>64.3</td>\n",
       "      <td>671308</td>\n",
       "      <td>Paris</td>\n",
       "    </tr>\n",
       "    <tr>\n",
       "      <th>2</th>\n",
       "      <td>Alemania</td>\n",
       "      <td>81.3</td>\n",
       "      <td>357050</td>\n",
       "      <td>Berlin</td>\n",
       "    </tr>\n",
       "    <tr>\n",
       "      <th>3</th>\n",
       "      <td>Holanda</td>\n",
       "      <td>16.9</td>\n",
       "      <td>41526</td>\n",
       "      <td>Amsterdam</td>\n",
       "    </tr>\n",
       "    <tr>\n",
       "      <th>4</th>\n",
       "      <td>Inglaterra</td>\n",
       "      <td>64.9</td>\n",
       "      <td>244820</td>\n",
       "      <td>Londres</td>\n",
       "    </tr>\n",
       "  </tbody>\n",
       "</table>\n",
       "</div>"
      ],
      "text/plain": [
       "         pais  poblacion    area    capital\n",
       "0     Belgica       11.3   30510   Bruselas\n",
       "1     Francia       64.3  671308      Paris\n",
       "2    Alemania       81.3  357050     Berlin\n",
       "3     Holanda       16.9   41526  Amsterdam\n",
       "4  Inglaterra       64.9  244820    Londres"
      ]
     },
     "execution_count": 4,
     "metadata": {},
     "output_type": "execute_result"
    }
   ],
   "source": [
    "#mostrar el dataframe\n",
    "paises.head()"
   ]
  },
  {
   "cell_type": "markdown",
   "metadata": {},
   "source": [
    "## Los \"nuevos\" conceptos\n"
   ]
  },
  {
   "cell_type": "code",
   "execution_count": 5,
   "metadata": {},
   "outputs": [
    {
     "data": {
      "application/vnd.microsoft.datawrangler.viewer.v0+json": {
       "columns": [
        {
         "name": "index",
         "rawType": "int64",
         "type": "integer"
        },
        {
         "name": "pais",
         "rawType": "object",
         "type": "string"
        },
        {
         "name": "poblacion",
         "rawType": "float64",
         "type": "float"
        },
        {
         "name": "area",
         "rawType": "int64",
         "type": "integer"
        },
        {
         "name": "capital",
         "rawType": "object",
         "type": "string"
        },
        {
         "name": "densidad",
         "rawType": "float64",
         "type": "float"
        }
       ],
       "ref": "f86c0b4c-05ed-4ed5-9a6c-63a09b1217dd",
       "rows": [
        [
         "0",
         "Belgica",
         "11.3",
         "30510",
         "Bruselas",
         "0.0003703703703703704"
        ],
        [
         "1",
         "Francia",
         "64.3",
         "671308",
         "Paris",
         "9.578315765639617e-05"
        ],
        [
         "2",
         "Alemania",
         "81.3",
         "357050",
         "Berlin",
         "0.00022769920179246603"
        ],
        [
         "3",
         "Holanda",
         "16.9",
         "41526",
         "Amsterdam",
         "0.00040697394403506234"
        ],
        [
         "4",
         "Inglaterra",
         "64.9",
         "244820",
         "Londres",
         "0.0002650927211829099"
        ],
        [
         "5",
         "Argentina",
         "12.1",
         "300163",
         "Buenos Aires",
         "4.031143078927116e-05"
        ],
        [
         "6",
         "Mexico",
         "103.2",
         "1960573",
         "Ciudad de Mexico",
         "5.263767276199356e-05"
        ]
       ],
       "shape": {
        "columns": 5,
        "rows": 7
       }
      },
      "text/html": [
       "<div>\n",
       "<style scoped>\n",
       "    .dataframe tbody tr th:only-of-type {\n",
       "        vertical-align: middle;\n",
       "    }\n",
       "\n",
       "    .dataframe tbody tr th {\n",
       "        vertical-align: top;\n",
       "    }\n",
       "\n",
       "    .dataframe thead th {\n",
       "        text-align: right;\n",
       "    }\n",
       "</style>\n",
       "<table border=\"1\" class=\"dataframe\">\n",
       "  <thead>\n",
       "    <tr style=\"text-align: right;\">\n",
       "      <th></th>\n",
       "      <th>pais</th>\n",
       "      <th>poblacion</th>\n",
       "      <th>area</th>\n",
       "      <th>capital</th>\n",
       "      <th>densidad</th>\n",
       "    </tr>\n",
       "  </thead>\n",
       "  <tbody>\n",
       "    <tr>\n",
       "      <th>0</th>\n",
       "      <td>Belgica</td>\n",
       "      <td>11.3</td>\n",
       "      <td>30510</td>\n",
       "      <td>Bruselas</td>\n",
       "      <td>0.000370</td>\n",
       "    </tr>\n",
       "    <tr>\n",
       "      <th>1</th>\n",
       "      <td>Francia</td>\n",
       "      <td>64.3</td>\n",
       "      <td>671308</td>\n",
       "      <td>Paris</td>\n",
       "      <td>0.000096</td>\n",
       "    </tr>\n",
       "    <tr>\n",
       "      <th>2</th>\n",
       "      <td>Alemania</td>\n",
       "      <td>81.3</td>\n",
       "      <td>357050</td>\n",
       "      <td>Berlin</td>\n",
       "      <td>0.000228</td>\n",
       "    </tr>\n",
       "    <tr>\n",
       "      <th>3</th>\n",
       "      <td>Holanda</td>\n",
       "      <td>16.9</td>\n",
       "      <td>41526</td>\n",
       "      <td>Amsterdam</td>\n",
       "      <td>0.000407</td>\n",
       "    </tr>\n",
       "    <tr>\n",
       "      <th>4</th>\n",
       "      <td>Inglaterra</td>\n",
       "      <td>64.9</td>\n",
       "      <td>244820</td>\n",
       "      <td>Londres</td>\n",
       "      <td>0.000265</td>\n",
       "    </tr>\n",
       "    <tr>\n",
       "      <th>5</th>\n",
       "      <td>Argentina</td>\n",
       "      <td>12.1</td>\n",
       "      <td>300163</td>\n",
       "      <td>Buenos Aires</td>\n",
       "      <td>0.000040</td>\n",
       "    </tr>\n",
       "    <tr>\n",
       "      <th>6</th>\n",
       "      <td>Mexico</td>\n",
       "      <td>103.2</td>\n",
       "      <td>1960573</td>\n",
       "      <td>Ciudad de Mexico</td>\n",
       "      <td>0.000053</td>\n",
       "    </tr>\n",
       "  </tbody>\n",
       "</table>\n",
       "</div>"
      ],
      "text/plain": [
       "         pais  poblacion     area           capital  densidad\n",
       "0     Belgica       11.3    30510          Bruselas  0.000370\n",
       "1     Francia       64.3   671308             Paris  0.000096\n",
       "2    Alemania       81.3   357050            Berlin  0.000228\n",
       "3     Holanda       16.9    41526         Amsterdam  0.000407\n",
       "4  Inglaterra       64.9   244820           Londres  0.000265\n",
       "5   Argentina       12.1   300163      Buenos Aires  0.000040\n",
       "6      Mexico      103.2  1960573  Ciudad de Mexico  0.000053"
      ]
     },
     "execution_count": 5,
     "metadata": {},
     "output_type": "execute_result"
    }
   ],
   "source": [
    "#Encontrar la densidad poblacional en el DataFrame paises\n",
    "paises[\"densidad\"] = paises[\"poblacion\"]/paises[\"area\"]\n",
    "paises"
   ]
  },
  {
   "cell_type": "code",
   "execution_count": 6,
   "metadata": {},
   "outputs": [
    {
     "data": {
      "application/vnd.microsoft.datawrangler.viewer.v0+json": {
       "columns": [
        {
         "name": "index",
         "rawType": "int64",
         "type": "integer"
        },
        {
         "name": "poblacion",
         "rawType": "float64",
         "type": "float"
        }
       ],
       "ref": "ff0366fa-f677-4c79-a188-726213702ab8",
       "rows": [
        [
         "0",
         "2.424802725718295"
        ],
        [
         "1",
         "4.163559631243574"
        ],
        [
         "2",
         "4.398146016553765"
        ],
        [
         "3",
         "2.8273136219290276"
        ],
        [
         "4",
         "4.1728476237100445"
        ],
        [
         "5",
         "2.4932054526026954"
        ],
        [
         "6",
         "4.636668853047462"
        ]
       ],
       "shape": {
        "columns": 1,
        "rows": 7
       }
      },
      "text/plain": [
       "0    2.424803\n",
       "1    4.163560\n",
       "2    4.398146\n",
       "3    2.827314\n",
       "4    4.172848\n",
       "5    2.493205\n",
       "6    4.636669\n",
       "Name: poblacion, dtype: float64"
      ]
     },
     "execution_count": 6,
     "metadata": {},
     "output_type": "execute_result"
    }
   ],
   "source": [
    "#Obtener el logaritmo del valor de la población en el DataFrame countries\n",
    "np.log(paises[\"poblacion\"])"
   ]
  },
  {
   "cell_type": "code",
   "execution_count": 7,
   "metadata": {},
   "outputs": [
    {
     "data": {
      "application/vnd.microsoft.datawrangler.viewer.v0+json": {
       "columns": [
        {
         "name": "index",
         "rawType": "int64",
         "type": "integer"
        },
        {
         "name": "pais",
         "rawType": "object",
         "type": "string"
        },
        {
         "name": "poblacion",
         "rawType": "float64",
         "type": "float"
        },
        {
         "name": "area",
         "rawType": "int64",
         "type": "integer"
        },
        {
         "name": "capital",
         "rawType": "object",
         "type": "string"
        },
        {
         "name": "densidad",
         "rawType": "float64",
         "type": "float"
        },
        {
         "name": "log_poblacion",
         "rawType": "float64",
         "type": "float"
        }
       ],
       "ref": "af1f2277-e4ba-4214-aa75-c83488d4b63c",
       "rows": [
        [
         "0",
         "Belgica",
         "11.3",
         "30510",
         "Bruselas",
         "0.0003703703703703704",
         "2.424802725718295"
        ],
        [
         "1",
         "Francia",
         "64.3",
         "671308",
         "Paris",
         "9.578315765639617e-05",
         "4.163559631243574"
        ],
        [
         "2",
         "Alemania",
         "81.3",
         "357050",
         "Berlin",
         "0.00022769920179246603",
         "4.398146016553765"
        ],
        [
         "3",
         "Holanda",
         "16.9",
         "41526",
         "Amsterdam",
         "0.00040697394403506234",
         "2.8273136219290276"
        ],
        [
         "4",
         "Inglaterra",
         "64.9",
         "244820",
         "Londres",
         "0.0002650927211829099",
         "4.1728476237100445"
        ],
        [
         "5",
         "Argentina",
         "12.1",
         "300163",
         "Buenos Aires",
         "4.031143078927116e-05",
         "2.4932054526026954"
        ],
        [
         "6",
         "Mexico",
         "103.2",
         "1960573",
         "Ciudad de Mexico",
         "5.263767276199356e-05",
         "4.636668853047462"
        ]
       ],
       "shape": {
        "columns": 6,
        "rows": 7
       }
      },
      "text/html": [
       "<div>\n",
       "<style scoped>\n",
       "    .dataframe tbody tr th:only-of-type {\n",
       "        vertical-align: middle;\n",
       "    }\n",
       "\n",
       "    .dataframe tbody tr th {\n",
       "        vertical-align: top;\n",
       "    }\n",
       "\n",
       "    .dataframe thead th {\n",
       "        text-align: right;\n",
       "    }\n",
       "</style>\n",
       "<table border=\"1\" class=\"dataframe\">\n",
       "  <thead>\n",
       "    <tr style=\"text-align: right;\">\n",
       "      <th></th>\n",
       "      <th>pais</th>\n",
       "      <th>poblacion</th>\n",
       "      <th>area</th>\n",
       "      <th>capital</th>\n",
       "      <th>densidad</th>\n",
       "      <th>log_poblacion</th>\n",
       "    </tr>\n",
       "  </thead>\n",
       "  <tbody>\n",
       "    <tr>\n",
       "      <th>0</th>\n",
       "      <td>Belgica</td>\n",
       "      <td>11.3</td>\n",
       "      <td>30510</td>\n",
       "      <td>Bruselas</td>\n",
       "      <td>0.000370</td>\n",
       "      <td>2.424803</td>\n",
       "    </tr>\n",
       "    <tr>\n",
       "      <th>1</th>\n",
       "      <td>Francia</td>\n",
       "      <td>64.3</td>\n",
       "      <td>671308</td>\n",
       "      <td>Paris</td>\n",
       "      <td>0.000096</td>\n",
       "      <td>4.163560</td>\n",
       "    </tr>\n",
       "    <tr>\n",
       "      <th>2</th>\n",
       "      <td>Alemania</td>\n",
       "      <td>81.3</td>\n",
       "      <td>357050</td>\n",
       "      <td>Berlin</td>\n",
       "      <td>0.000228</td>\n",
       "      <td>4.398146</td>\n",
       "    </tr>\n",
       "    <tr>\n",
       "      <th>3</th>\n",
       "      <td>Holanda</td>\n",
       "      <td>16.9</td>\n",
       "      <td>41526</td>\n",
       "      <td>Amsterdam</td>\n",
       "      <td>0.000407</td>\n",
       "      <td>2.827314</td>\n",
       "    </tr>\n",
       "    <tr>\n",
       "      <th>4</th>\n",
       "      <td>Inglaterra</td>\n",
       "      <td>64.9</td>\n",
       "      <td>244820</td>\n",
       "      <td>Londres</td>\n",
       "      <td>0.000265</td>\n",
       "      <td>4.172848</td>\n",
       "    </tr>\n",
       "    <tr>\n",
       "      <th>5</th>\n",
       "      <td>Argentina</td>\n",
       "      <td>12.1</td>\n",
       "      <td>300163</td>\n",
       "      <td>Buenos Aires</td>\n",
       "      <td>0.000040</td>\n",
       "      <td>2.493205</td>\n",
       "    </tr>\n",
       "    <tr>\n",
       "      <th>6</th>\n",
       "      <td>Mexico</td>\n",
       "      <td>103.2</td>\n",
       "      <td>1960573</td>\n",
       "      <td>Ciudad de Mexico</td>\n",
       "      <td>0.000053</td>\n",
       "      <td>4.636669</td>\n",
       "    </tr>\n",
       "  </tbody>\n",
       "</table>\n",
       "</div>"
      ],
      "text/plain": [
       "         pais  poblacion     area           capital  densidad  log_poblacion\n",
       "0     Belgica       11.3    30510          Bruselas  0.000370       2.424803\n",
       "1     Francia       64.3   671308             Paris  0.000096       4.163560\n",
       "2    Alemania       81.3   357050            Berlin  0.000228       4.398146\n",
       "3     Holanda       16.9    41526         Amsterdam  0.000407       2.827314\n",
       "4  Inglaterra       64.9   244820           Londres  0.000265       4.172848\n",
       "5   Argentina       12.1   300163      Buenos Aires  0.000040       2.493205\n",
       "6      Mexico      103.2  1960573  Ciudad de Mexico  0.000053       4.636669"
      ]
     },
     "execution_count": 7,
     "metadata": {},
     "output_type": "execute_result"
    }
   ],
   "source": [
    "#Agregar los valores de la evaluación del logaritmo como una nueva columna \"log_poblacion\"\n",
    "paises[\"log_poblacion\"] = np.log(paises[\"poblacion\"])\n",
    "paises"
   ]
  },
  {
   "cell_type": "code",
   "execution_count": 8,
   "metadata": {},
   "outputs": [
    {
     "data": {
      "text/plain": [
       "Index(['pais', 'poblacion', 'area', 'capital', 'densidad', 'log_poblacion'], dtype='object')"
      ]
     },
     "execution_count": 8,
     "metadata": {},
     "output_type": "execute_result"
    }
   ],
   "source": [
    "#Mostrar las columnas del  DataFrame paises\n",
    "paises.columns"
   ]
  },
  {
   "cell_type": "code",
   "execution_count": 9,
   "metadata": {},
   "outputs": [
    {
     "data": {
      "application/vnd.microsoft.datawrangler.viewer.v0+json": {
       "columns": [
        {
         "name": "index",
         "rawType": "int64",
         "type": "integer"
        },
        {
         "name": "pais",
         "rawType": "object",
         "type": "string"
        },
        {
         "name": "poblacion",
         "rawType": "float64",
         "type": "float"
        },
        {
         "name": "area",
         "rawType": "int64",
         "type": "integer"
        },
        {
         "name": "capital",
         "rawType": "object",
         "type": "string"
        },
        {
         "name": "densidad",
         "rawType": "float64",
         "type": "float"
        },
        {
         "name": "log_poblacion",
         "rawType": "float64",
         "type": "float"
        }
       ],
       "ref": "0b9d6dd9-8543-4407-9218-e881c715df5b",
       "rows": [
        [
         "1",
         "Francia",
         "64.3",
         "671308",
         "Paris",
         "9.578315765639617e-05",
         "4.163559631243574"
        ],
        [
         "2",
         "Alemania",
         "81.3",
         "357050",
         "Berlin",
         "0.00022769920179246603",
         "4.398146016553765"
        ],
        [
         "4",
         "Inglaterra",
         "64.9",
         "244820",
         "Londres",
         "0.0002650927211829099",
         "4.1728476237100445"
        ],
        [
         "6",
         "Mexico",
         "103.2",
         "1960573",
         "Ciudad de Mexico",
         "5.263767276199356e-05",
         "4.636668853047462"
        ]
       ],
       "shape": {
        "columns": 6,
        "rows": 4
       }
      },
      "text/html": [
       "<div>\n",
       "<style scoped>\n",
       "    .dataframe tbody tr th:only-of-type {\n",
       "        vertical-align: middle;\n",
       "    }\n",
       "\n",
       "    .dataframe tbody tr th {\n",
       "        vertical-align: top;\n",
       "    }\n",
       "\n",
       "    .dataframe thead th {\n",
       "        text-align: right;\n",
       "    }\n",
       "</style>\n",
       "<table border=\"1\" class=\"dataframe\">\n",
       "  <thead>\n",
       "    <tr style=\"text-align: right;\">\n",
       "      <th></th>\n",
       "      <th>pais</th>\n",
       "      <th>poblacion</th>\n",
       "      <th>area</th>\n",
       "      <th>capital</th>\n",
       "      <th>densidad</th>\n",
       "      <th>log_poblacion</th>\n",
       "    </tr>\n",
       "  </thead>\n",
       "  <tbody>\n",
       "    <tr>\n",
       "      <th>1</th>\n",
       "      <td>Francia</td>\n",
       "      <td>64.3</td>\n",
       "      <td>671308</td>\n",
       "      <td>Paris</td>\n",
       "      <td>0.000096</td>\n",
       "      <td>4.163560</td>\n",
       "    </tr>\n",
       "    <tr>\n",
       "      <th>2</th>\n",
       "      <td>Alemania</td>\n",
       "      <td>81.3</td>\n",
       "      <td>357050</td>\n",
       "      <td>Berlin</td>\n",
       "      <td>0.000228</td>\n",
       "      <td>4.398146</td>\n",
       "    </tr>\n",
       "    <tr>\n",
       "      <th>4</th>\n",
       "      <td>Inglaterra</td>\n",
       "      <td>64.9</td>\n",
       "      <td>244820</td>\n",
       "      <td>Londres</td>\n",
       "      <td>0.000265</td>\n",
       "      <td>4.172848</td>\n",
       "    </tr>\n",
       "    <tr>\n",
       "      <th>6</th>\n",
       "      <td>Mexico</td>\n",
       "      <td>103.2</td>\n",
       "      <td>1960573</td>\n",
       "      <td>Ciudad de Mexico</td>\n",
       "      <td>0.000053</td>\n",
       "      <td>4.636669</td>\n",
       "    </tr>\n",
       "  </tbody>\n",
       "</table>\n",
       "</div>"
      ],
      "text/plain": [
       "         pais  poblacion     area           capital  densidad  log_poblacion\n",
       "1     Francia       64.3   671308             Paris  0.000096       4.163560\n",
       "2    Alemania       81.3   357050            Berlin  0.000228       4.398146\n",
       "4  Inglaterra       64.9   244820           Londres  0.000265       4.172848\n",
       "6      Mexico      103.2  1960573  Ciudad de Mexico  0.000053       4.636669"
      ]
     },
     "execution_count": 9,
     "metadata": {},
     "output_type": "execute_result"
    }
   ],
   "source": [
    "#Mostrar cuales de ellos tienen una población mayor a los 40 (millones)\n",
    "paises[paises[\"poblacion\"] > 40]"
   ]
  },
  {
   "cell_type": "code",
   "execution_count": 10,
   "metadata": {},
   "outputs": [
    {
     "data": {
      "application/vnd.microsoft.datawrangler.viewer.v0+json": {
       "columns": [
        {
         "name": "index",
         "rawType": "int64",
         "type": "integer"
        },
        {
         "name": "pais",
         "rawType": "object",
         "type": "string"
        },
        {
         "name": "capital",
         "rawType": "object",
         "type": "string"
        }
       ],
       "ref": "e0b6bd42-c7b2-4e88-a1a9-3f97707ce15b",
       "rows": [
        [
         "0",
         "Belgica",
         "Bruselas"
        ],
        [
         "1",
         "Francia",
         "Paris"
        ],
        [
         "2",
         "Alemania",
         "Berlin"
        ],
        [
         "3",
         "Holanda",
         "Amsterdam"
        ],
        [
         "4",
         "Inglaterra",
         "Londres"
        ],
        [
         "5",
         "Argentina",
         "Buenos Aires"
        ],
        [
         "6",
         "Mexico",
         "Ciudad de Mexico"
        ]
       ],
       "shape": {
        "columns": 2,
        "rows": 7
       }
      },
      "text/html": [
       "<div>\n",
       "<style scoped>\n",
       "    .dataframe tbody tr th:only-of-type {\n",
       "        vertical-align: middle;\n",
       "    }\n",
       "\n",
       "    .dataframe tbody tr th {\n",
       "        vertical-align: top;\n",
       "    }\n",
       "\n",
       "    .dataframe thead th {\n",
       "        text-align: right;\n",
       "    }\n",
       "</style>\n",
       "<table border=\"1\" class=\"dataframe\">\n",
       "  <thead>\n",
       "    <tr style=\"text-align: right;\">\n",
       "      <th></th>\n",
       "      <th>pais</th>\n",
       "      <th>capital</th>\n",
       "    </tr>\n",
       "  </thead>\n",
       "  <tbody>\n",
       "    <tr>\n",
       "      <th>0</th>\n",
       "      <td>Belgica</td>\n",
       "      <td>Bruselas</td>\n",
       "    </tr>\n",
       "    <tr>\n",
       "      <th>1</th>\n",
       "      <td>Francia</td>\n",
       "      <td>Paris</td>\n",
       "    </tr>\n",
       "    <tr>\n",
       "      <th>2</th>\n",
       "      <td>Alemania</td>\n",
       "      <td>Berlin</td>\n",
       "    </tr>\n",
       "    <tr>\n",
       "      <th>3</th>\n",
       "      <td>Holanda</td>\n",
       "      <td>Amsterdam</td>\n",
       "    </tr>\n",
       "    <tr>\n",
       "      <th>4</th>\n",
       "      <td>Inglaterra</td>\n",
       "      <td>Londres</td>\n",
       "    </tr>\n",
       "    <tr>\n",
       "      <th>5</th>\n",
       "      <td>Argentina</td>\n",
       "      <td>Buenos Aires</td>\n",
       "    </tr>\n",
       "    <tr>\n",
       "      <th>6</th>\n",
       "      <td>Mexico</td>\n",
       "      <td>Ciudad de Mexico</td>\n",
       "    </tr>\n",
       "  </tbody>\n",
       "</table>\n",
       "</div>"
      ],
      "text/plain": [
       "         pais           capital\n",
       "0     Belgica          Bruselas\n",
       "1     Francia             Paris\n",
       "2    Alemania            Berlin\n",
       "3     Holanda         Amsterdam\n",
       "4  Inglaterra           Londres\n",
       "5   Argentina      Buenos Aires\n",
       "6      Mexico  Ciudad de Mexico"
      ]
     },
     "execution_count": 10,
     "metadata": {},
     "output_type": "execute_result"
    }
   ],
   "source": [
    "#Mostrar el dataframe solo con las columnas 'pais'  y 'capital'\n",
    "paises[[\"pais\", \"capital\"]]"
   ]
  },
  {
   "cell_type": "markdown",
   "metadata": {},
   "source": [
    "Cuando requiere de una operación especial en los elementos puede hacerlo con ``apply(OPERACIÓN)``, en donde será necesario definir la  operación a través de la función deseada"
   ]
  },
  {
   "cell_type": "code",
   "execution_count": 11,
   "metadata": {},
   "outputs": [],
   "source": [
    "# Agregar una columna que indique si el país es pequeño o grande en población (>50). \n",
    "# Defina una función llamada etiqueta_poblacion que regrese la etiqueta\n",
    "\n",
    "def etiqueta_poblacion(a):\n",
    "    if a > 50:\n",
    "        return \"grande\"\n",
    "    else:\n",
    "        return \"pequeño\""
   ]
  },
  {
   "cell_type": "code",
   "execution_count": 12,
   "metadata": {},
   "outputs": [
    {
     "data": {
      "application/vnd.microsoft.datawrangler.viewer.v0+json": {
       "columns": [
        {
         "name": "index",
         "rawType": "int64",
         "type": "integer"
        },
        {
         "name": "poblacion",
         "rawType": "object",
         "type": "string"
        }
       ],
       "ref": "bf53e789-cdf0-49c9-b6a9-fde3724dc089",
       "rows": [
        [
         "0",
         "pequeño"
        ],
        [
         "1",
         "grande"
        ],
        [
         "2",
         "grande"
        ],
        [
         "3",
         "pequeño"
        ],
        [
         "4",
         "grande"
        ],
        [
         "5",
         "pequeño"
        ],
        [
         "6",
         "grande"
        ]
       ],
       "shape": {
        "columns": 1,
        "rows": 7
       }
      },
      "text/plain": [
       "0    pequeño\n",
       "1     grande\n",
       "2     grande\n",
       "3    pequeño\n",
       "4     grande\n",
       "5    pequeño\n",
       "6     grande\n",
       "Name: poblacion, dtype: object"
      ]
     },
     "execution_count": 12,
     "metadata": {},
     "output_type": "execute_result"
    }
   ],
   "source": [
    "paises[\"poblacion\"].apply(etiqueta_poblacion)"
   ]
  },
  {
   "cell_type": "code",
   "execution_count": 13,
   "metadata": {},
   "outputs": [],
   "source": [
    "paises[\"etiqueta_poblacional\"] = paises[\"poblacion\"].apply(etiqueta_poblacion)"
   ]
  },
  {
   "cell_type": "code",
   "execution_count": 14,
   "metadata": {},
   "outputs": [
    {
     "data": {
      "application/vnd.microsoft.datawrangler.viewer.v0+json": {
       "columns": [
        {
         "name": "index",
         "rawType": "int64",
         "type": "integer"
        },
        {
         "name": "pais",
         "rawType": "object",
         "type": "string"
        },
        {
         "name": "poblacion",
         "rawType": "float64",
         "type": "float"
        },
        {
         "name": "area",
         "rawType": "int64",
         "type": "integer"
        },
        {
         "name": "capital",
         "rawType": "object",
         "type": "string"
        },
        {
         "name": "densidad",
         "rawType": "float64",
         "type": "float"
        },
        {
         "name": "log_poblacion",
         "rawType": "float64",
         "type": "float"
        },
        {
         "name": "etiqueta_poblacional",
         "rawType": "object",
         "type": "string"
        }
       ],
       "ref": "65956a9a-6986-45a6-b651-e5e324d9ab82",
       "rows": [
        [
         "0",
         "Belgica",
         "11.3",
         "30510",
         "Bruselas",
         "0.0003703703703703704",
         "2.424802725718295",
         "pequeño"
        ],
        [
         "1",
         "Francia",
         "64.3",
         "671308",
         "Paris",
         "9.578315765639617e-05",
         "4.163559631243574",
         "grande"
        ],
        [
         "2",
         "Alemania",
         "81.3",
         "357050",
         "Berlin",
         "0.00022769920179246603",
         "4.398146016553765",
         "grande"
        ],
        [
         "3",
         "Holanda",
         "16.9",
         "41526",
         "Amsterdam",
         "0.00040697394403506234",
         "2.8273136219290276",
         "pequeño"
        ],
        [
         "4",
         "Inglaterra",
         "64.9",
         "244820",
         "Londres",
         "0.0002650927211829099",
         "4.1728476237100445",
         "grande"
        ],
        [
         "5",
         "Argentina",
         "12.1",
         "300163",
         "Buenos Aires",
         "4.031143078927116e-05",
         "2.4932054526026954",
         "pequeño"
        ],
        [
         "6",
         "Mexico",
         "103.2",
         "1960573",
         "Ciudad de Mexico",
         "5.263767276199356e-05",
         "4.636668853047462",
         "grande"
        ]
       ],
       "shape": {
        "columns": 7,
        "rows": 7
       }
      },
      "text/html": [
       "<div>\n",
       "<style scoped>\n",
       "    .dataframe tbody tr th:only-of-type {\n",
       "        vertical-align: middle;\n",
       "    }\n",
       "\n",
       "    .dataframe tbody tr th {\n",
       "        vertical-align: top;\n",
       "    }\n",
       "\n",
       "    .dataframe thead th {\n",
       "        text-align: right;\n",
       "    }\n",
       "</style>\n",
       "<table border=\"1\" class=\"dataframe\">\n",
       "  <thead>\n",
       "    <tr style=\"text-align: right;\">\n",
       "      <th></th>\n",
       "      <th>pais</th>\n",
       "      <th>poblacion</th>\n",
       "      <th>area</th>\n",
       "      <th>capital</th>\n",
       "      <th>densidad</th>\n",
       "      <th>log_poblacion</th>\n",
       "      <th>etiqueta_poblacional</th>\n",
       "    </tr>\n",
       "  </thead>\n",
       "  <tbody>\n",
       "    <tr>\n",
       "      <th>0</th>\n",
       "      <td>Belgica</td>\n",
       "      <td>11.3</td>\n",
       "      <td>30510</td>\n",
       "      <td>Bruselas</td>\n",
       "      <td>0.000370</td>\n",
       "      <td>2.424803</td>\n",
       "      <td>pequeño</td>\n",
       "    </tr>\n",
       "    <tr>\n",
       "      <th>1</th>\n",
       "      <td>Francia</td>\n",
       "      <td>64.3</td>\n",
       "      <td>671308</td>\n",
       "      <td>Paris</td>\n",
       "      <td>0.000096</td>\n",
       "      <td>4.163560</td>\n",
       "      <td>grande</td>\n",
       "    </tr>\n",
       "    <tr>\n",
       "      <th>2</th>\n",
       "      <td>Alemania</td>\n",
       "      <td>81.3</td>\n",
       "      <td>357050</td>\n",
       "      <td>Berlin</td>\n",
       "      <td>0.000228</td>\n",
       "      <td>4.398146</td>\n",
       "      <td>grande</td>\n",
       "    </tr>\n",
       "    <tr>\n",
       "      <th>3</th>\n",
       "      <td>Holanda</td>\n",
       "      <td>16.9</td>\n",
       "      <td>41526</td>\n",
       "      <td>Amsterdam</td>\n",
       "      <td>0.000407</td>\n",
       "      <td>2.827314</td>\n",
       "      <td>pequeño</td>\n",
       "    </tr>\n",
       "    <tr>\n",
       "      <th>4</th>\n",
       "      <td>Inglaterra</td>\n",
       "      <td>64.9</td>\n",
       "      <td>244820</td>\n",
       "      <td>Londres</td>\n",
       "      <td>0.000265</td>\n",
       "      <td>4.172848</td>\n",
       "      <td>grande</td>\n",
       "    </tr>\n",
       "    <tr>\n",
       "      <th>5</th>\n",
       "      <td>Argentina</td>\n",
       "      <td>12.1</td>\n",
       "      <td>300163</td>\n",
       "      <td>Buenos Aires</td>\n",
       "      <td>0.000040</td>\n",
       "      <td>2.493205</td>\n",
       "      <td>pequeño</td>\n",
       "    </tr>\n",
       "    <tr>\n",
       "      <th>6</th>\n",
       "      <td>Mexico</td>\n",
       "      <td>103.2</td>\n",
       "      <td>1960573</td>\n",
       "      <td>Ciudad de Mexico</td>\n",
       "      <td>0.000053</td>\n",
       "      <td>4.636669</td>\n",
       "      <td>grande</td>\n",
       "    </tr>\n",
       "  </tbody>\n",
       "</table>\n",
       "</div>"
      ],
      "text/plain": [
       "         pais  poblacion     area           capital  densidad  log_poblacion  \\\n",
       "0     Belgica       11.3    30510          Bruselas  0.000370       2.424803   \n",
       "1     Francia       64.3   671308             Paris  0.000096       4.163560   \n",
       "2    Alemania       81.3   357050            Berlin  0.000228       4.398146   \n",
       "3     Holanda       16.9    41526         Amsterdam  0.000407       2.827314   \n",
       "4  Inglaterra       64.9   244820           Londres  0.000265       4.172848   \n",
       "5   Argentina       12.1   300163      Buenos Aires  0.000040       2.493205   \n",
       "6      Mexico      103.2  1960573  Ciudad de Mexico  0.000053       4.636669   \n",
       "\n",
       "  etiqueta_poblacional  \n",
       "0              pequeño  \n",
       "1               grande  \n",
       "2               grande  \n",
       "3              pequeño  \n",
       "4               grande  \n",
       "5              pequeño  \n",
       "6               grande  "
      ]
     },
     "execution_count": 14,
     "metadata": {},
     "output_type": "execute_result"
    }
   ],
   "source": [
    "#Agregar la columna etiqueta_poblacional con el resultado de aplicar la funcion etiqueta_poblacion\n",
    "paises"
   ]
  },
  {
   "cell_type": "markdown",
   "metadata": {},
   "source": [
    "## Agregaciones (reducciones)"
   ]
  },
  {
   "cell_type": "markdown",
   "metadata": {},
   "source": [
    "Pandas proporciona un amplio conjunto de funciones de _**resumen**_ que operan en diferentes tipos de objetos de pandas (DataFrames y Series) y producen un valor único. Cuando se aplica a un *DataFrame*, el resultado se retorna como una Serie de Pandas (un valor para cada columna)."
   ]
  },
  {
   "cell_type": "code",
   "execution_count": 15,
   "metadata": {},
   "outputs": [
    {
     "data": {
      "text/plain": [
       "np.float64(50.57142857142857)"
      ]
     },
     "execution_count": 15,
     "metadata": {},
     "output_type": "execute_result"
    }
   ],
   "source": [
    "#Utilizando la Serie de poblacion, podemos encontrar su promedio usando mean():\n",
    "poblacion.mean()"
   ]
  },
  {
   "cell_type": "code",
   "execution_count": 16,
   "metadata": {
    "run_control": {
     "frozen": false,
     "read_only": false
    }
   },
   "outputs": [
    {
     "data": {
      "application/vnd.microsoft.datawrangler.viewer.v0+json": {
       "columns": [
        {
         "name": "index",
         "rawType": "object",
         "type": "string"
        },
        {
         "name": "0",
         "rawType": "float64",
         "type": "float"
        }
       ],
       "ref": "d2a46363-bdec-4030-a980-250f836bf0e2",
       "rows": [
        [
         "poblacion",
         "64.3"
        ],
        [
         "area",
         "300163.0"
        ],
        [
         "densidad",
         "0.00022769920179246603"
        ],
        [
         "log_poblacion",
         "4.163559631243574"
        ]
       ],
       "shape": {
        "columns": 1,
        "rows": 4
       }
      },
      "text/plain": [
       "poblacion            64.300000\n",
       "area             300163.000000\n",
       "densidad              0.000228\n",
       "log_poblacion         4.163560\n",
       "dtype: float64"
      ]
     },
     "execution_count": 16,
     "metadata": {},
     "output_type": "execute_result"
    }
   ],
   "source": [
    "#Aplicar la mediana al DataFrame paises\n",
    "paises.median(numeric_only = True)"
   ]
  },
  {
   "cell_type": "code",
   "execution_count": 17,
   "metadata": {},
   "outputs": [
    {
     "data": {
      "text/plain": [
       "np.int64(30510)"
      ]
     },
     "execution_count": 17,
     "metadata": {},
     "output_type": "execute_result"
    }
   ],
   "source": [
    "#Podemos encontrar el pais con con area mas pequeña usando min():\n",
    "paises[\"area\"].min()"
   ]
  },
  {
   "cell_type": "markdown",
   "metadata": {},
   "source": [
    "La siguiente tabla resume algunas otras agregaciones integradas de Pandas:\n",
    "\n",
    "| Aggregation              | Description                     |\n",
    "|--------------------------|---------------------------------|\n",
    "| ``count()``              | Total number of items           |\n",
    "| ``first()``, ``last()``  | First and last item             |\n",
    "| ``mean()``, ``median()`` | Mean and median                 |\n",
    "| ``min()``, ``max()``     | Minimum and maximum             |\n",
    "| ``std()``, ``var()``     | Standard deviation and variance |\n",
    "| ``mad()``                | Mean absolute deviation         |\n",
    "| ``prod()``               | Product of all items            |\n",
    "| ``sum()``                | Sum of all items                |\n",
    "\n",
    "Todos estos son funcionan en *DataFrames* y *Series*.\n"
   ]
  },
  {
   "cell_type": "markdown",
   "metadata": {},
   "source": [
    "Hay una función de muy útil, ``describe()`` , que calcula varios parámetros estadísticos  para cada columna y devuelve el resultado."
   ]
  },
  {
   "cell_type": "code",
   "execution_count": 18,
   "metadata": {},
   "outputs": [
    {
     "data": {
      "application/vnd.microsoft.datawrangler.viewer.v0+json": {
       "columns": [
        {
         "name": "index",
         "rawType": "object",
         "type": "string"
        },
        {
         "name": "poblacion",
         "rawType": "float64",
         "type": "float"
        },
        {
         "name": "area",
         "rawType": "float64",
         "type": "float"
        },
        {
         "name": "densidad",
         "rawType": "float64",
         "type": "float"
        },
        {
         "name": "log_poblacion",
         "rawType": "float64",
         "type": "float"
        }
       ],
       "ref": "d4e93c0c-5690-4460-b92a-e63f3000d1e0",
       "rows": [
        [
         "count",
         "7.0",
         "7.0",
         "7.0",
         "7.0"
        ],
        [
         "mean",
         "50.57142857142857",
         "515135.71428571426",
         "0.00020840978551263853",
         "3.588077703543551"
        ],
        [
         "std",
         "37.11211456679675",
         "672944.0195278045",
         "0.00014969455464799235",
         "0.962601101788919"
        ],
        [
         "min",
         "11.3",
         "30510.0",
         "4.031143078927116e-05",
         "2.424802725718295"
        ],
        [
         "25%",
         "14.5",
         "143173.0",
         "7.421041520919486e-05",
         "2.6602595372658615"
        ],
        [
         "50%",
         "64.3",
         "300163.0",
         "0.00022769920179246603",
         "4.163559631243574"
        ],
        [
         "75%",
         "73.1",
         "514179.0",
         "0.00031773154577664016",
         "4.285496820131905"
        ],
        [
         "max",
         "103.2",
         "1960573.0",
         "0.00040697394403506234",
         "4.636668853047462"
        ]
       ],
       "shape": {
        "columns": 4,
        "rows": 8
       }
      },
      "text/html": [
       "<div>\n",
       "<style scoped>\n",
       "    .dataframe tbody tr th:only-of-type {\n",
       "        vertical-align: middle;\n",
       "    }\n",
       "\n",
       "    .dataframe tbody tr th {\n",
       "        vertical-align: top;\n",
       "    }\n",
       "\n",
       "    .dataframe thead th {\n",
       "        text-align: right;\n",
       "    }\n",
       "</style>\n",
       "<table border=\"1\" class=\"dataframe\">\n",
       "  <thead>\n",
       "    <tr style=\"text-align: right;\">\n",
       "      <th></th>\n",
       "      <th>poblacion</th>\n",
       "      <th>area</th>\n",
       "      <th>densidad</th>\n",
       "      <th>log_poblacion</th>\n",
       "    </tr>\n",
       "  </thead>\n",
       "  <tbody>\n",
       "    <tr>\n",
       "      <th>count</th>\n",
       "      <td>7.000000</td>\n",
       "      <td>7.000000e+00</td>\n",
       "      <td>7.000000</td>\n",
       "      <td>7.000000</td>\n",
       "    </tr>\n",
       "    <tr>\n",
       "      <th>mean</th>\n",
       "      <td>50.571429</td>\n",
       "      <td>5.151357e+05</td>\n",
       "      <td>0.000208</td>\n",
       "      <td>3.588078</td>\n",
       "    </tr>\n",
       "    <tr>\n",
       "      <th>std</th>\n",
       "      <td>37.112115</td>\n",
       "      <td>6.729440e+05</td>\n",
       "      <td>0.000150</td>\n",
       "      <td>0.962601</td>\n",
       "    </tr>\n",
       "    <tr>\n",
       "      <th>min</th>\n",
       "      <td>11.300000</td>\n",
       "      <td>3.051000e+04</td>\n",
       "      <td>0.000040</td>\n",
       "      <td>2.424803</td>\n",
       "    </tr>\n",
       "    <tr>\n",
       "      <th>25%</th>\n",
       "      <td>14.500000</td>\n",
       "      <td>1.431730e+05</td>\n",
       "      <td>0.000074</td>\n",
       "      <td>2.660260</td>\n",
       "    </tr>\n",
       "    <tr>\n",
       "      <th>50%</th>\n",
       "      <td>64.300000</td>\n",
       "      <td>3.001630e+05</td>\n",
       "      <td>0.000228</td>\n",
       "      <td>4.163560</td>\n",
       "    </tr>\n",
       "    <tr>\n",
       "      <th>75%</th>\n",
       "      <td>73.100000</td>\n",
       "      <td>5.141790e+05</td>\n",
       "      <td>0.000318</td>\n",
       "      <td>4.285497</td>\n",
       "    </tr>\n",
       "    <tr>\n",
       "      <th>max</th>\n",
       "      <td>103.200000</td>\n",
       "      <td>1.960573e+06</td>\n",
       "      <td>0.000407</td>\n",
       "      <td>4.636669</td>\n",
       "    </tr>\n",
       "  </tbody>\n",
       "</table>\n",
       "</div>"
      ],
      "text/plain": [
       "        poblacion          area  densidad  log_poblacion\n",
       "count    7.000000  7.000000e+00  7.000000       7.000000\n",
       "mean    50.571429  5.151357e+05  0.000208       3.588078\n",
       "std     37.112115  6.729440e+05  0.000150       0.962601\n",
       "min     11.300000  3.051000e+04  0.000040       2.424803\n",
       "25%     14.500000  1.431730e+05  0.000074       2.660260\n",
       "50%     64.300000  3.001630e+05  0.000228       4.163560\n",
       "75%     73.100000  5.141790e+05  0.000318       4.285497\n",
       "max    103.200000  1.960573e+06  0.000407       4.636669"
      ]
     },
     "execution_count": 18,
     "metadata": {},
     "output_type": "execute_result"
    }
   ],
   "source": [
    "paises.describe()"
   ]
  },
  {
   "cell_type": "markdown",
   "metadata": {},
   "source": [
    "# Ejercicios con los datos del Titanic"
   ]
  },
  {
   "cell_type": "markdown",
   "metadata": {},
   "source": [
    "Descripción de las columnas :\n",
    "\n",
    "    Survival - Supervivencia (0 = No; 1 = Si).\n",
    "    Pclass - Clase (1 = 1st; 2 = 2nd; 3 = 3rd)\n",
    "    Name - Nombre\n",
    "    Sex - Sexo\n",
    "    Age - Edad\n",
    "    Sibsp - Número de hermanos / cónyuges a bordo\n",
    "    Parch - Número de padres / niños a bordo\n",
    "    Ticket - Número de ticket\n",
    "    Fare - Tarifa\n",
    "    Cabin - Número de cabina\n",
    "    Embarked - Puerto de embarque (C = Cherbourg; Q = Queenstown; S = Southampton)\n",
    "\n"
   ]
  },
  {
   "cell_type": "code",
   "execution_count": 19,
   "metadata": {},
   "outputs": [
    {
     "data": {
      "application/vnd.microsoft.datawrangler.viewer.v0+json": {
       "columns": [
        {
         "name": "index",
         "rawType": "int64",
         "type": "integer"
        },
        {
         "name": "PassengerId",
         "rawType": "int64",
         "type": "integer"
        },
        {
         "name": "Survived",
         "rawType": "int64",
         "type": "integer"
        },
        {
         "name": "Pclass",
         "rawType": "int64",
         "type": "integer"
        },
        {
         "name": "Name",
         "rawType": "object",
         "type": "string"
        },
        {
         "name": "Sex",
         "rawType": "object",
         "type": "string"
        },
        {
         "name": "Age",
         "rawType": "float64",
         "type": "float"
        },
        {
         "name": "SibSp",
         "rawType": "int64",
         "type": "integer"
        },
        {
         "name": "Parch",
         "rawType": "int64",
         "type": "integer"
        },
        {
         "name": "Ticket",
         "rawType": "object",
         "type": "string"
        },
        {
         "name": "Fare",
         "rawType": "float64",
         "type": "float"
        },
        {
         "name": "Cabin",
         "rawType": "object",
         "type": "unknown"
        },
        {
         "name": "Embarked",
         "rawType": "object",
         "type": "unknown"
        }
       ],
       "ref": "cd01bcd7-0bd8-4b33-8ab9-e7d1002a9604",
       "rows": [
        [
         "0",
         "1",
         "0",
         "3",
         "Braund, Mr. Owen Harris",
         "male",
         "22.0",
         "1",
         "0",
         "A/5 21171",
         "7.25",
         null,
         "S"
        ],
        [
         "1",
         "2",
         "1",
         "1",
         "Cumings, Mrs. John Bradley (Florence Briggs Thayer)",
         "female",
         "38.0",
         "1",
         "0",
         "PC 17599",
         "71.2833",
         "C85",
         "C"
        ],
        [
         "2",
         "3",
         "1",
         "3",
         "Heikkinen, Miss. Laina",
         "female",
         "26.0",
         "0",
         "0",
         "STON/O2. 3101282",
         "7.925",
         null,
         "S"
        ],
        [
         "3",
         "4",
         "1",
         "1",
         "Futrelle, Mrs. Jacques Heath (Lily May Peel)",
         "female",
         "35.0",
         "1",
         "0",
         "113803",
         "53.1",
         "C123",
         "S"
        ],
        [
         "4",
         "5",
         "0",
         "3",
         "Allen, Mr. William Henry",
         "male",
         "35.0",
         "0",
         "0",
         "373450",
         "8.05",
         null,
         "S"
        ],
        [
         "5",
         "6",
         "0",
         "3",
         "Moran, Mr. James",
         "male",
         null,
         "0",
         "0",
         "330877",
         "8.4583",
         null,
         "Q"
        ],
        [
         "6",
         "7",
         "0",
         "1",
         "McCarthy, Mr. Timothy J",
         "male",
         "54.0",
         "0",
         "0",
         "17463",
         "51.8625",
         "E46",
         "S"
        ],
        [
         "7",
         "8",
         "0",
         "3",
         "Palsson, Master. Gosta Leonard",
         "male",
         "2.0",
         "3",
         "1",
         "349909",
         "21.075",
         null,
         "S"
        ],
        [
         "8",
         "9",
         "1",
         "3",
         "Johnson, Mrs. Oscar W (Elisabeth Vilhelmina Berg)",
         "female",
         "27.0",
         "0",
         "2",
         "347742",
         "11.1333",
         null,
         "S"
        ],
        [
         "9",
         "10",
         "1",
         "2",
         "Nasser, Mrs. Nicholas (Adele Achem)",
         "female",
         "14.0",
         "1",
         "0",
         "237736",
         "30.0708",
         null,
         "C"
        ],
        [
         "10",
         "11",
         "1",
         "3",
         "Sandstrom, Miss. Marguerite Rut",
         "female",
         "4.0",
         "1",
         "1",
         "PP 9549",
         "16.7",
         "G6",
         "S"
        ],
        [
         "11",
         "12",
         "1",
         "1",
         "Bonnell, Miss. Elizabeth",
         "female",
         "58.0",
         "0",
         "0",
         "113783",
         "26.55",
         "C103",
         "S"
        ],
        [
         "12",
         "13",
         "0",
         "3",
         "Saundercock, Mr. William Henry",
         "male",
         "20.0",
         "0",
         "0",
         "A/5. 2151",
         "8.05",
         null,
         "S"
        ],
        [
         "13",
         "14",
         "0",
         "3",
         "Andersson, Mr. Anders Johan",
         "male",
         "39.0",
         "1",
         "5",
         "347082",
         "31.275",
         null,
         "S"
        ],
        [
         "14",
         "15",
         "0",
         "3",
         "Vestrom, Miss. Hulda Amanda Adolfina",
         "female",
         "14.0",
         "0",
         "0",
         "350406",
         "7.8542",
         null,
         "S"
        ],
        [
         "15",
         "16",
         "1",
         "2",
         "Hewlett, Mrs. (Mary D Kingcome) ",
         "female",
         "55.0",
         "0",
         "0",
         "248706",
         "16.0",
         null,
         "S"
        ],
        [
         "16",
         "17",
         "0",
         "3",
         "Rice, Master. Eugene",
         "male",
         "2.0",
         "4",
         "1",
         "382652",
         "29.125",
         null,
         "Q"
        ],
        [
         "17",
         "18",
         "1",
         "2",
         "Williams, Mr. Charles Eugene",
         "male",
         null,
         "0",
         "0",
         "244373",
         "13.0",
         null,
         "S"
        ],
        [
         "18",
         "19",
         "0",
         "3",
         "Vander Planke, Mrs. Julius (Emelia Maria Vandemoortele)",
         "female",
         "31.0",
         "1",
         "0",
         "345763",
         "18.0",
         null,
         "S"
        ],
        [
         "19",
         "20",
         "1",
         "3",
         "Masselmani, Mrs. Fatima",
         "female",
         null,
         "0",
         "0",
         "2649",
         "7.225",
         null,
         "C"
        ],
        [
         "20",
         "21",
         "0",
         "2",
         "Fynney, Mr. Joseph J",
         "male",
         "35.0",
         "0",
         "0",
         "239865",
         "26.0",
         null,
         "S"
        ],
        [
         "21",
         "22",
         "1",
         "2",
         "Beesley, Mr. Lawrence",
         "male",
         "34.0",
         "0",
         "0",
         "248698",
         "13.0",
         "D56",
         "S"
        ],
        [
         "22",
         "23",
         "1",
         "3",
         "McGowan, Miss. Anna \"Annie\"",
         "female",
         "15.0",
         "0",
         "0",
         "330923",
         "8.0292",
         null,
         "Q"
        ],
        [
         "23",
         "24",
         "1",
         "1",
         "Sloper, Mr. William Thompson",
         "male",
         "28.0",
         "0",
         "0",
         "113788",
         "35.5",
         "A6",
         "S"
        ],
        [
         "24",
         "25",
         "0",
         "3",
         "Palsson, Miss. Torborg Danira",
         "female",
         "8.0",
         "3",
         "1",
         "349909",
         "21.075",
         null,
         "S"
        ],
        [
         "25",
         "26",
         "1",
         "3",
         "Asplund, Mrs. Carl Oscar (Selma Augusta Emilia Johansson)",
         "female",
         "38.0",
         "1",
         "5",
         "347077",
         "31.3875",
         null,
         "S"
        ],
        [
         "26",
         "27",
         "0",
         "3",
         "Emir, Mr. Farred Chehab",
         "male",
         null,
         "0",
         "0",
         "2631",
         "7.225",
         null,
         "C"
        ],
        [
         "27",
         "28",
         "0",
         "1",
         "Fortune, Mr. Charles Alexander",
         "male",
         "19.0",
         "3",
         "2",
         "19950",
         "263.0",
         "C23 C25 C27",
         "S"
        ],
        [
         "28",
         "29",
         "1",
         "3",
         "O'Dwyer, Miss. Ellen \"Nellie\"",
         "female",
         null,
         "0",
         "0",
         "330959",
         "7.8792",
         null,
         "Q"
        ],
        [
         "29",
         "30",
         "0",
         "3",
         "Todoroff, Mr. Lalio",
         "male",
         null,
         "0",
         "0",
         "349216",
         "7.8958",
         null,
         "S"
        ],
        [
         "30",
         "31",
         "0",
         "1",
         "Uruchurtu, Don. Manuel E",
         "male",
         "40.0",
         "0",
         "0",
         "PC 17601",
         "27.7208",
         null,
         "C"
        ],
        [
         "31",
         "32",
         "1",
         "1",
         "Spencer, Mrs. William Augustus (Marie Eugenie)",
         "female",
         null,
         "1",
         "0",
         "PC 17569",
         "146.5208",
         "B78",
         "C"
        ],
        [
         "32",
         "33",
         "1",
         "3",
         "Glynn, Miss. Mary Agatha",
         "female",
         null,
         "0",
         "0",
         "335677",
         "7.75",
         null,
         "Q"
        ],
        [
         "33",
         "34",
         "0",
         "2",
         "Wheadon, Mr. Edward H",
         "male",
         "66.0",
         "0",
         "0",
         "C.A. 24579",
         "10.5",
         null,
         "S"
        ],
        [
         "34",
         "35",
         "0",
         "1",
         "Meyer, Mr. Edgar Joseph",
         "male",
         "28.0",
         "1",
         "0",
         "PC 17604",
         "82.1708",
         null,
         "C"
        ],
        [
         "35",
         "36",
         "0",
         "1",
         "Holverson, Mr. Alexander Oskar",
         "male",
         "42.0",
         "1",
         "0",
         "113789",
         "52.0",
         null,
         "S"
        ],
        [
         "36",
         "37",
         "1",
         "3",
         "Mamee, Mr. Hanna",
         "male",
         null,
         "0",
         "0",
         "2677",
         "7.2292",
         null,
         "C"
        ],
        [
         "37",
         "38",
         "0",
         "3",
         "Cann, Mr. Ernest Charles",
         "male",
         "21.0",
         "0",
         "0",
         "A./5. 2152",
         "8.05",
         null,
         "S"
        ],
        [
         "38",
         "39",
         "0",
         "3",
         "Vander Planke, Miss. Augusta Maria",
         "female",
         "18.0",
         "2",
         "0",
         "345764",
         "18.0",
         null,
         "S"
        ],
        [
         "39",
         "40",
         "1",
         "3",
         "Nicola-Yarred, Miss. Jamila",
         "female",
         "14.0",
         "1",
         "0",
         "2651",
         "11.2417",
         null,
         "C"
        ],
        [
         "40",
         "41",
         "0",
         "3",
         "Ahlin, Mrs. Johan (Johanna Persdotter Larsson)",
         "female",
         "40.0",
         "1",
         "0",
         "7546",
         "9.475",
         null,
         "S"
        ],
        [
         "41",
         "42",
         "0",
         "2",
         "Turpin, Mrs. William John Robert (Dorothy Ann Wonnacott)",
         "female",
         "27.0",
         "1",
         "0",
         "11668",
         "21.0",
         null,
         "S"
        ],
        [
         "42",
         "43",
         "0",
         "3",
         "Kraeff, Mr. Theodor",
         "male",
         null,
         "0",
         "0",
         "349253",
         "7.8958",
         null,
         "C"
        ],
        [
         "43",
         "44",
         "1",
         "2",
         "Laroche, Miss. Simonne Marie Anne Andree",
         "female",
         "3.0",
         "1",
         "2",
         "SC/Paris 2123",
         "41.5792",
         null,
         "C"
        ],
        [
         "44",
         "45",
         "1",
         "3",
         "Devaney, Miss. Margaret Delia",
         "female",
         "19.0",
         "0",
         "0",
         "330958",
         "7.8792",
         null,
         "Q"
        ],
        [
         "45",
         "46",
         "0",
         "3",
         "Rogers, Mr. William John",
         "male",
         null,
         "0",
         "0",
         "S.C./A.4. 23567",
         "8.05",
         null,
         "S"
        ],
        [
         "46",
         "47",
         "0",
         "3",
         "Lennon, Mr. Denis",
         "male",
         null,
         "1",
         "0",
         "370371",
         "15.5",
         null,
         "Q"
        ],
        [
         "47",
         "48",
         "1",
         "3",
         "O'Driscoll, Miss. Bridget",
         "female",
         null,
         "0",
         "0",
         "14311",
         "7.75",
         null,
         "Q"
        ],
        [
         "48",
         "49",
         "0",
         "3",
         "Samaan, Mr. Youssef",
         "male",
         null,
         "2",
         "0",
         "2662",
         "21.6792",
         null,
         "C"
        ],
        [
         "49",
         "50",
         "0",
         "3",
         "Arnold-Franchi, Mrs. Josef (Josefine Franchi)",
         "female",
         "18.0",
         "1",
         "0",
         "349237",
         "17.8",
         null,
         "S"
        ]
       ],
       "shape": {
        "columns": 12,
        "rows": 891
       }
      },
      "text/html": [
       "<div>\n",
       "<style scoped>\n",
       "    .dataframe tbody tr th:only-of-type {\n",
       "        vertical-align: middle;\n",
       "    }\n",
       "\n",
       "    .dataframe tbody tr th {\n",
       "        vertical-align: top;\n",
       "    }\n",
       "\n",
       "    .dataframe thead th {\n",
       "        text-align: right;\n",
       "    }\n",
       "</style>\n",
       "<table border=\"1\" class=\"dataframe\">\n",
       "  <thead>\n",
       "    <tr style=\"text-align: right;\">\n",
       "      <th></th>\n",
       "      <th>PassengerId</th>\n",
       "      <th>Survived</th>\n",
       "      <th>Pclass</th>\n",
       "      <th>Name</th>\n",
       "      <th>Sex</th>\n",
       "      <th>Age</th>\n",
       "      <th>SibSp</th>\n",
       "      <th>Parch</th>\n",
       "      <th>Ticket</th>\n",
       "      <th>Fare</th>\n",
       "      <th>Cabin</th>\n",
       "      <th>Embarked</th>\n",
       "    </tr>\n",
       "  </thead>\n",
       "  <tbody>\n",
       "    <tr>\n",
       "      <th>0</th>\n",
       "      <td>1</td>\n",
       "      <td>0</td>\n",
       "      <td>3</td>\n",
       "      <td>Braund, Mr. Owen Harris</td>\n",
       "      <td>male</td>\n",
       "      <td>22.0</td>\n",
       "      <td>1</td>\n",
       "      <td>0</td>\n",
       "      <td>A/5 21171</td>\n",
       "      <td>7.2500</td>\n",
       "      <td>NaN</td>\n",
       "      <td>S</td>\n",
       "    </tr>\n",
       "    <tr>\n",
       "      <th>1</th>\n",
       "      <td>2</td>\n",
       "      <td>1</td>\n",
       "      <td>1</td>\n",
       "      <td>Cumings, Mrs. John Bradley (Florence Briggs Th...</td>\n",
       "      <td>female</td>\n",
       "      <td>38.0</td>\n",
       "      <td>1</td>\n",
       "      <td>0</td>\n",
       "      <td>PC 17599</td>\n",
       "      <td>71.2833</td>\n",
       "      <td>C85</td>\n",
       "      <td>C</td>\n",
       "    </tr>\n",
       "    <tr>\n",
       "      <th>2</th>\n",
       "      <td>3</td>\n",
       "      <td>1</td>\n",
       "      <td>3</td>\n",
       "      <td>Heikkinen, Miss. Laina</td>\n",
       "      <td>female</td>\n",
       "      <td>26.0</td>\n",
       "      <td>0</td>\n",
       "      <td>0</td>\n",
       "      <td>STON/O2. 3101282</td>\n",
       "      <td>7.9250</td>\n",
       "      <td>NaN</td>\n",
       "      <td>S</td>\n",
       "    </tr>\n",
       "    <tr>\n",
       "      <th>3</th>\n",
       "      <td>4</td>\n",
       "      <td>1</td>\n",
       "      <td>1</td>\n",
       "      <td>Futrelle, Mrs. Jacques Heath (Lily May Peel)</td>\n",
       "      <td>female</td>\n",
       "      <td>35.0</td>\n",
       "      <td>1</td>\n",
       "      <td>0</td>\n",
       "      <td>113803</td>\n",
       "      <td>53.1000</td>\n",
       "      <td>C123</td>\n",
       "      <td>S</td>\n",
       "    </tr>\n",
       "    <tr>\n",
       "      <th>4</th>\n",
       "      <td>5</td>\n",
       "      <td>0</td>\n",
       "      <td>3</td>\n",
       "      <td>Allen, Mr. William Henry</td>\n",
       "      <td>male</td>\n",
       "      <td>35.0</td>\n",
       "      <td>0</td>\n",
       "      <td>0</td>\n",
       "      <td>373450</td>\n",
       "      <td>8.0500</td>\n",
       "      <td>NaN</td>\n",
       "      <td>S</td>\n",
       "    </tr>\n",
       "    <tr>\n",
       "      <th>...</th>\n",
       "      <td>...</td>\n",
       "      <td>...</td>\n",
       "      <td>...</td>\n",
       "      <td>...</td>\n",
       "      <td>...</td>\n",
       "      <td>...</td>\n",
       "      <td>...</td>\n",
       "      <td>...</td>\n",
       "      <td>...</td>\n",
       "      <td>...</td>\n",
       "      <td>...</td>\n",
       "      <td>...</td>\n",
       "    </tr>\n",
       "    <tr>\n",
       "      <th>886</th>\n",
       "      <td>887</td>\n",
       "      <td>0</td>\n",
       "      <td>2</td>\n",
       "      <td>Montvila, Rev. Juozas</td>\n",
       "      <td>male</td>\n",
       "      <td>27.0</td>\n",
       "      <td>0</td>\n",
       "      <td>0</td>\n",
       "      <td>211536</td>\n",
       "      <td>13.0000</td>\n",
       "      <td>NaN</td>\n",
       "      <td>S</td>\n",
       "    </tr>\n",
       "    <tr>\n",
       "      <th>887</th>\n",
       "      <td>888</td>\n",
       "      <td>1</td>\n",
       "      <td>1</td>\n",
       "      <td>Graham, Miss. Margaret Edith</td>\n",
       "      <td>female</td>\n",
       "      <td>19.0</td>\n",
       "      <td>0</td>\n",
       "      <td>0</td>\n",
       "      <td>112053</td>\n",
       "      <td>30.0000</td>\n",
       "      <td>B42</td>\n",
       "      <td>S</td>\n",
       "    </tr>\n",
       "    <tr>\n",
       "      <th>888</th>\n",
       "      <td>889</td>\n",
       "      <td>0</td>\n",
       "      <td>3</td>\n",
       "      <td>Johnston, Miss. Catherine Helen \"Carrie\"</td>\n",
       "      <td>female</td>\n",
       "      <td>NaN</td>\n",
       "      <td>1</td>\n",
       "      <td>2</td>\n",
       "      <td>W./C. 6607</td>\n",
       "      <td>23.4500</td>\n",
       "      <td>NaN</td>\n",
       "      <td>S</td>\n",
       "    </tr>\n",
       "    <tr>\n",
       "      <th>889</th>\n",
       "      <td>890</td>\n",
       "      <td>1</td>\n",
       "      <td>1</td>\n",
       "      <td>Behr, Mr. Karl Howell</td>\n",
       "      <td>male</td>\n",
       "      <td>26.0</td>\n",
       "      <td>0</td>\n",
       "      <td>0</td>\n",
       "      <td>111369</td>\n",
       "      <td>30.0000</td>\n",
       "      <td>C148</td>\n",
       "      <td>C</td>\n",
       "    </tr>\n",
       "    <tr>\n",
       "      <th>890</th>\n",
       "      <td>891</td>\n",
       "      <td>0</td>\n",
       "      <td>3</td>\n",
       "      <td>Dooley, Mr. Patrick</td>\n",
       "      <td>male</td>\n",
       "      <td>32.0</td>\n",
       "      <td>0</td>\n",
       "      <td>0</td>\n",
       "      <td>370376</td>\n",
       "      <td>7.7500</td>\n",
       "      <td>NaN</td>\n",
       "      <td>Q</td>\n",
       "    </tr>\n",
       "  </tbody>\n",
       "</table>\n",
       "<p>891 rows × 12 columns</p>\n",
       "</div>"
      ],
      "text/plain": [
       "     PassengerId  Survived  Pclass  \\\n",
       "0              1         0       3   \n",
       "1              2         1       1   \n",
       "2              3         1       3   \n",
       "3              4         1       1   \n",
       "4              5         0       3   \n",
       "..           ...       ...     ...   \n",
       "886          887         0       2   \n",
       "887          888         1       1   \n",
       "888          889         0       3   \n",
       "889          890         1       1   \n",
       "890          891         0       3   \n",
       "\n",
       "                                                  Name     Sex   Age  SibSp  \\\n",
       "0                              Braund, Mr. Owen Harris    male  22.0      1   \n",
       "1    Cumings, Mrs. John Bradley (Florence Briggs Th...  female  38.0      1   \n",
       "2                               Heikkinen, Miss. Laina  female  26.0      0   \n",
       "3         Futrelle, Mrs. Jacques Heath (Lily May Peel)  female  35.0      1   \n",
       "4                             Allen, Mr. William Henry    male  35.0      0   \n",
       "..                                                 ...     ...   ...    ...   \n",
       "886                              Montvila, Rev. Juozas    male  27.0      0   \n",
       "887                       Graham, Miss. Margaret Edith  female  19.0      0   \n",
       "888           Johnston, Miss. Catherine Helen \"Carrie\"  female   NaN      1   \n",
       "889                              Behr, Mr. Karl Howell    male  26.0      0   \n",
       "890                                Dooley, Mr. Patrick    male  32.0      0   \n",
       "\n",
       "     Parch            Ticket     Fare Cabin Embarked  \n",
       "0        0         A/5 21171   7.2500   NaN        S  \n",
       "1        0          PC 17599  71.2833   C85        C  \n",
       "2        0  STON/O2. 3101282   7.9250   NaN        S  \n",
       "3        0            113803  53.1000  C123        S  \n",
       "4        0            373450   8.0500   NaN        S  \n",
       "..     ...               ...      ...   ...      ...  \n",
       "886      0            211536  13.0000   NaN        S  \n",
       "887      0            112053  30.0000   B42        S  \n",
       "888      2        W./C. 6607  23.4500   NaN        S  \n",
       "889      0            111369  30.0000  C148        C  \n",
       "890      0            370376   7.7500   NaN        Q  \n",
       "\n",
       "[891 rows x 12 columns]"
      ]
     },
     "execution_count": 19,
     "metadata": {},
     "output_type": "execute_result"
    }
   ],
   "source": [
    "#Utilizar el archivo datos/titanic.csv\n",
    "df = pd.read_csv(\"datos/titanic.csv\")\n",
    "df"
   ]
  },
  {
   "cell_type": "code",
   "execution_count": 20,
   "metadata": {},
   "outputs": [
    {
     "data": {
      "application/vnd.microsoft.datawrangler.viewer.v0+json": {
       "columns": [
        {
         "name": "index",
         "rawType": "int64",
         "type": "integer"
        },
        {
         "name": "PassengerId",
         "rawType": "int64",
         "type": "integer"
        },
        {
         "name": "Survived",
         "rawType": "int64",
         "type": "integer"
        },
        {
         "name": "Pclass",
         "rawType": "int64",
         "type": "integer"
        },
        {
         "name": "Name",
         "rawType": "object",
         "type": "string"
        },
        {
         "name": "Sex",
         "rawType": "object",
         "type": "string"
        },
        {
         "name": "Age",
         "rawType": "float64",
         "type": "float"
        },
        {
         "name": "SibSp",
         "rawType": "int64",
         "type": "integer"
        },
        {
         "name": "Parch",
         "rawType": "int64",
         "type": "integer"
        },
        {
         "name": "Ticket",
         "rawType": "object",
         "type": "string"
        },
        {
         "name": "Fare",
         "rawType": "float64",
         "type": "float"
        },
        {
         "name": "Cabin",
         "rawType": "object",
         "type": "unknown"
        },
        {
         "name": "Embarked",
         "rawType": "object",
         "type": "string"
        }
       ],
       "ref": "7c9f4e61-1630-4312-af26-224f7449472b",
       "rows": [
        [
         "0",
         "1",
         "0",
         "3",
         "Braund, Mr. Owen Harris",
         "male",
         "22.0",
         "1",
         "0",
         "A/5 21171",
         "7.25",
         null,
         "S"
        ],
        [
         "1",
         "2",
         "1",
         "1",
         "Cumings, Mrs. John Bradley (Florence Briggs Thayer)",
         "female",
         "38.0",
         "1",
         "0",
         "PC 17599",
         "71.2833",
         "C85",
         "C"
        ],
        [
         "2",
         "3",
         "1",
         "3",
         "Heikkinen, Miss. Laina",
         "female",
         "26.0",
         "0",
         "0",
         "STON/O2. 3101282",
         "7.925",
         null,
         "S"
        ],
        [
         "3",
         "4",
         "1",
         "1",
         "Futrelle, Mrs. Jacques Heath (Lily May Peel)",
         "female",
         "35.0",
         "1",
         "0",
         "113803",
         "53.1",
         "C123",
         "S"
        ],
        [
         "4",
         "5",
         "0",
         "3",
         "Allen, Mr. William Henry",
         "male",
         "35.0",
         "0",
         "0",
         "373450",
         "8.05",
         null,
         "S"
        ]
       ],
       "shape": {
        "columns": 12,
        "rows": 5
       }
      },
      "text/html": [
       "<div>\n",
       "<style scoped>\n",
       "    .dataframe tbody tr th:only-of-type {\n",
       "        vertical-align: middle;\n",
       "    }\n",
       "\n",
       "    .dataframe tbody tr th {\n",
       "        vertical-align: top;\n",
       "    }\n",
       "\n",
       "    .dataframe thead th {\n",
       "        text-align: right;\n",
       "    }\n",
       "</style>\n",
       "<table border=\"1\" class=\"dataframe\">\n",
       "  <thead>\n",
       "    <tr style=\"text-align: right;\">\n",
       "      <th></th>\n",
       "      <th>PassengerId</th>\n",
       "      <th>Survived</th>\n",
       "      <th>Pclass</th>\n",
       "      <th>Name</th>\n",
       "      <th>Sex</th>\n",
       "      <th>Age</th>\n",
       "      <th>SibSp</th>\n",
       "      <th>Parch</th>\n",
       "      <th>Ticket</th>\n",
       "      <th>Fare</th>\n",
       "      <th>Cabin</th>\n",
       "      <th>Embarked</th>\n",
       "    </tr>\n",
       "  </thead>\n",
       "  <tbody>\n",
       "    <tr>\n",
       "      <th>0</th>\n",
       "      <td>1</td>\n",
       "      <td>0</td>\n",
       "      <td>3</td>\n",
       "      <td>Braund, Mr. Owen Harris</td>\n",
       "      <td>male</td>\n",
       "      <td>22.0</td>\n",
       "      <td>1</td>\n",
       "      <td>0</td>\n",
       "      <td>A/5 21171</td>\n",
       "      <td>7.2500</td>\n",
       "      <td>NaN</td>\n",
       "      <td>S</td>\n",
       "    </tr>\n",
       "    <tr>\n",
       "      <th>1</th>\n",
       "      <td>2</td>\n",
       "      <td>1</td>\n",
       "      <td>1</td>\n",
       "      <td>Cumings, Mrs. John Bradley (Florence Briggs Th...</td>\n",
       "      <td>female</td>\n",
       "      <td>38.0</td>\n",
       "      <td>1</td>\n",
       "      <td>0</td>\n",
       "      <td>PC 17599</td>\n",
       "      <td>71.2833</td>\n",
       "      <td>C85</td>\n",
       "      <td>C</td>\n",
       "    </tr>\n",
       "    <tr>\n",
       "      <th>2</th>\n",
       "      <td>3</td>\n",
       "      <td>1</td>\n",
       "      <td>3</td>\n",
       "      <td>Heikkinen, Miss. Laina</td>\n",
       "      <td>female</td>\n",
       "      <td>26.0</td>\n",
       "      <td>0</td>\n",
       "      <td>0</td>\n",
       "      <td>STON/O2. 3101282</td>\n",
       "      <td>7.9250</td>\n",
       "      <td>NaN</td>\n",
       "      <td>S</td>\n",
       "    </tr>\n",
       "    <tr>\n",
       "      <th>3</th>\n",
       "      <td>4</td>\n",
       "      <td>1</td>\n",
       "      <td>1</td>\n",
       "      <td>Futrelle, Mrs. Jacques Heath (Lily May Peel)</td>\n",
       "      <td>female</td>\n",
       "      <td>35.0</td>\n",
       "      <td>1</td>\n",
       "      <td>0</td>\n",
       "      <td>113803</td>\n",
       "      <td>53.1000</td>\n",
       "      <td>C123</td>\n",
       "      <td>S</td>\n",
       "    </tr>\n",
       "    <tr>\n",
       "      <th>4</th>\n",
       "      <td>5</td>\n",
       "      <td>0</td>\n",
       "      <td>3</td>\n",
       "      <td>Allen, Mr. William Henry</td>\n",
       "      <td>male</td>\n",
       "      <td>35.0</td>\n",
       "      <td>0</td>\n",
       "      <td>0</td>\n",
       "      <td>373450</td>\n",
       "      <td>8.0500</td>\n",
       "      <td>NaN</td>\n",
       "      <td>S</td>\n",
       "    </tr>\n",
       "  </tbody>\n",
       "</table>\n",
       "</div>"
      ],
      "text/plain": [
       "   PassengerId  Survived  Pclass  \\\n",
       "0            1         0       3   \n",
       "1            2         1       1   \n",
       "2            3         1       3   \n",
       "3            4         1       1   \n",
       "4            5         0       3   \n",
       "\n",
       "                                                Name     Sex   Age  SibSp  \\\n",
       "0                            Braund, Mr. Owen Harris    male  22.0      1   \n",
       "1  Cumings, Mrs. John Bradley (Florence Briggs Th...  female  38.0      1   \n",
       "2                             Heikkinen, Miss. Laina  female  26.0      0   \n",
       "3       Futrelle, Mrs. Jacques Heath (Lily May Peel)  female  35.0      1   \n",
       "4                           Allen, Mr. William Henry    male  35.0      0   \n",
       "\n",
       "   Parch            Ticket     Fare Cabin Embarked  \n",
       "0      0         A/5 21171   7.2500   NaN        S  \n",
       "1      0          PC 17599  71.2833   C85        C  \n",
       "2      0  STON/O2. 3101282   7.9250   NaN        S  \n",
       "3      0            113803  53.1000  C123        S  \n",
       "4      0            373450   8.0500   NaN        S  "
      ]
     },
     "execution_count": 20,
     "metadata": {},
     "output_type": "execute_result"
    }
   ],
   "source": [
    "#muestre las primeras líneas del DataFrame\n",
    "df.head()"
   ]
  },
  {
   "cell_type": "code",
   "execution_count": 21,
   "metadata": {},
   "outputs": [
    {
     "data": {
      "application/vnd.microsoft.datawrangler.viewer.v0+json": {
       "columns": [
        {
         "name": "index",
         "rawType": "int64",
         "type": "integer"
        },
        {
         "name": "PassengerId",
         "rawType": "int64",
         "type": "integer"
        },
        {
         "name": "Survived",
         "rawType": "int64",
         "type": "integer"
        },
        {
         "name": "Pclass",
         "rawType": "int64",
         "type": "integer"
        },
        {
         "name": "Name",
         "rawType": "object",
         "type": "string"
        },
        {
         "name": "Sex",
         "rawType": "object",
         "type": "string"
        },
        {
         "name": "Age",
         "rawType": "float64",
         "type": "float"
        },
        {
         "name": "SibSp",
         "rawType": "int64",
         "type": "integer"
        },
        {
         "name": "Parch",
         "rawType": "int64",
         "type": "integer"
        },
        {
         "name": "Ticket",
         "rawType": "object",
         "type": "string"
        },
        {
         "name": "Fare",
         "rawType": "float64",
         "type": "float"
        },
        {
         "name": "Cabin",
         "rawType": "object",
         "type": "unknown"
        },
        {
         "name": "Embarked",
         "rawType": "object",
         "type": "string"
        }
       ],
       "ref": "68af4b24-5be3-4d71-ba7d-46791c0574e3",
       "rows": [
        [
         "886",
         "887",
         "0",
         "2",
         "Montvila, Rev. Juozas",
         "male",
         "27.0",
         "0",
         "0",
         "211536",
         "13.0",
         null,
         "S"
        ],
        [
         "887",
         "888",
         "1",
         "1",
         "Graham, Miss. Margaret Edith",
         "female",
         "19.0",
         "0",
         "0",
         "112053",
         "30.0",
         "B42",
         "S"
        ],
        [
         "888",
         "889",
         "0",
         "3",
         "Johnston, Miss. Catherine Helen \"Carrie\"",
         "female",
         null,
         "1",
         "2",
         "W./C. 6607",
         "23.45",
         null,
         "S"
        ],
        [
         "889",
         "890",
         "1",
         "1",
         "Behr, Mr. Karl Howell",
         "male",
         "26.0",
         "0",
         "0",
         "111369",
         "30.0",
         "C148",
         "C"
        ],
        [
         "890",
         "891",
         "0",
         "3",
         "Dooley, Mr. Patrick",
         "male",
         "32.0",
         "0",
         "0",
         "370376",
         "7.75",
         null,
         "Q"
        ]
       ],
       "shape": {
        "columns": 12,
        "rows": 5
       }
      },
      "text/html": [
       "<div>\n",
       "<style scoped>\n",
       "    .dataframe tbody tr th:only-of-type {\n",
       "        vertical-align: middle;\n",
       "    }\n",
       "\n",
       "    .dataframe tbody tr th {\n",
       "        vertical-align: top;\n",
       "    }\n",
       "\n",
       "    .dataframe thead th {\n",
       "        text-align: right;\n",
       "    }\n",
       "</style>\n",
       "<table border=\"1\" class=\"dataframe\">\n",
       "  <thead>\n",
       "    <tr style=\"text-align: right;\">\n",
       "      <th></th>\n",
       "      <th>PassengerId</th>\n",
       "      <th>Survived</th>\n",
       "      <th>Pclass</th>\n",
       "      <th>Name</th>\n",
       "      <th>Sex</th>\n",
       "      <th>Age</th>\n",
       "      <th>SibSp</th>\n",
       "      <th>Parch</th>\n",
       "      <th>Ticket</th>\n",
       "      <th>Fare</th>\n",
       "      <th>Cabin</th>\n",
       "      <th>Embarked</th>\n",
       "    </tr>\n",
       "  </thead>\n",
       "  <tbody>\n",
       "    <tr>\n",
       "      <th>886</th>\n",
       "      <td>887</td>\n",
       "      <td>0</td>\n",
       "      <td>2</td>\n",
       "      <td>Montvila, Rev. Juozas</td>\n",
       "      <td>male</td>\n",
       "      <td>27.0</td>\n",
       "      <td>0</td>\n",
       "      <td>0</td>\n",
       "      <td>211536</td>\n",
       "      <td>13.00</td>\n",
       "      <td>NaN</td>\n",
       "      <td>S</td>\n",
       "    </tr>\n",
       "    <tr>\n",
       "      <th>887</th>\n",
       "      <td>888</td>\n",
       "      <td>1</td>\n",
       "      <td>1</td>\n",
       "      <td>Graham, Miss. Margaret Edith</td>\n",
       "      <td>female</td>\n",
       "      <td>19.0</td>\n",
       "      <td>0</td>\n",
       "      <td>0</td>\n",
       "      <td>112053</td>\n",
       "      <td>30.00</td>\n",
       "      <td>B42</td>\n",
       "      <td>S</td>\n",
       "    </tr>\n",
       "    <tr>\n",
       "      <th>888</th>\n",
       "      <td>889</td>\n",
       "      <td>0</td>\n",
       "      <td>3</td>\n",
       "      <td>Johnston, Miss. Catherine Helen \"Carrie\"</td>\n",
       "      <td>female</td>\n",
       "      <td>NaN</td>\n",
       "      <td>1</td>\n",
       "      <td>2</td>\n",
       "      <td>W./C. 6607</td>\n",
       "      <td>23.45</td>\n",
       "      <td>NaN</td>\n",
       "      <td>S</td>\n",
       "    </tr>\n",
       "    <tr>\n",
       "      <th>889</th>\n",
       "      <td>890</td>\n",
       "      <td>1</td>\n",
       "      <td>1</td>\n",
       "      <td>Behr, Mr. Karl Howell</td>\n",
       "      <td>male</td>\n",
       "      <td>26.0</td>\n",
       "      <td>0</td>\n",
       "      <td>0</td>\n",
       "      <td>111369</td>\n",
       "      <td>30.00</td>\n",
       "      <td>C148</td>\n",
       "      <td>C</td>\n",
       "    </tr>\n",
       "    <tr>\n",
       "      <th>890</th>\n",
       "      <td>891</td>\n",
       "      <td>0</td>\n",
       "      <td>3</td>\n",
       "      <td>Dooley, Mr. Patrick</td>\n",
       "      <td>male</td>\n",
       "      <td>32.0</td>\n",
       "      <td>0</td>\n",
       "      <td>0</td>\n",
       "      <td>370376</td>\n",
       "      <td>7.75</td>\n",
       "      <td>NaN</td>\n",
       "      <td>Q</td>\n",
       "    </tr>\n",
       "  </tbody>\n",
       "</table>\n",
       "</div>"
      ],
      "text/plain": [
       "     PassengerId  Survived  Pclass                                      Name  \\\n",
       "886          887         0       2                     Montvila, Rev. Juozas   \n",
       "887          888         1       1              Graham, Miss. Margaret Edith   \n",
       "888          889         0       3  Johnston, Miss. Catherine Helen \"Carrie\"   \n",
       "889          890         1       1                     Behr, Mr. Karl Howell   \n",
       "890          891         0       3                       Dooley, Mr. Patrick   \n",
       "\n",
       "        Sex   Age  SibSp  Parch      Ticket   Fare Cabin Embarked  \n",
       "886    male  27.0      0      0      211536  13.00   NaN        S  \n",
       "887  female  19.0      0      0      112053  30.00   B42        S  \n",
       "888  female   NaN      1      2  W./C. 6607  23.45   NaN        S  \n",
       "889    male  26.0      0      0      111369  30.00  C148        C  \n",
       "890    male  32.0      0      0      370376   7.75   NaN        Q  "
      ]
     },
     "execution_count": 21,
     "metadata": {},
     "output_type": "execute_result"
    }
   ],
   "source": [
    "#muestre las ultimas líneas  del DataFrame \n",
    "df.tail()"
   ]
  },
  {
   "cell_type": "code",
   "execution_count": 22,
   "metadata": {},
   "outputs": [
    {
     "data": {
      "text/plain": [
       "(891, 12)"
      ]
     },
     "execution_count": 22,
     "metadata": {},
     "output_type": "execute_result"
    }
   ],
   "source": [
    "#Obtenga el número de filas y columnas\n",
    "df.shape"
   ]
  },
  {
   "cell_type": "code",
   "execution_count": 23,
   "metadata": {},
   "outputs": [
    {
     "data": {
      "text/plain": [
       "array([[<Axes: title={'center': 'PassengerId'}>,\n",
       "        <Axes: title={'center': 'Survived'}>,\n",
       "        <Axes: title={'center': 'Pclass'}>],\n",
       "       [<Axes: title={'center': 'Age'}>,\n",
       "        <Axes: title={'center': 'SibSp'}>,\n",
       "        <Axes: title={'center': 'Parch'}>],\n",
       "       [<Axes: title={'center': 'Fare'}>, <Axes: >, <Axes: >]],\n",
       "      dtype=object)"
      ]
     },
     "execution_count": 23,
     "metadata": {},
     "output_type": "execute_result"
    },
    {
     "data": {
      "image/png": "[encoded data removed]",
      "text/plain": [
       "<Figure size 640x480 with 9 Axes>"
      ]
     },
     "metadata": {},
     "output_type": "display_data"
    }
   ],
   "source": [
    "#Muestre los histogramas de las variables numericas \n",
    "df.hist()"
   ]
  },
  {
   "cell_type": "markdown",
   "metadata": {},
   "source": [
    "<div class=\"alert alert-info\">\n",
    "\n",
    "<b>EJERCICIO</b>:\n",
    "\n",
    " <ul>\n",
    "  <li> Seleccione todas las filas para pasajeros masculinos y calcule la edad media de esos pasajeros. Hacer lo mismo con las pasajeras.</li>\n",
    "</ul>\n",
    "</div>"
   ]
  },
  {
   "cell_type": "code",
   "execution_count": 27,
   "metadata": {
    "clear_cell": true
   },
   "outputs": [
    {
     "data": {
      "text/plain": [
       "np.float64(30.72664459161148)"
      ]
     },
     "execution_count": 27,
     "metadata": {},
     "output_type": "execute_result"
    }
   ],
   "source": [
    "\n",
    "df[df['Sex'] == 'male']['Age'].mean()"
   ]
  },
  {
   "cell_type": "code",
   "execution_count": 28,
   "metadata": {
    "clear_cell": true
   },
   "outputs": [
    {
     "data": {
      "text/plain": [
       "np.float64(27.915708812260537)"
      ]
     },
     "execution_count": 28,
     "metadata": {},
     "output_type": "execute_result"
    }
   ],
   "source": [
    "\n",
    "df[df['Sex'] == 'female']['Age'].mean()"
   ]
  },
  {
   "cell_type": "code",
   "execution_count": null,
   "metadata": {},
   "outputs": [],
   "source": [
    "\n"
   ]
  },
  {
   "cell_type": "markdown",
   "metadata": {},
   "source": [
    "<div class=\"alert alert-info\">\n",
    "\n",
    "<b>EJERCICIO</b>:\n",
    "\n",
    " <ul>\n",
    "  <li>¿Cuántos pasajeros mayores de 70 estaban en el Titanic?</li>\n",
    "</ul>\n",
    "</div>"
   ]
  },
  {
   "cell_type": "code",
   "execution_count": 32,
   "metadata": {
    "clear_cell": true
   },
   "outputs": [
    {
     "data": {
      "text/plain": [
       "5"
      ]
     },
     "execution_count": 32,
     "metadata": {},
     "output_type": "execute_result"
    }
   ],
   "source": [
    "\n",
    "len(df[df['Age'] > 70])"
   ]
  },
  {
   "cell_type": "code",
   "execution_count": 33,
   "metadata": {
    "clear_cell": true
   },
   "outputs": [
    {
     "data": {
      "text/plain": [
       "np.int64(5)"
      ]
     },
     "execution_count": 33,
     "metadata": {},
     "output_type": "execute_result"
    }
   ],
   "source": [
    "(df['Age']>70).sum()"
   ]
  },
  {
   "cell_type": "code",
   "execution_count": null,
   "metadata": {},
   "outputs": [],
   "source": [
    "\n"
   ]
  },
  {
   "cell_type": "markdown",
   "metadata": {},
   "source": [
    "<div class=\"alert alert-info\">\n",
    "\n",
    "<b>EJERCICIO</b>:\n",
    "\n",
    " <ul>\n",
    "  <li>¿Seleccionar los pasajeros que tienen entre 30 y 40 años?</li>\n",
    "</ul>\n",
    "</div>"
   ]
  },
  {
   "cell_type": "code",
   "execution_count": 35,
   "metadata": {
    "clear_cell": true
   },
   "outputs": [
    {
     "data": {
      "application/vnd.microsoft.datawrangler.viewer.v0+json": {
       "columns": [
        {
         "name": "index",
         "rawType": "int64",
         "type": "integer"
        },
        {
         "name": "PassengerId",
         "rawType": "int64",
         "type": "integer"
        },
        {
         "name": "Survived",
         "rawType": "int64",
         "type": "integer"
        },
        {
         "name": "Pclass",
         "rawType": "int64",
         "type": "integer"
        },
        {
         "name": "Name",
         "rawType": "object",
         "type": "string"
        },
        {
         "name": "Sex",
         "rawType": "object",
         "type": "string"
        },
        {
         "name": "Age",
         "rawType": "float64",
         "type": "float"
        },
        {
         "name": "SibSp",
         "rawType": "int64",
         "type": "integer"
        },
        {
         "name": "Parch",
         "rawType": "int64",
         "type": "integer"
        },
        {
         "name": "Ticket",
         "rawType": "object",
         "type": "string"
        },
        {
         "name": "Fare",
         "rawType": "float64",
         "type": "float"
        },
        {
         "name": "Cabin",
         "rawType": "object",
         "type": "unknown"
        },
        {
         "name": "Embarked",
         "rawType": "object",
         "type": "unknown"
        }
       ],
       "ref": "f84d8ec5-b8be-4635-a609-075c6cd50e9c",
       "rows": [
        [
         "1",
         "2",
         "1",
         "1",
         "Cumings, Mrs. John Bradley (Florence Briggs Thayer)",
         "female",
         "38.0",
         "1",
         "0",
         "PC 17599",
         "71.2833",
         "C85",
         "C"
        ],
        [
         "3",
         "4",
         "1",
         "1",
         "Futrelle, Mrs. Jacques Heath (Lily May Peel)",
         "female",
         "35.0",
         "1",
         "0",
         "113803",
         "53.1",
         "C123",
         "S"
        ],
        [
         "4",
         "5",
         "0",
         "3",
         "Allen, Mr. William Henry",
         "male",
         "35.0",
         "0",
         "0",
         "373450",
         "8.05",
         null,
         "S"
        ],
        [
         "13",
         "14",
         "0",
         "3",
         "Andersson, Mr. Anders Johan",
         "male",
         "39.0",
         "1",
         "5",
         "347082",
         "31.275",
         null,
         "S"
        ],
        [
         "18",
         "19",
         "0",
         "3",
         "Vander Planke, Mrs. Julius (Emelia Maria Vandemoortele)",
         "female",
         "31.0",
         "1",
         "0",
         "345763",
         "18.0",
         null,
         "S"
        ],
        [
         "20",
         "21",
         "0",
         "2",
         "Fynney, Mr. Joseph J",
         "male",
         "35.0",
         "0",
         "0",
         "239865",
         "26.0",
         null,
         "S"
        ],
        [
         "21",
         "22",
         "1",
         "2",
         "Beesley, Mr. Lawrence",
         "male",
         "34.0",
         "0",
         "0",
         "248698",
         "13.0",
         "D56",
         "S"
        ],
        [
         "25",
         "26",
         "1",
         "3",
         "Asplund, Mrs. Carl Oscar (Selma Augusta Emilia Johansson)",
         "female",
         "38.0",
         "1",
         "5",
         "347077",
         "31.3875",
         null,
         "S"
        ],
        [
         "30",
         "31",
         "0",
         "1",
         "Uruchurtu, Don. Manuel E",
         "male",
         "40.0",
         "0",
         "0",
         "PC 17601",
         "27.7208",
         null,
         "C"
        ],
        [
         "40",
         "41",
         "0",
         "3",
         "Ahlin, Mrs. Johan (Johanna Persdotter Larsson)",
         "female",
         "40.0",
         "1",
         "0",
         "7546",
         "9.475",
         null,
         "S"
        ],
        [
         "61",
         "62",
         "1",
         "1",
         "Icard, Miss. Amelie",
         "female",
         "38.0",
         "0",
         "0",
         "113572",
         "80.0",
         "B28",
         null
        ],
        [
         "70",
         "71",
         "0",
         "2",
         "Jenkin, Mr. Stephen Curnow",
         "male",
         "32.0",
         "0",
         "0",
         "C.A. 33111",
         "10.5",
         null,
         "S"
        ],
        [
         "74",
         "75",
         "1",
         "3",
         "Bing, Mr. Lee",
         "male",
         "32.0",
         "0",
         "0",
         "1601",
         "56.4958",
         null,
         "S"
        ],
        [
         "79",
         "80",
         "1",
         "3",
         "Dowdell, Miss. Elizabeth",
         "female",
         "30.0",
         "0",
         "0",
         "364516",
         "12.475",
         null,
         "S"
        ],
        [
         "85",
         "86",
         "1",
         "3",
         "Backstrom, Mrs. Karl Alfred (Maria Mathilda Gustafsson)",
         "female",
         "33.0",
         "3",
         "0",
         "3101278",
         "15.85",
         null,
         "S"
        ],
        [
         "98",
         "99",
         "1",
         "2",
         "Doling, Mrs. John T (Ada Julia Bone)",
         "female",
         "34.0",
         "0",
         "1",
         "231919",
         "23.0",
         null,
         "S"
        ],
        [
         "99",
         "100",
         "0",
         "2",
         "Kantor, Mr. Sinai",
         "male",
         "34.0",
         "1",
         "0",
         "244367",
         "26.0",
         null,
         "S"
        ],
        [
         "103",
         "104",
         "0",
         "3",
         "Johansson, Mr. Gustaf Joel",
         "male",
         "33.0",
         "0",
         "0",
         "7540",
         "8.6542",
         null,
         "S"
        ],
        [
         "104",
         "105",
         "0",
         "3",
         "Gustafsson, Mr. Anders Vilhelm",
         "male",
         "37.0",
         "2",
         "0",
         "3101276",
         "7.925",
         null,
         "S"
        ],
        [
         "108",
         "109",
         "0",
         "3",
         "Rekic, Mr. Tido",
         "male",
         "38.0",
         "0",
         "0",
         "349249",
         "7.8958",
         null,
         "S"
        ],
        [
         "122",
         "123",
         "0",
         "2",
         "Nasser, Mr. Nicholas",
         "male",
         "32.5",
         "1",
         "0",
         "237736",
         "30.0708",
         null,
         "C"
        ],
        [
         "123",
         "124",
         "1",
         "2",
         "Webber, Miss. Susan",
         "female",
         "32.5",
         "0",
         "0",
         "27267",
         "13.0",
         "E101",
         "S"
        ],
        [
         "130",
         "131",
         "0",
         "3",
         "Drazenoic, Mr. Jozef",
         "male",
         "33.0",
         "0",
         "0",
         "349241",
         "7.8958",
         null,
         "C"
        ],
        [
         "137",
         "138",
         "0",
         "1",
         "Futrelle, Mr. Jacques Heath",
         "male",
         "37.0",
         "1",
         "0",
         "113803",
         "53.1",
         "C123",
         "S"
        ],
        [
         "148",
         "149",
         "0",
         "2",
         "Navratil, Mr. Michel (\"Louis M Hoffman\")",
         "male",
         "36.5",
         "0",
         "2",
         "230080",
         "26.0",
         "F2",
         "S"
        ],
        [
         "157",
         "158",
         "0",
         "3",
         "Corn, Mr. Harry",
         "male",
         "30.0",
         "0",
         "0",
         "SOTON/OQ 392090",
         "8.05",
         null,
         "S"
        ],
        [
         "161",
         "162",
         "1",
         "2",
         "Watt, Mrs. James (Elizabeth \"Bessie\" Inglis Milne)",
         "female",
         "40.0",
         "0",
         "0",
         "C.A. 33595",
         "15.75",
         null,
         "S"
        ],
        [
         "178",
         "179",
         "0",
         "2",
         "Hale, Mr. Reginald",
         "male",
         "30.0",
         "0",
         "0",
         "250653",
         "13.0",
         null,
         "S"
        ],
        [
         "179",
         "180",
         "0",
         "3",
         "Leonard, Mr. Lionel",
         "male",
         "36.0",
         "0",
         "0",
         "LINE",
         "0.0",
         null,
         "S"
        ],
        [
         "188",
         "189",
         "0",
         "3",
         "Bourke, Mr. John",
         "male",
         "40.0",
         "1",
         "1",
         "364849",
         "15.5",
         null,
         "Q"
        ],
        [
         "189",
         "190",
         "0",
         "3",
         "Turcin, Mr. Stjepan",
         "male",
         "36.0",
         "0",
         "0",
         "349247",
         "7.8958",
         null,
         "S"
        ],
        [
         "190",
         "191",
         "1",
         "2",
         "Pinsky, Mrs. (Rosa)",
         "female",
         "32.0",
         "0",
         "0",
         "234604",
         "13.0",
         null,
         "S"
        ],
        [
         "202",
         "203",
         "0",
         "3",
         "Johanson, Mr. Jakob Alfred",
         "male",
         "34.0",
         "0",
         "0",
         "3101264",
         "6.4958",
         null,
         "S"
        ],
        [
         "206",
         "207",
         "0",
         "3",
         "Backstrom, Mr. Karl Alfred",
         "male",
         "32.0",
         "1",
         "0",
         "3101278",
         "15.85",
         null,
         "S"
        ],
        [
         "209",
         "210",
         "1",
         "1",
         "Blank, Mr. Henry",
         "male",
         "40.0",
         "0",
         "0",
         "112277",
         "31.0",
         "A31",
         "C"
        ],
        [
         "211",
         "212",
         "1",
         "2",
         "Cameron, Miss. Clear Annie",
         "female",
         "35.0",
         "0",
         "0",
         "F.C.C. 13528",
         "21.0",
         null,
         "S"
        ],
        [
         "213",
         "214",
         "0",
         "2",
         "Givard, Mr. Hans Kristensen",
         "male",
         "30.0",
         "0",
         "0",
         "250646",
         "13.0",
         null,
         "S"
        ],
        [
         "215",
         "216",
         "1",
         "1",
         "Newell, Miss. Madeleine",
         "female",
         "31.0",
         "1",
         "0",
         "35273",
         "113.275",
         "D36",
         "C"
        ],
        [
         "218",
         "219",
         "1",
         "1",
         "Bazzani, Miss. Albina",
         "female",
         "32.0",
         "0",
         "0",
         "11813",
         "76.2917",
         "D15",
         "C"
        ],
        [
         "219",
         "220",
         "0",
         "2",
         "Harris, Mr. Walter",
         "male",
         "30.0",
         "0",
         "0",
         "W/C 14208",
         "10.5",
         null,
         "S"
        ],
        [
         "224",
         "225",
         "1",
         "1",
         "Hoyt, Mr. Frederick Maxfield",
         "male",
         "38.0",
         "1",
         "0",
         "19943",
         "90.0",
         "C93",
         "S"
        ],
        [
         "230",
         "231",
         "1",
         "1",
         "Harris, Mrs. Henry Birkhardt (Irene Wallach)",
         "female",
         "35.0",
         "1",
         "0",
         "36973",
         "83.475",
         "C83",
         "S"
        ],
        [
         "239",
         "240",
         "0",
         "2",
         "Hunt, Mr. George Henry",
         "male",
         "33.0",
         "0",
         "0",
         "SCO/W 1585",
         "12.275",
         null,
         "S"
        ],
        [
         "244",
         "245",
         "0",
         "3",
         "Attalah, Mr. Sleiman",
         "male",
         "30.0",
         "0",
         "0",
         "2694",
         "7.225",
         null,
         "C"
        ],
        [
         "248",
         "249",
         "1",
         "1",
         "Beckwith, Mr. Richard Leonard",
         "male",
         "37.0",
         "1",
         "1",
         "11751",
         "52.5542",
         "D35",
         "S"
        ],
        [
         "253",
         "254",
         "0",
         "3",
         "Lobb, Mr. William Arthur",
         "male",
         "30.0",
         "1",
         "0",
         "A/5. 3336",
         "16.1",
         null,
         "S"
        ],
        [
         "257",
         "258",
         "1",
         "1",
         "Cherry, Miss. Gladys",
         "female",
         "30.0",
         "0",
         "0",
         "110152",
         "86.5",
         "B77",
         "S"
        ],
        [
         "258",
         "259",
         "1",
         "1",
         "Ward, Miss. Anna",
         "female",
         "35.0",
         "0",
         "0",
         "PC 17755",
         "512.3292",
         null,
         "C"
        ],
        [
         "263",
         "264",
         "0",
         "1",
         "Harrison, Mr. William",
         "male",
         "40.0",
         "0",
         "0",
         "112059",
         "0.0",
         "B94",
         "S"
        ],
        [
         "265",
         "266",
         "0",
         "2",
         "Reeves, Mr. David",
         "male",
         "36.0",
         "0",
         "0",
         "C.A. 17248",
         "10.5",
         null,
         "S"
        ]
       ],
       "shape": {
        "columns": 12,
        "rows": 180
       }
      },
      "text/html": [
       "<div>\n",
       "<style scoped>\n",
       "    .dataframe tbody tr th:only-of-type {\n",
       "        vertical-align: middle;\n",
       "    }\n",
       "\n",
       "    .dataframe tbody tr th {\n",
       "        vertical-align: top;\n",
       "    }\n",
       "\n",
       "    .dataframe thead th {\n",
       "        text-align: right;\n",
       "    }\n",
       "</style>\n",
       "<table border=\"1\" class=\"dataframe\">\n",
       "  <thead>\n",
       "    <tr style=\"text-align: right;\">\n",
       "      <th></th>\n",
       "      <th>PassengerId</th>\n",
       "      <th>Survived</th>\n",
       "      <th>Pclass</th>\n",
       "      <th>Name</th>\n",
       "      <th>Sex</th>\n",
       "      <th>Age</th>\n",
       "      <th>SibSp</th>\n",
       "      <th>Parch</th>\n",
       "      <th>Ticket</th>\n",
       "      <th>Fare</th>\n",
       "      <th>Cabin</th>\n",
       "      <th>Embarked</th>\n",
       "    </tr>\n",
       "  </thead>\n",
       "  <tbody>\n",
       "    <tr>\n",
       "      <th>1</th>\n",
       "      <td>2</td>\n",
       "      <td>1</td>\n",
       "      <td>1</td>\n",
       "      <td>Cumings, Mrs. John Bradley (Florence Briggs Th...</td>\n",
       "      <td>female</td>\n",
       "      <td>38.0</td>\n",
       "      <td>1</td>\n",
       "      <td>0</td>\n",
       "      <td>PC 17599</td>\n",
       "      <td>71.2833</td>\n",
       "      <td>C85</td>\n",
       "      <td>C</td>\n",
       "    </tr>\n",
       "    <tr>\n",
       "      <th>3</th>\n",
       "      <td>4</td>\n",
       "      <td>1</td>\n",
       "      <td>1</td>\n",
       "      <td>Futrelle, Mrs. Jacques Heath (Lily May Peel)</td>\n",
       "      <td>female</td>\n",
       "      <td>35.0</td>\n",
       "      <td>1</td>\n",
       "      <td>0</td>\n",
       "      <td>113803</td>\n",
       "      <td>53.1000</td>\n",
       "      <td>C123</td>\n",
       "      <td>S</td>\n",
       "    </tr>\n",
       "    <tr>\n",
       "      <th>4</th>\n",
       "      <td>5</td>\n",
       "      <td>0</td>\n",
       "      <td>3</td>\n",
       "      <td>Allen, Mr. William Henry</td>\n",
       "      <td>male</td>\n",
       "      <td>35.0</td>\n",
       "      <td>0</td>\n",
       "      <td>0</td>\n",
       "      <td>373450</td>\n",
       "      <td>8.0500</td>\n",
       "      <td>NaN</td>\n",
       "      <td>S</td>\n",
       "    </tr>\n",
       "    <tr>\n",
       "      <th>13</th>\n",
       "      <td>14</td>\n",
       "      <td>0</td>\n",
       "      <td>3</td>\n",
       "      <td>Andersson, Mr. Anders Johan</td>\n",
       "      <td>male</td>\n",
       "      <td>39.0</td>\n",
       "      <td>1</td>\n",
       "      <td>5</td>\n",
       "      <td>347082</td>\n",
       "      <td>31.2750</td>\n",
       "      <td>NaN</td>\n",
       "      <td>S</td>\n",
       "    </tr>\n",
       "    <tr>\n",
       "      <th>18</th>\n",
       "      <td>19</td>\n",
       "      <td>0</td>\n",
       "      <td>3</td>\n",
       "      <td>Vander Planke, Mrs. Julius (Emelia Maria Vande...</td>\n",
       "      <td>female</td>\n",
       "      <td>31.0</td>\n",
       "      <td>1</td>\n",
       "      <td>0</td>\n",
       "      <td>345763</td>\n",
       "      <td>18.0000</td>\n",
       "      <td>NaN</td>\n",
       "      <td>S</td>\n",
       "    </tr>\n",
       "    <tr>\n",
       "      <th>...</th>\n",
       "      <td>...</td>\n",
       "      <td>...</td>\n",
       "      <td>...</td>\n",
       "      <td>...</td>\n",
       "      <td>...</td>\n",
       "      <td>...</td>\n",
       "      <td>...</td>\n",
       "      <td>...</td>\n",
       "      <td>...</td>\n",
       "      <td>...</td>\n",
       "      <td>...</td>\n",
       "      <td>...</td>\n",
       "    </tr>\n",
       "    <tr>\n",
       "      <th>867</th>\n",
       "      <td>868</td>\n",
       "      <td>0</td>\n",
       "      <td>1</td>\n",
       "      <td>Roebling, Mr. Washington Augustus II</td>\n",
       "      <td>male</td>\n",
       "      <td>31.0</td>\n",
       "      <td>0</td>\n",
       "      <td>0</td>\n",
       "      <td>PC 17590</td>\n",
       "      <td>50.4958</td>\n",
       "      <td>A24</td>\n",
       "      <td>S</td>\n",
       "    </tr>\n",
       "    <tr>\n",
       "      <th>872</th>\n",
       "      <td>873</td>\n",
       "      <td>0</td>\n",
       "      <td>1</td>\n",
       "      <td>Carlsson, Mr. Frans Olof</td>\n",
       "      <td>male</td>\n",
       "      <td>33.0</td>\n",
       "      <td>0</td>\n",
       "      <td>0</td>\n",
       "      <td>695</td>\n",
       "      <td>5.0000</td>\n",
       "      <td>B51 B53 B55</td>\n",
       "      <td>S</td>\n",
       "    </tr>\n",
       "    <tr>\n",
       "      <th>881</th>\n",
       "      <td>882</td>\n",
       "      <td>0</td>\n",
       "      <td>3</td>\n",
       "      <td>Markun, Mr. Johann</td>\n",
       "      <td>male</td>\n",
       "      <td>33.0</td>\n",
       "      <td>0</td>\n",
       "      <td>0</td>\n",
       "      <td>349257</td>\n",
       "      <td>7.8958</td>\n",
       "      <td>NaN</td>\n",
       "      <td>S</td>\n",
       "    </tr>\n",
       "    <tr>\n",
       "      <th>885</th>\n",
       "      <td>886</td>\n",
       "      <td>0</td>\n",
       "      <td>3</td>\n",
       "      <td>Rice, Mrs. William (Margaret Norton)</td>\n",
       "      <td>female</td>\n",
       "      <td>39.0</td>\n",
       "      <td>0</td>\n",
       "      <td>5</td>\n",
       "      <td>382652</td>\n",
       "      <td>29.1250</td>\n",
       "      <td>NaN</td>\n",
       "      <td>Q</td>\n",
       "    </tr>\n",
       "    <tr>\n",
       "      <th>890</th>\n",
       "      <td>891</td>\n",
       "      <td>0</td>\n",
       "      <td>3</td>\n",
       "      <td>Dooley, Mr. Patrick</td>\n",
       "      <td>male</td>\n",
       "      <td>32.0</td>\n",
       "      <td>0</td>\n",
       "      <td>0</td>\n",
       "      <td>370376</td>\n",
       "      <td>7.7500</td>\n",
       "      <td>NaN</td>\n",
       "      <td>Q</td>\n",
       "    </tr>\n",
       "  </tbody>\n",
       "</table>\n",
       "<p>180 rows × 12 columns</p>\n",
       "</div>"
      ],
      "text/plain": [
       "     PassengerId  Survived  Pclass  \\\n",
       "1              2         1       1   \n",
       "3              4         1       1   \n",
       "4              5         0       3   \n",
       "13            14         0       3   \n",
       "18            19         0       3   \n",
       "..           ...       ...     ...   \n",
       "867          868         0       1   \n",
       "872          873         0       1   \n",
       "881          882         0       3   \n",
       "885          886         0       3   \n",
       "890          891         0       3   \n",
       "\n",
       "                                                  Name     Sex   Age  SibSp  \\\n",
       "1    Cumings, Mrs. John Bradley (Florence Briggs Th...  female  38.0      1   \n",
       "3         Futrelle, Mrs. Jacques Heath (Lily May Peel)  female  35.0      1   \n",
       "4                             Allen, Mr. William Henry    male  35.0      0   \n",
       "13                         Andersson, Mr. Anders Johan    male  39.0      1   \n",
       "18   Vander Planke, Mrs. Julius (Emelia Maria Vande...  female  31.0      1   \n",
       "..                                                 ...     ...   ...    ...   \n",
       "867               Roebling, Mr. Washington Augustus II    male  31.0      0   \n",
       "872                           Carlsson, Mr. Frans Olof    male  33.0      0   \n",
       "881                                 Markun, Mr. Johann    male  33.0      0   \n",
       "885               Rice, Mrs. William (Margaret Norton)  female  39.0      0   \n",
       "890                                Dooley, Mr. Patrick    male  32.0      0   \n",
       "\n",
       "     Parch    Ticket     Fare        Cabin Embarked  \n",
       "1        0  PC 17599  71.2833          C85        C  \n",
       "3        0    113803  53.1000         C123        S  \n",
       "4        0    373450   8.0500          NaN        S  \n",
       "13       5    347082  31.2750          NaN        S  \n",
       "18       0    345763  18.0000          NaN        S  \n",
       "..     ...       ...      ...          ...      ...  \n",
       "867      0  PC 17590  50.4958          A24        S  \n",
       "872      0       695   5.0000  B51 B53 B55        S  \n",
       "881      0    349257   7.8958          NaN        S  \n",
       "885      5    382652  29.1250          NaN        Q  \n",
       "890      0    370376   7.7500          NaN        Q  \n",
       "\n",
       "[180 rows x 12 columns]"
      ]
     },
     "execution_count": 35,
     "metadata": {},
     "output_type": "execute_result"
    }
   ],
   "source": [
    "df[ (df['Age'] >= 30 ) & (df['Age'] <= 40)]"
   ]
  },
  {
   "cell_type": "code",
   "execution_count": null,
   "metadata": {},
   "outputs": [],
   "source": []
  },
  {
   "cell_type": "code",
   "execution_count": null,
   "metadata": {},
   "outputs": [],
   "source": []
  },
  {
   "cell_type": "code",
   "execution_count": null,
   "metadata": {},
   "outputs": [],
   "source": []
  }
 ],
 "metadata": {
  "kernelspec": {
   "display_name": "data-science-coursework (3.13.7)",
   "language": "python",
   "name": "python3"
  },
  "language_info": {
   "codemirror_mode": {
    "name": "ipython",
    "version": 3
   },
   "file_extension": ".py",
   "mimetype": "text/x-python",
   "name": "python",
   "nbconvert_exporter": "python",
   "pygments_lexer": "ipython3",
   "version": "3.13.7"
  }
 },
 "nbformat": 4,
 "nbformat_minor": 4
}
