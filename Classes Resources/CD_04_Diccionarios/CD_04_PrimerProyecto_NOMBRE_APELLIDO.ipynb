{
 "cells": [
  {
   "cell_type": "markdown",
   "id": "b8f819e1-78fa-46bf-839e-eb23010c8e5c",
   "metadata": {},
   "source": [
    "<!--Información del curso-->\n",
    "<img align=\"left\" style=\"padding-right:10px;\" src=\"figuras/banner_cd.png\">"
   ]
  },
  {
   "attachments": {},
   "cell_type": "markdown",
   "id": "a1753f5d-c0a8-4100-948d-394b36145b53",
   "metadata": {},
   "source": [
    "<center><h1 style=\"font-size:2em;color:#2467C0\"> Información de las sabanas del INE recolecta por el movimiento #YOSOY132 en la elección presidencial 2012  </h1></center>\n",
    "\n"
   ]
  },
  {
   "cell_type": "markdown",
   "id": "36af0f11-6b3a-414b-a625-5338ce634dea",
   "metadata": {},
   "source": [
    "<br>\n",
    "<table>\n",
    "<col width=\"650\">\n",
    "<col width=\"550\">\n",
    "<tr>\n",
    "<td><img src=\"figuras/contamos.png\" align=\"middle\" style=\"width:700px\"/></td>\n",
    "<td>\n",
    "    \n",
    "\n",
    "Durante las elecciones presidenciales del año 2012, el colectivo #YOSOY132 pidió a la ciudadanía enviar la foto de su sabana con los resultados de su casilla.\n",
    "\n",
    "    \n",
    "</td>\n",
    "</tr>\n",
    "</table>"
   ]
  },
  {
   "cell_type": "markdown",
   "id": "8a12c1af-2abe-4fcf-91d4-cfb9938bd64f",
   "metadata": {},
   "source": [
    "<div class=\"alert alert-success\">\n",
    "    \n",
    "**Ejericicio**\n",
    "* Hacer equipos de 3 o 4 integrantes.\n",
    "* Hacer un análisis de los datos del directorio SABANAS_ELECCION_2012 \n",
    "* Presentar los resultados obtenidos (enviar la presentación al profesor antes de comenzar la clase, junto con el código)\n",
    "* Responder a la pregunta ¿Son confiables los datos? (Justificar su respuesta)\n",
    "* Entregables por estudiantes: Presentación y archivo .ipynb\n",
    "</div>"
   ]
  },
  {
   "cell_type": "code",
   "execution_count": 45,
   "id": "f0e981e3-23fd-420e-93f8-54fceefd89de",
   "metadata": {},
   "outputs": [],
   "source": [
    "import json\n",
    "\n",
    "with open('SABANAS_INE_ELECCION_2012/file_id-0.json') as file:\n",
    "    data = json.load(file)\n",
    "\n",
    "#print(data)\n",
    "#print(data['sabanas'])"
   ]
  },
  {
   "cell_type": "code",
   "execution_count": null,
   "id": "30878e55",
   "metadata": {},
   "outputs": [],
   "source": []
  },
  {
   "cell_type": "code",
   "execution_count": null,
   "id": "d698ab0e",
   "metadata": {},
   "outputs": [],
   "source": []
  },
  {
   "cell_type": "code",
   "execution_count": null,
   "id": "356c4da4",
   "metadata": {},
   "outputs": [],
   "source": []
  }
 ],
 "metadata": {
  "kernelspec": {
   "display_name": "Python 3",
   "language": "python",
   "name": "python3"
  },
  "language_info": {
   "codemirror_mode": {
    "name": "ipython",
    "version": 3
   },
   "file_extension": ".py",
   "mimetype": "text/x-python",
   "name": "python",
   "nbconvert_exporter": "python",
   "pygments_lexer": "ipython3",
   "version": "3.10.7"
  }
 },
 "nbformat": 4,
 "nbformat_minor": 5
}
