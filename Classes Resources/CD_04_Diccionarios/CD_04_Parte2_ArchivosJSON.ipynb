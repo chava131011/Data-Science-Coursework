{
 "cells": [
  {
   "cell_type": "markdown",
   "metadata": {},
   "source": [
    "<!--Información del curso-->\n",
    "<img align=\"left\" style=\"padding-right:10px;\" src=\"figuras/banner_cd.png\">"
   ]
  },
  {
   "cell_type": "markdown",
   "metadata": {},
   "source": [
    "<center><h1 style=\"font-size:2em;color:#2467C0\"> Archivos JSON  </h1></center>\n",
    "<br>\n",
    "<table>\n",
    "<col width=\"550\">\n",
    "<col width=\"450\">\n",
    "<tr>\n",
    "<td><img src=\"figuras/JSON.png\" align=\"middle\" style=\"width:600px\"/></td>\n",
    "<td>\n",
    "    \n",
    "\n",
    "**JSON** es un formato para el intercambio de datos basado en texto.\n",
    "    \n",
    "El nombre es un acrónimo de las siglas en inglés de JavaScript Object Notation\n",
    "\n",
    "\n",
    "    \n",
    "</td>\n",
    "</tr>\n",
    "</table>"
   ]
  },
  {
   "cell_type": "markdown",
   "metadata": {},
   "source": [
    "## Archivos JSON\n",
    "\n",
    "* JSON es un formato para el intercambio de datos basado en texto.\n",
    "* El nombre es un acrónimo de las siglas en inglés de JavaScript Object Notation\n",
    "* Los datos en los archivos JSON son pares de propiedad valor separados por dos puntos. Estos pares se separan mediante comas y se encierran entre llaves.\n",
    "* El valor de una propiedad puede ser otro objeto JSON, lo que ofrece una gran flexibilidad a la hora de estructurar información. \n",
    "* Esta estructura concuerda con los diccionarios de Python.\n"
   ]
  },
  {
   "cell_type": "markdown",
   "metadata": {},
   "source": [
    "## Archivos JSON y Python"
   ]
  },
  {
   "cell_type": "markdown",
   "metadata": {},
   "source": [
    "El código necesario para traducir el diccionario a formato JSON se encuentra disponible en el módulo **json**.\n",
    "\n",
    "El módulo **json** cuanta con dos funciones principales, ``json.dumps()``  y  ``json.loads()``   , para crear y cargar una estructura de datos en formato JSON.\n"
   ]
  },
  {
   "cell_type": "markdown",
   "metadata": {},
   "source": [
    "###  Diccionario a formato JSON"
   ]
  },
  {
   "cell_type": "markdown",
   "metadata": {},
   "source": [
    "```python\n",
    "import json\n",
    "\n",
    "datos = {\n",
    "    'nombre' : 'Luis Perez',\n",
    "    'edad'   : 18,\n",
    "    'ciudad'   : 'Merida',\n",
    "    'Certificado' : True\n",
    "}\n",
    "\n",
    "DicttoJson = json.dumps(datos)\n",
    "```"
   ]
  },
  {
   "cell_type": "code",
   "execution_count": 14,
   "metadata": {},
   "outputs": [],
   "source": [
    "#Probar el código\n",
    "import json\n",
    "\n",
    "datos = {\n",
    "    'nombre' : 'Luis Perez',\n",
    "    'edad'   : 18,\n",
    "    'ciudad'   : 'Merida',\n",
    "    'Certificado' : True\n",
    "}\n",
    "\n",
    "Dicttojson: str = json.dumps(datos)"
   ]
  },
  {
   "cell_type": "code",
   "execution_count": 15,
   "metadata": {},
   "outputs": [
    {
     "name": "stdout",
     "output_type": "stream",
     "text": [
      "{\"nombre\": \"Luis Perez\", \"edad\": 18, \"ciudad\": \"Merida\", \"Certificado\": true}\n"
     ]
    }
   ],
   "source": [
    "#Imprimir los datos en formato JSON\n",
    "print(Dicttojson)"
   ]
  },
  {
   "cell_type": "markdown",
   "metadata": {},
   "source": [
    "###  Formato JSON a diccionario\n",
    "\n",
    "```python\n",
    "str_json = \"\"\"\n",
    "    {\n",
    "        \"nombre\": \"Luis Perez\",\n",
    "        \"edad\": 18,\n",
    "        \"ciudad\": \"Merida\",\n",
    "        \"Certificado\": true\n",
    "    }\n",
    "\"\"\"\n",
    "\n",
    "jsontoDict = json.loads(str_json)\n",
    "```"
   ]
  },
  {
   "cell_type": "code",
   "execution_count": 16,
   "metadata": {},
   "outputs": [],
   "source": [
    "#Probar el código\n",
    "import json\n",
    "str_json = \"\"\"\n",
    "    {\n",
    "        \"nombre\": \"Luis Perez\",\n",
    "        \"edad\": 18,\n",
    "        \"ciudad\": \"Merida\",\n",
    "        \"Certificado\": true\n",
    "    }\n",
    "\"\"\"\n",
    "\n",
    "jsontoDict = json.loads(str_json)\n"
   ]
  },
  {
   "cell_type": "code",
   "execution_count": 17,
   "metadata": {},
   "outputs": [
    {
     "name": "stdout",
     "output_type": "stream",
     "text": [
      "{'nombre': 'Luis Perez', 'edad': 18, 'ciudad': 'Merida', 'Certificado': True}\n"
     ]
    }
   ],
   "source": [
    "#Imprimir los datos \n",
    "print(jsontoDict)"
   ]
  },
  {
   "cell_type": "markdown",
   "metadata": {},
   "source": [
    "### Diccionario a archivo JSON\n",
    "\n",
    "Cuando deseemos leer o guardar un archivo en formato JSON usaremos las funciones ``dump()`` y  ``load()`` nótese que son diferentes a las anteriores, estas no terminan en \"s\".\n",
    "\n",
    "```python\n",
    "import json\n",
    "\n",
    "datos = {\n",
    "    'nombre' : 'Luis Perez',\n",
    "    'edad'   : 18,\n",
    "    'ciudad'   : 'Merida'\n",
    "}\n",
    "with open('datos.json', 'w') as file:\n",
    "    json.dump(datos, file)\n",
    "```"
   ]
  },
  {
   "cell_type": "code",
   "execution_count": 18,
   "metadata": {},
   "outputs": [],
   "source": [
    "#Probar el código\n",
    "datos = {\n",
    "    'nombre' : 'Luis Perez',\n",
    "    'edad'   : 18,\n",
    "    'ciudad'   : 'Merida'\n",
    "}\n",
    "with open('datos.json', 'w') as file:\n",
    "    json.dump(datos, file)"
   ]
  },
  {
   "cell_type": "markdown",
   "metadata": {},
   "source": [
    "# Archivo JSON a diccionario \n",
    "\n",
    "```python\n",
    "import json\n",
    "\n",
    "with open('datos/file.json', 'r') as file:\n",
    "    data = json.load(file)\n",
    "print(data)\n",
    "```"
   ]
  },
  {
   "cell_type": "code",
   "execution_count": 19,
   "metadata": {},
   "outputs": [
    {
     "name": "stdout",
     "output_type": "stream",
     "text": [
      "{'nombre': 'Juan Perez', 'edad': 18, 'ciudad': 'Merida'}\n"
     ]
    }
   ],
   "source": [
    "#Probar el código\n",
    "with open('datos/file.json', 'r') as file:\n",
    "    data = json.load(file)\n",
    "print(data)"
   ]
  },
  {
   "cell_type": "markdown",
   "metadata": {},
   "source": [
    "### Ejemplo 1: .Clientes de una compañía de créditos\n",
    "\n",
    "Guardando la información en un archivo json\n",
    "\n",
    "```python\n",
    "import json\n",
    "data = {}\n",
    "data['clientes'] = []\n",
    "data['clientes'].append({\n",
    "    'nombre': 'Enrique',\n",
    "    'apellido': 'Lopez',\n",
    "    'edad': 27,\n",
    "    'deuda': 717})\n",
    "data['clientes'].append({\n",
    "    'nombre': 'Maria',\n",
    "    'apellido': 'Ramirez',\n",
    "    'edad': 30,\n",
    "    'deuda': 860})\n",
    "data['clientes'].append({\n",
    "    'nombre': 'Roger',\n",
    "    'apellido': 'May',\n",
    "    'edad': 32,\n",
    "    'deuda': 1045})\n",
    "data['clientes'].append({\n",
    "    'nombre': 'Alonzo',\n",
    "    'apellido': 'Contreras',\n",
    "    'edad': 40,\n",
    "    'deuda': 678})\n",
    "data['clientes'].append({\n",
    "    'nombre': 'Gabriela',\n",
    "    'apellido': 'Martinez',\n",
    "    'edad': 38,\n",
    "    'deuda': 561})    \n",
    "with open('datos_credito.json', 'w') as file:\n",
    "    json.dump(data, file, indent=4)\n",
    "```"
   ]
  },
  {
   "cell_type": "code",
   "execution_count": 20,
   "metadata": {},
   "outputs": [],
   "source": [
    "#Probar el codigo\n",
    "data = {}\n",
    "data['clientes'] = []\n",
    "data['clientes'].append({\n",
    "    'nombre': 'Enrique',\n",
    "    'apellido': 'Lopez',\n",
    "    'edad': 27,\n",
    "    'deuda': 717})\n",
    "data['clientes'].append({\n",
    "    'nombre': 'Maria',\n",
    "    'apellido': 'Ramirez',\n",
    "    'edad': 30,\n",
    "    'deuda': 860})\n",
    "data['clientes'].append({\n",
    "    'nombre': 'Roger',\n",
    "    'apellido': 'May',\n",
    "    'edad': 32,\n",
    "    'deuda': 1045})\n",
    "data['clientes'].append({\n",
    "    'nombre': 'Alonzo',\n",
    "    'apellido': 'Contreras',\n",
    "    'edad': 40,\n",
    "    'deuda': 678})\n",
    "data['clientes'].append({\n",
    "    'nombre': 'Gabriela',\n",
    "    'apellido': 'Martinez',\n",
    "    'edad': 38,\n",
    "    'deuda': 561})    \n",
    "with open('datos_credito.json', 'w') as file:\n",
    "    json.dump(data, file, indent=4)"
   ]
  },
  {
   "cell_type": "markdown",
   "metadata": {},
   "source": [
    "\n",
    "Leyendo la información del archivo json\n",
    "\n",
    "```python\n",
    "with open('datos_credito.json', 'r') as file:\n",
    "    data = json.load(file)\n",
    "\n",
    "print(data)\n",
    "```\n"
   ]
  },
  {
   "cell_type": "code",
   "execution_count": 21,
   "metadata": {},
   "outputs": [
    {
     "name": "stdout",
     "output_type": "stream",
     "text": [
      "{'clientes': [{'nombre': 'Enrique', 'apellido': 'Lopez', 'edad': 27, 'deuda': 717}, {'nombre': 'Maria', 'apellido': 'Ramirez', 'edad': 30, 'deuda': 860}, {'nombre': 'Roger', 'apellido': 'May', 'edad': 32, 'deuda': 1045}, {'nombre': 'Alonzo', 'apellido': 'Contreras', 'edad': 40, 'deuda': 678}, {'nombre': 'Gabriela', 'apellido': 'Martinez', 'edad': 38, 'deuda': 561}]}\n"
     ]
    }
   ],
   "source": [
    "#Imprimir el diccionario data\n",
    "with open('datos_credito.json', 'r') as file:\n",
    "    data = json.load(file)\n",
    "\n",
    "print(data)"
   ]
  },
  {
   "cell_type": "markdown",
   "metadata": {},
   "source": [
    "<div class=\"alert alert-success\">\n",
    "    \n",
    "**Ejericicio**\n",
    "Utilizando el diccionario \"data\", mostrar los siguientes elementos\n",
    "1. Los nombres \n",
    "2. La deuda total de los clientes\n",
    "\n",
    "</div>"
   ]
  },
  {
   "cell_type": "code",
   "execution_count": 22,
   "metadata": {},
   "outputs": [
    {
     "name": "stdout",
     "output_type": "stream",
     "text": [
      "Enrique\n",
      "Maria\n",
      "Roger\n",
      "Alonzo\n",
      "Gabriela\n"
     ]
    }
   ],
   "source": [
    "for key in data['clientes']:\n",
    "    print(key['nombre'])"
   ]
  },
  {
   "cell_type": "code",
   "execution_count": 23,
   "metadata": {},
   "outputs": [
    {
     "name": "stdout",
     "output_type": "stream",
     "text": [
      "3861\n"
     ]
    }
   ],
   "source": [
    "deuda_total = 0\n",
    "for key in data['clientes']:\n",
    "    deuda_total += key['deuda']\n",
    "\n",
    "print(deuda_total)"
   ]
  },
  {
   "cell_type": "code",
   "execution_count": null,
   "metadata": {},
   "outputs": [],
   "source": []
  },
  {
   "cell_type": "markdown",
   "metadata": {},
   "source": [
    "### Ejemplo 2: .Clientes de una compañía de créditos por estado\n",
    "\n",
    "Guardando la información en un archivo json\n",
    "\n",
    "```python\n",
    "import json\n",
    "data = {}\n",
    "data['clientes_merida'] = []\n",
    "data['clientes_campeche'] = []\n",
    "\n",
    "data['clientes_merida'].append({\n",
    "    'nombre': 'Enrique',\n",
    "    'apellido': 'Lopez',\n",
    "    'edad': 27,\n",
    "    'deuda': 717})\n",
    "data['clientes_merida'].append({\n",
    "    'nombre': 'Maria',\n",
    "    'apellido': 'Ramirez',\n",
    "    'edad': 30,\n",
    "    'deuda': 860})\n",
    "data['clientes_merida'].append({\n",
    "    'nombre': 'Roger',\n",
    "    'apellido': 'May',\n",
    "    'edad': 32,\n",
    "    'deuda': 1045})\n",
    "data['clientes_campeche'].append({\n",
    "    'nombre': 'Alonzo',\n",
    "    'apellido': 'Contreras',\n",
    "    'edad': 40,\n",
    "    'deuda': 678})\n",
    "data['clientes_campeche'].append({\n",
    "    'nombre': 'Gabriela',\n",
    "    'apellido': 'Martinez',\n",
    "    'edad': 38,\n",
    "    'deuda': 561})    \n",
    "with open('datos_credito_estado.json', 'w') as file:\n",
    "    json.dump(data, file,indent=4)\n",
    "```"
   ]
  },
  {
   "cell_type": "code",
   "execution_count": 24,
   "metadata": {},
   "outputs": [],
   "source": [
    "#Probar el código \n"
   ]
  },
  {
   "cell_type": "markdown",
   "metadata": {},
   "source": [
    "\n",
    "Leyendo la información del archivo json\n",
    "\n",
    "```python\n",
    "with open('datos_credito_estado.json', 'r') as file:\n",
    "    data = json.load(file)\n",
    "\n",
    "print(data)\n",
    "```"
   ]
  },
  {
   "cell_type": "code",
   "execution_count": 25,
   "metadata": {},
   "outputs": [],
   "source": [
    "#Desplegar el diccionario data\n"
   ]
  },
  {
   "cell_type": "markdown",
   "metadata": {},
   "source": [
    "<div class=\"alert alert-success\">\n",
    "    \n",
    "**Ejericicio**\n",
    "Utilizando el diccionario \"data\", mostrar los siguientes elementos\n",
    "1. Los nombres de los clientes de Campeche\n",
    "2. La deuda total de los clientes de Campeche\n",
    "1. Los nombres de los clientes de ambas sucursales\n",
    "2. La deuda total de los clientes de ambas sucursales\n",
    "</div>"
   ]
  },
  {
   "cell_type": "code",
   "execution_count": null,
   "metadata": {},
   "outputs": [],
   "source": []
  },
  {
   "cell_type": "code",
   "execution_count": null,
   "metadata": {},
   "outputs": [],
   "source": []
  },
  {
   "cell_type": "code",
   "execution_count": null,
   "metadata": {},
   "outputs": [],
   "source": []
  },
  {
   "cell_type": "code",
   "execution_count": null,
   "metadata": {},
   "outputs": [],
   "source": []
  },
  {
   "cell_type": "code",
   "execution_count": null,
   "metadata": {},
   "outputs": [],
   "source": []
  },
  {
   "cell_type": "code",
   "execution_count": null,
   "metadata": {},
   "outputs": [],
   "source": []
  }
 ],
 "metadata": {
  "kernelspec": {
   "display_name": ".venv (3.13.6)",
   "language": "python",
   "name": "python3"
  },
  "language_info": {
   "codemirror_mode": {
    "name": "ipython",
    "version": 3
   },
   "file_extension": ".py",
   "mimetype": "text/x-python",
   "name": "python",
   "nbconvert_exporter": "python",
   "pygments_lexer": "ipython3",
   "version": "3.13.6"
  }
 },
 "nbformat": 4,
 "nbformat_minor": 4
}
