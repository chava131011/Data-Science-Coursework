{
 "cells": [
  {
   "cell_type": "markdown",
   "metadata": {},
   "source": [
    "<!--Información del curso-->\n",
    "<img align=\"left\" style=\"padding-right:10px;\" src=\"figuras/logo_ciencia_datos.png\">"
   ]
  },
  {
   "cell_type": "markdown",
   "metadata": {},
   "source": [
    "# Librerías"
   ]
  },
  {
   "cell_type": "markdown",
   "metadata": {
    "collapsed": true
   },
   "source": [
    "Cargamos las bibliotecas que necesitamos "
   ]
  },
  {
   "cell_type": "code",
   "execution_count": 8,
   "metadata": {},
   "outputs": [],
   "source": [
    "import csv\n",
    "import matplotlib.pyplot as plt"
   ]
  },
  {
   "cell_type": "code",
   "execution_count": 9,
   "metadata": {},
   "outputs": [],
   "source": [
    "with open('datos/lista_estudiantes.csv') as archivo_csv:\n",
    "    datos = csv.reader(archivo_csv)\n",
    "    next(datos)\n",
    "    datos = list(datos)"
   ]
  },
  {
   "cell_type": "markdown",
   "metadata": {},
   "source": [
    "# Tarea"
   ]
  },
  {
   "cell_type": "markdown",
   "metadata": {},
   "source": [
    "<div class=\"alert alert-info\">\n",
    " <ul>\n",
    "  <li>1. Encuentre el número de estudiantes </li>\n",
    "</ul> \n",
    "\n",
    "</div>"
   ]
  },
  {
   "cell_type": "code",
   "execution_count": 10,
   "metadata": {},
   "outputs": [
    {
     "name": "stdout",
     "output_type": "stream",
     "text": [
      "Numero de estudiantes: 35\n"
     ]
    }
   ],
   "source": [
    "num_estudiantes: int = len(list(datos))\n",
    "print(f'Numero de estudiantes: {num_estudiantes}')"
   ]
  },
  {
   "cell_type": "markdown",
   "metadata": {},
   "source": [
    "<div class=\"alert alert-info\">\n",
    " <ul>\n",
    "  <li>2. Hacer una lista llamada lista_promedio, con los promedios de los estudiantes.  </li>\n",
    "</ul> \n",
    "\n",
    "</div>"
   ]
  },
  {
   "cell_type": "code",
   "execution_count": 11,
   "metadata": {},
   "outputs": [
    {
     "name": "stdout",
     "output_type": "stream",
     "text": [
      "[59, 86, 94, 79, 100, 36, 77, 95, 97, 84, 83, 97, 45, 83, 50, 84, 26, 98, 66, 79, 52, 53, 77, 80, 68, 66, 76, 95, 83, 86, 70, 65, 69, 83, 97]\n"
     ]
    }
   ],
   "source": [
    "lista_promedio = []\n",
    "for row in datos:\n",
    "    lista_promedio.append(int(row[6]))\n",
    "print(lista_promedio)"
   ]
  },
  {
   "cell_type": "markdown",
   "metadata": {},
   "source": [
    "<div class=\"alert alert-info\">\n",
    " <ul>\n",
    "  <li> 3. Con la lista_promedio encuentre el valor de la calificación mayor, menor y el promedio general  </li>\n",
    "</ul> \n",
    "\n",
    "</div>"
   ]
  },
  {
   "cell_type": "code",
   "execution_count": 12,
   "metadata": {},
   "outputs": [
    {
     "name": "stdout",
     "output_type": "stream",
     "text": [
      "Mayor promedio: 100\n",
      "Menor promedio: 26\n",
      "Promedio general: 75.37143\n"
     ]
    }
   ],
   "source": [
    "print(f'Mayor promedio: {max((lista_promedio))}')\n",
    "print(f'Menor promedio: {min(lista_promedio)}')\n",
    "\n",
    "suma_cal = 0\n",
    "for cal in lista_promedio:\n",
    "    suma_cal += cal\n",
    "    promedio: float = suma_cal / num_estudiantes\n",
    "\n",
    "print(f'Promedio general: {round(promedio,5)}')"
   ]
  },
  {
   "cell_type": "markdown",
   "metadata": {},
   "source": [
    "<div class=\"alert alert-info\">\n",
    " <ul>\n",
    "  <li> 4. Cuantos estudiantes de cada carrera hay en la lista </li>\n",
    "</ul> \n",
    "\n",
    "</div>\n"
   ]
  },
  {
   "cell_type": "code",
   "execution_count": 13,
   "metadata": {},
   "outputs": [
    {
     "name": "stdout",
     "output_type": "stream",
     "text": [
      "Renovables: 6 estudiantes\n",
      "Fisica: 19 estudiantes\n",
      "Mecatronica: 10 estudiantes\n"
     ]
    }
   ],
   "source": [
    "from collections import defaultdict\n",
    "\n",
    "num_estudiantes_carrera: dict = defaultdict(int)\n",
    "\n",
    "for row in datos:\n",
    "    num_estudiantes_carrera[row[3]] += 1\n",
    "\n",
    "for k,v in num_estudiantes_carrera.items():\n",
    "    print(f'{k}: {v} estudiantes')"
   ]
  },
  {
   "cell_type": "markdown",
   "metadata": {},
   "source": [
    "<div class=\"alert alert-info\">\n",
    " <ul>\n",
    "  <li> 5. Se desea crear un correo con el primer nombre seguido del primer apellido y teniendo el string '@fiuady.mx' </li>\n",
    "  \n",
    "Ejemplo:    \n",
    "* Rodrigo Alejandro,Aguilar Rosel   ->  rodrigo.aguilar@fiuady.mx \n",
    "* Dulce Mariana,Romero Quezada -> dulce.romero@fiuady.mx \n",
    "</ul> \n",
    "\n",
    "</div>\n",
    "\n",
    "##### Convertir  a minúsculas \n",
    "\n",
    "```python\n",
    "Saludo='HolA MUNDo'\n",
    "Saludo.lower()\n",
    "``` "
   ]
  },
  {
   "cell_type": "code",
   "execution_count": 14,
   "metadata": {},
   "outputs": [
    {
     "name": "stdout",
     "output_type": "stream",
     "text": [
      "Correo de estudiantes:\n",
      "rodrigo.aguilar@fiuady.mx\n",
      "miguel.arroyo@fiuady.mx\n",
      "nohely.badillo@fiuady.mx\n",
      "julio.basto@fiuady.mx\n",
      "zaazil.cabreja@fiuady.mx\n",
      "fernando.carrillo@fiuady.mx\n",
      "edwin.castillo@fiuady.mx\n",
      "eduardo.catzin@fiuady.mx\n",
      "dario.chan@fiuady.mx\n",
      "abril.chan@fiuady.mx\n",
      "alexa.dominguez@fiuady.mx\n",
      "guillermo.dzib@fiuady.mx\n",
      "maria.esteban@fiuady.mx\n",
      "rafael.flores@fiuady.mx\n",
      "saul.gamboa@fiuady.mx\n",
      "ricardo.hernandez@fiuady.mx\n",
      "sergio.lopez@fiuady.mx\n",
      "eric.manzanilla@fiuady.mx\n",
      "raul.mercado@fiuady.mx\n",
      "fernando.mora@fiuady.mx\n",
      "jimena.ochoa@fiuady.mx\n",
      "jose.orozco@fiuady.mx\n",
      "bruno.perez@fiuady.mx\n",
      "jose.puc@fiuady.mx\n",
      "carmen.rivera@fiuady.mx\n",
      "hazael.rivero@fiuady.mx\n",
      "laura.rocha@fiuady.mx\n",
      "omar.rodriguez@fiuady.mx\n",
      "dulce.romero@fiuady.mx\n",
      "ariel.ruiz@fiuady.mx\n",
      "rafael.salazar@fiuady.mx\n",
      "alejandro.santoscoy@fiuady.mx\n",
      "luis.sevilla@fiuady.mx\n",
      "alan.vargas@fiuady.mx\n",
      "rafael.vega@fiuady.mx\n"
     ]
    }
   ],
   "source": [
    "print(\"Correo de estudiantes:\")\n",
    "for row in datos:\n",
    "    nombre: str = row[1].split()[0].lower()\n",
    "    apellido: str = row[2].split()[0].lower()\n",
    "    print(f'{nombre}.{apellido}@fiuady.mx')"
   ]
  }
 ],
 "metadata": {
  "kernelspec": {
   "display_name": ".venv (3.13.6)",
   "language": "python",
   "name": "python3"
  },
  "language_info": {
   "codemirror_mode": {
    "name": "ipython",
    "version": 3
   },
   "file_extension": ".py",
   "mimetype": "text/x-python",
   "name": "python",
   "nbconvert_exporter": "python",
   "pygments_lexer": "ipython3",
   "version": "3.13.6"
  }
 },
 "nbformat": 4,
 "nbformat_minor": 4
}
