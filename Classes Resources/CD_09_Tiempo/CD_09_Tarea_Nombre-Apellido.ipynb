{
 "cells": [
  {
   "cell_type": "markdown",
   "metadata": {},
   "source": [
    "<!--Información del curso-->\n",
    "<img align=\"left\" style=\"padding-right:10px;\" src=\"figuras/logo_ciencia_datos.png\">"
   ]
  },
  {
   "cell_type": "markdown",
   "metadata": {},
   "source": [
    "# Librerías\n",
    "\n",
    "Cargando las bibliotecas que necesitamos \n"
   ]
  },
  {
   "cell_type": "code",
   "execution_count": null,
   "metadata": {},
   "outputs": [],
   "source": [
    "import pandas as pd\n",
    "import numpy as np\n",
    "import matplotlib.pyplot as plt"
   ]
  },
  {
   "cell_type": "markdown",
   "metadata": {},
   "source": [
    "## Ejercicio 1:  Datos de la estación meteorologica de Progreso, Yucatán\n",
    "\n",
    "Fuente:  https://smn.conagua.gob.mx/es/observando-el-tiempo/estaciones-meteorologicas-automaticas-ema-s"
   ]
  },
  {
   "cell_type": "code",
   "execution_count": null,
   "metadata": {},
   "outputs": [],
   "source": [
    "df= pd.read_csv(\"datos/Estacion_PROGRESO_90_dias_19Nov.csv\")\n",
    "df.head(5)"
   ]
  },
  {
   "cell_type": "markdown",
   "metadata": {},
   "source": [
    "<div class=\"alert alert-info\">\n",
    "\n",
    "<b>EJERCICIO</b>:\n",
    "\n",
    " <ul>\n",
    "  <li> Configurar la columna de 'FechaLocal' como índice temporal  </li>\n",
    "</ul>\n",
    "</div>"
   ]
  },
  {
   "cell_type": "code",
   "execution_count": null,
   "metadata": {},
   "outputs": [],
   "source": [
    "df['FechaLocal'] = pd.to_datetime(df['FechaLocal'], format= '%d/%m/%Y %H:%M')"
   ]
  },
  {
   "cell_type": "code",
   "execution_count": null,
   "metadata": {},
   "outputs": [],
   "source": [
    "df = df.set_index('FechaLocal')"
   ]
  },
  {
   "cell_type": "code",
   "execution_count": null,
   "metadata": {},
   "outputs": [],
   "source": [
    "df.head()"
   ]
  },
  {
   "cell_type": "markdown",
   "metadata": {},
   "source": [
    "<div class=\"alert alert-success\">\n",
    "    \n",
    "a). Graficar la Precipitación total por día, semana y mes (graficas separadas)\n",
    "    \n",
    "</div> "
   ]
  },
  {
   "cell_type": "code",
   "execution_count": null,
   "metadata": {},
   "outputs": [],
   "source": [
    "daily = df.resample('D').sum()\n",
    "daily['Precipitacion(mm)'].plot(ylabel='Precipitacion Total', xlabel='')"
   ]
  },
  {
   "cell_type": "code",
   "execution_count": null,
   "metadata": {},
   "outputs": [],
   "source": [
    "weekly = df.resample('W').sum()\n",
    "weekly['Precipitacion(mm)'].plot(ylabel='Precipitacion', xlabel='', kind='bar')"
   ]
  },
  {
   "cell_type": "code",
   "execution_count": null,
   "metadata": {},
   "outputs": [],
   "source": [
    "monthly = df.resample('ME').sum()\n",
    "monthly['Precipitacion(mm)'].plot(ylabel='Precipitacion Total', xlabel='', kind='bar')"
   ]
  },
  {
   "cell_type": "markdown",
   "metadata": {},
   "source": [
    "<div class=\"alert alert-success\">\n",
    "    \n",
    "b). En una misma grafica muestre la media, el valor mínimo y el máximo de la temperatura del aire\n",
    "    \n",
    "</div> "
   ]
  },
  {
   "cell_type": "code",
   "execution_count": null,
   "metadata": {},
   "outputs": [],
   "source": [
    "temps_daily = pd.DataFrame()\n",
    "temps_daily['Media'] = df['TemperaturaAire(C)'].resample('D').mean()\n",
    "temps_daily['Min'] = df['TemperaturaAire(C)'].resample('D').min()\n",
    "temps_daily['Max'] = df['TemperaturaAire(C)'].resample('D').max()\n",
    "temps_daily.plot(ylabel='Temperatura aire', xlabel='')"
   ]
  },
  {
   "cell_type": "markdown",
   "metadata": {},
   "source": [
    "<div class=\"alert alert-success\">\n",
    "    \n",
    "c). Encontrar el día que en suma recibió mayor radiación solar; con este día haga una grafica con el parámetro de la mediana para cada 30 minutos.\n",
    "    \n",
    "</div> "
   ]
  },
  {
   "cell_type": "code",
   "execution_count": null,
   "metadata": {},
   "outputs": [],
   "source": [
    "rad_sum_daily = df['RadiacionSolar(W/m2)'].resample('D').sum()\n",
    "max_rad_value = rad_sum_daily.max()\n",
    "\n",
    "day_max_rad = str(rad_sum_daily[rad_sum_daily == max_rad_value].index[0]).split(' ')[0]\n",
    "\n",
    "df.loc[day_max_rad]['RadiacionSolar(W/m2)'].resample('30min').median().fillna(0).plot(ylabel='Radiacion Solar', xlabel='')"
   ]
  },
  {
   "cell_type": "markdown",
   "metadata": {},
   "source": [
    "# Ejercicio 2: Incendios en México"
   ]
  },
  {
   "cell_type": "code",
   "execution_count": null,
   "metadata": {},
   "outputs": [],
   "source": [
    "df= pd.read_csv(\"datos/Serie_historica_anual_incendios_2017.csv\")\n",
    "df.head(5)"
   ]
  },
  {
   "cell_type": "markdown",
   "metadata": {},
   "source": [
    "<div class=\"alert alert-info\">\n",
    "\n",
    "<b>EJERCICIO</b>:\n",
    "\n",
    " <ul>\n",
    "  <li> Configurar la columna de 'Fecha Inicio' como índice temporal desde el inicio de su lectura </li>\n",
    "</ul>\n",
    "</div>"
   ]
  },
  {
   "cell_type": "code",
   "execution_count": null,
   "metadata": {},
   "outputs": [],
   "source": [
    "#  'Fecha Inicio' tiene índice 13\n",
    "df = pd.read_csv(\"datos/Serie_historica_anual_incendios_2017.csv\", index_col=13, parse_dates=True, date_format='%d/%m/%Y')\n",
    "df.head()"
   ]
  },
  {
   "cell_type": "markdown",
   "metadata": {},
   "source": [
    "Para poder realizar la segmentación(slicing) de días, semanas o meses será necesario ordenar los índices por fecha."
   ]
  },
  {
   "cell_type": "code",
   "execution_count": null,
   "metadata": {},
   "outputs": [],
   "source": [
    "df = df.sort_index()\n",
    "df.tail()"
   ]
  },
  {
   "cell_type": "markdown",
   "metadata": {},
   "source": [
    "<div class=\"alert alert-success\">\n",
    "    \n",
    "d). Graficar la superficie Total de hectáreas afectadas en todo el país por día\n",
    "    \n",
    "</div> "
   ]
  },
  {
   "cell_type": "code",
   "execution_count": null,
   "metadata": {},
   "outputs": [],
   "source": [
    "df['Total Hectareas'].resample('D').sum().plot(ylabel='Superficie Afectada', xlabel='')"
   ]
  },
  {
   "cell_type": "markdown",
   "metadata": {},
   "source": [
    "<div class=\"alert alert-success\">\n",
    "    \n",
    "e). Graficar la superficie total de hectáreas afectadas sólo en Yucatán por mes\n",
    "    \n",
    "</div> "
   ]
  },
  {
   "cell_type": "code",
   "execution_count": null,
   "metadata": {},
   "outputs": [],
   "source": [
    "df[df['Estado'] == 'Yucatán']['Total Hectareas'].resample('ME').sum().plot(xlabel='', ylabel='Hectareas Afectadas')"
   ]
  },
  {
   "cell_type": "markdown",
   "metadata": {},
   "source": [
    "<div class=\"alert alert-success\">\n",
    "    \n",
    "f). Graficar la superficie total de hectáreas afectadas por semana sólo en Jalisco para los meses abril, mayo, junio y julio \n",
    "    \n",
    "</div> "
   ]
  },
  {
   "cell_type": "code",
   "execution_count": null,
   "metadata": {},
   "outputs": [],
   "source": [
    "df_sorted = df[df['Estado'] == 'Jalisco']['Total Hectareas'].resample('W').sum()\n",
    "\n",
    "df_sorted[df_sorted.index.month.isin([4,5,6,7])].plot(xlabel='', ylabel='Hectareas Afectadas')"
   ]
  },
  {
   "cell_type": "markdown",
   "metadata": {},
   "source": [
    "# Ejercicio 3: Pacientes confirmados con Covid en México\n"
   ]
  },
  {
   "cell_type": "markdown",
   "metadata": {},
   "source": [
    "Fuente: https://datos.covid-19.conacyt.mx/#DownZCSV"
   ]
  },
  {
   "cell_type": "markdown",
   "metadata": {},
   "source": [
    "<div class=\"alert alert-info\">\n",
    "\n",
    "<b>EJERCICIO</b>:\n",
    "\n",
    " <ul>\n",
    "  <li> Para el análisis por fechas   </li>\n",
    "</ul>\n",
    "</div>"
   ]
  },
  {
   "cell_type": "markdown",
   "metadata": {},
   "source": [
    "Como veremos a continuacón los datos de fecha se encuentran en las columnas, por lo que será necesario invertir su posición"
   ]
  },
  {
   "cell_type": "code",
   "execution_count": 99,
   "metadata": {},
   "outputs": [
    {
     "data": {
      "application/vnd.microsoft.datawrangler.viewer.v0+json": {
       "columns": [
        {
         "name": "index",
         "rawType": "int64",
         "type": "integer"
        },
        {
         "name": "cve_ent",
         "rawType": "int64",
         "type": "integer"
        },
        {
         "name": "poblacion",
         "rawType": "int64",
         "type": "integer"
        },
        {
         "name": "nombre",
         "rawType": "object",
         "type": "string"
        },
        {
         "name": "12-01-2020",
         "rawType": "int64",
         "type": "integer"
        },
        {
         "name": "13-01-2020",
         "rawType": "int64",
         "type": "integer"
        },
        {
         "name": "14-01-2020",
         "rawType": "int64",
         "type": "integer"
        },
        {
         "name": "15-01-2020",
         "rawType": "int64",
         "type": "integer"
        },
        {
         "name": "16-01-2020",
         "rawType": "int64",
         "type": "integer"
        },
        {
         "name": "17-01-2020",
         "rawType": "int64",
         "type": "integer"
        },
        {
         "name": "18-01-2020",
         "rawType": "int64",
         "type": "integer"
        },
        {
         "name": "19-01-2020",
         "rawType": "int64",
         "type": "integer"
        },
        {
         "name": "20-01-2020",
         "rawType": "int64",
         "type": "integer"
        },
        {
         "name": "21-01-2020",
         "rawType": "int64",
         "type": "integer"
        },
        {
         "name": "22-01-2020",
         "rawType": "int64",
         "type": "integer"
        },
        {
         "name": "23-01-2020",
         "rawType": "int64",
         "type": "integer"
        },
        {
         "name": "24-01-2020",
         "rawType": "int64",
         "type": "integer"
        },
        {
         "name": "25-01-2020",
         "rawType": "int64",
         "type": "integer"
        },
        {
         "name": "26-01-2020",
         "rawType": "int64",
         "type": "integer"
        },
        {
         "name": "27-01-2020",
         "rawType": "int64",
         "type": "integer"
        },
        {
         "name": "28-01-2020",
         "rawType": "int64",
         "type": "integer"
        },
        {
         "name": "29-01-2020",
         "rawType": "int64",
         "type": "integer"
        },
        {
         "name": "30-01-2020",
         "rawType": "int64",
         "type": "integer"
        },
        {
         "name": "31-01-2020",
         "rawType": "int64",
         "type": "integer"
        },
        {
         "name": "01-02-2020",
         "rawType": "int64",
         "type": "integer"
        },
        {
         "name": "02-02-2020",
         "rawType": "int64",
         "type": "integer"
        },
        {
         "name": "03-02-2020",
         "rawType": "int64",
         "type": "integer"
        },
        {
         "name": "04-02-2020",
         "rawType": "int64",
         "type": "integer"
        },
        {
         "name": "05-02-2020",
         "rawType": "int64",
         "type": "integer"
        },
        {
         "name": "06-02-2020",
         "rawType": "int64",
         "type": "integer"
        },
        {
         "name": "07-02-2020",
         "rawType": "int64",
         "type": "integer"
        },
        {
         "name": "08-02-2020",
         "rawType": "int64",
         "type": "integer"
        },
        {
         "name": "09-02-2020",
         "rawType": "int64",
         "type": "integer"
        },
        {
         "name": "10-02-2020",
         "rawType": "int64",
         "type": "integer"
        },
        {
         "name": "11-02-2020",
         "rawType": "int64",
         "type": "integer"
        },
        {
         "name": "12-02-2020",
         "rawType": "int64",
         "type": "integer"
        },
        {
         "name": "13-02-2020",
         "rawType": "int64",
         "type": "integer"
        },
        {
         "name": "14-02-2020",
         "rawType": "int64",
         "type": "integer"
        },
        {
         "name": "15-02-2020",
         "rawType": "int64",
         "type": "integer"
        },
        {
         "name": "16-02-2020",
         "rawType": "int64",
         "type": "integer"
        },
        {
         "name": "17-02-2020",
         "rawType": "int64",
         "type": "integer"
        },
        {
         "name": "18-02-2020",
         "rawType": "int64",
         "type": "integer"
        },
        {
         "name": "19-02-2020",
         "rawType": "int64",
         "type": "integer"
        },
        {
         "name": "20-02-2020",
         "rawType": "int64",
         "type": "integer"
        },
        {
         "name": "21-02-2020",
         "rawType": "int64",
         "type": "integer"
        },
        {
         "name": "22-02-2020",
         "rawType": "int64",
         "type": "integer"
        },
        {
         "name": "23-02-2020",
         "rawType": "int64",
         "type": "integer"
        },
        {
         "name": "24-02-2020",
         "rawType": "int64",
         "type": "integer"
        },
        {
         "name": "25-02-2020",
         "rawType": "int64",
         "type": "integer"
        },
        {
         "name": "26-02-2020",
         "rawType": "int64",
         "type": "integer"
        },
        {
         "name": "27-02-2020",
         "rawType": "int64",
         "type": "integer"
        },
        {
         "name": "28-02-2020",
         "rawType": "int64",
         "type": "integer"
        },
        {
         "name": "29-02-2020",
         "rawType": "int64",
         "type": "integer"
        },
        {
         "name": "01-03-2020",
         "rawType": "int64",
         "type": "integer"
        },
        {
         "name": "02-03-2020",
         "rawType": "int64",
         "type": "integer"
        },
        {
         "name": "03-03-2020",
         "rawType": "int64",
         "type": "integer"
        },
        {
         "name": "04-03-2020",
         "rawType": "int64",
         "type": "integer"
        },
        {
         "name": "05-03-2020",
         "rawType": "int64",
         "type": "integer"
        },
        {
         "name": "06-03-2020",
         "rawType": "int64",
         "type": "integer"
        },
        {
         "name": "07-03-2020",
         "rawType": "int64",
         "type": "integer"
        },
        {
         "name": "08-03-2020",
         "rawType": "int64",
         "type": "integer"
        },
        {
         "name": "09-03-2020",
         "rawType": "int64",
         "type": "integer"
        },
        {
         "name": "10-03-2020",
         "rawType": "int64",
         "type": "integer"
        },
        {
         "name": "11-03-2020",
         "rawType": "int64",
         "type": "integer"
        },
        {
         "name": "12-03-2020",
         "rawType": "int64",
         "type": "integer"
        },
        {
         "name": "13-03-2020",
         "rawType": "int64",
         "type": "integer"
        },
        {
         "name": "14-03-2020",
         "rawType": "int64",
         "type": "integer"
        },
        {
         "name": "15-03-2020",
         "rawType": "int64",
         "type": "integer"
        },
        {
         "name": "16-03-2020",
         "rawType": "int64",
         "type": "integer"
        },
        {
         "name": "17-03-2020",
         "rawType": "int64",
         "type": "integer"
        },
        {
         "name": "18-03-2020",
         "rawType": "int64",
         "type": "integer"
        },
        {
         "name": "19-03-2020",
         "rawType": "int64",
         "type": "integer"
        },
        {
         "name": "20-03-2020",
         "rawType": "int64",
         "type": "integer"
        },
        {
         "name": "21-03-2020",
         "rawType": "int64",
         "type": "integer"
        },
        {
         "name": "22-03-2020",
         "rawType": "int64",
         "type": "integer"
        },
        {
         "name": "23-03-2020",
         "rawType": "int64",
         "type": "integer"
        },
        {
         "name": "24-03-2020",
         "rawType": "int64",
         "type": "integer"
        },
        {
         "name": "25-03-2020",
         "rawType": "int64",
         "type": "integer"
        },
        {
         "name": "26-03-2020",
         "rawType": "int64",
         "type": "integer"
        },
        {
         "name": "27-03-2020",
         "rawType": "int64",
         "type": "integer"
        },
        {
         "name": "28-03-2020",
         "rawType": "int64",
         "type": "integer"
        },
        {
         "name": "29-03-2020",
         "rawType": "int64",
         "type": "integer"
        },
        {
         "name": "30-03-2020",
         "rawType": "int64",
         "type": "integer"
        },
        {
         "name": "31-03-2020",
         "rawType": "int64",
         "type": "integer"
        },
        {
         "name": "01-04-2020",
         "rawType": "int64",
         "type": "integer"
        },
        {
         "name": "02-04-2020",
         "rawType": "int64",
         "type": "integer"
        },
        {
         "name": "03-04-2020",
         "rawType": "int64",
         "type": "integer"
        },
        {
         "name": "04-04-2020",
         "rawType": "int64",
         "type": "integer"
        },
        {
         "name": "05-04-2020",
         "rawType": "int64",
         "type": "integer"
        },
        {
         "name": "06-04-2020",
         "rawType": "int64",
         "type": "integer"
        },
        {
         "name": "07-04-2020",
         "rawType": "int64",
         "type": "integer"
        },
        {
         "name": "08-04-2020",
         "rawType": "int64",
         "type": "integer"
        },
        {
         "name": "09-04-2020",
         "rawType": "int64",
         "type": "integer"
        },
        {
         "name": "10-04-2020",
         "rawType": "int64",
         "type": "integer"
        },
        {
         "name": "11-04-2020",
         "rawType": "int64",
         "type": "integer"
        },
        {
         "name": "12-04-2020",
         "rawType": "int64",
         "type": "integer"
        },
        {
         "name": "13-04-2020",
         "rawType": "int64",
         "type": "integer"
        },
        {
         "name": "14-04-2020",
         "rawType": "int64",
         "type": "integer"
        },
        {
         "name": "15-04-2020",
         "rawType": "int64",
         "type": "integer"
        },
        {
         "name": "16-04-2020",
         "rawType": "int64",
         "type": "integer"
        },
        {
         "name": "17-04-2020",
         "rawType": "int64",
         "type": "integer"
        },
        {
         "name": "18-04-2020",
         "rawType": "int64",
         "type": "integer"
        },
        {
         "name": "19-04-2020",
         "rawType": "int64",
         "type": "integer"
        },
        {
         "name": "20-04-2020",
         "rawType": "int64",
         "type": "integer"
        },
        {
         "name": "21-04-2020",
         "rawType": "int64",
         "type": "integer"
        },
        {
         "name": "22-04-2020",
         "rawType": "int64",
         "type": "integer"
        },
        {
         "name": "23-04-2020",
         "rawType": "int64",
         "type": "integer"
        },
        {
         "name": "24-04-2020",
         "rawType": "int64",
         "type": "integer"
        },
        {
         "name": "25-04-2020",
         "rawType": "int64",
         "type": "integer"
        },
        {
         "name": "26-04-2020",
         "rawType": "int64",
         "type": "integer"
        },
        {
         "name": "27-04-2020",
         "rawType": "int64",
         "type": "integer"
        },
        {
         "name": "28-04-2020",
         "rawType": "int64",
         "type": "integer"
        },
        {
         "name": "29-04-2020",
         "rawType": "int64",
         "type": "integer"
        },
        {
         "name": "30-04-2020",
         "rawType": "int64",
         "type": "integer"
        },
        {
         "name": "01-05-2020",
         "rawType": "int64",
         "type": "integer"
        },
        {
         "name": "02-05-2020",
         "rawType": "int64",
         "type": "integer"
        },
        {
         "name": "03-05-2020",
         "rawType": "int64",
         "type": "integer"
        },
        {
         "name": "04-05-2020",
         "rawType": "int64",
         "type": "integer"
        },
        {
         "name": "05-05-2020",
         "rawType": "int64",
         "type": "integer"
        },
        {
         "name": "06-05-2020",
         "rawType": "int64",
         "type": "integer"
        },
        {
         "name": "07-05-2020",
         "rawType": "int64",
         "type": "integer"
        },
        {
         "name": "08-05-2020",
         "rawType": "int64",
         "type": "integer"
        },
        {
         "name": "09-05-2020",
         "rawType": "int64",
         "type": "integer"
        },
        {
         "name": "10-05-2020",
         "rawType": "int64",
         "type": "integer"
        },
        {
         "name": "11-05-2020",
         "rawType": "int64",
         "type": "integer"
        },
        {
         "name": "12-05-2020",
         "rawType": "int64",
         "type": "integer"
        },
        {
         "name": "13-05-2020",
         "rawType": "int64",
         "type": "integer"
        },
        {
         "name": "14-05-2020",
         "rawType": "int64",
         "type": "integer"
        },
        {
         "name": "15-05-2020",
         "rawType": "int64",
         "type": "integer"
        },
        {
         "name": "16-05-2020",
         "rawType": "int64",
         "type": "integer"
        },
        {
         "name": "17-05-2020",
         "rawType": "int64",
         "type": "integer"
        },
        {
         "name": "18-05-2020",
         "rawType": "int64",
         "type": "integer"
        },
        {
         "name": "19-05-2020",
         "rawType": "int64",
         "type": "integer"
        },
        {
         "name": "20-05-2020",
         "rawType": "int64",
         "type": "integer"
        },
        {
         "name": "21-05-2020",
         "rawType": "int64",
         "type": "integer"
        },
        {
         "name": "22-05-2020",
         "rawType": "int64",
         "type": "integer"
        },
        {
         "name": "23-05-2020",
         "rawType": "int64",
         "type": "integer"
        },
        {
         "name": "24-05-2020",
         "rawType": "int64",
         "type": "integer"
        },
        {
         "name": "25-05-2020",
         "rawType": "int64",
         "type": "integer"
        },
        {
         "name": "26-05-2020",
         "rawType": "int64",
         "type": "integer"
        },
        {
         "name": "27-05-2020",
         "rawType": "int64",
         "type": "integer"
        },
        {
         "name": "28-05-2020",
         "rawType": "int64",
         "type": "integer"
        },
        {
         "name": "29-05-2020",
         "rawType": "int64",
         "type": "integer"
        },
        {
         "name": "30-05-2020",
         "rawType": "int64",
         "type": "integer"
        },
        {
         "name": "31-05-2020",
         "rawType": "int64",
         "type": "integer"
        },
        {
         "name": "01-06-2020",
         "rawType": "int64",
         "type": "integer"
        },
        {
         "name": "02-06-2020",
         "rawType": "int64",
         "type": "integer"
        },
        {
         "name": "03-06-2020",
         "rawType": "int64",
         "type": "integer"
        },
        {
         "name": "04-06-2020",
         "rawType": "int64",
         "type": "integer"
        },
        {
         "name": "05-06-2020",
         "rawType": "int64",
         "type": "integer"
        },
        {
         "name": "06-06-2020",
         "rawType": "int64",
         "type": "integer"
        },
        {
         "name": "07-06-2020",
         "rawType": "int64",
         "type": "integer"
        },
        {
         "name": "08-06-2020",
         "rawType": "int64",
         "type": "integer"
        },
        {
         "name": "09-06-2020",
         "rawType": "int64",
         "type": "integer"
        },
        {
         "name": "10-06-2020",
         "rawType": "int64",
         "type": "integer"
        },
        {
         "name": "11-06-2020",
         "rawType": "int64",
         "type": "integer"
        },
        {
         "name": "12-06-2020",
         "rawType": "int64",
         "type": "integer"
        },
        {
         "name": "13-06-2020",
         "rawType": "int64",
         "type": "integer"
        },
        {
         "name": "14-06-2020",
         "rawType": "int64",
         "type": "integer"
        },
        {
         "name": "15-06-2020",
         "rawType": "int64",
         "type": "integer"
        },
        {
         "name": "16-06-2020",
         "rawType": "int64",
         "type": "integer"
        },
        {
         "name": "17-06-2020",
         "rawType": "int64",
         "type": "integer"
        },
        {
         "name": "18-06-2020",
         "rawType": "int64",
         "type": "integer"
        },
        {
         "name": "19-06-2020",
         "rawType": "int64",
         "type": "integer"
        },
        {
         "name": "20-06-2020",
         "rawType": "int64",
         "type": "integer"
        },
        {
         "name": "21-06-2020",
         "rawType": "int64",
         "type": "integer"
        },
        {
         "name": "22-06-2020",
         "rawType": "int64",
         "type": "integer"
        },
        {
         "name": "23-06-2020",
         "rawType": "int64",
         "type": "integer"
        },
        {
         "name": "24-06-2020",
         "rawType": "int64",
         "type": "integer"
        },
        {
         "name": "25-06-2020",
         "rawType": "int64",
         "type": "integer"
        },
        {
         "name": "26-06-2020",
         "rawType": "int64",
         "type": "integer"
        },
        {
         "name": "27-06-2020",
         "rawType": "int64",
         "type": "integer"
        },
        {
         "name": "28-06-2020",
         "rawType": "int64",
         "type": "integer"
        },
        {
         "name": "29-06-2020",
         "rawType": "int64",
         "type": "integer"
        },
        {
         "name": "30-06-2020",
         "rawType": "int64",
         "type": "integer"
        },
        {
         "name": "01-07-2020",
         "rawType": "int64",
         "type": "integer"
        },
        {
         "name": "02-07-2020",
         "rawType": "int64",
         "type": "integer"
        },
        {
         "name": "03-07-2020",
         "rawType": "int64",
         "type": "integer"
        },
        {
         "name": "04-07-2020",
         "rawType": "int64",
         "type": "integer"
        },
        {
         "name": "05-07-2020",
         "rawType": "int64",
         "type": "integer"
        },
        {
         "name": "06-07-2020",
         "rawType": "int64",
         "type": "integer"
        },
        {
         "name": "07-07-2020",
         "rawType": "int64",
         "type": "integer"
        },
        {
         "name": "08-07-2020",
         "rawType": "int64",
         "type": "integer"
        },
        {
         "name": "09-07-2020",
         "rawType": "int64",
         "type": "integer"
        },
        {
         "name": "10-07-2020",
         "rawType": "int64",
         "type": "integer"
        },
        {
         "name": "11-07-2020",
         "rawType": "int64",
         "type": "integer"
        },
        {
         "name": "12-07-2020",
         "rawType": "int64",
         "type": "integer"
        },
        {
         "name": "13-07-2020",
         "rawType": "int64",
         "type": "integer"
        },
        {
         "name": "14-07-2020",
         "rawType": "int64",
         "type": "integer"
        },
        {
         "name": "15-07-2020",
         "rawType": "int64",
         "type": "integer"
        },
        {
         "name": "16-07-2020",
         "rawType": "int64",
         "type": "integer"
        },
        {
         "name": "17-07-2020",
         "rawType": "int64",
         "type": "integer"
        },
        {
         "name": "18-07-2020",
         "rawType": "int64",
         "type": "integer"
        },
        {
         "name": "19-07-2020",
         "rawType": "int64",
         "type": "integer"
        },
        {
         "name": "20-07-2020",
         "rawType": "int64",
         "type": "integer"
        },
        {
         "name": "21-07-2020",
         "rawType": "int64",
         "type": "integer"
        },
        {
         "name": "22-07-2020",
         "rawType": "int64",
         "type": "integer"
        },
        {
         "name": "23-07-2020",
         "rawType": "int64",
         "type": "integer"
        },
        {
         "name": "24-07-2020",
         "rawType": "int64",
         "type": "integer"
        },
        {
         "name": "25-07-2020",
         "rawType": "int64",
         "type": "integer"
        },
        {
         "name": "26-07-2020",
         "rawType": "int64",
         "type": "integer"
        },
        {
         "name": "27-07-2020",
         "rawType": "int64",
         "type": "integer"
        },
        {
         "name": "28-07-2020",
         "rawType": "int64",
         "type": "integer"
        },
        {
         "name": "29-07-2020",
         "rawType": "int64",
         "type": "integer"
        },
        {
         "name": "30-07-2020",
         "rawType": "int64",
         "type": "integer"
        },
        {
         "name": "31-07-2020",
         "rawType": "int64",
         "type": "integer"
        },
        {
         "name": "01-08-2020",
         "rawType": "int64",
         "type": "integer"
        },
        {
         "name": "02-08-2020",
         "rawType": "int64",
         "type": "integer"
        },
        {
         "name": "03-08-2020",
         "rawType": "int64",
         "type": "integer"
        },
        {
         "name": "04-08-2020",
         "rawType": "int64",
         "type": "integer"
        },
        {
         "name": "05-08-2020",
         "rawType": "int64",
         "type": "integer"
        },
        {
         "name": "06-08-2020",
         "rawType": "int64",
         "type": "integer"
        },
        {
         "name": "07-08-2020",
         "rawType": "int64",
         "type": "integer"
        },
        {
         "name": "08-08-2020",
         "rawType": "int64",
         "type": "integer"
        },
        {
         "name": "09-08-2020",
         "rawType": "int64",
         "type": "integer"
        },
        {
         "name": "10-08-2020",
         "rawType": "int64",
         "type": "integer"
        },
        {
         "name": "11-08-2020",
         "rawType": "int64",
         "type": "integer"
        },
        {
         "name": "12-08-2020",
         "rawType": "int64",
         "type": "integer"
        },
        {
         "name": "13-08-2020",
         "rawType": "int64",
         "type": "integer"
        },
        {
         "name": "14-08-2020",
         "rawType": "int64",
         "type": "integer"
        },
        {
         "name": "15-08-2020",
         "rawType": "int64",
         "type": "integer"
        },
        {
         "name": "16-08-2020",
         "rawType": "int64",
         "type": "integer"
        },
        {
         "name": "17-08-2020",
         "rawType": "int64",
         "type": "integer"
        },
        {
         "name": "18-08-2020",
         "rawType": "int64",
         "type": "integer"
        },
        {
         "name": "19-08-2020",
         "rawType": "int64",
         "type": "integer"
        },
        {
         "name": "20-08-2020",
         "rawType": "int64",
         "type": "integer"
        },
        {
         "name": "21-08-2020",
         "rawType": "int64",
         "type": "integer"
        },
        {
         "name": "22-08-2020",
         "rawType": "int64",
         "type": "integer"
        },
        {
         "name": "23-08-2020",
         "rawType": "int64",
         "type": "integer"
        },
        {
         "name": "24-08-2020",
         "rawType": "int64",
         "type": "integer"
        },
        {
         "name": "25-08-2020",
         "rawType": "int64",
         "type": "integer"
        },
        {
         "name": "26-08-2020",
         "rawType": "int64",
         "type": "integer"
        },
        {
         "name": "27-08-2020",
         "rawType": "int64",
         "type": "integer"
        },
        {
         "name": "28-08-2020",
         "rawType": "int64",
         "type": "integer"
        },
        {
         "name": "29-08-2020",
         "rawType": "int64",
         "type": "integer"
        },
        {
         "name": "30-08-2020",
         "rawType": "int64",
         "type": "integer"
        },
        {
         "name": "31-08-2020",
         "rawType": "int64",
         "type": "integer"
        },
        {
         "name": "01-09-2020",
         "rawType": "int64",
         "type": "integer"
        },
        {
         "name": "02-09-2020",
         "rawType": "int64",
         "type": "integer"
        },
        {
         "name": "03-09-2020",
         "rawType": "int64",
         "type": "integer"
        },
        {
         "name": "04-09-2020",
         "rawType": "int64",
         "type": "integer"
        },
        {
         "name": "05-09-2020",
         "rawType": "int64",
         "type": "integer"
        },
        {
         "name": "06-09-2020",
         "rawType": "int64",
         "type": "integer"
        },
        {
         "name": "07-09-2020",
         "rawType": "int64",
         "type": "integer"
        },
        {
         "name": "08-09-2020",
         "rawType": "int64",
         "type": "integer"
        },
        {
         "name": "09-09-2020",
         "rawType": "int64",
         "type": "integer"
        },
        {
         "name": "10-09-2020",
         "rawType": "int64",
         "type": "integer"
        },
        {
         "name": "11-09-2020",
         "rawType": "int64",
         "type": "integer"
        },
        {
         "name": "12-09-2020",
         "rawType": "int64",
         "type": "integer"
        },
        {
         "name": "13-09-2020",
         "rawType": "int64",
         "type": "integer"
        },
        {
         "name": "14-09-2020",
         "rawType": "int64",
         "type": "integer"
        },
        {
         "name": "15-09-2020",
         "rawType": "int64",
         "type": "integer"
        },
        {
         "name": "16-09-2020",
         "rawType": "int64",
         "type": "integer"
        },
        {
         "name": "17-09-2020",
         "rawType": "int64",
         "type": "integer"
        },
        {
         "name": "18-09-2020",
         "rawType": "int64",
         "type": "integer"
        },
        {
         "name": "19-09-2020",
         "rawType": "int64",
         "type": "integer"
        },
        {
         "name": "20-09-2020",
         "rawType": "int64",
         "type": "integer"
        },
        {
         "name": "21-09-2020",
         "rawType": "int64",
         "type": "integer"
        },
        {
         "name": "22-09-2020",
         "rawType": "int64",
         "type": "integer"
        },
        {
         "name": "23-09-2020",
         "rawType": "int64",
         "type": "integer"
        },
        {
         "name": "24-09-2020",
         "rawType": "int64",
         "type": "integer"
        },
        {
         "name": "25-09-2020",
         "rawType": "int64",
         "type": "integer"
        },
        {
         "name": "26-09-2020",
         "rawType": "int64",
         "type": "integer"
        },
        {
         "name": "27-09-2020",
         "rawType": "int64",
         "type": "integer"
        },
        {
         "name": "28-09-2020",
         "rawType": "int64",
         "type": "integer"
        },
        {
         "name": "29-09-2020",
         "rawType": "int64",
         "type": "integer"
        },
        {
         "name": "30-09-2020",
         "rawType": "int64",
         "type": "integer"
        },
        {
         "name": "01-10-2020",
         "rawType": "int64",
         "type": "integer"
        },
        {
         "name": "02-10-2020",
         "rawType": "int64",
         "type": "integer"
        },
        {
         "name": "03-10-2020",
         "rawType": "int64",
         "type": "integer"
        },
        {
         "name": "04-10-2020",
         "rawType": "int64",
         "type": "integer"
        },
        {
         "name": "05-10-2020",
         "rawType": "int64",
         "type": "integer"
        },
        {
         "name": "06-10-2020",
         "rawType": "int64",
         "type": "integer"
        },
        {
         "name": "07-10-2020",
         "rawType": "int64",
         "type": "integer"
        },
        {
         "name": "08-10-2020",
         "rawType": "int64",
         "type": "integer"
        },
        {
         "name": "09-10-2020",
         "rawType": "int64",
         "type": "integer"
        },
        {
         "name": "10-10-2020",
         "rawType": "int64",
         "type": "integer"
        },
        {
         "name": "11-10-2020",
         "rawType": "int64",
         "type": "integer"
        },
        {
         "name": "12-10-2020",
         "rawType": "int64",
         "type": "integer"
        },
        {
         "name": "13-10-2020",
         "rawType": "int64",
         "type": "integer"
        },
        {
         "name": "14-10-2020",
         "rawType": "int64",
         "type": "integer"
        },
        {
         "name": "15-10-2020",
         "rawType": "int64",
         "type": "integer"
        },
        {
         "name": "16-10-2020",
         "rawType": "int64",
         "type": "integer"
        },
        {
         "name": "17-10-2020",
         "rawType": "int64",
         "type": "integer"
        },
        {
         "name": "18-10-2020",
         "rawType": "int64",
         "type": "integer"
        },
        {
         "name": "19-10-2020",
         "rawType": "int64",
         "type": "integer"
        },
        {
         "name": "20-10-2020",
         "rawType": "int64",
         "type": "integer"
        },
        {
         "name": "21-10-2020",
         "rawType": "int64",
         "type": "integer"
        },
        {
         "name": "22-10-2020",
         "rawType": "int64",
         "type": "integer"
        },
        {
         "name": "23-10-2020",
         "rawType": "int64",
         "type": "integer"
        },
        {
         "name": "24-10-2020",
         "rawType": "int64",
         "type": "integer"
        },
        {
         "name": "25-10-2020",
         "rawType": "int64",
         "type": "integer"
        },
        {
         "name": "26-10-2020",
         "rawType": "int64",
         "type": "integer"
        },
        {
         "name": "27-10-2020",
         "rawType": "int64",
         "type": "integer"
        },
        {
         "name": "28-10-2020",
         "rawType": "int64",
         "type": "integer"
        },
        {
         "name": "29-10-2020",
         "rawType": "int64",
         "type": "integer"
        },
        {
         "name": "30-10-2020",
         "rawType": "int64",
         "type": "integer"
        },
        {
         "name": "31-10-2020",
         "rawType": "int64",
         "type": "integer"
        },
        {
         "name": "01-11-2020",
         "rawType": "int64",
         "type": "integer"
        },
        {
         "name": "02-11-2020",
         "rawType": "int64",
         "type": "integer"
        },
        {
         "name": "03-11-2020",
         "rawType": "int64",
         "type": "integer"
        },
        {
         "name": "04-11-2020",
         "rawType": "int64",
         "type": "integer"
        },
        {
         "name": "05-11-2020",
         "rawType": "int64",
         "type": "integer"
        },
        {
         "name": "06-11-2020",
         "rawType": "int64",
         "type": "integer"
        },
        {
         "name": "07-11-2020",
         "rawType": "int64",
         "type": "integer"
        },
        {
         "name": "08-11-2020",
         "rawType": "int64",
         "type": "integer"
        },
        {
         "name": "09-11-2020",
         "rawType": "int64",
         "type": "integer"
        },
        {
         "name": "10-11-2020",
         "rawType": "int64",
         "type": "integer"
        },
        {
         "name": "11-11-2020",
         "rawType": "int64",
         "type": "integer"
        },
        {
         "name": "12-11-2020",
         "rawType": "int64",
         "type": "integer"
        },
        {
         "name": "13-11-2020",
         "rawType": "int64",
         "type": "integer"
        },
        {
         "name": "14-11-2020",
         "rawType": "int64",
         "type": "integer"
        },
        {
         "name": "15-11-2020",
         "rawType": "int64",
         "type": "integer"
        },
        {
         "name": "16-11-2020",
         "rawType": "int64",
         "type": "integer"
        },
        {
         "name": "17-11-2020",
         "rawType": "int64",
         "type": "integer"
        },
        {
         "name": "18-11-2020",
         "rawType": "int64",
         "type": "integer"
        }
       ],
       "ref": "5dcd467e-ab9a-47ac-8df3-7cbcfc5e77b5",
       "rows": [
        [
         "0",
         "1",
         "1434635",
         "AGUASCALIENTES",
         "0",
         "0",
         "0",
         "0",
         "0",
         "0",
         "0",
         "0",
         "0",
         "0",
         "0",
         "0",
         "0",
         "0",
         "0",
         "0",
         "0",
         "0",
         "0",
         "0",
         "0",
         "0",
         "0",
         "0",
         "0",
         "0",
         "0",
         "0",
         "0",
         "0",
         "0",
         "0",
         "0",
         "0",
         "0",
         "0",
         "0",
         "0",
         "0",
         "0",
         "0",
         "0",
         "0",
         "0",
         "0",
         "0",
         "0",
         "0",
         "0",
         "0",
         "0",
         "0",
         "0",
         "0",
         "0",
         "0",
         "0",
         "0",
         "0",
         "0",
         "0",
         "0",
         "1",
         "0",
         "0",
         "1",
         "3",
         "1",
         "2",
         "1",
         "1",
         "4",
         "0",
         "17",
         "4",
         "6",
         "5",
         "3",
         "4",
         "1",
         "0",
         "0",
         "2",
         "0",
         "2",
         "4",
         "1",
         "1",
         "0",
         "3",
         "1",
         "2",
         "9",
         "2",
         "12",
         "7",
         "18",
         "13",
         "3",
         "17",
         "13",
         "11",
         "21",
         "11",
         "1",
         "7",
         "17",
         "32",
         "17",
         "27",
         "4",
         "3",
         "4",
         "50",
         "12",
         "16",
         "24",
         "14",
         "0",
         "4",
         "11",
         "44",
         "14",
         "24",
         "28",
         "3",
         "7",
         "37",
         "20",
         "27",
         "30",
         "24",
         "18",
         "9",
         "39",
         "39",
         "34",
         "45",
         "42",
         "15",
         "20",
         "62",
         "58",
         "60",
         "44",
         "61",
         "22",
         "27",
         "73",
         "66",
         "63",
         "63",
         "60",
         "34",
         "23",
         "82",
         "58",
         "74",
         "63",
         "70",
         "15",
         "26",
         "68",
         "53",
         "50",
         "69",
         "56",
         "17",
         "11",
         "39",
         "39",
         "79",
         "71",
         "68",
         "11",
         "8",
         "91",
         "119",
         "53",
         "43",
         "77",
         "21",
         "32",
         "82",
         "82",
         "82",
         "85",
         "73",
         "22",
         "15",
         "51",
         "97",
         "52",
         "72",
         "72",
         "18",
         "21",
         "69",
         "63",
         "59",
         "58",
         "63",
         "36",
         "17",
         "61",
         "71",
         "49",
         "41",
         "43",
         "22",
         "19",
         "78",
         "51",
         "58",
         "62",
         "53",
         "15",
         "33",
         "90",
         "80",
         "66",
         "55",
         "66",
         "40",
         "35",
         "66",
         "69",
         "101",
         "58",
         "70",
         "43",
         "23",
         "92",
         "60",
         "79",
         "76",
         "48",
         "19",
         "23",
         "76",
         "56",
         "62",
         "57",
         "52",
         "14",
         "13",
         "68",
         "16",
         "23",
         "103",
         "54",
         "28",
         "25",
         "86",
         "67",
         "81",
         "76",
         "54",
         "22",
         "14",
         "95",
         "95",
         "85",
         "54",
         "72",
         "15",
         "17",
         "105",
         "91",
         "69",
         "75",
         "78",
         "19",
         "24",
         "117",
         "89",
         "90",
         "98",
         "96",
         "20",
         "32",
         "154",
         "113",
         "109",
         "112",
         "139",
         "44",
         "32",
         "162",
         "189",
         "171",
         "163",
         "167",
         "38",
         "26",
         "224",
         "157",
         "90",
         "95",
         "146",
         "26",
         "40",
         "55",
         "29",
         "15",
         "4",
         "0",
         "0",
         "0",
         "0",
         "0",
         "0"
        ],
        [
         "1",
         "2",
         "3634868",
         "BAJA CALIFORNIA",
         "0",
         "0",
         "0",
         "0",
         "0",
         "0",
         "0",
         "0",
         "0",
         "0",
         "0",
         "0",
         "0",
         "0",
         "0",
         "0",
         "0",
         "0",
         "0",
         "0",
         "0",
         "0",
         "0",
         "0",
         "0",
         "0",
         "0",
         "0",
         "0",
         "0",
         "0",
         "0",
         "0",
         "0",
         "0",
         "0",
         "0",
         "0",
         "0",
         "0",
         "0",
         "0",
         "0",
         "0",
         "0",
         "0",
         "0",
         "0",
         "0",
         "0",
         "0",
         "1",
         "0",
         "0",
         "0",
         "0",
         "0",
         "0",
         "0",
         "1",
         "0",
         "0",
         "0",
         "0",
         "1",
         "3",
         "4",
         "5",
         "6",
         "3",
         "2",
         "10",
         "9",
         "7",
         "11",
         "16",
         "7",
         "21",
         "29",
         "44",
         "66",
         "30",
         "38",
         "25",
         "20",
         "70",
         "41",
         "58",
         "58",
         "49",
         "32",
         "44",
         "81",
         "104",
         "102",
         "84",
         "99",
         "46",
         "44",
         "111",
         "108",
         "91",
         "112",
         "87",
         "44",
         "68",
         "112",
         "99",
         "109",
         "89",
         "92",
         "78",
         "91",
         "145",
         "141",
         "118",
         "123",
         "142",
         "75",
         "69",
         "130",
         "125",
         "129",
         "113",
         "147",
         "70",
         "72",
         "216",
         "156",
         "171",
         "231",
         "210",
         "66",
         "82",
         "136",
         "135",
         "130",
         "118",
         "116",
         "84",
         "71",
         "153",
         "171",
         "163",
         "152",
         "152",
         "105",
         "69",
         "172",
         "173",
         "149",
         "148",
         "114",
         "87",
         "93",
         "180",
         "189",
         "151",
         "146",
         "176",
         "87",
         "62",
         "210",
         "196",
         "180",
         "175",
         "175",
         "110",
         "64",
         "207",
         "201",
         "186",
         "193",
         "167",
         "73",
         "97",
         "216",
         "213",
         "214",
         "166",
         "132",
         "62",
         "78",
         "169",
         "180",
         "184",
         "163",
         "147",
         "87",
         "94",
         "164",
         "142",
         "143",
         "125",
         "138",
         "80",
         "64",
         "151",
         "134",
         "125",
         "134",
         "157",
         "68",
         "65",
         "150",
         "150",
         "119",
         "115",
         "115",
         "64",
         "47",
         "171",
         "119",
         "113",
         "112",
         "101",
         "40",
         "50",
         "170",
         "126",
         "121",
         "136",
         "100",
         "46",
         "46",
         "150",
         "109",
         "94",
         "116",
         "110",
         "40",
         "39",
         "194",
         "186",
         "157",
         "162",
         "125",
         "64",
         "35",
         "158",
         "122",
         "110",
         "104",
         "102",
         "35",
         "31",
         "112",
         "50",
         "32",
         "121",
         "101",
         "36",
         "37",
         "96",
         "103",
         "106",
         "77",
         "81",
         "27",
         "28",
         "111",
         "94",
         "128",
         "107",
         "83",
         "47",
         "32",
         "140",
         "136",
         "129",
         "91",
         "72",
         "41",
         "37",
         "129",
         "131",
         "129",
         "121",
         "86",
         "46",
         "48",
         "146",
         "136",
         "133",
         "117",
         "137",
         "45",
         "35",
         "147",
         "109",
         "100",
         "73",
         "80",
         "40",
         "30",
         "127",
         "112",
         "116",
         "65",
         "77",
         "39",
         "28",
         "111",
         "69",
         "64",
         "45",
         "28",
         "13",
         "6",
         "6",
         "8",
         "0"
        ],
        [
         "2",
         "3",
         "804708",
         "BAJA CALIFORNIA SUR",
         "0",
         "0",
         "0",
         "0",
         "0",
         "0",
         "0",
         "0",
         "0",
         "0",
         "0",
         "0",
         "0",
         "0",
         "0",
         "0",
         "0",
         "0",
         "0",
         "0",
         "0",
         "0",
         "0",
         "0",
         "0",
         "0",
         "0",
         "0",
         "0",
         "0",
         "0",
         "0",
         "0",
         "0",
         "0",
         "0",
         "0",
         "0",
         "0",
         "0",
         "0",
         "0",
         "0",
         "0",
         "0",
         "0",
         "0",
         "0",
         "0",
         "0",
         "0",
         "0",
         "0",
         "0",
         "0",
         "0",
         "0",
         "0",
         "0",
         "0",
         "0",
         "0",
         "0",
         "0",
         "0",
         "1",
         "1",
         "0",
         "1",
         "1",
         "0",
         "4",
         "2",
         "0",
         "2",
         "4",
         "4",
         "1",
         "14",
         "7",
         "5",
         "11",
         "16",
         "5",
         "5",
         "23",
         "24",
         "24",
         "22",
         "9",
         "7",
         "5",
         "15",
         "17",
         "5",
         "9",
         "6",
         "3",
         "8",
         "7",
         "12",
         "5",
         "9",
         "13",
         "5",
         "7",
         "10",
         "4",
         "4",
         "14",
         "2",
         "9",
         "6",
         "7",
         "12",
         "10",
         "11",
         "9",
         "6",
         "10",
         "7",
         "16",
         "13",
         "8",
         "5",
         "11",
         "3",
         "11",
         "15",
         "17",
         "8",
         "15",
         "7",
         "9",
         "17",
         "14",
         "22",
         "18",
         "22",
         "13",
         "8",
         "36",
         "18",
         "16",
         "22",
         "22",
         "14",
         "20",
         "53",
         "38",
         "47",
         "29",
         "25",
         "22",
         "21",
         "51",
         "30",
         "46",
         "48",
         "19",
         "35",
         "18",
         "32",
         "47",
         "53",
         "54",
         "41",
         "45",
         "35",
         "66",
         "59",
         "72",
         "69",
         "63",
         "57",
         "49",
         "89",
         "112",
         "91",
         "126",
         "117",
         "38",
         "49",
         "129",
         "120",
         "131",
         "117",
         "90",
         "62",
         "40",
         "156",
         "109",
         "115",
         "143",
         "105",
         "66",
         "39",
         "173",
         "154",
         "119",
         "154",
         "101",
         "67",
         "41",
         "162",
         "146",
         "152",
         "123",
         "112",
         "83",
         "45",
         "140",
         "122",
         "128",
         "141",
         "131",
         "55",
         "47",
         "142",
         "139",
         "97",
         "35",
         "79",
         "75",
         "49",
         "143",
         "99",
         "107",
         "121",
         "68",
         "52",
         "62",
         "129",
         "119",
         "135",
         "114",
         "104",
         "58",
         "38",
         "136",
         "128",
         "105",
         "83",
         "95",
         "65",
         "30",
         "99",
         "91",
         "56",
         "89",
         "114",
         "64",
         "19",
         "109",
         "84",
         "84",
         "82",
         "92",
         "58",
         "19",
         "95",
         "98",
         "81",
         "85",
         "72",
         "44",
         "29",
         "100",
         "79",
         "70",
         "90",
         "96",
         "50",
         "22",
         "114",
         "94",
         "78",
         "95",
         "119",
         "59",
         "23",
         "114",
         "92",
         "103",
         "81",
         "97",
         "58",
         "19",
         "115",
         "94",
         "87",
         "86",
         "67",
         "33",
         "25",
         "85",
         "71",
         "80",
         "74",
         "54",
         "23",
         "21",
         "66",
         "62",
         "53",
         "62",
         "43",
         "25",
         "12",
         "23",
         "6",
         "0"
        ],
        [
         "3",
         "4",
         "1000617",
         "CAMPECHE",
         "0",
         "0",
         "0",
         "0",
         "0",
         "0",
         "0",
         "0",
         "0",
         "0",
         "0",
         "0",
         "0",
         "0",
         "0",
         "0",
         "0",
         "0",
         "0",
         "0",
         "0",
         "0",
         "0",
         "0",
         "0",
         "0",
         "0",
         "0",
         "0",
         "0",
         "0",
         "0",
         "0",
         "0",
         "0",
         "0",
         "0",
         "0",
         "0",
         "0",
         "0",
         "0",
         "0",
         "0",
         "0",
         "0",
         "0",
         "0",
         "0",
         "0",
         "0",
         "0",
         "0",
         "0",
         "0",
         "0",
         "1",
         "0",
         "0",
         "0",
         "1",
         "0",
         "1",
         "0",
         "0",
         "0",
         "0",
         "0",
         "0",
         "0",
         "0",
         "1",
         "0",
         "0",
         "0",
         "3",
         "0",
         "1",
         "0",
         "0",
         "0",
         "2",
         "1",
         "0",
         "3",
         "3",
         "0",
         "0",
         "2",
         "1",
         "5",
         "2",
         "2",
         "4",
         "3",
         "4",
         "3",
         "6",
         "2",
         "5",
         "7",
         "6",
         "7",
         "4",
         "6",
         "8",
         "4",
         "6",
         "8",
         "8",
         "6",
         "11",
         "11",
         "18",
         "9",
         "16",
         "11",
         "14",
         "14",
         "7",
         "24",
         "20",
         "16",
         "12",
         "15",
         "15",
         "15",
         "17",
         "21",
         "24",
         "16",
         "25",
         "17",
         "14",
         "33",
         "35",
         "31",
         "29",
         "20",
         "19",
         "7",
         "38",
         "23",
         "19",
         "39",
         "41",
         "24",
         "23",
         "43",
         "59",
         "69",
         "74",
         "34",
         "27",
         "21",
         "98",
         "84",
         "108",
         "87",
         "98",
         "54",
         "38",
         "104",
         "92",
         "87",
         "90",
         "99",
         "52",
         "49",
         "72",
         "89",
         "70",
         "94",
         "59",
         "32",
         "37",
         "80",
         "91",
         "91",
         "97",
         "108",
         "52",
         "63",
         "121",
         "76",
         "117",
         "113",
         "100",
         "46",
         "51",
         "116",
         "106",
         "89",
         "85",
         "86",
         "34",
         "24",
         "70",
         "85",
         "68",
         "64",
         "60",
         "38",
         "32",
         "53",
         "66",
         "51",
         "47",
         "26",
         "17",
         "16",
         "41",
         "28",
         "37",
         "36",
         "13",
         "13",
         "14",
         "31",
         "43",
         "32",
         "25",
         "62",
         "14",
         "11",
         "33",
         "30",
         "20",
         "24",
         "45",
         "8",
         "6",
         "32",
         "17",
         "29",
         "23",
         "16",
         "3",
         "7",
         "18",
         "12",
         "11",
         "10",
         "32",
         "11",
         "7",
         "14",
         "3",
         "3",
         "9",
         "41",
         "3",
         "6",
         "22",
         "6",
         "14",
         "15",
         "15",
         "9",
         "5",
         "16",
         "14",
         "13",
         "14",
         "20",
         "0",
         "5",
         "18",
         "7",
         "13",
         "7",
         "19",
         "2",
         "1",
         "13",
         "12",
         "13",
         "12",
         "22",
         "6",
         "2",
         "17",
         "10",
         "5",
         "16",
         "10",
         "2",
         "4",
         "29",
         "14",
         "18",
         "6",
         "17",
         "2",
         "0",
         "9",
         "5",
         "19",
         "7",
         "4",
         "2",
         "4",
         "8",
         "5",
         "6",
         "6",
         "13",
         "0",
         "0",
         "2",
         "0",
         "0"
        ],
        [
         "4",
         "7",
         "5730367",
         "CHIAPAS",
         "0",
         "0",
         "0",
         "0",
         "0",
         "0",
         "0",
         "0",
         "0",
         "0",
         "0",
         "0",
         "0",
         "0",
         "0",
         "0",
         "0",
         "0",
         "0",
         "0",
         "0",
         "0",
         "0",
         "0",
         "0",
         "0",
         "0",
         "0",
         "0",
         "0",
         "0",
         "0",
         "0",
         "0",
         "0",
         "0",
         "0",
         "0",
         "0",
         "0",
         "0",
         "0",
         "0",
         "0",
         "0",
         "0",
         "0",
         "0",
         "1",
         "0",
         "0",
         "0",
         "0",
         "0",
         "0",
         "0",
         "0",
         "0",
         "0",
         "0",
         "0",
         "0",
         "0",
         "0",
         "0",
         "0",
         "1",
         "0",
         "0",
         "0",
         "0",
         "3",
         "0",
         "2",
         "0",
         "5",
         "1",
         "0",
         "2",
         "2",
         "4",
         "2",
         "5",
         "1",
         "1",
         "5",
         "2",
         "6",
         "3",
         "3",
         "1",
         "0",
         "5",
         "5",
         "6",
         "3",
         "10",
         "4",
         "7",
         "10",
         "9",
         "11",
         "15",
         "13",
         "9",
         "12",
         "21",
         "9",
         "19",
         "13",
         "19",
         "9",
         "14",
         "31",
         "28",
         "35",
         "35",
         "36",
         "23",
         "21",
         "32",
         "47",
         "68",
         "66",
         "82",
         "40",
         "34",
         "93",
         "64",
         "74",
         "104",
         "99",
         "55",
         "50",
         "146",
         "132",
         "125",
         "141",
         "126",
         "70",
         "70",
         "146",
         "144",
         "114",
         "109",
         "128",
         "71",
         "74",
         "140",
         "130",
         "110",
         "96",
         "107",
         "68",
         "61",
         "95",
         "92",
         "113",
         "94",
         "83",
         "53",
         "39",
         "96",
         "86",
         "97",
         "89",
         "85",
         "43",
         "46",
         "69",
         "54",
         "65",
         "53",
         "62",
         "42",
         "23",
         "42",
         "44",
         "35",
         "31",
         "41",
         "21",
         "27",
         "87",
         "104",
         "52",
         "58",
         "42",
         "21",
         "66",
         "53",
         "36",
         "50",
         "28",
         "51",
         "18",
         "26",
         "45",
         "42",
         "33",
         "22",
         "40",
         "23",
         "17",
         "29",
         "39",
         "48",
         "36",
         "16",
         "12",
         "15",
         "29",
         "21",
         "19",
         "35",
         "21",
         "9",
         "10",
         "26",
         "22",
         "21",
         "29",
         "36",
         "14",
         "9",
         "13",
         "23",
         "16",
         "11",
         "8",
         "5",
         "7",
         "18",
         "21",
         "12",
         "13",
         "15",
         "9",
         "7",
         "19",
         "15",
         "18",
         "26",
         "10",
         "9",
         "4",
         "18",
         "13",
         "3",
         "19",
         "15",
         "10",
         "4",
         "22",
         "15",
         "13",
         "16",
         "5",
         "9",
         "12",
         "17",
         "15",
         "11",
         "15",
         "12",
         "5",
         "2",
         "15",
         "10",
         "9",
         "10",
         "8",
         "8",
         "4",
         "17",
         "8",
         "7",
         "19",
         "6",
         "4",
         "1",
         "16",
         "5",
         "7",
         "10",
         "6",
         "3",
         "5",
         "8",
         "9",
         "5",
         "9",
         "3",
         "1",
         "1",
         "4",
         "4",
         "3",
         "4",
         "4",
         "1",
         "2",
         "7",
         "10",
         "10",
         "7",
         "1",
         "2",
         "0",
         "2",
         "0",
         "0"
        ]
       ],
       "shape": {
        "columns": 315,
        "rows": 5
       }
      },
      "text/html": [
       "<div>\n",
       "<style scoped>\n",
       "    .dataframe tbody tr th:only-of-type {\n",
       "        vertical-align: middle;\n",
       "    }\n",
       "\n",
       "    .dataframe tbody tr th {\n",
       "        vertical-align: top;\n",
       "    }\n",
       "\n",
       "    .dataframe thead th {\n",
       "        text-align: right;\n",
       "    }\n",
       "</style>\n",
       "<table border=\"1\" class=\"dataframe\">\n",
       "  <thead>\n",
       "    <tr style=\"text-align: right;\">\n",
       "      <th></th>\n",
       "      <th>cve_ent</th>\n",
       "      <th>poblacion</th>\n",
       "      <th>nombre</th>\n",
       "      <th>12-01-2020</th>\n",
       "      <th>13-01-2020</th>\n",
       "      <th>14-01-2020</th>\n",
       "      <th>15-01-2020</th>\n",
       "      <th>16-01-2020</th>\n",
       "      <th>17-01-2020</th>\n",
       "      <th>18-01-2020</th>\n",
       "      <th>...</th>\n",
       "      <th>09-11-2020</th>\n",
       "      <th>10-11-2020</th>\n",
       "      <th>11-11-2020</th>\n",
       "      <th>12-11-2020</th>\n",
       "      <th>13-11-2020</th>\n",
       "      <th>14-11-2020</th>\n",
       "      <th>15-11-2020</th>\n",
       "      <th>16-11-2020</th>\n",
       "      <th>17-11-2020</th>\n",
       "      <th>18-11-2020</th>\n",
       "    </tr>\n",
       "  </thead>\n",
       "  <tbody>\n",
       "    <tr>\n",
       "      <th>0</th>\n",
       "      <td>1</td>\n",
       "      <td>1434635</td>\n",
       "      <td>AGUASCALIENTES</td>\n",
       "      <td>0</td>\n",
       "      <td>0</td>\n",
       "      <td>0</td>\n",
       "      <td>0</td>\n",
       "      <td>0</td>\n",
       "      <td>0</td>\n",
       "      <td>0</td>\n",
       "      <td>...</td>\n",
       "      <td>55</td>\n",
       "      <td>29</td>\n",
       "      <td>15</td>\n",
       "      <td>4</td>\n",
       "      <td>0</td>\n",
       "      <td>0</td>\n",
       "      <td>0</td>\n",
       "      <td>0</td>\n",
       "      <td>0</td>\n",
       "      <td>0</td>\n",
       "    </tr>\n",
       "    <tr>\n",
       "      <th>1</th>\n",
       "      <td>2</td>\n",
       "      <td>3634868</td>\n",
       "      <td>BAJA CALIFORNIA</td>\n",
       "      <td>0</td>\n",
       "      <td>0</td>\n",
       "      <td>0</td>\n",
       "      <td>0</td>\n",
       "      <td>0</td>\n",
       "      <td>0</td>\n",
       "      <td>0</td>\n",
       "      <td>...</td>\n",
       "      <td>111</td>\n",
       "      <td>69</td>\n",
       "      <td>64</td>\n",
       "      <td>45</td>\n",
       "      <td>28</td>\n",
       "      <td>13</td>\n",
       "      <td>6</td>\n",
       "      <td>6</td>\n",
       "      <td>8</td>\n",
       "      <td>0</td>\n",
       "    </tr>\n",
       "    <tr>\n",
       "      <th>2</th>\n",
       "      <td>3</td>\n",
       "      <td>804708</td>\n",
       "      <td>BAJA CALIFORNIA SUR</td>\n",
       "      <td>0</td>\n",
       "      <td>0</td>\n",
       "      <td>0</td>\n",
       "      <td>0</td>\n",
       "      <td>0</td>\n",
       "      <td>0</td>\n",
       "      <td>0</td>\n",
       "      <td>...</td>\n",
       "      <td>66</td>\n",
       "      <td>62</td>\n",
       "      <td>53</td>\n",
       "      <td>62</td>\n",
       "      <td>43</td>\n",
       "      <td>25</td>\n",
       "      <td>12</td>\n",
       "      <td>23</td>\n",
       "      <td>6</td>\n",
       "      <td>0</td>\n",
       "    </tr>\n",
       "    <tr>\n",
       "      <th>3</th>\n",
       "      <td>4</td>\n",
       "      <td>1000617</td>\n",
       "      <td>CAMPECHE</td>\n",
       "      <td>0</td>\n",
       "      <td>0</td>\n",
       "      <td>0</td>\n",
       "      <td>0</td>\n",
       "      <td>0</td>\n",
       "      <td>0</td>\n",
       "      <td>0</td>\n",
       "      <td>...</td>\n",
       "      <td>8</td>\n",
       "      <td>5</td>\n",
       "      <td>6</td>\n",
       "      <td>6</td>\n",
       "      <td>13</td>\n",
       "      <td>0</td>\n",
       "      <td>0</td>\n",
       "      <td>2</td>\n",
       "      <td>0</td>\n",
       "      <td>0</td>\n",
       "    </tr>\n",
       "    <tr>\n",
       "      <th>4</th>\n",
       "      <td>7</td>\n",
       "      <td>5730367</td>\n",
       "      <td>CHIAPAS</td>\n",
       "      <td>0</td>\n",
       "      <td>0</td>\n",
       "      <td>0</td>\n",
       "      <td>0</td>\n",
       "      <td>0</td>\n",
       "      <td>0</td>\n",
       "      <td>0</td>\n",
       "      <td>...</td>\n",
       "      <td>7</td>\n",
       "      <td>10</td>\n",
       "      <td>10</td>\n",
       "      <td>7</td>\n",
       "      <td>1</td>\n",
       "      <td>2</td>\n",
       "      <td>0</td>\n",
       "      <td>2</td>\n",
       "      <td>0</td>\n",
       "      <td>0</td>\n",
       "    </tr>\n",
       "  </tbody>\n",
       "</table>\n",
       "<p>5 rows × 315 columns</p>\n",
       "</div>"
      ],
      "text/plain": [
       "   cve_ent  poblacion               nombre  12-01-2020  13-01-2020  \\\n",
       "0        1    1434635       AGUASCALIENTES           0           0   \n",
       "1        2    3634868      BAJA CALIFORNIA           0           0   \n",
       "2        3     804708  BAJA CALIFORNIA SUR           0           0   \n",
       "3        4    1000617             CAMPECHE           0           0   \n",
       "4        7    5730367              CHIAPAS           0           0   \n",
       "\n",
       "   14-01-2020  15-01-2020  16-01-2020  17-01-2020  18-01-2020  ...  \\\n",
       "0           0           0           0           0           0  ...   \n",
       "1           0           0           0           0           0  ...   \n",
       "2           0           0           0           0           0  ...   \n",
       "3           0           0           0           0           0  ...   \n",
       "4           0           0           0           0           0  ...   \n",
       "\n",
       "   09-11-2020  10-11-2020  11-11-2020  12-11-2020  13-11-2020  14-11-2020  \\\n",
       "0          55          29          15           4           0           0   \n",
       "1         111          69          64          45          28          13   \n",
       "2          66          62          53          62          43          25   \n",
       "3           8           5           6           6          13           0   \n",
       "4           7          10          10           7           1           2   \n",
       "\n",
       "   15-11-2020  16-11-2020  17-11-2020  18-11-2020  \n",
       "0           0           0           0           0  \n",
       "1           6           6           8           0  \n",
       "2          12          23           6           0  \n",
       "3           0           2           0           0  \n",
       "4           0           2           0           0  \n",
       "\n",
       "[5 rows x 315 columns]"
      ]
     },
     "execution_count": 99,
     "metadata": {},
     "output_type": "execute_result"
    }
   ],
   "source": [
    "df= pd.read_csv(\"datos/Casos_Diarios_Estado_Nacional_Confirmados_20201118.csv\")\n",
    "df.head()"
   ]
  },
  {
   "cell_type": "markdown",
   "metadata": {},
   "source": [
    "Conservaremos solo el nombre de la entidad y las columnas de las fechas"
   ]
  },
  {
   "cell_type": "code",
   "execution_count": 101,
   "metadata": {},
   "outputs": [
    {
     "data": {
      "application/vnd.microsoft.datawrangler.viewer.v0+json": {
       "columns": [
        {
         "name": "index",
         "rawType": "int64",
         "type": "integer"
        },
        {
         "name": "nombre",
         "rawType": "object",
         "type": "string"
        },
        {
         "name": "12-01-2020",
         "rawType": "int64",
         "type": "integer"
        },
        {
         "name": "13-01-2020",
         "rawType": "int64",
         "type": "integer"
        },
        {
         "name": "14-01-2020",
         "rawType": "int64",
         "type": "integer"
        },
        {
         "name": "15-01-2020",
         "rawType": "int64",
         "type": "integer"
        },
        {
         "name": "16-01-2020",
         "rawType": "int64",
         "type": "integer"
        },
        {
         "name": "17-01-2020",
         "rawType": "int64",
         "type": "integer"
        },
        {
         "name": "18-01-2020",
         "rawType": "int64",
         "type": "integer"
        },
        {
         "name": "19-01-2020",
         "rawType": "int64",
         "type": "integer"
        },
        {
         "name": "20-01-2020",
         "rawType": "int64",
         "type": "integer"
        },
        {
         "name": "21-01-2020",
         "rawType": "int64",
         "type": "integer"
        },
        {
         "name": "22-01-2020",
         "rawType": "int64",
         "type": "integer"
        },
        {
         "name": "23-01-2020",
         "rawType": "int64",
         "type": "integer"
        },
        {
         "name": "24-01-2020",
         "rawType": "int64",
         "type": "integer"
        },
        {
         "name": "25-01-2020",
         "rawType": "int64",
         "type": "integer"
        },
        {
         "name": "26-01-2020",
         "rawType": "int64",
         "type": "integer"
        },
        {
         "name": "27-01-2020",
         "rawType": "int64",
         "type": "integer"
        },
        {
         "name": "28-01-2020",
         "rawType": "int64",
         "type": "integer"
        },
        {
         "name": "29-01-2020",
         "rawType": "int64",
         "type": "integer"
        },
        {
         "name": "30-01-2020",
         "rawType": "int64",
         "type": "integer"
        },
        {
         "name": "31-01-2020",
         "rawType": "int64",
         "type": "integer"
        },
        {
         "name": "01-02-2020",
         "rawType": "int64",
         "type": "integer"
        },
        {
         "name": "02-02-2020",
         "rawType": "int64",
         "type": "integer"
        },
        {
         "name": "03-02-2020",
         "rawType": "int64",
         "type": "integer"
        },
        {
         "name": "04-02-2020",
         "rawType": "int64",
         "type": "integer"
        },
        {
         "name": "05-02-2020",
         "rawType": "int64",
         "type": "integer"
        },
        {
         "name": "06-02-2020",
         "rawType": "int64",
         "type": "integer"
        },
        {
         "name": "07-02-2020",
         "rawType": "int64",
         "type": "integer"
        },
        {
         "name": "08-02-2020",
         "rawType": "int64",
         "type": "integer"
        },
        {
         "name": "09-02-2020",
         "rawType": "int64",
         "type": "integer"
        },
        {
         "name": "10-02-2020",
         "rawType": "int64",
         "type": "integer"
        },
        {
         "name": "11-02-2020",
         "rawType": "int64",
         "type": "integer"
        },
        {
         "name": "12-02-2020",
         "rawType": "int64",
         "type": "integer"
        },
        {
         "name": "13-02-2020",
         "rawType": "int64",
         "type": "integer"
        },
        {
         "name": "14-02-2020",
         "rawType": "int64",
         "type": "integer"
        },
        {
         "name": "15-02-2020",
         "rawType": "int64",
         "type": "integer"
        },
        {
         "name": "16-02-2020",
         "rawType": "int64",
         "type": "integer"
        },
        {
         "name": "17-02-2020",
         "rawType": "int64",
         "type": "integer"
        },
        {
         "name": "18-02-2020",
         "rawType": "int64",
         "type": "integer"
        },
        {
         "name": "19-02-2020",
         "rawType": "int64",
         "type": "integer"
        },
        {
         "name": "20-02-2020",
         "rawType": "int64",
         "type": "integer"
        },
        {
         "name": "21-02-2020",
         "rawType": "int64",
         "type": "integer"
        },
        {
         "name": "22-02-2020",
         "rawType": "int64",
         "type": "integer"
        },
        {
         "name": "23-02-2020",
         "rawType": "int64",
         "type": "integer"
        },
        {
         "name": "24-02-2020",
         "rawType": "int64",
         "type": "integer"
        },
        {
         "name": "25-02-2020",
         "rawType": "int64",
         "type": "integer"
        },
        {
         "name": "26-02-2020",
         "rawType": "int64",
         "type": "integer"
        },
        {
         "name": "27-02-2020",
         "rawType": "int64",
         "type": "integer"
        },
        {
         "name": "28-02-2020",
         "rawType": "int64",
         "type": "integer"
        },
        {
         "name": "29-02-2020",
         "rawType": "int64",
         "type": "integer"
        },
        {
         "name": "01-03-2020",
         "rawType": "int64",
         "type": "integer"
        },
        {
         "name": "02-03-2020",
         "rawType": "int64",
         "type": "integer"
        },
        {
         "name": "03-03-2020",
         "rawType": "int64",
         "type": "integer"
        },
        {
         "name": "04-03-2020",
         "rawType": "int64",
         "type": "integer"
        },
        {
         "name": "05-03-2020",
         "rawType": "int64",
         "type": "integer"
        },
        {
         "name": "06-03-2020",
         "rawType": "int64",
         "type": "integer"
        },
        {
         "name": "07-03-2020",
         "rawType": "int64",
         "type": "integer"
        },
        {
         "name": "08-03-2020",
         "rawType": "int64",
         "type": "integer"
        },
        {
         "name": "09-03-2020",
         "rawType": "int64",
         "type": "integer"
        },
        {
         "name": "10-03-2020",
         "rawType": "int64",
         "type": "integer"
        },
        {
         "name": "11-03-2020",
         "rawType": "int64",
         "type": "integer"
        },
        {
         "name": "12-03-2020",
         "rawType": "int64",
         "type": "integer"
        },
        {
         "name": "13-03-2020",
         "rawType": "int64",
         "type": "integer"
        },
        {
         "name": "14-03-2020",
         "rawType": "int64",
         "type": "integer"
        },
        {
         "name": "15-03-2020",
         "rawType": "int64",
         "type": "integer"
        },
        {
         "name": "16-03-2020",
         "rawType": "int64",
         "type": "integer"
        },
        {
         "name": "17-03-2020",
         "rawType": "int64",
         "type": "integer"
        },
        {
         "name": "18-03-2020",
         "rawType": "int64",
         "type": "integer"
        },
        {
         "name": "19-03-2020",
         "rawType": "int64",
         "type": "integer"
        },
        {
         "name": "20-03-2020",
         "rawType": "int64",
         "type": "integer"
        },
        {
         "name": "21-03-2020",
         "rawType": "int64",
         "type": "integer"
        },
        {
         "name": "22-03-2020",
         "rawType": "int64",
         "type": "integer"
        },
        {
         "name": "23-03-2020",
         "rawType": "int64",
         "type": "integer"
        },
        {
         "name": "24-03-2020",
         "rawType": "int64",
         "type": "integer"
        },
        {
         "name": "25-03-2020",
         "rawType": "int64",
         "type": "integer"
        },
        {
         "name": "26-03-2020",
         "rawType": "int64",
         "type": "integer"
        },
        {
         "name": "27-03-2020",
         "rawType": "int64",
         "type": "integer"
        },
        {
         "name": "28-03-2020",
         "rawType": "int64",
         "type": "integer"
        },
        {
         "name": "29-03-2020",
         "rawType": "int64",
         "type": "integer"
        },
        {
         "name": "30-03-2020",
         "rawType": "int64",
         "type": "integer"
        },
        {
         "name": "31-03-2020",
         "rawType": "int64",
         "type": "integer"
        },
        {
         "name": "01-04-2020",
         "rawType": "int64",
         "type": "integer"
        },
        {
         "name": "02-04-2020",
         "rawType": "int64",
         "type": "integer"
        },
        {
         "name": "03-04-2020",
         "rawType": "int64",
         "type": "integer"
        },
        {
         "name": "04-04-2020",
         "rawType": "int64",
         "type": "integer"
        },
        {
         "name": "05-04-2020",
         "rawType": "int64",
         "type": "integer"
        },
        {
         "name": "06-04-2020",
         "rawType": "int64",
         "type": "integer"
        },
        {
         "name": "07-04-2020",
         "rawType": "int64",
         "type": "integer"
        },
        {
         "name": "08-04-2020",
         "rawType": "int64",
         "type": "integer"
        },
        {
         "name": "09-04-2020",
         "rawType": "int64",
         "type": "integer"
        },
        {
         "name": "10-04-2020",
         "rawType": "int64",
         "type": "integer"
        },
        {
         "name": "11-04-2020",
         "rawType": "int64",
         "type": "integer"
        },
        {
         "name": "12-04-2020",
         "rawType": "int64",
         "type": "integer"
        },
        {
         "name": "13-04-2020",
         "rawType": "int64",
         "type": "integer"
        },
        {
         "name": "14-04-2020",
         "rawType": "int64",
         "type": "integer"
        },
        {
         "name": "15-04-2020",
         "rawType": "int64",
         "type": "integer"
        },
        {
         "name": "16-04-2020",
         "rawType": "int64",
         "type": "integer"
        },
        {
         "name": "17-04-2020",
         "rawType": "int64",
         "type": "integer"
        },
        {
         "name": "18-04-2020",
         "rawType": "int64",
         "type": "integer"
        },
        {
         "name": "19-04-2020",
         "rawType": "int64",
         "type": "integer"
        },
        {
         "name": "20-04-2020",
         "rawType": "int64",
         "type": "integer"
        },
        {
         "name": "21-04-2020",
         "rawType": "int64",
         "type": "integer"
        },
        {
         "name": "22-04-2020",
         "rawType": "int64",
         "type": "integer"
        },
        {
         "name": "23-04-2020",
         "rawType": "int64",
         "type": "integer"
        },
        {
         "name": "24-04-2020",
         "rawType": "int64",
         "type": "integer"
        },
        {
         "name": "25-04-2020",
         "rawType": "int64",
         "type": "integer"
        },
        {
         "name": "26-04-2020",
         "rawType": "int64",
         "type": "integer"
        },
        {
         "name": "27-04-2020",
         "rawType": "int64",
         "type": "integer"
        },
        {
         "name": "28-04-2020",
         "rawType": "int64",
         "type": "integer"
        },
        {
         "name": "29-04-2020",
         "rawType": "int64",
         "type": "integer"
        },
        {
         "name": "30-04-2020",
         "rawType": "int64",
         "type": "integer"
        },
        {
         "name": "01-05-2020",
         "rawType": "int64",
         "type": "integer"
        },
        {
         "name": "02-05-2020",
         "rawType": "int64",
         "type": "integer"
        },
        {
         "name": "03-05-2020",
         "rawType": "int64",
         "type": "integer"
        },
        {
         "name": "04-05-2020",
         "rawType": "int64",
         "type": "integer"
        },
        {
         "name": "05-05-2020",
         "rawType": "int64",
         "type": "integer"
        },
        {
         "name": "06-05-2020",
         "rawType": "int64",
         "type": "integer"
        },
        {
         "name": "07-05-2020",
         "rawType": "int64",
         "type": "integer"
        },
        {
         "name": "08-05-2020",
         "rawType": "int64",
         "type": "integer"
        },
        {
         "name": "09-05-2020",
         "rawType": "int64",
         "type": "integer"
        },
        {
         "name": "10-05-2020",
         "rawType": "int64",
         "type": "integer"
        },
        {
         "name": "11-05-2020",
         "rawType": "int64",
         "type": "integer"
        },
        {
         "name": "12-05-2020",
         "rawType": "int64",
         "type": "integer"
        },
        {
         "name": "13-05-2020",
         "rawType": "int64",
         "type": "integer"
        },
        {
         "name": "14-05-2020",
         "rawType": "int64",
         "type": "integer"
        },
        {
         "name": "15-05-2020",
         "rawType": "int64",
         "type": "integer"
        },
        {
         "name": "16-05-2020",
         "rawType": "int64",
         "type": "integer"
        },
        {
         "name": "17-05-2020",
         "rawType": "int64",
         "type": "integer"
        },
        {
         "name": "18-05-2020",
         "rawType": "int64",
         "type": "integer"
        },
        {
         "name": "19-05-2020",
         "rawType": "int64",
         "type": "integer"
        },
        {
         "name": "20-05-2020",
         "rawType": "int64",
         "type": "integer"
        },
        {
         "name": "21-05-2020",
         "rawType": "int64",
         "type": "integer"
        },
        {
         "name": "22-05-2020",
         "rawType": "int64",
         "type": "integer"
        },
        {
         "name": "23-05-2020",
         "rawType": "int64",
         "type": "integer"
        },
        {
         "name": "24-05-2020",
         "rawType": "int64",
         "type": "integer"
        },
        {
         "name": "25-05-2020",
         "rawType": "int64",
         "type": "integer"
        },
        {
         "name": "26-05-2020",
         "rawType": "int64",
         "type": "integer"
        },
        {
         "name": "27-05-2020",
         "rawType": "int64",
         "type": "integer"
        },
        {
         "name": "28-05-2020",
         "rawType": "int64",
         "type": "integer"
        },
        {
         "name": "29-05-2020",
         "rawType": "int64",
         "type": "integer"
        },
        {
         "name": "30-05-2020",
         "rawType": "int64",
         "type": "integer"
        },
        {
         "name": "31-05-2020",
         "rawType": "int64",
         "type": "integer"
        },
        {
         "name": "01-06-2020",
         "rawType": "int64",
         "type": "integer"
        },
        {
         "name": "02-06-2020",
         "rawType": "int64",
         "type": "integer"
        },
        {
         "name": "03-06-2020",
         "rawType": "int64",
         "type": "integer"
        },
        {
         "name": "04-06-2020",
         "rawType": "int64",
         "type": "integer"
        },
        {
         "name": "05-06-2020",
         "rawType": "int64",
         "type": "integer"
        },
        {
         "name": "06-06-2020",
         "rawType": "int64",
         "type": "integer"
        },
        {
         "name": "07-06-2020",
         "rawType": "int64",
         "type": "integer"
        },
        {
         "name": "08-06-2020",
         "rawType": "int64",
         "type": "integer"
        },
        {
         "name": "09-06-2020",
         "rawType": "int64",
         "type": "integer"
        },
        {
         "name": "10-06-2020",
         "rawType": "int64",
         "type": "integer"
        },
        {
         "name": "11-06-2020",
         "rawType": "int64",
         "type": "integer"
        },
        {
         "name": "12-06-2020",
         "rawType": "int64",
         "type": "integer"
        },
        {
         "name": "13-06-2020",
         "rawType": "int64",
         "type": "integer"
        },
        {
         "name": "14-06-2020",
         "rawType": "int64",
         "type": "integer"
        },
        {
         "name": "15-06-2020",
         "rawType": "int64",
         "type": "integer"
        },
        {
         "name": "16-06-2020",
         "rawType": "int64",
         "type": "integer"
        },
        {
         "name": "17-06-2020",
         "rawType": "int64",
         "type": "integer"
        },
        {
         "name": "18-06-2020",
         "rawType": "int64",
         "type": "integer"
        },
        {
         "name": "19-06-2020",
         "rawType": "int64",
         "type": "integer"
        },
        {
         "name": "20-06-2020",
         "rawType": "int64",
         "type": "integer"
        },
        {
         "name": "21-06-2020",
         "rawType": "int64",
         "type": "integer"
        },
        {
         "name": "22-06-2020",
         "rawType": "int64",
         "type": "integer"
        },
        {
         "name": "23-06-2020",
         "rawType": "int64",
         "type": "integer"
        },
        {
         "name": "24-06-2020",
         "rawType": "int64",
         "type": "integer"
        },
        {
         "name": "25-06-2020",
         "rawType": "int64",
         "type": "integer"
        },
        {
         "name": "26-06-2020",
         "rawType": "int64",
         "type": "integer"
        },
        {
         "name": "27-06-2020",
         "rawType": "int64",
         "type": "integer"
        },
        {
         "name": "28-06-2020",
         "rawType": "int64",
         "type": "integer"
        },
        {
         "name": "29-06-2020",
         "rawType": "int64",
         "type": "integer"
        },
        {
         "name": "30-06-2020",
         "rawType": "int64",
         "type": "integer"
        },
        {
         "name": "01-07-2020",
         "rawType": "int64",
         "type": "integer"
        },
        {
         "name": "02-07-2020",
         "rawType": "int64",
         "type": "integer"
        },
        {
         "name": "03-07-2020",
         "rawType": "int64",
         "type": "integer"
        },
        {
         "name": "04-07-2020",
         "rawType": "int64",
         "type": "integer"
        },
        {
         "name": "05-07-2020",
         "rawType": "int64",
         "type": "integer"
        },
        {
         "name": "06-07-2020",
         "rawType": "int64",
         "type": "integer"
        },
        {
         "name": "07-07-2020",
         "rawType": "int64",
         "type": "integer"
        },
        {
         "name": "08-07-2020",
         "rawType": "int64",
         "type": "integer"
        },
        {
         "name": "09-07-2020",
         "rawType": "int64",
         "type": "integer"
        },
        {
         "name": "10-07-2020",
         "rawType": "int64",
         "type": "integer"
        },
        {
         "name": "11-07-2020",
         "rawType": "int64",
         "type": "integer"
        },
        {
         "name": "12-07-2020",
         "rawType": "int64",
         "type": "integer"
        },
        {
         "name": "13-07-2020",
         "rawType": "int64",
         "type": "integer"
        },
        {
         "name": "14-07-2020",
         "rawType": "int64",
         "type": "integer"
        },
        {
         "name": "15-07-2020",
         "rawType": "int64",
         "type": "integer"
        },
        {
         "name": "16-07-2020",
         "rawType": "int64",
         "type": "integer"
        },
        {
         "name": "17-07-2020",
         "rawType": "int64",
         "type": "integer"
        },
        {
         "name": "18-07-2020",
         "rawType": "int64",
         "type": "integer"
        },
        {
         "name": "19-07-2020",
         "rawType": "int64",
         "type": "integer"
        },
        {
         "name": "20-07-2020",
         "rawType": "int64",
         "type": "integer"
        },
        {
         "name": "21-07-2020",
         "rawType": "int64",
         "type": "integer"
        },
        {
         "name": "22-07-2020",
         "rawType": "int64",
         "type": "integer"
        },
        {
         "name": "23-07-2020",
         "rawType": "int64",
         "type": "integer"
        },
        {
         "name": "24-07-2020",
         "rawType": "int64",
         "type": "integer"
        },
        {
         "name": "25-07-2020",
         "rawType": "int64",
         "type": "integer"
        },
        {
         "name": "26-07-2020",
         "rawType": "int64",
         "type": "integer"
        },
        {
         "name": "27-07-2020",
         "rawType": "int64",
         "type": "integer"
        },
        {
         "name": "28-07-2020",
         "rawType": "int64",
         "type": "integer"
        },
        {
         "name": "29-07-2020",
         "rawType": "int64",
         "type": "integer"
        },
        {
         "name": "30-07-2020",
         "rawType": "int64",
         "type": "integer"
        },
        {
         "name": "31-07-2020",
         "rawType": "int64",
         "type": "integer"
        },
        {
         "name": "01-08-2020",
         "rawType": "int64",
         "type": "integer"
        },
        {
         "name": "02-08-2020",
         "rawType": "int64",
         "type": "integer"
        },
        {
         "name": "03-08-2020",
         "rawType": "int64",
         "type": "integer"
        },
        {
         "name": "04-08-2020",
         "rawType": "int64",
         "type": "integer"
        },
        {
         "name": "05-08-2020",
         "rawType": "int64",
         "type": "integer"
        },
        {
         "name": "06-08-2020",
         "rawType": "int64",
         "type": "integer"
        },
        {
         "name": "07-08-2020",
         "rawType": "int64",
         "type": "integer"
        },
        {
         "name": "08-08-2020",
         "rawType": "int64",
         "type": "integer"
        },
        {
         "name": "09-08-2020",
         "rawType": "int64",
         "type": "integer"
        },
        {
         "name": "10-08-2020",
         "rawType": "int64",
         "type": "integer"
        },
        {
         "name": "11-08-2020",
         "rawType": "int64",
         "type": "integer"
        },
        {
         "name": "12-08-2020",
         "rawType": "int64",
         "type": "integer"
        },
        {
         "name": "13-08-2020",
         "rawType": "int64",
         "type": "integer"
        },
        {
         "name": "14-08-2020",
         "rawType": "int64",
         "type": "integer"
        },
        {
         "name": "15-08-2020",
         "rawType": "int64",
         "type": "integer"
        },
        {
         "name": "16-08-2020",
         "rawType": "int64",
         "type": "integer"
        },
        {
         "name": "17-08-2020",
         "rawType": "int64",
         "type": "integer"
        },
        {
         "name": "18-08-2020",
         "rawType": "int64",
         "type": "integer"
        },
        {
         "name": "19-08-2020",
         "rawType": "int64",
         "type": "integer"
        },
        {
         "name": "20-08-2020",
         "rawType": "int64",
         "type": "integer"
        },
        {
         "name": "21-08-2020",
         "rawType": "int64",
         "type": "integer"
        },
        {
         "name": "22-08-2020",
         "rawType": "int64",
         "type": "integer"
        },
        {
         "name": "23-08-2020",
         "rawType": "int64",
         "type": "integer"
        },
        {
         "name": "24-08-2020",
         "rawType": "int64",
         "type": "integer"
        },
        {
         "name": "25-08-2020",
         "rawType": "int64",
         "type": "integer"
        },
        {
         "name": "26-08-2020",
         "rawType": "int64",
         "type": "integer"
        },
        {
         "name": "27-08-2020",
         "rawType": "int64",
         "type": "integer"
        },
        {
         "name": "28-08-2020",
         "rawType": "int64",
         "type": "integer"
        },
        {
         "name": "29-08-2020",
         "rawType": "int64",
         "type": "integer"
        },
        {
         "name": "30-08-2020",
         "rawType": "int64",
         "type": "integer"
        },
        {
         "name": "31-08-2020",
         "rawType": "int64",
         "type": "integer"
        },
        {
         "name": "01-09-2020",
         "rawType": "int64",
         "type": "integer"
        },
        {
         "name": "02-09-2020",
         "rawType": "int64",
         "type": "integer"
        },
        {
         "name": "03-09-2020",
         "rawType": "int64",
         "type": "integer"
        },
        {
         "name": "04-09-2020",
         "rawType": "int64",
         "type": "integer"
        },
        {
         "name": "05-09-2020",
         "rawType": "int64",
         "type": "integer"
        },
        {
         "name": "06-09-2020",
         "rawType": "int64",
         "type": "integer"
        },
        {
         "name": "07-09-2020",
         "rawType": "int64",
         "type": "integer"
        },
        {
         "name": "08-09-2020",
         "rawType": "int64",
         "type": "integer"
        },
        {
         "name": "09-09-2020",
         "rawType": "int64",
         "type": "integer"
        },
        {
         "name": "10-09-2020",
         "rawType": "int64",
         "type": "integer"
        },
        {
         "name": "11-09-2020",
         "rawType": "int64",
         "type": "integer"
        },
        {
         "name": "12-09-2020",
         "rawType": "int64",
         "type": "integer"
        },
        {
         "name": "13-09-2020",
         "rawType": "int64",
         "type": "integer"
        },
        {
         "name": "14-09-2020",
         "rawType": "int64",
         "type": "integer"
        },
        {
         "name": "15-09-2020",
         "rawType": "int64",
         "type": "integer"
        },
        {
         "name": "16-09-2020",
         "rawType": "int64",
         "type": "integer"
        },
        {
         "name": "17-09-2020",
         "rawType": "int64",
         "type": "integer"
        },
        {
         "name": "18-09-2020",
         "rawType": "int64",
         "type": "integer"
        },
        {
         "name": "19-09-2020",
         "rawType": "int64",
         "type": "integer"
        },
        {
         "name": "20-09-2020",
         "rawType": "int64",
         "type": "integer"
        },
        {
         "name": "21-09-2020",
         "rawType": "int64",
         "type": "integer"
        },
        {
         "name": "22-09-2020",
         "rawType": "int64",
         "type": "integer"
        },
        {
         "name": "23-09-2020",
         "rawType": "int64",
         "type": "integer"
        },
        {
         "name": "24-09-2020",
         "rawType": "int64",
         "type": "integer"
        },
        {
         "name": "25-09-2020",
         "rawType": "int64",
         "type": "integer"
        },
        {
         "name": "26-09-2020",
         "rawType": "int64",
         "type": "integer"
        },
        {
         "name": "27-09-2020",
         "rawType": "int64",
         "type": "integer"
        },
        {
         "name": "28-09-2020",
         "rawType": "int64",
         "type": "integer"
        },
        {
         "name": "29-09-2020",
         "rawType": "int64",
         "type": "integer"
        },
        {
         "name": "30-09-2020",
         "rawType": "int64",
         "type": "integer"
        },
        {
         "name": "01-10-2020",
         "rawType": "int64",
         "type": "integer"
        },
        {
         "name": "02-10-2020",
         "rawType": "int64",
         "type": "integer"
        },
        {
         "name": "03-10-2020",
         "rawType": "int64",
         "type": "integer"
        },
        {
         "name": "04-10-2020",
         "rawType": "int64",
         "type": "integer"
        },
        {
         "name": "05-10-2020",
         "rawType": "int64",
         "type": "integer"
        },
        {
         "name": "06-10-2020",
         "rawType": "int64",
         "type": "integer"
        },
        {
         "name": "07-10-2020",
         "rawType": "int64",
         "type": "integer"
        },
        {
         "name": "08-10-2020",
         "rawType": "int64",
         "type": "integer"
        },
        {
         "name": "09-10-2020",
         "rawType": "int64",
         "type": "integer"
        },
        {
         "name": "10-10-2020",
         "rawType": "int64",
         "type": "integer"
        },
        {
         "name": "11-10-2020",
         "rawType": "int64",
         "type": "integer"
        },
        {
         "name": "12-10-2020",
         "rawType": "int64",
         "type": "integer"
        },
        {
         "name": "13-10-2020",
         "rawType": "int64",
         "type": "integer"
        },
        {
         "name": "14-10-2020",
         "rawType": "int64",
         "type": "integer"
        },
        {
         "name": "15-10-2020",
         "rawType": "int64",
         "type": "integer"
        },
        {
         "name": "16-10-2020",
         "rawType": "int64",
         "type": "integer"
        },
        {
         "name": "17-10-2020",
         "rawType": "int64",
         "type": "integer"
        },
        {
         "name": "18-10-2020",
         "rawType": "int64",
         "type": "integer"
        },
        {
         "name": "19-10-2020",
         "rawType": "int64",
         "type": "integer"
        },
        {
         "name": "20-10-2020",
         "rawType": "int64",
         "type": "integer"
        },
        {
         "name": "21-10-2020",
         "rawType": "int64",
         "type": "integer"
        },
        {
         "name": "22-10-2020",
         "rawType": "int64",
         "type": "integer"
        },
        {
         "name": "23-10-2020",
         "rawType": "int64",
         "type": "integer"
        },
        {
         "name": "24-10-2020",
         "rawType": "int64",
         "type": "integer"
        },
        {
         "name": "25-10-2020",
         "rawType": "int64",
         "type": "integer"
        },
        {
         "name": "26-10-2020",
         "rawType": "int64",
         "type": "integer"
        },
        {
         "name": "27-10-2020",
         "rawType": "int64",
         "type": "integer"
        },
        {
         "name": "28-10-2020",
         "rawType": "int64",
         "type": "integer"
        },
        {
         "name": "29-10-2020",
         "rawType": "int64",
         "type": "integer"
        },
        {
         "name": "30-10-2020",
         "rawType": "int64",
         "type": "integer"
        },
        {
         "name": "31-10-2020",
         "rawType": "int64",
         "type": "integer"
        },
        {
         "name": "01-11-2020",
         "rawType": "int64",
         "type": "integer"
        },
        {
         "name": "02-11-2020",
         "rawType": "int64",
         "type": "integer"
        },
        {
         "name": "03-11-2020",
         "rawType": "int64",
         "type": "integer"
        },
        {
         "name": "04-11-2020",
         "rawType": "int64",
         "type": "integer"
        },
        {
         "name": "05-11-2020",
         "rawType": "int64",
         "type": "integer"
        },
        {
         "name": "06-11-2020",
         "rawType": "int64",
         "type": "integer"
        },
        {
         "name": "07-11-2020",
         "rawType": "int64",
         "type": "integer"
        },
        {
         "name": "08-11-2020",
         "rawType": "int64",
         "type": "integer"
        },
        {
         "name": "09-11-2020",
         "rawType": "int64",
         "type": "integer"
        },
        {
         "name": "10-11-2020",
         "rawType": "int64",
         "type": "integer"
        },
        {
         "name": "11-11-2020",
         "rawType": "int64",
         "type": "integer"
        },
        {
         "name": "12-11-2020",
         "rawType": "int64",
         "type": "integer"
        },
        {
         "name": "13-11-2020",
         "rawType": "int64",
         "type": "integer"
        },
        {
         "name": "14-11-2020",
         "rawType": "int64",
         "type": "integer"
        },
        {
         "name": "15-11-2020",
         "rawType": "int64",
         "type": "integer"
        },
        {
         "name": "16-11-2020",
         "rawType": "int64",
         "type": "integer"
        },
        {
         "name": "17-11-2020",
         "rawType": "int64",
         "type": "integer"
        },
        {
         "name": "18-11-2020",
         "rawType": "int64",
         "type": "integer"
        }
       ],
       "ref": "ff4a1e66-d041-4af5-9624-586c47b830d9",
       "rows": [
        [
         "0",
         "AGUASCALIENTES",
         "0",
         "0",
         "0",
         "0",
         "0",
         "0",
         "0",
         "0",
         "0",
         "0",
         "0",
         "0",
         "0",
         "0",
         "0",
         "0",
         "0",
         "0",
         "0",
         "0",
         "0",
         "0",
         "0",
         "0",
         "0",
         "0",
         "0",
         "0",
         "0",
         "0",
         "0",
         "0",
         "0",
         "0",
         "0",
         "0",
         "0",
         "0",
         "0",
         "0",
         "0",
         "0",
         "0",
         "0",
         "0",
         "0",
         "0",
         "0",
         "0",
         "0",
         "0",
         "0",
         "0",
         "0",
         "0",
         "0",
         "0",
         "0",
         "0",
         "0",
         "0",
         "0",
         "1",
         "0",
         "0",
         "1",
         "3",
         "1",
         "2",
         "1",
         "1",
         "4",
         "0",
         "17",
         "4",
         "6",
         "5",
         "3",
         "4",
         "1",
         "0",
         "0",
         "2",
         "0",
         "2",
         "4",
         "1",
         "1",
         "0",
         "3",
         "1",
         "2",
         "9",
         "2",
         "12",
         "7",
         "18",
         "13",
         "3",
         "17",
         "13",
         "11",
         "21",
         "11",
         "1",
         "7",
         "17",
         "32",
         "17",
         "27",
         "4",
         "3",
         "4",
         "50",
         "12",
         "16",
         "24",
         "14",
         "0",
         "4",
         "11",
         "44",
         "14",
         "24",
         "28",
         "3",
         "7",
         "37",
         "20",
         "27",
         "30",
         "24",
         "18",
         "9",
         "39",
         "39",
         "34",
         "45",
         "42",
         "15",
         "20",
         "62",
         "58",
         "60",
         "44",
         "61",
         "22",
         "27",
         "73",
         "66",
         "63",
         "63",
         "60",
         "34",
         "23",
         "82",
         "58",
         "74",
         "63",
         "70",
         "15",
         "26",
         "68",
         "53",
         "50",
         "69",
         "56",
         "17",
         "11",
         "39",
         "39",
         "79",
         "71",
         "68",
         "11",
         "8",
         "91",
         "119",
         "53",
         "43",
         "77",
         "21",
         "32",
         "82",
         "82",
         "82",
         "85",
         "73",
         "22",
         "15",
         "51",
         "97",
         "52",
         "72",
         "72",
         "18",
         "21",
         "69",
         "63",
         "59",
         "58",
         "63",
         "36",
         "17",
         "61",
         "71",
         "49",
         "41",
         "43",
         "22",
         "19",
         "78",
         "51",
         "58",
         "62",
         "53",
         "15",
         "33",
         "90",
         "80",
         "66",
         "55",
         "66",
         "40",
         "35",
         "66",
         "69",
         "101",
         "58",
         "70",
         "43",
         "23",
         "92",
         "60",
         "79",
         "76",
         "48",
         "19",
         "23",
         "76",
         "56",
         "62",
         "57",
         "52",
         "14",
         "13",
         "68",
         "16",
         "23",
         "103",
         "54",
         "28",
         "25",
         "86",
         "67",
         "81",
         "76",
         "54",
         "22",
         "14",
         "95",
         "95",
         "85",
         "54",
         "72",
         "15",
         "17",
         "105",
         "91",
         "69",
         "75",
         "78",
         "19",
         "24",
         "117",
         "89",
         "90",
         "98",
         "96",
         "20",
         "32",
         "154",
         "113",
         "109",
         "112",
         "139",
         "44",
         "32",
         "162",
         "189",
         "171",
         "163",
         "167",
         "38",
         "26",
         "224",
         "157",
         "90",
         "95",
         "146",
         "26",
         "40",
         "55",
         "29",
         "15",
         "4",
         "0",
         "0",
         "0",
         "0",
         "0",
         "0"
        ],
        [
         "1",
         "BAJA CALIFORNIA",
         "0",
         "0",
         "0",
         "0",
         "0",
         "0",
         "0",
         "0",
         "0",
         "0",
         "0",
         "0",
         "0",
         "0",
         "0",
         "0",
         "0",
         "0",
         "0",
         "0",
         "0",
         "0",
         "0",
         "0",
         "0",
         "0",
         "0",
         "0",
         "0",
         "0",
         "0",
         "0",
         "0",
         "0",
         "0",
         "0",
         "0",
         "0",
         "0",
         "0",
         "0",
         "0",
         "0",
         "0",
         "0",
         "0",
         "0",
         "0",
         "0",
         "0",
         "0",
         "1",
         "0",
         "0",
         "0",
         "0",
         "0",
         "0",
         "0",
         "1",
         "0",
         "0",
         "0",
         "0",
         "1",
         "3",
         "4",
         "5",
         "6",
         "3",
         "2",
         "10",
         "9",
         "7",
         "11",
         "16",
         "7",
         "21",
         "29",
         "44",
         "66",
         "30",
         "38",
         "25",
         "20",
         "70",
         "41",
         "58",
         "58",
         "49",
         "32",
         "44",
         "81",
         "104",
         "102",
         "84",
         "99",
         "46",
         "44",
         "111",
         "108",
         "91",
         "112",
         "87",
         "44",
         "68",
         "112",
         "99",
         "109",
         "89",
         "92",
         "78",
         "91",
         "145",
         "141",
         "118",
         "123",
         "142",
         "75",
         "69",
         "130",
         "125",
         "129",
         "113",
         "147",
         "70",
         "72",
         "216",
         "156",
         "171",
         "231",
         "210",
         "66",
         "82",
         "136",
         "135",
         "130",
         "118",
         "116",
         "84",
         "71",
         "153",
         "171",
         "163",
         "152",
         "152",
         "105",
         "69",
         "172",
         "173",
         "149",
         "148",
         "114",
         "87",
         "93",
         "180",
         "189",
         "151",
         "146",
         "176",
         "87",
         "62",
         "210",
         "196",
         "180",
         "175",
         "175",
         "110",
         "64",
         "207",
         "201",
         "186",
         "193",
         "167",
         "73",
         "97",
         "216",
         "213",
         "214",
         "166",
         "132",
         "62",
         "78",
         "169",
         "180",
         "184",
         "163",
         "147",
         "87",
         "94",
         "164",
         "142",
         "143",
         "125",
         "138",
         "80",
         "64",
         "151",
         "134",
         "125",
         "134",
         "157",
         "68",
         "65",
         "150",
         "150",
         "119",
         "115",
         "115",
         "64",
         "47",
         "171",
         "119",
         "113",
         "112",
         "101",
         "40",
         "50",
         "170",
         "126",
         "121",
         "136",
         "100",
         "46",
         "46",
         "150",
         "109",
         "94",
         "116",
         "110",
         "40",
         "39",
         "194",
         "186",
         "157",
         "162",
         "125",
         "64",
         "35",
         "158",
         "122",
         "110",
         "104",
         "102",
         "35",
         "31",
         "112",
         "50",
         "32",
         "121",
         "101",
         "36",
         "37",
         "96",
         "103",
         "106",
         "77",
         "81",
         "27",
         "28",
         "111",
         "94",
         "128",
         "107",
         "83",
         "47",
         "32",
         "140",
         "136",
         "129",
         "91",
         "72",
         "41",
         "37",
         "129",
         "131",
         "129",
         "121",
         "86",
         "46",
         "48",
         "146",
         "136",
         "133",
         "117",
         "137",
         "45",
         "35",
         "147",
         "109",
         "100",
         "73",
         "80",
         "40",
         "30",
         "127",
         "112",
         "116",
         "65",
         "77",
         "39",
         "28",
         "111",
         "69",
         "64",
         "45",
         "28",
         "13",
         "6",
         "6",
         "8",
         "0"
        ],
        [
         "2",
         "BAJA CALIFORNIA SUR",
         "0",
         "0",
         "0",
         "0",
         "0",
         "0",
         "0",
         "0",
         "0",
         "0",
         "0",
         "0",
         "0",
         "0",
         "0",
         "0",
         "0",
         "0",
         "0",
         "0",
         "0",
         "0",
         "0",
         "0",
         "0",
         "0",
         "0",
         "0",
         "0",
         "0",
         "0",
         "0",
         "0",
         "0",
         "0",
         "0",
         "0",
         "0",
         "0",
         "0",
         "0",
         "0",
         "0",
         "0",
         "0",
         "0",
         "0",
         "0",
         "0",
         "0",
         "0",
         "0",
         "0",
         "0",
         "0",
         "0",
         "0",
         "0",
         "0",
         "0",
         "0",
         "0",
         "0",
         "0",
         "0",
         "1",
         "1",
         "0",
         "1",
         "1",
         "0",
         "4",
         "2",
         "0",
         "2",
         "4",
         "4",
         "1",
         "14",
         "7",
         "5",
         "11",
         "16",
         "5",
         "5",
         "23",
         "24",
         "24",
         "22",
         "9",
         "7",
         "5",
         "15",
         "17",
         "5",
         "9",
         "6",
         "3",
         "8",
         "7",
         "12",
         "5",
         "9",
         "13",
         "5",
         "7",
         "10",
         "4",
         "4",
         "14",
         "2",
         "9",
         "6",
         "7",
         "12",
         "10",
         "11",
         "9",
         "6",
         "10",
         "7",
         "16",
         "13",
         "8",
         "5",
         "11",
         "3",
         "11",
         "15",
         "17",
         "8",
         "15",
         "7",
         "9",
         "17",
         "14",
         "22",
         "18",
         "22",
         "13",
         "8",
         "36",
         "18",
         "16",
         "22",
         "22",
         "14",
         "20",
         "53",
         "38",
         "47",
         "29",
         "25",
         "22",
         "21",
         "51",
         "30",
         "46",
         "48",
         "19",
         "35",
         "18",
         "32",
         "47",
         "53",
         "54",
         "41",
         "45",
         "35",
         "66",
         "59",
         "72",
         "69",
         "63",
         "57",
         "49",
         "89",
         "112",
         "91",
         "126",
         "117",
         "38",
         "49",
         "129",
         "120",
         "131",
         "117",
         "90",
         "62",
         "40",
         "156",
         "109",
         "115",
         "143",
         "105",
         "66",
         "39",
         "173",
         "154",
         "119",
         "154",
         "101",
         "67",
         "41",
         "162",
         "146",
         "152",
         "123",
         "112",
         "83",
         "45",
         "140",
         "122",
         "128",
         "141",
         "131",
         "55",
         "47",
         "142",
         "139",
         "97",
         "35",
         "79",
         "75",
         "49",
         "143",
         "99",
         "107",
         "121",
         "68",
         "52",
         "62",
         "129",
         "119",
         "135",
         "114",
         "104",
         "58",
         "38",
         "136",
         "128",
         "105",
         "83",
         "95",
         "65",
         "30",
         "99",
         "91",
         "56",
         "89",
         "114",
         "64",
         "19",
         "109",
         "84",
         "84",
         "82",
         "92",
         "58",
         "19",
         "95",
         "98",
         "81",
         "85",
         "72",
         "44",
         "29",
         "100",
         "79",
         "70",
         "90",
         "96",
         "50",
         "22",
         "114",
         "94",
         "78",
         "95",
         "119",
         "59",
         "23",
         "114",
         "92",
         "103",
         "81",
         "97",
         "58",
         "19",
         "115",
         "94",
         "87",
         "86",
         "67",
         "33",
         "25",
         "85",
         "71",
         "80",
         "74",
         "54",
         "23",
         "21",
         "66",
         "62",
         "53",
         "62",
         "43",
         "25",
         "12",
         "23",
         "6",
         "0"
        ],
        [
         "3",
         "CAMPECHE",
         "0",
         "0",
         "0",
         "0",
         "0",
         "0",
         "0",
         "0",
         "0",
         "0",
         "0",
         "0",
         "0",
         "0",
         "0",
         "0",
         "0",
         "0",
         "0",
         "0",
         "0",
         "0",
         "0",
         "0",
         "0",
         "0",
         "0",
         "0",
         "0",
         "0",
         "0",
         "0",
         "0",
         "0",
         "0",
         "0",
         "0",
         "0",
         "0",
         "0",
         "0",
         "0",
         "0",
         "0",
         "0",
         "0",
         "0",
         "0",
         "0",
         "0",
         "0",
         "0",
         "0",
         "0",
         "0",
         "0",
         "1",
         "0",
         "0",
         "0",
         "1",
         "0",
         "1",
         "0",
         "0",
         "0",
         "0",
         "0",
         "0",
         "0",
         "0",
         "1",
         "0",
         "0",
         "0",
         "3",
         "0",
         "1",
         "0",
         "0",
         "0",
         "2",
         "1",
         "0",
         "3",
         "3",
         "0",
         "0",
         "2",
         "1",
         "5",
         "2",
         "2",
         "4",
         "3",
         "4",
         "3",
         "6",
         "2",
         "5",
         "7",
         "6",
         "7",
         "4",
         "6",
         "8",
         "4",
         "6",
         "8",
         "8",
         "6",
         "11",
         "11",
         "18",
         "9",
         "16",
         "11",
         "14",
         "14",
         "7",
         "24",
         "20",
         "16",
         "12",
         "15",
         "15",
         "15",
         "17",
         "21",
         "24",
         "16",
         "25",
         "17",
         "14",
         "33",
         "35",
         "31",
         "29",
         "20",
         "19",
         "7",
         "38",
         "23",
         "19",
         "39",
         "41",
         "24",
         "23",
         "43",
         "59",
         "69",
         "74",
         "34",
         "27",
         "21",
         "98",
         "84",
         "108",
         "87",
         "98",
         "54",
         "38",
         "104",
         "92",
         "87",
         "90",
         "99",
         "52",
         "49",
         "72",
         "89",
         "70",
         "94",
         "59",
         "32",
         "37",
         "80",
         "91",
         "91",
         "97",
         "108",
         "52",
         "63",
         "121",
         "76",
         "117",
         "113",
         "100",
         "46",
         "51",
         "116",
         "106",
         "89",
         "85",
         "86",
         "34",
         "24",
         "70",
         "85",
         "68",
         "64",
         "60",
         "38",
         "32",
         "53",
         "66",
         "51",
         "47",
         "26",
         "17",
         "16",
         "41",
         "28",
         "37",
         "36",
         "13",
         "13",
         "14",
         "31",
         "43",
         "32",
         "25",
         "62",
         "14",
         "11",
         "33",
         "30",
         "20",
         "24",
         "45",
         "8",
         "6",
         "32",
         "17",
         "29",
         "23",
         "16",
         "3",
         "7",
         "18",
         "12",
         "11",
         "10",
         "32",
         "11",
         "7",
         "14",
         "3",
         "3",
         "9",
         "41",
         "3",
         "6",
         "22",
         "6",
         "14",
         "15",
         "15",
         "9",
         "5",
         "16",
         "14",
         "13",
         "14",
         "20",
         "0",
         "5",
         "18",
         "7",
         "13",
         "7",
         "19",
         "2",
         "1",
         "13",
         "12",
         "13",
         "12",
         "22",
         "6",
         "2",
         "17",
         "10",
         "5",
         "16",
         "10",
         "2",
         "4",
         "29",
         "14",
         "18",
         "6",
         "17",
         "2",
         "0",
         "9",
         "5",
         "19",
         "7",
         "4",
         "2",
         "4",
         "8",
         "5",
         "6",
         "6",
         "13",
         "0",
         "0",
         "2",
         "0",
         "0"
        ],
        [
         "4",
         "CHIAPAS",
         "0",
         "0",
         "0",
         "0",
         "0",
         "0",
         "0",
         "0",
         "0",
         "0",
         "0",
         "0",
         "0",
         "0",
         "0",
         "0",
         "0",
         "0",
         "0",
         "0",
         "0",
         "0",
         "0",
         "0",
         "0",
         "0",
         "0",
         "0",
         "0",
         "0",
         "0",
         "0",
         "0",
         "0",
         "0",
         "0",
         "0",
         "0",
         "0",
         "0",
         "0",
         "0",
         "0",
         "0",
         "0",
         "0",
         "0",
         "0",
         "1",
         "0",
         "0",
         "0",
         "0",
         "0",
         "0",
         "0",
         "0",
         "0",
         "0",
         "0",
         "0",
         "0",
         "0",
         "0",
         "0",
         "0",
         "1",
         "0",
         "0",
         "0",
         "0",
         "3",
         "0",
         "2",
         "0",
         "5",
         "1",
         "0",
         "2",
         "2",
         "4",
         "2",
         "5",
         "1",
         "1",
         "5",
         "2",
         "6",
         "3",
         "3",
         "1",
         "0",
         "5",
         "5",
         "6",
         "3",
         "10",
         "4",
         "7",
         "10",
         "9",
         "11",
         "15",
         "13",
         "9",
         "12",
         "21",
         "9",
         "19",
         "13",
         "19",
         "9",
         "14",
         "31",
         "28",
         "35",
         "35",
         "36",
         "23",
         "21",
         "32",
         "47",
         "68",
         "66",
         "82",
         "40",
         "34",
         "93",
         "64",
         "74",
         "104",
         "99",
         "55",
         "50",
         "146",
         "132",
         "125",
         "141",
         "126",
         "70",
         "70",
         "146",
         "144",
         "114",
         "109",
         "128",
         "71",
         "74",
         "140",
         "130",
         "110",
         "96",
         "107",
         "68",
         "61",
         "95",
         "92",
         "113",
         "94",
         "83",
         "53",
         "39",
         "96",
         "86",
         "97",
         "89",
         "85",
         "43",
         "46",
         "69",
         "54",
         "65",
         "53",
         "62",
         "42",
         "23",
         "42",
         "44",
         "35",
         "31",
         "41",
         "21",
         "27",
         "87",
         "104",
         "52",
         "58",
         "42",
         "21",
         "66",
         "53",
         "36",
         "50",
         "28",
         "51",
         "18",
         "26",
         "45",
         "42",
         "33",
         "22",
         "40",
         "23",
         "17",
         "29",
         "39",
         "48",
         "36",
         "16",
         "12",
         "15",
         "29",
         "21",
         "19",
         "35",
         "21",
         "9",
         "10",
         "26",
         "22",
         "21",
         "29",
         "36",
         "14",
         "9",
         "13",
         "23",
         "16",
         "11",
         "8",
         "5",
         "7",
         "18",
         "21",
         "12",
         "13",
         "15",
         "9",
         "7",
         "19",
         "15",
         "18",
         "26",
         "10",
         "9",
         "4",
         "18",
         "13",
         "3",
         "19",
         "15",
         "10",
         "4",
         "22",
         "15",
         "13",
         "16",
         "5",
         "9",
         "12",
         "17",
         "15",
         "11",
         "15",
         "12",
         "5",
         "2",
         "15",
         "10",
         "9",
         "10",
         "8",
         "8",
         "4",
         "17",
         "8",
         "7",
         "19",
         "6",
         "4",
         "1",
         "16",
         "5",
         "7",
         "10",
         "6",
         "3",
         "5",
         "8",
         "9",
         "5",
         "9",
         "3",
         "1",
         "1",
         "4",
         "4",
         "3",
         "4",
         "4",
         "1",
         "2",
         "7",
         "10",
         "10",
         "7",
         "1",
         "2",
         "0",
         "2",
         "0",
         "0"
        ]
       ],
       "shape": {
        "columns": 313,
        "rows": 5
       }
      },
      "text/html": [
       "<div>\n",
       "<style scoped>\n",
       "    .dataframe tbody tr th:only-of-type {\n",
       "        vertical-align: middle;\n",
       "    }\n",
       "\n",
       "    .dataframe tbody tr th {\n",
       "        vertical-align: top;\n",
       "    }\n",
       "\n",
       "    .dataframe thead th {\n",
       "        text-align: right;\n",
       "    }\n",
       "</style>\n",
       "<table border=\"1\" class=\"dataframe\">\n",
       "  <thead>\n",
       "    <tr style=\"text-align: right;\">\n",
       "      <th></th>\n",
       "      <th>nombre</th>\n",
       "      <th>12-01-2020</th>\n",
       "      <th>13-01-2020</th>\n",
       "      <th>14-01-2020</th>\n",
       "      <th>15-01-2020</th>\n",
       "      <th>16-01-2020</th>\n",
       "      <th>17-01-2020</th>\n",
       "      <th>18-01-2020</th>\n",
       "      <th>19-01-2020</th>\n",
       "      <th>20-01-2020</th>\n",
       "      <th>...</th>\n",
       "      <th>09-11-2020</th>\n",
       "      <th>10-11-2020</th>\n",
       "      <th>11-11-2020</th>\n",
       "      <th>12-11-2020</th>\n",
       "      <th>13-11-2020</th>\n",
       "      <th>14-11-2020</th>\n",
       "      <th>15-11-2020</th>\n",
       "      <th>16-11-2020</th>\n",
       "      <th>17-11-2020</th>\n",
       "      <th>18-11-2020</th>\n",
       "    </tr>\n",
       "  </thead>\n",
       "  <tbody>\n",
       "    <tr>\n",
       "      <th>0</th>\n",
       "      <td>AGUASCALIENTES</td>\n",
       "      <td>0</td>\n",
       "      <td>0</td>\n",
       "      <td>0</td>\n",
       "      <td>0</td>\n",
       "      <td>0</td>\n",
       "      <td>0</td>\n",
       "      <td>0</td>\n",
       "      <td>0</td>\n",
       "      <td>0</td>\n",
       "      <td>...</td>\n",
       "      <td>55</td>\n",
       "      <td>29</td>\n",
       "      <td>15</td>\n",
       "      <td>4</td>\n",
       "      <td>0</td>\n",
       "      <td>0</td>\n",
       "      <td>0</td>\n",
       "      <td>0</td>\n",
       "      <td>0</td>\n",
       "      <td>0</td>\n",
       "    </tr>\n",
       "    <tr>\n",
       "      <th>1</th>\n",
       "      <td>BAJA CALIFORNIA</td>\n",
       "      <td>0</td>\n",
       "      <td>0</td>\n",
       "      <td>0</td>\n",
       "      <td>0</td>\n",
       "      <td>0</td>\n",
       "      <td>0</td>\n",
       "      <td>0</td>\n",
       "      <td>0</td>\n",
       "      <td>0</td>\n",
       "      <td>...</td>\n",
       "      <td>111</td>\n",
       "      <td>69</td>\n",
       "      <td>64</td>\n",
       "      <td>45</td>\n",
       "      <td>28</td>\n",
       "      <td>13</td>\n",
       "      <td>6</td>\n",
       "      <td>6</td>\n",
       "      <td>8</td>\n",
       "      <td>0</td>\n",
       "    </tr>\n",
       "    <tr>\n",
       "      <th>2</th>\n",
       "      <td>BAJA CALIFORNIA SUR</td>\n",
       "      <td>0</td>\n",
       "      <td>0</td>\n",
       "      <td>0</td>\n",
       "      <td>0</td>\n",
       "      <td>0</td>\n",
       "      <td>0</td>\n",
       "      <td>0</td>\n",
       "      <td>0</td>\n",
       "      <td>0</td>\n",
       "      <td>...</td>\n",
       "      <td>66</td>\n",
       "      <td>62</td>\n",
       "      <td>53</td>\n",
       "      <td>62</td>\n",
       "      <td>43</td>\n",
       "      <td>25</td>\n",
       "      <td>12</td>\n",
       "      <td>23</td>\n",
       "      <td>6</td>\n",
       "      <td>0</td>\n",
       "    </tr>\n",
       "    <tr>\n",
       "      <th>3</th>\n",
       "      <td>CAMPECHE</td>\n",
       "      <td>0</td>\n",
       "      <td>0</td>\n",
       "      <td>0</td>\n",
       "      <td>0</td>\n",
       "      <td>0</td>\n",
       "      <td>0</td>\n",
       "      <td>0</td>\n",
       "      <td>0</td>\n",
       "      <td>0</td>\n",
       "      <td>...</td>\n",
       "      <td>8</td>\n",
       "      <td>5</td>\n",
       "      <td>6</td>\n",
       "      <td>6</td>\n",
       "      <td>13</td>\n",
       "      <td>0</td>\n",
       "      <td>0</td>\n",
       "      <td>2</td>\n",
       "      <td>0</td>\n",
       "      <td>0</td>\n",
       "    </tr>\n",
       "    <tr>\n",
       "      <th>4</th>\n",
       "      <td>CHIAPAS</td>\n",
       "      <td>0</td>\n",
       "      <td>0</td>\n",
       "      <td>0</td>\n",
       "      <td>0</td>\n",
       "      <td>0</td>\n",
       "      <td>0</td>\n",
       "      <td>0</td>\n",
       "      <td>0</td>\n",
       "      <td>0</td>\n",
       "      <td>...</td>\n",
       "      <td>7</td>\n",
       "      <td>10</td>\n",
       "      <td>10</td>\n",
       "      <td>7</td>\n",
       "      <td>1</td>\n",
       "      <td>2</td>\n",
       "      <td>0</td>\n",
       "      <td>2</td>\n",
       "      <td>0</td>\n",
       "      <td>0</td>\n",
       "    </tr>\n",
       "  </tbody>\n",
       "</table>\n",
       "<p>5 rows × 313 columns</p>\n",
       "</div>"
      ],
      "text/plain": [
       "                nombre  12-01-2020  13-01-2020  14-01-2020  15-01-2020  \\\n",
       "0       AGUASCALIENTES           0           0           0           0   \n",
       "1      BAJA CALIFORNIA           0           0           0           0   \n",
       "2  BAJA CALIFORNIA SUR           0           0           0           0   \n",
       "3             CAMPECHE           0           0           0           0   \n",
       "4              CHIAPAS           0           0           0           0   \n",
       "\n",
       "   16-01-2020  17-01-2020  18-01-2020  19-01-2020  20-01-2020  ...  \\\n",
       "0           0           0           0           0           0  ...   \n",
       "1           0           0           0           0           0  ...   \n",
       "2           0           0           0           0           0  ...   \n",
       "3           0           0           0           0           0  ...   \n",
       "4           0           0           0           0           0  ...   \n",
       "\n",
       "   09-11-2020  10-11-2020  11-11-2020  12-11-2020  13-11-2020  14-11-2020  \\\n",
       "0          55          29          15           4           0           0   \n",
       "1         111          69          64          45          28          13   \n",
       "2          66          62          53          62          43          25   \n",
       "3           8           5           6           6          13           0   \n",
       "4           7          10          10           7           1           2   \n",
       "\n",
       "   15-11-2020  16-11-2020  17-11-2020  18-11-2020  \n",
       "0           0           0           0           0  \n",
       "1           6           6           8           0  \n",
       "2          12          23           6           0  \n",
       "3           0           2           0           0  \n",
       "4           0           2           0           0  \n",
       "\n",
       "[5 rows x 313 columns]"
      ]
     },
     "execution_count": 101,
     "metadata": {},
     "output_type": "execute_result"
    }
   ],
   "source": [
    "df=df.loc[:,'nombre':]\n",
    "df.head()"
   ]
  },
  {
   "cell_type": "markdown",
   "metadata": {},
   "source": [
    "Llevamos a cabo la operacion Transpuesta, es decir intercambiar filas por columnas"
   ]
  },
  {
   "cell_type": "code",
   "execution_count": 102,
   "metadata": {},
   "outputs": [
    {
     "data": {
      "application/vnd.microsoft.datawrangler.viewer.v0+json": {
       "columns": [
        {
         "name": "index",
         "rawType": "object",
         "type": "string"
        },
        {
         "name": "AGUASCALIENTES",
         "rawType": "int64",
         "type": "integer"
        },
        {
         "name": "BAJA CALIFORNIA",
         "rawType": "int64",
         "type": "integer"
        },
        {
         "name": "BAJA CALIFORNIA SUR",
         "rawType": "int64",
         "type": "integer"
        },
        {
         "name": "CAMPECHE",
         "rawType": "int64",
         "type": "integer"
        },
        {
         "name": "CHIAPAS",
         "rawType": "int64",
         "type": "integer"
        },
        {
         "name": "CHIHUAHUA",
         "rawType": "int64",
         "type": "integer"
        },
        {
         "name": "DISTRITO FEDERAL",
         "rawType": "int64",
         "type": "integer"
        },
        {
         "name": "COAHUILA",
         "rawType": "int64",
         "type": "integer"
        },
        {
         "name": "COLIMA",
         "rawType": "int64",
         "type": "integer"
        },
        {
         "name": "DURANGO",
         "rawType": "int64",
         "type": "integer"
        },
        {
         "name": "GUANAJUATO",
         "rawType": "int64",
         "type": "integer"
        },
        {
         "name": "GUERRERO",
         "rawType": "int64",
         "type": "integer"
        },
        {
         "name": "HIDALGO",
         "rawType": "int64",
         "type": "integer"
        },
        {
         "name": "JALISCO",
         "rawType": "int64",
         "type": "integer"
        },
        {
         "name": "MEXICO",
         "rawType": "int64",
         "type": "integer"
        },
        {
         "name": "MICHOACAN",
         "rawType": "int64",
         "type": "integer"
        },
        {
         "name": "MORELOS",
         "rawType": "int64",
         "type": "integer"
        },
        {
         "name": "NAYARIT",
         "rawType": "int64",
         "type": "integer"
        },
        {
         "name": "NUEVO LEON",
         "rawType": "int64",
         "type": "integer"
        },
        {
         "name": "OAXACA",
         "rawType": "int64",
         "type": "integer"
        },
        {
         "name": "PUEBLA",
         "rawType": "int64",
         "type": "integer"
        },
        {
         "name": "QUERETARO",
         "rawType": "int64",
         "type": "integer"
        },
        {
         "name": "QUINTANA ROO",
         "rawType": "int64",
         "type": "integer"
        },
        {
         "name": "SAN LUIS POTOSI",
         "rawType": "int64",
         "type": "integer"
        },
        {
         "name": "SINALOA",
         "rawType": "int64",
         "type": "integer"
        },
        {
         "name": "SONORA",
         "rawType": "int64",
         "type": "integer"
        },
        {
         "name": "TABASCO",
         "rawType": "int64",
         "type": "integer"
        },
        {
         "name": "TAMAULIPAS",
         "rawType": "int64",
         "type": "integer"
        },
        {
         "name": "TLAXCALA",
         "rawType": "int64",
         "type": "integer"
        },
        {
         "name": "VERACRUZ",
         "rawType": "int64",
         "type": "integer"
        },
        {
         "name": "YUCATAN",
         "rawType": "int64",
         "type": "integer"
        },
        {
         "name": "ZACATECAS",
         "rawType": "int64",
         "type": "integer"
        },
        {
         "name": "Nacional",
         "rawType": "int64",
         "type": "integer"
        }
       ],
       "ref": "f1e2e3ef-a28c-4a23-88a8-ef5a9798e50d",
       "rows": [
        [
         "12-01-2020",
         "0",
         "0",
         "0",
         "0",
         "0",
         "0",
         "0",
         "0",
         "0",
         "0",
         "0",
         "0",
         "0",
         "0",
         "0",
         "0",
         "0",
         "0",
         "0",
         "0",
         "0",
         "0",
         "0",
         "0",
         "0",
         "0",
         "0",
         "0",
         "0",
         "0",
         "0",
         "0",
         "0"
        ],
        [
         "13-01-2020",
         "0",
         "0",
         "0",
         "0",
         "0",
         "0",
         "0",
         "0",
         "0",
         "0",
         "0",
         "0",
         "0",
         "0",
         "0",
         "0",
         "0",
         "0",
         "1",
         "0",
         "0",
         "0",
         "0",
         "0",
         "0",
         "0",
         "0",
         "0",
         "0",
         "0",
         "0",
         "0",
         "1"
        ],
        [
         "14-01-2020",
         "0",
         "0",
         "0",
         "0",
         "0",
         "0",
         "0",
         "0",
         "0",
         "0",
         "0",
         "0",
         "0",
         "0",
         "0",
         "0",
         "0",
         "0",
         "0",
         "0",
         "0",
         "0",
         "0",
         "0",
         "0",
         "0",
         "0",
         "0",
         "0",
         "0",
         "0",
         "0",
         "0"
        ],
        [
         "15-01-2020",
         "0",
         "0",
         "0",
         "0",
         "0",
         "0",
         "0",
         "0",
         "0",
         "0",
         "0",
         "0",
         "0",
         "0",
         "0",
         "0",
         "0",
         "0",
         "0",
         "0",
         "0",
         "0",
         "0",
         "0",
         "0",
         "0",
         "0",
         "0",
         "0",
         "0",
         "0",
         "0",
         "0"
        ],
        [
         "16-01-2020",
         "0",
         "0",
         "0",
         "0",
         "0",
         "0",
         "0",
         "0",
         "0",
         "0",
         "0",
         "0",
         "0",
         "0",
         "0",
         "0",
         "0",
         "0",
         "0",
         "0",
         "0",
         "0",
         "0",
         "0",
         "0",
         "0",
         "0",
         "0",
         "0",
         "0",
         "0",
         "0",
         "0"
        ]
       ],
       "shape": {
        "columns": 33,
        "rows": 5
       }
      },
      "text/html": [
       "<div>\n",
       "<style scoped>\n",
       "    .dataframe tbody tr th:only-of-type {\n",
       "        vertical-align: middle;\n",
       "    }\n",
       "\n",
       "    .dataframe tbody tr th {\n",
       "        vertical-align: top;\n",
       "    }\n",
       "\n",
       "    .dataframe thead th {\n",
       "        text-align: right;\n",
       "    }\n",
       "</style>\n",
       "<table border=\"1\" class=\"dataframe\">\n",
       "  <thead>\n",
       "    <tr style=\"text-align: right;\">\n",
       "      <th>nombre</th>\n",
       "      <th>AGUASCALIENTES</th>\n",
       "      <th>BAJA CALIFORNIA</th>\n",
       "      <th>BAJA CALIFORNIA SUR</th>\n",
       "      <th>CAMPECHE</th>\n",
       "      <th>CHIAPAS</th>\n",
       "      <th>CHIHUAHUA</th>\n",
       "      <th>DISTRITO FEDERAL</th>\n",
       "      <th>COAHUILA</th>\n",
       "      <th>COLIMA</th>\n",
       "      <th>DURANGO</th>\n",
       "      <th>...</th>\n",
       "      <th>SAN LUIS POTOSI</th>\n",
       "      <th>SINALOA</th>\n",
       "      <th>SONORA</th>\n",
       "      <th>TABASCO</th>\n",
       "      <th>TAMAULIPAS</th>\n",
       "      <th>TLAXCALA</th>\n",
       "      <th>VERACRUZ</th>\n",
       "      <th>YUCATAN</th>\n",
       "      <th>ZACATECAS</th>\n",
       "      <th>Nacional</th>\n",
       "    </tr>\n",
       "  </thead>\n",
       "  <tbody>\n",
       "    <tr>\n",
       "      <th>12-01-2020</th>\n",
       "      <td>0</td>\n",
       "      <td>0</td>\n",
       "      <td>0</td>\n",
       "      <td>0</td>\n",
       "      <td>0</td>\n",
       "      <td>0</td>\n",
       "      <td>0</td>\n",
       "      <td>0</td>\n",
       "      <td>0</td>\n",
       "      <td>0</td>\n",
       "      <td>...</td>\n",
       "      <td>0</td>\n",
       "      <td>0</td>\n",
       "      <td>0</td>\n",
       "      <td>0</td>\n",
       "      <td>0</td>\n",
       "      <td>0</td>\n",
       "      <td>0</td>\n",
       "      <td>0</td>\n",
       "      <td>0</td>\n",
       "      <td>0</td>\n",
       "    </tr>\n",
       "    <tr>\n",
       "      <th>13-01-2020</th>\n",
       "      <td>0</td>\n",
       "      <td>0</td>\n",
       "      <td>0</td>\n",
       "      <td>0</td>\n",
       "      <td>0</td>\n",
       "      <td>0</td>\n",
       "      <td>0</td>\n",
       "      <td>0</td>\n",
       "      <td>0</td>\n",
       "      <td>0</td>\n",
       "      <td>...</td>\n",
       "      <td>0</td>\n",
       "      <td>0</td>\n",
       "      <td>0</td>\n",
       "      <td>0</td>\n",
       "      <td>0</td>\n",
       "      <td>0</td>\n",
       "      <td>0</td>\n",
       "      <td>0</td>\n",
       "      <td>0</td>\n",
       "      <td>1</td>\n",
       "    </tr>\n",
       "    <tr>\n",
       "      <th>14-01-2020</th>\n",
       "      <td>0</td>\n",
       "      <td>0</td>\n",
       "      <td>0</td>\n",
       "      <td>0</td>\n",
       "      <td>0</td>\n",
       "      <td>0</td>\n",
       "      <td>0</td>\n",
       "      <td>0</td>\n",
       "      <td>0</td>\n",
       "      <td>0</td>\n",
       "      <td>...</td>\n",
       "      <td>0</td>\n",
       "      <td>0</td>\n",
       "      <td>0</td>\n",
       "      <td>0</td>\n",
       "      <td>0</td>\n",
       "      <td>0</td>\n",
       "      <td>0</td>\n",
       "      <td>0</td>\n",
       "      <td>0</td>\n",
       "      <td>0</td>\n",
       "    </tr>\n",
       "    <tr>\n",
       "      <th>15-01-2020</th>\n",
       "      <td>0</td>\n",
       "      <td>0</td>\n",
       "      <td>0</td>\n",
       "      <td>0</td>\n",
       "      <td>0</td>\n",
       "      <td>0</td>\n",
       "      <td>0</td>\n",
       "      <td>0</td>\n",
       "      <td>0</td>\n",
       "      <td>0</td>\n",
       "      <td>...</td>\n",
       "      <td>0</td>\n",
       "      <td>0</td>\n",
       "      <td>0</td>\n",
       "      <td>0</td>\n",
       "      <td>0</td>\n",
       "      <td>0</td>\n",
       "      <td>0</td>\n",
       "      <td>0</td>\n",
       "      <td>0</td>\n",
       "      <td>0</td>\n",
       "    </tr>\n",
       "    <tr>\n",
       "      <th>16-01-2020</th>\n",
       "      <td>0</td>\n",
       "      <td>0</td>\n",
       "      <td>0</td>\n",
       "      <td>0</td>\n",
       "      <td>0</td>\n",
       "      <td>0</td>\n",
       "      <td>0</td>\n",
       "      <td>0</td>\n",
       "      <td>0</td>\n",
       "      <td>0</td>\n",
       "      <td>...</td>\n",
       "      <td>0</td>\n",
       "      <td>0</td>\n",
       "      <td>0</td>\n",
       "      <td>0</td>\n",
       "      <td>0</td>\n",
       "      <td>0</td>\n",
       "      <td>0</td>\n",
       "      <td>0</td>\n",
       "      <td>0</td>\n",
       "      <td>0</td>\n",
       "    </tr>\n",
       "  </tbody>\n",
       "</table>\n",
       "<p>5 rows × 33 columns</p>\n",
       "</div>"
      ],
      "text/plain": [
       "nombre      AGUASCALIENTES  BAJA CALIFORNIA  BAJA CALIFORNIA SUR  CAMPECHE  \\\n",
       "12-01-2020               0                0                    0         0   \n",
       "13-01-2020               0                0                    0         0   \n",
       "14-01-2020               0                0                    0         0   \n",
       "15-01-2020               0                0                    0         0   \n",
       "16-01-2020               0                0                    0         0   \n",
       "\n",
       "nombre      CHIAPAS  CHIHUAHUA  DISTRITO FEDERAL  COAHUILA  COLIMA  DURANGO  \\\n",
       "12-01-2020        0          0                 0         0       0        0   \n",
       "13-01-2020        0          0                 0         0       0        0   \n",
       "14-01-2020        0          0                 0         0       0        0   \n",
       "15-01-2020        0          0                 0         0       0        0   \n",
       "16-01-2020        0          0                 0         0       0        0   \n",
       "\n",
       "nombre      ...  SAN LUIS POTOSI  SINALOA  SONORA  TABASCO  TAMAULIPAS  \\\n",
       "12-01-2020  ...                0        0       0        0           0   \n",
       "13-01-2020  ...                0        0       0        0           0   \n",
       "14-01-2020  ...                0        0       0        0           0   \n",
       "15-01-2020  ...                0        0       0        0           0   \n",
       "16-01-2020  ...                0        0       0        0           0   \n",
       "\n",
       "nombre      TLAXCALA  VERACRUZ  YUCATAN  ZACATECAS  Nacional  \n",
       "12-01-2020         0         0        0          0         0  \n",
       "13-01-2020         0         0        0          0         1  \n",
       "14-01-2020         0         0        0          0         0  \n",
       "15-01-2020         0         0        0          0         0  \n",
       "16-01-2020         0         0        0          0         0  \n",
       "\n",
       "[5 rows x 33 columns]"
      ]
     },
     "execution_count": 102,
     "metadata": {},
     "output_type": "execute_result"
    }
   ],
   "source": [
    "df = df.set_index('nombre').T\n",
    "df.head()"
   ]
  },
  {
   "cell_type": "markdown",
   "metadata": {},
   "source": [
    "El resto es ajustar el nombre de nuestra columna que será el indice y configurarla con pd.to_datetime "
   ]
  },
  {
   "cell_type": "code",
   "execution_count": null,
   "metadata": {},
   "outputs": [],
   "source": [
    "df=df.reset_index()\n",
    "df.head()"
   ]
  },
  {
   "cell_type": "code",
   "execution_count": null,
   "metadata": {},
   "outputs": [],
   "source": [
    "df = df.rename(columns = {'index': 'Fecha'})\n",
    "df.head()"
   ]
  },
  {
   "cell_type": "code",
   "execution_count": null,
   "metadata": {},
   "outputs": [],
   "source": [
    "df['Fecha'] = pd.to_datetime(df['Fecha'], format= '%d-%m-%Y')"
   ]
  },
  {
   "cell_type": "code",
   "execution_count": null,
   "metadata": {},
   "outputs": [],
   "source": [
    "df = df.set_index('Fecha')"
   ]
  },
  {
   "cell_type": "code",
   "execution_count": null,
   "metadata": {},
   "outputs": [],
   "source": [
    "df"
   ]
  },
  {
   "cell_type": "markdown",
   "metadata": {},
   "source": [
    "<div class=\"alert alert-success\">\n",
    "    \n",
    "a). Graficar el total de pacientes confirmados nivel Nacional por semana, desde el 15 de enero hasta el 14 de noviembre\n",
    "    \n",
    "</div> "
   ]
  },
  {
   "cell_type": "code",
   "execution_count": null,
   "metadata": {},
   "outputs": [],
   "source": []
  },
  {
   "cell_type": "markdown",
   "metadata": {},
   "source": [
    "<div class=\"alert alert-success\">\n",
    "    \n",
    "b). Graficar el total de pacientes confirmados cada 2 días en Yucatan (en todos los datos)\n",
    "    \n",
    "</div> "
   ]
  },
  {
   "cell_type": "code",
   "execution_count": null,
   "metadata": {},
   "outputs": [],
   "source": []
  },
  {
   "cell_type": "markdown",
   "metadata": {},
   "source": [
    "<div class=\"alert alert-success\">\n",
    "    \n",
    "c). Encontrar la semana con más pacientes confirmados en Yucatán\n",
    "    \n",
    "</div> "
   ]
  },
  {
   "cell_type": "code",
   "execution_count": null,
   "metadata": {},
   "outputs": [],
   "source": []
  },
  {
   "cell_type": "markdown",
   "metadata": {},
   "source": [
    "<div class=\"alert alert-success\">\n",
    "    \n",
    "d). Encontrar la semana con más pacientes confirmados a nivel Nacional\n",
    "    \n",
    "</div>"
   ]
  },
  {
   "cell_type": "code",
   "execution_count": null,
   "metadata": {},
   "outputs": [],
   "source": []
  }
 ],
 "metadata": {
  "kernelspec": {
   "display_name": "data-science-coursework (3.13.7)",
   "language": "python",
   "name": "python3"
  },
  "language_info": {
   "codemirror_mode": {
    "name": "ipython",
    "version": 3
   },
   "file_extension": ".py",
   "mimetype": "text/x-python",
   "name": "python",
   "nbconvert_exporter": "python",
   "pygments_lexer": "ipython3",
   "version": "3.13.7"
  }
 },
 "nbformat": 4,
 "nbformat_minor": 4
}
