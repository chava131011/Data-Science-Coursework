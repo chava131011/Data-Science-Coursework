{
 "cells": [
  {
   "cell_type": "markdown",
   "id": "c7e5fa8e",
   "metadata": {},
   "source": [
    "<!--Información del curso-->\n",
    "<img align=\"left\" style=\"padding-right:10px;\" src=\"figuras/logo_ciencia_datos.png\">"
   ]
  },
  {
   "cell_type": "code",
   "execution_count": null,
   "id": "5a692ef9",
   "metadata": {},
   "outputs": [],
   "source": [
    "import numpy as np\n",
    "import pandas as pd\n"
   ]
  },
  {
   "cell_type": "markdown",
   "id": "0d4fec50",
   "metadata": {},
   "source": [
    "# Ejercicios - parte A\n"
   ]
  },
  {
   "cell_type": "markdown",
   "id": "734d9896",
   "metadata": {},
   "source": [
    "<div class=\"alert alert-success\">\n",
    "\n",
    "<b>EJERCICIO 1</b>: \n",
    "    \n",
    "Explicar las opciones Inner,Left, Right y Outer para la función *merge*, y muestre 4 ejemplos de su uso\n",
    "    \n",
    "    \n",
    "</div>"
   ]
  },
  {
   "cell_type": "code",
   "execution_count": null,
   "id": "244643ae",
   "metadata": {},
   "outputs": [],
   "source": [
    "#ejemplo 1\n"
   ]
  },
  {
   "cell_type": "code",
   "execution_count": null,
   "id": "51ed54fd",
   "metadata": {},
   "outputs": [],
   "source": [
    "#ejemplo 2\n"
   ]
  },
  {
   "cell_type": "code",
   "execution_count": null,
   "id": "98838bb6",
   "metadata": {},
   "outputs": [],
   "source": [
    "#ejemplo 3\n"
   ]
  },
  {
   "cell_type": "code",
   "execution_count": null,
   "id": "9ac69c52",
   "metadata": {},
   "outputs": [],
   "source": [
    "#ejemplo 4\n"
   ]
  },
  {
   "cell_type": "markdown",
   "id": "c2d5b0a4",
   "metadata": {},
   "source": [
    "# Ejercicios - parte B"
   ]
  },
  {
   "cell_type": "markdown",
   "id": "6caeb7f4",
   "metadata": {},
   "source": [
    "Utilizar los datos de north_america_2000_2010.csv y  south_america_2000_2010.csv que corresponden a información de los años 2000 al 2010,para los países de México, Canadá, Estados Unidos y Chile"
   ]
  },
  {
   "cell_type": "code",
   "execution_count": null,
   "id": "7d0cc34e",
   "metadata": {},
   "outputs": [],
   "source": [
    "north_america = pd.read_csv('datos/north_america_2000_2010.csv', index_col=0)\n",
    "north_america"
   ]
  },
  {
   "cell_type": "code",
   "execution_count": null,
   "id": "72738220",
   "metadata": {},
   "outputs": [],
   "source": [
    "south_america = pd.read_csv('datos/south_america_2000_2010.csv', index_col=0)\n",
    "south_america"
   ]
  },
  {
   "cell_type": "markdown",
   "id": "0fda055b",
   "metadata": {},
   "source": [
    "<div class=\"alert alert-success\">\n",
    "\n",
    "<b>EJERCICIO 2</b>: \n",
    "    \n",
    "Tomando los   *DataFrames* north_america y  south_america encontrar la salida que se muestra en la imagen\n",
    "    \n",
    "**Salida**:    \n",
    "    \n",
    "<img align=\"left\" width=\"550\"  float= \"none\" align=\"middle\" src=\"figuras/ejercicioB1.png\">\n",
    "    \n",
    "    \n",
    "</div>"
   ]
  },
  {
   "cell_type": "code",
   "execution_count": null,
   "id": "5212132a",
   "metadata": {},
   "outputs": [],
   "source": []
  },
  {
   "cell_type": "markdown",
   "id": "235f678e",
   "metadata": {},
   "source": [
    "<div class=\"alert alert-success\">\n",
    "\n",
    "<b>EJERCICIO 3</b>: \n",
    "    \n",
    "Queremos que nuestros datos sean lo más recientes posible. Después de solicitar datos sobre estos cuatro países de años posteriores, el equipo de recopilación de datos  envió cada año desde 2011 hasta 2015 en archivos CSV separados de la siguiente manera americas_2011.csv , americas_2012.csv, americas_2013.csv,americas_2014.csv, americas_2015.csv:\n",
    "    \n",
    "**Salida**:    \n",
    "    \n",
    "<img align=\"left\" width=\"750\"  float= \"none\" align=\"middle\" src=\"figuras/ejercicioB-3.png\">\n",
    "   \n",
    "    \n",
    "</div>\n",
    "\n"
   ]
  },
  {
   "cell_type": "code",
   "execution_count": null,
   "id": "693d5e23",
   "metadata": {},
   "outputs": [],
   "source": []
  },
  {
   "cell_type": "markdown",
   "id": "5d6f502d",
   "metadata": {},
   "source": [
    "<div class=\"alert alert-success\">\n",
    "\n",
    "<b>EJERCICIO 4</b>: \n",
    "    \n",
    "Ahora que tenemos una vista completa de las Américas, nos gustaría ver cómo se compara con el resto del mundo. El equipo de recopilación de datos ha proporcionado archivos CSV para Asia, Europa y el Pacífico Sur desde 2000 hasta 2015. Utilizar los archivos asia_2000_2015.csv, europe_2000_2015.csv y south_pacific_2000_2015.csv\n",
    "\n",
    "Encontrar la salida que se muestra en la imagen\n",
    "    \n",
    "**Salida**:    \n",
    "*Solo se muestran unas cuantas filas    \n",
    "\n",
    "\n",
    "<img align=\"left\" width=\"750\"  float= \"none\" align=\"middle\" src=\"figuras/ejercicioC.png\">\n",
    "    \n",
    "    \n",
    "</div>\n"
   ]
  },
  {
   "cell_type": "code",
   "execution_count": null,
   "id": "a07629ed",
   "metadata": {},
   "outputs": [],
   "source": []
  },
  {
   "cell_type": "markdown",
   "id": "b09e5e79",
   "metadata": {},
   "source": [
    "# Ejercicios - parte C"
   ]
  },
  {
   "cell_type": "markdown",
   "id": "eb3b06fe",
   "metadata": {},
   "source": [
    "<div class=\"alert alert-success\">\n",
    "    \n",
    "5. Utilizando el DataFrame del archivo \"datos/titanic.csv\", encontrar las columnas que tienen elementos faltantes\n",
    "    \n",
    "</div> "
   ]
  },
  {
   "cell_type": "code",
   "execution_count": null,
   "id": "ca9ad751",
   "metadata": {},
   "outputs": [],
   "source": []
  },
  {
   "cell_type": "markdown",
   "id": "72578cfb",
   "metadata": {},
   "source": [
    "<div class=\"alert alert-success\">\n",
    "    \n",
    "6. Utilizando el DataFrame del archivo \"datos/titanic.csv\", encontrar el número de elementos faltantes en cada una de las columnas.\n",
    "    \n",
    "</div> "
   ]
  },
  {
   "cell_type": "code",
   "execution_count": null,
   "id": "e6e0cf07",
   "metadata": {},
   "outputs": [],
   "source": []
  },
  {
   "cell_type": "markdown",
   "id": "4d6d8583",
   "metadata": {},
   "source": [
    "<div class=\"alert alert-success\">\n",
    "    \n",
    "7. Utilizando el DataFrame del archivo \"datos/titanic.csv\", cambiar los elementos NaN de la columna \"Age\" por -100.\n",
    "    \n",
    "</div> "
   ]
  },
  {
   "cell_type": "code",
   "execution_count": null,
   "id": "cdeaf378",
   "metadata": {},
   "outputs": [],
   "source": []
  },
  {
   "cell_type": "markdown",
   "id": "d6986d00",
   "metadata": {},
   "source": [
    "<div class=\"alert alert-success\">\n",
    "    \n",
    "8. Utilizando el DataFrame del archivo \"datos/titanic.csv\", cambiar los elementos NaN de la columna \"Cabin\" por \"no record\".\n",
    "    \n",
    "</div> "
   ]
  },
  {
   "cell_type": "code",
   "execution_count": null,
   "id": "8072c520",
   "metadata": {},
   "outputs": [],
   "source": []
  },
  {
   "cell_type": "markdown",
   "id": "ba2f2616",
   "metadata": {},
   "source": [
    "<div class=\"alert alert-success\">\n",
    "    \n",
    "9. Utilizando el DataFrame del archivo \"datos/titanic.csv\", generar un nuevo dataframe considerando solo filas que no tengan datos faltantes (es decir filas con datos). ¿Cuántas filas quedaron?  \n",
    "    \n",
    "</div> "
   ]
  },
  {
   "cell_type": "code",
   "execution_count": null,
   "id": "496fbea8",
   "metadata": {},
   "outputs": [],
   "source": []
  },
  {
   "cell_type": "code",
   "execution_count": null,
   "id": "b89f675c",
   "metadata": {},
   "outputs": [],
   "source": []
  },
  {
   "cell_type": "code",
   "execution_count": null,
   "id": "2c675cc4",
   "metadata": {},
   "outputs": [],
   "source": []
  },
  {
   "cell_type": "code",
   "execution_count": null,
   "id": "84ccf21e",
   "metadata": {},
   "outputs": [],
   "source": []
  },
  {
   "cell_type": "code",
   "execution_count": null,
   "id": "8448d4e3",
   "metadata": {},
   "outputs": [],
   "source": []
  },
  {
   "cell_type": "code",
   "execution_count": null,
   "id": "61453f30",
   "metadata": {},
   "outputs": [],
   "source": []
  }
 ],
 "metadata": {
  "kernelspec": {
   "display_name": "Python 3 (ipykernel)",
   "language": "python",
   "name": "python3"
  },
  "language_info": {
   "codemirror_mode": {
    "name": "ipython",
    "version": 3
   },
   "file_extension": ".py",
   "mimetype": "text/x-python",
   "name": "python",
   "nbconvert_exporter": "python",
   "pygments_lexer": "ipython3",
   "version": "3.10.7"
  }
 },
 "nbformat": 4,
 "nbformat_minor": 5
}
