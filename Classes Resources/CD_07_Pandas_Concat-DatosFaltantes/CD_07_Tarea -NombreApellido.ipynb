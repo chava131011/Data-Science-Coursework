{
 "cells": [
  {
   "cell_type": "markdown",
   "id": "c7e5fa8e",
   "metadata": {},
   "source": [
    "<!--Información del curso-->\n",
    "<img align=\"left\" style=\"padding-right:10px;\" src=\"figuras/logo_ciencia_datos.png\">"
   ]
  },
  {
   "cell_type": "code",
   "execution_count": 15,
   "id": "5a692ef9",
   "metadata": {},
   "outputs": [],
   "source": [
    "import numpy as np\n",
    "import pandas as pd\n"
   ]
  },
  {
   "cell_type": "markdown",
   "id": "0d4fec50",
   "metadata": {},
   "source": [
    "# Ejercicios - parte A\n"
   ]
  },
  {
   "cell_type": "markdown",
   "id": "734d9896",
   "metadata": {},
   "source": [
    "<div class=\"alert alert-success\">\n",
    "\n",
    "<b>EJERCICIO 1</b>: \n",
    "    \n",
    "Explicar las opciones Inner,Left, Right y Outer para la función *merge*, y muestre 4 ejemplos de su uso\n",
    "    \n",
    "    \n",
    "</div>"
   ]
  },
  {
   "cell_type": "code",
   "execution_count": 16,
   "id": "244643ae",
   "metadata": {},
   "outputs": [],
   "source": [
    "#ejemplo 1\n"
   ]
  },
  {
   "cell_type": "code",
   "execution_count": 17,
   "id": "51ed54fd",
   "metadata": {},
   "outputs": [],
   "source": [
    "#ejemplo 2\n"
   ]
  },
  {
   "cell_type": "code",
   "execution_count": 18,
   "id": "98838bb6",
   "metadata": {},
   "outputs": [],
   "source": [
    "#ejemplo 3\n"
   ]
  },
  {
   "cell_type": "code",
   "execution_count": 19,
   "id": "9ac69c52",
   "metadata": {},
   "outputs": [],
   "source": [
    "#ejemplo 4\n"
   ]
  },
  {
   "cell_type": "markdown",
   "id": "c2d5b0a4",
   "metadata": {},
   "source": [
    "# Ejercicios - parte B"
   ]
  },
  {
   "cell_type": "markdown",
   "id": "6caeb7f4",
   "metadata": {},
   "source": [
    "Utilizar los datos de north_america_2000_2010.csv y  south_america_2000_2010.csv que corresponden a información de los años 2000 al 2010,para los países de México, Canadá, Estados Unidos y Chile"
   ]
  },
  {
   "cell_type": "code",
   "execution_count": 20,
   "id": "7d0cc34e",
   "metadata": {},
   "outputs": [
    {
     "data": {
      "application/vnd.microsoft.datawrangler.viewer.v0+json": {
       "columns": [
        {
         "name": "Country",
         "rawType": "object",
         "type": "string"
        },
        {
         "name": "2000",
         "rawType": "float64",
         "type": "float"
        },
        {
         "name": "2001",
         "rawType": "float64",
         "type": "float"
        },
        {
         "name": "2002",
         "rawType": "float64",
         "type": "float"
        },
        {
         "name": "2003",
         "rawType": "float64",
         "type": "float"
        },
        {
         "name": "2004",
         "rawType": "float64",
         "type": "float"
        },
        {
         "name": "2005",
         "rawType": "int64",
         "type": "integer"
        },
        {
         "name": "2006",
         "rawType": "float64",
         "type": "float"
        },
        {
         "name": "2007",
         "rawType": "float64",
         "type": "float"
        },
        {
         "name": "2008",
         "rawType": "int64",
         "type": "integer"
        },
        {
         "name": "2009",
         "rawType": "float64",
         "type": "float"
        },
        {
         "name": "2010",
         "rawType": "float64",
         "type": "float"
        }
       ],
       "ref": "fb73c490-b23d-4776-b449-292a062b31d3",
       "rows": [
        [
         "Canada",
         "1779.0",
         "1771.0",
         "1754.0",
         "1740.0",
         "1760.0",
         "1747",
         "1745.0",
         "1741.0",
         "1735",
         "1701.0",
         "1703.0"
        ],
        [
         "Mexico",
         "2311.2",
         "2285.2",
         "2271.2",
         "2276.5",
         "2270.6",
         "2281",
         "2280.6",
         "2261.4",
         "2258",
         "2250.2",
         "2242.4"
        ],
        [
         "USA",
         "1836.0",
         "1814.0",
         "1810.0",
         "1800.0",
         "1802.0",
         "1799",
         "1800.0",
         "1798.0",
         "1792",
         "1767.0",
         "1778.0"
        ]
       ],
       "shape": {
        "columns": 11,
        "rows": 3
       }
      },
      "text/html": [
       "<div>\n",
       "<style scoped>\n",
       "    .dataframe tbody tr th:only-of-type {\n",
       "        vertical-align: middle;\n",
       "    }\n",
       "\n",
       "    .dataframe tbody tr th {\n",
       "        vertical-align: top;\n",
       "    }\n",
       "\n",
       "    .dataframe thead th {\n",
       "        text-align: right;\n",
       "    }\n",
       "</style>\n",
       "<table border=\"1\" class=\"dataframe\">\n",
       "  <thead>\n",
       "    <tr style=\"text-align: right;\">\n",
       "      <th></th>\n",
       "      <th>2000</th>\n",
       "      <th>2001</th>\n",
       "      <th>2002</th>\n",
       "      <th>2003</th>\n",
       "      <th>2004</th>\n",
       "      <th>2005</th>\n",
       "      <th>2006</th>\n",
       "      <th>2007</th>\n",
       "      <th>2008</th>\n",
       "      <th>2009</th>\n",
       "      <th>2010</th>\n",
       "    </tr>\n",
       "    <tr>\n",
       "      <th>Country</th>\n",
       "      <th></th>\n",
       "      <th></th>\n",
       "      <th></th>\n",
       "      <th></th>\n",
       "      <th></th>\n",
       "      <th></th>\n",
       "      <th></th>\n",
       "      <th></th>\n",
       "      <th></th>\n",
       "      <th></th>\n",
       "      <th></th>\n",
       "    </tr>\n",
       "  </thead>\n",
       "  <tbody>\n",
       "    <tr>\n",
       "      <th>Canada</th>\n",
       "      <td>1779.0</td>\n",
       "      <td>1771.0</td>\n",
       "      <td>1754.0</td>\n",
       "      <td>1740.0</td>\n",
       "      <td>1760.0</td>\n",
       "      <td>1747</td>\n",
       "      <td>1745.0</td>\n",
       "      <td>1741.0</td>\n",
       "      <td>1735</td>\n",
       "      <td>1701.0</td>\n",
       "      <td>1703.0</td>\n",
       "    </tr>\n",
       "    <tr>\n",
       "      <th>Mexico</th>\n",
       "      <td>2311.2</td>\n",
       "      <td>2285.2</td>\n",
       "      <td>2271.2</td>\n",
       "      <td>2276.5</td>\n",
       "      <td>2270.6</td>\n",
       "      <td>2281</td>\n",
       "      <td>2280.6</td>\n",
       "      <td>2261.4</td>\n",
       "      <td>2258</td>\n",
       "      <td>2250.2</td>\n",
       "      <td>2242.4</td>\n",
       "    </tr>\n",
       "    <tr>\n",
       "      <th>USA</th>\n",
       "      <td>1836.0</td>\n",
       "      <td>1814.0</td>\n",
       "      <td>1810.0</td>\n",
       "      <td>1800.0</td>\n",
       "      <td>1802.0</td>\n",
       "      <td>1799</td>\n",
       "      <td>1800.0</td>\n",
       "      <td>1798.0</td>\n",
       "      <td>1792</td>\n",
       "      <td>1767.0</td>\n",
       "      <td>1778.0</td>\n",
       "    </tr>\n",
       "  </tbody>\n",
       "</table>\n",
       "</div>"
      ],
      "text/plain": [
       "           2000    2001    2002    2003    2004  2005    2006    2007  2008  \\\n",
       "Country                                                                       \n",
       "Canada   1779.0  1771.0  1754.0  1740.0  1760.0  1747  1745.0  1741.0  1735   \n",
       "Mexico   2311.2  2285.2  2271.2  2276.5  2270.6  2281  2280.6  2261.4  2258   \n",
       "USA      1836.0  1814.0  1810.0  1800.0  1802.0  1799  1800.0  1798.0  1792   \n",
       "\n",
       "           2009    2010  \n",
       "Country                  \n",
       "Canada   1701.0  1703.0  \n",
       "Mexico   2250.2  2242.4  \n",
       "USA      1767.0  1778.0  "
      ]
     },
     "execution_count": 20,
     "metadata": {},
     "output_type": "execute_result"
    }
   ],
   "source": [
    "north_america = pd.read_csv('datos/north_america_2000_2010.csv', index_col=0)\n",
    "north_america"
   ]
  },
  {
   "cell_type": "code",
   "execution_count": 21,
   "id": "72738220",
   "metadata": {},
   "outputs": [
    {
     "data": {
      "application/vnd.microsoft.datawrangler.viewer.v0+json": {
       "columns": [
        {
         "name": "Country",
         "rawType": "object",
         "type": "string"
        },
        {
         "name": "2000",
         "rawType": "int64",
         "type": "integer"
        },
        {
         "name": "2001",
         "rawType": "int64",
         "type": "integer"
        },
        {
         "name": "2002",
         "rawType": "int64",
         "type": "integer"
        },
        {
         "name": "2003",
         "rawType": "int64",
         "type": "integer"
        },
        {
         "name": "2004",
         "rawType": "int64",
         "type": "integer"
        },
        {
         "name": "2005",
         "rawType": "int64",
         "type": "integer"
        },
        {
         "name": "2006",
         "rawType": "int64",
         "type": "integer"
        },
        {
         "name": "2007",
         "rawType": "int64",
         "type": "integer"
        },
        {
         "name": "2008",
         "rawType": "int64",
         "type": "integer"
        },
        {
         "name": "2009",
         "rawType": "int64",
         "type": "integer"
        },
        {
         "name": "2010",
         "rawType": "float64",
         "type": "float"
        }
       ],
       "ref": "29c07b91-dc5a-4e5e-b350-7bc80ad1d4c9",
       "rows": [
        [
         "Chile",
         "2263",
         "2242",
         "2250",
         "2235",
         "2232",
         "2157",
         "2165",
         "2128",
         "2095",
         "2074",
         "2069.6"
        ]
       ],
       "shape": {
        "columns": 11,
        "rows": 1
       }
      },
      "text/html": [
       "<div>\n",
       "<style scoped>\n",
       "    .dataframe tbody tr th:only-of-type {\n",
       "        vertical-align: middle;\n",
       "    }\n",
       "\n",
       "    .dataframe tbody tr th {\n",
       "        vertical-align: top;\n",
       "    }\n",
       "\n",
       "    .dataframe thead th {\n",
       "        text-align: right;\n",
       "    }\n",
       "</style>\n",
       "<table border=\"1\" class=\"dataframe\">\n",
       "  <thead>\n",
       "    <tr style=\"text-align: right;\">\n",
       "      <th></th>\n",
       "      <th>2000</th>\n",
       "      <th>2001</th>\n",
       "      <th>2002</th>\n",
       "      <th>2003</th>\n",
       "      <th>2004</th>\n",
       "      <th>2005</th>\n",
       "      <th>2006</th>\n",
       "      <th>2007</th>\n",
       "      <th>2008</th>\n",
       "      <th>2009</th>\n",
       "      <th>2010</th>\n",
       "    </tr>\n",
       "    <tr>\n",
       "      <th>Country</th>\n",
       "      <th></th>\n",
       "      <th></th>\n",
       "      <th></th>\n",
       "      <th></th>\n",
       "      <th></th>\n",
       "      <th></th>\n",
       "      <th></th>\n",
       "      <th></th>\n",
       "      <th></th>\n",
       "      <th></th>\n",
       "      <th></th>\n",
       "    </tr>\n",
       "  </thead>\n",
       "  <tbody>\n",
       "    <tr>\n",
       "      <th>Chile</th>\n",
       "      <td>2263</td>\n",
       "      <td>2242</td>\n",
       "      <td>2250</td>\n",
       "      <td>2235</td>\n",
       "      <td>2232</td>\n",
       "      <td>2157</td>\n",
       "      <td>2165</td>\n",
       "      <td>2128</td>\n",
       "      <td>2095</td>\n",
       "      <td>2074</td>\n",
       "      <td>2069.6</td>\n",
       "    </tr>\n",
       "  </tbody>\n",
       "</table>\n",
       "</div>"
      ],
      "text/plain": [
       "         2000  2001  2002  2003  2004  2005  2006  2007  2008  2009    2010\n",
       "Country                                                                    \n",
       "Chile    2263  2242  2250  2235  2232  2157  2165  2128  2095  2074  2069.6"
      ]
     },
     "execution_count": 21,
     "metadata": {},
     "output_type": "execute_result"
    }
   ],
   "source": [
    "south_america = pd.read_csv('datos/south_america_2000_2010.csv', index_col=0)\n",
    "south_america"
   ]
  },
  {
   "cell_type": "markdown",
   "id": "0fda055b",
   "metadata": {},
   "source": [
    "<div class=\"alert alert-success\">\n",
    "\n",
    "<b>EJERCICIO 2</b>: \n",
    "    \n",
    "Tomando los   *DataFrames* north_america y  south_america encontrar la salida que se muestra en la imagen\n",
    "    \n",
    "**Salida**:    \n",
    "    \n",
    "<img align=\"left\" width=\"550\"  float= \"none\" align=\"middle\" src=\"figuras/ejercicioB1.png\">\n",
    "    \n",
    "    \n",
    "</div>"
   ]
  },
  {
   "cell_type": "code",
   "execution_count": 22,
   "id": "5212132a",
   "metadata": {},
   "outputs": [
    {
     "data": {
      "application/vnd.microsoft.datawrangler.viewer.v0+json": {
       "columns": [
        {
         "name": "Country",
         "rawType": "object",
         "type": "string"
        },
        {
         "name": "2000",
         "rawType": "float64",
         "type": "float"
        },
        {
         "name": "2001",
         "rawType": "float64",
         "type": "float"
        },
        {
         "name": "2002",
         "rawType": "float64",
         "type": "float"
        },
        {
         "name": "2003",
         "rawType": "float64",
         "type": "float"
        },
        {
         "name": "2004",
         "rawType": "float64",
         "type": "float"
        },
        {
         "name": "2005",
         "rawType": "int64",
         "type": "integer"
        },
        {
         "name": "2006",
         "rawType": "float64",
         "type": "float"
        },
        {
         "name": "2007",
         "rawType": "float64",
         "type": "float"
        },
        {
         "name": "2008",
         "rawType": "int64",
         "type": "integer"
        },
        {
         "name": "2009",
         "rawType": "float64",
         "type": "float"
        },
        {
         "name": "2010",
         "rawType": "float64",
         "type": "float"
        }
       ],
       "ref": "59141d0f-92ec-4a1a-b0cd-98e610b28d7d",
       "rows": [
        [
         "Canada",
         "1779.0",
         "1771.0",
         "1754.0",
         "1740.0",
         "1760.0",
         "1747",
         "1745.0",
         "1741.0",
         "1735",
         "1701.0",
         "1703.0"
        ],
        [
         "Mexico",
         "2311.2",
         "2285.2",
         "2271.2",
         "2276.5",
         "2270.6",
         "2281",
         "2280.6",
         "2261.4",
         "2258",
         "2250.2",
         "2242.4"
        ],
        [
         "USA",
         "1836.0",
         "1814.0",
         "1810.0",
         "1800.0",
         "1802.0",
         "1799",
         "1800.0",
         "1798.0",
         "1792",
         "1767.0",
         "1778.0"
        ],
        [
         "Chile",
         "2263.0",
         "2242.0",
         "2250.0",
         "2235.0",
         "2232.0",
         "2157",
         "2165.0",
         "2128.0",
         "2095",
         "2074.0",
         "2069.6"
        ]
       ],
       "shape": {
        "columns": 11,
        "rows": 4
       }
      },
      "text/html": [
       "<div>\n",
       "<style scoped>\n",
       "    .dataframe tbody tr th:only-of-type {\n",
       "        vertical-align: middle;\n",
       "    }\n",
       "\n",
       "    .dataframe tbody tr th {\n",
       "        vertical-align: top;\n",
       "    }\n",
       "\n",
       "    .dataframe thead th {\n",
       "        text-align: right;\n",
       "    }\n",
       "</style>\n",
       "<table border=\"1\" class=\"dataframe\">\n",
       "  <thead>\n",
       "    <tr style=\"text-align: right;\">\n",
       "      <th></th>\n",
       "      <th>2000</th>\n",
       "      <th>2001</th>\n",
       "      <th>2002</th>\n",
       "      <th>2003</th>\n",
       "      <th>2004</th>\n",
       "      <th>2005</th>\n",
       "      <th>2006</th>\n",
       "      <th>2007</th>\n",
       "      <th>2008</th>\n",
       "      <th>2009</th>\n",
       "      <th>2010</th>\n",
       "    </tr>\n",
       "    <tr>\n",
       "      <th>Country</th>\n",
       "      <th></th>\n",
       "      <th></th>\n",
       "      <th></th>\n",
       "      <th></th>\n",
       "      <th></th>\n",
       "      <th></th>\n",
       "      <th></th>\n",
       "      <th></th>\n",
       "      <th></th>\n",
       "      <th></th>\n",
       "      <th></th>\n",
       "    </tr>\n",
       "  </thead>\n",
       "  <tbody>\n",
       "    <tr>\n",
       "      <th>Canada</th>\n",
       "      <td>1779.0</td>\n",
       "      <td>1771.0</td>\n",
       "      <td>1754.0</td>\n",
       "      <td>1740.0</td>\n",
       "      <td>1760.0</td>\n",
       "      <td>1747</td>\n",
       "      <td>1745.0</td>\n",
       "      <td>1741.0</td>\n",
       "      <td>1735</td>\n",
       "      <td>1701.0</td>\n",
       "      <td>1703.0</td>\n",
       "    </tr>\n",
       "    <tr>\n",
       "      <th>Mexico</th>\n",
       "      <td>2311.2</td>\n",
       "      <td>2285.2</td>\n",
       "      <td>2271.2</td>\n",
       "      <td>2276.5</td>\n",
       "      <td>2270.6</td>\n",
       "      <td>2281</td>\n",
       "      <td>2280.6</td>\n",
       "      <td>2261.4</td>\n",
       "      <td>2258</td>\n",
       "      <td>2250.2</td>\n",
       "      <td>2242.4</td>\n",
       "    </tr>\n",
       "    <tr>\n",
       "      <th>USA</th>\n",
       "      <td>1836.0</td>\n",
       "      <td>1814.0</td>\n",
       "      <td>1810.0</td>\n",
       "      <td>1800.0</td>\n",
       "      <td>1802.0</td>\n",
       "      <td>1799</td>\n",
       "      <td>1800.0</td>\n",
       "      <td>1798.0</td>\n",
       "      <td>1792</td>\n",
       "      <td>1767.0</td>\n",
       "      <td>1778.0</td>\n",
       "    </tr>\n",
       "    <tr>\n",
       "      <th>Chile</th>\n",
       "      <td>2263.0</td>\n",
       "      <td>2242.0</td>\n",
       "      <td>2250.0</td>\n",
       "      <td>2235.0</td>\n",
       "      <td>2232.0</td>\n",
       "      <td>2157</td>\n",
       "      <td>2165.0</td>\n",
       "      <td>2128.0</td>\n",
       "      <td>2095</td>\n",
       "      <td>2074.0</td>\n",
       "      <td>2069.6</td>\n",
       "    </tr>\n",
       "  </tbody>\n",
       "</table>\n",
       "</div>"
      ],
      "text/plain": [
       "           2000    2001    2002    2003    2004  2005    2006    2007  2008  \\\n",
       "Country                                                                       \n",
       "Canada   1779.0  1771.0  1754.0  1740.0  1760.0  1747  1745.0  1741.0  1735   \n",
       "Mexico   2311.2  2285.2  2271.2  2276.5  2270.6  2281  2280.6  2261.4  2258   \n",
       "USA      1836.0  1814.0  1810.0  1800.0  1802.0  1799  1800.0  1798.0  1792   \n",
       "Chile    2263.0  2242.0  2250.0  2235.0  2232.0  2157  2165.0  2128.0  2095   \n",
       "\n",
       "           2009    2010  \n",
       "Country                  \n",
       "Canada   1701.0  1703.0  \n",
       "Mexico   2250.2  2242.4  \n",
       "USA      1767.0  1778.0  \n",
       "Chile    2074.0  2069.6  "
      ]
     },
     "execution_count": 22,
     "metadata": {},
     "output_type": "execute_result"
    }
   ],
   "source": [
    "pd.concat([north_america, south_america])"
   ]
  },
  {
   "cell_type": "markdown",
   "id": "235f678e",
   "metadata": {},
   "source": [
    "<div class=\"alert alert-success\">\n",
    "\n",
    "<b>EJERCICIO 3</b>: \n",
    "    \n",
    "Queremos que nuestros datos sean lo más recientes posible. Después de solicitar datos sobre estos cuatro países de años posteriores, el equipo de recopilación de datos  envió cada año desde 2011 hasta 2015 en archivos CSV separados de la siguiente manera americas_2011.csv , americas_2012.csv, americas_2013.csv,americas_2014.csv, americas_2015.csv:\n",
    "    \n",
    "**Salida**:    \n",
    "    \n",
    "<img align=\"left\" width=\"750\"  float= \"none\" align=\"middle\" src=\"figuras/ejercicioB-3.png\">\n",
    "   \n",
    "    \n",
    "</div>\n",
    "\n"
   ]
  },
  {
   "cell_type": "code",
   "execution_count": null,
   "id": "693d5e23",
   "metadata": {},
   "outputs": [],
   "source": []
  },
  {
   "cell_type": "markdown",
   "id": "5d6f502d",
   "metadata": {},
   "source": [
    "<div class=\"alert alert-success\">\n",
    "\n",
    "<b>EJERCICIO 4</b>: \n",
    "    \n",
    "Ahora que tenemos una vista completa de las Américas, nos gustaría ver cómo se compara con el resto del mundo. El equipo de recopilación de datos ha proporcionado archivos CSV para Asia, Europa y el Pacífico Sur desde 2000 hasta 2015. Utilizar los archivos asia_2000_2015.csv, europe_2000_2015.csv y south_pacific_2000_2015.csv\n",
    "\n",
    "Encontrar la salida que se muestra en la imagen\n",
    "    \n",
    "**Salida**:    \n",
    "*Solo se muestran unas cuantas filas    \n",
    "\n",
    "\n",
    "<img align=\"left\" width=\"750\"  float= \"none\" align=\"middle\" src=\"figuras/ejercicioC.png\">\n",
    "    \n",
    "    \n",
    "</div>\n"
   ]
  },
  {
   "cell_type": "code",
   "execution_count": null,
   "id": "a07629ed",
   "metadata": {},
   "outputs": [],
   "source": []
  },
  {
   "cell_type": "markdown",
   "id": "b09e5e79",
   "metadata": {},
   "source": [
    "# Ejercicios - parte C"
   ]
  },
  {
   "cell_type": "markdown",
   "id": "eb3b06fe",
   "metadata": {},
   "source": [
    "<div class=\"alert alert-success\">\n",
    "    \n",
    "5. Utilizando el DataFrame del archivo \"datos/titanic.csv\", encontrar las columnas que tienen elementos faltantes\n",
    "    \n",
    "</div> "
   ]
  },
  {
   "cell_type": "code",
   "execution_count": null,
   "id": "ca9ad751",
   "metadata": {},
   "outputs": [],
   "source": []
  },
  {
   "cell_type": "markdown",
   "id": "72578cfb",
   "metadata": {},
   "source": [
    "<div class=\"alert alert-success\">\n",
    "    \n",
    "6. Utilizando el DataFrame del archivo \"datos/titanic.csv\", encontrar el número de elementos faltantes en cada una de las columnas.\n",
    "    \n",
    "</div> "
   ]
  },
  {
   "cell_type": "code",
   "execution_count": null,
   "id": "e6e0cf07",
   "metadata": {},
   "outputs": [],
   "source": []
  },
  {
   "cell_type": "markdown",
   "id": "4d6d8583",
   "metadata": {},
   "source": [
    "<div class=\"alert alert-success\">\n",
    "    \n",
    "7. Utilizando el DataFrame del archivo \"datos/titanic.csv\", cambiar los elementos NaN de la columna \"Age\" por -100.\n",
    "    \n",
    "</div> "
   ]
  },
  {
   "cell_type": "code",
   "execution_count": null,
   "id": "cdeaf378",
   "metadata": {},
   "outputs": [],
   "source": []
  },
  {
   "cell_type": "markdown",
   "id": "d6986d00",
   "metadata": {},
   "source": [
    "<div class=\"alert alert-success\">\n",
    "    \n",
    "8. Utilizando el DataFrame del archivo \"datos/titanic.csv\", cambiar los elementos NaN de la columna \"Cabin\" por \"no record\".\n",
    "    \n",
    "</div> "
   ]
  },
  {
   "cell_type": "code",
   "execution_count": null,
   "id": "8072c520",
   "metadata": {},
   "outputs": [],
   "source": []
  },
  {
   "cell_type": "markdown",
   "id": "ba2f2616",
   "metadata": {},
   "source": [
    "<div class=\"alert alert-success\">\n",
    "    \n",
    "9. Utilizando el DataFrame del archivo \"datos/titanic.csv\", generar un nuevo dataframe considerando solo filas que no tengan datos faltantes (es decir filas con datos). ¿Cuántas filas quedaron?  \n",
    "    \n",
    "</div> "
   ]
  },
  {
   "cell_type": "code",
   "execution_count": null,
   "id": "496fbea8",
   "metadata": {},
   "outputs": [],
   "source": []
  },
  {
   "cell_type": "code",
   "execution_count": null,
   "id": "b89f675c",
   "metadata": {},
   "outputs": [],
   "source": []
  },
  {
   "cell_type": "code",
   "execution_count": null,
   "id": "2c675cc4",
   "metadata": {},
   "outputs": [],
   "source": []
  },
  {
   "cell_type": "code",
   "execution_count": null,
   "id": "84ccf21e",
   "metadata": {},
   "outputs": [],
   "source": []
  },
  {
   "cell_type": "code",
   "execution_count": null,
   "id": "8448d4e3",
   "metadata": {},
   "outputs": [],
   "source": []
  },
  {
   "cell_type": "code",
   "execution_count": null,
   "id": "61453f30",
   "metadata": {},
   "outputs": [],
   "source": []
  }
 ],
 "metadata": {
  "kernelspec": {
   "display_name": "data-science-coursework (3.13.7)",
   "language": "python",
   "name": "python3"
  },
  "language_info": {
   "codemirror_mode": {
    "name": "ipython",
    "version": 3
   },
   "file_extension": ".py",
   "mimetype": "text/x-python",
   "name": "python",
   "nbconvert_exporter": "python",
   "pygments_lexer": "ipython3",
   "version": "3.13.7"
  }
 },
 "nbformat": 4,
 "nbformat_minor": 5
}
