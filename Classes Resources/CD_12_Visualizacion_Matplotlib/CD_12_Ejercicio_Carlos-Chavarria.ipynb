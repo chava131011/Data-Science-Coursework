{
 "cells": [
  {
   "cell_type": "markdown",
   "metadata": {},
   "source": [
    "<!--Información del curso-->\n",
    "<img align=\"left\" style=\"padding-right:10px;\" src=\"figuras/logo_ciencia_datos.png\">"
   ]
  },
  {
   "cell_type": "markdown",
   "metadata": {},
   "source": [
    "# Librerías\n",
    "\n",
    "Cargando las bibliotecas que necesitamos \n"
   ]
  },
  {
   "cell_type": "code",
   "execution_count": 1,
   "metadata": {},
   "outputs": [],
   "source": [
    "import pandas as pd\n",
    "import numpy as np\n",
    "import matplotlib.pyplot as plt"
   ]
  },
  {
   "cell_type": "markdown",
   "metadata": {},
   "source": [
    "## Instrucciones"
   ]
  },
  {
   "cell_type": "markdown",
   "metadata": {},
   "source": [
    "* 1. Cada inciso de los diferentes ejercicios tendrá que resolverse con los dos estilos \n",
    "* 2. Se ha colocado en cada ejercicio los datos a utilizar, si es necesario modifíquelos hasta tener un DataFrame que pueda usar para resolver cada uno de los incisos\n",
    "* 3. No se aceptarán ejercicios usando funciones de graficas de pandas, por ejemplo  *df.iloc[0].plot(kind = 'bar')*  \n",
    "* 4. Los datos de \"Pacientes confirmados con Covid en México\" se obtuvieron el día 30 de Noviembre a las 2pm\n",
    "* 5. Puede agregar todas las opciones de visualización que crea convenientes, pueden ser diferentes para ambos estilos \n"
   ]
  },
  {
   "cell_type": "markdown",
   "metadata": {},
   "source": [
    "## Ejercicio 1:  Datos de la estación meteorologica de Progreso, Yucatán\n",
    "\n",
    "Fuente:  https://smn.conagua.gob.mx/es/observando-el-tiempo/estaciones-meteorologicas-automaticas-ema-s"
   ]
  },
  {
   "cell_type": "code",
   "execution_count": 2,
   "metadata": {},
   "outputs": [
    {
     "data": {
      "application/vnd.microsoft.datawrangler.viewer.v0+json": {
       "columns": [
        {
         "name": "index",
         "rawType": "int64",
         "type": "integer"
        },
        {
         "name": "FechaLocal",
         "rawType": "object",
         "type": "string"
        },
        {
         "name": "FechaUTC",
         "rawType": "object",
         "type": "string"
        },
        {
         "name": "TemperaturaAire(C)",
         "rawType": "int64",
         "type": "integer"
        },
        {
         "name": "Precipitacion(mm)",
         "rawType": "int64",
         "type": "integer"
        },
        {
         "name": "HumedadRelativa(%)",
         "rawType": "int64",
         "type": "integer"
        },
        {
         "name": "PresionAtmosferica(hpa)",
         "rawType": "float64",
         "type": "float"
        },
        {
         "name": "RadiacionSolar(W/m2)",
         "rawType": "float64",
         "type": "float"
        },
        {
         "name": "DireccionViento(grados)",
         "rawType": "float64",
         "type": "float"
        },
        {
         "name": "RapidezViento(km/h)",
         "rawType": "float64",
         "type": "float"
        },
        {
         "name": "DireccionRafaga(grados)",
         "rawType": "float64",
         "type": "float"
        },
        {
         "name": "RapidezRafaga(km/h)",
         "rawType": "float64",
         "type": "float"
        }
       ],
       "ref": "9c6fb20f-4cff-4bd4-bdad-189c9cfe926b",
       "rows": [
        [
         "0",
         "19/11/2020 15:20",
         "19/11/2020 21:20",
         "28",
         "0",
         "72",
         "1017.0",
         "226.0",
         "59.0",
         "28.0",
         "115.0",
         "46.0"
        ],
        [
         "1",
         "19/11/2020 15:10",
         "19/11/2020 21:10",
         "28",
         "0",
         "73",
         "1017.0",
         "445.0",
         "59.0",
         "27.0",
         "103.0",
         "43.0"
        ],
        [
         "2",
         "19/11/2020 15:00",
         "19/11/2020 21:00",
         "28",
         "0",
         "74",
         "1017.0",
         "475.0",
         "60.0",
         "28.0",
         "97.0",
         "53.0"
        ],
        [
         "3",
         "19/11/2020 14:50",
         "19/11/2020 20:50",
         "28",
         "0",
         "75",
         "1017.0",
         "359.0",
         "59.0",
         "27.0",
         "94.0",
         "51.0"
        ],
        [
         "4",
         "19/11/2020 14:40",
         "19/11/2020 20:40",
         "28",
         "0",
         "74",
         "1017.0",
         "550.0",
         "63.0",
         "27.0",
         "99.0",
         "48.0"
        ]
       ],
       "shape": {
        "columns": 11,
        "rows": 5
       }
      },
      "text/html": [
       "<div>\n",
       "<style scoped>\n",
       "    .dataframe tbody tr th:only-of-type {\n",
       "        vertical-align: middle;\n",
       "    }\n",
       "\n",
       "    .dataframe tbody tr th {\n",
       "        vertical-align: top;\n",
       "    }\n",
       "\n",
       "    .dataframe thead th {\n",
       "        text-align: right;\n",
       "    }\n",
       "</style>\n",
       "<table border=\"1\" class=\"dataframe\">\n",
       "  <thead>\n",
       "    <tr style=\"text-align: right;\">\n",
       "      <th></th>\n",
       "      <th>FechaLocal</th>\n",
       "      <th>FechaUTC</th>\n",
       "      <th>TemperaturaAire(C)</th>\n",
       "      <th>Precipitacion(mm)</th>\n",
       "      <th>HumedadRelativa(%)</th>\n",
       "      <th>PresionAtmosferica(hpa)</th>\n",
       "      <th>RadiacionSolar(W/m2)</th>\n",
       "      <th>DireccionViento(grados)</th>\n",
       "      <th>RapidezViento(km/h)</th>\n",
       "      <th>DireccionRafaga(grados)</th>\n",
       "      <th>RapidezRafaga(km/h)</th>\n",
       "    </tr>\n",
       "  </thead>\n",
       "  <tbody>\n",
       "    <tr>\n",
       "      <th>0</th>\n",
       "      <td>19/11/2020 15:20</td>\n",
       "      <td>19/11/2020 21:20</td>\n",
       "      <td>28</td>\n",
       "      <td>0</td>\n",
       "      <td>72</td>\n",
       "      <td>1017.0</td>\n",
       "      <td>226.0</td>\n",
       "      <td>59.0</td>\n",
       "      <td>28.0</td>\n",
       "      <td>115.0</td>\n",
       "      <td>46.0</td>\n",
       "    </tr>\n",
       "    <tr>\n",
       "      <th>1</th>\n",
       "      <td>19/11/2020 15:10</td>\n",
       "      <td>19/11/2020 21:10</td>\n",
       "      <td>28</td>\n",
       "      <td>0</td>\n",
       "      <td>73</td>\n",
       "      <td>1017.0</td>\n",
       "      <td>445.0</td>\n",
       "      <td>59.0</td>\n",
       "      <td>27.0</td>\n",
       "      <td>103.0</td>\n",
       "      <td>43.0</td>\n",
       "    </tr>\n",
       "    <tr>\n",
       "      <th>2</th>\n",
       "      <td>19/11/2020 15:00</td>\n",
       "      <td>19/11/2020 21:00</td>\n",
       "      <td>28</td>\n",
       "      <td>0</td>\n",
       "      <td>74</td>\n",
       "      <td>1017.0</td>\n",
       "      <td>475.0</td>\n",
       "      <td>60.0</td>\n",
       "      <td>28.0</td>\n",
       "      <td>97.0</td>\n",
       "      <td>53.0</td>\n",
       "    </tr>\n",
       "    <tr>\n",
       "      <th>3</th>\n",
       "      <td>19/11/2020 14:50</td>\n",
       "      <td>19/11/2020 20:50</td>\n",
       "      <td>28</td>\n",
       "      <td>0</td>\n",
       "      <td>75</td>\n",
       "      <td>1017.0</td>\n",
       "      <td>359.0</td>\n",
       "      <td>59.0</td>\n",
       "      <td>27.0</td>\n",
       "      <td>94.0</td>\n",
       "      <td>51.0</td>\n",
       "    </tr>\n",
       "    <tr>\n",
       "      <th>4</th>\n",
       "      <td>19/11/2020 14:40</td>\n",
       "      <td>19/11/2020 20:40</td>\n",
       "      <td>28</td>\n",
       "      <td>0</td>\n",
       "      <td>74</td>\n",
       "      <td>1017.0</td>\n",
       "      <td>550.0</td>\n",
       "      <td>63.0</td>\n",
       "      <td>27.0</td>\n",
       "      <td>99.0</td>\n",
       "      <td>48.0</td>\n",
       "    </tr>\n",
       "  </tbody>\n",
       "</table>\n",
       "</div>"
      ],
      "text/plain": [
       "         FechaLocal          FechaUTC  TemperaturaAire(C)  Precipitacion(mm)  \\\n",
       "0  19/11/2020 15:20  19/11/2020 21:20                  28                  0   \n",
       "1  19/11/2020 15:10  19/11/2020 21:10                  28                  0   \n",
       "2  19/11/2020 15:00  19/11/2020 21:00                  28                  0   \n",
       "3  19/11/2020 14:50  19/11/2020 20:50                  28                  0   \n",
       "4  19/11/2020 14:40  19/11/2020 20:40                  28                  0   \n",
       "\n",
       "   HumedadRelativa(%)  PresionAtmosferica(hpa)  RadiacionSolar(W/m2)  \\\n",
       "0                  72                   1017.0                 226.0   \n",
       "1                  73                   1017.0                 445.0   \n",
       "2                  74                   1017.0                 475.0   \n",
       "3                  75                   1017.0                 359.0   \n",
       "4                  74                   1017.0                 550.0   \n",
       "\n",
       "   DireccionViento(grados)  RapidezViento(km/h)  DireccionRafaga(grados)  \\\n",
       "0                     59.0                 28.0                    115.0   \n",
       "1                     59.0                 27.0                    103.0   \n",
       "2                     60.0                 28.0                     97.0   \n",
       "3                     59.0                 27.0                     94.0   \n",
       "4                     63.0                 27.0                     99.0   \n",
       "\n",
       "   RapidezRafaga(km/h)  \n",
       "0                 46.0  \n",
       "1                 43.0  \n",
       "2                 53.0  \n",
       "3                 51.0  \n",
       "4                 48.0  "
      ]
     },
     "execution_count": 2,
     "metadata": {},
     "output_type": "execute_result"
    }
   ],
   "source": [
    "df= pd.read_csv(\"datos/Estacion_PROGRESO_90_dias_19Nov.csv\")\n",
    "df.head()"
   ]
  },
  {
   "cell_type": "markdown",
   "metadata": {},
   "source": [
    "<div class=\"alert alert-success\">\n",
    "\n",
    "1. Considerando todos los datos hacer una grafica de dispersión para la Temperatura de Aire (en el eje Y) y la Humadad Relativa (en el eje X) \n",
    "</ul>\n",
    "</div>"
   ]
  },
  {
   "cell_type": "code",
   "execution_count": 3,
   "metadata": {},
   "outputs": [],
   "source": [
    "TemperaturaAire_values = list(df['TemperaturaAire(C)'].values)\n",
    "HumedadRelativa_values = list(df['HumedadRelativa(%)'].values)"
   ]
  },
  {
   "cell_type": "code",
   "execution_count": 4,
   "metadata": {},
   "outputs": [
    {
     "data": {
      "image/png": "[encoded data removed]",
      "text/plain": [
       "<Figure size 1000x500 with 1 Axes>"
      ]
     },
     "metadata": {},
     "output_type": "display_data"
    }
   ],
   "source": [
    "#Estilo Matlab\n",
    "plt.figure(figsize=(10,5)) \n",
    "plt.scatter(HumedadRelativa_values, TemperaturaAire_values, c='C4', marker=\".\")\n",
    "plt.xlabel('Humedad Relativa (%)')\n",
    "plt.ylabel('Temperatura de Aire (C)')\n",
    "plt.title('Humedad Relativa vs Temperatura del Aire')\n",
    "plt.show()"
   ]
  },
  {
   "cell_type": "code",
   "execution_count": 5,
   "metadata": {},
   "outputs": [
    {
     "data": {
      "image/png": "[encoded data removed]",
      "text/plain": [
       "<Figure size 1000x500 with 1 Axes>"
      ]
     },
     "metadata": {},
     "output_type": "display_data"
    }
   ],
   "source": [
    "#Estilo Oriendado a Objetos\n",
    "fig, ax = plt.subplots(figsize = (10,5))\n",
    "\n",
    "ax.scatter(HumedadRelativa_values, TemperaturaAire_values, c = 'C0', marker='.')\n",
    "ax.set(title='Humedad Relativa vs Temperatura del Aire', xlabel=\"Humedad Relativa (%)\", ylabel=\"Temperatura Aire (C)\")\n",
    "\n",
    "plt.show()\n"
   ]
  },
  {
   "cell_type": "markdown",
   "metadata": {},
   "source": [
    "<div class=\"alert alert-success\">\n",
    "    \n",
    "2. Considerando todos los datos, hacer un histograma de los valores de la Rapidez Viento \n",
    "    \n",
    "</div> "
   ]
  },
  {
   "cell_type": "code",
   "execution_count": 6,
   "metadata": {},
   "outputs": [
    {
     "data": {
      "image/png": "[encoded data removed]",
      "text/plain": [
       "<Figure size 500x500 with 1 Axes>"
      ]
     },
     "metadata": {},
     "output_type": "display_data"
    }
   ],
   "source": [
    "#Estilo matlab\n",
    "\n",
    "plt.figure(figsize=(5,5))\n",
    "plt.hist(df['RapidezViento(km/h)'], color='pink', ec='black')\n",
    "plt.xlabel('Kilometros por hora')\n",
    "plt.title('Rapidez del Viento')\n",
    "plt.show()"
   ]
  },
  {
   "cell_type": "code",
   "execution_count": 7,
   "metadata": {},
   "outputs": [
    {
     "data": {
      "image/png": "[encoded data removed]",
      "text/plain": [
       "<Figure size 500x500 with 1 Axes>"
      ]
     },
     "metadata": {},
     "output_type": "display_data"
    }
   ],
   "source": [
    "#Estilo OOP\n",
    "fig, ax = plt.subplots(figsize=(5,5))\n",
    "\n",
    "ax.hist(df['RapidezViento(km/h)'], bins=20, color='plum', ec='black')\n",
    "ax.set(title='Rapidez del Viento', xlabel='Kilometros por hora')\n",
    "plt.show()"
   ]
  },
  {
   "cell_type": "markdown",
   "metadata": {},
   "source": [
    "# Ejercicio 2: Incendios en México"
   ]
  },
  {
   "cell_type": "code",
   "execution_count": 8,
   "metadata": {},
   "outputs": [],
   "source": [
    "df2= pd.read_csv(\"datos/Serie_historica_anual_incendios_2017.csv\")"
   ]
  },
  {
   "cell_type": "markdown",
   "metadata": {},
   "source": [
    "<div class=\"alert alert-success\">\n",
    "    \n",
    "1. Utilizar una grafica de barras para comparar el total de hectáreas afectadas para los 5 estados más afectados \n",
    "    \n",
    "</div> "
   ]
  },
  {
   "cell_type": "code",
   "execution_count": 9,
   "metadata": {},
   "outputs": [
    {
     "data": {
      "application/vnd.microsoft.datawrangler.viewer.v0+json": {
       "columns": [
        {
         "name": "Estado",
         "rawType": "object",
         "type": "string"
        },
        {
         "name": "Total Hectareas",
         "rawType": "int64",
         "type": "integer"
        }
       ],
       "ref": "ea62288a-f154-46a4-a6ed-2db13e0d6c86",
       "rows": [
        [
         "Oaxaca",
         "41718"
        ],
        [
         "Baja California",
         "50957"
        ],
        [
         "Chihuahua",
         "87285"
        ],
        [
         "Sonora",
         "101072"
        ],
        [
         "Jalisco",
         "189816"
        ]
       ],
       "shape": {
        "columns": 1,
        "rows": 5
       }
      },
      "text/plain": [
       "Estado\n",
       "Oaxaca              41718\n",
       "Baja California     50957\n",
       "Chihuahua           87285\n",
       "Sonora             101072\n",
       "Jalisco            189816\n",
       "Name: Total Hectareas, dtype: int64"
      ]
     },
     "execution_count": 9,
     "metadata": {},
     "output_type": "execute_result"
    }
   ],
   "source": [
    "estados_afec_hect = df2.groupby('Estado')['Total Hectareas'].sum().sort_values(ascending=False).head().sort_values()\n",
    "estados_afec_hect"
   ]
  },
  {
   "cell_type": "code",
   "execution_count": 10,
   "metadata": {},
   "outputs": [
    {
     "data": {
      "image/png": "[encoded data removed]",
      "text/plain": [
       "<Figure size 1000x500 with 1 Axes>"
      ]
     },
     "metadata": {},
     "output_type": "display_data"
    }
   ],
   "source": [
    "#Estilo matlab\n",
    "\n",
    "plt.figure(figsize=(10,5))\n",
    "plt.bar(estados_afec_hect.index, estados_afec_hect.to_numpy(), color=('lightcoral', 'indianred', 'brown','firebrick', 'darkred'))\n",
    "plt.ylabel('Total Hectareas Afectadas')\n",
    "plt.title('Estados con mas hectareas afectadas')\n",
    "plt.show()"
   ]
  },
  {
   "cell_type": "code",
   "execution_count": 11,
   "metadata": {},
   "outputs": [
    {
     "data": {
      "image/png": "[encoded data removed]",
      "text/plain": [
       "<Figure size 1000x500 with 1 Axes>"
      ]
     },
     "metadata": {},
     "output_type": "display_data"
    }
   ],
   "source": [
    "#Estilo OOP\n",
    "\n",
    "fig, ax = plt.subplots(figsize=(10,5))\n",
    "\n",
    "ax.bar(estados_afec_hect.index, estados_afec_hect.to_numpy(), color=('lightcoral', 'indianred', 'brown','firebrick', 'darkred'))\n",
    "ax.set(title='Estados con mas hectareas afectadas', ylabel='Total Hectareas Afectadas')\n",
    "plt.show()"
   ]
  },
  {
   "cell_type": "markdown",
   "metadata": {},
   "source": [
    "<div class=\"alert alert-success\">\n",
    "    \n",
    "2. Utilizar una grafica de barras para comparar el total de hectáreas afectadas para Yucatán para los meses: abril, mayo, junio, julio y agosto \n",
    "    \n",
    "</div> "
   ]
  },
  {
   "cell_type": "code",
   "execution_count": 12,
   "metadata": {},
   "outputs": [
    {
     "data": {
      "application/vnd.microsoft.datawrangler.viewer.v0+json": {
       "columns": [
        {
         "name": "index",
         "rawType": "object",
         "type": "string"
        },
        {
         "name": "Total Hectareas",
         "rawType": "int64",
         "type": "integer"
        }
       ],
       "ref": "b70c3eed-c1a0-4f14-935e-6943afaec574",
       "rows": [
        [
         "Abril",
         "975"
        ],
        [
         "Mayo",
         "1943"
        ],
        [
         "Junio",
         "0"
        ],
        [
         "Julio",
         "0"
        ],
        [
         "Agosto",
         "1928"
        ]
       ],
       "shape": {
        "columns": 1,
        "rows": 5
       }
      },
      "text/plain": [
       "Abril      975\n",
       "Mayo      1943\n",
       "Junio        0\n",
       "Julio        0\n",
       "Agosto    1928\n",
       "Name: Total Hectareas, dtype: int64"
      ]
     },
     "execution_count": 12,
     "metadata": {},
     "output_type": "execute_result"
    }
   ],
   "source": [
    "meses = ('abril','mayo','junio','julio','agosto')\n",
    "filtro1 = df2[(df2['Estado'] == 'Yucatán') & (df2['Mes Acontecimiento'].isin(('abril','mayo','junio','julio','agosto')))].groupby('Mes Acontecimiento')['Total Hectareas'].sum()\n",
    "hect_yuc_meses = filtro1.reindex(meses, fill_value=0)\n",
    "hect_yuc_meses.index = pd.Index([mes.capitalize() for mes in meses])\n",
    "\n",
    "hect_yuc_meses\n"
   ]
  },
  {
   "cell_type": "code",
   "execution_count": 13,
   "metadata": {},
   "outputs": [
    {
     "data": {
      "image/png": "[encoded data removed]",
      "text/plain": [
       "<Figure size 1000x500 with 1 Axes>"
      ]
     },
     "metadata": {},
     "output_type": "display_data"
    }
   ],
   "source": [
    "#Estilo matlab\n",
    "plt.figure(figsize=(10,5))\n",
    "plt.bar(hect_yuc_meses.index, hect_yuc_meses.to_numpy(), ec='black', color='wheat')\n",
    "plt.ylabel('Total de hectareas afectadas')\n",
    "plt.title('Total de hectareas afectadas en el estado de Yucatán entre Abril y Agosto')\n",
    "plt.show()"
   ]
  },
  {
   "cell_type": "code",
   "execution_count": 14,
   "metadata": {},
   "outputs": [
    {
     "data": {
      "image/png": "[encoded data removed]",
      "text/plain": [
       "<Figure size 1000x500 with 1 Axes>"
      ]
     },
     "metadata": {},
     "output_type": "display_data"
    }
   ],
   "source": [
    "#Estilo OOP\n",
    "fig,ax = plt.subplots(figsize=(10,5))\n",
    "\n",
    "ax.bar(hect_yuc_meses.index, hect_yuc_meses.to_numpy(), ec='black', color='khaki')\n",
    "ax.set(title='Total de hectareas afectads en el estado de Yucatán entre Abril y Agosto', ylabel='Total hectareas afectadas')\n",
    "plt.show()"
   ]
  },
  {
   "cell_type": "markdown",
   "metadata": {},
   "source": [
    "<div class=\"alert alert-success\">\n",
    "    \n",
    "3. Considerando todos los datos, hacer un histograma de la duración de los incendios \n",
    "    \n",
    "</div> "
   ]
  },
  {
   "cell_type": "code",
   "execution_count": 15,
   "metadata": {},
   "outputs": [
    {
     "data": {
      "image/png": "[encoded data removed]",
      "text/plain": [
       "<Figure size 1000x500 with 1 Axes>"
      ]
     },
     "metadata": {},
     "output_type": "display_data"
    }
   ],
   "source": [
    "#Estilo matplab\n",
    "plt.figure(figsize=(10,5))\n",
    "plt.hist(df2['Duracion H'], bins=25,log=True,color='salmon', ec='black',)\n",
    "plt.xlabel('Horas')\n",
    "plt.title('Duracion de los incendios')\n",
    "plt.grid(True, alpha=0.5)\n",
    "plt.show()"
   ]
  },
  {
   "cell_type": "code",
   "execution_count": 16,
   "metadata": {},
   "outputs": [
    {
     "data": {
      "image/png": "[encoded data removed]",
      "text/plain": [
       "<Figure size 1000x500 with 1 Axes>"
      ]
     },
     "metadata": {},
     "output_type": "display_data"
    }
   ],
   "source": [
    "#Estilo OOP\n",
    "fig, ax = plt.subplots(figsize=(10,5))\n",
    "\n",
    "ax.hist(df2['Duracion H'], bins=25,log=True,color='lightsalmon', ec='black',)\n",
    "ax.set(title='Duracion de los incendios', xlabel='Horas')\n",
    "ax.grid(True, alpha=0.5)\n",
    "plt.show()"
   ]
  },
  {
   "cell_type": "markdown",
   "metadata": {},
   "source": [
    "<div class=\"alert alert-success\">\n",
    "    \n",
    "4. Considerando todos los datos, hacer una grafica de dispersión entre la duración (eje X) y el total de hectáreas (eje Y)\n",
    "    \n",
    "</div> "
   ]
  },
  {
   "cell_type": "code",
   "execution_count": 17,
   "metadata": {},
   "outputs": [
    {
     "data": {
      "application/vnd.microsoft.datawrangler.viewer.v0+json": {
       "columns": [
        {
         "name": "Duracion H",
         "rawType": "float64",
         "type": "float"
        },
        {
         "name": "Total Hectareas",
         "rawType": "float64",
         "type": "float"
        }
       ],
       "ref": "35f63195-e395-4d19-8330-b9ee0b15a262",
       "rows": [
        [
         "0.0",
         "163.20491803278688"
        ],
        [
         "0.03",
         "1.0"
        ],
        [
         "0.09",
         "9.0"
        ],
        [
         "0.11",
         "20.0"
        ],
        [
         "0.17",
         "54.666666666666664"
        ],
        [
         "0.2",
         "7.0"
        ],
        [
         "0.25",
         "218.0"
        ],
        [
         "0.28",
         "34.0"
        ],
        [
         "0.33",
         "136.0"
        ],
        [
         "0.42",
         "1.0"
        ],
        [
         "0.43",
         "80.0"
        ],
        [
         "0.5",
         "305.94871794871796"
        ],
        [
         "0.53",
         "1.0"
        ],
        [
         "0.57",
         "3.0"
        ],
        [
         "0.58",
         "53.05555555555556"
        ],
        [
         "0.62",
         "5.4"
        ],
        [
         "0.63",
         "0.0"
        ],
        [
         "0.65",
         "60.0"
        ],
        [
         "0.67",
         "8.378378378378379"
        ],
        [
         "0.68",
         "2.0"
        ],
        [
         "0.7",
         "1.0"
        ],
        [
         "0.72",
         "14.0"
        ],
        [
         "0.75",
         "15.25"
        ],
        [
         "0.77",
         "0.0"
        ],
        [
         "0.78",
         "1.0"
        ],
        [
         "0.8",
         "0.0"
        ],
        [
         "0.82",
         "0.5"
        ],
        [
         "0.83",
         "7.82051282051282"
        ],
        [
         "0.87",
         "0.5"
        ],
        [
         "0.88",
         "0.0"
        ],
        [
         "0.9",
         "1.0"
        ],
        [
         "0.92",
         "2.0434782608695654"
        ],
        [
         "0.93",
         "0.0"
        ],
        [
         "0.95",
         "172.33333333333334"
        ],
        [
         "0.97",
         "0.5"
        ],
        [
         "0.98",
         "0.0"
        ],
        [
         "1.0",
         "113.23"
        ],
        [
         "1.02",
         "6.5"
        ],
        [
         "1.05",
         "1.0"
        ],
        [
         "1.07",
         "0.0"
        ],
        [
         "1.08",
         "0.972972972972973"
        ],
        [
         "1.1",
         "1.0"
        ],
        [
         "1.12",
         "0.6666666666666666"
        ],
        [
         "1.13",
         "0.75"
        ],
        [
         "1.17",
         "8.026666666666667"
        ],
        [
         "1.2",
         "1.6"
        ],
        [
         "1.22",
         "4.0"
        ],
        [
         "1.23",
         "0.0"
        ],
        [
         "1.25",
         "7.764705882352941"
        ],
        [
         "1.27",
         "1.5"
        ]
       ],
       "shape": {
        "columns": 1,
        "rows": 537
       }
      },
      "text/plain": [
       "Duracion H\n",
       "0.00      163.204918\n",
       "0.03        1.000000\n",
       "0.09        9.000000\n",
       "0.11       20.000000\n",
       "0.17       54.666667\n",
       "             ...    \n",
       "47.08     146.000000\n",
       "53.12      54.000000\n",
       "75.20       1.000000\n",
       "80.00       2.000000\n",
       "220.00    148.000000\n",
       "Name: Total Hectareas, Length: 537, dtype: float64"
      ]
     },
     "execution_count": 17,
     "metadata": {},
     "output_type": "execute_result"
    }
   ],
   "source": [
    "duracion_vs_hect = df2.groupby('Duracion H')['Total Hectareas'].mean()\n",
    "duracion_vs_hect"
   ]
  },
  {
   "cell_type": "code",
   "execution_count": 18,
   "metadata": {},
   "outputs": [
    {
     "data": {
      "image/png": "[encoded data removed]",
      "text/plain": [
       "<Figure size 1000x1000 with 1 Axes>"
      ]
     },
     "metadata": {},
     "output_type": "display_data"
    }
   ],
   "source": [
    "#Estilo matlab\n",
    "plt.figure(figsize=(10,10))\n",
    "plt.scatter(duracion_vs_hect.index, duracion_vs_hect, marker='.', s=10, c='darkgreen')\n",
    "plt.xscale('log')\n",
    "plt.yscale('log')\n",
    "plt.xlabel('Duracion (Hr)')\n",
    "plt.ylabel('Total de hectareas afectadas')\n",
    "plt.title('Duracion vs Hectareas Afectadas')\n",
    "plt.grid(True, alpha=0.5)\n",
    "plt.show()"
   ]
  },
  {
   "cell_type": "code",
   "execution_count": 19,
   "metadata": {},
   "outputs": [
    {
     "data": {
      "image/png": "[encoded data removed]",
      "text/plain": [
       "<Figure size 1000x1000 with 1 Axes>"
      ]
     },
     "metadata": {},
     "output_type": "display_data"
    }
   ],
   "source": [
    "fig, ax = plt.subplots(figsize=(10,10))\n",
    "\n",
    "ax.scatter(duracion_vs_hect.index, duracion_vs_hect, marker='.', s=10, c='darkorange')\n",
    "ax.set(title='Duracion vs Hectareas Afectadas', xlabel='Duracion (Hr)', ylabel='Duracion vs Hectareas Afectadas', xscale='log', yscale='log')\n",
    "ax.grid(True, alpha=0.5)\n",
    "plt.show()"
   ]
  },
  {
   "cell_type": "markdown",
   "metadata": {},
   "source": [
    "# Ejercicio 3: Pacientes confirmados con Covid en México\n"
   ]
  },
  {
   "cell_type": "markdown",
   "metadata": {},
   "source": [
    "Fuente: https://datos.covid-19.conacyt.mx/#DownZCSV"
   ]
  },
  {
   "cell_type": "code",
   "execution_count": 20,
   "metadata": {},
   "outputs": [
    {
     "data": {
      "application/vnd.microsoft.datawrangler.viewer.v0+json": {
       "columns": [
        {
         "name": "index",
         "rawType": "int64",
         "type": "integer"
        },
        {
         "name": "cve_ent",
         "rawType": "int64",
         "type": "integer"
        },
        {
         "name": "poblacion",
         "rawType": "int64",
         "type": "integer"
        },
        {
         "name": "nombre",
         "rawType": "object",
         "type": "string"
        },
        {
         "name": "12-01-2020",
         "rawType": "int64",
         "type": "integer"
        },
        {
         "name": "13-01-2020",
         "rawType": "int64",
         "type": "integer"
        },
        {
         "name": "14-01-2020",
         "rawType": "int64",
         "type": "integer"
        },
        {
         "name": "15-01-2020",
         "rawType": "int64",
         "type": "integer"
        },
        {
         "name": "16-01-2020",
         "rawType": "int64",
         "type": "integer"
        },
        {
         "name": "17-01-2020",
         "rawType": "int64",
         "type": "integer"
        },
        {
         "name": "18-01-2020",
         "rawType": "int64",
         "type": "integer"
        },
        {
         "name": "19-01-2020",
         "rawType": "int64",
         "type": "integer"
        },
        {
         "name": "20-01-2020",
         "rawType": "int64",
         "type": "integer"
        },
        {
         "name": "21-01-2020",
         "rawType": "int64",
         "type": "integer"
        },
        {
         "name": "22-01-2020",
         "rawType": "int64",
         "type": "integer"
        },
        {
         "name": "23-01-2020",
         "rawType": "int64",
         "type": "integer"
        },
        {
         "name": "24-01-2020",
         "rawType": "int64",
         "type": "integer"
        },
        {
         "name": "25-01-2020",
         "rawType": "int64",
         "type": "integer"
        },
        {
         "name": "26-01-2020",
         "rawType": "int64",
         "type": "integer"
        },
        {
         "name": "27-01-2020",
         "rawType": "int64",
         "type": "integer"
        },
        {
         "name": "28-01-2020",
         "rawType": "int64",
         "type": "integer"
        },
        {
         "name": "29-01-2020",
         "rawType": "int64",
         "type": "integer"
        },
        {
         "name": "30-01-2020",
         "rawType": "int64",
         "type": "integer"
        },
        {
         "name": "31-01-2020",
         "rawType": "int64",
         "type": "integer"
        },
        {
         "name": "01-02-2020",
         "rawType": "int64",
         "type": "integer"
        },
        {
         "name": "02-02-2020",
         "rawType": "int64",
         "type": "integer"
        },
        {
         "name": "03-02-2020",
         "rawType": "int64",
         "type": "integer"
        },
        {
         "name": "04-02-2020",
         "rawType": "int64",
         "type": "integer"
        },
        {
         "name": "05-02-2020",
         "rawType": "int64",
         "type": "integer"
        },
        {
         "name": "06-02-2020",
         "rawType": "int64",
         "type": "integer"
        },
        {
         "name": "07-02-2020",
         "rawType": "int64",
         "type": "integer"
        },
        {
         "name": "08-02-2020",
         "rawType": "int64",
         "type": "integer"
        },
        {
         "name": "09-02-2020",
         "rawType": "int64",
         "type": "integer"
        },
        {
         "name": "10-02-2020",
         "rawType": "int64",
         "type": "integer"
        },
        {
         "name": "11-02-2020",
         "rawType": "int64",
         "type": "integer"
        },
        {
         "name": "12-02-2020",
         "rawType": "int64",
         "type": "integer"
        },
        {
         "name": "13-02-2020",
         "rawType": "int64",
         "type": "integer"
        },
        {
         "name": "14-02-2020",
         "rawType": "int64",
         "type": "integer"
        },
        {
         "name": "15-02-2020",
         "rawType": "int64",
         "type": "integer"
        },
        {
         "name": "16-02-2020",
         "rawType": "int64",
         "type": "integer"
        },
        {
         "name": "17-02-2020",
         "rawType": "int64",
         "type": "integer"
        },
        {
         "name": "18-02-2020",
         "rawType": "int64",
         "type": "integer"
        },
        {
         "name": "19-02-2020",
         "rawType": "int64",
         "type": "integer"
        },
        {
         "name": "20-02-2020",
         "rawType": "int64",
         "type": "integer"
        },
        {
         "name": "21-02-2020",
         "rawType": "int64",
         "type": "integer"
        },
        {
         "name": "22-02-2020",
         "rawType": "int64",
         "type": "integer"
        },
        {
         "name": "23-02-2020",
         "rawType": "int64",
         "type": "integer"
        },
        {
         "name": "24-02-2020",
         "rawType": "int64",
         "type": "integer"
        },
        {
         "name": "25-02-2020",
         "rawType": "int64",
         "type": "integer"
        },
        {
         "name": "26-02-2020",
         "rawType": "int64",
         "type": "integer"
        },
        {
         "name": "27-02-2020",
         "rawType": "int64",
         "type": "integer"
        },
        {
         "name": "28-02-2020",
         "rawType": "int64",
         "type": "integer"
        },
        {
         "name": "29-02-2020",
         "rawType": "int64",
         "type": "integer"
        },
        {
         "name": "01-03-2020",
         "rawType": "int64",
         "type": "integer"
        },
        {
         "name": "02-03-2020",
         "rawType": "int64",
         "type": "integer"
        },
        {
         "name": "03-03-2020",
         "rawType": "int64",
         "type": "integer"
        },
        {
         "name": "04-03-2020",
         "rawType": "int64",
         "type": "integer"
        },
        {
         "name": "05-03-2020",
         "rawType": "int64",
         "type": "integer"
        },
        {
         "name": "06-03-2020",
         "rawType": "int64",
         "type": "integer"
        },
        {
         "name": "07-03-2020",
         "rawType": "int64",
         "type": "integer"
        },
        {
         "name": "08-03-2020",
         "rawType": "int64",
         "type": "integer"
        },
        {
         "name": "09-03-2020",
         "rawType": "int64",
         "type": "integer"
        },
        {
         "name": "10-03-2020",
         "rawType": "int64",
         "type": "integer"
        },
        {
         "name": "11-03-2020",
         "rawType": "int64",
         "type": "integer"
        },
        {
         "name": "12-03-2020",
         "rawType": "int64",
         "type": "integer"
        },
        {
         "name": "13-03-2020",
         "rawType": "int64",
         "type": "integer"
        },
        {
         "name": "14-03-2020",
         "rawType": "int64",
         "type": "integer"
        },
        {
         "name": "15-03-2020",
         "rawType": "int64",
         "type": "integer"
        },
        {
         "name": "16-03-2020",
         "rawType": "int64",
         "type": "integer"
        },
        {
         "name": "17-03-2020",
         "rawType": "int64",
         "type": "integer"
        },
        {
         "name": "18-03-2020",
         "rawType": "int64",
         "type": "integer"
        },
        {
         "name": "19-03-2020",
         "rawType": "int64",
         "type": "integer"
        },
        {
         "name": "20-03-2020",
         "rawType": "int64",
         "type": "integer"
        },
        {
         "name": "21-03-2020",
         "rawType": "int64",
         "type": "integer"
        },
        {
         "name": "22-03-2020",
         "rawType": "int64",
         "type": "integer"
        },
        {
         "name": "23-03-2020",
         "rawType": "int64",
         "type": "integer"
        },
        {
         "name": "24-03-2020",
         "rawType": "int64",
         "type": "integer"
        },
        {
         "name": "25-03-2020",
         "rawType": "int64",
         "type": "integer"
        },
        {
         "name": "26-03-2020",
         "rawType": "int64",
         "type": "integer"
        },
        {
         "name": "27-03-2020",
         "rawType": "int64",
         "type": "integer"
        },
        {
         "name": "28-03-2020",
         "rawType": "int64",
         "type": "integer"
        },
        {
         "name": "29-03-2020",
         "rawType": "int64",
         "type": "integer"
        },
        {
         "name": "30-03-2020",
         "rawType": "int64",
         "type": "integer"
        },
        {
         "name": "31-03-2020",
         "rawType": "int64",
         "type": "integer"
        },
        {
         "name": "01-04-2020",
         "rawType": "int64",
         "type": "integer"
        },
        {
         "name": "02-04-2020",
         "rawType": "int64",
         "type": "integer"
        },
        {
         "name": "03-04-2020",
         "rawType": "int64",
         "type": "integer"
        },
        {
         "name": "04-04-2020",
         "rawType": "int64",
         "type": "integer"
        },
        {
         "name": "05-04-2020",
         "rawType": "int64",
         "type": "integer"
        },
        {
         "name": "06-04-2020",
         "rawType": "int64",
         "type": "integer"
        },
        {
         "name": "07-04-2020",
         "rawType": "int64",
         "type": "integer"
        },
        {
         "name": "08-04-2020",
         "rawType": "int64",
         "type": "integer"
        },
        {
         "name": "09-04-2020",
         "rawType": "int64",
         "type": "integer"
        },
        {
         "name": "10-04-2020",
         "rawType": "int64",
         "type": "integer"
        },
        {
         "name": "11-04-2020",
         "rawType": "int64",
         "type": "integer"
        },
        {
         "name": "12-04-2020",
         "rawType": "int64",
         "type": "integer"
        },
        {
         "name": "13-04-2020",
         "rawType": "int64",
         "type": "integer"
        },
        {
         "name": "14-04-2020",
         "rawType": "int64",
         "type": "integer"
        },
        {
         "name": "15-04-2020",
         "rawType": "int64",
         "type": "integer"
        },
        {
         "name": "16-04-2020",
         "rawType": "int64",
         "type": "integer"
        },
        {
         "name": "17-04-2020",
         "rawType": "int64",
         "type": "integer"
        },
        {
         "name": "18-04-2020",
         "rawType": "int64",
         "type": "integer"
        },
        {
         "name": "19-04-2020",
         "rawType": "int64",
         "type": "integer"
        },
        {
         "name": "20-04-2020",
         "rawType": "int64",
         "type": "integer"
        },
        {
         "name": "21-04-2020",
         "rawType": "int64",
         "type": "integer"
        },
        {
         "name": "22-04-2020",
         "rawType": "int64",
         "type": "integer"
        },
        {
         "name": "23-04-2020",
         "rawType": "int64",
         "type": "integer"
        },
        {
         "name": "24-04-2020",
         "rawType": "int64",
         "type": "integer"
        },
        {
         "name": "25-04-2020",
         "rawType": "int64",
         "type": "integer"
        },
        {
         "name": "26-04-2020",
         "rawType": "int64",
         "type": "integer"
        },
        {
         "name": "27-04-2020",
         "rawType": "int64",
         "type": "integer"
        },
        {
         "name": "28-04-2020",
         "rawType": "int64",
         "type": "integer"
        },
        {
         "name": "29-04-2020",
         "rawType": "int64",
         "type": "integer"
        },
        {
         "name": "30-04-2020",
         "rawType": "int64",
         "type": "integer"
        },
        {
         "name": "01-05-2020",
         "rawType": "int64",
         "type": "integer"
        },
        {
         "name": "02-05-2020",
         "rawType": "int64",
         "type": "integer"
        },
        {
         "name": "03-05-2020",
         "rawType": "int64",
         "type": "integer"
        },
        {
         "name": "04-05-2020",
         "rawType": "int64",
         "type": "integer"
        },
        {
         "name": "05-05-2020",
         "rawType": "int64",
         "type": "integer"
        },
        {
         "name": "06-05-2020",
         "rawType": "int64",
         "type": "integer"
        },
        {
         "name": "07-05-2020",
         "rawType": "int64",
         "type": "integer"
        },
        {
         "name": "08-05-2020",
         "rawType": "int64",
         "type": "integer"
        },
        {
         "name": "09-05-2020",
         "rawType": "int64",
         "type": "integer"
        },
        {
         "name": "10-05-2020",
         "rawType": "int64",
         "type": "integer"
        },
        {
         "name": "11-05-2020",
         "rawType": "int64",
         "type": "integer"
        },
        {
         "name": "12-05-2020",
         "rawType": "int64",
         "type": "integer"
        },
        {
         "name": "13-05-2020",
         "rawType": "int64",
         "type": "integer"
        },
        {
         "name": "14-05-2020",
         "rawType": "int64",
         "type": "integer"
        },
        {
         "name": "15-05-2020",
         "rawType": "int64",
         "type": "integer"
        },
        {
         "name": "16-05-2020",
         "rawType": "int64",
         "type": "integer"
        },
        {
         "name": "17-05-2020",
         "rawType": "int64",
         "type": "integer"
        },
        {
         "name": "18-05-2020",
         "rawType": "int64",
         "type": "integer"
        },
        {
         "name": "19-05-2020",
         "rawType": "int64",
         "type": "integer"
        },
        {
         "name": "20-05-2020",
         "rawType": "int64",
         "type": "integer"
        },
        {
         "name": "21-05-2020",
         "rawType": "int64",
         "type": "integer"
        },
        {
         "name": "22-05-2020",
         "rawType": "int64",
         "type": "integer"
        },
        {
         "name": "23-05-2020",
         "rawType": "int64",
         "type": "integer"
        },
        {
         "name": "24-05-2020",
         "rawType": "int64",
         "type": "integer"
        },
        {
         "name": "25-05-2020",
         "rawType": "int64",
         "type": "integer"
        },
        {
         "name": "26-05-2020",
         "rawType": "int64",
         "type": "integer"
        },
        {
         "name": "27-05-2020",
         "rawType": "int64",
         "type": "integer"
        },
        {
         "name": "28-05-2020",
         "rawType": "int64",
         "type": "integer"
        },
        {
         "name": "29-05-2020",
         "rawType": "int64",
         "type": "integer"
        },
        {
         "name": "30-05-2020",
         "rawType": "int64",
         "type": "integer"
        },
        {
         "name": "31-05-2020",
         "rawType": "int64",
         "type": "integer"
        },
        {
         "name": "01-06-2020",
         "rawType": "int64",
         "type": "integer"
        },
        {
         "name": "02-06-2020",
         "rawType": "int64",
         "type": "integer"
        },
        {
         "name": "03-06-2020",
         "rawType": "int64",
         "type": "integer"
        },
        {
         "name": "04-06-2020",
         "rawType": "int64",
         "type": "integer"
        },
        {
         "name": "05-06-2020",
         "rawType": "int64",
         "type": "integer"
        },
        {
         "name": "06-06-2020",
         "rawType": "int64",
         "type": "integer"
        },
        {
         "name": "07-06-2020",
         "rawType": "int64",
         "type": "integer"
        },
        {
         "name": "08-06-2020",
         "rawType": "int64",
         "type": "integer"
        },
        {
         "name": "09-06-2020",
         "rawType": "int64",
         "type": "integer"
        },
        {
         "name": "10-06-2020",
         "rawType": "int64",
         "type": "integer"
        },
        {
         "name": "11-06-2020",
         "rawType": "int64",
         "type": "integer"
        },
        {
         "name": "12-06-2020",
         "rawType": "int64",
         "type": "integer"
        },
        {
         "name": "13-06-2020",
         "rawType": "int64",
         "type": "integer"
        },
        {
         "name": "14-06-2020",
         "rawType": "int64",
         "type": "integer"
        },
        {
         "name": "15-06-2020",
         "rawType": "int64",
         "type": "integer"
        },
        {
         "name": "16-06-2020",
         "rawType": "int64",
         "type": "integer"
        },
        {
         "name": "17-06-2020",
         "rawType": "int64",
         "type": "integer"
        },
        {
         "name": "18-06-2020",
         "rawType": "int64",
         "type": "integer"
        },
        {
         "name": "19-06-2020",
         "rawType": "int64",
         "type": "integer"
        },
        {
         "name": "20-06-2020",
         "rawType": "int64",
         "type": "integer"
        },
        {
         "name": "21-06-2020",
         "rawType": "int64",
         "type": "integer"
        },
        {
         "name": "22-06-2020",
         "rawType": "int64",
         "type": "integer"
        },
        {
         "name": "23-06-2020",
         "rawType": "int64",
         "type": "integer"
        },
        {
         "name": "24-06-2020",
         "rawType": "int64",
         "type": "integer"
        },
        {
         "name": "25-06-2020",
         "rawType": "int64",
         "type": "integer"
        },
        {
         "name": "26-06-2020",
         "rawType": "int64",
         "type": "integer"
        },
        {
         "name": "27-06-2020",
         "rawType": "int64",
         "type": "integer"
        },
        {
         "name": "28-06-2020",
         "rawType": "int64",
         "type": "integer"
        },
        {
         "name": "29-06-2020",
         "rawType": "int64",
         "type": "integer"
        },
        {
         "name": "30-06-2020",
         "rawType": "int64",
         "type": "integer"
        },
        {
         "name": "01-07-2020",
         "rawType": "int64",
         "type": "integer"
        },
        {
         "name": "02-07-2020",
         "rawType": "int64",
         "type": "integer"
        },
        {
         "name": "03-07-2020",
         "rawType": "int64",
         "type": "integer"
        },
        {
         "name": "04-07-2020",
         "rawType": "int64",
         "type": "integer"
        },
        {
         "name": "05-07-2020",
         "rawType": "int64",
         "type": "integer"
        },
        {
         "name": "06-07-2020",
         "rawType": "int64",
         "type": "integer"
        },
        {
         "name": "07-07-2020",
         "rawType": "int64",
         "type": "integer"
        },
        {
         "name": "08-07-2020",
         "rawType": "int64",
         "type": "integer"
        },
        {
         "name": "09-07-2020",
         "rawType": "int64",
         "type": "integer"
        },
        {
         "name": "10-07-2020",
         "rawType": "int64",
         "type": "integer"
        },
        {
         "name": "11-07-2020",
         "rawType": "int64",
         "type": "integer"
        },
        {
         "name": "12-07-2020",
         "rawType": "int64",
         "type": "integer"
        },
        {
         "name": "13-07-2020",
         "rawType": "int64",
         "type": "integer"
        },
        {
         "name": "14-07-2020",
         "rawType": "int64",
         "type": "integer"
        },
        {
         "name": "15-07-2020",
         "rawType": "int64",
         "type": "integer"
        },
        {
         "name": "16-07-2020",
         "rawType": "int64",
         "type": "integer"
        },
        {
         "name": "17-07-2020",
         "rawType": "int64",
         "type": "integer"
        },
        {
         "name": "18-07-2020",
         "rawType": "int64",
         "type": "integer"
        },
        {
         "name": "19-07-2020",
         "rawType": "int64",
         "type": "integer"
        },
        {
         "name": "20-07-2020",
         "rawType": "int64",
         "type": "integer"
        },
        {
         "name": "21-07-2020",
         "rawType": "int64",
         "type": "integer"
        },
        {
         "name": "22-07-2020",
         "rawType": "int64",
         "type": "integer"
        },
        {
         "name": "23-07-2020",
         "rawType": "int64",
         "type": "integer"
        },
        {
         "name": "24-07-2020",
         "rawType": "int64",
         "type": "integer"
        },
        {
         "name": "25-07-2020",
         "rawType": "int64",
         "type": "integer"
        },
        {
         "name": "26-07-2020",
         "rawType": "int64",
         "type": "integer"
        },
        {
         "name": "27-07-2020",
         "rawType": "int64",
         "type": "integer"
        },
        {
         "name": "28-07-2020",
         "rawType": "int64",
         "type": "integer"
        },
        {
         "name": "29-07-2020",
         "rawType": "int64",
         "type": "integer"
        },
        {
         "name": "30-07-2020",
         "rawType": "int64",
         "type": "integer"
        },
        {
         "name": "31-07-2020",
         "rawType": "int64",
         "type": "integer"
        },
        {
         "name": "01-08-2020",
         "rawType": "int64",
         "type": "integer"
        },
        {
         "name": "02-08-2020",
         "rawType": "int64",
         "type": "integer"
        },
        {
         "name": "03-08-2020",
         "rawType": "int64",
         "type": "integer"
        },
        {
         "name": "04-08-2020",
         "rawType": "int64",
         "type": "integer"
        },
        {
         "name": "05-08-2020",
         "rawType": "int64",
         "type": "integer"
        },
        {
         "name": "06-08-2020",
         "rawType": "int64",
         "type": "integer"
        },
        {
         "name": "07-08-2020",
         "rawType": "int64",
         "type": "integer"
        },
        {
         "name": "08-08-2020",
         "rawType": "int64",
         "type": "integer"
        },
        {
         "name": "09-08-2020",
         "rawType": "int64",
         "type": "integer"
        },
        {
         "name": "10-08-2020",
         "rawType": "int64",
         "type": "integer"
        },
        {
         "name": "11-08-2020",
         "rawType": "int64",
         "type": "integer"
        },
        {
         "name": "12-08-2020",
         "rawType": "int64",
         "type": "integer"
        },
        {
         "name": "13-08-2020",
         "rawType": "int64",
         "type": "integer"
        },
        {
         "name": "14-08-2020",
         "rawType": "int64",
         "type": "integer"
        },
        {
         "name": "15-08-2020",
         "rawType": "int64",
         "type": "integer"
        },
        {
         "name": "16-08-2020",
         "rawType": "int64",
         "type": "integer"
        },
        {
         "name": "17-08-2020",
         "rawType": "int64",
         "type": "integer"
        },
        {
         "name": "18-08-2020",
         "rawType": "int64",
         "type": "integer"
        },
        {
         "name": "19-08-2020",
         "rawType": "int64",
         "type": "integer"
        },
        {
         "name": "20-08-2020",
         "rawType": "int64",
         "type": "integer"
        },
        {
         "name": "21-08-2020",
         "rawType": "int64",
         "type": "integer"
        },
        {
         "name": "22-08-2020",
         "rawType": "int64",
         "type": "integer"
        },
        {
         "name": "23-08-2020",
         "rawType": "int64",
         "type": "integer"
        },
        {
         "name": "24-08-2020",
         "rawType": "int64",
         "type": "integer"
        },
        {
         "name": "25-08-2020",
         "rawType": "int64",
         "type": "integer"
        },
        {
         "name": "26-08-2020",
         "rawType": "int64",
         "type": "integer"
        },
        {
         "name": "27-08-2020",
         "rawType": "int64",
         "type": "integer"
        },
        {
         "name": "28-08-2020",
         "rawType": "int64",
         "type": "integer"
        },
        {
         "name": "29-08-2020",
         "rawType": "int64",
         "type": "integer"
        },
        {
         "name": "30-08-2020",
         "rawType": "int64",
         "type": "integer"
        },
        {
         "name": "31-08-2020",
         "rawType": "int64",
         "type": "integer"
        },
        {
         "name": "01-09-2020",
         "rawType": "int64",
         "type": "integer"
        },
        {
         "name": "02-09-2020",
         "rawType": "int64",
         "type": "integer"
        },
        {
         "name": "03-09-2020",
         "rawType": "int64",
         "type": "integer"
        },
        {
         "name": "04-09-2020",
         "rawType": "int64",
         "type": "integer"
        },
        {
         "name": "05-09-2020",
         "rawType": "int64",
         "type": "integer"
        },
        {
         "name": "06-09-2020",
         "rawType": "int64",
         "type": "integer"
        },
        {
         "name": "07-09-2020",
         "rawType": "int64",
         "type": "integer"
        },
        {
         "name": "08-09-2020",
         "rawType": "int64",
         "type": "integer"
        },
        {
         "name": "09-09-2020",
         "rawType": "int64",
         "type": "integer"
        },
        {
         "name": "10-09-2020",
         "rawType": "int64",
         "type": "integer"
        },
        {
         "name": "11-09-2020",
         "rawType": "int64",
         "type": "integer"
        },
        {
         "name": "12-09-2020",
         "rawType": "int64",
         "type": "integer"
        },
        {
         "name": "13-09-2020",
         "rawType": "int64",
         "type": "integer"
        },
        {
         "name": "14-09-2020",
         "rawType": "int64",
         "type": "integer"
        },
        {
         "name": "15-09-2020",
         "rawType": "int64",
         "type": "integer"
        },
        {
         "name": "16-09-2020",
         "rawType": "int64",
         "type": "integer"
        },
        {
         "name": "17-09-2020",
         "rawType": "int64",
         "type": "integer"
        },
        {
         "name": "18-09-2020",
         "rawType": "int64",
         "type": "integer"
        },
        {
         "name": "19-09-2020",
         "rawType": "int64",
         "type": "integer"
        },
        {
         "name": "20-09-2020",
         "rawType": "int64",
         "type": "integer"
        },
        {
         "name": "21-09-2020",
         "rawType": "int64",
         "type": "integer"
        },
        {
         "name": "22-09-2020",
         "rawType": "int64",
         "type": "integer"
        },
        {
         "name": "23-09-2020",
         "rawType": "int64",
         "type": "integer"
        },
        {
         "name": "24-09-2020",
         "rawType": "int64",
         "type": "integer"
        },
        {
         "name": "25-09-2020",
         "rawType": "int64",
         "type": "integer"
        },
        {
         "name": "26-09-2020",
         "rawType": "int64",
         "type": "integer"
        },
        {
         "name": "27-09-2020",
         "rawType": "int64",
         "type": "integer"
        },
        {
         "name": "28-09-2020",
         "rawType": "int64",
         "type": "integer"
        },
        {
         "name": "29-09-2020",
         "rawType": "int64",
         "type": "integer"
        },
        {
         "name": "30-09-2020",
         "rawType": "int64",
         "type": "integer"
        },
        {
         "name": "01-10-2020",
         "rawType": "int64",
         "type": "integer"
        },
        {
         "name": "02-10-2020",
         "rawType": "int64",
         "type": "integer"
        },
        {
         "name": "03-10-2020",
         "rawType": "int64",
         "type": "integer"
        },
        {
         "name": "04-10-2020",
         "rawType": "int64",
         "type": "integer"
        },
        {
         "name": "05-10-2020",
         "rawType": "int64",
         "type": "integer"
        },
        {
         "name": "06-10-2020",
         "rawType": "int64",
         "type": "integer"
        },
        {
         "name": "07-10-2020",
         "rawType": "int64",
         "type": "integer"
        },
        {
         "name": "08-10-2020",
         "rawType": "int64",
         "type": "integer"
        },
        {
         "name": "09-10-2020",
         "rawType": "int64",
         "type": "integer"
        },
        {
         "name": "10-10-2020",
         "rawType": "int64",
         "type": "integer"
        },
        {
         "name": "11-10-2020",
         "rawType": "int64",
         "type": "integer"
        },
        {
         "name": "12-10-2020",
         "rawType": "int64",
         "type": "integer"
        },
        {
         "name": "13-10-2020",
         "rawType": "int64",
         "type": "integer"
        },
        {
         "name": "14-10-2020",
         "rawType": "int64",
         "type": "integer"
        },
        {
         "name": "15-10-2020",
         "rawType": "int64",
         "type": "integer"
        },
        {
         "name": "16-10-2020",
         "rawType": "int64",
         "type": "integer"
        },
        {
         "name": "17-10-2020",
         "rawType": "int64",
         "type": "integer"
        },
        {
         "name": "18-10-2020",
         "rawType": "int64",
         "type": "integer"
        },
        {
         "name": "19-10-2020",
         "rawType": "int64",
         "type": "integer"
        },
        {
         "name": "20-10-2020",
         "rawType": "int64",
         "type": "integer"
        },
        {
         "name": "21-10-2020",
         "rawType": "int64",
         "type": "integer"
        },
        {
         "name": "22-10-2020",
         "rawType": "int64",
         "type": "integer"
        },
        {
         "name": "23-10-2020",
         "rawType": "int64",
         "type": "integer"
        },
        {
         "name": "24-10-2020",
         "rawType": "int64",
         "type": "integer"
        },
        {
         "name": "25-10-2020",
         "rawType": "int64",
         "type": "integer"
        },
        {
         "name": "26-10-2020",
         "rawType": "int64",
         "type": "integer"
        },
        {
         "name": "27-10-2020",
         "rawType": "int64",
         "type": "integer"
        },
        {
         "name": "28-10-2020",
         "rawType": "int64",
         "type": "integer"
        },
        {
         "name": "29-10-2020",
         "rawType": "int64",
         "type": "integer"
        },
        {
         "name": "30-10-2020",
         "rawType": "int64",
         "type": "integer"
        },
        {
         "name": "31-10-2020",
         "rawType": "int64",
         "type": "integer"
        },
        {
         "name": "01-11-2020",
         "rawType": "int64",
         "type": "integer"
        },
        {
         "name": "02-11-2020",
         "rawType": "int64",
         "type": "integer"
        },
        {
         "name": "03-11-2020",
         "rawType": "int64",
         "type": "integer"
        },
        {
         "name": "04-11-2020",
         "rawType": "int64",
         "type": "integer"
        },
        {
         "name": "05-11-2020",
         "rawType": "int64",
         "type": "integer"
        },
        {
         "name": "06-11-2020",
         "rawType": "int64",
         "type": "integer"
        },
        {
         "name": "07-11-2020",
         "rawType": "int64",
         "type": "integer"
        },
        {
         "name": "08-11-2020",
         "rawType": "int64",
         "type": "integer"
        },
        {
         "name": "09-11-2020",
         "rawType": "int64",
         "type": "integer"
        },
        {
         "name": "10-11-2020",
         "rawType": "int64",
         "type": "integer"
        },
        {
         "name": "11-11-2020",
         "rawType": "int64",
         "type": "integer"
        },
        {
         "name": "12-11-2020",
         "rawType": "int64",
         "type": "integer"
        },
        {
         "name": "13-11-2020",
         "rawType": "int64",
         "type": "integer"
        },
        {
         "name": "14-11-2020",
         "rawType": "int64",
         "type": "integer"
        },
        {
         "name": "15-11-2020",
         "rawType": "int64",
         "type": "integer"
        },
        {
         "name": "16-11-2020",
         "rawType": "int64",
         "type": "integer"
        },
        {
         "name": "17-11-2020",
         "rawType": "int64",
         "type": "integer"
        },
        {
         "name": "18-11-2020",
         "rawType": "int64",
         "type": "integer"
        },
        {
         "name": "19-11-2020",
         "rawType": "int64",
         "type": "integer"
        },
        {
         "name": "20-11-2020",
         "rawType": "int64",
         "type": "integer"
        },
        {
         "name": "21-11-2020",
         "rawType": "int64",
         "type": "integer"
        },
        {
         "name": "22-11-2020",
         "rawType": "int64",
         "type": "integer"
        },
        {
         "name": "23-11-2020",
         "rawType": "int64",
         "type": "integer"
        },
        {
         "name": "24-11-2020",
         "rawType": "int64",
         "type": "integer"
        },
        {
         "name": "25-11-2020",
         "rawType": "int64",
         "type": "integer"
        },
        {
         "name": "26-11-2020",
         "rawType": "int64",
         "type": "integer"
        },
        {
         "name": "27-11-2020",
         "rawType": "int64",
         "type": "integer"
        },
        {
         "name": "28-11-2020",
         "rawType": "int64",
         "type": "integer"
        },
        {
         "name": "29-11-2020",
         "rawType": "int64",
         "type": "integer"
        }
       ],
       "ref": "92a5e0ac-3a73-4747-b58d-d67e3981c768",
       "rows": [
        [
         "0",
         "1",
         "1434635",
         "AGUASCALIENTES",
         "0",
         "0",
         "0",
         "0",
         "0",
         "0",
         "0",
         "0",
         "0",
         "0",
         "0",
         "0",
         "0",
         "0",
         "0",
         "0",
         "0",
         "0",
         "0",
         "0",
         "0",
         "0",
         "0",
         "0",
         "0",
         "0",
         "0",
         "0",
         "0",
         "0",
         "0",
         "0",
         "0",
         "0",
         "0",
         "0",
         "0",
         "0",
         "0",
         "0",
         "0",
         "0",
         "0",
         "0",
         "0",
         "0",
         "0",
         "0",
         "0",
         "0",
         "0",
         "0",
         "0",
         "0",
         "0",
         "0",
         "0",
         "0",
         "0",
         "0",
         "0",
         "0",
         "1",
         "0",
         "0",
         "1",
         "3",
         "1",
         "2",
         "1",
         "1",
         "4",
         "0",
         "17",
         "4",
         "6",
         "5",
         "3",
         "4",
         "1",
         "0",
         "0",
         "2",
         "0",
         "2",
         "4",
         "1",
         "1",
         "0",
         "3",
         "1",
         "2",
         "9",
         "2",
         "12",
         "7",
         "18",
         "13",
         "3",
         "17",
         "13",
         "11",
         "21",
         "11",
         "1",
         "7",
         "17",
         "32",
         "17",
         "27",
         "4",
         "3",
         "4",
         "50",
         "12",
         "16",
         "24",
         "14",
         "0",
         "4",
         "11",
         "44",
         "14",
         "24",
         "28",
         "3",
         "7",
         "37",
         "20",
         "27",
         "30",
         "24",
         "18",
         "9",
         "39",
         "39",
         "34",
         "45",
         "42",
         "15",
         "20",
         "62",
         "58",
         "60",
         "44",
         "61",
         "22",
         "27",
         "73",
         "66",
         "63",
         "63",
         "60",
         "34",
         "23",
         "82",
         "58",
         "74",
         "63",
         "70",
         "15",
         "26",
         "68",
         "53",
         "50",
         "69",
         "56",
         "17",
         "11",
         "39",
         "39",
         "79",
         "71",
         "68",
         "11",
         "8",
         "91",
         "119",
         "53",
         "43",
         "77",
         "21",
         "32",
         "82",
         "82",
         "82",
         "85",
         "73",
         "22",
         "15",
         "51",
         "97",
         "52",
         "73",
         "72",
         "18",
         "21",
         "69",
         "63",
         "59",
         "58",
         "63",
         "36",
         "17",
         "61",
         "71",
         "49",
         "41",
         "43",
         "22",
         "19",
         "78",
         "51",
         "58",
         "62",
         "53",
         "15",
         "33",
         "90",
         "80",
         "66",
         "55",
         "66",
         "40",
         "35",
         "66",
         "69",
         "101",
         "58",
         "70",
         "43",
         "23",
         "92",
         "60",
         "79",
         "76",
         "48",
         "19",
         "23",
         "76",
         "56",
         "62",
         "57",
         "52",
         "14",
         "13",
         "68",
         "16",
         "23",
         "103",
         "54",
         "28",
         "25",
         "86",
         "67",
         "81",
         "76",
         "54",
         "22",
         "15",
         "95",
         "95",
         "85",
         "54",
         "72",
         "15",
         "17",
         "105",
         "93",
         "69",
         "75",
         "79",
         "19",
         "24",
         "117",
         "89",
         "91",
         "98",
         "96",
         "20",
         "32",
         "154",
         "114",
         "109",
         "112",
         "139",
         "45",
         "32",
         "163",
         "192",
         "171",
         "164",
         "170",
         "37",
         "26",
         "226",
         "172",
         "120",
         "107",
         "159",
         "27",
         "42",
         "123",
         "98",
         "197",
         "213",
         "149",
         "35",
         "31",
         "34",
         "237",
         "244",
         "204",
         "184",
         "30",
         "19",
         "207",
         "176",
         "90",
         "14",
         "2",
         "0",
         "0"
        ],
        [
         "1",
         "2",
         "3634868",
         "BAJA CALIFORNIA",
         "0",
         "0",
         "0",
         "0",
         "0",
         "0",
         "0",
         "0",
         "0",
         "0",
         "0",
         "0",
         "0",
         "0",
         "0",
         "0",
         "0",
         "0",
         "0",
         "0",
         "0",
         "0",
         "0",
         "0",
         "0",
         "0",
         "0",
         "0",
         "0",
         "0",
         "0",
         "0",
         "0",
         "0",
         "0",
         "0",
         "0",
         "0",
         "0",
         "0",
         "0",
         "0",
         "0",
         "0",
         "0",
         "0",
         "0",
         "0",
         "0",
         "0",
         "0",
         "1",
         "0",
         "0",
         "0",
         "0",
         "0",
         "0",
         "0",
         "1",
         "0",
         "0",
         "0",
         "0",
         "1",
         "3",
         "4",
         "5",
         "6",
         "3",
         "2",
         "10",
         "9",
         "7",
         "11",
         "16",
         "7",
         "21",
         "29",
         "44",
         "66",
         "30",
         "38",
         "25",
         "20",
         "70",
         "41",
         "58",
         "58",
         "49",
         "32",
         "44",
         "81",
         "104",
         "102",
         "84",
         "99",
         "46",
         "44",
         "111",
         "108",
         "91",
         "112",
         "87",
         "44",
         "68",
         "112",
         "99",
         "109",
         "89",
         "92",
         "78",
         "91",
         "145",
         "141",
         "118",
         "123",
         "142",
         "75",
         "69",
         "130",
         "125",
         "129",
         "113",
         "147",
         "70",
         "72",
         "216",
         "156",
         "171",
         "231",
         "210",
         "66",
         "82",
         "136",
         "135",
         "130",
         "118",
         "116",
         "84",
         "71",
         "153",
         "171",
         "163",
         "152",
         "152",
         "105",
         "69",
         "172",
         "173",
         "149",
         "148",
         "114",
         "87",
         "93",
         "180",
         "189",
         "151",
         "146",
         "176",
         "87",
         "62",
         "210",
         "196",
         "180",
         "175",
         "175",
         "110",
         "64",
         "207",
         "201",
         "186",
         "193",
         "167",
         "73",
         "97",
         "216",
         "213",
         "214",
         "166",
         "132",
         "62",
         "78",
         "169",
         "180",
         "184",
         "163",
         "147",
         "87",
         "94",
         "164",
         "142",
         "143",
         "125",
         "138",
         "80",
         "64",
         "151",
         "134",
         "125",
         "134",
         "157",
         "68",
         "65",
         "150",
         "150",
         "119",
         "115",
         "115",
         "64",
         "47",
         "171",
         "119",
         "113",
         "112",
         "101",
         "40",
         "50",
         "170",
         "126",
         "123",
         "136",
         "100",
         "46",
         "46",
         "150",
         "109",
         "94",
         "116",
         "110",
         "40",
         "39",
         "194",
         "186",
         "157",
         "162",
         "125",
         "64",
         "35",
         "158",
         "122",
         "111",
         "105",
         "102",
         "35",
         "31",
         "112",
         "50",
         "32",
         "121",
         "101",
         "36",
         "37",
         "96",
         "103",
         "106",
         "77",
         "81",
         "27",
         "28",
         "111",
         "94",
         "128",
         "107",
         "84",
         "47",
         "32",
         "140",
         "136",
         "129",
         "91",
         "72",
         "41",
         "37",
         "130",
         "131",
         "129",
         "122",
         "87",
         "46",
         "49",
         "147",
         "139",
         "139",
         "129",
         "144",
         "46",
         "38",
         "156",
         "118",
         "116",
         "88",
         "92",
         "50",
         "42",
         "145",
         "128",
         "141",
         "97",
         "108",
         "59",
         "47",
         "151",
         "98",
         "120",
         "94",
         "98",
         "68",
         "57",
         "69",
         "175",
         "199",
         "165",
         "132",
         "84",
         "61",
         "147",
         "137",
         "88",
         "70",
         "45",
         "2",
         "0"
        ],
        [
         "2",
         "3",
         "804708",
         "BAJA CALIFORNIA SUR",
         "0",
         "0",
         "0",
         "0",
         "0",
         "0",
         "0",
         "0",
         "0",
         "0",
         "0",
         "0",
         "0",
         "0",
         "0",
         "0",
         "0",
         "0",
         "0",
         "0",
         "0",
         "0",
         "0",
         "0",
         "0",
         "0",
         "0",
         "0",
         "0",
         "0",
         "0",
         "0",
         "0",
         "0",
         "0",
         "0",
         "0",
         "0",
         "0",
         "0",
         "0",
         "0",
         "0",
         "0",
         "0",
         "0",
         "0",
         "0",
         "0",
         "0",
         "0",
         "0",
         "0",
         "0",
         "0",
         "0",
         "0",
         "0",
         "0",
         "0",
         "0",
         "0",
         "0",
         "0",
         "0",
         "1",
         "1",
         "0",
         "1",
         "1",
         "0",
         "4",
         "2",
         "0",
         "2",
         "4",
         "4",
         "1",
         "14",
         "7",
         "5",
         "11",
         "16",
         "5",
         "5",
         "23",
         "24",
         "24",
         "22",
         "9",
         "7",
         "5",
         "15",
         "17",
         "5",
         "9",
         "6",
         "3",
         "8",
         "7",
         "12",
         "5",
         "9",
         "13",
         "5",
         "7",
         "10",
         "4",
         "4",
         "14",
         "2",
         "9",
         "6",
         "7",
         "12",
         "10",
         "11",
         "9",
         "6",
         "10",
         "7",
         "16",
         "13",
         "8",
         "5",
         "11",
         "3",
         "11",
         "15",
         "17",
         "8",
         "15",
         "7",
         "9",
         "17",
         "14",
         "21",
         "18",
         "22",
         "13",
         "8",
         "36",
         "17",
         "16",
         "22",
         "22",
         "14",
         "20",
         "53",
         "38",
         "47",
         "29",
         "25",
         "22",
         "21",
         "51",
         "30",
         "46",
         "48",
         "19",
         "34",
         "18",
         "31",
         "47",
         "53",
         "54",
         "41",
         "45",
         "34",
         "66",
         "58",
         "72",
         "69",
         "63",
         "56",
         "49",
         "89",
         "112",
         "91",
         "126",
         "117",
         "38",
         "49",
         "129",
         "119",
         "131",
         "117",
         "90",
         "62",
         "39",
         "156",
         "109",
         "115",
         "142",
         "106",
         "66",
         "39",
         "172",
         "154",
         "118",
         "154",
         "101",
         "67",
         "41",
         "161",
         "146",
         "151",
         "123",
         "111",
         "83",
         "44",
         "140",
         "122",
         "127",
         "141",
         "131",
         "55",
         "47",
         "142",
         "138",
         "96",
         "35",
         "79",
         "75",
         "49",
         "142",
         "99",
         "106",
         "121",
         "68",
         "52",
         "62",
         "129",
         "118",
         "133",
         "114",
         "103",
         "58",
         "38",
         "136",
         "127",
         "104",
         "83",
         "92",
         "65",
         "29",
         "99",
         "91",
         "55",
         "87",
         "114",
         "64",
         "19",
         "109",
         "84",
         "84",
         "82",
         "92",
         "57",
         "19",
         "94",
         "98",
         "79",
         "85",
         "71",
         "43",
         "30",
         "100",
         "79",
         "71",
         "90",
         "95",
         "50",
         "22",
         "114",
         "94",
         "78",
         "95",
         "119",
         "59",
         "23",
         "114",
         "92",
         "103",
         "82",
         "97",
         "58",
         "19",
         "115",
         "95",
         "87",
         "86",
         "66",
         "33",
         "25",
         "86",
         "71",
         "80",
         "74",
         "54",
         "23",
         "22",
         "68",
         "63",
         "76",
         "92",
         "62",
         "30",
         "20",
         "29",
         "88",
         "89",
         "91",
         "68",
         "36",
         "30",
         "67",
         "72",
         "76",
         "79",
         "49",
         "0",
         "0"
        ],
        [
         "3",
         "4",
         "1000617",
         "CAMPECHE",
         "0",
         "0",
         "0",
         "0",
         "0",
         "0",
         "0",
         "0",
         "0",
         "0",
         "0",
         "0",
         "0",
         "0",
         "0",
         "0",
         "0",
         "0",
         "0",
         "0",
         "0",
         "0",
         "0",
         "0",
         "0",
         "0",
         "0",
         "0",
         "0",
         "0",
         "0",
         "0",
         "0",
         "0",
         "0",
         "0",
         "0",
         "0",
         "0",
         "0",
         "0",
         "0",
         "0",
         "0",
         "0",
         "0",
         "0",
         "0",
         "0",
         "0",
         "0",
         "0",
         "0",
         "0",
         "0",
         "0",
         "1",
         "0",
         "0",
         "0",
         "1",
         "0",
         "1",
         "0",
         "0",
         "0",
         "0",
         "0",
         "0",
         "0",
         "0",
         "1",
         "0",
         "0",
         "0",
         "3",
         "0",
         "1",
         "0",
         "0",
         "0",
         "2",
         "1",
         "0",
         "3",
         "3",
         "0",
         "0",
         "2",
         "1",
         "5",
         "2",
         "2",
         "4",
         "3",
         "4",
         "3",
         "6",
         "2",
         "5",
         "7",
         "6",
         "7",
         "4",
         "6",
         "8",
         "4",
         "6",
         "8",
         "8",
         "6",
         "11",
         "11",
         "18",
         "9",
         "16",
         "11",
         "14",
         "14",
         "7",
         "24",
         "20",
         "16",
         "12",
         "15",
         "15",
         "15",
         "17",
         "21",
         "24",
         "16",
         "25",
         "17",
         "14",
         "33",
         "36",
         "31",
         "29",
         "20",
         "19",
         "7",
         "38",
         "23",
         "19",
         "39",
         "41",
         "24",
         "23",
         "43",
         "59",
         "69",
         "74",
         "34",
         "27",
         "21",
         "98",
         "84",
         "108",
         "87",
         "98",
         "54",
         "38",
         "104",
         "92",
         "87",
         "90",
         "99",
         "52",
         "49",
         "72",
         "89",
         "70",
         "94",
         "59",
         "32",
         "37",
         "80",
         "91",
         "91",
         "98",
         "108",
         "52",
         "63",
         "121",
         "76",
         "117",
         "113",
         "100",
         "46",
         "51",
         "116",
         "106",
         "89",
         "85",
         "86",
         "34",
         "24",
         "70",
         "85",
         "68",
         "64",
         "60",
         "38",
         "32",
         "53",
         "66",
         "51",
         "47",
         "26",
         "17",
         "16",
         "41",
         "28",
         "37",
         "36",
         "13",
         "13",
         "14",
         "31",
         "43",
         "32",
         "25",
         "62",
         "14",
         "11",
         "33",
         "30",
         "20",
         "24",
         "45",
         "8",
         "6",
         "32",
         "17",
         "28",
         "23",
         "16",
         "3",
         "7",
         "18",
         "12",
         "11",
         "10",
         "32",
         "11",
         "7",
         "14",
         "3",
         "3",
         "9",
         "41",
         "3",
         "6",
         "22",
         "6",
         "14",
         "15",
         "15",
         "9",
         "5",
         "16",
         "14",
         "13",
         "14",
         "20",
         "0",
         "5",
         "18",
         "7",
         "13",
         "7",
         "19",
         "2",
         "1",
         "13",
         "12",
         "13",
         "13",
         "22",
         "6",
         "2",
         "17",
         "10",
         "5",
         "16",
         "10",
         "2",
         "4",
         "29",
         "14",
         "18",
         "6",
         "18",
         "2",
         "0",
         "9",
         "5",
         "20",
         "7",
         "5",
         "6",
         "5",
         "12",
         "6",
         "12",
         "12",
         "19",
         "3",
         "6",
         "5",
         "12",
         "18",
         "4",
         "9",
         "2",
         "6",
         "13",
         "7",
         "8",
         "5",
         "0",
         "0",
         "0"
        ],
        [
         "4",
         "7",
         "5730367",
         "CHIAPAS",
         "0",
         "0",
         "0",
         "0",
         "0",
         "0",
         "0",
         "0",
         "0",
         "0",
         "0",
         "0",
         "0",
         "0",
         "0",
         "0",
         "0",
         "0",
         "0",
         "0",
         "0",
         "0",
         "0",
         "0",
         "0",
         "0",
         "0",
         "0",
         "0",
         "0",
         "0",
         "0",
         "0",
         "0",
         "0",
         "0",
         "0",
         "0",
         "0",
         "0",
         "0",
         "0",
         "0",
         "0",
         "0",
         "0",
         "0",
         "0",
         "1",
         "0",
         "0",
         "0",
         "0",
         "0",
         "0",
         "0",
         "0",
         "0",
         "0",
         "0",
         "0",
         "0",
         "0",
         "0",
         "0",
         "0",
         "1",
         "0",
         "0",
         "0",
         "0",
         "3",
         "0",
         "2",
         "0",
         "5",
         "1",
         "0",
         "2",
         "2",
         "4",
         "2",
         "5",
         "1",
         "1",
         "5",
         "2",
         "6",
         "3",
         "3",
         "1",
         "0",
         "5",
         "5",
         "6",
         "3",
         "10",
         "4",
         "7",
         "10",
         "9",
         "11",
         "15",
         "13",
         "9",
         "12",
         "21",
         "9",
         "19",
         "13",
         "19",
         "9",
         "14",
         "31",
         "28",
         "35",
         "35",
         "36",
         "23",
         "21",
         "32",
         "47",
         "68",
         "66",
         "82",
         "40",
         "34",
         "93",
         "64",
         "74",
         "104",
         "99",
         "55",
         "50",
         "146",
         "132",
         "125",
         "141",
         "126",
         "70",
         "70",
         "146",
         "144",
         "114",
         "109",
         "128",
         "71",
         "74",
         "140",
         "130",
         "110",
         "96",
         "107",
         "68",
         "61",
         "95",
         "92",
         "113",
         "94",
         "83",
         "53",
         "39",
         "96",
         "86",
         "97",
         "89",
         "85",
         "43",
         "46",
         "69",
         "54",
         "65",
         "53",
         "62",
         "42",
         "23",
         "42",
         "44",
         "35",
         "31",
         "41",
         "21",
         "27",
         "87",
         "104",
         "52",
         "58",
         "42",
         "21",
         "66",
         "53",
         "36",
         "50",
         "28",
         "52",
         "18",
         "26",
         "46",
         "42",
         "33",
         "22",
         "40",
         "23",
         "17",
         "29",
         "39",
         "48",
         "36",
         "16",
         "12",
         "15",
         "29",
         "21",
         "19",
         "35",
         "21",
         "9",
         "10",
         "26",
         "22",
         "21",
         "29",
         "36",
         "14",
         "9",
         "13",
         "23",
         "16",
         "11",
         "8",
         "5",
         "7",
         "18",
         "21",
         "12",
         "13",
         "15",
         "9",
         "7",
         "19",
         "15",
         "18",
         "26",
         "10",
         "9",
         "4",
         "18",
         "13",
         "3",
         "19",
         "15",
         "10",
         "4",
         "22",
         "15",
         "13",
         "16",
         "5",
         "9",
         "12",
         "17",
         "15",
         "11",
         "15",
         "12",
         "5",
         "2",
         "15",
         "10",
         "9",
         "10",
         "8",
         "8",
         "4",
         "17",
         "8",
         "7",
         "18",
         "6",
         "3",
         "1",
         "16",
         "4",
         "7",
         "10",
         "6",
         "3",
         "5",
         "8",
         "9",
         "5",
         "8",
         "3",
         "1",
         "1",
         "4",
         "4",
         "3",
         "4",
         "4",
         "1",
         "2",
         "7",
         "10",
         "16",
         "19",
         "4",
         "3",
         "1",
         "5",
         "15",
         "16",
         "12",
         "13",
         "0",
         "4",
         "6",
         "3",
         "5",
         "8",
         "1",
         "0",
         "0"
        ]
       ],
       "shape": {
        "columns": 326,
        "rows": 5
       }
      },
      "text/html": [
       "<div>\n",
       "<style scoped>\n",
       "    .dataframe tbody tr th:only-of-type {\n",
       "        vertical-align: middle;\n",
       "    }\n",
       "\n",
       "    .dataframe tbody tr th {\n",
       "        vertical-align: top;\n",
       "    }\n",
       "\n",
       "    .dataframe thead th {\n",
       "        text-align: right;\n",
       "    }\n",
       "</style>\n",
       "<table border=\"1\" class=\"dataframe\">\n",
       "  <thead>\n",
       "    <tr style=\"text-align: right;\">\n",
       "      <th></th>\n",
       "      <th>cve_ent</th>\n",
       "      <th>poblacion</th>\n",
       "      <th>nombre</th>\n",
       "      <th>12-01-2020</th>\n",
       "      <th>13-01-2020</th>\n",
       "      <th>14-01-2020</th>\n",
       "      <th>15-01-2020</th>\n",
       "      <th>16-01-2020</th>\n",
       "      <th>17-01-2020</th>\n",
       "      <th>18-01-2020</th>\n",
       "      <th>...</th>\n",
       "      <th>20-11-2020</th>\n",
       "      <th>21-11-2020</th>\n",
       "      <th>22-11-2020</th>\n",
       "      <th>23-11-2020</th>\n",
       "      <th>24-11-2020</th>\n",
       "      <th>25-11-2020</th>\n",
       "      <th>26-11-2020</th>\n",
       "      <th>27-11-2020</th>\n",
       "      <th>28-11-2020</th>\n",
       "      <th>29-11-2020</th>\n",
       "    </tr>\n",
       "  </thead>\n",
       "  <tbody>\n",
       "    <tr>\n",
       "      <th>0</th>\n",
       "      <td>1</td>\n",
       "      <td>1434635</td>\n",
       "      <td>AGUASCALIENTES</td>\n",
       "      <td>0</td>\n",
       "      <td>0</td>\n",
       "      <td>0</td>\n",
       "      <td>0</td>\n",
       "      <td>0</td>\n",
       "      <td>0</td>\n",
       "      <td>0</td>\n",
       "      <td>...</td>\n",
       "      <td>184</td>\n",
       "      <td>30</td>\n",
       "      <td>19</td>\n",
       "      <td>207</td>\n",
       "      <td>176</td>\n",
       "      <td>90</td>\n",
       "      <td>14</td>\n",
       "      <td>2</td>\n",
       "      <td>0</td>\n",
       "      <td>0</td>\n",
       "    </tr>\n",
       "    <tr>\n",
       "      <th>1</th>\n",
       "      <td>2</td>\n",
       "      <td>3634868</td>\n",
       "      <td>BAJA CALIFORNIA</td>\n",
       "      <td>0</td>\n",
       "      <td>0</td>\n",
       "      <td>0</td>\n",
       "      <td>0</td>\n",
       "      <td>0</td>\n",
       "      <td>0</td>\n",
       "      <td>0</td>\n",
       "      <td>...</td>\n",
       "      <td>132</td>\n",
       "      <td>84</td>\n",
       "      <td>61</td>\n",
       "      <td>147</td>\n",
       "      <td>137</td>\n",
       "      <td>88</td>\n",
       "      <td>70</td>\n",
       "      <td>45</td>\n",
       "      <td>2</td>\n",
       "      <td>0</td>\n",
       "    </tr>\n",
       "    <tr>\n",
       "      <th>2</th>\n",
       "      <td>3</td>\n",
       "      <td>804708</td>\n",
       "      <td>BAJA CALIFORNIA SUR</td>\n",
       "      <td>0</td>\n",
       "      <td>0</td>\n",
       "      <td>0</td>\n",
       "      <td>0</td>\n",
       "      <td>0</td>\n",
       "      <td>0</td>\n",
       "      <td>0</td>\n",
       "      <td>...</td>\n",
       "      <td>68</td>\n",
       "      <td>36</td>\n",
       "      <td>30</td>\n",
       "      <td>67</td>\n",
       "      <td>72</td>\n",
       "      <td>76</td>\n",
       "      <td>79</td>\n",
       "      <td>49</td>\n",
       "      <td>0</td>\n",
       "      <td>0</td>\n",
       "    </tr>\n",
       "    <tr>\n",
       "      <th>3</th>\n",
       "      <td>4</td>\n",
       "      <td>1000617</td>\n",
       "      <td>CAMPECHE</td>\n",
       "      <td>0</td>\n",
       "      <td>0</td>\n",
       "      <td>0</td>\n",
       "      <td>0</td>\n",
       "      <td>0</td>\n",
       "      <td>0</td>\n",
       "      <td>0</td>\n",
       "      <td>...</td>\n",
       "      <td>9</td>\n",
       "      <td>2</td>\n",
       "      <td>6</td>\n",
       "      <td>13</td>\n",
       "      <td>7</td>\n",
       "      <td>8</td>\n",
       "      <td>5</td>\n",
       "      <td>0</td>\n",
       "      <td>0</td>\n",
       "      <td>0</td>\n",
       "    </tr>\n",
       "    <tr>\n",
       "      <th>4</th>\n",
       "      <td>7</td>\n",
       "      <td>5730367</td>\n",
       "      <td>CHIAPAS</td>\n",
       "      <td>0</td>\n",
       "      <td>0</td>\n",
       "      <td>0</td>\n",
       "      <td>0</td>\n",
       "      <td>0</td>\n",
       "      <td>0</td>\n",
       "      <td>0</td>\n",
       "      <td>...</td>\n",
       "      <td>13</td>\n",
       "      <td>0</td>\n",
       "      <td>4</td>\n",
       "      <td>6</td>\n",
       "      <td>3</td>\n",
       "      <td>5</td>\n",
       "      <td>8</td>\n",
       "      <td>1</td>\n",
       "      <td>0</td>\n",
       "      <td>0</td>\n",
       "    </tr>\n",
       "  </tbody>\n",
       "</table>\n",
       "<p>5 rows × 326 columns</p>\n",
       "</div>"
      ],
      "text/plain": [
       "   cve_ent  poblacion               nombre  12-01-2020  13-01-2020  \\\n",
       "0        1    1434635       AGUASCALIENTES           0           0   \n",
       "1        2    3634868      BAJA CALIFORNIA           0           0   \n",
       "2        3     804708  BAJA CALIFORNIA SUR           0           0   \n",
       "3        4    1000617             CAMPECHE           0           0   \n",
       "4        7    5730367              CHIAPAS           0           0   \n",
       "\n",
       "   14-01-2020  15-01-2020  16-01-2020  17-01-2020  18-01-2020  ...  \\\n",
       "0           0           0           0           0           0  ...   \n",
       "1           0           0           0           0           0  ...   \n",
       "2           0           0           0           0           0  ...   \n",
       "3           0           0           0           0           0  ...   \n",
       "4           0           0           0           0           0  ...   \n",
       "\n",
       "   20-11-2020  21-11-2020  22-11-2020  23-11-2020  24-11-2020  25-11-2020  \\\n",
       "0         184          30          19         207         176          90   \n",
       "1         132          84          61         147         137          88   \n",
       "2          68          36          30          67          72          76   \n",
       "3           9           2           6          13           7           8   \n",
       "4          13           0           4           6           3           5   \n",
       "\n",
       "   26-11-2020  27-11-2020  28-11-2020  29-11-2020  \n",
       "0          14           2           0           0  \n",
       "1          70          45           2           0  \n",
       "2          79          49           0           0  \n",
       "3           5           0           0           0  \n",
       "4           8           1           0           0  \n",
       "\n",
       "[5 rows x 326 columns]"
      ]
     },
     "execution_count": 20,
     "metadata": {},
     "output_type": "execute_result"
    }
   ],
   "source": [
    "df3= pd.read_csv(\"datos/Casos_Diarios_Estado_Nacional_Confirmados_20201129.csv\")\n",
    "df3.head()"
   ]
  },
  {
   "cell_type": "code",
   "execution_count": 21,
   "metadata": {},
   "outputs": [
    {
     "data": {
      "application/vnd.microsoft.datawrangler.viewer.v0+json": {
       "columns": [
        {
         "name": "index",
         "rawType": "datetime64[ns]",
         "type": "datetime"
        },
        {
         "name": "AGUASCALIENTES",
         "rawType": "int64",
         "type": "integer"
        },
        {
         "name": "BAJA CALIFORNIA",
         "rawType": "int64",
         "type": "integer"
        },
        {
         "name": "BAJA CALIFORNIA SUR",
         "rawType": "int64",
         "type": "integer"
        },
        {
         "name": "CAMPECHE",
         "rawType": "int64",
         "type": "integer"
        },
        {
         "name": "CHIAPAS",
         "rawType": "int64",
         "type": "integer"
        },
        {
         "name": "CHIHUAHUA",
         "rawType": "int64",
         "type": "integer"
        },
        {
         "name": "DISTRITO FEDERAL",
         "rawType": "int64",
         "type": "integer"
        },
        {
         "name": "COAHUILA",
         "rawType": "int64",
         "type": "integer"
        },
        {
         "name": "COLIMA",
         "rawType": "int64",
         "type": "integer"
        },
        {
         "name": "DURANGO",
         "rawType": "int64",
         "type": "integer"
        },
        {
         "name": "GUANAJUATO",
         "rawType": "int64",
         "type": "integer"
        },
        {
         "name": "GUERRERO",
         "rawType": "int64",
         "type": "integer"
        },
        {
         "name": "HIDALGO",
         "rawType": "int64",
         "type": "integer"
        },
        {
         "name": "JALISCO",
         "rawType": "int64",
         "type": "integer"
        },
        {
         "name": "MEXICO",
         "rawType": "int64",
         "type": "integer"
        },
        {
         "name": "MICHOACAN",
         "rawType": "int64",
         "type": "integer"
        },
        {
         "name": "MORELOS",
         "rawType": "int64",
         "type": "integer"
        },
        {
         "name": "NAYARIT",
         "rawType": "int64",
         "type": "integer"
        },
        {
         "name": "NUEVO LEON",
         "rawType": "int64",
         "type": "integer"
        },
        {
         "name": "OAXACA",
         "rawType": "int64",
         "type": "integer"
        },
        {
         "name": "PUEBLA",
         "rawType": "int64",
         "type": "integer"
        },
        {
         "name": "QUERETARO",
         "rawType": "int64",
         "type": "integer"
        },
        {
         "name": "QUINTANA ROO",
         "rawType": "int64",
         "type": "integer"
        },
        {
         "name": "SAN LUIS POTOSI",
         "rawType": "int64",
         "type": "integer"
        },
        {
         "name": "SINALOA",
         "rawType": "int64",
         "type": "integer"
        },
        {
         "name": "SONORA",
         "rawType": "int64",
         "type": "integer"
        },
        {
         "name": "TABASCO",
         "rawType": "int64",
         "type": "integer"
        },
        {
         "name": "TAMAULIPAS",
         "rawType": "int64",
         "type": "integer"
        },
        {
         "name": "TLAXCALA",
         "rawType": "int64",
         "type": "integer"
        },
        {
         "name": "VERACRUZ",
         "rawType": "int64",
         "type": "integer"
        },
        {
         "name": "YUCATAN",
         "rawType": "int64",
         "type": "integer"
        },
        {
         "name": "ZACATECAS",
         "rawType": "int64",
         "type": "integer"
        },
        {
         "name": "Nacional",
         "rawType": "int64",
         "type": "integer"
        }
       ],
       "ref": "499aa433-7cd2-4474-8d8a-81a9c28aa7d5",
       "rows": [
        [
         "2020-01-12 00:00:00",
         "0",
         "0",
         "0",
         "0",
         "0",
         "0",
         "0",
         "0",
         "0",
         "0",
         "0",
         "0",
         "0",
         "0",
         "0",
         "0",
         "0",
         "0",
         "0",
         "0",
         "0",
         "0",
         "0",
         "0",
         "0",
         "0",
         "0",
         "0",
         "0",
         "0",
         "0",
         "0",
         "0"
        ],
        [
         "2020-01-13 00:00:00",
         "0",
         "0",
         "0",
         "0",
         "0",
         "0",
         "0",
         "0",
         "0",
         "0",
         "0",
         "0",
         "0",
         "0",
         "0",
         "0",
         "0",
         "0",
         "1",
         "0",
         "0",
         "0",
         "0",
         "0",
         "0",
         "0",
         "0",
         "0",
         "0",
         "0",
         "0",
         "0",
         "1"
        ],
        [
         "2020-01-14 00:00:00",
         "0",
         "0",
         "0",
         "0",
         "0",
         "0",
         "0",
         "0",
         "0",
         "0",
         "0",
         "0",
         "0",
         "0",
         "0",
         "0",
         "0",
         "0",
         "0",
         "0",
         "0",
         "0",
         "0",
         "0",
         "0",
         "0",
         "0",
         "0",
         "0",
         "0",
         "0",
         "0",
         "0"
        ],
        [
         "2020-01-15 00:00:00",
         "0",
         "0",
         "0",
         "0",
         "0",
         "0",
         "0",
         "0",
         "0",
         "0",
         "0",
         "0",
         "0",
         "0",
         "0",
         "0",
         "0",
         "0",
         "0",
         "0",
         "0",
         "0",
         "0",
         "0",
         "0",
         "0",
         "0",
         "0",
         "0",
         "0",
         "0",
         "0",
         "0"
        ],
        [
         "2020-01-16 00:00:00",
         "0",
         "0",
         "0",
         "0",
         "0",
         "0",
         "0",
         "0",
         "0",
         "0",
         "0",
         "0",
         "0",
         "0",
         "0",
         "0",
         "0",
         "0",
         "0",
         "0",
         "0",
         "0",
         "0",
         "0",
         "0",
         "0",
         "0",
         "0",
         "0",
         "0",
         "0",
         "0",
         "0"
        ]
       ],
       "shape": {
        "columns": 33,
        "rows": 5
       }
      },
      "text/html": [
       "<div>\n",
       "<style scoped>\n",
       "    .dataframe tbody tr th:only-of-type {\n",
       "        vertical-align: middle;\n",
       "    }\n",
       "\n",
       "    .dataframe tbody tr th {\n",
       "        vertical-align: top;\n",
       "    }\n",
       "\n",
       "    .dataframe thead th {\n",
       "        text-align: right;\n",
       "    }\n",
       "</style>\n",
       "<table border=\"1\" class=\"dataframe\">\n",
       "  <thead>\n",
       "    <tr style=\"text-align: right;\">\n",
       "      <th>nombre</th>\n",
       "      <th>AGUASCALIENTES</th>\n",
       "      <th>BAJA CALIFORNIA</th>\n",
       "      <th>BAJA CALIFORNIA SUR</th>\n",
       "      <th>CAMPECHE</th>\n",
       "      <th>CHIAPAS</th>\n",
       "      <th>CHIHUAHUA</th>\n",
       "      <th>DISTRITO FEDERAL</th>\n",
       "      <th>COAHUILA</th>\n",
       "      <th>COLIMA</th>\n",
       "      <th>DURANGO</th>\n",
       "      <th>...</th>\n",
       "      <th>SAN LUIS POTOSI</th>\n",
       "      <th>SINALOA</th>\n",
       "      <th>SONORA</th>\n",
       "      <th>TABASCO</th>\n",
       "      <th>TAMAULIPAS</th>\n",
       "      <th>TLAXCALA</th>\n",
       "      <th>VERACRUZ</th>\n",
       "      <th>YUCATAN</th>\n",
       "      <th>ZACATECAS</th>\n",
       "      <th>Nacional</th>\n",
       "    </tr>\n",
       "  </thead>\n",
       "  <tbody>\n",
       "    <tr>\n",
       "      <th>2020-01-12</th>\n",
       "      <td>0</td>\n",
       "      <td>0</td>\n",
       "      <td>0</td>\n",
       "      <td>0</td>\n",
       "      <td>0</td>\n",
       "      <td>0</td>\n",
       "      <td>0</td>\n",
       "      <td>0</td>\n",
       "      <td>0</td>\n",
       "      <td>0</td>\n",
       "      <td>...</td>\n",
       "      <td>0</td>\n",
       "      <td>0</td>\n",
       "      <td>0</td>\n",
       "      <td>0</td>\n",
       "      <td>0</td>\n",
       "      <td>0</td>\n",
       "      <td>0</td>\n",
       "      <td>0</td>\n",
       "      <td>0</td>\n",
       "      <td>0</td>\n",
       "    </tr>\n",
       "    <tr>\n",
       "      <th>2020-01-13</th>\n",
       "      <td>0</td>\n",
       "      <td>0</td>\n",
       "      <td>0</td>\n",
       "      <td>0</td>\n",
       "      <td>0</td>\n",
       "      <td>0</td>\n",
       "      <td>0</td>\n",
       "      <td>0</td>\n",
       "      <td>0</td>\n",
       "      <td>0</td>\n",
       "      <td>...</td>\n",
       "      <td>0</td>\n",
       "      <td>0</td>\n",
       "      <td>0</td>\n",
       "      <td>0</td>\n",
       "      <td>0</td>\n",
       "      <td>0</td>\n",
       "      <td>0</td>\n",
       "      <td>0</td>\n",
       "      <td>0</td>\n",
       "      <td>1</td>\n",
       "    </tr>\n",
       "    <tr>\n",
       "      <th>2020-01-14</th>\n",
       "      <td>0</td>\n",
       "      <td>0</td>\n",
       "      <td>0</td>\n",
       "      <td>0</td>\n",
       "      <td>0</td>\n",
       "      <td>0</td>\n",
       "      <td>0</td>\n",
       "      <td>0</td>\n",
       "      <td>0</td>\n",
       "      <td>0</td>\n",
       "      <td>...</td>\n",
       "      <td>0</td>\n",
       "      <td>0</td>\n",
       "      <td>0</td>\n",
       "      <td>0</td>\n",
       "      <td>0</td>\n",
       "      <td>0</td>\n",
       "      <td>0</td>\n",
       "      <td>0</td>\n",
       "      <td>0</td>\n",
       "      <td>0</td>\n",
       "    </tr>\n",
       "    <tr>\n",
       "      <th>2020-01-15</th>\n",
       "      <td>0</td>\n",
       "      <td>0</td>\n",
       "      <td>0</td>\n",
       "      <td>0</td>\n",
       "      <td>0</td>\n",
       "      <td>0</td>\n",
       "      <td>0</td>\n",
       "      <td>0</td>\n",
       "      <td>0</td>\n",
       "      <td>0</td>\n",
       "      <td>...</td>\n",
       "      <td>0</td>\n",
       "      <td>0</td>\n",
       "      <td>0</td>\n",
       "      <td>0</td>\n",
       "      <td>0</td>\n",
       "      <td>0</td>\n",
       "      <td>0</td>\n",
       "      <td>0</td>\n",
       "      <td>0</td>\n",
       "      <td>0</td>\n",
       "    </tr>\n",
       "    <tr>\n",
       "      <th>2020-01-16</th>\n",
       "      <td>0</td>\n",
       "      <td>0</td>\n",
       "      <td>0</td>\n",
       "      <td>0</td>\n",
       "      <td>0</td>\n",
       "      <td>0</td>\n",
       "      <td>0</td>\n",
       "      <td>0</td>\n",
       "      <td>0</td>\n",
       "      <td>0</td>\n",
       "      <td>...</td>\n",
       "      <td>0</td>\n",
       "      <td>0</td>\n",
       "      <td>0</td>\n",
       "      <td>0</td>\n",
       "      <td>0</td>\n",
       "      <td>0</td>\n",
       "      <td>0</td>\n",
       "      <td>0</td>\n",
       "      <td>0</td>\n",
       "      <td>0</td>\n",
       "    </tr>\n",
       "  </tbody>\n",
       "</table>\n",
       "<p>5 rows × 33 columns</p>\n",
       "</div>"
      ],
      "text/plain": [
       "nombre      AGUASCALIENTES  BAJA CALIFORNIA  BAJA CALIFORNIA SUR  CAMPECHE  \\\n",
       "2020-01-12               0                0                    0         0   \n",
       "2020-01-13               0                0                    0         0   \n",
       "2020-01-14               0                0                    0         0   \n",
       "2020-01-15               0                0                    0         0   \n",
       "2020-01-16               0                0                    0         0   \n",
       "\n",
       "nombre      CHIAPAS  CHIHUAHUA  DISTRITO FEDERAL  COAHUILA  COLIMA  DURANGO  \\\n",
       "2020-01-12        0          0                 0         0       0        0   \n",
       "2020-01-13        0          0                 0         0       0        0   \n",
       "2020-01-14        0          0                 0         0       0        0   \n",
       "2020-01-15        0          0                 0         0       0        0   \n",
       "2020-01-16        0          0                 0         0       0        0   \n",
       "\n",
       "nombre      ...  SAN LUIS POTOSI  SINALOA  SONORA  TABASCO  TAMAULIPAS  \\\n",
       "2020-01-12  ...                0        0       0        0           0   \n",
       "2020-01-13  ...                0        0       0        0           0   \n",
       "2020-01-14  ...                0        0       0        0           0   \n",
       "2020-01-15  ...                0        0       0        0           0   \n",
       "2020-01-16  ...                0        0       0        0           0   \n",
       "\n",
       "nombre      TLAXCALA  VERACRUZ  YUCATAN  ZACATECAS  Nacional  \n",
       "2020-01-12         0         0        0          0         0  \n",
       "2020-01-13         0         0        0          0         1  \n",
       "2020-01-14         0         0        0          0         0  \n",
       "2020-01-15         0         0        0          0         0  \n",
       "2020-01-16         0         0        0          0         0  \n",
       "\n",
       "[5 rows x 33 columns]"
      ]
     },
     "execution_count": 21,
     "metadata": {},
     "output_type": "execute_result"
    }
   ],
   "source": [
    "df3_fix = df3.loc[:,'nombre':].set_index('nombre').T\n",
    "df3_fix.index = pd.to_datetime(df3_fix.index, dayfirst=True)\n",
    "df3_fix.head()"
   ]
  },
  {
   "cell_type": "code",
   "execution_count": 22,
   "metadata": {},
   "outputs": [
    {
     "data": {
      "application/vnd.microsoft.datawrangler.viewer.v0+json": {
       "columns": [
        {
         "name": "index",
         "rawType": "datetime64[ns]",
         "type": "datetime"
        },
        {
         "name": "AGUASCALIENTES",
         "rawType": "int64",
         "type": "integer"
        },
        {
         "name": "BAJA CALIFORNIA",
         "rawType": "int64",
         "type": "integer"
        },
        {
         "name": "BAJA CALIFORNIA SUR",
         "rawType": "int64",
         "type": "integer"
        },
        {
         "name": "CAMPECHE",
         "rawType": "int64",
         "type": "integer"
        },
        {
         "name": "CHIAPAS",
         "rawType": "int64",
         "type": "integer"
        },
        {
         "name": "CHIHUAHUA",
         "rawType": "int64",
         "type": "integer"
        },
        {
         "name": "DISTRITO FEDERAL",
         "rawType": "int64",
         "type": "integer"
        },
        {
         "name": "COAHUILA",
         "rawType": "int64",
         "type": "integer"
        },
        {
         "name": "COLIMA",
         "rawType": "int64",
         "type": "integer"
        },
        {
         "name": "DURANGO",
         "rawType": "int64",
         "type": "integer"
        },
        {
         "name": "GUANAJUATO",
         "rawType": "int64",
         "type": "integer"
        },
        {
         "name": "GUERRERO",
         "rawType": "int64",
         "type": "integer"
        },
        {
         "name": "HIDALGO",
         "rawType": "int64",
         "type": "integer"
        },
        {
         "name": "JALISCO",
         "rawType": "int64",
         "type": "integer"
        },
        {
         "name": "MEXICO",
         "rawType": "int64",
         "type": "integer"
        },
        {
         "name": "MICHOACAN",
         "rawType": "int64",
         "type": "integer"
        },
        {
         "name": "MORELOS",
         "rawType": "int64",
         "type": "integer"
        },
        {
         "name": "NAYARIT",
         "rawType": "int64",
         "type": "integer"
        },
        {
         "name": "NUEVO LEON",
         "rawType": "int64",
         "type": "integer"
        },
        {
         "name": "OAXACA",
         "rawType": "int64",
         "type": "integer"
        },
        {
         "name": "PUEBLA",
         "rawType": "int64",
         "type": "integer"
        },
        {
         "name": "QUERETARO",
         "rawType": "int64",
         "type": "integer"
        },
        {
         "name": "QUINTANA ROO",
         "rawType": "int64",
         "type": "integer"
        },
        {
         "name": "SAN LUIS POTOSI",
         "rawType": "int64",
         "type": "integer"
        },
        {
         "name": "SINALOA",
         "rawType": "int64",
         "type": "integer"
        },
        {
         "name": "SONORA",
         "rawType": "int64",
         "type": "integer"
        },
        {
         "name": "TABASCO",
         "rawType": "int64",
         "type": "integer"
        },
        {
         "name": "TAMAULIPAS",
         "rawType": "int64",
         "type": "integer"
        },
        {
         "name": "TLAXCALA",
         "rawType": "int64",
         "type": "integer"
        },
        {
         "name": "VERACRUZ",
         "rawType": "int64",
         "type": "integer"
        },
        {
         "name": "YUCATAN",
         "rawType": "int64",
         "type": "integer"
        },
        {
         "name": "ZACATECAS",
         "rawType": "int64",
         "type": "integer"
        },
        {
         "name": "Nacional",
         "rawType": "int64",
         "type": "integer"
        }
       ],
       "ref": "de0de308-35bd-4d17-bd72-b05dbf18c0ba",
       "rows": [
        [
         "2020-11-25 00:00:00",
         "90",
         "88",
         "76",
         "8",
         "5",
         "77",
         "1703",
         "260",
         "10",
         "212",
         "495",
         "45",
         "100",
         "347",
         "340",
         "81",
         "23",
         "13",
         "332",
         "78",
         "138",
         "300",
         "50",
         "85",
         "33",
         "47",
         "149",
         "80",
         "23",
         "53",
         "77",
         "269",
         "5687"
        ],
        [
         "2020-11-26 00:00:00",
         "14",
         "70",
         "79",
         "5",
         "8",
         "34",
         "1499",
         "172",
         "7",
         "268",
         "141",
         "35",
         "105",
         "182",
         "268",
         "34",
         "13",
         "4",
         "233",
         "56",
         "116",
         "282",
         "41",
         "12",
         "27",
         "25",
         "60",
         "45",
         "14",
         "12",
         "50",
         "212",
         "4123"
        ],
        [
         "2020-11-27 00:00:00",
         "2",
         "45",
         "49",
         "0",
         "1",
         "9",
         "1380",
         "157",
         "7",
         "133",
         "19",
         "16",
         "64",
         "44",
         "196",
         "3",
         "2",
         "3",
         "85",
         "8",
         "114",
         "67",
         "18",
         "5",
         "11",
         "40",
         "43",
         "20",
         "12",
         "2",
         "18",
         "132",
         "2705"
        ],
        [
         "2020-11-28 00:00:00",
         "0",
         "2",
         "0",
         "0",
         "0",
         "1",
         "704",
         "8",
         "0",
         "0",
         "0",
         "0",
         "1",
         "2",
         "77",
         "0",
         "0",
         "0",
         "18",
         "0",
         "7",
         "6",
         "2",
         "0",
         "0",
         "6",
         "0",
         "0",
         "1",
         "0",
         "2",
         "36",
         "873"
        ],
        [
         "2020-11-29 00:00:00",
         "0",
         "0",
         "0",
         "0",
         "0",
         "0",
         "1",
         "0",
         "0",
         "0",
         "0",
         "0",
         "0",
         "0",
         "0",
         "0",
         "0",
         "0",
         "0",
         "0",
         "0",
         "0",
         "0",
         "0",
         "0",
         "0",
         "0",
         "0",
         "0",
         "0",
         "0",
         "0",
         "1"
        ]
       ],
       "shape": {
        "columns": 33,
        "rows": 5
       }
      },
      "text/html": [
       "<div>\n",
       "<style scoped>\n",
       "    .dataframe tbody tr th:only-of-type {\n",
       "        vertical-align: middle;\n",
       "    }\n",
       "\n",
       "    .dataframe tbody tr th {\n",
       "        vertical-align: top;\n",
       "    }\n",
       "\n",
       "    .dataframe thead th {\n",
       "        text-align: right;\n",
       "    }\n",
       "</style>\n",
       "<table border=\"1\" class=\"dataframe\">\n",
       "  <thead>\n",
       "    <tr style=\"text-align: right;\">\n",
       "      <th>nombre</th>\n",
       "      <th>AGUASCALIENTES</th>\n",
       "      <th>BAJA CALIFORNIA</th>\n",
       "      <th>BAJA CALIFORNIA SUR</th>\n",
       "      <th>CAMPECHE</th>\n",
       "      <th>CHIAPAS</th>\n",
       "      <th>CHIHUAHUA</th>\n",
       "      <th>DISTRITO FEDERAL</th>\n",
       "      <th>COAHUILA</th>\n",
       "      <th>COLIMA</th>\n",
       "      <th>DURANGO</th>\n",
       "      <th>...</th>\n",
       "      <th>SAN LUIS POTOSI</th>\n",
       "      <th>SINALOA</th>\n",
       "      <th>SONORA</th>\n",
       "      <th>TABASCO</th>\n",
       "      <th>TAMAULIPAS</th>\n",
       "      <th>TLAXCALA</th>\n",
       "      <th>VERACRUZ</th>\n",
       "      <th>YUCATAN</th>\n",
       "      <th>ZACATECAS</th>\n",
       "      <th>Nacional</th>\n",
       "    </tr>\n",
       "  </thead>\n",
       "  <tbody>\n",
       "    <tr>\n",
       "      <th>2020-11-25</th>\n",
       "      <td>90</td>\n",
       "      <td>88</td>\n",
       "      <td>76</td>\n",
       "      <td>8</td>\n",
       "      <td>5</td>\n",
       "      <td>77</td>\n",
       "      <td>1703</td>\n",
       "      <td>260</td>\n",
       "      <td>10</td>\n",
       "      <td>212</td>\n",
       "      <td>...</td>\n",
       "      <td>85</td>\n",
       "      <td>33</td>\n",
       "      <td>47</td>\n",
       "      <td>149</td>\n",
       "      <td>80</td>\n",
       "      <td>23</td>\n",
       "      <td>53</td>\n",
       "      <td>77</td>\n",
       "      <td>269</td>\n",
       "      <td>5687</td>\n",
       "    </tr>\n",
       "    <tr>\n",
       "      <th>2020-11-26</th>\n",
       "      <td>14</td>\n",
       "      <td>70</td>\n",
       "      <td>79</td>\n",
       "      <td>5</td>\n",
       "      <td>8</td>\n",
       "      <td>34</td>\n",
       "      <td>1499</td>\n",
       "      <td>172</td>\n",
       "      <td>7</td>\n",
       "      <td>268</td>\n",
       "      <td>...</td>\n",
       "      <td>12</td>\n",
       "      <td>27</td>\n",
       "      <td>25</td>\n",
       "      <td>60</td>\n",
       "      <td>45</td>\n",
       "      <td>14</td>\n",
       "      <td>12</td>\n",
       "      <td>50</td>\n",
       "      <td>212</td>\n",
       "      <td>4123</td>\n",
       "    </tr>\n",
       "    <tr>\n",
       "      <th>2020-11-27</th>\n",
       "      <td>2</td>\n",
       "      <td>45</td>\n",
       "      <td>49</td>\n",
       "      <td>0</td>\n",
       "      <td>1</td>\n",
       "      <td>9</td>\n",
       "      <td>1380</td>\n",
       "      <td>157</td>\n",
       "      <td>7</td>\n",
       "      <td>133</td>\n",
       "      <td>...</td>\n",
       "      <td>5</td>\n",
       "      <td>11</td>\n",
       "      <td>40</td>\n",
       "      <td>43</td>\n",
       "      <td>20</td>\n",
       "      <td>12</td>\n",
       "      <td>2</td>\n",
       "      <td>18</td>\n",
       "      <td>132</td>\n",
       "      <td>2705</td>\n",
       "    </tr>\n",
       "    <tr>\n",
       "      <th>2020-11-28</th>\n",
       "      <td>0</td>\n",
       "      <td>2</td>\n",
       "      <td>0</td>\n",
       "      <td>0</td>\n",
       "      <td>0</td>\n",
       "      <td>1</td>\n",
       "      <td>704</td>\n",
       "      <td>8</td>\n",
       "      <td>0</td>\n",
       "      <td>0</td>\n",
       "      <td>...</td>\n",
       "      <td>0</td>\n",
       "      <td>0</td>\n",
       "      <td>6</td>\n",
       "      <td>0</td>\n",
       "      <td>0</td>\n",
       "      <td>1</td>\n",
       "      <td>0</td>\n",
       "      <td>2</td>\n",
       "      <td>36</td>\n",
       "      <td>873</td>\n",
       "    </tr>\n",
       "    <tr>\n",
       "      <th>2020-11-29</th>\n",
       "      <td>0</td>\n",
       "      <td>0</td>\n",
       "      <td>0</td>\n",
       "      <td>0</td>\n",
       "      <td>0</td>\n",
       "      <td>0</td>\n",
       "      <td>1</td>\n",
       "      <td>0</td>\n",
       "      <td>0</td>\n",
       "      <td>0</td>\n",
       "      <td>...</td>\n",
       "      <td>0</td>\n",
       "      <td>0</td>\n",
       "      <td>0</td>\n",
       "      <td>0</td>\n",
       "      <td>0</td>\n",
       "      <td>0</td>\n",
       "      <td>0</td>\n",
       "      <td>0</td>\n",
       "      <td>0</td>\n",
       "      <td>1</td>\n",
       "    </tr>\n",
       "  </tbody>\n",
       "</table>\n",
       "<p>5 rows × 33 columns</p>\n",
       "</div>"
      ],
      "text/plain": [
       "nombre      AGUASCALIENTES  BAJA CALIFORNIA  BAJA CALIFORNIA SUR  CAMPECHE  \\\n",
       "2020-11-25              90               88                   76         8   \n",
       "2020-11-26              14               70                   79         5   \n",
       "2020-11-27               2               45                   49         0   \n",
       "2020-11-28               0                2                    0         0   \n",
       "2020-11-29               0                0                    0         0   \n",
       "\n",
       "nombre      CHIAPAS  CHIHUAHUA  DISTRITO FEDERAL  COAHUILA  COLIMA  DURANGO  \\\n",
       "2020-11-25        5         77              1703       260      10      212   \n",
       "2020-11-26        8         34              1499       172       7      268   \n",
       "2020-11-27        1          9              1380       157       7      133   \n",
       "2020-11-28        0          1               704         8       0        0   \n",
       "2020-11-29        0          0                 1         0       0        0   \n",
       "\n",
       "nombre      ...  SAN LUIS POTOSI  SINALOA  SONORA  TABASCO  TAMAULIPAS  \\\n",
       "2020-11-25  ...               85       33      47      149          80   \n",
       "2020-11-26  ...               12       27      25       60          45   \n",
       "2020-11-27  ...                5       11      40       43          20   \n",
       "2020-11-28  ...                0        0       6        0           0   \n",
       "2020-11-29  ...                0        0       0        0           0   \n",
       "\n",
       "nombre      TLAXCALA  VERACRUZ  YUCATAN  ZACATECAS  Nacional  \n",
       "2020-11-25        23        53       77        269      5687  \n",
       "2020-11-26        14        12       50        212      4123  \n",
       "2020-11-27        12         2       18        132      2705  \n",
       "2020-11-28         1         0        2         36       873  \n",
       "2020-11-29         0         0        0          0         1  \n",
       "\n",
       "[5 rows x 33 columns]"
      ]
     },
     "execution_count": 22,
     "metadata": {},
     "output_type": "execute_result"
    }
   ],
   "source": [
    "df3_fix.tail()"
   ]
  },
  {
   "cell_type": "markdown",
   "metadata": {},
   "source": [
    "<div class=\"alert alert-success\">\n",
    "    \n",
    "1. Hacer una grafica de barras comparando todos los meses, considerando el total nacional (por mes) \n",
    "    \n",
    "</div> "
   ]
  },
  {
   "cell_type": "code",
   "execution_count": 23,
   "metadata": {},
   "outputs": [
    {
     "data": {
      "application/vnd.microsoft.datawrangler.viewer.v0+json": {
       "columns": [
        {
         "name": "index",
         "rawType": "object",
         "type": "string"
        },
        {
         "name": "Nacional",
         "rawType": "int64",
         "type": "integer"
        }
       ],
       "ref": "8cb52a07-a78b-485b-a2d3-8fd49912b055",
       "rows": [
        [
         "Enero",
         "3"
        ],
        [
         "Febrero",
         "12"
        ],
        [
         "Marzo",
         "2885"
        ],
        [
         "Abril",
         "27722"
        ],
        [
         "Mayo",
         "88530"
        ],
        [
         "Junio",
         "155634"
        ],
        [
         "Julio",
         "210434"
        ],
        [
         "Agosto",
         "168569"
        ],
        [
         "Septiembre",
         "144164"
        ],
        [
         "Octubre",
         "165568"
        ],
        [
         "Noviembre",
         "143550"
        ]
       ],
       "shape": {
        "columns": 1,
        "rows": 11
       }
      },
      "text/plain": [
       "Enero              3\n",
       "Febrero           12\n",
       "Marzo           2885\n",
       "Abril          27722\n",
       "Mayo           88530\n",
       "Junio         155634\n",
       "Julio         210434\n",
       "Agosto        168569\n",
       "Septiembre    144164\n",
       "Octubre       165568\n",
       "Noviembre     143550\n",
       "Name: Nacional, dtype: int64"
      ]
     },
     "execution_count": 23,
     "metadata": {},
     "output_type": "execute_result"
    }
   ],
   "source": [
    "meses = ('Enero', 'Febrero', 'Marzo', 'Abril', 'Mayo', 'Junio', 'Julio', 'Agosto', 'Septiembre', 'Octubre', 'Noviembre')\n",
    "casos_meses_nacional = df3_fix.resample('ME')['Nacional'].sum()\n",
    "\n",
    "casos_meses_nacional.index = pd.Index([mes for mes in meses])\n",
    "\n",
    "casos_meses_nacional"
   ]
  },
  {
   "cell_type": "code",
   "execution_count": 24,
   "metadata": {},
   "outputs": [
    {
     "data": {
      "text/plain": [
       "Text(0.5, 1.0, 'Casos de COVID-19 (2020)')"
      ]
     },
     "execution_count": 24,
     "metadata": {},
     "output_type": "execute_result"
    },
    {
     "data": {
      "image/png": "[encoded data removed]",
      "text/plain": [
       "<Figure size 1100x500 with 1 Axes>"
      ]
     },
     "metadata": {},
     "output_type": "display_data"
    }
   ],
   "source": [
    "#Estilo matlab\n",
    "plt.figure(figsize=(11,5))\n",
    "plt.plot(casos_meses_nacional, c='royalblue')\n",
    "plt.ylabel('Num. Casos')\n",
    "plt.grid(True, alpha=0.5)\n",
    "plt.title('Casos de COVID-19 (2020)')"
   ]
  },
  {
   "cell_type": "code",
   "execution_count": 25,
   "metadata": {},
   "outputs": [
    {
     "data": {
      "image/png": "[encoded data removed]",
      "text/plain": [
       "<Figure size 1100x500 with 1 Axes>"
      ]
     },
     "metadata": {},
     "output_type": "display_data"
    }
   ],
   "source": [
    "#Estilo OOP\n",
    "fig, ax = plt.subplots(figsize=(11,5))\n",
    "\n",
    "ax.plot(casos_meses_nacional, c='peru')\n",
    "ax.set(title='Casos de COVID-19 (2020)', ylabel='Casos')\n",
    "ax.grid(True, alpha=0.5)"
   ]
  },
  {
   "cell_type": "markdown",
   "metadata": {},
   "source": [
    "<div class=\"alert alert-success\">\n",
    "    \n",
    "2. Hacer una grafica de barras comparando  los meses de agosto, septiembre, octubre y noviembre, considerando solo las entidades de Yucatán, Distrito Federal  y Jalisco\n",
    "    \n",
    "</div> "
   ]
  },
  {
   "cell_type": "code",
   "execution_count": 26,
   "metadata": {},
   "outputs": [
    {
     "data": {
      "application/vnd.microsoft.datawrangler.viewer.v0+json": {
       "columns": [
        {
         "name": "index",
         "rawType": "object",
         "type": "string"
        },
        {
         "name": "YUCATAN",
         "rawType": "int64",
         "type": "integer"
        },
        {
         "name": "DISTRITO FEDERAL",
         "rawType": "int64",
         "type": "integer"
        },
        {
         "name": "JALISCO",
         "rawType": "int64",
         "type": "integer"
        }
       ],
       "ref": "d30a7bf6-1d3c-4c4d-aae2-e175a75e8ac2",
       "rows": [
        [
         "Agosto",
         "4629",
         "25997",
         "6448"
        ],
        [
         "Septiembre",
         "3504",
         "28661",
         "6841"
        ],
        [
         "Octubre",
         "2898",
         "37001",
         "7165"
        ],
        [
         "Noviembre",
         "2054",
         "32848",
         "5665"
        ]
       ],
       "shape": {
        "columns": 3,
        "rows": 4
       }
      },
      "text/html": [
       "<div>\n",
       "<style scoped>\n",
       "    .dataframe tbody tr th:only-of-type {\n",
       "        vertical-align: middle;\n",
       "    }\n",
       "\n",
       "    .dataframe tbody tr th {\n",
       "        vertical-align: top;\n",
       "    }\n",
       "\n",
       "    .dataframe thead th {\n",
       "        text-align: right;\n",
       "    }\n",
       "</style>\n",
       "<table border=\"1\" class=\"dataframe\">\n",
       "  <thead>\n",
       "    <tr style=\"text-align: right;\">\n",
       "      <th>nombre</th>\n",
       "      <th>YUCATAN</th>\n",
       "      <th>DISTRITO FEDERAL</th>\n",
       "      <th>JALISCO</th>\n",
       "    </tr>\n",
       "  </thead>\n",
       "  <tbody>\n",
       "    <tr>\n",
       "      <th>Agosto</th>\n",
       "      <td>4629</td>\n",
       "      <td>25997</td>\n",
       "      <td>6448</td>\n",
       "    </tr>\n",
       "    <tr>\n",
       "      <th>Septiembre</th>\n",
       "      <td>3504</td>\n",
       "      <td>28661</td>\n",
       "      <td>6841</td>\n",
       "    </tr>\n",
       "    <tr>\n",
       "      <th>Octubre</th>\n",
       "      <td>2898</td>\n",
       "      <td>37001</td>\n",
       "      <td>7165</td>\n",
       "    </tr>\n",
       "    <tr>\n",
       "      <th>Noviembre</th>\n",
       "      <td>2054</td>\n",
       "      <td>32848</td>\n",
       "      <td>5665</td>\n",
       "    </tr>\n",
       "  </tbody>\n",
       "</table>\n",
       "</div>"
      ],
      "text/plain": [
       "nombre      YUCATAN  DISTRITO FEDERAL  JALISCO\n",
       "Agosto         4629             25997     6448\n",
       "Septiembre     3504             28661     6841\n",
       "Octubre        2898             37001     7165\n",
       "Noviembre      2054             32848     5665"
      ]
     },
     "execution_count": 26,
     "metadata": {},
     "output_type": "execute_result"
    }
   ],
   "source": [
    "casos_meses_2 = df3_fix.resample('ME')[['YUCATAN','DISTRITO FEDERAL', 'JALISCO']].sum()\n",
    "casos_meses_2.index = pd.Index([mes for mes in meses])\n",
    "casos_meses_2 = casos_meses_2.loc[['Agosto','Septiembre','Octubre','Noviembre']]\n",
    "\n",
    "casos_meses_2"
   ]
  },
  {
   "cell_type": "code",
   "execution_count": 27,
   "metadata": {},
   "outputs": [
    {
     "data": {
      "image/png": "[encoded data removed]",
      "text/plain": [
       "<Figure size 500x500 with 1 Axes>"
      ]
     },
     "metadata": {},
     "output_type": "display_data"
    }
   ],
   "source": [
    "#Estilo matlab\n",
    "w = 0.25\n",
    "x = np.arange(len(casos_meses_2.index))\n",
    "\n",
    "plt.figure(figsize=(5,5))\n",
    "plt.bar(x-w, casos_meses_2['YUCATAN'],width=w,color='indianred', label='Yucatan')\n",
    "plt.bar(x, casos_meses_2['DISTRITO FEDERAL'], width=w, color='darkslateblue', label='Distrito Federal')\n",
    "plt.bar(x+w, casos_meses_2['JALISCO'], width=w, color='royalblue', label='Jalisco')\n",
    "plt.title('Casos COVID-19')\n",
    "plt.ylabel('Num. Casos')\n",
    "plt.xticks(x, labels=list(casos_meses_2.index))\n",
    "plt.legend()\n",
    "\n",
    "plt.show()"
   ]
  },
  {
   "cell_type": "code",
   "execution_count": 29,
   "metadata": {},
   "outputs": [
    {
     "data": {
      "text/plain": [
       "<matplotlib.legend.Legend at 0x1dd6ff07390>"
      ]
     },
     "execution_count": 29,
     "metadata": {},
     "output_type": "execute_result"
    },
    {
     "data": {
      "image/png": "[encoded data removed]",
      "text/plain": [
       "<Figure size 500x500 with 1 Axes>"
      ]
     },
     "metadata": {},
     "output_type": "display_data"
    }
   ],
   "source": [
    "#Estilo OOP\n",
    "\n",
    "fig, ax = plt.subplots(figsize=(5,5))\n",
    "ax.bar(x-w, casos_meses_2['YUCATAN'],width=w,color='hotpink', label='Yucatan')\n",
    "ax.bar(x, casos_meses_2['DISTRITO FEDERAL'], width=w, color='seagreen', label='Distrito Federal')\n",
    "ax.bar(x+w, casos_meses_2['JALISCO'], width=w, color='orange', label='Jalisco')\n",
    "ax.set(title=\"Casos COVID-19\", ylabel='Num.Casos', xticks=x, xticklabels = list(casos_meses_2.index))\n",
    "\n",
    "ax.legend()"
   ]
  }
 ],
 "metadata": {
  "kernelspec": {
   "display_name": "data-science-coursework (3.13.7)",
   "language": "python",
   "name": "python3"
  },
  "language_info": {
   "codemirror_mode": {
    "name": "ipython",
    "version": 3
   },
   "file_extension": ".py",
   "mimetype": "text/x-python",
   "name": "python",
   "nbconvert_exporter": "python",
   "pygments_lexer": "ipython3",
   "version": "3.13.7"
  }
 },
 "nbformat": 4,
 "nbformat_minor": 4
}
