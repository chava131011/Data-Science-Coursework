{
 "cells": [
  {
   "cell_type": "markdown",
   "metadata": {},
   "source": [
    "<!--Información del curso-->\n",
    "<img align=\"left\" style=\"padding-right:10px;\" src=\"figuras/banner_cd.png\">"
   ]
  },
  {
   "cell_type": "markdown",
   "metadata": {},
   "source": [
    "### Considere ahora los datos de un archivo de velocidades de viento\n"
   ]
  },
  {
   "cell_type": "markdown",
   "metadata": {},
   "source": [
    "Use funciones de arreglos de Numpy sobre diferentes ejes y la indexación para responder las preguntas concernientes al archivo *files/viento.data*.\n",
    "\n",
    "Los datos en el archivo tienen la siguiente forma:\n",
    "\n",
    "<img align=\"left\" width=\"700\"  float= \"none\" align=\"middle\" src=\"figuras/datos_viento2.png\">\n"
   ]
  },
  {
   "cell_type": "markdown",
   "metadata": {},
   "source": [
    "**Las primeras tres columnas son año, mes y día, las 12 columnas restantes son velocidades de viento promedio en nudos de 12 municipios en Yucatán en ese día**. Use la función 'genfromtxt' de numpy para leer los datos:"
   ]
  },
  {
   "cell_type": "code",
   "execution_count": 1,
   "metadata": {},
   "outputs": [
    {
     "name": "stdout",
     "output_type": "stream",
     "text": [
      "(6574, 15)\n"
     ]
    },
    {
     "data": {
      "text/plain": [
       "array([[61.  ,  1.  ,  1.  , ..., 12.58, 18.5 , 15.04],\n",
       "       [61.  ,  1.  ,  2.  , ...,  9.67, 17.54, 13.83],\n",
       "       [61.  ,  1.  ,  3.  , ...,  7.67, 12.75, 12.71],\n",
       "       ...,\n",
       "       [78.  , 12.  , 29.  , ..., 16.42, 18.88, 29.58],\n",
       "       [78.  , 12.  , 30.  , ..., 12.12, 14.67, 28.79],\n",
       "       [78.  , 12.  , 31.  , ..., 11.38, 12.08, 22.08]], shape=(6574, 15))"
      ]
     },
     "execution_count": 1,
     "metadata": {},
     "output_type": "execute_result"
    }
   ],
   "source": [
    "#Importar los datos\n",
    "from numpy import genfromtxt\n",
    "my_data = genfromtxt('datos/viento.csv')\n",
    "print(my_data.shape)\n",
    "my_data"
   ]
  },
  {
   "cell_type": "markdown",
   "metadata": {},
   "source": [
    "<div class=\"alert alert-success\">  \n",
    "    \n",
    "1. (Ejemplo)  Encuentre la velocidad de viento mínima, máxima, el promedio  y la desviación estándar para **el primer municipio durante todos los días** . \n",
    "\n",
    "</div> "
   ]
  },
  {
   "cell_type": "code",
   "execution_count": 8,
   "metadata": {},
   "outputs": [
    {
     "name": "stdout",
     "output_type": "stream",
     "text": [
      "Minima: 0.67\n",
      "Maxima: 35.8\n",
      "Promedio: 12.363714633404323\n",
      "Desviacion estandar: 5.619183006341271\n"
     ]
    }
   ],
   "source": [
    "import numpy as np\n",
    "\n",
    "print(f'Minima: {np.min(my_data[:,3])}')\n",
    "print(f'Maxima: {np.max(my_data[:,3])}')\n",
    "print(f'Promedio: {np.mean(my_data[:,3])}')\n",
    "print(f'Desviacion estandar: {np.std(my_data[:,3])}')"
   ]
  },
  {
   "cell_type": "markdown",
   "metadata": {},
   "source": [
    "<div class=\"alert alert-success\">   \n",
    "    \n",
    "2. ¿Cuantos elementos en total tiene, asi como número de filas y columnas en el arreglo *my_data* ?. \n",
    "    \n",
    "</div> "
   ]
  },
  {
   "cell_type": "code",
   "execution_count": 13,
   "metadata": {},
   "outputs": [
    {
     "name": "stdout",
     "output_type": "stream",
     "text": [
      "Num. elementos: 98610\n",
      "Filas: 6574\n",
      "Columnas: 15\n"
     ]
    }
   ],
   "source": [
    "print(f'Num. elementos: {my_data.size}')\n",
    "print(f'Filas: {my_data.shape[0]}')\n",
    "print(f'Columnas: {my_data.shape[1]}')"
   ]
  },
  {
   "cell_type": "markdown",
   "metadata": {},
   "source": [
    "<div class=\"alert alert-success\">   \n",
    "    \n",
    "3.  Encuentre la velocidad de viento mínima, máxima, el promedio  y la desviación estándar  en **considerando todos los municipios y  durante todos los días** . \n",
    "    \n",
    "</div> \n",
    "\n",
    " "
   ]
  },
  {
   "cell_type": "code",
   "execution_count": null,
   "metadata": {},
   "outputs": [],
   "source": []
  },
  {
   "cell_type": "markdown",
   "metadata": {},
   "source": [
    "<div class=\"alert alert-success\">   \n",
    "    \n",
    "4. Encuentre las velocidades de viento mínimas, máximas, promedios y las desviaciones estándar **en cada municipio durante todos los días**\n",
    "   \n",
    "</div> \n"
   ]
  },
  {
   "cell_type": "code",
   "execution_count": null,
   "metadata": {},
   "outputs": [],
   "source": []
  },
  {
   "cell_type": "markdown",
   "metadata": {},
   "source": [
    "<div class=\"alert alert-success\">   \n",
    "    \n",
    "5.  Encuentre el año, mes y día en que se registró la mayor velocidad del viento.    \n",
    "\n",
    "</div> "
   ]
  },
  {
   "cell_type": "code",
   "execution_count": null,
   "metadata": {},
   "outputs": [],
   "source": []
  },
  {
   "cell_type": "code",
   "execution_count": null,
   "metadata": {},
   "outputs": [],
   "source": []
  },
  {
   "cell_type": "code",
   "execution_count": null,
   "metadata": {},
   "outputs": [],
   "source": []
  },
  {
   "cell_type": "code",
   "execution_count": null,
   "metadata": {},
   "outputs": [],
   "source": []
  }
 ],
 "metadata": {
  "kernelspec": {
   "display_name": "data-science-coursework (3.13.7)",
   "language": "python",
   "name": "python3"
  },
  "language_info": {
   "codemirror_mode": {
    "name": "ipython",
    "version": 3
   },
   "file_extension": ".py",
   "mimetype": "text/x-python",
   "name": "python",
   "nbconvert_exporter": "python",
   "pygments_lexer": "ipython3",
   "version": "3.13.7"
  }
 },
 "nbformat": 4,
 "nbformat_minor": 4
}
