{
 "cells": [
  {
   "cell_type": "markdown",
   "id": "b8f819e1-78fa-46bf-839e-eb23010c8e5c",
   "metadata": {},
   "source": [
    "<!--Información del curso-->\n",
    "<img align=\"left\" style=\"padding-right:10px;\" src=\"figuras/banner_cd.png\">"
   ]
  },
  {
   "attachments": {},
   "cell_type": "markdown",
   "id": "a1753f5d-c0a8-4100-948d-394b36145b53",
   "metadata": {},
   "source": [
    "<center><h1 style=\"font-size:2em;color:#2467C0\"> Información de las sabanas del INE recolecta por el movimiento #YOSOY132 en la elección presidencial 2012  </h1></center>\n",
    "\n"
   ]
  },
  {
   "cell_type": "markdown",
   "id": "36af0f11-6b3a-414b-a625-5338ce634dea",
   "metadata": {},
   "source": [
    "<br>\n",
    "<table>\n",
    "<col width=\"650\">\n",
    "<col width=\"550\">\n",
    "<tr>\n",
    "<td><img src=\"figuras/contamos.png\" align=\"middle\" style=\"width:700px\"/></td>\n",
    "<td>\n",
    "    \n",
    "\n",
    "Durante las elecciones presidenciales del año 2012, el colectivo #YOSOY132 pidió a la ciudadanía enviar la foto de su sabana con los resultados de su casilla.\n",
    "\n",
    "    \n",
    "</td>\n",
    "</tr>\n",
    "</table>"
   ]
  },
  {
   "cell_type": "markdown",
   "id": "8a12c1af-2abe-4fcf-91d4-cfb9938bd64f",
   "metadata": {},
   "source": [
    "<div class=\"alert alert-success\">\n",
    "    \n",
    "**Ejericicio**\n",
    "* Hacer equipos de 3 o 4 integrantes.\n",
    "* Hacer un análisis de los datos del directorio SABANAS_ELECCION_2012 \n",
    "* Presentar los resultados obtenidos (enviar la presentación al profesor antes de comenzar la clase, junto con el código)\n",
    "* Responder a la pregunta ¿Son confiables los datos? (Justificar su respuesta)\n",
    "* Entregables por estudiantes: Presentación y archivo .ipynb\n",
    "</div>"
   ]
  },
  {
   "cell_type": "code",
   "execution_count": 46,
   "id": "f0e981e3-23fd-420e-93f8-54fceefd89de",
   "metadata": {},
   "outputs": [
    {
     "data": {
      "text/plain": [
       "\"print(data)\\nprint(data['sabanas'])\""
      ]
     },
     "execution_count": 46,
     "metadata": {},
     "output_type": "execute_result"
    }
   ],
   "source": [
    "import json\n",
    "\n",
    "with open('SABANAS_INE_ELECCION_2012/file_id-0.json') as file:\n",
    "    data = json.load(file)\n",
    "\n",
    "\"\"\"print(data)\n",
    "print(data['sabanas'])\"\"\""
   ]
  },
  {
   "cell_type": "code",
   "execution_count": 47,
   "id": "30878e55",
   "metadata": {},
   "outputs": [
    {
     "name": "stdout",
     "output_type": "stream",
     "text": [
      "['file_id-0.json', 'file_id-600.json', 'file_id-1200.json', 'file_id-1800.json', 'file_id-2400.json', 'file_id-3000.json', 'file_id-3600.json', 'file_id-4200.json', 'file_id-4800.json', 'file_id-5400.json', 'file_id-6000.json', 'file_id-6600.json', 'file_id-7200.json', 'file_id-7800.json', 'file_id-8400.json', 'file_id-9000.json', 'file_id-9600.json', 'file_id-10200.json', 'file_id-10800.json', 'file_id-11400.json', 'file_id-12000.json', 'file_id-12600.json', 'file_id-13200.json', 'file_id-13800.json', 'file_id-14400.json', 'file_id-15000.json', 'file_id-15600.json', 'file_id-16200.json', 'file_id-16800.json', 'file_id-17400.json', 'file_id-18000.json', 'file_id-18600.json', 'file_id-19200.json', 'file_id-19800.json', 'file_id-20400.json', 'file_id-21000.json', 'file_id-21600.json', 'file_id-22200.json', 'file_id-22800.json', 'file_id-23400.json', 'file_id-24000.json', 'file_id-24600.json', 'file_id-25200.json', 'file_id-25800.json', 'file_id-26400.json', 'file_id-27000.json']\n"
     ]
    }
   ],
   "source": [
    "with open('SABANAS_INE_ELECCION_2012/nombre_archivos.txt', \"r\") as file:\n",
    "    file_names: list = [line.strip() for line in file.readlines()]\n",
    "    file_names.reverse()\n",
    "\n",
    "print(file_names)"
   ]
  },
  {
   "cell_type": "code",
   "execution_count": 48,
   "id": "d698ab0e",
   "metadata": {},
   "outputs": [],
   "source": [
    "from collections import defaultdict\n",
    "data: dict = defaultdict()\n",
    "sabanas_id_list: list = []\n",
    "for name in file_names:\n",
    "    sabana_id: str = name.split(\"file_\")[1].split(\".json\")[0]\n",
    "    sabanas_id_list.append(sabana_id)\n",
    "    with open(f'SABANAS_INE_ELECCION_2012/{name}', \"r\") as file:\n",
    "        data[sabana_id] = json.load(file)"
   ]
  },
  {
   "cell_type": "code",
   "execution_count": 49,
   "id": "356c4da4",
   "metadata": {},
   "outputs": [
    {
     "name": "stdout",
     "output_type": "stream",
     "text": [
      "23000\n"
     ]
    }
   ],
   "source": [
    "#Total de registros\n",
    "total_registros = 0\n",
    "for id in sabanas_id_list:\n",
    "    total_registros += len(data[id][\"sabanas\"])\n",
    "\n",
    "print(total_registros)"
   ]
  },
  {
   "cell_type": "code",
   "execution_count": 50,
   "id": "74092043",
   "metadata": {},
   "outputs": [],
   "source": [
    "#Funcion para contar la cantidad de votos por partido\n",
    "\n",
    "def contador_votos(id: str) -> None:\n",
    "    votos_x_partido: dict = defaultdict()\n",
    "    for i in range(len(data[id][\"sabanas\"])):\n",
    "            pass"
   ]
  },
  {
   "cell_type": "code",
   "execution_count": 51,
   "id": "915bef62",
   "metadata": {},
   "outputs": [],
   "source": [
    "for id in sabanas_id_list:\n",
    "    contador_votos(id)"
   ]
  }
 ],
 "metadata": {
  "kernelspec": {
   "display_name": "data-science-coursework (3.13.7)",
   "language": "python",
   "name": "python3"
  },
  "language_info": {
   "codemirror_mode": {
    "name": "ipython",
    "version": 3
   },
   "file_extension": ".py",
   "mimetype": "text/x-python",
   "name": "python",
   "nbconvert_exporter": "python",
   "pygments_lexer": "ipython3",
   "version": "3.13.7"
  }
 },
 "nbformat": 4,
 "nbformat_minor": 5
}
